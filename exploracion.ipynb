{
 "cells": [
  {
   "cell_type": "markdown",
   "source": "# Pandas",
   "metadata": {
    "tags": [],
    "cell_id": "00000-dda62453-07bc-498f-99ec-4d0a0db8e0d4",
    "deepnote_cell_type": "markdown"
   }
  },
  {
   "cell_type": "markdown",
   "source": "## Series",
   "metadata": {
    "tags": [],
    "cell_id": "00001-01634210-5cd8-4044-80fc-b6b9b8c3cf05",
    "deepnote_cell_type": "markdown"
   }
  },
  {
   "cell_type": "code",
   "metadata": {
    "tags": [],
    "cell_id": "00000-33415882-ec5d-482f-8a9c-52c18b150dc9",
    "deepnote_to_be_reexecuted": false,
    "source_hash": "e7a677f4",
    "execution_start": 1630367540754,
    "execution_millis": 9,
    "deepnote_cell_type": "code"
   },
   "source": "import pandas as pd\nseries_test = pd.Series([100,200,300])\nseries_test",
   "execution_count": 1,
   "outputs": [
    {
     "output_type": "execute_result",
     "execution_count": 1,
     "data": {
      "text/plain": "0    100\n1    200\n2    300\ndtype: int64"
     },
     "metadata": {}
    }
   ]
  },
  {
   "cell_type": "code",
   "metadata": {
    "tags": [],
    "cell_id": "00003-0f7b2626-5611-4080-9196-7383959002bf",
    "deepnote_to_be_reexecuted": false,
    "source_hash": "c046c517",
    "execution_start": 1630367540755,
    "execution_millis": 8,
    "deepnote_cell_type": "code"
   },
   "source": "series_test2 = pd.Series({1999:47,2000:65,2001:99})\nseries_test2",
   "execution_count": 2,
   "outputs": [
    {
     "output_type": "execute_result",
     "execution_count": 2,
     "data": {
      "text/plain": "1999    47\n2000    65\n2001    99\ndtype: int64"
     },
     "metadata": {}
    }
   ]
  },
  {
   "cell_type": "markdown",
   "source": "## DataFrames",
   "metadata": {
    "tags": [],
    "cell_id": "00004-28216a03-da03-4625-a5ac-d29f0d1273ae",
    "deepnote_cell_type": "markdown"
   }
  },
  {
   "cell_type": "code",
   "metadata": {
    "tags": [],
    "cell_id": "00005-4ea23ef5-a1ef-4ab4-8401-aa513b21fb6a",
    "deepnote_to_be_reexecuted": false,
    "source_hash": "8dc6d692",
    "execution_start": 1630367540756,
    "execution_millis": 12,
    "deepnote_cell_type": "code"
   },
   "source": "frame_test = pd.DataFrame({\n    1999:[34,66,88],\n    2000:[11,222,44],\n    2001:[66,88,11]\n})\nframe_test",
   "execution_count": 3,
   "outputs": [
    {
     "output_type": "execute_result",
     "execution_count": 3,
     "data": {
      "application/vnd.deepnote.dataframe.v2+json": {
       "row_count": 3,
       "column_count": 3,
       "columns": [
        {
         "name": 1999,
         "dtype": "int64",
         "stats": {
          "unique_count": 3,
          "nan_count": 0,
          "min": "34",
          "max": "88",
          "histogram": [
           {
            "bin_start": 34,
            "bin_end": 39.4,
            "count": 1
           },
           {
            "bin_start": 39.4,
            "bin_end": 44.8,
            "count": 0
           },
           {
            "bin_start": 44.8,
            "bin_end": 50.2,
            "count": 0
           },
           {
            "bin_start": 50.2,
            "bin_end": 55.6,
            "count": 0
           },
           {
            "bin_start": 55.6,
            "bin_end": 61,
            "count": 0
           },
           {
            "bin_start": 61,
            "bin_end": 66.4,
            "count": 1
           },
           {
            "bin_start": 66.4,
            "bin_end": 71.80000000000001,
            "count": 0
           },
           {
            "bin_start": 71.80000000000001,
            "bin_end": 77.2,
            "count": 0
           },
           {
            "bin_start": 77.2,
            "bin_end": 82.6,
            "count": 0
           },
           {
            "bin_start": 82.6,
            "bin_end": 88,
            "count": 1
           }
          ]
         }
        },
        {
         "name": 2000,
         "dtype": "int64",
         "stats": {
          "unique_count": 3,
          "nan_count": 0,
          "min": "11",
          "max": "222",
          "histogram": [
           {
            "bin_start": 11,
            "bin_end": 32.1,
            "count": 1
           },
           {
            "bin_start": 32.1,
            "bin_end": 53.2,
            "count": 1
           },
           {
            "bin_start": 53.2,
            "bin_end": 74.30000000000001,
            "count": 0
           },
           {
            "bin_start": 74.30000000000001,
            "bin_end": 95.4,
            "count": 0
           },
           {
            "bin_start": 95.4,
            "bin_end": 116.5,
            "count": 0
           },
           {
            "bin_start": 116.5,
            "bin_end": 137.60000000000002,
            "count": 0
           },
           {
            "bin_start": 137.60000000000002,
            "bin_end": 158.70000000000002,
            "count": 0
           },
           {
            "bin_start": 158.70000000000002,
            "bin_end": 179.8,
            "count": 0
           },
           {
            "bin_start": 179.8,
            "bin_end": 200.9,
            "count": 0
           },
           {
            "bin_start": 200.9,
            "bin_end": 222,
            "count": 1
           }
          ]
         }
        },
        {
         "name": 2001,
         "dtype": "int64",
         "stats": {
          "unique_count": 3,
          "nan_count": 0,
          "min": "11",
          "max": "88",
          "histogram": [
           {
            "bin_start": 11,
            "bin_end": 18.7,
            "count": 1
           },
           {
            "bin_start": 18.7,
            "bin_end": 26.4,
            "count": 0
           },
           {
            "bin_start": 26.4,
            "bin_end": 34.1,
            "count": 0
           },
           {
            "bin_start": 34.1,
            "bin_end": 41.8,
            "count": 0
           },
           {
            "bin_start": 41.8,
            "bin_end": 49.5,
            "count": 0
           },
           {
            "bin_start": 49.5,
            "bin_end": 57.2,
            "count": 0
           },
           {
            "bin_start": 57.2,
            "bin_end": 64.9,
            "count": 0
           },
           {
            "bin_start": 64.9,
            "bin_end": 72.6,
            "count": 1
           },
           {
            "bin_start": 72.6,
            "bin_end": 80.3,
            "count": 0
           },
           {
            "bin_start": 80.3,
            "bin_end": 88,
            "count": 1
           }
          ]
         }
        },
        {
         "name": "_deepnote_index_column",
         "dtype": "int64"
        }
       ],
       "rows_top": [
        {
         "1999": 34,
         "2000": 11,
         "2001": 66,
         "_deepnote_index_column": 0
        },
        {
         "1999": 66,
         "2000": 222,
         "2001": 88,
         "_deepnote_index_column": 1
        },
        {
         "1999": 88,
         "2000": 44,
         "2001": 11,
         "_deepnote_index_column": 2
        }
       ],
       "rows_bottom": null
      },
      "text/plain": "   1999  2000  2001\n0    34    11    66\n1    66   222    88\n2    88    44    11",
      "text/html": "<div>\n<style scoped>\n    .dataframe tbody tr th:only-of-type {\n        vertical-align: middle;\n    }\n\n    .dataframe tbody tr th {\n        vertical-align: top;\n    }\n\n    .dataframe thead th {\n        text-align: right;\n    }\n</style>\n<table border=\"1\" class=\"dataframe\">\n  <thead>\n    <tr style=\"text-align: right;\">\n      <th></th>\n      <th>1999</th>\n      <th>2000</th>\n      <th>2001</th>\n    </tr>\n  </thead>\n  <tbody>\n    <tr>\n      <th>0</th>\n      <td>34</td>\n      <td>11</td>\n      <td>66</td>\n    </tr>\n    <tr>\n      <th>1</th>\n      <td>66</td>\n      <td>222</td>\n      <td>88</td>\n    </tr>\n    <tr>\n      <th>2</th>\n      <td>88</td>\n      <td>44</td>\n      <td>11</td>\n    </tr>\n  </tbody>\n</table>\n</div>"
     },
     "metadata": {}
    }
   ]
  },
  {
   "cell_type": "code",
   "metadata": {
    "tags": [],
    "cell_id": "00006-99b0cc61-496b-4eac-ae92-40eb09defd74",
    "deepnote_to_be_reexecuted": false,
    "source_hash": "ef720c08",
    "execution_start": 1630367540771,
    "execution_millis": 21,
    "deepnote_cell_type": "code"
   },
   "source": "frame_test2 = pd.DataFrame([\n    [34,66,88],[11,222,44],[66,88,11]],\n    columns=[199,2000,2001]\n)\nframe_test2",
   "execution_count": 4,
   "outputs": [
    {
     "output_type": "execute_result",
     "execution_count": 4,
     "data": {
      "application/vnd.deepnote.dataframe.v2+json": {
       "row_count": 3,
       "column_count": 3,
       "columns": [
        {
         "name": 199,
         "dtype": "int64",
         "stats": {
          "unique_count": 3,
          "nan_count": 0,
          "min": "11",
          "max": "66",
          "histogram": [
           {
            "bin_start": 11,
            "bin_end": 16.5,
            "count": 1
           },
           {
            "bin_start": 16.5,
            "bin_end": 22,
            "count": 0
           },
           {
            "bin_start": 22,
            "bin_end": 27.5,
            "count": 0
           },
           {
            "bin_start": 27.5,
            "bin_end": 33,
            "count": 0
           },
           {
            "bin_start": 33,
            "bin_end": 38.5,
            "count": 1
           },
           {
            "bin_start": 38.5,
            "bin_end": 44,
            "count": 0
           },
           {
            "bin_start": 44,
            "bin_end": 49.5,
            "count": 0
           },
           {
            "bin_start": 49.5,
            "bin_end": 55,
            "count": 0
           },
           {
            "bin_start": 55,
            "bin_end": 60.5,
            "count": 0
           },
           {
            "bin_start": 60.5,
            "bin_end": 66,
            "count": 1
           }
          ]
         }
        },
        {
         "name": 2000,
         "dtype": "int64",
         "stats": {
          "unique_count": 3,
          "nan_count": 0,
          "min": "66",
          "max": "222",
          "histogram": [
           {
            "bin_start": 66,
            "bin_end": 81.6,
            "count": 1
           },
           {
            "bin_start": 81.6,
            "bin_end": 97.2,
            "count": 1
           },
           {
            "bin_start": 97.2,
            "bin_end": 112.8,
            "count": 0
           },
           {
            "bin_start": 112.8,
            "bin_end": 128.4,
            "count": 0
           },
           {
            "bin_start": 128.4,
            "bin_end": 144,
            "count": 0
           },
           {
            "bin_start": 144,
            "bin_end": 159.6,
            "count": 0
           },
           {
            "bin_start": 159.6,
            "bin_end": 175.2,
            "count": 0
           },
           {
            "bin_start": 175.2,
            "bin_end": 190.8,
            "count": 0
           },
           {
            "bin_start": 190.8,
            "bin_end": 206.4,
            "count": 0
           },
           {
            "bin_start": 206.4,
            "bin_end": 222,
            "count": 1
           }
          ]
         }
        },
        {
         "name": 2001,
         "dtype": "int64",
         "stats": {
          "unique_count": 3,
          "nan_count": 0,
          "min": "11",
          "max": "88",
          "histogram": [
           {
            "bin_start": 11,
            "bin_end": 18.7,
            "count": 1
           },
           {
            "bin_start": 18.7,
            "bin_end": 26.4,
            "count": 0
           },
           {
            "bin_start": 26.4,
            "bin_end": 34.1,
            "count": 0
           },
           {
            "bin_start": 34.1,
            "bin_end": 41.8,
            "count": 0
           },
           {
            "bin_start": 41.8,
            "bin_end": 49.5,
            "count": 1
           },
           {
            "bin_start": 49.5,
            "bin_end": 57.2,
            "count": 0
           },
           {
            "bin_start": 57.2,
            "bin_end": 64.9,
            "count": 0
           },
           {
            "bin_start": 64.9,
            "bin_end": 72.6,
            "count": 0
           },
           {
            "bin_start": 72.6,
            "bin_end": 80.3,
            "count": 0
           },
           {
            "bin_start": 80.3,
            "bin_end": 88,
            "count": 1
           }
          ]
         }
        },
        {
         "name": "_deepnote_index_column",
         "dtype": "int64"
        }
       ],
       "rows_top": [
        {
         "199": 34,
         "2000": 66,
         "2001": 88,
         "_deepnote_index_column": 0
        },
        {
         "199": 11,
         "2000": 222,
         "2001": 44,
         "_deepnote_index_column": 1
        },
        {
         "199": 66,
         "2000": 88,
         "2001": 11,
         "_deepnote_index_column": 2
        }
       ],
       "rows_bottom": null
      },
      "text/plain": "   199   2000  2001\n0    34    66    88\n1    11   222    44\n2    66    88    11",
      "text/html": "<div>\n<style scoped>\n    .dataframe tbody tr th:only-of-type {\n        vertical-align: middle;\n    }\n\n    .dataframe tbody tr th {\n        vertical-align: top;\n    }\n\n    .dataframe thead th {\n        text-align: right;\n    }\n</style>\n<table border=\"1\" class=\"dataframe\">\n  <thead>\n    <tr style=\"text-align: right;\">\n      <th></th>\n      <th>199</th>\n      <th>2000</th>\n      <th>2001</th>\n    </tr>\n  </thead>\n  <tbody>\n    <tr>\n      <th>0</th>\n      <td>34</td>\n      <td>66</td>\n      <td>88</td>\n    </tr>\n    <tr>\n      <th>1</th>\n      <td>11</td>\n      <td>222</td>\n      <td>44</td>\n    </tr>\n    <tr>\n      <th>2</th>\n      <td>66</td>\n      <td>88</td>\n      <td>11</td>\n    </tr>\n  </tbody>\n</table>\n</div>"
     },
     "metadata": {}
    }
   ]
  },
  {
   "cell_type": "markdown",
   "source": "## Read Data",
   "metadata": {
    "tags": [],
    "cell_id": "00007-a0d09f0f-295d-4d6c-9078-3be6bc75b79e",
    "deepnote_cell_type": "markdown"
   }
  },
  {
   "cell_type": "code",
   "metadata": {
    "tags": [],
    "cell_id": "00008-60e91ea1-af7d-40d0-9a1f-f109297cd917",
    "deepnote_to_be_reexecuted": false,
    "source_hash": "ceb3347a",
    "execution_start": 1630367540788,
    "execution_millis": 31,
    "deepnote_cell_type": "code"
   },
   "source": "el_pais = pd.read_csv('./news/elpais_2021_08_26_articles.csv')\nel_universal = pd.read_csv('./news/eluniversal_2020_06_03_articles.csv')\nel_pais.head(4)",
   "execution_count": 5,
   "outputs": [
    {
     "output_type": "execute_result",
     "execution_count": 5,
     "data": {
      "application/vnd.deepnote.dataframe.v2+json": {
       "row_count": 4,
       "column_count": 3,
       "columns": [
        {
         "name": "body",
         "dtype": "object",
         "stats": {
          "unique_count": 4,
          "nan_count": 0,
          "categories": [
           {
            "name": "Monseñor Vicente, fray Lorrane, padre Júlio, fray José Hélio, padre Lino, padre Leonardo. No pueden quedarse solamente dentro de los muros de la Iglesia. En nombre de Dios, llevan el evangelio a los más pobres y oprimidos. Reparten alimentos y acogen a personas en situación de vulnerabilidad. Su fe trasciende los sacramentos y se convierte en denuncia: contra las desigualdades, los desastres medioambientales, el derecho a la vivienda o la inclusión de las minorías. Son sacerdotes, frailes y obispos impulsados por la Iglesia que el papa Francisco intenta fortalecer desde el Vaticano, una corriente más progresista, cercana a las comunidades, forjada en los principios de la Teología de la Liberación y latinoamericana.",
            "count": 1
           },
           {
            "name": "Antes del sexto informe del IPCC que se acaba de publicar, los expertos del cambio climático trataban de mostrarse cautos para no alentar el miedo e incurrir en el tan denostado catastrofismo. Pues justo en la última semana de julio de este año, The Economist se despachaba con el titular No safe place [”ningún lugar seguro”] en portada y editorial: ningún sitio se salvará del rigor climático en la perspectiva más que posible de los tres grados de incremento de temperatura en este siglo.",
            "count": 1
           },
           {
            "name": "2 others",
            "count": 2
           }
          ]
         }
        },
        {
         "name": "title",
         "dtype": "object",
         "stats": {
          "unique_count": 4,
          "nan_count": 0,
          "categories": [
           {
            "name": "En el nombre del padre",
            "count": 1
           },
           {
            "name": "¿Ningún lugar a salvo?",
            "count": 1
           },
           {
            "name": "2 others",
            "count": 2
           }
          ]
         }
        },
        {
         "name": "url",
         "dtype": "object",
         "stats": {
          "unique_count": 4,
          "nan_count": 0,
          "categories": [
           {
            "name": "https://elpais.com/internacional/2021-08-23/en-el-nombre-del-padre.html",
            "count": 1
           },
           {
            "name": "https://elpais.com/opinion/2021-08-25/ningun-lugar-a-salvo.html",
            "count": 1
           },
           {
            "name": "2 others",
            "count": 2
           }
          ]
         }
        },
        {
         "name": "_deepnote_index_column",
         "dtype": "int64"
        }
       ],
       "rows_top": [
        {
         "body": "Monseñor Vicente, fray Lorrane, padre Júlio, fray José Hélio, padre Lino, padre Leonardo. No pueden…",
         "title": "En el nombre del padre",
         "url": "https://elpais.com/internacional/2021-08-23/en-el-nombre-del-padre.html",
         "_deepnote_index_column": 0
        },
        {
         "body": "Antes del sexto informe del IPCC que se acaba de publicar, los expertos del cambio climático tratab…",
         "title": "¿Ningún lugar a salvo?",
         "url": "https://elpais.com/opinion/2021-08-25/ningun-lugar-a-salvo.html",
         "_deepnote_index_column": 1
        },
        {
         "body": "Casi tres décadas después de su muerte, la arquitecta Lina Bo Bardi (Roma, 1914 – São Paulo, 1992) …",
         "title": "La fábrica de São Paulo convertida en arte por Lina Bo Bardi",
         "url": "https://elpais.com/cultura/2021-08-25/la-fabrica-de-sao-paulo-convertida-en-arte-por-lina-bo-bardi.…",
         "_deepnote_index_column": 2
        },
        {
         "body": "María Clemente (Ciudad de México, 1985) llega con unos tacones y es altísima, morena, de risa fácil…",
         "title": "María Clemente, primera diputada trans en el Congreso mexicano: “Acabamos de romper un techo de cri…",
         "url": "https://elpais.com/mexico/2021-08-25/maria-clemente-primera-diputada-trans-en-el-congreso-mexicano-…",
         "_deepnote_index_column": 3
        }
       ],
       "rows_bottom": null
      },
      "text/plain": "                                                body  \\\n0  Monseñor Vicente, fray Lorrane, padre Júlio, f...   \n1  Antes del sexto informe del IPCC que se acaba ...   \n2  Casi tres décadas después de su muerte, la arq...   \n3  María Clemente (Ciudad de México, 1985) llega ...   \n\n                                               title  \\\n0                             En el nombre del padre   \n1                             ¿Ningún lugar a salvo?   \n2  La fábrica de São Paulo convertida en arte por...   \n3  María Clemente, primera diputada trans en el C...   \n\n                                                 url  \n0  https://elpais.com/internacional/2021-08-23/en...  \n1  https://elpais.com/opinion/2021-08-25/ningun-l...  \n2  https://elpais.com/cultura/2021-08-25/la-fabri...  \n3  https://elpais.com/mexico/2021-08-25/maria-cle...  ",
      "text/html": "<div>\n<style scoped>\n    .dataframe tbody tr th:only-of-type {\n        vertical-align: middle;\n    }\n\n    .dataframe tbody tr th {\n        vertical-align: top;\n    }\n\n    .dataframe thead th {\n        text-align: right;\n    }\n</style>\n<table border=\"1\" class=\"dataframe\">\n  <thead>\n    <tr style=\"text-align: right;\">\n      <th></th>\n      <th>body</th>\n      <th>title</th>\n      <th>url</th>\n    </tr>\n  </thead>\n  <tbody>\n    <tr>\n      <th>0</th>\n      <td>Monseñor Vicente, fray Lorrane, padre Júlio, f...</td>\n      <td>En el nombre del padre</td>\n      <td>https://elpais.com/internacional/2021-08-23/en...</td>\n    </tr>\n    <tr>\n      <th>1</th>\n      <td>Antes del sexto informe del IPCC que se acaba ...</td>\n      <td>¿Ningún lugar a salvo?</td>\n      <td>https://elpais.com/opinion/2021-08-25/ningun-l...</td>\n    </tr>\n    <tr>\n      <th>2</th>\n      <td>Casi tres décadas después de su muerte, la arq...</td>\n      <td>La fábrica de São Paulo convertida en arte por...</td>\n      <td>https://elpais.com/cultura/2021-08-25/la-fabri...</td>\n    </tr>\n    <tr>\n      <th>3</th>\n      <td>María Clemente (Ciudad de México, 1985) llega ...</td>\n      <td>María Clemente, primera diputada trans en el C...</td>\n      <td>https://elpais.com/mexico/2021-08-25/maria-cle...</td>\n    </tr>\n  </tbody>\n</table>\n</div>"
     },
     "metadata": {}
    }
   ]
  },
  {
   "cell_type": "markdown",
   "source": "## Index and Selection",
   "metadata": {
    "tags": [],
    "cell_id": "00009-e2649058-fba5-428a-a4ff-1a04fd85a4e4",
    "deepnote_cell_type": "markdown"
   }
  },
  {
   "cell_type": "markdown",
   "source": "### Dictionary Like",
   "metadata": {
    "tags": [],
    "cell_id": "00010-c0183508-006e-4786-8aa3-8e19edaa7905",
    "deepnote_cell_type": "markdown"
   }
  },
  {
   "cell_type": "code",
   "metadata": {
    "tags": [],
    "cell_id": "00009-265296ba-ad2f-443e-9713-0277e322c8c6",
    "deepnote_to_be_reexecuted": false,
    "source_hash": "799b3723",
    "execution_start": 1630367540822,
    "execution_millis": 14,
    "deepnote_cell_type": "code"
   },
   "source": "el_pais['title']",
   "execution_count": 6,
   "outputs": [
    {
     "output_type": "execute_result",
     "execution_count": 6,
     "data": {
      "text/plain": "0                                En el nombre del padre\n1                                ¿Ningún lugar a salvo?\n2     La fábrica de São Paulo convertida en arte por...\n3     María Clemente, primera diputada trans en el C...\n4     “Tienen miedo, los zurdos tienen miedo”: el gr...\n                            ...                        \n74    Un probable caso del ‘síndrome de La Habana’ r...\n75    López Obrador busca cerrar las heridas del may...\n76                                 Una montaña de casas\n77    OnlyFans suspende su decisión de prohibir el s...\n78    Alicia Vikander y Michael Fassbender ahora son...\nName: title, Length: 79, dtype: object"
     },
     "metadata": {}
    }
   ]
  },
  {
   "cell_type": "code",
   "metadata": {
    "tags": [],
    "cell_id": "00012-c4f93749-370c-484d-8611-7bb3c0d0d450",
    "deepnote_to_be_reexecuted": false,
    "source_hash": "fe826aa6",
    "execution_start": 1630367540832,
    "execution_millis": 18,
    "deepnote_cell_type": "code"
   },
   "source": "el_pais[['title','body']]",
   "execution_count": 7,
   "outputs": [
    {
     "output_type": "execute_result",
     "execution_count": 7,
     "data": {
      "application/vnd.deepnote.dataframe.v2+json": {
       "row_count": 79,
       "column_count": 2,
       "columns": [
        {
         "name": "title",
         "dtype": "object",
         "stats": {
          "unique_count": 79,
          "nan_count": 0,
          "categories": [
           {
            "name": "En el nombre del padre",
            "count": 1
           },
           {
            "name": "¿Ningún lugar a salvo?",
            "count": 1
           },
           {
            "name": "77 others",
            "count": 77
           }
          ]
         }
        },
        {
         "name": "body",
         "dtype": "object",
         "stats": {
          "unique_count": 78,
          "nan_count": 0,
          "categories": [
           {
            "name": "Nota a los lectores: EL PAÍS ofrece en abierto todo el contenido de la sección Planeta Futuro por su aportación informativa diaria y global sobre la Agenda 2030. Si quieres apoyar nuestro periodismo, suscríbete aquí.",
            "count": 2
           },
           {
            "name": "Monseñor Vicente, fray Lorrane, padre Júlio, fray José Hélio, padre Lino, padre Leonardo. No pueden quedarse solamente dentro de los muros de la Iglesia. En nombre de Dios, llevan el evangelio a los más pobres y oprimidos. Reparten alimentos y acogen a personas en situación de vulnerabilidad. Su fe trasciende los sacramentos y se convierte en denuncia: contra las desigualdades, los desastres medioambientales, el derecho a la vivienda o la inclusión de las minorías. Son sacerdotes, frailes y obispos impulsados por la Iglesia que el papa Francisco intenta fortalecer desde el Vaticano, una corriente más progresista, cercana a las comunidades, forjada en los principios de la Teología de la Liberación y latinoamericana.",
            "count": 1
           },
           {
            "name": "76 others",
            "count": 76
           }
          ]
         }
        },
        {
         "name": "_deepnote_index_column",
         "dtype": "int64"
        }
       ],
       "rows_top": [
        {
         "title": "En el nombre del padre",
         "body": "Monseñor Vicente, fray Lorrane, padre Júlio, fray José Hélio, padre Lino, padre Leonardo. No pueden…",
         "_deepnote_index_column": 0
        },
        {
         "title": "¿Ningún lugar a salvo?",
         "body": "Antes del sexto informe del IPCC que se acaba de publicar, los expertos del cambio climático tratab…",
         "_deepnote_index_column": 1
        },
        {
         "title": "La fábrica de São Paulo convertida en arte por Lina Bo Bardi",
         "body": "Casi tres décadas después de su muerte, la arquitecta Lina Bo Bardi (Roma, 1914 – São Paulo, 1992) …",
         "_deepnote_index_column": 2
        },
        {
         "title": "María Clemente, primera diputada trans en el Congreso mexicano: “Acabamos de romper un techo de cri…",
         "body": "María Clemente (Ciudad de México, 1985) llega con unos tacones y es altísima, morena, de risa fácil…",
         "_deepnote_index_column": 3
        },
        {
         "title": "“Tienen miedo, los zurdos tienen miedo”: el grito de guerra de los “libertarios” argentinos",
         "body": "Javier Milei (Buenos Aires, 50 años) lleva el pelo negro ensortijado. Dice que para secarlo después…",
         "_deepnote_index_column": 4
        },
        {
         "title": "What should be done with the corpses of climbers in the Himalayas?",
         "body": "The bodies of three climbers – Ali Sapdara from Pakistan, Icelander John Snorri and Chilean Juan Pa…",
         "_deepnote_index_column": 5
        },
        {
         "title": "El exquisito criminal Raymond Reddington",
         "body": "Cuando se anuncia que una serie estrenará su novena temporada está claro que goza del aprecio popul…",
         "_deepnote_index_column": 6
        },
        {
         "title": "Un barrio de Nairobi busca el favor del juez para salvar su centro deportivo",
         "body": "Nota a los lectores: EL PAÍS ofrece en abierto todo el contenido de la sección Planeta Futuro por s…",
         "_deepnote_index_column": 7
        },
        {
         "title": "La Fiscalía de México acusa a Ricardo Anaya de recibir sobornos para la aprobación de la reforma en…",
         "body": "El Gobierno de México cierra el cerco sobre el líder de la oposición Ricardo Anaya. Este miércoles …",
         "_deepnote_index_column": 8
        },
        {
         "title": "Ortega recrudece la persecución de la familia Chamorro y amplía las acusaciones de supuesto lavado …",
         "body": "Casi tres meses después que la Fiscalía del gobierno de Daniel Ortega y Rosario Murillo imputara a …",
         "_deepnote_index_column": 9
        },
        {
         "title": "Una invasión de carpinchos agita la guerra de clases en Argentina",
         "body": "Hace poco más de 20 años, Nordelta, una de las urbanizaciones cerradas más exclusivas de Argentina,…",
         "_deepnote_index_column": 10
        },
        {
         "title": "Hay razones para criticar, no esta",
         "body": "Andrés Manuel López Obrador no es un hombre para ser definido con un adjetivo contundente; ni es un…",
         "_deepnote_index_column": 11
        },
        {
         "title": "Linux: 30 años del sistema operativo que rompió todos los secretos",
         "body": "Un correo electrónico o algo similar, quizás un foro ―porque hace 30 años estos servicios poco se p…",
         "_deepnote_index_column": 12
        },
        {
         "title": "“¿Otra vez una pared de ladrillo?”: Las imágenes que más de 200 fotógrafos no querrían ver nunca más",
         "body": "No le resultó fácil a Jason Fulford conseguir que los más de 200 fotógrafos que aparecen en su libr…",
         "_deepnote_index_column": 13
        },
        {
         "title": "Jordi Gracia, subdirector de Opinión de EL PAÍS",
         "body": "La directora de EL PAÍS, Pepa Bueno, ha nombrado a Jordi Gracia subdirector de Opinión. Gracia (Bar…",
         "_deepnote_index_column": 14
        },
        {
         "title": "Detenido un empresario de Bizkaia que imponía maratones de trabajo de hasta 26 horas a cambio de ci…",
         "body": "Llegaban a trabajar hasta 26 horas seguidas en jornadas que el empresario bautizó como “maratones”,…",
         "_deepnote_index_column": 15
        },
        {
         "title": "Vídeo | ¿Cómo es posible que hayan vuelto los talibanes?",
         "body": "Los talibanes han tomado el palacio presidencial de Kabul 20 años después de ser expulsados del pod…",
         "_deepnote_index_column": 16
        },
        {
         "title": "“Una educación emocional apta ofrece a nuestros hijos la posibilidad de desarrollar valores como el…",
         "body": "La adolescencia trascurre en casi la mayoría de las familias con conflictos, negociaciones y preocu…",
         "_deepnote_index_column": 17
        },
        {
         "title": "The mystery of sharks that are turning up dead, ‘stabbed’ by swordfish",
         "body": "Last week, the sighting of a blue shark forced the evacuation of a beach in Benidorm, eastern Spain…",
         "_deepnote_index_column": 18
        },
        {
         "title": "En busca de Josquin des Prez",
         "body": "No sabemos dónde nació, ni cuándo, la abrupta ausencia de referencias documentales surca su biograf…",
         "_deepnote_index_column": 19
        },
        {
         "title": "Ribera y López Miras escenifican un acercamiento, pero persisten las diferencias sobre cómo salvar …",
         "body": "La ministra de Transición Ecológica, Teresa Ribera, y el presidente de Murcia, Fernando López Miras…",
         "_deepnote_index_column": 20
        },
        {
         "title": "Sánchez propondrá alternativas para la crisis de los menores de Ceuta al presidente de la ciudad au…",
         "body": "Ante la situación generada por el auto judicial de este martes que mantiene paralizadas las repatri…",
         "_deepnote_index_column": 21
        },
        {
         "title": "Habitar tu nueva casa, más cerca de lo que imaginas",
         "body": "Al ser una de las grandes decisiones de nuestra vida y uno de los patrimonios más importantes en el…",
         "_deepnote_index_column": 22
        },
        {
         "title": "Merkel asegura que Alemania tratará de seguir evacuando afganos después del 31 de agosto",
         "body": "Alemania quiere seguir evacuando civiles de Afganistán después de la salida del Ejército estadounid…",
         "_deepnote_index_column": 23
        },
        {
         "title": "El peligro de Memphis Depay",
         "body": "Memphis Depay, el futbolista de 27 años que se presentó en el Camp Nou con un regate a Le Normand e…",
         "_deepnote_index_column": 24
        },
        {
         "title": "Las inundaciones causan al menos 16 muertos y dejan 35.000 afectados en Venezuela",
         "body": "Los aguaceros torrenciales de estos días han producido estragos en algunas zonas de Venezuela, part…",
         "_deepnote_index_column": 25
        },
        {
         "title": "Así es el ‘efecto Lázaro’: especies que resurgen tras un siglo desaparecidas",
         "body": "La última vez que se avistó un ratón de Gould (Pseudomys gouldii) fue en 1895. Desde entonces, este…",
         "_deepnote_index_column": 26
        },
        {
         "title": "El arte del hombre-perro",
         "body": "El secreto de que Marcel Duchamp sea el centro del canon alternativo del arte desde hace casi un si…",
         "_deepnote_index_column": 27
        },
        {
         "title": "Las minas españolas resucitan",
         "body": "Los ingredientes que dan vida a las grandes revoluciones tecnológicas, en ocasiones, están a la vue…",
         "_deepnote_index_column": 28
        },
        {
         "title": "Jens Stoltenberg: “Nuestra misión era proteger a Estados Unidos, no a Afganistán, y lo hemos conseg…",
         "body": "A Jens Stoltenberg (Oslo, 62 años) le ha tocado la amarga tarea de estar al frente de la OTAN duran…",
         "_deepnote_index_column": 29
        },
        {
         "title": "Cisma por la cesión de los internacionales sudamericanos ",
         "body": "El pasado 7 de agosto, la FIFA y la Confederación Sudamericana de Fútbol (Conmebol) comunicaron que…",
         "_deepnote_index_column": 30
        },
        {
         "title": "‘¿Me oyes?’, tres guerreras que no claudican en el lado desfavorecido del paraíso canadiense",
         "body": "Algunas series canadienses, como Schitt’s Creek, Workin’ Moms y Heartland, han tenido éxito en dive…",
         "_deepnote_index_column": 31
        },
        {
         "title": "Delta Airlines sancionará con 170 euros a los empleados que no se vacunen contra el coronavirus",
         "body": "Delta Air Lines se ha convertido en la primera gran empresa estadounidense en imponer multas a aque…",
         "_deepnote_index_column": 32
        },
        {
         "title": "El emocionante reencuentro de Charlène de Mónaco, el príncipe Alberto y sus hijos tras tres meses s…",
         "body": "Era una de las fotos más esperadas. Después de tres meses separados, desde el pasado mes de junio, …",
         "_deepnote_index_column": 33
        },
        {
         "title": "Jeong Kwan: la historia de la monja budista convertida en chef estrella de Netflix",
         "body": "La filosofía de Jeong Kwan (Yeongju, Corea del Sur, 64 años) tanto en la vida como en la cocina es …",
         "_deepnote_index_column": 34
        },
        {
         "title": "México recibe a 124 periodistas y sus familias tras ayudarlos a escapar de Afganistán",
         "body": "Periodistas afganos y sus familias han aterrizado este miércoles de madrugada en México después de …",
         "_deepnote_index_column": 35
        },
        {
         "title": "El consejo de administración de EL PAÍS ratifica el nombramiento de Pepa Bueno como directora",
         "body": "El consejo de administración de EL PAÍS ha ratificado este lunes por unanimidad el nombramiento de …",
         "_deepnote_index_column": 36
        },
        {
         "title": "Reconocer la fatiga",
         "body": "El vencejo común —nombrado ave del año por la entidad conservacionista SEO/BirdLife— se marcha de n…",
         "_deepnote_index_column": 37
        },
        {
         "title": "El bebé de la portada de ‘Nevermind’ demanda a Nirvana por pornografía infantil ",
         "body": "La imagen de Spencer Elden, entonces un bebé de apenas unos meses nadando desnudo en una piscina pe…",
         "_deepnote_index_column": 38
        },
        {
         "title": "El peligro de los retos virales de TikTok y sus límites legales",
         "body": "Limarse los dientes en casa, aplicarse crema solar de forma selectiva por la cara o echar agua en a…",
         "_deepnote_index_column": 39
        },
        {
         "title": "El Gobierno ya ha aprobado la primera parte de las pensiones. Ahora queda lo más difícil ",
         "body": "El Gobierno ratificó este martes en el Consejo de Ministros la primera parte de la reforma de las p…",
         "_deepnote_index_column": 40
        },
        {
         "title": "Los saqueos y los problemas de distribución lastran la llegada de ayuda humanitaria a Haití",
         "body": "Un camión con ayuda humanitaria de la organización irlandesa Concern está parado a la orilla de un …",
         "_deepnote_index_column": 41
        },
        {
         "title": "Charlie Watts estaba en los Rolling Stones pero no era un ‘rollingstone’",
         "body": "Todos los grupos, musicales o no, son el resultado de compromisos, pactos subrepticios, debilidades…",
         "_deepnote_index_column": 42
        },
        {
         "title": "La búsqueda del origen de la pandemia del coronavirus está “paralizada”, denuncian los científicos …",
         "body": "Un panel de científicos denuncia hoy en una carta publicada en Nature que la investigación internac…",
         "_deepnote_index_column": 43
        },
        {
         "title": "Cinco cosas que debes revisar cuando buscas una casa nueva",
         "body": "No todas las casas son iguales y no todos los compradores tienen los mismos deseos y objetivos de v…",
         "_deepnote_index_column": 44
        },
        {
         "title": "Catherine Wood, la estrella de las finanzas que cree en Dios y en sí misma",
         "body": "Inversores, gestores y periodistas económicos llevan meses hablando de ella. La mayoría, para alaba…",
         "_deepnote_index_column": 45
        },
        {
         "title": "Los talibanes quieren reanudar los vuelos comerciales desde Kabul a partir del 31 de agosto",
         "body": "Los talibanes insisten en recuperar el control del aeropuerto de Kabul para el 31 de agosto y anunc…",
         "_deepnote_index_column": 46
        },
        {
         "title": "Por un ecologismo menos ‘mono’ (y más cabreado)",
         "body": "Andreas Malm llegó a Barcelona en tren desde Suecia, donde nació en 1977, con parada en París, porq…",
         "_deepnote_index_column": 47
        },
        {
         "title": "El bajo costo de cerrar la brecha digital en América Latina",
         "body": "Tener una conexión de internet estable y continua se puede considerar ahora como algo de vida o mue…",
         "_deepnote_index_column": 48
        },
        {
         "title": "Leonardo: “Si Mbappé quiere irse, se va, pero con nuestras condiciones”",
         "body": "Un día después de conocerse la oferta de 160 millones de euros del Real Madrid al PSG por Kylian Mb…",
         "_deepnote_index_column": 49
        },
        {
         "title": "Por qué la caída de Kabul supone el mayor revés geopolítico del siglo  ",
         "body": "Los talibanes tenían razón. Ashraf Ghani presidía un régimen títere, organizado y dirigido por los …",
         "_deepnote_index_column": 50
        },
        {
         "title": "Lukaku agiganta al Chelsea",
         "body": "El fútbol a veces tiene sus certitudes y sobre el lazo trenzado entre Romeu Lukaku y el Chelsea exi…",
         "_deepnote_index_column": 51
        },
        {
         "title": "La economía de la nostalgia",
         "body": "“Ayer vivimos un momento muy especial como migrantes”, escribió esta semana la periodista venezolan…",
         "_deepnote_index_column": 52
        },
        {
         "title": "Marsella alerta de una espiral de violencia de bandas de drogas con víctimas cada vez más jóvenes",
         "body": "En la madrugada del sábado al domingo, una cámara captó cómo unos hombres armados metían por la fue…",
         "_deepnote_index_column": 53
        },
        {
         "title": "César Lucas: del Che en Madrid al desnudo de Marisol",
         "body": "A unos metros se oyen las olas remansar en la orilla, aún quedan horas para que en Marbella huela a…",
         "_deepnote_index_column": 54
        },
        {
         "title": "El luto infinito de las mujeres de Saqlauia",
         "body": "Nota a los lectores: EL PAÍS ofrece en abierto todo el contenido de la sección Planeta Futuro por s…",
         "_deepnote_index_column": 55
        },
        {
         "title": "Los huesos de fallecidos por la erupción del Vesubio cuentan lo que comían los antiguos romanos",
         "body": "La erupción del Vesubio en el 79 de esta era fue tan explosiva que atrapó a muchos de los habitante…",
         "_deepnote_index_column": 56
        },
        {
         "title": "Argelia rompe relaciones diplomáticas con Marruecos",
         "body": "El ministro de Exteriores argelino, Ramtane Lamamra, anunció este martes la ruptura de relaciones d…",
         "_deepnote_index_column": 57
        },
        {
         "title": "Pedir la cola",
         "body": "En el español de Venezuela, “pedir la cola” equivale a pedir un aventón.",
         "_deepnote_index_column": 58
        },
        {
         "title": "El museo que nació hace 100 años del duelo de otra pandemia",
         "body": "Cuando Dorothy Kosinski, directora de la Phillips Collection, se puso a trabajar en la conmemoració…",
         "_deepnote_index_column": 59
        },
        {
         "title": "Perú: confinados en la crisis equivocada",
         "body": "Las grandes crisis hunden despiadadamente el dedo en la llaga. Pero si algo positivo provocan sus e…",
         "_deepnote_index_column": 60
        },
        {
         "title": "La desesperación cunde en el aeropuerto de Kabul",
         "body": "El anuncio el lunes de que los talibanes no permitirán que las tropas internacionales controlen el …",
         "_deepnote_index_column": 61
        },
        {
         "title": "The conquest of Mexico under question, 500 years on",
         "body": "In his iconic 1995 book on the Haitian revolution, Silencing the Past, historian Michel-Rolph Troui…",
         "_deepnote_index_column": 62
        },
        {
         "title": "El diario de Fernando Fernán Gómez: soledad y Campari en Cinecittà",
         "body": "Recibo un telegrama de Cifesa en el que me dicen que me presente inmediatamente a la Cines. Es la p…",
         "_deepnote_index_column": 63
        },
        {
         "title": "Eruditos del atún rojo",
         "body": "Es complicado imaginar cómo de grande es un atún rojo cuando lo tienes en el plato. Es difícil visu…",
         "_deepnote_index_column": 64
        },
        {
         "title": "Ofensiva conservadora en los feudos republicanos de EE UU",
         "body": "El Estado de Arkansas ha aprobado este año una ley que prohíbe prácticamente cualquier aborto, salv…",
         "_deepnote_index_column": 65
        },
        {
         "title": "Adolfo Bioy Casares: convertir el sueño en realidad",
         "body": "El escritor argentino Julio Cortázar acababa de morir el 12 de febrero de 1984 con 70 años. Bioy Ca…",
         "_deepnote_index_column": 66
        },
        {
         "title": "“Es un edificio monstruoso”, “este ridículo aborto”: en defensa de la ‘arquitectura fea’",
         "body": "En febrero de 1887, casi medio centenar de escritores, pintores, escultores, arquitectos y otros “a…",
         "_deepnote_index_column": 67
        },
        {
         "title": "El factor ESG en la innovación de la movilidad global",
         "body": "Además de la optimización de su servicio, el replanteamiento de rutas y los desafíos en torno a un …",
         "_deepnote_index_column": 68
        },
        {
         "title": "El comité que investiga el ataque al Capitolio de EE UU se enfoca en el papel de Donald Trump",
         "body": "El comité de la Cámara de Representantes que investiga el asalto al Capitolio del pasado 6 de enero…",
         "_deepnote_index_column": 69
        },
        {
         "title": "El PP reclama abrir el Congreso para que comparezca la mitad del Gobierno",
         "body": "El PP tiene prisa. Desde las elecciones madrileñas del pasado mayo, pregona a los cuatro vientos el…",
         "_deepnote_index_column": 70
        },
        {
         "title": "Los grupos bolsonaristas borran de las redes cientos de bulos ante la presión judicial",
         "body": "Más de 1.500 vídeos han desaparecido de YouTube la última semana. El contenido, que se encontraba e…",
         "_deepnote_index_column": 71
        },
        {
         "title": "Machismo corporativo: fin de partida ",
         "body": "La reciente denuncia por discriminación sexual del Gobierno de California contra el gigante de vide…",
         "_deepnote_index_column": 72
        },
        {
         "title": "Jan Martínez Ahrens: “El periódico tiene la nacionalidad de sus lectores”",
         "body": "“Nos interesa América porque nos consideramos un periódico americano”, expresa rotundo el director …",
         "_deepnote_index_column": 73
        },
        {
         "title": "Un probable caso del ‘síndrome de La Habana’ retrasa la gira de Kamala Harris por el sudeste asiáti…",
         "body": "El viaje de Kamala Harris por el sudeste asiático ha sufrido un retraso de horas este martes por lo…",
         "_deepnote_index_column": 74
        },
        {
         "title": "López Obrador busca cerrar las heridas del mayor desastre de la minería en México",
         "body": "Hace siete años que Esperanza García no duerme tranquila. Su pueblo, San José de Baviácora, en Sono…",
         "_deepnote_index_column": 75
        },
        {
         "title": "Una montaña de casas",
         "body": "Panza de burro (Editorial Barrett) de Andrea Abreu es una novela tan llena de belleza como de durez…",
         "_deepnote_index_column": 76
        },
        {
         "title": "OnlyFans suspende su decisión de prohibir el sexo explícito a partir de octubre",
         "body": "La plataforma OnlyFans, que pone en contacto a creadores de contenido con potenciales suscriptores,…",
         "_deepnote_index_column": 77
        },
        {
         "title": "Alicia Vikander y Michael Fassbender ahora son una familia: reaparecen juntos y con su hijo en Ibiza",
         "body": "Alicia Vikander y Michael Fassbender son una de las parejas más discretas de Hollywood. Se conocier…",
         "_deepnote_index_column": 78
        }
       ],
       "rows_bottom": null
      },
      "text/plain": "                                                title  \\\n0                              En el nombre del padre   \n1                              ¿Ningún lugar a salvo?   \n2   La fábrica de São Paulo convertida en arte por...   \n3   María Clemente, primera diputada trans en el C...   \n4   “Tienen miedo, los zurdos tienen miedo”: el gr...   \n..                                                ...   \n74  Un probable caso del ‘síndrome de La Habana’ r...   \n75  López Obrador busca cerrar las heridas del may...   \n76                               Una montaña de casas   \n77  OnlyFans suspende su decisión de prohibir el s...   \n78  Alicia Vikander y Michael Fassbender ahora son...   \n\n                                                 body  \n0   Monseñor Vicente, fray Lorrane, padre Júlio, f...  \n1   Antes del sexto informe del IPCC que se acaba ...  \n2   Casi tres décadas después de su muerte, la arq...  \n3   María Clemente (Ciudad de México, 1985) llega ...  \n4   Javier Milei (Buenos Aires, 50 años) lleva el ...  \n..                                                ...  \n74  El viaje de Kamala Harris por el sudeste asiát...  \n75  Hace siete años que Esperanza García no duerme...  \n76  Panza de burro (Editorial Barrett) de Andrea A...  \n77  La plataforma OnlyFans, que pone en contacto a...  \n78  Alicia Vikander y Michael Fassbender son una d...  \n\n[79 rows x 2 columns]",
      "text/html": "<div>\n<style scoped>\n    .dataframe tbody tr th:only-of-type {\n        vertical-align: middle;\n    }\n\n    .dataframe tbody tr th {\n        vertical-align: top;\n    }\n\n    .dataframe thead th {\n        text-align: right;\n    }\n</style>\n<table border=\"1\" class=\"dataframe\">\n  <thead>\n    <tr style=\"text-align: right;\">\n      <th></th>\n      <th>title</th>\n      <th>body</th>\n    </tr>\n  </thead>\n  <tbody>\n    <tr>\n      <th>0</th>\n      <td>En el nombre del padre</td>\n      <td>Monseñor Vicente, fray Lorrane, padre Júlio, f...</td>\n    </tr>\n    <tr>\n      <th>1</th>\n      <td>¿Ningún lugar a salvo?</td>\n      <td>Antes del sexto informe del IPCC que se acaba ...</td>\n    </tr>\n    <tr>\n      <th>2</th>\n      <td>La fábrica de São Paulo convertida en arte por...</td>\n      <td>Casi tres décadas después de su muerte, la arq...</td>\n    </tr>\n    <tr>\n      <th>3</th>\n      <td>María Clemente, primera diputada trans en el C...</td>\n      <td>María Clemente (Ciudad de México, 1985) llega ...</td>\n    </tr>\n    <tr>\n      <th>4</th>\n      <td>“Tienen miedo, los zurdos tienen miedo”: el gr...</td>\n      <td>Javier Milei (Buenos Aires, 50 años) lleva el ...</td>\n    </tr>\n    <tr>\n      <th>...</th>\n      <td>...</td>\n      <td>...</td>\n    </tr>\n    <tr>\n      <th>74</th>\n      <td>Un probable caso del ‘síndrome de La Habana’ r...</td>\n      <td>El viaje de Kamala Harris por el sudeste asiát...</td>\n    </tr>\n    <tr>\n      <th>75</th>\n      <td>López Obrador busca cerrar las heridas del may...</td>\n      <td>Hace siete años que Esperanza García no duerme...</td>\n    </tr>\n    <tr>\n      <th>76</th>\n      <td>Una montaña de casas</td>\n      <td>Panza de burro (Editorial Barrett) de Andrea A...</td>\n    </tr>\n    <tr>\n      <th>77</th>\n      <td>OnlyFans suspende su decisión de prohibir el s...</td>\n      <td>La plataforma OnlyFans, que pone en contacto a...</td>\n    </tr>\n    <tr>\n      <th>78</th>\n      <td>Alicia Vikander y Michael Fassbender ahora son...</td>\n      <td>Alicia Vikander y Michael Fassbender son una d...</td>\n    </tr>\n  </tbody>\n</table>\n<p>79 rows × 2 columns</p>\n</div>"
     },
     "metadata": {}
    }
   ]
  },
  {
   "cell_type": "markdown",
   "source": "### Numpy Like",
   "metadata": {
    "tags": [],
    "cell_id": "00013-9936eed1-d413-4003-9a59-3fbccd8731f9",
    "deepnote_cell_type": "markdown"
   }
  },
  {
   "cell_type": "code",
   "metadata": {
    "tags": [],
    "cell_id": "00013-ca6c79e3-7677-47ff-a129-e89e2ca00f25",
    "deepnote_to_be_reexecuted": false,
    "source_hash": "98806ad0",
    "execution_start": 1630367540856,
    "execution_millis": 20,
    "deepnote_cell_type": "code"
   },
   "source": "el_pais.iloc[10:14]",
   "execution_count": 8,
   "outputs": [
    {
     "output_type": "execute_result",
     "execution_count": 8,
     "data": {
      "application/vnd.deepnote.dataframe.v2+json": {
       "row_count": 4,
       "column_count": 3,
       "columns": [
        {
         "name": "body",
         "dtype": "object",
         "stats": {
          "unique_count": 4,
          "nan_count": 0,
          "categories": [
           {
            "name": "Hace poco más de 20 años, Nordelta, una de las urbanizaciones cerradas más exclusivas de Argentina, era un humedal. La edificación de casas ajardinadas en esta zona del delta del Paraná en la que hoy viven cerca de 40.000 personas alteró el hábitat de numerosas especies autóctonas, entre ellas los carpinchos. Estos roedores, cuya población en el lugar ronda los 400 ejemplares, hoy buscan en el césped y las plantas decorativas el alimento que no encuentran en otro lado y han pasado de ser un motivo de preocupación para algunos vecinos a convertirse en el centro de un debate sobre el avance humano sobre los humedales y en una fuente inagotable de memes sobre la supuesta lucha entre los ricos y estos animales.",
            "count": 1
           },
           {
            "name": "Andrés Manuel López Obrador no es un hombre para ser definido con un adjetivo contundente; ni es una figura que pueda pintarse de cuerpo entero con algunos brochazos esquemáticos. Sea que se trate de elogiarlo o denostarlo, el presidente de México actúa de maneras tan contradictorias y singulares, que termina haciendo trizas los intentos de encajonarlo en una etiqueta fácil, buena o mala.",
            "count": 1
           },
           {
            "name": "2 others",
            "count": 2
           }
          ]
         }
        },
        {
         "name": "title",
         "dtype": "object",
         "stats": {
          "unique_count": 4,
          "nan_count": 0,
          "categories": [
           {
            "name": "Una invasión de carpinchos agita la guerra de clases en Argentina",
            "count": 1
           },
           {
            "name": "Hay razones para criticar, no esta",
            "count": 1
           },
           {
            "name": "2 others",
            "count": 2
           }
          ]
         }
        },
        {
         "name": "url",
         "dtype": "object",
         "stats": {
          "unique_count": 4,
          "nan_count": 0,
          "categories": [
           {
            "name": "https://elpais.com/sociedad/2021-08-25/una-invasion-de-carpinchos-agita-la-guerra-de-clases-en-argentina.html",
            "count": 1
           },
           {
            "name": "https://elpais.com/mexico/opinion/2021-08-25/hay-razones-para-criticar-no-esta.html",
            "count": 1
           },
           {
            "name": "2 others",
            "count": 2
           }
          ]
         }
        },
        {
         "name": "_deepnote_index_column",
         "dtype": "int64"
        }
       ],
       "rows_top": [
        {
         "body": "Hace poco más de 20 años, Nordelta, una de las urbanizaciones cerradas más exclusivas de Argentina,…",
         "title": "Una invasión de carpinchos agita la guerra de clases en Argentina",
         "url": "https://elpais.com/sociedad/2021-08-25/una-invasion-de-carpinchos-agita-la-guerra-de-clases-en-arge…",
         "_deepnote_index_column": 10
        },
        {
         "body": "Andrés Manuel López Obrador no es un hombre para ser definido con un adjetivo contundente; ni es un…",
         "title": "Hay razones para criticar, no esta",
         "url": "https://elpais.com/mexico/opinion/2021-08-25/hay-razones-para-criticar-no-esta.html",
         "_deepnote_index_column": 11
        },
        {
         "body": "Un correo electrónico o algo similar, quizás un foro ―porque hace 30 años estos servicios poco se p…",
         "title": "Linux: 30 años del sistema operativo que rompió todos los secretos",
         "url": "https://elpais.com/tecnologia/2021-08-25/linux-30-anos-del-sistema-operativo-que-rompio-todos-los-s…",
         "_deepnote_index_column": 12
        },
        {
         "body": "No le resultó fácil a Jason Fulford conseguir que los más de 200 fotógrafos que aparecen en su libr…",
         "title": "“¿Otra vez una pared de ladrillo?”: Las imágenes que más de 200 fotógrafos no querrían ver nunca más",
         "url": "https://elpais.com/icon/cultura/2021-08-23/otra-vez-una-pared-de-ladrillo-las-imagenes-que-mas-de-2…",
         "_deepnote_index_column": 13
        }
       ],
       "rows_bottom": null
      },
      "text/plain": "                                                 body  \\\n10  Hace poco más de 20 años, Nordelta, una de las...   \n11  Andrés Manuel López Obrador no es un hombre pa...   \n12  Un correo electrónico o algo similar, quizás u...   \n13  No le resultó fácil a Jason Fulford conseguir ...   \n\n                                                title  \\\n10  Una invasión de carpinchos agita la guerra de ...   \n11                 Hay razones para criticar, no esta   \n12  Linux: 30 años del sistema operativo que rompi...   \n13  “¿Otra vez una pared de ladrillo?”: Las imágen...   \n\n                                                  url  \n10  https://elpais.com/sociedad/2021-08-25/una-inv...  \n11  https://elpais.com/mexico/opinion/2021-08-25/h...  \n12  https://elpais.com/tecnologia/2021-08-25/linux...  \n13  https://elpais.com/icon/cultura/2021-08-23/otr...  ",
      "text/html": "<div>\n<style scoped>\n    .dataframe tbody tr th:only-of-type {\n        vertical-align: middle;\n    }\n\n    .dataframe tbody tr th {\n        vertical-align: top;\n    }\n\n    .dataframe thead th {\n        text-align: right;\n    }\n</style>\n<table border=\"1\" class=\"dataframe\">\n  <thead>\n    <tr style=\"text-align: right;\">\n      <th></th>\n      <th>body</th>\n      <th>title</th>\n      <th>url</th>\n    </tr>\n  </thead>\n  <tbody>\n    <tr>\n      <th>10</th>\n      <td>Hace poco más de 20 años, Nordelta, una de las...</td>\n      <td>Una invasión de carpinchos agita la guerra de ...</td>\n      <td>https://elpais.com/sociedad/2021-08-25/una-inv...</td>\n    </tr>\n    <tr>\n      <th>11</th>\n      <td>Andrés Manuel López Obrador no es un hombre pa...</td>\n      <td>Hay razones para criticar, no esta</td>\n      <td>https://elpais.com/mexico/opinion/2021-08-25/h...</td>\n    </tr>\n    <tr>\n      <th>12</th>\n      <td>Un correo electrónico o algo similar, quizás u...</td>\n      <td>Linux: 30 años del sistema operativo que rompi...</td>\n      <td>https://elpais.com/tecnologia/2021-08-25/linux...</td>\n    </tr>\n    <tr>\n      <th>13</th>\n      <td>No le resultó fácil a Jason Fulford conseguir ...</td>\n      <td>“¿Otra vez una pared de ladrillo?”: Las imágen...</td>\n      <td>https://elpais.com/icon/cultura/2021-08-23/otr...</td>\n    </tr>\n  </tbody>\n</table>\n</div>"
     },
     "metadata": {}
    }
   ]
  },
  {
   "cell_type": "code",
   "metadata": {
    "tags": [],
    "cell_id": "00015-64fa3adc-dca9-4396-b110-27c27102d0f5",
    "deepnote_to_be_reexecuted": false,
    "source_hash": "305a9f32",
    "execution_start": 1630367540881,
    "execution_millis": 8,
    "deepnote_cell_type": "code"
   },
   "source": "el_pais.iloc[55]['title']",
   "execution_count": 9,
   "outputs": [
    {
     "output_type": "execute_result",
     "execution_count": 9,
     "data": {
      "text/plain": "'El luto infinito de las mujeres de Saqlauia'"
     },
     "metadata": {}
    }
   ]
  },
  {
   "cell_type": "code",
   "metadata": {
    "tags": [],
    "cell_id": "00016-f8432025-8acc-4f72-8a14-5e384b581e75",
    "deepnote_to_be_reexecuted": false,
    "source_hash": "bcf05aef",
    "execution_start": 1630367540886,
    "execution_millis": 10,
    "deepnote_cell_type": "code"
   },
   "source": "el_pais.iloc[:5,0]",
   "execution_count": 10,
   "outputs": [
    {
     "output_type": "execute_result",
     "execution_count": 10,
     "data": {
      "text/plain": "0    Monseñor Vicente, fray Lorrane, padre Júlio, f...\n1    Antes del sexto informe del IPCC que se acaba ...\n2    Casi tres décadas después de su muerte, la arq...\n3    María Clemente (Ciudad de México, 1985) llega ...\n4    Javier Milei (Buenos Aires, 50 años) lleva el ...\nName: body, dtype: object"
     },
     "metadata": {}
    }
   ]
  },
  {
   "cell_type": "markdown",
   "source": "### Label Based",
   "metadata": {
    "tags": [],
    "cell_id": "00016-08efc554-7786-4ea1-9386-da5db52b4324",
    "deepnote_cell_type": "markdown"
   }
  },
  {
   "cell_type": "code",
   "metadata": {
    "tags": [],
    "cell_id": "00018-377f33ed-bafc-47ee-8b30-77746e7c6db8",
    "deepnote_to_be_reexecuted": false,
    "source_hash": "4d3fbf20",
    "execution_start": 1630367540906,
    "execution_millis": 9,
    "deepnote_cell_type": "code"
   },
   "source": "el_pais.loc[:,'body':'title']",
   "execution_count": 11,
   "outputs": [
    {
     "output_type": "execute_result",
     "execution_count": 11,
     "data": {
      "application/vnd.deepnote.dataframe.v2+json": {
       "row_count": 79,
       "column_count": 2,
       "columns": [
        {
         "name": "body",
         "dtype": "object",
         "stats": {
          "unique_count": 78,
          "nan_count": 0,
          "categories": [
           {
            "name": "Nota a los lectores: EL PAÍS ofrece en abierto todo el contenido de la sección Planeta Futuro por su aportación informativa diaria y global sobre la Agenda 2030. Si quieres apoyar nuestro periodismo, suscríbete aquí.",
            "count": 2
           },
           {
            "name": "Monseñor Vicente, fray Lorrane, padre Júlio, fray José Hélio, padre Lino, padre Leonardo. No pueden quedarse solamente dentro de los muros de la Iglesia. En nombre de Dios, llevan el evangelio a los más pobres y oprimidos. Reparten alimentos y acogen a personas en situación de vulnerabilidad. Su fe trasciende los sacramentos y se convierte en denuncia: contra las desigualdades, los desastres medioambientales, el derecho a la vivienda o la inclusión de las minorías. Son sacerdotes, frailes y obispos impulsados por la Iglesia que el papa Francisco intenta fortalecer desde el Vaticano, una corriente más progresista, cercana a las comunidades, forjada en los principios de la Teología de la Liberación y latinoamericana.",
            "count": 1
           },
           {
            "name": "76 others",
            "count": 76
           }
          ]
         }
        },
        {
         "name": "title",
         "dtype": "object",
         "stats": {
          "unique_count": 79,
          "nan_count": 0,
          "categories": [
           {
            "name": "En el nombre del padre",
            "count": 1
           },
           {
            "name": "¿Ningún lugar a salvo?",
            "count": 1
           },
           {
            "name": "77 others",
            "count": 77
           }
          ]
         }
        },
        {
         "name": "_deepnote_index_column",
         "dtype": "int64"
        }
       ],
       "rows_top": [
        {
         "body": "Monseñor Vicente, fray Lorrane, padre Júlio, fray José Hélio, padre Lino, padre Leonardo. No pueden…",
         "title": "En el nombre del padre",
         "_deepnote_index_column": 0
        },
        {
         "body": "Antes del sexto informe del IPCC que se acaba de publicar, los expertos del cambio climático tratab…",
         "title": "¿Ningún lugar a salvo?",
         "_deepnote_index_column": 1
        },
        {
         "body": "Casi tres décadas después de su muerte, la arquitecta Lina Bo Bardi (Roma, 1914 – São Paulo, 1992) …",
         "title": "La fábrica de São Paulo convertida en arte por Lina Bo Bardi",
         "_deepnote_index_column": 2
        },
        {
         "body": "María Clemente (Ciudad de México, 1985) llega con unos tacones y es altísima, morena, de risa fácil…",
         "title": "María Clemente, primera diputada trans en el Congreso mexicano: “Acabamos de romper un techo de cri…",
         "_deepnote_index_column": 3
        },
        {
         "body": "Javier Milei (Buenos Aires, 50 años) lleva el pelo negro ensortijado. Dice que para secarlo después…",
         "title": "“Tienen miedo, los zurdos tienen miedo”: el grito de guerra de los “libertarios” argentinos",
         "_deepnote_index_column": 4
        },
        {
         "body": "The bodies of three climbers – Ali Sapdara from Pakistan, Icelander John Snorri and Chilean Juan Pa…",
         "title": "What should be done with the corpses of climbers in the Himalayas?",
         "_deepnote_index_column": 5
        },
        {
         "body": "Cuando se anuncia que una serie estrenará su novena temporada está claro que goza del aprecio popul…",
         "title": "El exquisito criminal Raymond Reddington",
         "_deepnote_index_column": 6
        },
        {
         "body": "Nota a los lectores: EL PAÍS ofrece en abierto todo el contenido de la sección Planeta Futuro por s…",
         "title": "Un barrio de Nairobi busca el favor del juez para salvar su centro deportivo",
         "_deepnote_index_column": 7
        },
        {
         "body": "El Gobierno de México cierra el cerco sobre el líder de la oposición Ricardo Anaya. Este miércoles …",
         "title": "La Fiscalía de México acusa a Ricardo Anaya de recibir sobornos para la aprobación de la reforma en…",
         "_deepnote_index_column": 8
        },
        {
         "body": "Casi tres meses después que la Fiscalía del gobierno de Daniel Ortega y Rosario Murillo imputara a …",
         "title": "Ortega recrudece la persecución de la familia Chamorro y amplía las acusaciones de supuesto lavado …",
         "_deepnote_index_column": 9
        },
        {
         "body": "Hace poco más de 20 años, Nordelta, una de las urbanizaciones cerradas más exclusivas de Argentina,…",
         "title": "Una invasión de carpinchos agita la guerra de clases en Argentina",
         "_deepnote_index_column": 10
        },
        {
         "body": "Andrés Manuel López Obrador no es un hombre para ser definido con un adjetivo contundente; ni es un…",
         "title": "Hay razones para criticar, no esta",
         "_deepnote_index_column": 11
        },
        {
         "body": "Un correo electrónico o algo similar, quizás un foro ―porque hace 30 años estos servicios poco se p…",
         "title": "Linux: 30 años del sistema operativo que rompió todos los secretos",
         "_deepnote_index_column": 12
        },
        {
         "body": "No le resultó fácil a Jason Fulford conseguir que los más de 200 fotógrafos que aparecen en su libr…",
         "title": "“¿Otra vez una pared de ladrillo?”: Las imágenes que más de 200 fotógrafos no querrían ver nunca más",
         "_deepnote_index_column": 13
        },
        {
         "body": "La directora de EL PAÍS, Pepa Bueno, ha nombrado a Jordi Gracia subdirector de Opinión. Gracia (Bar…",
         "title": "Jordi Gracia, subdirector de Opinión de EL PAÍS",
         "_deepnote_index_column": 14
        },
        {
         "body": "Llegaban a trabajar hasta 26 horas seguidas en jornadas que el empresario bautizó como “maratones”,…",
         "title": "Detenido un empresario de Bizkaia que imponía maratones de trabajo de hasta 26 horas a cambio de ci…",
         "_deepnote_index_column": 15
        },
        {
         "body": "Los talibanes han tomado el palacio presidencial de Kabul 20 años después de ser expulsados del pod…",
         "title": "Vídeo | ¿Cómo es posible que hayan vuelto los talibanes?",
         "_deepnote_index_column": 16
        },
        {
         "body": "La adolescencia trascurre en casi la mayoría de las familias con conflictos, negociaciones y preocu…",
         "title": "“Una educación emocional apta ofrece a nuestros hijos la posibilidad de desarrollar valores como el…",
         "_deepnote_index_column": 17
        },
        {
         "body": "Last week, the sighting of a blue shark forced the evacuation of a beach in Benidorm, eastern Spain…",
         "title": "The mystery of sharks that are turning up dead, ‘stabbed’ by swordfish",
         "_deepnote_index_column": 18
        },
        {
         "body": "No sabemos dónde nació, ni cuándo, la abrupta ausencia de referencias documentales surca su biograf…",
         "title": "En busca de Josquin des Prez",
         "_deepnote_index_column": 19
        },
        {
         "body": "La ministra de Transición Ecológica, Teresa Ribera, y el presidente de Murcia, Fernando López Miras…",
         "title": "Ribera y López Miras escenifican un acercamiento, pero persisten las diferencias sobre cómo salvar …",
         "_deepnote_index_column": 20
        },
        {
         "body": "Ante la situación generada por el auto judicial de este martes que mantiene paralizadas las repatri…",
         "title": "Sánchez propondrá alternativas para la crisis de los menores de Ceuta al presidente de la ciudad au…",
         "_deepnote_index_column": 21
        },
        {
         "body": "Al ser una de las grandes decisiones de nuestra vida y uno de los patrimonios más importantes en el…",
         "title": "Habitar tu nueva casa, más cerca de lo que imaginas",
         "_deepnote_index_column": 22
        },
        {
         "body": "Alemania quiere seguir evacuando civiles de Afganistán después de la salida del Ejército estadounid…",
         "title": "Merkel asegura que Alemania tratará de seguir evacuando afganos después del 31 de agosto",
         "_deepnote_index_column": 23
        },
        {
         "body": "Memphis Depay, el futbolista de 27 años que se presentó en el Camp Nou con un regate a Le Normand e…",
         "title": "El peligro de Memphis Depay",
         "_deepnote_index_column": 24
        },
        {
         "body": "Los aguaceros torrenciales de estos días han producido estragos en algunas zonas de Venezuela, part…",
         "title": "Las inundaciones causan al menos 16 muertos y dejan 35.000 afectados en Venezuela",
         "_deepnote_index_column": 25
        },
        {
         "body": "La última vez que se avistó un ratón de Gould (Pseudomys gouldii) fue en 1895. Desde entonces, este…",
         "title": "Así es el ‘efecto Lázaro’: especies que resurgen tras un siglo desaparecidas",
         "_deepnote_index_column": 26
        },
        {
         "body": "El secreto de que Marcel Duchamp sea el centro del canon alternativo del arte desde hace casi un si…",
         "title": "El arte del hombre-perro",
         "_deepnote_index_column": 27
        },
        {
         "body": "Los ingredientes que dan vida a las grandes revoluciones tecnológicas, en ocasiones, están a la vue…",
         "title": "Las minas españolas resucitan",
         "_deepnote_index_column": 28
        },
        {
         "body": "A Jens Stoltenberg (Oslo, 62 años) le ha tocado la amarga tarea de estar al frente de la OTAN duran…",
         "title": "Jens Stoltenberg: “Nuestra misión era proteger a Estados Unidos, no a Afganistán, y lo hemos conseg…",
         "_deepnote_index_column": 29
        },
        {
         "body": "El pasado 7 de agosto, la FIFA y la Confederación Sudamericana de Fútbol (Conmebol) comunicaron que…",
         "title": "Cisma por la cesión de los internacionales sudamericanos ",
         "_deepnote_index_column": 30
        },
        {
         "body": "Algunas series canadienses, como Schitt’s Creek, Workin’ Moms y Heartland, han tenido éxito en dive…",
         "title": "‘¿Me oyes?’, tres guerreras que no claudican en el lado desfavorecido del paraíso canadiense",
         "_deepnote_index_column": 31
        },
        {
         "body": "Delta Air Lines se ha convertido en la primera gran empresa estadounidense en imponer multas a aque…",
         "title": "Delta Airlines sancionará con 170 euros a los empleados que no se vacunen contra el coronavirus",
         "_deepnote_index_column": 32
        },
        {
         "body": "Era una de las fotos más esperadas. Después de tres meses separados, desde el pasado mes de junio, …",
         "title": "El emocionante reencuentro de Charlène de Mónaco, el príncipe Alberto y sus hijos tras tres meses s…",
         "_deepnote_index_column": 33
        },
        {
         "body": "La filosofía de Jeong Kwan (Yeongju, Corea del Sur, 64 años) tanto en la vida como en la cocina es …",
         "title": "Jeong Kwan: la historia de la monja budista convertida en chef estrella de Netflix",
         "_deepnote_index_column": 34
        },
        {
         "body": "Periodistas afganos y sus familias han aterrizado este miércoles de madrugada en México después de …",
         "title": "México recibe a 124 periodistas y sus familias tras ayudarlos a escapar de Afganistán",
         "_deepnote_index_column": 35
        },
        {
         "body": "El consejo de administración de EL PAÍS ha ratificado este lunes por unanimidad el nombramiento de …",
         "title": "El consejo de administración de EL PAÍS ratifica el nombramiento de Pepa Bueno como directora",
         "_deepnote_index_column": 36
        },
        {
         "body": "El vencejo común —nombrado ave del año por la entidad conservacionista SEO/BirdLife— se marcha de n…",
         "title": "Reconocer la fatiga",
         "_deepnote_index_column": 37
        },
        {
         "body": "La imagen de Spencer Elden, entonces un bebé de apenas unos meses nadando desnudo en una piscina pe…",
         "title": "El bebé de la portada de ‘Nevermind’ demanda a Nirvana por pornografía infantil ",
         "_deepnote_index_column": 38
        },
        {
         "body": "Limarse los dientes en casa, aplicarse crema solar de forma selectiva por la cara o echar agua en a…",
         "title": "El peligro de los retos virales de TikTok y sus límites legales",
         "_deepnote_index_column": 39
        },
        {
         "body": "El Gobierno ratificó este martes en el Consejo de Ministros la primera parte de la reforma de las p…",
         "title": "El Gobierno ya ha aprobado la primera parte de las pensiones. Ahora queda lo más difícil ",
         "_deepnote_index_column": 40
        },
        {
         "body": "Un camión con ayuda humanitaria de la organización irlandesa Concern está parado a la orilla de un …",
         "title": "Los saqueos y los problemas de distribución lastran la llegada de ayuda humanitaria a Haití",
         "_deepnote_index_column": 41
        },
        {
         "body": "Todos los grupos, musicales o no, son el resultado de compromisos, pactos subrepticios, debilidades…",
         "title": "Charlie Watts estaba en los Rolling Stones pero no era un ‘rollingstone’",
         "_deepnote_index_column": 42
        },
        {
         "body": "Un panel de científicos denuncia hoy en una carta publicada en Nature que la investigación internac…",
         "title": "La búsqueda del origen de la pandemia del coronavirus está “paralizada”, denuncian los científicos …",
         "_deepnote_index_column": 43
        },
        {
         "body": "No todas las casas son iguales y no todos los compradores tienen los mismos deseos y objetivos de v…",
         "title": "Cinco cosas que debes revisar cuando buscas una casa nueva",
         "_deepnote_index_column": 44
        },
        {
         "body": "Inversores, gestores y periodistas económicos llevan meses hablando de ella. La mayoría, para alaba…",
         "title": "Catherine Wood, la estrella de las finanzas que cree en Dios y en sí misma",
         "_deepnote_index_column": 45
        },
        {
         "body": "Los talibanes insisten en recuperar el control del aeropuerto de Kabul para el 31 de agosto y anunc…",
         "title": "Los talibanes quieren reanudar los vuelos comerciales desde Kabul a partir del 31 de agosto",
         "_deepnote_index_column": 46
        },
        {
         "body": "Andreas Malm llegó a Barcelona en tren desde Suecia, donde nació en 1977, con parada en París, porq…",
         "title": "Por un ecologismo menos ‘mono’ (y más cabreado)",
         "_deepnote_index_column": 47
        },
        {
         "body": "Tener una conexión de internet estable y continua se puede considerar ahora como algo de vida o mue…",
         "title": "El bajo costo de cerrar la brecha digital en América Latina",
         "_deepnote_index_column": 48
        },
        {
         "body": "Un día después de conocerse la oferta de 160 millones de euros del Real Madrid al PSG por Kylian Mb…",
         "title": "Leonardo: “Si Mbappé quiere irse, se va, pero con nuestras condiciones”",
         "_deepnote_index_column": 49
        },
        {
         "body": "Los talibanes tenían razón. Ashraf Ghani presidía un régimen títere, organizado y dirigido por los …",
         "title": "Por qué la caída de Kabul supone el mayor revés geopolítico del siglo  ",
         "_deepnote_index_column": 50
        },
        {
         "body": "El fútbol a veces tiene sus certitudes y sobre el lazo trenzado entre Romeu Lukaku y el Chelsea exi…",
         "title": "Lukaku agiganta al Chelsea",
         "_deepnote_index_column": 51
        },
        {
         "body": "“Ayer vivimos un momento muy especial como migrantes”, escribió esta semana la periodista venezolan…",
         "title": "La economía de la nostalgia",
         "_deepnote_index_column": 52
        },
        {
         "body": "En la madrugada del sábado al domingo, una cámara captó cómo unos hombres armados metían por la fue…",
         "title": "Marsella alerta de una espiral de violencia de bandas de drogas con víctimas cada vez más jóvenes",
         "_deepnote_index_column": 53
        },
        {
         "body": "A unos metros se oyen las olas remansar en la orilla, aún quedan horas para que en Marbella huela a…",
         "title": "César Lucas: del Che en Madrid al desnudo de Marisol",
         "_deepnote_index_column": 54
        },
        {
         "body": "Nota a los lectores: EL PAÍS ofrece en abierto todo el contenido de la sección Planeta Futuro por s…",
         "title": "El luto infinito de las mujeres de Saqlauia",
         "_deepnote_index_column": 55
        },
        {
         "body": "La erupción del Vesubio en el 79 de esta era fue tan explosiva que atrapó a muchos de los habitante…",
         "title": "Los huesos de fallecidos por la erupción del Vesubio cuentan lo que comían los antiguos romanos",
         "_deepnote_index_column": 56
        },
        {
         "body": "El ministro de Exteriores argelino, Ramtane Lamamra, anunció este martes la ruptura de relaciones d…",
         "title": "Argelia rompe relaciones diplomáticas con Marruecos",
         "_deepnote_index_column": 57
        },
        {
         "body": "En el español de Venezuela, “pedir la cola” equivale a pedir un aventón.",
         "title": "Pedir la cola",
         "_deepnote_index_column": 58
        },
        {
         "body": "Cuando Dorothy Kosinski, directora de la Phillips Collection, se puso a trabajar en la conmemoració…",
         "title": "El museo que nació hace 100 años del duelo de otra pandemia",
         "_deepnote_index_column": 59
        },
        {
         "body": "Las grandes crisis hunden despiadadamente el dedo en la llaga. Pero si algo positivo provocan sus e…",
         "title": "Perú: confinados en la crisis equivocada",
         "_deepnote_index_column": 60
        },
        {
         "body": "El anuncio el lunes de que los talibanes no permitirán que las tropas internacionales controlen el …",
         "title": "La desesperación cunde en el aeropuerto de Kabul",
         "_deepnote_index_column": 61
        },
        {
         "body": "In his iconic 1995 book on the Haitian revolution, Silencing the Past, historian Michel-Rolph Troui…",
         "title": "The conquest of Mexico under question, 500 years on",
         "_deepnote_index_column": 62
        },
        {
         "body": "Recibo un telegrama de Cifesa en el que me dicen que me presente inmediatamente a la Cines. Es la p…",
         "title": "El diario de Fernando Fernán Gómez: soledad y Campari en Cinecittà",
         "_deepnote_index_column": 63
        },
        {
         "body": "Es complicado imaginar cómo de grande es un atún rojo cuando lo tienes en el plato. Es difícil visu…",
         "title": "Eruditos del atún rojo",
         "_deepnote_index_column": 64
        },
        {
         "body": "El Estado de Arkansas ha aprobado este año una ley que prohíbe prácticamente cualquier aborto, salv…",
         "title": "Ofensiva conservadora en los feudos republicanos de EE UU",
         "_deepnote_index_column": 65
        },
        {
         "body": "El escritor argentino Julio Cortázar acababa de morir el 12 de febrero de 1984 con 70 años. Bioy Ca…",
         "title": "Adolfo Bioy Casares: convertir el sueño en realidad",
         "_deepnote_index_column": 66
        },
        {
         "body": "En febrero de 1887, casi medio centenar de escritores, pintores, escultores, arquitectos y otros “a…",
         "title": "“Es un edificio monstruoso”, “este ridículo aborto”: en defensa de la ‘arquitectura fea’",
         "_deepnote_index_column": 67
        },
        {
         "body": "Además de la optimización de su servicio, el replanteamiento de rutas y los desafíos en torno a un …",
         "title": "El factor ESG en la innovación de la movilidad global",
         "_deepnote_index_column": 68
        },
        {
         "body": "El comité de la Cámara de Representantes que investiga el asalto al Capitolio del pasado 6 de enero…",
         "title": "El comité que investiga el ataque al Capitolio de EE UU se enfoca en el papel de Donald Trump",
         "_deepnote_index_column": 69
        },
        {
         "body": "El PP tiene prisa. Desde las elecciones madrileñas del pasado mayo, pregona a los cuatro vientos el…",
         "title": "El PP reclama abrir el Congreso para que comparezca la mitad del Gobierno",
         "_deepnote_index_column": 70
        },
        {
         "body": "Más de 1.500 vídeos han desaparecido de YouTube la última semana. El contenido, que se encontraba e…",
         "title": "Los grupos bolsonaristas borran de las redes cientos de bulos ante la presión judicial",
         "_deepnote_index_column": 71
        },
        {
         "body": "La reciente denuncia por discriminación sexual del Gobierno de California contra el gigante de vide…",
         "title": "Machismo corporativo: fin de partida ",
         "_deepnote_index_column": 72
        },
        {
         "body": "“Nos interesa América porque nos consideramos un periódico americano”, expresa rotundo el director …",
         "title": "Jan Martínez Ahrens: “El periódico tiene la nacionalidad de sus lectores”",
         "_deepnote_index_column": 73
        },
        {
         "body": "El viaje de Kamala Harris por el sudeste asiático ha sufrido un retraso de horas este martes por lo…",
         "title": "Un probable caso del ‘síndrome de La Habana’ retrasa la gira de Kamala Harris por el sudeste asiáti…",
         "_deepnote_index_column": 74
        },
        {
         "body": "Hace siete años que Esperanza García no duerme tranquila. Su pueblo, San José de Baviácora, en Sono…",
         "title": "López Obrador busca cerrar las heridas del mayor desastre de la minería en México",
         "_deepnote_index_column": 75
        },
        {
         "body": "Panza de burro (Editorial Barrett) de Andrea Abreu es una novela tan llena de belleza como de durez…",
         "title": "Una montaña de casas",
         "_deepnote_index_column": 76
        },
        {
         "body": "La plataforma OnlyFans, que pone en contacto a creadores de contenido con potenciales suscriptores,…",
         "title": "OnlyFans suspende su decisión de prohibir el sexo explícito a partir de octubre",
         "_deepnote_index_column": 77
        },
        {
         "body": "Alicia Vikander y Michael Fassbender son una de las parejas más discretas de Hollywood. Se conocier…",
         "title": "Alicia Vikander y Michael Fassbender ahora son una familia: reaparecen juntos y con su hijo en Ibiza",
         "_deepnote_index_column": 78
        }
       ],
       "rows_bottom": null
      },
      "text/plain": "                                                 body  \\\n0   Monseñor Vicente, fray Lorrane, padre Júlio, f...   \n1   Antes del sexto informe del IPCC que se acaba ...   \n2   Casi tres décadas después de su muerte, la arq...   \n3   María Clemente (Ciudad de México, 1985) llega ...   \n4   Javier Milei (Buenos Aires, 50 años) lleva el ...   \n..                                                ...   \n74  El viaje de Kamala Harris por el sudeste asiát...   \n75  Hace siete años que Esperanza García no duerme...   \n76  Panza de burro (Editorial Barrett) de Andrea A...   \n77  La plataforma OnlyFans, que pone en contacto a...   \n78  Alicia Vikander y Michael Fassbender son una d...   \n\n                                                title  \n0                              En el nombre del padre  \n1                              ¿Ningún lugar a salvo?  \n2   La fábrica de São Paulo convertida en arte por...  \n3   María Clemente, primera diputada trans en el C...  \n4   “Tienen miedo, los zurdos tienen miedo”: el gr...  \n..                                                ...  \n74  Un probable caso del ‘síndrome de La Habana’ r...  \n75  López Obrador busca cerrar las heridas del may...  \n76                               Una montaña de casas  \n77  OnlyFans suspende su decisión de prohibir el s...  \n78  Alicia Vikander y Michael Fassbender ahora son...  \n\n[79 rows x 2 columns]",
      "text/html": "<div>\n<style scoped>\n    .dataframe tbody tr th:only-of-type {\n        vertical-align: middle;\n    }\n\n    .dataframe tbody tr th {\n        vertical-align: top;\n    }\n\n    .dataframe thead th {\n        text-align: right;\n    }\n</style>\n<table border=\"1\" class=\"dataframe\">\n  <thead>\n    <tr style=\"text-align: right;\">\n      <th></th>\n      <th>body</th>\n      <th>title</th>\n    </tr>\n  </thead>\n  <tbody>\n    <tr>\n      <th>0</th>\n      <td>Monseñor Vicente, fray Lorrane, padre Júlio, f...</td>\n      <td>En el nombre del padre</td>\n    </tr>\n    <tr>\n      <th>1</th>\n      <td>Antes del sexto informe del IPCC que se acaba ...</td>\n      <td>¿Ningún lugar a salvo?</td>\n    </tr>\n    <tr>\n      <th>2</th>\n      <td>Casi tres décadas después de su muerte, la arq...</td>\n      <td>La fábrica de São Paulo convertida en arte por...</td>\n    </tr>\n    <tr>\n      <th>3</th>\n      <td>María Clemente (Ciudad de México, 1985) llega ...</td>\n      <td>María Clemente, primera diputada trans en el C...</td>\n    </tr>\n    <tr>\n      <th>4</th>\n      <td>Javier Milei (Buenos Aires, 50 años) lleva el ...</td>\n      <td>“Tienen miedo, los zurdos tienen miedo”: el gr...</td>\n    </tr>\n    <tr>\n      <th>...</th>\n      <td>...</td>\n      <td>...</td>\n    </tr>\n    <tr>\n      <th>74</th>\n      <td>El viaje de Kamala Harris por el sudeste asiát...</td>\n      <td>Un probable caso del ‘síndrome de La Habana’ r...</td>\n    </tr>\n    <tr>\n      <th>75</th>\n      <td>Hace siete años que Esperanza García no duerme...</td>\n      <td>López Obrador busca cerrar las heridas del may...</td>\n    </tr>\n    <tr>\n      <th>76</th>\n      <td>Panza de burro (Editorial Barrett) de Andrea A...</td>\n      <td>Una montaña de casas</td>\n    </tr>\n    <tr>\n      <th>77</th>\n      <td>La plataforma OnlyFans, que pone en contacto a...</td>\n      <td>OnlyFans suspende su decisión de prohibir el s...</td>\n    </tr>\n    <tr>\n      <th>78</th>\n      <td>Alicia Vikander y Michael Fassbender son una d...</td>\n      <td>Alicia Vikander y Michael Fassbender ahora son...</td>\n    </tr>\n  </tbody>\n</table>\n<p>79 rows × 2 columns</p>\n</div>"
     },
     "metadata": {}
    }
   ]
  },
  {
   "cell_type": "markdown",
   "source": "## Data wrangling",
   "metadata": {
    "tags": [],
    "cell_id": "00019-a728dc5d-acc3-4389-a6e3-7035208b3e20",
    "deepnote_cell_type": "markdown"
   }
  },
  {
   "cell_type": "markdown",
   "source": "Es una de las actividades más importantes de todos los profesionales de datos. Simplemente es limpiar, transformar y enriquecer el dataset para objetivos posteriores.\n\nPandas es una de las herramientas más poderosas para realizar este ““domado”” de datos. Recordemos que Pandas trae muchas de sus abstracciones del lenguaje R, pero nos otorga lo mejor de ambos mundos, por eso es tan popular.\n\nNos permite:\n- generar transformaciones con gran facilidad.\n- trabajar rápidamente con datasets grandes\n- detectar y reemplazar faltantes\n- agrupar y resumir nuestros datos\n- visualizar nuestros resultados.",
   "metadata": {
    "tags": [],
    "cell_id": "00020-9b83c134-fdf4-435f-b17e-6196b8e7e755",
    "deepnote_cell_type": "markdown"
   }
  },
  {
   "cell_type": "markdown",
   "source": "### 1. Añadir newspaper_uid al DataFrame",
   "metadata": {
    "tags": [],
    "cell_id": "00021-7cf3c3e1-c304-405d-8c3b-d2562334a767",
    "deepnote_cell_type": "markdown"
   }
  },
  {
   "cell_type": "code",
   "metadata": {
    "tags": [],
    "cell_id": "00021-b2bd1e14-3b61-41ab-aa37-1487af9475c7",
    "deepnote_to_be_reexecuted": false,
    "source_hash": "4c5b2ef3",
    "execution_start": 1630367540919,
    "execution_millis": 46,
    "deepnote_cell_type": "code"
   },
   "source": "el_universal['newspaper_uid'] = 'eluniversal'\nel_universal",
   "execution_count": 12,
   "outputs": [
    {
     "output_type": "execute_result",
     "execution_count": 12,
     "data": {
      "application/vnd.deepnote.dataframe.v2+json": {
       "row_count": 138,
       "column_count": 4,
       "columns": [
        {
         "name": "body",
         "dtype": "object",
         "stats": {
          "unique_count": 138,
          "nan_count": 0,
          "categories": [
           {
            "name": "\r\n\r\n\r\n\r\n    googletag.cmd.push(function() {\r\n      googletag.display(\"dfp-ad-top3_content\");\r\n    });\r\n  \r\n\r\n\r\nYanet García se consolidó como una de las consentidas en redes sociales por su labor en la pantalla chica, contrario a estas bellezas tapatías que primero saltaron del Instagram para retar a la famosa chica del clima regiomontana.\r\nSus millones de seguidores presumen que la influencer Yuliett Torres pose mejores curvas que la ex conductora de Hoy y de no ser por estar bloqueada por famosas de la farándula nacional la modelo ya estaría en programas de altos niveles de audiencia.\r\nParece que muy a pesar de Yanet, Yuliett se está abriendo camino en el espectáculo mexicano con intervenciones en videoclips de gruperos y por los patrocinadores que pagan jugosas sumas para ser su imagen.\r\nOtro factor a considerar son los videos subidos de tono que publica en sus redes sociales y que con el tiempo le permite aparecer como portadas en medios nacionales e incluso internacionales.\r\nMary Baltazar, modelo de Instagram con más de 2.8 millones de fans, es sin duda una tapatía que pone a temblar a Yanet García. \r\nAlgunas personas sostienen que la anatomía de la influencer es más natural y por ello debería de ser elegida como la más guapa.\r\nIncluso refieren que las fotos de Mary despiertan la envida de la regiomontana por que siempre luce espectacular y casi no se le hacen retoques.\r\nLa tapatía logró saltar de la comunidad virtual a las pasarelas, donde se mantiene como una de las modelos más solicitadas por anunciantes de nuestro país.\r\nEn las últimas semanas otra que se sumó a la disputa de la corona por la influencer con mejor retaguardia fue Dafne Cosío, ‘La Barbie tapatía’, quien gracias a sus consejos pudo colaborar con el autor de la canción ‘Tusa’.\r\nLa bella escribió el tema ”Requisito\" junto con con Keytin, autor del sonado tema de Karol G y Nicky Minaj.\r\nDafne comenzó a tocar el piano, estudiar solfeo, y durante 12 años se ha preparado para darlo todo en el mundo de la música; así como es bailarina de ballet y tahitiano.\r\nVER: \r\nJugadora de Chivas pone a temblar aYanet  García\r\n",
            "count": 1
           },
           {
            "name": "\r\nEl museo del antiguo campo nazi de la muerte Auschwitz-Birkenau, cerrado desde mediados de marzo por la pandemia de coronavirus, pidió el miércoles ayuda financiera.\r\nEn 2020 se celebró el 75 aniversario de la liberación de Auschwitz-Birkenau, convertido en símbolo de todos los campos de exterminio donde murieron cerca de la mitad de los 6 millones de judíos asesinados durante el Holocausto, así como centenares de miles de personas de otros orígenes.\r\n \r\n\r\n\r\n\r\n \r\n\r\n\r\n \r\n\r\n \r\n\r\n\r\n\r\n \r\n\r\n\r\n\r\n\r\nView this post on Instagram\r\n\r\n\r\n \r\n\r\n\r\n\r\n \r\n\r\n \r\n\r\n \r\n\r\n\r\n\r\n \r\n\r\n \r\n\r\n\r\n\r\n \r\n\r\n \r\n\r\n \r\n\r\n\r\n\r\nThe history of Auschwitz is actually 1,300,000 individual stories of individuals deported. . . --- Photo by @robertofranchiniphoto --- . . #Auschwitz #Birkenau #AuschwitzMemorial #Nazi #Germany #concentrationcamp #extermination #genocide #history #Holocaust #Shoah #Jews #Poles #Roma #people #life #death #humanity #humiliation #dehumanization #remembrance #commemoration #memory #museum #Poland #igerspoland #UNESCO #worldheritage #worldHeritagelist @unesco #photography\r\n\r\nA post shared by  Auschwitz Memorial and Museum (@auschwitzmemorial) on Feb 2, 2020 at 11:10pm PST\r\n\r\n\r\n\r\n\"Pedimos ayuda financiera por parte de todos los que consideran necesario preservar la memoria\", se lee en un comunicado publicado en la web del museo.\r\n\"El presupuesto de 2020 se hundió\", dice el texto, pese al \"apoyo particular\" del ministerio polaco de la Cultura y la Fundación Internacional Auschwitz-Birkenau que permite mantener el empleo y continuar las obras de mantenimiento de los vestigios de este antiguo campo de la muerte.\r\nSin embargo el museo no tiene fondos para sus actividades educativas, editoriales y para sus exposiciones.\r\nEl memorial de Auschwitz-Birkenau está cerrado desde el 12 de marzo y no podrá abrir hasta principios de julio según su web.\r\nfjb\r\n",
            "count": 1
           },
           {
            "name": "136 others",
            "count": 136
           }
          ]
         }
        },
        {
         "name": "title",
         "dtype": "object",
         "stats": {
          "unique_count": 110,
          "nan_count": 28,
          "categories": [
           {
            "name": "Las influencers tapatías que hacen temblar a Yanet García",
            "count": 1
           },
           {
            "name": "109 others",
            "count": 109
           },
           {
            "name": "Missing",
            "count": 28
           }
          ]
         }
        },
        {
         "name": "url",
         "dtype": "object",
         "stats": {
          "unique_count": 138,
          "nan_count": 0,
          "categories": [
           {
            "name": "http://www.unionjalisco.mx/articulo/2020/06/02/espectaculos/las-influencers-tapatias-que-hacen-temblar-yanet-garcia",
            "count": 1
           },
           {
            "name": "http://www.eluniversal.com.mx/cultura/patrimonio/coronavirus-el-museo-de-auschwitz-pide-ayuda-para-sobrevivir-la-pandemia",
            "count": 1
           },
           {
            "name": "136 others",
            "count": 136
           }
          ]
         }
        },
        {
         "name": "newspaper_uid",
         "dtype": "object",
         "stats": {
          "unique_count": 1,
          "nan_count": 0,
          "categories": [
           {
            "name": "eluniversal",
            "count": 138
           }
          ]
         }
        },
        {
         "name": "_deepnote_index_column",
         "dtype": "int64"
        }
       ],
       "rows_top": [
        {
         "body": "\r\n\r\n\r\n\r\n    googletag.cmd.push(function() {\r\n      googletag.display(\"dfp-ad-top3_content\");\r\n    }…",
         "title": "Las influencers tapatías que hacen temblar a Yanet García",
         "url": "http://www.unionjalisco.mx/articulo/2020/06/02/espectaculos/las-influencers-tapatias-que-hacen-temb…",
         "newspaper_uid": "eluniversal",
         "_deepnote_index_column": 0
        },
        {
         "body": "\r\nEl museo del antiguo campo nazi de la muerte Auschwitz-Birkenau, cerrado desde mediados de marzo …",
         "title": "El museo de Auschwitz pide ayuda para sobrevivir la pandemia",
         "url": "http://www.eluniversal.com.mx/cultura/patrimonio/coronavirus-el-museo-de-auschwitz-pide-ayuda-para-…",
         "newspaper_uid": "eluniversal",
         "_deepnote_index_column": 1
        },
        {
         "body": "\r\nLa Suprema Corte de Justicia de la Nación (SCJN) avaló que funcionarios del Banco de México (Banx…",
         "title": "Corte avala que funcionarios de Banxico, INE e IFT ganen más que AMLO",
         "url": "http://www.eluniversal.com.mx/nacion/corte-avala-que-funcionarios-de-banxico-ine-e-ift-ganen-mas-qu…",
         "newspaper_uid": "eluniversal",
         "_deepnote_index_column": 2
        },
        {
         "body": "\r\nUn grupo de funcionarios descubrió mosquitos infectados con el virus del Nilo Occidental al sur d…",
         "title": "nan",
         "url": "https://www.viveusa.mx/noticias/mosquitos-con-el-virus-del-nilo-occidental-llegan-california",
         "newspaper_uid": "eluniversal",
         "_deepnote_index_column": 3
        },
        {
         "body": "\r\nEn 1980, Héctor Suárez y Leticia Perdigón nunca se llamaron por su nombre. Los dos formaban parte…",
         "title": "Héctor Suárez, zurdo y loco hasta el final",
         "url": "https://www.eluniversalqueretaro.mx/portada/hector-suarez-zurdo-y-loco-hasta-el-final-zurdo-y-loco-…",
         "newspaper_uid": "eluniversal",
         "_deepnote_index_column": 4
        },
        {
         "body": "\r\nEl fiscal general Keith Ellison planea elevar los cargos contra Derek Chauvin, el expolicía de Mi…",
         "title": "Fiscal acusará de homicidio en segundo grado a Derek Chauvin; implicará a tres policías más",
         "url": "http://www.eluniversal.com.mx/mundo/george-floyd-fiscal-acusara-de-homicidio-en-segundo-grado-derek…",
         "newspaper_uid": "eluniversal",
         "_deepnote_index_column": 5
        },
        {
         "body": "\r\n\r\n\r\n\r\n    googletag.cmd.push(function() {\r\n      googletag.display(\"dfp-ad-top3_content\");\r\n    }…",
         "title": "Citas para verificar Edomex 2020: Entérate ",
         "url": "http://www.unionedomex.mx/articulo/2020/06/02/gente/citas-para-verificar-edomex-2020-enterate",
         "newspaper_uid": "eluniversal",
         "_deepnote_index_column": 6
        },
        {
         "body": "\r\n\r\n\r\n\r\n    googletag.cmd.push(function() {\r\n      googletag.display(\"dfp-ad-top3_content\");\r\n    }…",
         "title": "Cómo consigo una de Beca Benito Juárez de primaria y secundaria",
         "url": "http://www.unionpuebla.mx/articulo/2020/05/26/educacion/como-consigo-una-de-beca-benito-juarez-de-p…",
         "newspaper_uid": "eluniversal",
         "_deepnote_index_column": 7
        },
        {
         "body": "\r\n\r\n\r\n\r\n    googletag.cmd.push(function() {\r\n      googletag.display(\"dfp-ad-top3_content\");\r\n    }…",
         "title": "Belinda, edad, estatura y otros datos de la coach de La Voz",
         "url": "http://www.unionyucatan.mx/articulo/2020/06/02/espectaculos/belinda-edad-estatura-y-otros-datos-de-…",
         "newspaper_uid": "eluniversal",
         "_deepnote_index_column": 8
        },
        {
         "body": "Temascaltepec.— Sicarios descargaron más de cien tiros contra un custodio, tras ser emboscado a la …",
         "title": "nan",
         "url": "https://www.elgrafico.mx/la-roja/custodio-de-penal-en-edomex-termina-mas-que-muerto-luego-de-mas-de…",
         "newspaper_uid": "eluniversal",
         "_deepnote_index_column": 9
        },
        {
         "body": "\r\nGianna tiene seis años. No sabe cómo murió su padre, George Floyd. Sólo sabe que lo extraña y que…",
         "title": "“Extraño a mi papi. Él cambió el mundo”, dice la hija de George Floyd",
         "url": "http://www.eluniversal.com.mx/mundo/extrano-mi-papi-el-cambio-el-mundo-dice-la-hija-de-george-floyd",
         "newspaper_uid": "eluniversal",
         "_deepnote_index_column": 10
        },
        {
         "body": "\r\nLa Secretaría de Energía (Sener), a través de PTI Infraestructura de Desarrollo, adjudicó los 7 p…",
         "title": "Sener adjudica los contratos para almacenamiento de la nueva refinería de Dos Bocas",
         "url": "http://www.eluniversal.com.mx/cartera/sener-adjudica-los-contratos-para-almacenamiento-de-la-nueva-…",
         "newspaper_uid": "eluniversal",
         "_deepnote_index_column": 11
        },
        {
         "body": "\r\nCampeche, Después de que ayer el subsecretario de Salud, Hugo López-Gatell, admitiera ante los go…",
         "title": "No nos confiemos, pide AMLO; es una pandemia muy dañina",
         "url": "http://www.eluniversal.com.mx/nacion/no-nos-confiemos-pide-amlo-es-una-pandemia-muy-danina",
         "newspaper_uid": "eluniversal",
         "_deepnote_index_column": 12
        },
        {
         "body": "\r\nQuito.- El expresidente ecuatoriano Abdalá Bucaram fue detenido el miércoles en su domicilio dura…",
         "title": "Detienen en Guayaquil a expresidente de Ecuador, acusado de corrupción",
         "url": "http://www.eluniversal.com.mx/mundo/detienen-en-guayaquil-expresidente-de-ecuador-acusado-de-corrup…",
         "newspaper_uid": "eluniversal",
         "_deepnote_index_column": 13
        },
        {
         "body": "\r\n-Doctor, ¿ya está domada la pandemia?- se le pregunta al subsecretario de Salud y vocero del gobi…",
         "title": "Pandemia no está domada en México: López-Gatell",
         "url": "http://www.eluniversal.com.mx/nacion/pandemia-no-esta-domada-en-mexico-lopez-gatell",
         "newspaper_uid": "eluniversal",
         "_deepnote_index_column": 14
        },
        {
         "body": "\r\nEn medio de la pandemia de Covid-19 y con todas las agencias automotrices cerradas, en mayo, la v…",
         "title": "Venta de autos en mayo, mejor que en abril: AMDA",
         "url": "http://www.eluniversal.com.mx/cartera/venta-de-autos-en-mayo-mejor-que-en-abril-amda",
         "newspaper_uid": "eluniversal",
         "_deepnote_index_column": 15
        },
        {
         "body": " 0 % PULSO SOCIAL0 El 2020 ya inició y en esta nueva década es común que comencemos a preguntarnos …",
         "title": "nan",
         "url": "https://de10.com.mx/top-10/10-terribles-profecias-de-nostradamus-para-el-2020",
         "newspaper_uid": "eluniversal",
         "_deepnote_index_column": 16
        },
        {
         "body": "\r\n\r\n\r\n\r\n    googletag.cmd.push(function() {\r\n      googletag.display(\"dfp-ad-top3_content\");\r\n    }…",
         "title": "Admisión BUAP 2020: Examen de admisión se pospone",
         "url": "http://www.unionpuebla.mx/articulo/2020/06/01/educacion/admision-buap-2020-examen-de-admision-se-po…",
         "newspaper_uid": "eluniversal",
         "_deepnote_index_column": 17
        },
        {
         "body": "\r\nJuchitán de Zaragoza.— La cortina de acero  está  arriba hasta la mitad en  la entrada a la tiend…",
         "title": "Juchitán regresa a \"nueva normalidad\" pese a riesgo de contagios por Covid-19",
         "url": "https://oaxaca.eluniversal.com.mx/municipios/02-06-2020/juchitan-regresa-nueva-normalidad-pese-ries…",
         "newspaper_uid": "eluniversal",
         "_deepnote_index_column": 18
        },
        {
         "body": "\r\nEste martes estrenó \"La Voz Azteca\" con Belinda, Christian Nodal, María José y Ricardo Montaner c…",
         "title": "Sin público y sin cubrebocas arranca \"La Voz Azteca\"",
         "url": "http://www.eluniversal.com.mx/espectaculos/la-voz-azteca-sin-publico-y-sin-cubrebocas",
         "newspaper_uid": "eluniversal",
         "_deepnote_index_column": 19
        },
        {
         "body": "\r\nTexto: Yessica Torres\r\nRodeado de mar y por su ubicación geográfica es común que en el territorio…",
         "title": "El plan de emergencia que surgió por el desbordamiento de un río",
         "url": "https://www.eluniversal.com.mx/opinion/mochilazo-en-el-tiempo/el-plan-de-emergencia-que-surgio-por-…",
         "newspaper_uid": "eluniversal",
         "_deepnote_index_column": 20
        },
        {
         "body": "\r\nDisney Springs en Orlando, Florida reabrió el pasado 20 de mayo luego de permanecer cerrado como …",
         "title": "nan",
         "url": "https://www.viveusa.mx/destinos/10-fotos-que-muestran-como-es-visitar-disney-springs-durante-la-pan…",
         "newspaper_uid": "eluniversal",
         "_deepnote_index_column": 21
        },
        {
         "body": "\r\n\r\nLeón.— La industria del calzado reiniciará sus actividades de producción, a partir de este 1 de…",
         "title": "Industria del calzado de León reanudará actividades con 30% de capacidad",
         "url": "http://www.eluniversal.com.mx/estados/industria-del-calzado-de-leon-reanudara-actividades-con-30-de…",
         "newspaper_uid": "eluniversal",
         "_deepnote_index_column": 22
        },
        {
         "body": "\r\nA través de redes sociales, la senadora Lilly Téllez anunció que deja la bancada de Morena “por d…",
         "title": "Lilly Téllez deja bancada de Morena en el Senado “por diferencias de criterio”",
         "url": "http://www.eluniversal.com.mx/nacion/lilly-tellez-deja-bancada-de-morena-por-diferencias-de-criterio",
         "newspaper_uid": "eluniversal",
         "_deepnote_index_column": 23
        },
        {
         "body": "\r\nJuchitán de Zaragoza. - Un niño de 4 años murió la noche del sábado debido a las graves heridas q…",
         "title": "Perro Pitbull ataca y mata a niño de 4 años en Tehuantepec ",
         "url": "https://oaxaca.eluniversal.com.mx/municipios/01-06-2020/perro-pitbull-ataca-y-mata-nino-de-4-anos-e…",
         "newspaper_uid": "eluniversal",
         "_deepnote_index_column": 24
        },
        {
         "body": "\r\nTexto: Carlos Villasana y Ruth Gómez.\r\nHabitar y transitar por la Ciudad de México sin música par…",
         "title": "Cuando las canciones se aprendían con Notitas Musicales",
         "url": "https://www.eluniversal.com.mx/opinion/mochilazo-en-el-tiempo/cuando-las-canciones-se-aprendian-con…",
         "newspaper_uid": "eluniversal",
         "_deepnote_index_column": 25
        },
        {
         "body": "\r\n\r\n\r\n\r\n    googletag.cmd.push(function() {\r\n      googletag.display(\"dfp-ad-top3_content\");\r\n    }…",
         "title": "María José, edad, estatura y más de la coach de La Voz México",
         "url": "http://www.unionyucatan.mx/articulo/2020/06/02/espectaculos/maria-jose-edad-estatura-y-mas-de-la-co…",
         "newspaper_uid": "eluniversal",
         "_deepnote_index_column": 26
        },
        {
         "body": "\r\nEl ayuntamiento de Soledad informó que a partir del 1 de junio iniciará la reactivación escalonad…",
         "title": "Este lunes inicia reapertura escalonada de comercios en Soledad",
         "url": "https://sanluis.eluniversal.com.mx/municipios/29-05-2020/este-lunes-inicia-reapertura-escalonada-de…",
         "newspaper_uid": "eluniversal",
         "_deepnote_index_column": 27
        },
        {
         "body": "\r\nEn la última fotografía de las tres generaciones Suárez, Héctor aparece sonriendo dentro de una …",
         "title": "Suárez Gomís comparte última foto con Héctor Suárez y su hijo ",
         "url": "http://www.eluniversal.com.mx/espectaculos/suarez-gomis-comparte-ultima-foto-con-hector-suarez-y-su…",
         "newspaper_uid": "eluniversal",
         "_deepnote_index_column": 28
        },
        {
         "body": " 0 % PULSO SOCIAL0 Hoy en día los filtros y herramientas en redes sociales pueden darles a todos un…",
         "title": "nan",
         "url": "https://de10.com.mx/cultura-digital/insolito-influencers-muestran-su-vida-sin-filtros-ni-retoques",
         "newspaper_uid": "eluniversal",
         "_deepnote_index_column": 29
        },
        {
         "body": "\r\nRodolfo Pizarro fue honesto en una charla extensa con Oswaldo Alanís, excompañero suyo en las Chi…",
         "title": "El 'Negro' Santos es mi juguete: Rodolfo Pizarro",
         "url": "http://www.eluniversal.com.mx/universal-deportes/futbol/rodolfo-pizarro-el-negro-santos-es-mi-jugue…",
         "newspaper_uid": "eluniversal",
         "_deepnote_index_column": 30
        },
        {
         "body": "\r\nEl nuevo estadio de Mazatlán, cuya construcción está por concluir este mes, después de tres años …",
         "title": "Conoce el nuevo estadio del Mazatlán FC",
         "url": "http://www.eluniversal.com.mx/universal-deportes/futbol/liga-mx-conoce-el-nuevo-estadio-del-mazatla…",
         "newspaper_uid": "eluniversal",
         "_deepnote_index_column": 31
        },
        {
         "body": "\r\nEl coordinador del PAN en el Senado, Mauricio Kuri, anunció la adhesión de la senadora Lilly Téll…",
         "title": "Lilly Téllez se suma al PAN en el Senado",
         "url": "http://www.eluniversal.com.mx/nacion/lilly-tellez-se-suma-al-pan-en-el-senado",
         "newspaper_uid": "eluniversal",
         "_deepnote_index_column": 32
        },
        {
         "body": "\r\n\r\nUn grupo de jóvenes de Craiova, una ciudad pequeña, enclavada en una región agrícola de Rumania…",
         "title": " Opera en México banda rumana de robos millonarios en cajeros",
         "url": "http://www.eluniversal.com.mx/nacion/opera-en-mexico-banda-rumana-de-robos-millonarios-en-cajeros",
         "newspaper_uid": "eluniversal",
         "_deepnote_index_column": 33
        },
        {
         "body": "\r\nEste sábado, concejales de Oaxaca de Juárez aprobaron por unanimidad prolongar hasta el 30 de jun…",
         "title": "La capital amplía al 30 de junio medidas contra Covid-19, ante pico de contagios",
         "url": "https://oaxaca.eluniversal.com.mx/municipios/30-05-2020/la-capital-amplia-al-30-de-junio-medidas-co…",
         "newspaper_uid": "eluniversal",
         "_deepnote_index_column": 34
        },
        {
         "body": "\r\nImagina encontrarte con cientos de flamencos en libertad: admirar su vuelo, sus elegantes movimie…",
         "title": "Celestún, el paraíso mexicano donde habita el flamenco rosa ",
         "url": "http://www.eluniversal.com.mx/destinos/celestun-el-paraiso-mexicano-donde-habita-el-flamenco-rosa",
         "newspaper_uid": "eluniversal",
         "_deepnote_index_column": 35
        },
        {
         "body": "\r\nLa Fiscalía General del Estado de Oaxaca (FGEO) informó que un juez vinculó a proceso a un sujeto…",
         "title": "Vinculan a sujeto que presuntamente atacó sexualmente a sus dos hijas en Oaxaca",
         "url": "https://oaxaca.eluniversal.com.mx/estatal/28-04-2020/vinculan-sujeto-que-presuntamente-ataco-sexual…",
         "newspaper_uid": "eluniversal",
         "_deepnote_index_column": 36
        },
        {
         "body": "\r\nTexto: Daniela Jurado Cano\r\n\r\nEn los 80 comenzaron a surgir grupos, sellos discográficos y espaci…",
         "title": "Grupos de rock, cronistas de la CDMX y periferia",
         "url": "https://www.eluniversal.com.mx/opinion/mochilazo-en-el-tiempo/grupos-de-rock-cronistas-de-la-cdmx-y…",
         "newspaper_uid": "eluniversal",
         "_deepnote_index_column": 37
        },
        {
         "body": "\r\nTlalnepantla, Méx.— Bernabé Flores Franco, enfermero que libró la batalla contra el Covid-19 lueg…",
         "title": "Libra Covid... pero queda con daño pulmonar; no lo atienden por miedo",
         "url": "http://www.eluniversal.com.mx/metropoli/libra-covid-pero-queda-con-dano-pulmonar-no-lo-atienden-por…",
         "newspaper_uid": "eluniversal",
         "_deepnote_index_column": 38
        },
        {
         "body": "\r\nEn mayo hubo 864 nuevos casos de Covid-19 en Querétaro y 100 defunciones; esto es cerca de siete …",
         "title": "Mayo fue el mes con más contagios y defunciones por Coronavirus, en Querétaro",
         "url": "https://www.eluniversalqueretaro.mx/portada/mayo-fue-el-mes-con-mas-contagios-y-defunciones",
         "newspaper_uid": "eluniversal",
         "_deepnote_index_column": 39
        },
        {
         "body": "\r\nCampeche.- En el banderazo de inicio de obra del Tramo 2 del Tren Maya, el presidente Andrés Manu…",
         "title": "AMLO da banderazo en Campeche al Tramo 2 del Tren Maya",
         "url": "http://www.eluniversal.com.mx/nacion/amlo-da-banderazo-en-campeche-al-tramo-2-del-tren-maya",
         "newspaper_uid": "eluniversal",
         "_deepnote_index_column": 40
        },
        {
         "body": "\r\n\r\n\r\n\r\n    googletag.cmd.push(function() {\r\n      googletag.display(\"dfp-ad-top3_content\");\r\n    }…",
         "title": "Constancia Digital INE: ¿cómo tramitarla y para qué sirve?",
         "url": "http://www.unioncdmx.mx/articulo/2020/05/27/ciudadanos/constancia-digital-ine-como-tramitarla-y-par…",
         "newspaper_uid": "eluniversal",
         "_deepnote_index_column": 41
        },
        {
         "body": "\r\n\r\nLas manifestaciones por la muerte de George Floyd, un hombre afroestadounidense asesinado por p…",
         "title": "Estados Unidos en llamas",
         "url": "https://www.eluniversal.com.mx/opinion/andrew-selee/estados-unidos-en-llamas",
         "newspaper_uid": "eluniversal",
         "_deepnote_index_column": 42
        },
        {
         "body": " 0 % PULSO SOCIAL0 Charles Chaplin es conocido por su legendario talento cómico, pero su vida perso…",
         "title": "nan",
         "url": "https://de10.com.mx/top-10/las-cuatro-bellas-y-jovenes-esposas-de-charlie-chaplin",
         "newspaper_uid": "eluniversal",
         "_deepnote_index_column": 43
        },
        {
         "body": " Toggle navigation  SuscripcionesEl Universal ImpresoEl Universal QuerétaroEl Universal Digital    …",
         "title": "nan",
         "url": "https://www.clubeluniversal.mx/content/suscripciones",
         "newspaper_uid": "eluniversal",
         "_deepnote_index_column": 44
        },
        {
         "body": "En un robo casi de película, una banda bien organizada obligó a la empleada de una sucursal de Banc…",
         "title": "nan",
         "url": "https://www.elgrafico.mx/la-roja/asi-se-robaron-14-millones-de-pesos-en-un-banco-de-cdmx-con-cintur…",
         "newspaper_uid": "eluniversal",
         "_deepnote_index_column": 45
        },
        {
         "body": "\r\n\r\n\r\n\r\n    googletag.cmd.push(function() {\r\n      googletag.display(\"dfp-ad-top3_content\");\r\n    }…",
         "title": "Christian Nodal, edad y secretos del coach de La Voz México 2020",
         "url": "http://www.unionyucatan.mx/articulo/2020/06/02/espectaculos/christian-nodal-edad-y-secretos-del-coa…",
         "newspaper_uid": "eluniversal",
         "_deepnote_index_column": 46
        },
        {
         "body": "\r\nMelania Trump no pudo ocultar su incomodidad cuando su esposo, el presidente Donald Trumo, le pid…",
         "title": "nan",
         "url": "https://www.viveusa.mx/noticias/la-sonrisa-forzada-de-melania-trump-un-video-que-se-volvio-viral",
         "newspaper_uid": "eluniversal",
         "_deepnote_index_column": 47
        },
        {
         "body": "\r\nEn 2004, el rumano Filip Sardaru hizo una emotiva petición a Canadá para que su familia fuera ace…",
         "title": "Cruzando el Río Grande: Cómo unos rumanos entraron ilegalmente a Estados Unidos para robar cajeros …",
         "url": "http://www.eluniversal.com.mx/nacion/cruzando-el-rio-grande-como-unos-rumanos-entraron-ilegalmente-…",
         "newspaper_uid": "eluniversal",
         "_deepnote_index_column": 48
        },
        {
         "body": "\r\nLa actriz Megan Fox salió en compañía de sus tres hijos a una tienda de la ciudad de Calabasas, e…",
         "title": "nan",
         "url": "https://www.viveusa.mx/showbiz/megan-fox-cautiva-con-jeans-ajustados-en-california-tras-separacion",
         "newspaper_uid": "eluniversal",
         "_deepnote_index_column": 49
        },
        {
         "body": "\r\nEl reinicio de actividades en el sector industrial se caracterizó por ausencia de trabajadores y …",
         "title": "\"Nueva normalidad\" inicia con ausentismo laboral y sin pruebas para detectar Covid",
         "url": "http://www.eluniversal.com.mx/cartera/negocios/nueva-normalidad-inicia-con-ausentismo-laboral-y-sin…",
         "newspaper_uid": "eluniversal",
         "_deepnote_index_column": 50
        },
        {
         "body": "\r\nLa marca mexicana Veoveo lanzó una campaña con causa durante la pandemia por Covid-19. Fabrican c…",
         "title": "nan",
         "url": "https://www.viveusa.mx/compras/fabrican-cubrebocas-para-ayudar-ninos-migrantes-en-mexico",
         "newspaper_uid": "eluniversal",
         "_deepnote_index_column": 51
        },
        {
         "body": "\r\nQuerétaro, Querétaro.-\r\n\r\nLa peluquería de Mario Rodríguez Hernández está vacía. La gente en esto…",
         "title": "Resistencia. Peluquero sobrelleva encierro",
         "url": "https://www.eluniversalqueretaro.mx/portada/resistenciapeluquero-sobrelleva-encierro",
         "newspaper_uid": "eluniversal",
         "_deepnote_index_column": 52
        },
        {
         "body": "\r\nDemi Rose conquistó las redes sociales con un vestido que se ajustó a sus curvas de infarto y rev…",
         "title": "nan",
         "url": "https://www.viveusa.mx/showbiz/demi-rose-presume-vestido-de-impacto-en-redes-sociales",
         "newspaper_uid": "eluniversal",
         "_deepnote_index_column": 53
        },
        {
         "body": "\r\nToluca.- La Secretaría de Educación del Estado de México informó que el 5 de junio concluirá el a…",
         "title": "Estas son las fechas para finalizar clases e iniciar ciclo escolar 2020-2021 en Edomex",
         "url": "http://www.eluniversal.com.mx/metropoli/edomex/estas-son-las-fechas-para-finalizar-clases-e-iniciar…",
         "newspaper_uid": "eluniversal",
         "_deepnote_index_column": 54
        },
        {
         "body": "\r\nCon 18 años de edad, Dafne Almazán Anaya se convirtió en la mexicana más joven en graduarse de un…",
         "title": "nan",
         "url": "https://www.viveusa.mx/educacion/dafne-almazan-la-mexicana-mas-joven-en-graduarse-de-una-maestria-e…",
         "newspaper_uid": "eluniversal",
         "_deepnote_index_column": 55
        },
        {
         "body": "\r\n\r\nNos comentan que quien piense que la empresa Wal-Mart realizó de buena voluntad un pago por 8 m…",
         "title": "La historia de los 8 mil millones que pagó Wal-Mart",
         "url": "https://www.eluniversal.com.mx/opinion/periodistas-el-universal/la-historia-de-los-8-mil-millones-q…",
         "newspaper_uid": "eluniversal",
         "_deepnote_index_column": 56
        },
        {
         "body": "\r\n\r\n En Puebla se han registrado 392 muertes y 3 mil 239 casos confirmados de coronavirus al 2 de j…",
         "title": "Coronavirus Puebla: Casos confirmados de Covid-19 al 2 de junio",
         "url": "http://www.eluniversal.com.mx/estados/coronavirus-puebla-casos-confirmados-de-covid-19-al-2-de-junio",
         "newspaper_uid": "eluniversal",
         "_deepnote_index_column": 57
        },
        {
         "body": "\r\nA medida que los manifestantes ocupaban las avenidas a lo largo y ancho de Estados Unidos para co…",
         "title": "nan",
         "url": "https://www.viveusa.mx/noticias/protestas-en-estados-unidos-podrian-provocar-nuevos-casos-de-corona…",
         "newspaper_uid": "eluniversal",
         "_deepnote_index_column": 58
        },
        {
         "body": "\r\n\r\n\r\n\r\n    googletag.cmd.push(function() {\r\n      googletag.display(\"dfp-ad-top3_content\");\r\n    }…",
         "title": "‘Enamorándonos’ y su maldición",
         "url": "http://www.unionjalisco.mx/articulo/2020/06/03/espectaculos/enamorandonos-y-su-maldicion",
         "newspaper_uid": "eluniversal",
         "_deepnote_index_column": 59
        },
        {
         "body": "\r\nLa secretaria de Salud, Oliva López, consideró que en septiembre el semáforo podría cambiar a nar…",
         "title": "Decesos por Covid se estabilizarán en septiembre en CDMX",
         "url": "http://www.eluniversal.com.mx/metropoli/decesos-por-covid-se-estabilizaran-en-septiembre-en-cdmx",
         "newspaper_uid": "eluniversal",
         "_deepnote_index_column": 60
        },
        {
         "body": "\r\nEl gobernador Francisco Domínguez Servién desmintió que el estado de Querétaro haya aceptado util…",
         "title": "Gobernador de Querétaro rechaza integración al semáforo único de Covid-19 ",
         "url": "https://www.eluniversalqueretaro.mx/politica/gobernador-de-queretaro-rechaza-integracion-al-semafor…",
         "newspaper_uid": "eluniversal",
         "_deepnote_index_column": 61
        },
        {
         "body": "\r\nJosé Luis Alomía Zegarra, director general de Epidemiología, informó esta noche que México suma 1…",
         "title": "México tiene nuevo máximo de casos de Covid: 3 mil 891 en un día; suman 97 mil",
         "url": "https://www.eluniversal.com.mx/nacion/sociedad/coronavirus-2-de-junio-suman-10-mil-637-muertes-por-…",
         "newspaper_uid": "eluniversal",
         "_deepnote_index_column": 62
        },
        {
         "body": "\r\n\r\n\r\n\r\n    googletag.cmd.push(function() {\r\n      googletag.display(\"dfp-ad-top3_content\");\r\n    }…",
         "title": "Yo soy Betty, la fea, elenco, personajes y actores antes y después",
         "url": "http://www.unionyucatan.mx/articulo/2020/06/01/espectaculos/yo-soy-betty-la-fea-elenco-personajes-y…",
         "newspaper_uid": "eluniversal",
         "_deepnote_index_column": 63
        },
        {
         "body": " 0 % PULSO SOCIAL0 Ante las protestas en Estados Unidos por la muerte de George Floyd, un afromeric…",
         "title": "nan",
         "url": "https://de10.com.mx/top-10/10-memes-sobre-las-verdaderas-revelaciones-de-anonymous",
         "newspaper_uid": "eluniversal",
         "_deepnote_index_column": 64
        },
        {
         "body": "\r\nDesde ayer, algunos comentarios en Internet apuntan a que el Presidente, Andrés Manuel López Obra…",
         "title": "¿Es verdad que AMLO quiere cobrar un impuesto por tener mascotas?",
         "url": "http://www.eluniversal.com.mx/nacion/politica/es-verdad-que-amlo-quiere-cobrar-un-impuesto-por-tene…",
         "newspaper_uid": "eluniversal",
         "_deepnote_index_column": 65
        },
        {
         "body": "\r\nLa actriz Gwyneth Paltrow fue captada durante un paseo en la ciudad de Los Ángeles, California, j…",
         "title": "nan",
         "url": "https://www.viveusa.mx/showbiz/gwyneth-paltrow-luce-piernas-tonificadas-con-shorts-blancos-en-la",
         "newspaper_uid": "eluniversal",
         "_deepnote_index_column": 66
        },
        {
         "body": "\r\nEiza González fue captada por los paparazzis haciendo alarde de su trabajada figura por calles de…",
         "title": "nan",
         "url": "https://www.viveusa.mx/showbiz/eiza-gonzalez-presume-abs-con-crop-top-en-los-angeles-0",
         "newspaper_uid": "eluniversal",
         "_deepnote_index_column": 67
        },
        {
         "body": "\r\n\r\n\r\n\r\n    googletag.cmd.push(function() {\r\n      googletag.display(\"dfp-ad-top3_content\");\r\n    }…",
         "title": "Nuevas fechas para examen COMIPEMS 2020, ¿cuándo son?",
         "url": "http://www.unioncdmx.mx/articulo/2020/06/03/educacion/nuevas-fechas-para-examen-comipems-2020-cuand…",
         "newspaper_uid": "eluniversal",
         "_deepnote_index_column": 68
        },
        {
         "body": "\r\nEl Servicio de Administración Tributaria (SAT) recordó que el año pasado, el Congreso de la Unión…",
         "title": "¿Quiénes pagan el IVA a servicios digitales? El SAT te lo dice",
         "url": "http://www.eluniversal.com.mx/cartera/telecom/quienes-pagan-el-iva-servicios-digitales",
         "newspaper_uid": "eluniversal",
         "_deepnote_index_column": 69
        },
        {
         "body": "\r\n El primer ministro canadiense, Justin Trudeau, necesitó este martes 21 segundos de silencio ante…",
         "title": "nan",
         "url": "https://www.viveusa.mx/noticias/la-polemica-respuesta-de-justin-trudeau-sobre-las-protestas-en-eu",
         "newspaper_uid": "eluniversal",
         "_deepnote_index_column": 70
        },
        {
         "body": "\r\nSi hay una deliciosa y sencilla receta para preparar es el pan francés, este rico bocadillo que l…",
         "title": "Aprende a preparar pan francés en casa fácil y rápido",
         "url": "http://www.eluniversal.com.mx/menu/receta-de-pan-frances-con-platano",
         "newspaper_uid": "eluniversal",
         "_deepnote_index_column": 71
        },
        {
         "body": "\r\nPara muchos viajeros, una de las motivaciones principales para elegir uno u otro lugar para recor…",
         "title": "Postres, vinos y otras delicias: viaja por Francia a través de su cocina",
         "url": "http://www.eluniversal.com.mx/destinos/postres-vinos-y-mas-delicias-en-un-viaje-por-la-cocina-franc…",
         "newspaper_uid": "eluniversal",
         "_deepnote_index_column": 72
        },
        {
         "body": "\r\nLa aparición del Covid-19 provocó que el personal de salud adoptara la utilización de nuevas herr…",
         "title": "“Es muy difícil, vemos las muertes noche a noche”",
         "url": "https://www.eluniversalqueretaro.mx/portada/es-muy-dificil-vemos-las-muertes-noche-noche",
         "newspaper_uid": "eluniversal",
         "_deepnote_index_column": 73
        },
        {
         "body": "\r\n¿Todavía habrá quienes piensen que el actual gobierno amenaza la libertad de expresión luego de q…",
         "title": "El choque de dos proyectos de nación",
         "url": "https://www.eluniversal.com.mx/opinion/raul-rodriguez-cortes/el-choque-de-dos-proyectos-de-nacion",
         "newspaper_uid": "eluniversal",
         "_deepnote_index_column": 74
        },
        {
         "body": "\r\n\r\nLa escena es terrible: George Floyd, un hombre afroamericano arrojado en el piso, con la rodill…",
         "title": "Sobre la brutalidad policial",
         "url": "https://www.eluniversal.com.mx/opinion/alejandro-hope/sobre-la-brutalidad-policial",
         "newspaper_uid": "eluniversal",
         "_deepnote_index_column": 75
        },
        {
         "body": "\r\nEl perímetro del Centro Histórico se encuentra aún blindado por elementos de la Secretaría de Seg…",
         "title": "Pese a \"nueva normalidad\", mantienen cercado perímetro del Centro Histórico ",
         "url": "http://www.eluniversal.com.mx/metropoli/cdmx/pese-nueva-normalidad-mantienen-cercado-perimetro-del-…",
         "newspaper_uid": "eluniversal",
         "_deepnote_index_column": 76
        },
        {
         "body": "\r\n\r\n\r\n\r\n    googletag.cmd.push(function() {\r\n      googletag.display(\"dfp-ad-top3_content\");\r\n    }…",
         "title": "¿Cuándo es el Día del Padre en México 2020?",
         "url": "http://www.unionguanajuato.mx/articulo/2020/05/25/cultura/cuando-es-el-dia-del-padre-en-mexico-2020",
         "newspaper_uid": "eluniversal",
         "_deepnote_index_column": 77
        },
        {
         "body": "\r\nLeer en español\r\n \r\nThe body of a Mexican congresswoman Francis Anel Bueno Sánchez from the state…",
         "title": "Mexican lawmaker’s body is found inside a mass grave in Colima",
         "url": "https://www.eluniversal.com.mx/english/mexican-lawmakers-body-found-inside-mass-grave-colima",
         "newspaper_uid": "eluniversal",
         "_deepnote_index_column": 78
        },
        {
         "body": "\r\nUna nieve ligera caía sobre Craiova, en el sur de Rumanía, cuando Sorin Velcu llamó a su madre pa…",
         "title": "Del cajero al ladrillo: blanqueando el dinero sucio",
         "url": "http://www.eluniversal.com.mx/nacion/del-cajero-al-ladrillo-blanqueando-el-dinero-sucio",
         "newspaper_uid": "eluniversal",
         "_deepnote_index_column": 79
        },
        {
         "body": "\r\nTexto: Edward Fernando Salinas\r\n \r\n\r\n\"No puedes vencer a alguien que nunca se rinde\"\r\n“Babe” Ruth…",
         "title": "El día que el gran Babe Ruth conectó un jonrón en México",
         "url": "https://www.eluniversal.com.mx/opinion/mochilazo-en-el-tiempo/el-dia-que-el-gran-babe-ruth-conecto-…",
         "newspaper_uid": "eluniversal",
         "_deepnote_index_column": 80
        },
        {
         "body": "\r\n\r\n¿Qué horas son? las que usted diga, señor presidente. Es la respuesta que México ha querido evi…",
         "title": "Los cómplices del presidente",
         "url": "https://www.eluniversal.com.mx/opinion/ana-paula-ordorica/los-complices-del-presidente",
         "newspaper_uid": "eluniversal",
         "_deepnote_index_column": 81
        },
        {
         "body": "\r\nWashington.- Las tropas en activo trasladadas a la capital estadounidense para ayudar, en caso ne…",
         "title": "Regresan a sus bases tropas desplegadas en Washington para controlar protestas",
         "url": "http://www.eluniversal.com.mx/mundo/regresan-sus-bases-tropas-desplegadas-en-washington-para-contro…",
         "newspaper_uid": "eluniversal",
         "_deepnote_index_column": 82
        },
        {
         "body": "\r\nLa posible vuelta del Atlante a la Primera División, a la Liga MX, podría ser parte de un plan ar…",
         "title": "El Atlante a la Liga MX, ¿cómo y de quién es el plan?",
         "url": "http://www.eluniversal.com.mx/universal-deportes/futbol/el-atlante-la-liga-mx-como-y-de-quien-es-el…",
         "newspaper_uid": "eluniversal",
         "_deepnote_index_column": 83
        },
        {
         "body": "\r\nAlgunos jugadores del América mandaron mensajes en contra del racismo, durante los movimientos en…",
         "title": "Jugadores del América lanzan mensajes contra el racismo",
         "url": "http://www.eluniversal.com.mx/universal-deportes/futbol/america-jugadores-lanzan-mensajes-contra-el…",
         "newspaper_uid": "eluniversal",
         "_deepnote_index_column": 84
        },
        {
         "body": "\r\nEl cuerpo de Anel Bueno Sánchez, diputada de Colima desaparecida el pasado 29 de abril, fue local…",
         "title": "¿Quién era Anel Bueno, diputada localizada en una fosa clandestina de Colima?",
         "url": "http://www.eluniversal.com.mx/estados/quien-era-anel-bueno-diputada-localizada-en-una-fosa-clandest…",
         "newspaper_uid": "eluniversal",
         "_deepnote_index_column": 85
        },
        {
         "body": "\r\nTexto: Marco Salas\r\nImaginemos que es 1890 y una pareja toma café. Él se llama Karl Wilhem Flügge…",
         "title": "Así nació el cubrebocas",
         "url": "https://www.eluniversal.com.mx/opinion/mochilazo-en-el-tiempo/asi-nacio-el-cubrebocas",
         "newspaper_uid": "eluniversal",
         "_deepnote_index_column": 86
        },
        {
         "body": "Hubei.– Uno de los médicos que experimentaron un extraño cambio en el color de su piel, tras contra…",
         "title": "nan",
         "url": "https://www.elgrafico.mx/viral/muere-medico-cuya-piel-se-oscurecio-por-tratamiento-contra-el-covid-…",
         "newspaper_uid": "eluniversal",
         "_deepnote_index_column": 87
        },
        {
         "body": "\r\nLa senadora del PRI, Vanessa Rubio, propuso que personas desahuciadas puedan tener acceso a los r…",
         "title": "Senadora de PRI plantea que desahuciados puedan acceder a recursos de su Afore",
         "url": "https://www.eluniversal.com.mx/cartera/senadora-de-pri-plantea-que-desahuciados-puedan-acceder-recu…",
         "newspaper_uid": "eluniversal",
         "_deepnote_index_column": 88
        },
        {
         "body": "\r\nUn video viral que circula en redes sociales ha causado revuelo entre los usuarios. Muestra a una…",
         "title": "nan",
         "url": "https://www.viveusa.mx/noticias/posa-para-foto-antes-de-protesta-y-despues-sube-auto-de-lujo",
         "newspaper_uid": "eluniversal",
         "_deepnote_index_column": 89
        },
        {
         "body": "\r\nEsta mañana trascendió la muerte de un hombre en la avenida principal del Centro Histórico potosi…",
         "title": "Encuentran a hombre colgado en academia de belleza del Centro Histórico de SLP",
         "url": "https://sanluis.eluniversal.com.mx/metropoli/27-05-2020/localizan-hombre-colgado-en-academia-de-bel…",
         "newspaper_uid": "eluniversal",
         "_deepnote_index_column": 90
        },
        {
         "body": "\r\n\r\n\r\n\r\n    googletag.cmd.push(function() {\r\n      googletag.display(\"dfp-ad-top3_content\");\r\n    }…",
         "title": "Nuevo calendario escolar por coronavirus Covid-19 para imprimir",
         "url": "http://www.unionguanajuato.mx/articulo/2020/06/03/educacion/nuevo-calendario-escolar-por-coronaviru…",
         "newspaper_uid": "eluniversal",
         "_deepnote_index_column": 91
        },
        {
         "body": "\r\nLa Fiscalía General de San Luis Potosí informó que el saldo de tres ataques armados ocurridos la …",
         "title": "Ataques armados en Zona Metropolitana de SLP dejan 5 muertos y 3 lesionados",
         "url": "https://sanluis.eluniversal.com.mx/metropoli/27-05-2020/ataques-armados-en-zona-metropolitana-de-sl…",
         "newspaper_uid": "eluniversal",
         "_deepnote_index_column": 92
        },
        {
         "body": "\r\nEl dirigente nacional de Morena, Alfonso Ramírez Cuéllar, pidió justicia para la diputada local F…",
         "title": "Morena pide justicia para diputada asesinada",
         "url": "http://www.eluniversal.com.mx/nacion/morena-pide-justicia-para-diputada-asesinada",
         "newspaper_uid": "eluniversal",
         "_deepnote_index_column": 93
        },
        {
         "body": "\r\nEl coordinador de Morena en la Cámara de Diputados, Mario Delgado Carrillo, propuso que los traba…",
         "title": "Morena propone retiro de Afore en caso de emergencia sanitaria",
         "url": "http://www.eluniversal.com.mx/nacion/politica/morena-propone-retiro-de-afore-en-caso-de-emergencia-…",
         "newspaper_uid": "eluniversal",
         "_deepnote_index_column": 94
        },
        {
         "body": "Los cuerpos cercenados de dos hombres fueron hallados la mañana de este miércoles en dos diferentes…",
         "title": "nan",
         "url": "https://www.elgrafico.mx/la-roja/miercoles-de-terror-parten-dos-en-cachos-y-riegan-sus-restos-en-va…",
         "newspaper_uid": "eluniversal",
         "_deepnote_index_column": 95
        },
        {
         "body": "\r\nSi te gusta cocinar, sabrás que un buen platillo depende tanto de la calidad de los alimentos com…",
         "title": "Guía para elegir la mejor batería de cocina",
         "url": "http://www.eluniversal.com.mx/menu/que-tomar-en-cuenta-para-comprar-una-bateria-de-cocina",
         "newspaper_uid": "eluniversal",
         "_deepnote_index_column": 96
        },
        {
         "body": " 20 % PULSO SOCIAL6 De acuerdo con la Real Academia de la Lengua, ser ateo significa rechazar la ex…",
         "title": "nan",
         "url": "https://de10.com.mx/top-10/10-personajes-famosos-ateos-y-sus-creencias",
         "newspaper_uid": "eluniversal",
         "_deepnote_index_column": 97
        },
        {
         "body": " 0 % PULSO SOCIAL0 \r\n",
         "title": "nan",
         "url": "https://de10.com.mx/parejas/10-actrices-cuyos-bikinis-en-el-cine-marcaron-tendencia",
         "newspaper_uid": "eluniversal",
         "_deepnote_index_column": 98
        },
        {
         "body": "\r\nDurante los últimos 12 días de mayo empresas del sector industrial en la entidad potosina se enfo…",
         "title": "240 plantas industriales retomaron actividades este lunes en San Luis Potosí",
         "url": "https://sanluis.eluniversal.com.mx/cartera/01-06-2020/240-plantas-industriales-retomaron-actividade…",
         "newspaper_uid": "eluniversal",
         "_deepnote_index_column": 99
        },
        {
         "body": "\r\n\r\nTabasco suma 4 mil 609 casos confirmados y 562 fallecimientos por Covid-19 al 2 de junio.\r\n\r\nEn…",
         "title": "Casos de Covid-19 en Yucatán, Quintana Roo y Tabasco al 2 de junio",
         "url": "http://www.eluniversal.com.mx/estados/casos-de-covid-19-en-yucatan-quintana-roo-y-tabasco-al-2-de-j…",
         "newspaper_uid": "eluniversal",
         "_deepnote_index_column": 100
        },
        {
         "body": "\r\nLa vida no ha sido fácil en estos últimos meses. Sin embargo, hay que continuar con el ritmo y ad…",
         "title": "Belinda enamora con su look deportivo para la Voz Azteca",
         "url": "http://www.eluniversal.com.mx/de-ultima/belinda-sorprende-con-look-deportivo-para-la-voz-azteca",
         "newspaper_uid": "eluniversal",
         "_deepnote_index_column": 101
        },
        {
         "body": " 73 % PULSO SOCIAL22 En la cultura de la antigüedad, no había mejor castigo que la ley del Talión, …",
         "title": "nan",
         "url": "https://de10.com.mx/top-10/impactante-10-formas-antiguas-de-castigo-y-tortura",
         "newspaper_uid": "eluniversal",
         "_deepnote_index_column": 102
        },
        {
         "body": "\r\nEn las protestas desatadas en Estados Unidos en contra de la discriminación racial resaltó la ban…",
         "title": "nan",
         "url": "https://www.viveusa.mx/noticias/la-bandera-de-mexico-ondea-en-las-protestas-por-george-floyd",
         "newspaper_uid": "eluniversal",
         "_deepnote_index_column": 103
        },
        {
         "body": "\r\nJennifer Lopez y Kim Kardashian son de las celebridades más mediáticas en Estados Unidos. Ambas s…",
         "title": "nan",
         "url": "https://www.viveusa.mx/showbiz/las-fotos-ineditas-de-las-sesiones-de-jennifer-lopez-y-kim-kardashian",
         "newspaper_uid": "eluniversal",
         "_deepnote_index_column": 104
        },
        {
         "body": "\r\nTexto: Carlos Villasana y Ruth Gómez\r\nLa ciudad enfrenta una de las etapas más complejas de los ú…",
         "title": "Los mercados porfirianos de la capital",
         "url": "https://www.eluniversal.com.mx/opinion/mochilazo-en-el-tiempo/los-mercados-porfirianos-de-la-capital",
         "newspaper_uid": "eluniversal",
         "_deepnote_index_column": 105
        },
        {
         "body": "\r\nEl contagio por el coronavirus es más elevado en las grandes áreas urbanas del país; sin embargo,…",
         "title": "Coneval: letalidad del Covid es alta en municipios pobres",
         "url": "http://www.eluniversal.com.mx/cartera/coneval-letalidad-del-covid-es-alta-en-municipios-pobres",
         "newspaper_uid": "eluniversal",
         "_deepnote_index_column": 106
        },
        {
         "body": "\r\nUn grupo internacional de arqueólogos descubrió en Tabasco la estructura ceremonial más antigua y…",
         "title": "Descubren estructura ceremonial maya más antigua hasta el momento",
         "url": "http://www.eluniversal.com.mx/cultura/arqueologos-descubren-el-monumento-maya-mas-antiguo-hasta-el-…",
         "newspaper_uid": "eluniversal",
         "_deepnote_index_column": 107
        },
        {
         "body": "\r\nOcho días consecutivos de marchas, vigilias, rezos, llamados a la reconciliación no han sido sufi…",
         "title": "Las protestas...",
         "url": "https://www.eluniversal.com.mx/opinion/gabriel-guerra/las-protestas",
         "newspaper_uid": "eluniversal",
         "_deepnote_index_column": 108
        },
        {
         "body": "\r\n\r\nLa Secretaría de Salud del gobierno federal informó que al 2 de junio hay registro de 10 mil 63…",
         "title": "Casos de coronavirus en México, estado por estado al 2 de junio",
         "url": "http://www.eluniversal.com.mx/estados/casos-de-coronavirus-en-mexico-estado-por-estado-al-2-de-junio",
         "newspaper_uid": "eluniversal",
         "_deepnote_index_column": 109
        },
        {
         "body": "\r\nLa válvula potosina desarrollada por investigadores en San Luis Potosí, devuelve la esperanza a p…",
         "title": "Con tecnología 3D, potosinos crean válvula para enfrentar el Covid-19",
         "url": "https://sanluis.eluniversal.com.mx/sociedad/26-05-2020/con-tecnologia-3d-potosinos-crean-valvula-pa…",
         "newspaper_uid": "eluniversal",
         "_deepnote_index_column": 110
        },
        {
         "body": " 0 % PULSO SOCIAL0 Imagina que un día tu pareja muere y en medio del duelo, te enteras de que lleva…",
         "title": "nan",
         "url": "https://de10.com.mx/top-10/julio-machado-nos-cuenta-los-secretos-de-la-serie-hard",
         "newspaper_uid": "eluniversal",
         "_deepnote_index_column": 111
        },
        {
         "body": "\r\nLa mayoría de los estados que pertenecen a la Megalópolis, Ciudad de México, Estado de México, Pu…",
         "title": "Van mandatarios del Centro por mismo semáforo para nueva normalidad",
         "url": "http://www.eluniversal.com.mx/metropoli/cdmx/piden-mandatarios-del-centro-un-mismo-semaforo-para-nu…",
         "newspaper_uid": "eluniversal",
         "_deepnote_index_column": 112
        },
        {
         "body": "\r\nHace unos días, el propietario del Guadalajara, Amaury Vergara, puso sobre la mesa la necesidad d…",
         "title": "A transparentar el futbol mexicano",
         "url": "https://www.eluniversal.com.mx/opinion/gerardo-velazquez-de-leon/transparentar-el-futbol-mexicano",
         "newspaper_uid": "eluniversal",
         "_deepnote_index_column": 113
        },
        {
         "body": "\r\nEl Presidente Andrés Manuel López Obrador informó que encontraron el cuerpo de la legisladora de …",
         "title": "Hallan el cuerpo de la legisladora de Morena Francis Anel Bueno Sánchez",
         "url": "http://www.eluniversal.com.mx/nacion/politica/hallan-el-cuerpo-de-la-legisladora-de-morena-francis-…",
         "newspaper_uid": "eluniversal",
         "_deepnote_index_column": 114
        },
        {
         "body": "\r\nLeer en español\r\nAn international group archeologists discovered in Tabasco the oldest and larges…",
         "title": "Major discovery of oldest and largest Maya structure in Mexico sheds light on the rise of the ancie…",
         "url": "https://www.eluniversal.com.mx/english/major-discovery-oldest-and-largest-maya-structure-mexico-she…",
         "newspaper_uid": "eluniversal",
         "_deepnote_index_column": 115
        },
        {
         "body": "\r\n\r\nLa clave fue la diferencia entre lo que transfirieron al extranjero y lo que reportaron en Méxi…",
         "title": "El directivo de Cruz Azul firmó 98 cheques para sí mismo",
         "url": "https://www.eluniversal.com.mx/opinion/carlos-loret-de-mola/el-directivo-de-cruz-azul-firmo-98-cheq…",
         "newspaper_uid": "eluniversal",
         "_deepnote_index_column": 116
        },
        {
         "body": "\r\nLos limones, sin duda, no pueden faltar en nuestro refrigerador, pues le dan ese toque especial a…",
         "title": "Cómo mantener los limones frescos hasta 1 mes",
         "url": "http://www.eluniversal.com.mx/menu/como-mantener-los-limones-frescos",
         "newspaper_uid": "eluniversal",
         "_deepnote_index_column": 117
        },
        {
         "body": "\r\nEl Universo de la WWE vivió una semana de nostalgia, ya que se anunció que Rey Mysterio, uno de l…",
         "title": "Retiro de Rey Mysterio, el ‘circo’ de la WWE para el debut de su hijo",
         "url": "http://www.eluniversal.com.mx/universal-deportes/mas-deportes/wwe-retiro-de-rey-mysterio-el-circo-p…",
         "newspaper_uid": "eluniversal",
         "_deepnote_index_column": 118
        },
        {
         "body": "\r\n\r\n\r\n\r\n    googletag.cmd.push(function() {\r\n      googletag.display(\"dfp-ad-top3_content\");\r\n    }…",
         "title": "La bella heredera tapatía del ‘Perro’ Bermúdez",
         "url": "http://www.unionjalisco.mx/articulo/2020/06/01/espectaculos/la-bella-heredera-tapatia-del-perro-ber…",
         "newspaper_uid": "eluniversal",
         "_deepnote_index_column": 119
        },
        {
         "body": "\r\nA partir del sábado serán 30 las personas que podrán disfrutar del \"Guernica\" en el Museo Reina S…",
         "title": "Con oferta y dos Picassos nuevos, el Reina Sofía le pone \"buena cara\" a su reapertura",
         "url": "http://www.eluniversal.com.mx/cultura/artes-visuales/el-reina-sofia-expondra-dos-picassos-ineditos-…",
         "newspaper_uid": "eluniversal",
         "_deepnote_index_column": 120
        },
        {
         "body": "\r\nGeorge Clooney ha incendiado las redes sociales tras publicar un artículo en el diario Daily Beas…",
         "title": "George Clooney: \"El racismo es la pandemia de EU\"",
         "url": "http://www.eluniversal.com.mx/espectaculos/farandula/george-clooney-el-racismo-es-la-pandemia-de-eu",
         "newspaper_uid": "eluniversal",
         "_deepnote_index_column": 121
        },
        {
         "body": "\r\n\"The Ickabog\", el nuevo libro para niños que la escritora británica JK Rowling ha publicado gratu…",
         "title": "El cuento gratis de J.K. Rowling ya está en español",
         "url": "http://www.eluniversal.com.mx/cultura/el-cuento-gratis-de-jk-rowling-ya-esta-en-espanol",
         "newspaper_uid": "eluniversal",
         "_deepnote_index_column": 122
        },
        {
         "body": "\r\nLa titular del SAT, Raquel Buenrostro, asegura que los pagos millonarios que han obtenido de gran…",
         "title": "No es terrorismo, los convencemos: Buenrostro",
         "url": "https://www.eluniversal.com.mx/opinion/salvador-garcia-soto/no-es-terrorismo-los-convencemos-buenro…",
         "newspaper_uid": "eluniversal",
         "_deepnote_index_column": 123
        },
        {
         "body": "\r\n\r\nLos funcionarios de alto rango del Instituto Nacional de Estadística y Geografía (Inegi) y de l…",
         "title": "En Inegi y Cofece ganarán más que AMLO",
         "url": "http://www.eluniversal.com.mx/nacion/en-inegi-y-cofece-ganaran-mas-que-amlo",
         "newspaper_uid": "eluniversal",
         "_deepnote_index_column": 124
        },
        {
         "body": "\r\nCientíficos en todo el mundo estudian el proceso de infección que sufre una persona al entrar en …",
         "title": "El zinc sería clave para tratamiento de Covid-19",
         "url": "http://www.eluniversal.com.mx/ciencia-y-salud/el-zinc-seria-clave-para-un-tratamiento-contra-el-cov…",
         "newspaper_uid": "eluniversal",
         "_deepnote_index_column": 125
        },
        {
         "body": "\r\nCuando el periodista Brian Krebs publicó en uno de los portales más leídos del mundo, The Daily M…",
         "title": "La mafia encontró el paraíso",
         "url": "https://www.eluniversal.com.mx/opinion/hector-de-mauleon/la-mafia-encontro-el-paraiso",
         "newspaper_uid": "eluniversal",
         "_deepnote_index_column": 126
        },
        {
         "body": "Una víctima más de la vanidad, y de los fraudulentos personajes que se hacen pasar como especialist…",
         "title": "nan",
         "url": "https://www.elgrafico.mx/espectaculos/la-modelo-jessica-cediel-se-somete-amputacion-de-gluteos-y-co…",
         "newspaper_uid": "eluniversal",
         "_deepnote_index_column": 127
        },
        {
         "body": "\r\nLa 64 Legislatura del Congreso de Oaxaca aprobó aplazar el inicio del proceso electoral ordinario…",
         "title": "Por pandemia, Congreso de Oaxaca aplaza hasta diciembre inicio del proceso electoral intermedio ",
         "url": "https://oaxaca.eluniversal.com.mx/politica/02-06-2020/por-pandemia-congreso-de-oaxaca-aplaza-hasta-…",
         "newspaper_uid": "eluniversal",
         "_deepnote_index_column": 128
        },
        {
         "body": "\r\nEl presidente Andrés Manuel López Obrador solicitó a los opositores a Tren Maya respetar la decis…",
         "title": "AMLO pide a opositores a Tren Maya respetar decisión del pueblo",
         "url": "http://www.eluniversal.com.mx/nacion/amlo-pide-opositores-tren-maya-respetar-decision-del-pueblo",
         "newspaper_uid": "eluniversal",
         "_deepnote_index_column": 129
        },
        {
         "body": "\r\nTexto: Carlos Villasana y Ruth GómezFotos actuales: Aram Ponce Franco / Cortesía\r\nEl Centro Histó…",
         "title": "El centro de reunión de los caballeros porfirianos",
         "url": "https://www.eluniversal.com.mx/opinion/mochilazo-en-el-tiempo/el-centro-de-reunion-de-los-caballero…",
         "newspaper_uid": "eluniversal",
         "_deepnote_index_column": 130
        },
        {
         "body": "\r\nMarsha P. Johnson was a pioneer, LGBTQ+ activist,  drag queen, and performer. She was a prominent…",
         "title": "Marsha P. Johnson: The black transgender woman who was key in the Stonewall uprising",
         "url": "http://www.eluniversal.com.mx/english/marsha-p-johnson-black-transgender-woman-who-was-key-stonewal…",
         "newspaper_uid": "eluniversal",
         "_deepnote_index_column": 131
        },
        {
         "body": "\r\nVaya golpe el que propinó la senadora Lilly Téllez a Morena en el Senado, pues no conforme con sa…",
         "title": "El golpe de la agente Téllez",
         "url": "https://www.eluniversal.com.mx/nacion/bajo-reserva-expres-el-golpe-de-la-agente-tellez",
         "newspaper_uid": "eluniversal",
         "_deepnote_index_column": 132
        },
        {
         "body": "\r\n\r\nJalisco tiene 2 mil 25 casos confirmados y 167 muertos por coronavirus, de acuerdo con el repor…",
         "title": "Coronavirus Jalisco: Casos confirmados de Covid-19 al 2 de junio",
         "url": "http://www.eluniversal.com.mx/estados/coronavirus-jalisco-casos-confirmados-de-covid-19-al-2-de-jun…",
         "newspaper_uid": "eluniversal",
         "_deepnote_index_column": 133
        },
        {
         "body": "\r\nLa identidad de Jesús Alfonso Escoboza, mejor conocido como La Parka, fue revelada por su hija me…",
         "title": "Revelan identidad de La Parka en Tik Tok",
         "url": "http://www.eluniversal.com.mx/universal-deportes/mas-deportes/la-parka-revelan-identidad-del-histor…",
         "newspaper_uid": "eluniversal",
         "_deepnote_index_column": 134
        },
        {
         "body": "\r\n“Fueron días muy duros para mí y mi familia. Cuando acudí al hospital, la angustia me invadió ant…",
         "title": "“La angustia me invadió ante la posibilidad de haberme contagiado de coronavirus\"",
         "url": "https://sanluis.eluniversal.com.mx/sociedad/02-06-2020/la-angustia-me-invadio-ante-la-posibilidad-d…",
         "newspaper_uid": "eluniversal",
         "_deepnote_index_column": 135
        },
        {
         "body": "\r\nEl 80% de los restaurantes queretanos tiene problemas para cubrir el pago de la renta de los inmu…",
         "title": "El 80% de los restaurantes no tiene para el pago de la renta",
         "url": "https://www.eluniversalqueretaro.mx/portada/sin-recursos-para-la-renta-80-de-los-restaurantes",
         "newspaper_uid": "eluniversal",
         "_deepnote_index_column": 136
        },
        {
         "body": "\r\nLa firma surcoreana Hyundai publicó los primeros detalles de lo que será la nueva SUV Santa Fe. L…",
         "title": "Hyundai Santa Fe 2021 se presenta en Europa",
         "url": "http://www.eluniversal.com.mx/autopistas/hyundai-santa-fe-2021-se-presenta-con-diseno-diferente-y-n…",
         "newspaper_uid": "eluniversal",
         "_deepnote_index_column": 137
        }
       ],
       "rows_bottom": null
      },
      "text/plain": "                                                  body  \\\n0    \\r\\n\\r\\n\\r\\n\\r\\n    googletag.cmd.push(functio...   \n1    \\r\\nEl museo del antiguo campo nazi de la muer...   \n2    \\r\\nLa Suprema Corte de Justicia de la Nación ...   \n3    \\r\\nUn grupo de funcionarios descubrió mosquit...   \n4    \\r\\nEn 1980, Héctor Suárez y Leticia Perdigón ...   \n..                                                 ...   \n133  \\r\\n\\r\\nJalisco tiene 2 mil 25 casos confirmad...   \n134  \\r\\nLa identidad de Jesús Alfonso Escoboza, me...   \n135  \\r\\n“Fueron días muy duros para mí y mi famili...   \n136  \\r\\nEl 80% de los restaurantes queretanos tien...   \n137  \\r\\nLa firma surcoreana Hyundai publicó los pr...   \n\n                                                 title  \\\n0    Las influencers tapatías que hacen temblar a Y...   \n1    El museo de Auschwitz pide ayuda para sobreviv...   \n2    Corte avala que funcionarios de Banxico, INE e...   \n3                                                  NaN   \n4           Héctor Suárez, zurdo y loco hasta el final   \n..                                                 ...   \n133  Coronavirus Jalisco: Casos confirmados de Covi...   \n134           Revelan identidad de La Parka en Tik Tok   \n135  “La angustia me invadió ante la posibilidad de...   \n136  El 80% de los restaurantes no tiene para el pa...   \n137        Hyundai Santa Fe 2021 se presenta en Europa   \n\n                                                   url newspaper_uid  \n0    http://www.unionjalisco.mx/articulo/2020/06/02...   eluniversal  \n1    http://www.eluniversal.com.mx/cultura/patrimon...   eluniversal  \n2    http://www.eluniversal.com.mx/nacion/corte-ava...   eluniversal  \n3    https://www.viveusa.mx/noticias/mosquitos-con-...   eluniversal  \n4    https://www.eluniversalqueretaro.mx/portada/he...   eluniversal  \n..                                                 ...           ...  \n133  http://www.eluniversal.com.mx/estados/coronavi...   eluniversal  \n134  http://www.eluniversal.com.mx/universal-deport...   eluniversal  \n135  https://sanluis.eluniversal.com.mx/sociedad/02...   eluniversal  \n136  https://www.eluniversalqueretaro.mx/portada/si...   eluniversal  \n137  http://www.eluniversal.com.mx/autopistas/hyund...   eluniversal  \n\n[138 rows x 4 columns]",
      "text/html": "<div>\n<style scoped>\n    .dataframe tbody tr th:only-of-type {\n        vertical-align: middle;\n    }\n\n    .dataframe tbody tr th {\n        vertical-align: top;\n    }\n\n    .dataframe thead th {\n        text-align: right;\n    }\n</style>\n<table border=\"1\" class=\"dataframe\">\n  <thead>\n    <tr style=\"text-align: right;\">\n      <th></th>\n      <th>body</th>\n      <th>title</th>\n      <th>url</th>\n      <th>newspaper_uid</th>\n    </tr>\n  </thead>\n  <tbody>\n    <tr>\n      <th>0</th>\n      <td>\\r\\n\\r\\n\\r\\n\\r\\n    googletag.cmd.push(functio...</td>\n      <td>Las influencers tapatías que hacen temblar a Y...</td>\n      <td>http://www.unionjalisco.mx/articulo/2020/06/02...</td>\n      <td>eluniversal</td>\n    </tr>\n    <tr>\n      <th>1</th>\n      <td>\\r\\nEl museo del antiguo campo nazi de la muer...</td>\n      <td>El museo de Auschwitz pide ayuda para sobreviv...</td>\n      <td>http://www.eluniversal.com.mx/cultura/patrimon...</td>\n      <td>eluniversal</td>\n    </tr>\n    <tr>\n      <th>2</th>\n      <td>\\r\\nLa Suprema Corte de Justicia de la Nación ...</td>\n      <td>Corte avala que funcionarios de Banxico, INE e...</td>\n      <td>http://www.eluniversal.com.mx/nacion/corte-ava...</td>\n      <td>eluniversal</td>\n    </tr>\n    <tr>\n      <th>3</th>\n      <td>\\r\\nUn grupo de funcionarios descubrió mosquit...</td>\n      <td>NaN</td>\n      <td>https://www.viveusa.mx/noticias/mosquitos-con-...</td>\n      <td>eluniversal</td>\n    </tr>\n    <tr>\n      <th>4</th>\n      <td>\\r\\nEn 1980, Héctor Suárez y Leticia Perdigón ...</td>\n      <td>Héctor Suárez, zurdo y loco hasta el final</td>\n      <td>https://www.eluniversalqueretaro.mx/portada/he...</td>\n      <td>eluniversal</td>\n    </tr>\n    <tr>\n      <th>...</th>\n      <td>...</td>\n      <td>...</td>\n      <td>...</td>\n      <td>...</td>\n    </tr>\n    <tr>\n      <th>133</th>\n      <td>\\r\\n\\r\\nJalisco tiene 2 mil 25 casos confirmad...</td>\n      <td>Coronavirus Jalisco: Casos confirmados de Covi...</td>\n      <td>http://www.eluniversal.com.mx/estados/coronavi...</td>\n      <td>eluniversal</td>\n    </tr>\n    <tr>\n      <th>134</th>\n      <td>\\r\\nLa identidad de Jesús Alfonso Escoboza, me...</td>\n      <td>Revelan identidad de La Parka en Tik Tok</td>\n      <td>http://www.eluniversal.com.mx/universal-deport...</td>\n      <td>eluniversal</td>\n    </tr>\n    <tr>\n      <th>135</th>\n      <td>\\r\\n“Fueron días muy duros para mí y mi famili...</td>\n      <td>“La angustia me invadió ante la posibilidad de...</td>\n      <td>https://sanluis.eluniversal.com.mx/sociedad/02...</td>\n      <td>eluniversal</td>\n    </tr>\n    <tr>\n      <th>136</th>\n      <td>\\r\\nEl 80% de los restaurantes queretanos tien...</td>\n      <td>El 80% de los restaurantes no tiene para el pa...</td>\n      <td>https://www.eluniversalqueretaro.mx/portada/si...</td>\n      <td>eluniversal</td>\n    </tr>\n    <tr>\n      <th>137</th>\n      <td>\\r\\nLa firma surcoreana Hyundai publicó los pr...</td>\n      <td>Hyundai Santa Fe 2021 se presenta en Europa</td>\n      <td>http://www.eluniversal.com.mx/autopistas/hyund...</td>\n      <td>eluniversal</td>\n    </tr>\n  </tbody>\n</table>\n<p>138 rows × 4 columns</p>\n</div>"
     },
     "metadata": {}
    }
   ]
  },
  {
   "cell_type": "markdown",
   "source": "### 2. Obtener el Host",
   "metadata": {
    "tags": [],
    "cell_id": "00023-cd509306-8728-481c-9fdc-7280737eefdb",
    "deepnote_cell_type": "markdown"
   }
  },
  {
   "cell_type": "code",
   "metadata": {
    "tags": [],
    "cell_id": "00022-f4474980-77bf-491e-a2c6-1281a30d0a33",
    "deepnote_to_be_reexecuted": false,
    "source_hash": "31ec1db5",
    "execution_start": 1630367540980,
    "execution_millis": 11,
    "deepnote_cell_type": "code"
   },
   "source": "from urllib.parse import urlparse\nel_universal['host'] = el_universal['url'].apply(lambda url: urlparse(url).netloc)\n\nel_universal",
   "execution_count": 13,
   "outputs": [
    {
     "output_type": "execute_result",
     "execution_count": 13,
     "data": {
      "application/vnd.deepnote.dataframe.v2+json": {
       "row_count": 138,
       "column_count": 5,
       "columns": [
        {
         "name": "body",
         "dtype": "object",
         "stats": {
          "unique_count": 138,
          "nan_count": 0,
          "categories": [
           {
            "name": "\r\n\r\n\r\n\r\n    googletag.cmd.push(function() {\r\n      googletag.display(\"dfp-ad-top3_content\");\r\n    });\r\n  \r\n\r\n\r\nYanet García se consolidó como una de las consentidas en redes sociales por su labor en la pantalla chica, contrario a estas bellezas tapatías que primero saltaron del Instagram para retar a la famosa chica del clima regiomontana.\r\nSus millones de seguidores presumen que la influencer Yuliett Torres pose mejores curvas que la ex conductora de Hoy y de no ser por estar bloqueada por famosas de la farándula nacional la modelo ya estaría en programas de altos niveles de audiencia.\r\nParece que muy a pesar de Yanet, Yuliett se está abriendo camino en el espectáculo mexicano con intervenciones en videoclips de gruperos y por los patrocinadores que pagan jugosas sumas para ser su imagen.\r\nOtro factor a considerar son los videos subidos de tono que publica en sus redes sociales y que con el tiempo le permite aparecer como portadas en medios nacionales e incluso internacionales.\r\nMary Baltazar, modelo de Instagram con más de 2.8 millones de fans, es sin duda una tapatía que pone a temblar a Yanet García. \r\nAlgunas personas sostienen que la anatomía de la influencer es más natural y por ello debería de ser elegida como la más guapa.\r\nIncluso refieren que las fotos de Mary despiertan la envida de la regiomontana por que siempre luce espectacular y casi no se le hacen retoques.\r\nLa tapatía logró saltar de la comunidad virtual a las pasarelas, donde se mantiene como una de las modelos más solicitadas por anunciantes de nuestro país.\r\nEn las últimas semanas otra que se sumó a la disputa de la corona por la influencer con mejor retaguardia fue Dafne Cosío, ‘La Barbie tapatía’, quien gracias a sus consejos pudo colaborar con el autor de la canción ‘Tusa’.\r\nLa bella escribió el tema ”Requisito\" junto con con Keytin, autor del sonado tema de Karol G y Nicky Minaj.\r\nDafne comenzó a tocar el piano, estudiar solfeo, y durante 12 años se ha preparado para darlo todo en el mundo de la música; así como es bailarina de ballet y tahitiano.\r\nVER: \r\nJugadora de Chivas pone a temblar aYanet  García\r\n",
            "count": 1
           },
           {
            "name": "\r\nEl museo del antiguo campo nazi de la muerte Auschwitz-Birkenau, cerrado desde mediados de marzo por la pandemia de coronavirus, pidió el miércoles ayuda financiera.\r\nEn 2020 se celebró el 75 aniversario de la liberación de Auschwitz-Birkenau, convertido en símbolo de todos los campos de exterminio donde murieron cerca de la mitad de los 6 millones de judíos asesinados durante el Holocausto, así como centenares de miles de personas de otros orígenes.\r\n \r\n\r\n\r\n\r\n \r\n\r\n\r\n \r\n\r\n \r\n\r\n\r\n\r\n \r\n\r\n\r\n\r\n\r\nView this post on Instagram\r\n\r\n\r\n \r\n\r\n\r\n\r\n \r\n\r\n \r\n\r\n \r\n\r\n\r\n\r\n \r\n\r\n \r\n\r\n\r\n\r\n \r\n\r\n \r\n\r\n \r\n\r\n\r\n\r\nThe history of Auschwitz is actually 1,300,000 individual stories of individuals deported. . . --- Photo by @robertofranchiniphoto --- . . #Auschwitz #Birkenau #AuschwitzMemorial #Nazi #Germany #concentrationcamp #extermination #genocide #history #Holocaust #Shoah #Jews #Poles #Roma #people #life #death #humanity #humiliation #dehumanization #remembrance #commemoration #memory #museum #Poland #igerspoland #UNESCO #worldheritage #worldHeritagelist @unesco #photography\r\n\r\nA post shared by  Auschwitz Memorial and Museum (@auschwitzmemorial) on Feb 2, 2020 at 11:10pm PST\r\n\r\n\r\n\r\n\"Pedimos ayuda financiera por parte de todos los que consideran necesario preservar la memoria\", se lee en un comunicado publicado en la web del museo.\r\n\"El presupuesto de 2020 se hundió\", dice el texto, pese al \"apoyo particular\" del ministerio polaco de la Cultura y la Fundación Internacional Auschwitz-Birkenau que permite mantener el empleo y continuar las obras de mantenimiento de los vestigios de este antiguo campo de la muerte.\r\nSin embargo el museo no tiene fondos para sus actividades educativas, editoriales y para sus exposiciones.\r\nEl memorial de Auschwitz-Birkenau está cerrado desde el 12 de marzo y no podrá abrir hasta principios de julio según su web.\r\nfjb\r\n",
            "count": 1
           },
           {
            "name": "136 others",
            "count": 136
           }
          ]
         }
        },
        {
         "name": "title",
         "dtype": "object",
         "stats": {
          "unique_count": 110,
          "nan_count": 28,
          "categories": [
           {
            "name": "Las influencers tapatías que hacen temblar a Yanet García",
            "count": 1
           },
           {
            "name": "109 others",
            "count": 109
           },
           {
            "name": "Missing",
            "count": 28
           }
          ]
         }
        },
        {
         "name": "url",
         "dtype": "object",
         "stats": {
          "unique_count": 138,
          "nan_count": 0,
          "categories": [
           {
            "name": "http://www.unionjalisco.mx/articulo/2020/06/02/espectaculos/las-influencers-tapatias-que-hacen-temblar-yanet-garcia",
            "count": 1
           },
           {
            "name": "http://www.eluniversal.com.mx/cultura/patrimonio/coronavirus-el-museo-de-auschwitz-pide-ayuda-para-sobrevivir-la-pandemia",
            "count": 1
           },
           {
            "name": "136 others",
            "count": 136
           }
          ]
         }
        },
        {
         "name": "newspaper_uid",
         "dtype": "object",
         "stats": {
          "unique_count": 1,
          "nan_count": 0,
          "categories": [
           {
            "name": "eluniversal",
            "count": 138
           }
          ]
         }
        },
        {
         "name": "host",
         "dtype": "object",
         "stats": {
          "unique_count": 14,
          "nan_count": 0,
          "categories": [
           {
            "name": "www.eluniversal.com.mx",
            "count": 79
           },
           {
            "name": "www.viveusa.mx",
            "count": 14
           },
           {
            "name": "12 others",
            "count": 45
           }
          ]
         }
        },
        {
         "name": "_deepnote_index_column",
         "dtype": "int64"
        }
       ],
       "rows_top": [
        {
         "body": "\r\n\r\n\r\n\r\n    googletag.cmd.push(function() {\r\n      googletag.display(\"dfp-ad-top3_content\");\r\n    }…",
         "title": "Las influencers tapatías que hacen temblar a Yanet García",
         "url": "http://www.unionjalisco.mx/articulo/2020/06/02/espectaculos/las-influencers-tapatias-que-hacen-temb…",
         "newspaper_uid": "eluniversal",
         "host": "www.unionjalisco.mx",
         "_deepnote_index_column": 0
        },
        {
         "body": "\r\nEl museo del antiguo campo nazi de la muerte Auschwitz-Birkenau, cerrado desde mediados de marzo …",
         "title": "El museo de Auschwitz pide ayuda para sobrevivir la pandemia",
         "url": "http://www.eluniversal.com.mx/cultura/patrimonio/coronavirus-el-museo-de-auschwitz-pide-ayuda-para-…",
         "newspaper_uid": "eluniversal",
         "host": "www.eluniversal.com.mx",
         "_deepnote_index_column": 1
        },
        {
         "body": "\r\nLa Suprema Corte de Justicia de la Nación (SCJN) avaló que funcionarios del Banco de México (Banx…",
         "title": "Corte avala que funcionarios de Banxico, INE e IFT ganen más que AMLO",
         "url": "http://www.eluniversal.com.mx/nacion/corte-avala-que-funcionarios-de-banxico-ine-e-ift-ganen-mas-qu…",
         "newspaper_uid": "eluniversal",
         "host": "www.eluniversal.com.mx",
         "_deepnote_index_column": 2
        },
        {
         "body": "\r\nUn grupo de funcionarios descubrió mosquitos infectados con el virus del Nilo Occidental al sur d…",
         "title": "nan",
         "url": "https://www.viveusa.mx/noticias/mosquitos-con-el-virus-del-nilo-occidental-llegan-california",
         "newspaper_uid": "eluniversal",
         "host": "www.viveusa.mx",
         "_deepnote_index_column": 3
        },
        {
         "body": "\r\nEn 1980, Héctor Suárez y Leticia Perdigón nunca se llamaron por su nombre. Los dos formaban parte…",
         "title": "Héctor Suárez, zurdo y loco hasta el final",
         "url": "https://www.eluniversalqueretaro.mx/portada/hector-suarez-zurdo-y-loco-hasta-el-final-zurdo-y-loco-…",
         "newspaper_uid": "eluniversal",
         "host": "www.eluniversalqueretaro.mx",
         "_deepnote_index_column": 4
        },
        {
         "body": "\r\nEl fiscal general Keith Ellison planea elevar los cargos contra Derek Chauvin, el expolicía de Mi…",
         "title": "Fiscal acusará de homicidio en segundo grado a Derek Chauvin; implicará a tres policías más",
         "url": "http://www.eluniversal.com.mx/mundo/george-floyd-fiscal-acusara-de-homicidio-en-segundo-grado-derek…",
         "newspaper_uid": "eluniversal",
         "host": "www.eluniversal.com.mx",
         "_deepnote_index_column": 5
        },
        {
         "body": "\r\n\r\n\r\n\r\n    googletag.cmd.push(function() {\r\n      googletag.display(\"dfp-ad-top3_content\");\r\n    }…",
         "title": "Citas para verificar Edomex 2020: Entérate ",
         "url": "http://www.unionedomex.mx/articulo/2020/06/02/gente/citas-para-verificar-edomex-2020-enterate",
         "newspaper_uid": "eluniversal",
         "host": "www.unionedomex.mx",
         "_deepnote_index_column": 6
        },
        {
         "body": "\r\n\r\n\r\n\r\n    googletag.cmd.push(function() {\r\n      googletag.display(\"dfp-ad-top3_content\");\r\n    }…",
         "title": "Cómo consigo una de Beca Benito Juárez de primaria y secundaria",
         "url": "http://www.unionpuebla.mx/articulo/2020/05/26/educacion/como-consigo-una-de-beca-benito-juarez-de-p…",
         "newspaper_uid": "eluniversal",
         "host": "www.unionpuebla.mx",
         "_deepnote_index_column": 7
        },
        {
         "body": "\r\n\r\n\r\n\r\n    googletag.cmd.push(function() {\r\n      googletag.display(\"dfp-ad-top3_content\");\r\n    }…",
         "title": "Belinda, edad, estatura y otros datos de la coach de La Voz",
         "url": "http://www.unionyucatan.mx/articulo/2020/06/02/espectaculos/belinda-edad-estatura-y-otros-datos-de-…",
         "newspaper_uid": "eluniversal",
         "host": "www.unionyucatan.mx",
         "_deepnote_index_column": 8
        },
        {
         "body": "Temascaltepec.— Sicarios descargaron más de cien tiros contra un custodio, tras ser emboscado a la …",
         "title": "nan",
         "url": "https://www.elgrafico.mx/la-roja/custodio-de-penal-en-edomex-termina-mas-que-muerto-luego-de-mas-de…",
         "newspaper_uid": "eluniversal",
         "host": "www.elgrafico.mx",
         "_deepnote_index_column": 9
        },
        {
         "body": "\r\nGianna tiene seis años. No sabe cómo murió su padre, George Floyd. Sólo sabe que lo extraña y que…",
         "title": "“Extraño a mi papi. Él cambió el mundo”, dice la hija de George Floyd",
         "url": "http://www.eluniversal.com.mx/mundo/extrano-mi-papi-el-cambio-el-mundo-dice-la-hija-de-george-floyd",
         "newspaper_uid": "eluniversal",
         "host": "www.eluniversal.com.mx",
         "_deepnote_index_column": 10
        },
        {
         "body": "\r\nLa Secretaría de Energía (Sener), a través de PTI Infraestructura de Desarrollo, adjudicó los 7 p…",
         "title": "Sener adjudica los contratos para almacenamiento de la nueva refinería de Dos Bocas",
         "url": "http://www.eluniversal.com.mx/cartera/sener-adjudica-los-contratos-para-almacenamiento-de-la-nueva-…",
         "newspaper_uid": "eluniversal",
         "host": "www.eluniversal.com.mx",
         "_deepnote_index_column": 11
        },
        {
         "body": "\r\nCampeche, Después de que ayer el subsecretario de Salud, Hugo López-Gatell, admitiera ante los go…",
         "title": "No nos confiemos, pide AMLO; es una pandemia muy dañina",
         "url": "http://www.eluniversal.com.mx/nacion/no-nos-confiemos-pide-amlo-es-una-pandemia-muy-danina",
         "newspaper_uid": "eluniversal",
         "host": "www.eluniversal.com.mx",
         "_deepnote_index_column": 12
        },
        {
         "body": "\r\nQuito.- El expresidente ecuatoriano Abdalá Bucaram fue detenido el miércoles en su domicilio dura…",
         "title": "Detienen en Guayaquil a expresidente de Ecuador, acusado de corrupción",
         "url": "http://www.eluniversal.com.mx/mundo/detienen-en-guayaquil-expresidente-de-ecuador-acusado-de-corrup…",
         "newspaper_uid": "eluniversal",
         "host": "www.eluniversal.com.mx",
         "_deepnote_index_column": 13
        },
        {
         "body": "\r\n-Doctor, ¿ya está domada la pandemia?- se le pregunta al subsecretario de Salud y vocero del gobi…",
         "title": "Pandemia no está domada en México: López-Gatell",
         "url": "http://www.eluniversal.com.mx/nacion/pandemia-no-esta-domada-en-mexico-lopez-gatell",
         "newspaper_uid": "eluniversal",
         "host": "www.eluniversal.com.mx",
         "_deepnote_index_column": 14
        },
        {
         "body": "\r\nEn medio de la pandemia de Covid-19 y con todas las agencias automotrices cerradas, en mayo, la v…",
         "title": "Venta de autos en mayo, mejor que en abril: AMDA",
         "url": "http://www.eluniversal.com.mx/cartera/venta-de-autos-en-mayo-mejor-que-en-abril-amda",
         "newspaper_uid": "eluniversal",
         "host": "www.eluniversal.com.mx",
         "_deepnote_index_column": 15
        },
        {
         "body": " 0 % PULSO SOCIAL0 El 2020 ya inició y en esta nueva década es común que comencemos a preguntarnos …",
         "title": "nan",
         "url": "https://de10.com.mx/top-10/10-terribles-profecias-de-nostradamus-para-el-2020",
         "newspaper_uid": "eluniversal",
         "host": "de10.com.mx",
         "_deepnote_index_column": 16
        },
        {
         "body": "\r\n\r\n\r\n\r\n    googletag.cmd.push(function() {\r\n      googletag.display(\"dfp-ad-top3_content\");\r\n    }…",
         "title": "Admisión BUAP 2020: Examen de admisión se pospone",
         "url": "http://www.unionpuebla.mx/articulo/2020/06/01/educacion/admision-buap-2020-examen-de-admision-se-po…",
         "newspaper_uid": "eluniversal",
         "host": "www.unionpuebla.mx",
         "_deepnote_index_column": 17
        },
        {
         "body": "\r\nJuchitán de Zaragoza.— La cortina de acero  está  arriba hasta la mitad en  la entrada a la tiend…",
         "title": "Juchitán regresa a \"nueva normalidad\" pese a riesgo de contagios por Covid-19",
         "url": "https://oaxaca.eluniversal.com.mx/municipios/02-06-2020/juchitan-regresa-nueva-normalidad-pese-ries…",
         "newspaper_uid": "eluniversal",
         "host": "oaxaca.eluniversal.com.mx",
         "_deepnote_index_column": 18
        },
        {
         "body": "\r\nEste martes estrenó \"La Voz Azteca\" con Belinda, Christian Nodal, María José y Ricardo Montaner c…",
         "title": "Sin público y sin cubrebocas arranca \"La Voz Azteca\"",
         "url": "http://www.eluniversal.com.mx/espectaculos/la-voz-azteca-sin-publico-y-sin-cubrebocas",
         "newspaper_uid": "eluniversal",
         "host": "www.eluniversal.com.mx",
         "_deepnote_index_column": 19
        },
        {
         "body": "\r\nTexto: Yessica Torres\r\nRodeado de mar y por su ubicación geográfica es común que en el territorio…",
         "title": "El plan de emergencia que surgió por el desbordamiento de un río",
         "url": "https://www.eluniversal.com.mx/opinion/mochilazo-en-el-tiempo/el-plan-de-emergencia-que-surgio-por-…",
         "newspaper_uid": "eluniversal",
         "host": "www.eluniversal.com.mx",
         "_deepnote_index_column": 20
        },
        {
         "body": "\r\nDisney Springs en Orlando, Florida reabrió el pasado 20 de mayo luego de permanecer cerrado como …",
         "title": "nan",
         "url": "https://www.viveusa.mx/destinos/10-fotos-que-muestran-como-es-visitar-disney-springs-durante-la-pan…",
         "newspaper_uid": "eluniversal",
         "host": "www.viveusa.mx",
         "_deepnote_index_column": 21
        },
        {
         "body": "\r\n\r\nLeón.— La industria del calzado reiniciará sus actividades de producción, a partir de este 1 de…",
         "title": "Industria del calzado de León reanudará actividades con 30% de capacidad",
         "url": "http://www.eluniversal.com.mx/estados/industria-del-calzado-de-leon-reanudara-actividades-con-30-de…",
         "newspaper_uid": "eluniversal",
         "host": "www.eluniversal.com.mx",
         "_deepnote_index_column": 22
        },
        {
         "body": "\r\nA través de redes sociales, la senadora Lilly Téllez anunció que deja la bancada de Morena “por d…",
         "title": "Lilly Téllez deja bancada de Morena en el Senado “por diferencias de criterio”",
         "url": "http://www.eluniversal.com.mx/nacion/lilly-tellez-deja-bancada-de-morena-por-diferencias-de-criterio",
         "newspaper_uid": "eluniversal",
         "host": "www.eluniversal.com.mx",
         "_deepnote_index_column": 23
        },
        {
         "body": "\r\nJuchitán de Zaragoza. - Un niño de 4 años murió la noche del sábado debido a las graves heridas q…",
         "title": "Perro Pitbull ataca y mata a niño de 4 años en Tehuantepec ",
         "url": "https://oaxaca.eluniversal.com.mx/municipios/01-06-2020/perro-pitbull-ataca-y-mata-nino-de-4-anos-e…",
         "newspaper_uid": "eluniversal",
         "host": "oaxaca.eluniversal.com.mx",
         "_deepnote_index_column": 24
        },
        {
         "body": "\r\nTexto: Carlos Villasana y Ruth Gómez.\r\nHabitar y transitar por la Ciudad de México sin música par…",
         "title": "Cuando las canciones se aprendían con Notitas Musicales",
         "url": "https://www.eluniversal.com.mx/opinion/mochilazo-en-el-tiempo/cuando-las-canciones-se-aprendian-con…",
         "newspaper_uid": "eluniversal",
         "host": "www.eluniversal.com.mx",
         "_deepnote_index_column": 25
        },
        {
         "body": "\r\n\r\n\r\n\r\n    googletag.cmd.push(function() {\r\n      googletag.display(\"dfp-ad-top3_content\");\r\n    }…",
         "title": "María José, edad, estatura y más de la coach de La Voz México",
         "url": "http://www.unionyucatan.mx/articulo/2020/06/02/espectaculos/maria-jose-edad-estatura-y-mas-de-la-co…",
         "newspaper_uid": "eluniversal",
         "host": "www.unionyucatan.mx",
         "_deepnote_index_column": 26
        },
        {
         "body": "\r\nEl ayuntamiento de Soledad informó que a partir del 1 de junio iniciará la reactivación escalonad…",
         "title": "Este lunes inicia reapertura escalonada de comercios en Soledad",
         "url": "https://sanluis.eluniversal.com.mx/municipios/29-05-2020/este-lunes-inicia-reapertura-escalonada-de…",
         "newspaper_uid": "eluniversal",
         "host": "sanluis.eluniversal.com.mx",
         "_deepnote_index_column": 27
        },
        {
         "body": "\r\nEn la última fotografía de las tres generaciones Suárez, Héctor aparece sonriendo dentro de una …",
         "title": "Suárez Gomís comparte última foto con Héctor Suárez y su hijo ",
         "url": "http://www.eluniversal.com.mx/espectaculos/suarez-gomis-comparte-ultima-foto-con-hector-suarez-y-su…",
         "newspaper_uid": "eluniversal",
         "host": "www.eluniversal.com.mx",
         "_deepnote_index_column": 28
        },
        {
         "body": " 0 % PULSO SOCIAL0 Hoy en día los filtros y herramientas en redes sociales pueden darles a todos un…",
         "title": "nan",
         "url": "https://de10.com.mx/cultura-digital/insolito-influencers-muestran-su-vida-sin-filtros-ni-retoques",
         "newspaper_uid": "eluniversal",
         "host": "de10.com.mx",
         "_deepnote_index_column": 29
        },
        {
         "body": "\r\nRodolfo Pizarro fue honesto en una charla extensa con Oswaldo Alanís, excompañero suyo en las Chi…",
         "title": "El 'Negro' Santos es mi juguete: Rodolfo Pizarro",
         "url": "http://www.eluniversal.com.mx/universal-deportes/futbol/rodolfo-pizarro-el-negro-santos-es-mi-jugue…",
         "newspaper_uid": "eluniversal",
         "host": "www.eluniversal.com.mx",
         "_deepnote_index_column": 30
        },
        {
         "body": "\r\nEl nuevo estadio de Mazatlán, cuya construcción está por concluir este mes, después de tres años …",
         "title": "Conoce el nuevo estadio del Mazatlán FC",
         "url": "http://www.eluniversal.com.mx/universal-deportes/futbol/liga-mx-conoce-el-nuevo-estadio-del-mazatla…",
         "newspaper_uid": "eluniversal",
         "host": "www.eluniversal.com.mx",
         "_deepnote_index_column": 31
        },
        {
         "body": "\r\nEl coordinador del PAN en el Senado, Mauricio Kuri, anunció la adhesión de la senadora Lilly Téll…",
         "title": "Lilly Téllez se suma al PAN en el Senado",
         "url": "http://www.eluniversal.com.mx/nacion/lilly-tellez-se-suma-al-pan-en-el-senado",
         "newspaper_uid": "eluniversal",
         "host": "www.eluniversal.com.mx",
         "_deepnote_index_column": 32
        },
        {
         "body": "\r\n\r\nUn grupo de jóvenes de Craiova, una ciudad pequeña, enclavada en una región agrícola de Rumania…",
         "title": " Opera en México banda rumana de robos millonarios en cajeros",
         "url": "http://www.eluniversal.com.mx/nacion/opera-en-mexico-banda-rumana-de-robos-millonarios-en-cajeros",
         "newspaper_uid": "eluniversal",
         "host": "www.eluniversal.com.mx",
         "_deepnote_index_column": 33
        },
        {
         "body": "\r\nEste sábado, concejales de Oaxaca de Juárez aprobaron por unanimidad prolongar hasta el 30 de jun…",
         "title": "La capital amplía al 30 de junio medidas contra Covid-19, ante pico de contagios",
         "url": "https://oaxaca.eluniversal.com.mx/municipios/30-05-2020/la-capital-amplia-al-30-de-junio-medidas-co…",
         "newspaper_uid": "eluniversal",
         "host": "oaxaca.eluniversal.com.mx",
         "_deepnote_index_column": 34
        },
        {
         "body": "\r\nImagina encontrarte con cientos de flamencos en libertad: admirar su vuelo, sus elegantes movimie…",
         "title": "Celestún, el paraíso mexicano donde habita el flamenco rosa ",
         "url": "http://www.eluniversal.com.mx/destinos/celestun-el-paraiso-mexicano-donde-habita-el-flamenco-rosa",
         "newspaper_uid": "eluniversal",
         "host": "www.eluniversal.com.mx",
         "_deepnote_index_column": 35
        },
        {
         "body": "\r\nLa Fiscalía General del Estado de Oaxaca (FGEO) informó que un juez vinculó a proceso a un sujeto…",
         "title": "Vinculan a sujeto que presuntamente atacó sexualmente a sus dos hijas en Oaxaca",
         "url": "https://oaxaca.eluniversal.com.mx/estatal/28-04-2020/vinculan-sujeto-que-presuntamente-ataco-sexual…",
         "newspaper_uid": "eluniversal",
         "host": "oaxaca.eluniversal.com.mx",
         "_deepnote_index_column": 36
        },
        {
         "body": "\r\nTexto: Daniela Jurado Cano\r\n\r\nEn los 80 comenzaron a surgir grupos, sellos discográficos y espaci…",
         "title": "Grupos de rock, cronistas de la CDMX y periferia",
         "url": "https://www.eluniversal.com.mx/opinion/mochilazo-en-el-tiempo/grupos-de-rock-cronistas-de-la-cdmx-y…",
         "newspaper_uid": "eluniversal",
         "host": "www.eluniversal.com.mx",
         "_deepnote_index_column": 37
        },
        {
         "body": "\r\nTlalnepantla, Méx.— Bernabé Flores Franco, enfermero que libró la batalla contra el Covid-19 lueg…",
         "title": "Libra Covid... pero queda con daño pulmonar; no lo atienden por miedo",
         "url": "http://www.eluniversal.com.mx/metropoli/libra-covid-pero-queda-con-dano-pulmonar-no-lo-atienden-por…",
         "newspaper_uid": "eluniversal",
         "host": "www.eluniversal.com.mx",
         "_deepnote_index_column": 38
        },
        {
         "body": "\r\nEn mayo hubo 864 nuevos casos de Covid-19 en Querétaro y 100 defunciones; esto es cerca de siete …",
         "title": "Mayo fue el mes con más contagios y defunciones por Coronavirus, en Querétaro",
         "url": "https://www.eluniversalqueretaro.mx/portada/mayo-fue-el-mes-con-mas-contagios-y-defunciones",
         "newspaper_uid": "eluniversal",
         "host": "www.eluniversalqueretaro.mx",
         "_deepnote_index_column": 39
        },
        {
         "body": "\r\nCampeche.- En el banderazo de inicio de obra del Tramo 2 del Tren Maya, el presidente Andrés Manu…",
         "title": "AMLO da banderazo en Campeche al Tramo 2 del Tren Maya",
         "url": "http://www.eluniversal.com.mx/nacion/amlo-da-banderazo-en-campeche-al-tramo-2-del-tren-maya",
         "newspaper_uid": "eluniversal",
         "host": "www.eluniversal.com.mx",
         "_deepnote_index_column": 40
        },
        {
         "body": "\r\n\r\n\r\n\r\n    googletag.cmd.push(function() {\r\n      googletag.display(\"dfp-ad-top3_content\");\r\n    }…",
         "title": "Constancia Digital INE: ¿cómo tramitarla y para qué sirve?",
         "url": "http://www.unioncdmx.mx/articulo/2020/05/27/ciudadanos/constancia-digital-ine-como-tramitarla-y-par…",
         "newspaper_uid": "eluniversal",
         "host": "www.unioncdmx.mx",
         "_deepnote_index_column": 41
        },
        {
         "body": "\r\n\r\nLas manifestaciones por la muerte de George Floyd, un hombre afroestadounidense asesinado por p…",
         "title": "Estados Unidos en llamas",
         "url": "https://www.eluniversal.com.mx/opinion/andrew-selee/estados-unidos-en-llamas",
         "newspaper_uid": "eluniversal",
         "host": "www.eluniversal.com.mx",
         "_deepnote_index_column": 42
        },
        {
         "body": " 0 % PULSO SOCIAL0 Charles Chaplin es conocido por su legendario talento cómico, pero su vida perso…",
         "title": "nan",
         "url": "https://de10.com.mx/top-10/las-cuatro-bellas-y-jovenes-esposas-de-charlie-chaplin",
         "newspaper_uid": "eluniversal",
         "host": "de10.com.mx",
         "_deepnote_index_column": 43
        },
        {
         "body": " Toggle navigation  SuscripcionesEl Universal ImpresoEl Universal QuerétaroEl Universal Digital    …",
         "title": "nan",
         "url": "https://www.clubeluniversal.mx/content/suscripciones",
         "newspaper_uid": "eluniversal",
         "host": "www.clubeluniversal.mx",
         "_deepnote_index_column": 44
        },
        {
         "body": "En un robo casi de película, una banda bien organizada obligó a la empleada de una sucursal de Banc…",
         "title": "nan",
         "url": "https://www.elgrafico.mx/la-roja/asi-se-robaron-14-millones-de-pesos-en-un-banco-de-cdmx-con-cintur…",
         "newspaper_uid": "eluniversal",
         "host": "www.elgrafico.mx",
         "_deepnote_index_column": 45
        },
        {
         "body": "\r\n\r\n\r\n\r\n    googletag.cmd.push(function() {\r\n      googletag.display(\"dfp-ad-top3_content\");\r\n    }…",
         "title": "Christian Nodal, edad y secretos del coach de La Voz México 2020",
         "url": "http://www.unionyucatan.mx/articulo/2020/06/02/espectaculos/christian-nodal-edad-y-secretos-del-coa…",
         "newspaper_uid": "eluniversal",
         "host": "www.unionyucatan.mx",
         "_deepnote_index_column": 46
        },
        {
         "body": "\r\nMelania Trump no pudo ocultar su incomodidad cuando su esposo, el presidente Donald Trumo, le pid…",
         "title": "nan",
         "url": "https://www.viveusa.mx/noticias/la-sonrisa-forzada-de-melania-trump-un-video-que-se-volvio-viral",
         "newspaper_uid": "eluniversal",
         "host": "www.viveusa.mx",
         "_deepnote_index_column": 47
        },
        {
         "body": "\r\nEn 2004, el rumano Filip Sardaru hizo una emotiva petición a Canadá para que su familia fuera ace…",
         "title": "Cruzando el Río Grande: Cómo unos rumanos entraron ilegalmente a Estados Unidos para robar cajeros …",
         "url": "http://www.eluniversal.com.mx/nacion/cruzando-el-rio-grande-como-unos-rumanos-entraron-ilegalmente-…",
         "newspaper_uid": "eluniversal",
         "host": "www.eluniversal.com.mx",
         "_deepnote_index_column": 48
        },
        {
         "body": "\r\nLa actriz Megan Fox salió en compañía de sus tres hijos a una tienda de la ciudad de Calabasas, e…",
         "title": "nan",
         "url": "https://www.viveusa.mx/showbiz/megan-fox-cautiva-con-jeans-ajustados-en-california-tras-separacion",
         "newspaper_uid": "eluniversal",
         "host": "www.viveusa.mx",
         "_deepnote_index_column": 49
        },
        {
         "body": "\r\nEl reinicio de actividades en el sector industrial se caracterizó por ausencia de trabajadores y …",
         "title": "\"Nueva normalidad\" inicia con ausentismo laboral y sin pruebas para detectar Covid",
         "url": "http://www.eluniversal.com.mx/cartera/negocios/nueva-normalidad-inicia-con-ausentismo-laboral-y-sin…",
         "newspaper_uid": "eluniversal",
         "host": "www.eluniversal.com.mx",
         "_deepnote_index_column": 50
        },
        {
         "body": "\r\nLa marca mexicana Veoveo lanzó una campaña con causa durante la pandemia por Covid-19. Fabrican c…",
         "title": "nan",
         "url": "https://www.viveusa.mx/compras/fabrican-cubrebocas-para-ayudar-ninos-migrantes-en-mexico",
         "newspaper_uid": "eluniversal",
         "host": "www.viveusa.mx",
         "_deepnote_index_column": 51
        },
        {
         "body": "\r\nQuerétaro, Querétaro.-\r\n\r\nLa peluquería de Mario Rodríguez Hernández está vacía. La gente en esto…",
         "title": "Resistencia. Peluquero sobrelleva encierro",
         "url": "https://www.eluniversalqueretaro.mx/portada/resistenciapeluquero-sobrelleva-encierro",
         "newspaper_uid": "eluniversal",
         "host": "www.eluniversalqueretaro.mx",
         "_deepnote_index_column": 52
        },
        {
         "body": "\r\nDemi Rose conquistó las redes sociales con un vestido que se ajustó a sus curvas de infarto y rev…",
         "title": "nan",
         "url": "https://www.viveusa.mx/showbiz/demi-rose-presume-vestido-de-impacto-en-redes-sociales",
         "newspaper_uid": "eluniversal",
         "host": "www.viveusa.mx",
         "_deepnote_index_column": 53
        },
        {
         "body": "\r\nToluca.- La Secretaría de Educación del Estado de México informó que el 5 de junio concluirá el a…",
         "title": "Estas son las fechas para finalizar clases e iniciar ciclo escolar 2020-2021 en Edomex",
         "url": "http://www.eluniversal.com.mx/metropoli/edomex/estas-son-las-fechas-para-finalizar-clases-e-iniciar…",
         "newspaper_uid": "eluniversal",
         "host": "www.eluniversal.com.mx",
         "_deepnote_index_column": 54
        },
        {
         "body": "\r\nCon 18 años de edad, Dafne Almazán Anaya se convirtió en la mexicana más joven en graduarse de un…",
         "title": "nan",
         "url": "https://www.viveusa.mx/educacion/dafne-almazan-la-mexicana-mas-joven-en-graduarse-de-una-maestria-e…",
         "newspaper_uid": "eluniversal",
         "host": "www.viveusa.mx",
         "_deepnote_index_column": 55
        },
        {
         "body": "\r\n\r\nNos comentan que quien piense que la empresa Wal-Mart realizó de buena voluntad un pago por 8 m…",
         "title": "La historia de los 8 mil millones que pagó Wal-Mart",
         "url": "https://www.eluniversal.com.mx/opinion/periodistas-el-universal/la-historia-de-los-8-mil-millones-q…",
         "newspaper_uid": "eluniversal",
         "host": "www.eluniversal.com.mx",
         "_deepnote_index_column": 56
        },
        {
         "body": "\r\n\r\n En Puebla se han registrado 392 muertes y 3 mil 239 casos confirmados de coronavirus al 2 de j…",
         "title": "Coronavirus Puebla: Casos confirmados de Covid-19 al 2 de junio",
         "url": "http://www.eluniversal.com.mx/estados/coronavirus-puebla-casos-confirmados-de-covid-19-al-2-de-junio",
         "newspaper_uid": "eluniversal",
         "host": "www.eluniversal.com.mx",
         "_deepnote_index_column": 57
        },
        {
         "body": "\r\nA medida que los manifestantes ocupaban las avenidas a lo largo y ancho de Estados Unidos para co…",
         "title": "nan",
         "url": "https://www.viveusa.mx/noticias/protestas-en-estados-unidos-podrian-provocar-nuevos-casos-de-corona…",
         "newspaper_uid": "eluniversal",
         "host": "www.viveusa.mx",
         "_deepnote_index_column": 58
        },
        {
         "body": "\r\n\r\n\r\n\r\n    googletag.cmd.push(function() {\r\n      googletag.display(\"dfp-ad-top3_content\");\r\n    }…",
         "title": "‘Enamorándonos’ y su maldición",
         "url": "http://www.unionjalisco.mx/articulo/2020/06/03/espectaculos/enamorandonos-y-su-maldicion",
         "newspaper_uid": "eluniversal",
         "host": "www.unionjalisco.mx",
         "_deepnote_index_column": 59
        },
        {
         "body": "\r\nLa secretaria de Salud, Oliva López, consideró que en septiembre el semáforo podría cambiar a nar…",
         "title": "Decesos por Covid se estabilizarán en septiembre en CDMX",
         "url": "http://www.eluniversal.com.mx/metropoli/decesos-por-covid-se-estabilizaran-en-septiembre-en-cdmx",
         "newspaper_uid": "eluniversal",
         "host": "www.eluniversal.com.mx",
         "_deepnote_index_column": 60
        },
        {
         "body": "\r\nEl gobernador Francisco Domínguez Servién desmintió que el estado de Querétaro haya aceptado util…",
         "title": "Gobernador de Querétaro rechaza integración al semáforo único de Covid-19 ",
         "url": "https://www.eluniversalqueretaro.mx/politica/gobernador-de-queretaro-rechaza-integracion-al-semafor…",
         "newspaper_uid": "eluniversal",
         "host": "www.eluniversalqueretaro.mx",
         "_deepnote_index_column": 61
        },
        {
         "body": "\r\nJosé Luis Alomía Zegarra, director general de Epidemiología, informó esta noche que México suma 1…",
         "title": "México tiene nuevo máximo de casos de Covid: 3 mil 891 en un día; suman 97 mil",
         "url": "https://www.eluniversal.com.mx/nacion/sociedad/coronavirus-2-de-junio-suman-10-mil-637-muertes-por-…",
         "newspaper_uid": "eluniversal",
         "host": "www.eluniversal.com.mx",
         "_deepnote_index_column": 62
        },
        {
         "body": "\r\n\r\n\r\n\r\n    googletag.cmd.push(function() {\r\n      googletag.display(\"dfp-ad-top3_content\");\r\n    }…",
         "title": "Yo soy Betty, la fea, elenco, personajes y actores antes y después",
         "url": "http://www.unionyucatan.mx/articulo/2020/06/01/espectaculos/yo-soy-betty-la-fea-elenco-personajes-y…",
         "newspaper_uid": "eluniversal",
         "host": "www.unionyucatan.mx",
         "_deepnote_index_column": 63
        },
        {
         "body": " 0 % PULSO SOCIAL0 Ante las protestas en Estados Unidos por la muerte de George Floyd, un afromeric…",
         "title": "nan",
         "url": "https://de10.com.mx/top-10/10-memes-sobre-las-verdaderas-revelaciones-de-anonymous",
         "newspaper_uid": "eluniversal",
         "host": "de10.com.mx",
         "_deepnote_index_column": 64
        },
        {
         "body": "\r\nDesde ayer, algunos comentarios en Internet apuntan a que el Presidente, Andrés Manuel López Obra…",
         "title": "¿Es verdad que AMLO quiere cobrar un impuesto por tener mascotas?",
         "url": "http://www.eluniversal.com.mx/nacion/politica/es-verdad-que-amlo-quiere-cobrar-un-impuesto-por-tene…",
         "newspaper_uid": "eluniversal",
         "host": "www.eluniversal.com.mx",
         "_deepnote_index_column": 65
        },
        {
         "body": "\r\nLa actriz Gwyneth Paltrow fue captada durante un paseo en la ciudad de Los Ángeles, California, j…",
         "title": "nan",
         "url": "https://www.viveusa.mx/showbiz/gwyneth-paltrow-luce-piernas-tonificadas-con-shorts-blancos-en-la",
         "newspaper_uid": "eluniversal",
         "host": "www.viveusa.mx",
         "_deepnote_index_column": 66
        },
        {
         "body": "\r\nEiza González fue captada por los paparazzis haciendo alarde de su trabajada figura por calles de…",
         "title": "nan",
         "url": "https://www.viveusa.mx/showbiz/eiza-gonzalez-presume-abs-con-crop-top-en-los-angeles-0",
         "newspaper_uid": "eluniversal",
         "host": "www.viveusa.mx",
         "_deepnote_index_column": 67
        },
        {
         "body": "\r\n\r\n\r\n\r\n    googletag.cmd.push(function() {\r\n      googletag.display(\"dfp-ad-top3_content\");\r\n    }…",
         "title": "Nuevas fechas para examen COMIPEMS 2020, ¿cuándo son?",
         "url": "http://www.unioncdmx.mx/articulo/2020/06/03/educacion/nuevas-fechas-para-examen-comipems-2020-cuand…",
         "newspaper_uid": "eluniversal",
         "host": "www.unioncdmx.mx",
         "_deepnote_index_column": 68
        },
        {
         "body": "\r\nEl Servicio de Administración Tributaria (SAT) recordó que el año pasado, el Congreso de la Unión…",
         "title": "¿Quiénes pagan el IVA a servicios digitales? El SAT te lo dice",
         "url": "http://www.eluniversal.com.mx/cartera/telecom/quienes-pagan-el-iva-servicios-digitales",
         "newspaper_uid": "eluniversal",
         "host": "www.eluniversal.com.mx",
         "_deepnote_index_column": 69
        },
        {
         "body": "\r\n El primer ministro canadiense, Justin Trudeau, necesitó este martes 21 segundos de silencio ante…",
         "title": "nan",
         "url": "https://www.viveusa.mx/noticias/la-polemica-respuesta-de-justin-trudeau-sobre-las-protestas-en-eu",
         "newspaper_uid": "eluniversal",
         "host": "www.viveusa.mx",
         "_deepnote_index_column": 70
        },
        {
         "body": "\r\nSi hay una deliciosa y sencilla receta para preparar es el pan francés, este rico bocadillo que l…",
         "title": "Aprende a preparar pan francés en casa fácil y rápido",
         "url": "http://www.eluniversal.com.mx/menu/receta-de-pan-frances-con-platano",
         "newspaper_uid": "eluniversal",
         "host": "www.eluniversal.com.mx",
         "_deepnote_index_column": 71
        },
        {
         "body": "\r\nPara muchos viajeros, una de las motivaciones principales para elegir uno u otro lugar para recor…",
         "title": "Postres, vinos y otras delicias: viaja por Francia a través de su cocina",
         "url": "http://www.eluniversal.com.mx/destinos/postres-vinos-y-mas-delicias-en-un-viaje-por-la-cocina-franc…",
         "newspaper_uid": "eluniversal",
         "host": "www.eluniversal.com.mx",
         "_deepnote_index_column": 72
        },
        {
         "body": "\r\nLa aparición del Covid-19 provocó que el personal de salud adoptara la utilización de nuevas herr…",
         "title": "“Es muy difícil, vemos las muertes noche a noche”",
         "url": "https://www.eluniversalqueretaro.mx/portada/es-muy-dificil-vemos-las-muertes-noche-noche",
         "newspaper_uid": "eluniversal",
         "host": "www.eluniversalqueretaro.mx",
         "_deepnote_index_column": 73
        },
        {
         "body": "\r\n¿Todavía habrá quienes piensen que el actual gobierno amenaza la libertad de expresión luego de q…",
         "title": "El choque de dos proyectos de nación",
         "url": "https://www.eluniversal.com.mx/opinion/raul-rodriguez-cortes/el-choque-de-dos-proyectos-de-nacion",
         "newspaper_uid": "eluniversal",
         "host": "www.eluniversal.com.mx",
         "_deepnote_index_column": 74
        },
        {
         "body": "\r\n\r\nLa escena es terrible: George Floyd, un hombre afroamericano arrojado en el piso, con la rodill…",
         "title": "Sobre la brutalidad policial",
         "url": "https://www.eluniversal.com.mx/opinion/alejandro-hope/sobre-la-brutalidad-policial",
         "newspaper_uid": "eluniversal",
         "host": "www.eluniversal.com.mx",
         "_deepnote_index_column": 75
        },
        {
         "body": "\r\nEl perímetro del Centro Histórico se encuentra aún blindado por elementos de la Secretaría de Seg…",
         "title": "Pese a \"nueva normalidad\", mantienen cercado perímetro del Centro Histórico ",
         "url": "http://www.eluniversal.com.mx/metropoli/cdmx/pese-nueva-normalidad-mantienen-cercado-perimetro-del-…",
         "newspaper_uid": "eluniversal",
         "host": "www.eluniversal.com.mx",
         "_deepnote_index_column": 76
        },
        {
         "body": "\r\n\r\n\r\n\r\n    googletag.cmd.push(function() {\r\n      googletag.display(\"dfp-ad-top3_content\");\r\n    }…",
         "title": "¿Cuándo es el Día del Padre en México 2020?",
         "url": "http://www.unionguanajuato.mx/articulo/2020/05/25/cultura/cuando-es-el-dia-del-padre-en-mexico-2020",
         "newspaper_uid": "eluniversal",
         "host": "www.unionguanajuato.mx",
         "_deepnote_index_column": 77
        },
        {
         "body": "\r\nLeer en español\r\n \r\nThe body of a Mexican congresswoman Francis Anel Bueno Sánchez from the state…",
         "title": "Mexican lawmaker’s body is found inside a mass grave in Colima",
         "url": "https://www.eluniversal.com.mx/english/mexican-lawmakers-body-found-inside-mass-grave-colima",
         "newspaper_uid": "eluniversal",
         "host": "www.eluniversal.com.mx",
         "_deepnote_index_column": 78
        },
        {
         "body": "\r\nUna nieve ligera caía sobre Craiova, en el sur de Rumanía, cuando Sorin Velcu llamó a su madre pa…",
         "title": "Del cajero al ladrillo: blanqueando el dinero sucio",
         "url": "http://www.eluniversal.com.mx/nacion/del-cajero-al-ladrillo-blanqueando-el-dinero-sucio",
         "newspaper_uid": "eluniversal",
         "host": "www.eluniversal.com.mx",
         "_deepnote_index_column": 79
        },
        {
         "body": "\r\nTexto: Edward Fernando Salinas\r\n \r\n\r\n\"No puedes vencer a alguien que nunca se rinde\"\r\n“Babe” Ruth…",
         "title": "El día que el gran Babe Ruth conectó un jonrón en México",
         "url": "https://www.eluniversal.com.mx/opinion/mochilazo-en-el-tiempo/el-dia-que-el-gran-babe-ruth-conecto-…",
         "newspaper_uid": "eluniversal",
         "host": "www.eluniversal.com.mx",
         "_deepnote_index_column": 80
        },
        {
         "body": "\r\n\r\n¿Qué horas son? las que usted diga, señor presidente. Es la respuesta que México ha querido evi…",
         "title": "Los cómplices del presidente",
         "url": "https://www.eluniversal.com.mx/opinion/ana-paula-ordorica/los-complices-del-presidente",
         "newspaper_uid": "eluniversal",
         "host": "www.eluniversal.com.mx",
         "_deepnote_index_column": 81
        },
        {
         "body": "\r\nWashington.- Las tropas en activo trasladadas a la capital estadounidense para ayudar, en caso ne…",
         "title": "Regresan a sus bases tropas desplegadas en Washington para controlar protestas",
         "url": "http://www.eluniversal.com.mx/mundo/regresan-sus-bases-tropas-desplegadas-en-washington-para-contro…",
         "newspaper_uid": "eluniversal",
         "host": "www.eluniversal.com.mx",
         "_deepnote_index_column": 82
        },
        {
         "body": "\r\nLa posible vuelta del Atlante a la Primera División, a la Liga MX, podría ser parte de un plan ar…",
         "title": "El Atlante a la Liga MX, ¿cómo y de quién es el plan?",
         "url": "http://www.eluniversal.com.mx/universal-deportes/futbol/el-atlante-la-liga-mx-como-y-de-quien-es-el…",
         "newspaper_uid": "eluniversal",
         "host": "www.eluniversal.com.mx",
         "_deepnote_index_column": 83
        },
        {
         "body": "\r\nAlgunos jugadores del América mandaron mensajes en contra del racismo, durante los movimientos en…",
         "title": "Jugadores del América lanzan mensajes contra el racismo",
         "url": "http://www.eluniversal.com.mx/universal-deportes/futbol/america-jugadores-lanzan-mensajes-contra-el…",
         "newspaper_uid": "eluniversal",
         "host": "www.eluniversal.com.mx",
         "_deepnote_index_column": 84
        },
        {
         "body": "\r\nEl cuerpo de Anel Bueno Sánchez, diputada de Colima desaparecida el pasado 29 de abril, fue local…",
         "title": "¿Quién era Anel Bueno, diputada localizada en una fosa clandestina de Colima?",
         "url": "http://www.eluniversal.com.mx/estados/quien-era-anel-bueno-diputada-localizada-en-una-fosa-clandest…",
         "newspaper_uid": "eluniversal",
         "host": "www.eluniversal.com.mx",
         "_deepnote_index_column": 85
        },
        {
         "body": "\r\nTexto: Marco Salas\r\nImaginemos que es 1890 y una pareja toma café. Él se llama Karl Wilhem Flügge…",
         "title": "Así nació el cubrebocas",
         "url": "https://www.eluniversal.com.mx/opinion/mochilazo-en-el-tiempo/asi-nacio-el-cubrebocas",
         "newspaper_uid": "eluniversal",
         "host": "www.eluniversal.com.mx",
         "_deepnote_index_column": 86
        },
        {
         "body": "Hubei.– Uno de los médicos que experimentaron un extraño cambio en el color de su piel, tras contra…",
         "title": "nan",
         "url": "https://www.elgrafico.mx/viral/muere-medico-cuya-piel-se-oscurecio-por-tratamiento-contra-el-covid-…",
         "newspaper_uid": "eluniversal",
         "host": "www.elgrafico.mx",
         "_deepnote_index_column": 87
        },
        {
         "body": "\r\nLa senadora del PRI, Vanessa Rubio, propuso que personas desahuciadas puedan tener acceso a los r…",
         "title": "Senadora de PRI plantea que desahuciados puedan acceder a recursos de su Afore",
         "url": "https://www.eluniversal.com.mx/cartera/senadora-de-pri-plantea-que-desahuciados-puedan-acceder-recu…",
         "newspaper_uid": "eluniversal",
         "host": "www.eluniversal.com.mx",
         "_deepnote_index_column": 88
        },
        {
         "body": "\r\nUn video viral que circula en redes sociales ha causado revuelo entre los usuarios. Muestra a una…",
         "title": "nan",
         "url": "https://www.viveusa.mx/noticias/posa-para-foto-antes-de-protesta-y-despues-sube-auto-de-lujo",
         "newspaper_uid": "eluniversal",
         "host": "www.viveusa.mx",
         "_deepnote_index_column": 89
        },
        {
         "body": "\r\nEsta mañana trascendió la muerte de un hombre en la avenida principal del Centro Histórico potosi…",
         "title": "Encuentran a hombre colgado en academia de belleza del Centro Histórico de SLP",
         "url": "https://sanluis.eluniversal.com.mx/metropoli/27-05-2020/localizan-hombre-colgado-en-academia-de-bel…",
         "newspaper_uid": "eluniversal",
         "host": "sanluis.eluniversal.com.mx",
         "_deepnote_index_column": 90
        },
        {
         "body": "\r\n\r\n\r\n\r\n    googletag.cmd.push(function() {\r\n      googletag.display(\"dfp-ad-top3_content\");\r\n    }…",
         "title": "Nuevo calendario escolar por coronavirus Covid-19 para imprimir",
         "url": "http://www.unionguanajuato.mx/articulo/2020/06/03/educacion/nuevo-calendario-escolar-por-coronaviru…",
         "newspaper_uid": "eluniversal",
         "host": "www.unionguanajuato.mx",
         "_deepnote_index_column": 91
        },
        {
         "body": "\r\nLa Fiscalía General de San Luis Potosí informó que el saldo de tres ataques armados ocurridos la …",
         "title": "Ataques armados en Zona Metropolitana de SLP dejan 5 muertos y 3 lesionados",
         "url": "https://sanluis.eluniversal.com.mx/metropoli/27-05-2020/ataques-armados-en-zona-metropolitana-de-sl…",
         "newspaper_uid": "eluniversal",
         "host": "sanluis.eluniversal.com.mx",
         "_deepnote_index_column": 92
        },
        {
         "body": "\r\nEl dirigente nacional de Morena, Alfonso Ramírez Cuéllar, pidió justicia para la diputada local F…",
         "title": "Morena pide justicia para diputada asesinada",
         "url": "http://www.eluniversal.com.mx/nacion/morena-pide-justicia-para-diputada-asesinada",
         "newspaper_uid": "eluniversal",
         "host": "www.eluniversal.com.mx",
         "_deepnote_index_column": 93
        },
        {
         "body": "\r\nEl coordinador de Morena en la Cámara de Diputados, Mario Delgado Carrillo, propuso que los traba…",
         "title": "Morena propone retiro de Afore en caso de emergencia sanitaria",
         "url": "http://www.eluniversal.com.mx/nacion/politica/morena-propone-retiro-de-afore-en-caso-de-emergencia-…",
         "newspaper_uid": "eluniversal",
         "host": "www.eluniversal.com.mx",
         "_deepnote_index_column": 94
        },
        {
         "body": "Los cuerpos cercenados de dos hombres fueron hallados la mañana de este miércoles en dos diferentes…",
         "title": "nan",
         "url": "https://www.elgrafico.mx/la-roja/miercoles-de-terror-parten-dos-en-cachos-y-riegan-sus-restos-en-va…",
         "newspaper_uid": "eluniversal",
         "host": "www.elgrafico.mx",
         "_deepnote_index_column": 95
        },
        {
         "body": "\r\nSi te gusta cocinar, sabrás que un buen platillo depende tanto de la calidad de los alimentos com…",
         "title": "Guía para elegir la mejor batería de cocina",
         "url": "http://www.eluniversal.com.mx/menu/que-tomar-en-cuenta-para-comprar-una-bateria-de-cocina",
         "newspaper_uid": "eluniversal",
         "host": "www.eluniversal.com.mx",
         "_deepnote_index_column": 96
        },
        {
         "body": " 20 % PULSO SOCIAL6 De acuerdo con la Real Academia de la Lengua, ser ateo significa rechazar la ex…",
         "title": "nan",
         "url": "https://de10.com.mx/top-10/10-personajes-famosos-ateos-y-sus-creencias",
         "newspaper_uid": "eluniversal",
         "host": "de10.com.mx",
         "_deepnote_index_column": 97
        },
        {
         "body": " 0 % PULSO SOCIAL0 \r\n",
         "title": "nan",
         "url": "https://de10.com.mx/parejas/10-actrices-cuyos-bikinis-en-el-cine-marcaron-tendencia",
         "newspaper_uid": "eluniversal",
         "host": "de10.com.mx",
         "_deepnote_index_column": 98
        },
        {
         "body": "\r\nDurante los últimos 12 días de mayo empresas del sector industrial en la entidad potosina se enfo…",
         "title": "240 plantas industriales retomaron actividades este lunes en San Luis Potosí",
         "url": "https://sanluis.eluniversal.com.mx/cartera/01-06-2020/240-plantas-industriales-retomaron-actividade…",
         "newspaper_uid": "eluniversal",
         "host": "sanluis.eluniversal.com.mx",
         "_deepnote_index_column": 99
        },
        {
         "body": "\r\n\r\nTabasco suma 4 mil 609 casos confirmados y 562 fallecimientos por Covid-19 al 2 de junio.\r\n\r\nEn…",
         "title": "Casos de Covid-19 en Yucatán, Quintana Roo y Tabasco al 2 de junio",
         "url": "http://www.eluniversal.com.mx/estados/casos-de-covid-19-en-yucatan-quintana-roo-y-tabasco-al-2-de-j…",
         "newspaper_uid": "eluniversal",
         "host": "www.eluniversal.com.mx",
         "_deepnote_index_column": 100
        },
        {
         "body": "\r\nLa vida no ha sido fácil en estos últimos meses. Sin embargo, hay que continuar con el ritmo y ad…",
         "title": "Belinda enamora con su look deportivo para la Voz Azteca",
         "url": "http://www.eluniversal.com.mx/de-ultima/belinda-sorprende-con-look-deportivo-para-la-voz-azteca",
         "newspaper_uid": "eluniversal",
         "host": "www.eluniversal.com.mx",
         "_deepnote_index_column": 101
        },
        {
         "body": " 73 % PULSO SOCIAL22 En la cultura de la antigüedad, no había mejor castigo que la ley del Talión, …",
         "title": "nan",
         "url": "https://de10.com.mx/top-10/impactante-10-formas-antiguas-de-castigo-y-tortura",
         "newspaper_uid": "eluniversal",
         "host": "de10.com.mx",
         "_deepnote_index_column": 102
        },
        {
         "body": "\r\nEn las protestas desatadas en Estados Unidos en contra de la discriminación racial resaltó la ban…",
         "title": "nan",
         "url": "https://www.viveusa.mx/noticias/la-bandera-de-mexico-ondea-en-las-protestas-por-george-floyd",
         "newspaper_uid": "eluniversal",
         "host": "www.viveusa.mx",
         "_deepnote_index_column": 103
        },
        {
         "body": "\r\nJennifer Lopez y Kim Kardashian son de las celebridades más mediáticas en Estados Unidos. Ambas s…",
         "title": "nan",
         "url": "https://www.viveusa.mx/showbiz/las-fotos-ineditas-de-las-sesiones-de-jennifer-lopez-y-kim-kardashian",
         "newspaper_uid": "eluniversal",
         "host": "www.viveusa.mx",
         "_deepnote_index_column": 104
        },
        {
         "body": "\r\nTexto: Carlos Villasana y Ruth Gómez\r\nLa ciudad enfrenta una de las etapas más complejas de los ú…",
         "title": "Los mercados porfirianos de la capital",
         "url": "https://www.eluniversal.com.mx/opinion/mochilazo-en-el-tiempo/los-mercados-porfirianos-de-la-capital",
         "newspaper_uid": "eluniversal",
         "host": "www.eluniversal.com.mx",
         "_deepnote_index_column": 105
        },
        {
         "body": "\r\nEl contagio por el coronavirus es más elevado en las grandes áreas urbanas del país; sin embargo,…",
         "title": "Coneval: letalidad del Covid es alta en municipios pobres",
         "url": "http://www.eluniversal.com.mx/cartera/coneval-letalidad-del-covid-es-alta-en-municipios-pobres",
         "newspaper_uid": "eluniversal",
         "host": "www.eluniversal.com.mx",
         "_deepnote_index_column": 106
        },
        {
         "body": "\r\nUn grupo internacional de arqueólogos descubrió en Tabasco la estructura ceremonial más antigua y…",
         "title": "Descubren estructura ceremonial maya más antigua hasta el momento",
         "url": "http://www.eluniversal.com.mx/cultura/arqueologos-descubren-el-monumento-maya-mas-antiguo-hasta-el-…",
         "newspaper_uid": "eluniversal",
         "host": "www.eluniversal.com.mx",
         "_deepnote_index_column": 107
        },
        {
         "body": "\r\nOcho días consecutivos de marchas, vigilias, rezos, llamados a la reconciliación no han sido sufi…",
         "title": "Las protestas...",
         "url": "https://www.eluniversal.com.mx/opinion/gabriel-guerra/las-protestas",
         "newspaper_uid": "eluniversal",
         "host": "www.eluniversal.com.mx",
         "_deepnote_index_column": 108
        },
        {
         "body": "\r\n\r\nLa Secretaría de Salud del gobierno federal informó que al 2 de junio hay registro de 10 mil 63…",
         "title": "Casos de coronavirus en México, estado por estado al 2 de junio",
         "url": "http://www.eluniversal.com.mx/estados/casos-de-coronavirus-en-mexico-estado-por-estado-al-2-de-junio",
         "newspaper_uid": "eluniversal",
         "host": "www.eluniversal.com.mx",
         "_deepnote_index_column": 109
        },
        {
         "body": "\r\nLa válvula potosina desarrollada por investigadores en San Luis Potosí, devuelve la esperanza a p…",
         "title": "Con tecnología 3D, potosinos crean válvula para enfrentar el Covid-19",
         "url": "https://sanluis.eluniversal.com.mx/sociedad/26-05-2020/con-tecnologia-3d-potosinos-crean-valvula-pa…",
         "newspaper_uid": "eluniversal",
         "host": "sanluis.eluniversal.com.mx",
         "_deepnote_index_column": 110
        },
        {
         "body": " 0 % PULSO SOCIAL0 Imagina que un día tu pareja muere y en medio del duelo, te enteras de que lleva…",
         "title": "nan",
         "url": "https://de10.com.mx/top-10/julio-machado-nos-cuenta-los-secretos-de-la-serie-hard",
         "newspaper_uid": "eluniversal",
         "host": "de10.com.mx",
         "_deepnote_index_column": 111
        },
        {
         "body": "\r\nLa mayoría de los estados que pertenecen a la Megalópolis, Ciudad de México, Estado de México, Pu…",
         "title": "Van mandatarios del Centro por mismo semáforo para nueva normalidad",
         "url": "http://www.eluniversal.com.mx/metropoli/cdmx/piden-mandatarios-del-centro-un-mismo-semaforo-para-nu…",
         "newspaper_uid": "eluniversal",
         "host": "www.eluniversal.com.mx",
         "_deepnote_index_column": 112
        },
        {
         "body": "\r\nHace unos días, el propietario del Guadalajara, Amaury Vergara, puso sobre la mesa la necesidad d…",
         "title": "A transparentar el futbol mexicano",
         "url": "https://www.eluniversal.com.mx/opinion/gerardo-velazquez-de-leon/transparentar-el-futbol-mexicano",
         "newspaper_uid": "eluniversal",
         "host": "www.eluniversal.com.mx",
         "_deepnote_index_column": 113
        },
        {
         "body": "\r\nEl Presidente Andrés Manuel López Obrador informó que encontraron el cuerpo de la legisladora de …",
         "title": "Hallan el cuerpo de la legisladora de Morena Francis Anel Bueno Sánchez",
         "url": "http://www.eluniversal.com.mx/nacion/politica/hallan-el-cuerpo-de-la-legisladora-de-morena-francis-…",
         "newspaper_uid": "eluniversal",
         "host": "www.eluniversal.com.mx",
         "_deepnote_index_column": 114
        },
        {
         "body": "\r\nLeer en español\r\nAn international group archeologists discovered in Tabasco the oldest and larges…",
         "title": "Major discovery of oldest and largest Maya structure in Mexico sheds light on the rise of the ancie…",
         "url": "https://www.eluniversal.com.mx/english/major-discovery-oldest-and-largest-maya-structure-mexico-she…",
         "newspaper_uid": "eluniversal",
         "host": "www.eluniversal.com.mx",
         "_deepnote_index_column": 115
        },
        {
         "body": "\r\n\r\nLa clave fue la diferencia entre lo que transfirieron al extranjero y lo que reportaron en Méxi…",
         "title": "El directivo de Cruz Azul firmó 98 cheques para sí mismo",
         "url": "https://www.eluniversal.com.mx/opinion/carlos-loret-de-mola/el-directivo-de-cruz-azul-firmo-98-cheq…",
         "newspaper_uid": "eluniversal",
         "host": "www.eluniversal.com.mx",
         "_deepnote_index_column": 116
        },
        {
         "body": "\r\nLos limones, sin duda, no pueden faltar en nuestro refrigerador, pues le dan ese toque especial a…",
         "title": "Cómo mantener los limones frescos hasta 1 mes",
         "url": "http://www.eluniversal.com.mx/menu/como-mantener-los-limones-frescos",
         "newspaper_uid": "eluniversal",
         "host": "www.eluniversal.com.mx",
         "_deepnote_index_column": 117
        },
        {
         "body": "\r\nEl Universo de la WWE vivió una semana de nostalgia, ya que se anunció que Rey Mysterio, uno de l…",
         "title": "Retiro de Rey Mysterio, el ‘circo’ de la WWE para el debut de su hijo",
         "url": "http://www.eluniversal.com.mx/universal-deportes/mas-deportes/wwe-retiro-de-rey-mysterio-el-circo-p…",
         "newspaper_uid": "eluniversal",
         "host": "www.eluniversal.com.mx",
         "_deepnote_index_column": 118
        },
        {
         "body": "\r\n\r\n\r\n\r\n    googletag.cmd.push(function() {\r\n      googletag.display(\"dfp-ad-top3_content\");\r\n    }…",
         "title": "La bella heredera tapatía del ‘Perro’ Bermúdez",
         "url": "http://www.unionjalisco.mx/articulo/2020/06/01/espectaculos/la-bella-heredera-tapatia-del-perro-ber…",
         "newspaper_uid": "eluniversal",
         "host": "www.unionjalisco.mx",
         "_deepnote_index_column": 119
        },
        {
         "body": "\r\nA partir del sábado serán 30 las personas que podrán disfrutar del \"Guernica\" en el Museo Reina S…",
         "title": "Con oferta y dos Picassos nuevos, el Reina Sofía le pone \"buena cara\" a su reapertura",
         "url": "http://www.eluniversal.com.mx/cultura/artes-visuales/el-reina-sofia-expondra-dos-picassos-ineditos-…",
         "newspaper_uid": "eluniversal",
         "host": "www.eluniversal.com.mx",
         "_deepnote_index_column": 120
        },
        {
         "body": "\r\nGeorge Clooney ha incendiado las redes sociales tras publicar un artículo en el diario Daily Beas…",
         "title": "George Clooney: \"El racismo es la pandemia de EU\"",
         "url": "http://www.eluniversal.com.mx/espectaculos/farandula/george-clooney-el-racismo-es-la-pandemia-de-eu",
         "newspaper_uid": "eluniversal",
         "host": "www.eluniversal.com.mx",
         "_deepnote_index_column": 121
        },
        {
         "body": "\r\n\"The Ickabog\", el nuevo libro para niños que la escritora británica JK Rowling ha publicado gratu…",
         "title": "El cuento gratis de J.K. Rowling ya está en español",
         "url": "http://www.eluniversal.com.mx/cultura/el-cuento-gratis-de-jk-rowling-ya-esta-en-espanol",
         "newspaper_uid": "eluniversal",
         "host": "www.eluniversal.com.mx",
         "_deepnote_index_column": 122
        },
        {
         "body": "\r\nLa titular del SAT, Raquel Buenrostro, asegura que los pagos millonarios que han obtenido de gran…",
         "title": "No es terrorismo, los convencemos: Buenrostro",
         "url": "https://www.eluniversal.com.mx/opinion/salvador-garcia-soto/no-es-terrorismo-los-convencemos-buenro…",
         "newspaper_uid": "eluniversal",
         "host": "www.eluniversal.com.mx",
         "_deepnote_index_column": 123
        },
        {
         "body": "\r\n\r\nLos funcionarios de alto rango del Instituto Nacional de Estadística y Geografía (Inegi) y de l…",
         "title": "En Inegi y Cofece ganarán más que AMLO",
         "url": "http://www.eluniversal.com.mx/nacion/en-inegi-y-cofece-ganaran-mas-que-amlo",
         "newspaper_uid": "eluniversal",
         "host": "www.eluniversal.com.mx",
         "_deepnote_index_column": 124
        },
        {
         "body": "\r\nCientíficos en todo el mundo estudian el proceso de infección que sufre una persona al entrar en …",
         "title": "El zinc sería clave para tratamiento de Covid-19",
         "url": "http://www.eluniversal.com.mx/ciencia-y-salud/el-zinc-seria-clave-para-un-tratamiento-contra-el-cov…",
         "newspaper_uid": "eluniversal",
         "host": "www.eluniversal.com.mx",
         "_deepnote_index_column": 125
        },
        {
         "body": "\r\nCuando el periodista Brian Krebs publicó en uno de los portales más leídos del mundo, The Daily M…",
         "title": "La mafia encontró el paraíso",
         "url": "https://www.eluniversal.com.mx/opinion/hector-de-mauleon/la-mafia-encontro-el-paraiso",
         "newspaper_uid": "eluniversal",
         "host": "www.eluniversal.com.mx",
         "_deepnote_index_column": 126
        },
        {
         "body": "Una víctima más de la vanidad, y de los fraudulentos personajes que se hacen pasar como especialist…",
         "title": "nan",
         "url": "https://www.elgrafico.mx/espectaculos/la-modelo-jessica-cediel-se-somete-amputacion-de-gluteos-y-co…",
         "newspaper_uid": "eluniversal",
         "host": "www.elgrafico.mx",
         "_deepnote_index_column": 127
        },
        {
         "body": "\r\nLa 64 Legislatura del Congreso de Oaxaca aprobó aplazar el inicio del proceso electoral ordinario…",
         "title": "Por pandemia, Congreso de Oaxaca aplaza hasta diciembre inicio del proceso electoral intermedio ",
         "url": "https://oaxaca.eluniversal.com.mx/politica/02-06-2020/por-pandemia-congreso-de-oaxaca-aplaza-hasta-…",
         "newspaper_uid": "eluniversal",
         "host": "oaxaca.eluniversal.com.mx",
         "_deepnote_index_column": 128
        },
        {
         "body": "\r\nEl presidente Andrés Manuel López Obrador solicitó a los opositores a Tren Maya respetar la decis…",
         "title": "AMLO pide a opositores a Tren Maya respetar decisión del pueblo",
         "url": "http://www.eluniversal.com.mx/nacion/amlo-pide-opositores-tren-maya-respetar-decision-del-pueblo",
         "newspaper_uid": "eluniversal",
         "host": "www.eluniversal.com.mx",
         "_deepnote_index_column": 129
        },
        {
         "body": "\r\nTexto: Carlos Villasana y Ruth GómezFotos actuales: Aram Ponce Franco / Cortesía\r\nEl Centro Histó…",
         "title": "El centro de reunión de los caballeros porfirianos",
         "url": "https://www.eluniversal.com.mx/opinion/mochilazo-en-el-tiempo/el-centro-de-reunion-de-los-caballero…",
         "newspaper_uid": "eluniversal",
         "host": "www.eluniversal.com.mx",
         "_deepnote_index_column": 130
        },
        {
         "body": "\r\nMarsha P. Johnson was a pioneer, LGBTQ+ activist,  drag queen, and performer. She was a prominent…",
         "title": "Marsha P. Johnson: The black transgender woman who was key in the Stonewall uprising",
         "url": "http://www.eluniversal.com.mx/english/marsha-p-johnson-black-transgender-woman-who-was-key-stonewal…",
         "newspaper_uid": "eluniversal",
         "host": "www.eluniversal.com.mx",
         "_deepnote_index_column": 131
        },
        {
         "body": "\r\nVaya golpe el que propinó la senadora Lilly Téllez a Morena en el Senado, pues no conforme con sa…",
         "title": "El golpe de la agente Téllez",
         "url": "https://www.eluniversal.com.mx/nacion/bajo-reserva-expres-el-golpe-de-la-agente-tellez",
         "newspaper_uid": "eluniversal",
         "host": "www.eluniversal.com.mx",
         "_deepnote_index_column": 132
        },
        {
         "body": "\r\n\r\nJalisco tiene 2 mil 25 casos confirmados y 167 muertos por coronavirus, de acuerdo con el repor…",
         "title": "Coronavirus Jalisco: Casos confirmados de Covid-19 al 2 de junio",
         "url": "http://www.eluniversal.com.mx/estados/coronavirus-jalisco-casos-confirmados-de-covid-19-al-2-de-jun…",
         "newspaper_uid": "eluniversal",
         "host": "www.eluniversal.com.mx",
         "_deepnote_index_column": 133
        },
        {
         "body": "\r\nLa identidad de Jesús Alfonso Escoboza, mejor conocido como La Parka, fue revelada por su hija me…",
         "title": "Revelan identidad de La Parka en Tik Tok",
         "url": "http://www.eluniversal.com.mx/universal-deportes/mas-deportes/la-parka-revelan-identidad-del-histor…",
         "newspaper_uid": "eluniversal",
         "host": "www.eluniversal.com.mx",
         "_deepnote_index_column": 134
        },
        {
         "body": "\r\n“Fueron días muy duros para mí y mi familia. Cuando acudí al hospital, la angustia me invadió ant…",
         "title": "“La angustia me invadió ante la posibilidad de haberme contagiado de coronavirus\"",
         "url": "https://sanluis.eluniversal.com.mx/sociedad/02-06-2020/la-angustia-me-invadio-ante-la-posibilidad-d…",
         "newspaper_uid": "eluniversal",
         "host": "sanluis.eluniversal.com.mx",
         "_deepnote_index_column": 135
        },
        {
         "body": "\r\nEl 80% de los restaurantes queretanos tiene problemas para cubrir el pago de la renta de los inmu…",
         "title": "El 80% de los restaurantes no tiene para el pago de la renta",
         "url": "https://www.eluniversalqueretaro.mx/portada/sin-recursos-para-la-renta-80-de-los-restaurantes",
         "newspaper_uid": "eluniversal",
         "host": "www.eluniversalqueretaro.mx",
         "_deepnote_index_column": 136
        },
        {
         "body": "\r\nLa firma surcoreana Hyundai publicó los primeros detalles de lo que será la nueva SUV Santa Fe. L…",
         "title": "Hyundai Santa Fe 2021 se presenta en Europa",
         "url": "http://www.eluniversal.com.mx/autopistas/hyundai-santa-fe-2021-se-presenta-con-diseno-diferente-y-n…",
         "newspaper_uid": "eluniversal",
         "host": "www.eluniversal.com.mx",
         "_deepnote_index_column": 137
        }
       ],
       "rows_bottom": null
      },
      "text/plain": "                                                  body  \\\n0    \\r\\n\\r\\n\\r\\n\\r\\n    googletag.cmd.push(functio...   \n1    \\r\\nEl museo del antiguo campo nazi de la muer...   \n2    \\r\\nLa Suprema Corte de Justicia de la Nación ...   \n3    \\r\\nUn grupo de funcionarios descubrió mosquit...   \n4    \\r\\nEn 1980, Héctor Suárez y Leticia Perdigón ...   \n..                                                 ...   \n133  \\r\\n\\r\\nJalisco tiene 2 mil 25 casos confirmad...   \n134  \\r\\nLa identidad de Jesús Alfonso Escoboza, me...   \n135  \\r\\n“Fueron días muy duros para mí y mi famili...   \n136  \\r\\nEl 80% de los restaurantes queretanos tien...   \n137  \\r\\nLa firma surcoreana Hyundai publicó los pr...   \n\n                                                 title  \\\n0    Las influencers tapatías que hacen temblar a Y...   \n1    El museo de Auschwitz pide ayuda para sobreviv...   \n2    Corte avala que funcionarios de Banxico, INE e...   \n3                                                  NaN   \n4           Héctor Suárez, zurdo y loco hasta el final   \n..                                                 ...   \n133  Coronavirus Jalisco: Casos confirmados de Covi...   \n134           Revelan identidad de La Parka en Tik Tok   \n135  “La angustia me invadió ante la posibilidad de...   \n136  El 80% de los restaurantes no tiene para el pa...   \n137        Hyundai Santa Fe 2021 se presenta en Europa   \n\n                                                   url newspaper_uid  \\\n0    http://www.unionjalisco.mx/articulo/2020/06/02...   eluniversal   \n1    http://www.eluniversal.com.mx/cultura/patrimon...   eluniversal   \n2    http://www.eluniversal.com.mx/nacion/corte-ava...   eluniversal   \n3    https://www.viveusa.mx/noticias/mosquitos-con-...   eluniversal   \n4    https://www.eluniversalqueretaro.mx/portada/he...   eluniversal   \n..                                                 ...           ...   \n133  http://www.eluniversal.com.mx/estados/coronavi...   eluniversal   \n134  http://www.eluniversal.com.mx/universal-deport...   eluniversal   \n135  https://sanluis.eluniversal.com.mx/sociedad/02...   eluniversal   \n136  https://www.eluniversalqueretaro.mx/portada/si...   eluniversal   \n137  http://www.eluniversal.com.mx/autopistas/hyund...   eluniversal   \n\n                            host  \n0            www.unionjalisco.mx  \n1         www.eluniversal.com.mx  \n2         www.eluniversal.com.mx  \n3                 www.viveusa.mx  \n4    www.eluniversalqueretaro.mx  \n..                           ...  \n133       www.eluniversal.com.mx  \n134       www.eluniversal.com.mx  \n135   sanluis.eluniversal.com.mx  \n136  www.eluniversalqueretaro.mx  \n137       www.eluniversal.com.mx  \n\n[138 rows x 5 columns]",
      "text/html": "<div>\n<style scoped>\n    .dataframe tbody tr th:only-of-type {\n        vertical-align: middle;\n    }\n\n    .dataframe tbody tr th {\n        vertical-align: top;\n    }\n\n    .dataframe thead th {\n        text-align: right;\n    }\n</style>\n<table border=\"1\" class=\"dataframe\">\n  <thead>\n    <tr style=\"text-align: right;\">\n      <th></th>\n      <th>body</th>\n      <th>title</th>\n      <th>url</th>\n      <th>newspaper_uid</th>\n      <th>host</th>\n    </tr>\n  </thead>\n  <tbody>\n    <tr>\n      <th>0</th>\n      <td>\\r\\n\\r\\n\\r\\n\\r\\n    googletag.cmd.push(functio...</td>\n      <td>Las influencers tapatías que hacen temblar a Y...</td>\n      <td>http://www.unionjalisco.mx/articulo/2020/06/02...</td>\n      <td>eluniversal</td>\n      <td>www.unionjalisco.mx</td>\n    </tr>\n    <tr>\n      <th>1</th>\n      <td>\\r\\nEl museo del antiguo campo nazi de la muer...</td>\n      <td>El museo de Auschwitz pide ayuda para sobreviv...</td>\n      <td>http://www.eluniversal.com.mx/cultura/patrimon...</td>\n      <td>eluniversal</td>\n      <td>www.eluniversal.com.mx</td>\n    </tr>\n    <tr>\n      <th>2</th>\n      <td>\\r\\nLa Suprema Corte de Justicia de la Nación ...</td>\n      <td>Corte avala que funcionarios de Banxico, INE e...</td>\n      <td>http://www.eluniversal.com.mx/nacion/corte-ava...</td>\n      <td>eluniversal</td>\n      <td>www.eluniversal.com.mx</td>\n    </tr>\n    <tr>\n      <th>3</th>\n      <td>\\r\\nUn grupo de funcionarios descubrió mosquit...</td>\n      <td>NaN</td>\n      <td>https://www.viveusa.mx/noticias/mosquitos-con-...</td>\n      <td>eluniversal</td>\n      <td>www.viveusa.mx</td>\n    </tr>\n    <tr>\n      <th>4</th>\n      <td>\\r\\nEn 1980, Héctor Suárez y Leticia Perdigón ...</td>\n      <td>Héctor Suárez, zurdo y loco hasta el final</td>\n      <td>https://www.eluniversalqueretaro.mx/portada/he...</td>\n      <td>eluniversal</td>\n      <td>www.eluniversalqueretaro.mx</td>\n    </tr>\n    <tr>\n      <th>...</th>\n      <td>...</td>\n      <td>...</td>\n      <td>...</td>\n      <td>...</td>\n      <td>...</td>\n    </tr>\n    <tr>\n      <th>133</th>\n      <td>\\r\\n\\r\\nJalisco tiene 2 mil 25 casos confirmad...</td>\n      <td>Coronavirus Jalisco: Casos confirmados de Covi...</td>\n      <td>http://www.eluniversal.com.mx/estados/coronavi...</td>\n      <td>eluniversal</td>\n      <td>www.eluniversal.com.mx</td>\n    </tr>\n    <tr>\n      <th>134</th>\n      <td>\\r\\nLa identidad de Jesús Alfonso Escoboza, me...</td>\n      <td>Revelan identidad de La Parka en Tik Tok</td>\n      <td>http://www.eluniversal.com.mx/universal-deport...</td>\n      <td>eluniversal</td>\n      <td>www.eluniversal.com.mx</td>\n    </tr>\n    <tr>\n      <th>135</th>\n      <td>\\r\\n“Fueron días muy duros para mí y mi famili...</td>\n      <td>“La angustia me invadió ante la posibilidad de...</td>\n      <td>https://sanluis.eluniversal.com.mx/sociedad/02...</td>\n      <td>eluniversal</td>\n      <td>sanluis.eluniversal.com.mx</td>\n    </tr>\n    <tr>\n      <th>136</th>\n      <td>\\r\\nEl 80% de los restaurantes queretanos tien...</td>\n      <td>El 80% de los restaurantes no tiene para el pa...</td>\n      <td>https://www.eluniversalqueretaro.mx/portada/si...</td>\n      <td>eluniversal</td>\n      <td>www.eluniversalqueretaro.mx</td>\n    </tr>\n    <tr>\n      <th>137</th>\n      <td>\\r\\nLa firma surcoreana Hyundai publicó los pr...</td>\n      <td>Hyundai Santa Fe 2021 se presenta en Europa</td>\n      <td>http://www.eluniversal.com.mx/autopistas/hyund...</td>\n      <td>eluniversal</td>\n      <td>www.eluniversal.com.mx</td>\n    </tr>\n  </tbody>\n</table>\n<p>138 rows × 5 columns</p>\n</div>"
     },
     "metadata": {}
    }
   ]
  },
  {
   "cell_type": "code",
   "metadata": {
    "tags": [],
    "cell_id": "00023-11209c70-32d4-4d43-b5e0-208b21c408ed",
    "deepnote_to_be_reexecuted": false,
    "source_hash": "cfcdb2d7",
    "execution_start": 1630367540988,
    "execution_millis": 19,
    "deepnote_cell_type": "code"
   },
   "source": "el_universal['host'].value_counts()",
   "execution_count": 14,
   "outputs": [
    {
     "output_type": "execute_result",
     "execution_count": 14,
     "data": {
      "text/plain": "www.eluniversal.com.mx         79\nwww.viveusa.mx                 14\nde10.com.mx                     8\nwww.eluniversalqueretaro.mx     6\nsanluis.eluniversal.com.mx      6\nwww.elgrafico.mx                5\noaxaca.eluniversal.com.mx       5\nwww.unionyucatan.mx             4\nwww.unionjalisco.mx             3\nwww.unionpuebla.mx              2\nwww.unioncdmx.mx                2\nwww.unionguanajuato.mx          2\nwww.unionedomex.mx              1\nwww.clubeluniversal.mx          1\nName: host, dtype: int64"
     },
     "metadata": {}
    }
   ]
  },
  {
   "cell_type": "markdown",
   "source": "## ¿Cómo trabajar con datos faltantes?",
   "metadata": {
    "tags": [],
    "cell_id": "00024-92ff5a95-1086-40b7-b515-2235cef0cda4",
    "deepnote_cell_type": "markdown"
   }
  },
  {
   "cell_type": "markdown",
   "source": "Los datos faltantes representan un verdadero problema sobre todo cuando estamos realizando agregaciones. Imagina que tenemos datos faltantes y los llenamos con 0, pero eso haría que la distribución de datos se modificaría radicalmente. Podemos eliminar los registros, pero la fuerza de nuestras conclusiones se debilita.\n\nPandas nos otorga varias funcionalidades para identificarlas y para trabajar con ellas. Existe el concepto que se llama NaN, cuando existe un dato faltante simplemente se rellena con un NaN y en ese momento podemos preguntar cuáles son los datos faltantes con:\n- .isna() para preguntar dónde **no hay datos completos**\n- .notna() para preguntar dónde **hay datos completos**\n- .dropna() para eliminar el registro.\nPara reemplazar:\n- .fillna() donde le damos un dato centinela\n- .ffill() donde utiliza el último valor.",
   "metadata": {
    "tags": [],
    "cell_id": "00025-8c17721a-a8ea-448f-8c08-caa623febb15",
    "deepnote_cell_type": "markdown"
   }
  },
  {
   "cell_type": "markdown",
   "source": "En nuestro Data Frame podemos observar que algunos registros no contienen titulos, pero en el enlace se encuentra el nombre de la noticia y vamos a obtener el titulo y guardarlo en nuestro DataFrame.",
   "metadata": {
    "tags": [],
    "cell_id": "00026-70765028-72a4-4c01-a1bc-48259dc67320",
    "deepnote_cell_type": "markdown"
   }
  },
  {
   "cell_type": "markdown",
   "source": "### 3. Rellenar datos faltantes",
   "metadata": {
    "tags": [],
    "cell_id": "00029-da5d7701-d086-4655-a9f8-8c29aa0ff2d5",
    "deepnote_cell_type": "markdown"
   }
  },
  {
   "cell_type": "code",
   "metadata": {
    "tags": [],
    "cell_id": "00027-c3fb91ba-0539-419c-9384-6be2d2530583",
    "deepnote_to_be_reexecuted": false,
    "source_hash": "e863b741",
    "execution_start": 1630367541034,
    "execution_millis": 16,
    "deepnote_cell_type": "code"
   },
   "source": "missing_title_mask = el_universal['title'].isna()\n\nmissing_title = (el_universal[missing_title_mask]['url']\n                        .str.extract(r'(?P<missing_title>[^/]+)$')\n                        .applymap(lambda title: title.split('-'))\n                        .applymap(lambda title_word_list: ' '.join(title_word_list))\n                    )\nmissing_title",
   "execution_count": 15,
   "outputs": [
    {
     "output_type": "execute_result",
     "execution_count": 15,
     "data": {
      "application/vnd.deepnote.dataframe.v2+json": {
       "row_count": 28,
       "column_count": 1,
       "columns": [
        {
         "name": "missing_title",
         "dtype": "object",
         "stats": {
          "unique_count": 28,
          "nan_count": 0,
          "categories": [
           {
            "name": "mosquitos con el virus del nilo occidental llegan california",
            "count": 1
           },
           {
            "name": "custodio de penal en edomex termina mas que muerto luego de mas de 100 balazos",
            "count": 1
           },
           {
            "name": "26 others",
            "count": 26
           }
          ]
         }
        },
        {
         "name": "_deepnote_index_column",
         "dtype": "int64"
        }
       ],
       "rows_top": [
        {
         "missing_title": "mosquitos con el virus del nilo occidental llegan california",
         "_deepnote_index_column": 3
        },
        {
         "missing_title": "custodio de penal en edomex termina mas que muerto luego de mas de 100 balazos",
         "_deepnote_index_column": 9
        },
        {
         "missing_title": "10 terribles profecias de nostradamus para el 2020",
         "_deepnote_index_column": 16
        },
        {
         "missing_title": "10 fotos que muestran como es visitar disney springs durante la pandemia",
         "_deepnote_index_column": 21
        },
        {
         "missing_title": "insolito influencers muestran su vida sin filtros ni retoques",
         "_deepnote_index_column": 29
        },
        {
         "missing_title": "las cuatro bellas y jovenes esposas de charlie chaplin",
         "_deepnote_index_column": 43
        },
        {
         "missing_title": "suscripciones",
         "_deepnote_index_column": 44
        },
        {
         "missing_title": "asi se robaron 14 millones de pesos en un banco de cdmx con cinturon bomba falso",
         "_deepnote_index_column": 45
        },
        {
         "missing_title": "la sonrisa forzada de melania trump un video que se volvio viral",
         "_deepnote_index_column": 47
        },
        {
         "missing_title": "megan fox cautiva con jeans ajustados en california tras separacion",
         "_deepnote_index_column": 49
        },
        {
         "missing_title": "fabrican cubrebocas para ayudar ninos migrantes en mexico",
         "_deepnote_index_column": 51
        },
        {
         "missing_title": "demi rose presume vestido de impacto en redes sociales",
         "_deepnote_index_column": 53
        },
        {
         "missing_title": "dafne almazan la mexicana mas joven en graduarse de una maestria en harvard",
         "_deepnote_index_column": 55
        },
        {
         "missing_title": "protestas en estados unidos podrian provocar nuevos casos de coronavirus",
         "_deepnote_index_column": 58
        },
        {
         "missing_title": "10 memes sobre las verdaderas revelaciones de anonymous",
         "_deepnote_index_column": 64
        },
        {
         "missing_title": "gwyneth paltrow luce piernas tonificadas con shorts blancos en la",
         "_deepnote_index_column": 66
        },
        {
         "missing_title": "eiza gonzalez presume abs con crop top en los angeles 0",
         "_deepnote_index_column": 67
        },
        {
         "missing_title": "la polemica respuesta de justin trudeau sobre las protestas en eu",
         "_deepnote_index_column": 70
        },
        {
         "missing_title": "muere medico cuya piel se oscurecio por tratamiento contra el covid 19",
         "_deepnote_index_column": 87
        },
        {
         "missing_title": "posa para foto antes de protesta y despues sube auto de lujo",
         "_deepnote_index_column": 89
        },
        {
         "missing_title": "miercoles de terror parten dos en cachos y riegan sus restos en varias zonas de edomex",
         "_deepnote_index_column": 95
        },
        {
         "missing_title": "10 personajes famosos ateos y sus creencias",
         "_deepnote_index_column": 97
        },
        {
         "missing_title": "10 actrices cuyos bikinis en el cine marcaron tendencia",
         "_deepnote_index_column": 98
        },
        {
         "missing_title": "impactante 10 formas antiguas de castigo y tortura",
         "_deepnote_index_column": 102
        },
        {
         "missing_title": "la bandera de mexico ondea en las protestas por george floyd",
         "_deepnote_index_column": 103
        },
        {
         "missing_title": "las fotos ineditas de las sesiones de jennifer lopez y kim kardashian",
         "_deepnote_index_column": 104
        },
        {
         "missing_title": "julio machado nos cuenta los secretos de la serie hard",
         "_deepnote_index_column": 111
        },
        {
         "missing_title": "la modelo jessica cediel se somete amputacion de gluteos y comparte espeluznante video",
         "_deepnote_index_column": 127
        }
       ],
       "rows_bottom": null
      },
      "text/plain": "                                         missing_title\n3    mosquitos con el virus del nilo occidental lle...\n9    custodio de penal en edomex termina mas que mu...\n16   10 terribles profecias de nostradamus para el ...\n21   10 fotos que muestran como es visitar disney s...\n29   insolito influencers muestran su vida sin filt...\n43   las cuatro bellas y jovenes esposas de charlie...\n44                                       suscripciones\n45   asi se robaron 14 millones de pesos en un banc...\n47   la sonrisa forzada de melania trump un video q...\n49   megan fox cautiva con jeans ajustados en calif...\n51   fabrican cubrebocas para ayudar ninos migrante...\n53   demi rose presume vestido de impacto en redes ...\n55   dafne almazan la mexicana mas joven en graduar...\n58   protestas en estados unidos podrian provocar n...\n64   10 memes sobre las verdaderas revelaciones de ...\n66   gwyneth paltrow luce piernas tonificadas con s...\n67   eiza gonzalez presume abs con crop top en los ...\n70   la polemica respuesta de justin trudeau sobre ...\n87   muere medico cuya piel se oscurecio por tratam...\n89   posa para foto antes de protesta y despues sub...\n95   miercoles de terror parten dos en cachos y rie...\n97         10 personajes famosos ateos y sus creencias\n98   10 actrices cuyos bikinis en el cine marcaron ...\n102  impactante 10 formas antiguas de castigo y tor...\n103  la bandera de mexico ondea en las protestas po...\n104  las fotos ineditas de las sesiones de jennifer...\n111  julio machado nos cuenta los secretos de la se...\n127  la modelo jessica cediel se somete amputacion ...",
      "text/html": "<div>\n<style scoped>\n    .dataframe tbody tr th:only-of-type {\n        vertical-align: middle;\n    }\n\n    .dataframe tbody tr th {\n        vertical-align: top;\n    }\n\n    .dataframe thead th {\n        text-align: right;\n    }\n</style>\n<table border=\"1\" class=\"dataframe\">\n  <thead>\n    <tr style=\"text-align: right;\">\n      <th></th>\n      <th>missing_title</th>\n    </tr>\n  </thead>\n  <tbody>\n    <tr>\n      <th>3</th>\n      <td>mosquitos con el virus del nilo occidental lle...</td>\n    </tr>\n    <tr>\n      <th>9</th>\n      <td>custodio de penal en edomex termina mas que mu...</td>\n    </tr>\n    <tr>\n      <th>16</th>\n      <td>10 terribles profecias de nostradamus para el ...</td>\n    </tr>\n    <tr>\n      <th>21</th>\n      <td>10 fotos que muestran como es visitar disney s...</td>\n    </tr>\n    <tr>\n      <th>29</th>\n      <td>insolito influencers muestran su vida sin filt...</td>\n    </tr>\n    <tr>\n      <th>43</th>\n      <td>las cuatro bellas y jovenes esposas de charlie...</td>\n    </tr>\n    <tr>\n      <th>44</th>\n      <td>suscripciones</td>\n    </tr>\n    <tr>\n      <th>45</th>\n      <td>asi se robaron 14 millones de pesos en un banc...</td>\n    </tr>\n    <tr>\n      <th>47</th>\n      <td>la sonrisa forzada de melania trump un video q...</td>\n    </tr>\n    <tr>\n      <th>49</th>\n      <td>megan fox cautiva con jeans ajustados en calif...</td>\n    </tr>\n    <tr>\n      <th>51</th>\n      <td>fabrican cubrebocas para ayudar ninos migrante...</td>\n    </tr>\n    <tr>\n      <th>53</th>\n      <td>demi rose presume vestido de impacto en redes ...</td>\n    </tr>\n    <tr>\n      <th>55</th>\n      <td>dafne almazan la mexicana mas joven en graduar...</td>\n    </tr>\n    <tr>\n      <th>58</th>\n      <td>protestas en estados unidos podrian provocar n...</td>\n    </tr>\n    <tr>\n      <th>64</th>\n      <td>10 memes sobre las verdaderas revelaciones de ...</td>\n    </tr>\n    <tr>\n      <th>66</th>\n      <td>gwyneth paltrow luce piernas tonificadas con s...</td>\n    </tr>\n    <tr>\n      <th>67</th>\n      <td>eiza gonzalez presume abs con crop top en los ...</td>\n    </tr>\n    <tr>\n      <th>70</th>\n      <td>la polemica respuesta de justin trudeau sobre ...</td>\n    </tr>\n    <tr>\n      <th>87</th>\n      <td>muere medico cuya piel se oscurecio por tratam...</td>\n    </tr>\n    <tr>\n      <th>89</th>\n      <td>posa para foto antes de protesta y despues sub...</td>\n    </tr>\n    <tr>\n      <th>95</th>\n      <td>miercoles de terror parten dos en cachos y rie...</td>\n    </tr>\n    <tr>\n      <th>97</th>\n      <td>10 personajes famosos ateos y sus creencias</td>\n    </tr>\n    <tr>\n      <th>98</th>\n      <td>10 actrices cuyos bikinis en el cine marcaron ...</td>\n    </tr>\n    <tr>\n      <th>102</th>\n      <td>impactante 10 formas antiguas de castigo y tor...</td>\n    </tr>\n    <tr>\n      <th>103</th>\n      <td>la bandera de mexico ondea en las protestas po...</td>\n    </tr>\n    <tr>\n      <th>104</th>\n      <td>las fotos ineditas de las sesiones de jennifer...</td>\n    </tr>\n    <tr>\n      <th>111</th>\n      <td>julio machado nos cuenta los secretos de la se...</td>\n    </tr>\n    <tr>\n      <th>127</th>\n      <td>la modelo jessica cediel se somete amputacion ...</td>\n    </tr>\n  </tbody>\n</table>\n</div>"
     },
     "metadata": {}
    }
   ]
  },
  {
   "cell_type": "markdown",
   "source": "### 4. Añadir uid a las filas",
   "metadata": {
    "tags": [],
    "cell_id": "00031-b5ba088b-273a-4bbd-bddb-11978bad900f",
    "deepnote_cell_type": "markdown"
   }
  },
  {
   "cell_type": "code",
   "metadata": {
    "tags": [],
    "cell_id": "00032-7d3b2106-a523-427c-931c-960730a5636d",
    "deepnote_to_be_reexecuted": false,
    "source_hash": "e6e79fe7",
    "execution_start": 1630367541044,
    "execution_millis": 42,
    "deepnote_cell_type": "code"
   },
   "source": "import hashlib\n\nuids = (el_universal\n            .apply(lambda row: hashlib.md5(bytes(row['url'].encode())), axis=1)\n            .apply(lambda hash_object: hash_object.hexdigest())\n       )\nel_universal['uid'] = uids\nel_universal.set_index('uid', inplace=True)\nel_universal",
   "execution_count": 16,
   "outputs": [
    {
     "output_type": "execute_result",
     "execution_count": 16,
     "data": {
      "application/vnd.deepnote.dataframe.v2+json": {
       "row_count": 138,
       "column_count": 5,
       "columns": [
        {
         "name": "body",
         "dtype": "object",
         "stats": {
          "unique_count": 138,
          "nan_count": 0,
          "categories": [
           {
            "name": "\r\n\r\n\r\n\r\n    googletag.cmd.push(function() {\r\n      googletag.display(\"dfp-ad-top3_content\");\r\n    });\r\n  \r\n\r\n\r\nYanet García se consolidó como una de las consentidas en redes sociales por su labor en la pantalla chica, contrario a estas bellezas tapatías que primero saltaron del Instagram para retar a la famosa chica del clima regiomontana.\r\nSus millones de seguidores presumen que la influencer Yuliett Torres pose mejores curvas que la ex conductora de Hoy y de no ser por estar bloqueada por famosas de la farándula nacional la modelo ya estaría en programas de altos niveles de audiencia.\r\nParece que muy a pesar de Yanet, Yuliett se está abriendo camino en el espectáculo mexicano con intervenciones en videoclips de gruperos y por los patrocinadores que pagan jugosas sumas para ser su imagen.\r\nOtro factor a considerar son los videos subidos de tono que publica en sus redes sociales y que con el tiempo le permite aparecer como portadas en medios nacionales e incluso internacionales.\r\nMary Baltazar, modelo de Instagram con más de 2.8 millones de fans, es sin duda una tapatía que pone a temblar a Yanet García. \r\nAlgunas personas sostienen que la anatomía de la influencer es más natural y por ello debería de ser elegida como la más guapa.\r\nIncluso refieren que las fotos de Mary despiertan la envida de la regiomontana por que siempre luce espectacular y casi no se le hacen retoques.\r\nLa tapatía logró saltar de la comunidad virtual a las pasarelas, donde se mantiene como una de las modelos más solicitadas por anunciantes de nuestro país.\r\nEn las últimas semanas otra que se sumó a la disputa de la corona por la influencer con mejor retaguardia fue Dafne Cosío, ‘La Barbie tapatía’, quien gracias a sus consejos pudo colaborar con el autor de la canción ‘Tusa’.\r\nLa bella escribió el tema ”Requisito\" junto con con Keytin, autor del sonado tema de Karol G y Nicky Minaj.\r\nDafne comenzó a tocar el piano, estudiar solfeo, y durante 12 años se ha preparado para darlo todo en el mundo de la música; así como es bailarina de ballet y tahitiano.\r\nVER: \r\nJugadora de Chivas pone a temblar aYanet  García\r\n",
            "count": 1
           },
           {
            "name": "\r\nEl museo del antiguo campo nazi de la muerte Auschwitz-Birkenau, cerrado desde mediados de marzo por la pandemia de coronavirus, pidió el miércoles ayuda financiera.\r\nEn 2020 se celebró el 75 aniversario de la liberación de Auschwitz-Birkenau, convertido en símbolo de todos los campos de exterminio donde murieron cerca de la mitad de los 6 millones de judíos asesinados durante el Holocausto, así como centenares de miles de personas de otros orígenes.\r\n \r\n\r\n\r\n\r\n \r\n\r\n\r\n \r\n\r\n \r\n\r\n\r\n\r\n \r\n\r\n\r\n\r\n\r\nView this post on Instagram\r\n\r\n\r\n \r\n\r\n\r\n\r\n \r\n\r\n \r\n\r\n \r\n\r\n\r\n\r\n \r\n\r\n \r\n\r\n\r\n\r\n \r\n\r\n \r\n\r\n \r\n\r\n\r\n\r\nThe history of Auschwitz is actually 1,300,000 individual stories of individuals deported. . . --- Photo by @robertofranchiniphoto --- . . #Auschwitz #Birkenau #AuschwitzMemorial #Nazi #Germany #concentrationcamp #extermination #genocide #history #Holocaust #Shoah #Jews #Poles #Roma #people #life #death #humanity #humiliation #dehumanization #remembrance #commemoration #memory #museum #Poland #igerspoland #UNESCO #worldheritage #worldHeritagelist @unesco #photography\r\n\r\nA post shared by  Auschwitz Memorial and Museum (@auschwitzmemorial) on Feb 2, 2020 at 11:10pm PST\r\n\r\n\r\n\r\n\"Pedimos ayuda financiera por parte de todos los que consideran necesario preservar la memoria\", se lee en un comunicado publicado en la web del museo.\r\n\"El presupuesto de 2020 se hundió\", dice el texto, pese al \"apoyo particular\" del ministerio polaco de la Cultura y la Fundación Internacional Auschwitz-Birkenau que permite mantener el empleo y continuar las obras de mantenimiento de los vestigios de este antiguo campo de la muerte.\r\nSin embargo el museo no tiene fondos para sus actividades educativas, editoriales y para sus exposiciones.\r\nEl memorial de Auschwitz-Birkenau está cerrado desde el 12 de marzo y no podrá abrir hasta principios de julio según su web.\r\nfjb\r\n",
            "count": 1
           },
           {
            "name": "136 others",
            "count": 136
           }
          ]
         }
        },
        {
         "name": "title",
         "dtype": "object",
         "stats": {
          "unique_count": 110,
          "nan_count": 28,
          "categories": [
           {
            "name": "Las influencers tapatías que hacen temblar a Yanet García",
            "count": 1
           },
           {
            "name": "109 others",
            "count": 109
           },
           {
            "name": "Missing",
            "count": 28
           }
          ]
         }
        },
        {
         "name": "url",
         "dtype": "object",
         "stats": {
          "unique_count": 138,
          "nan_count": 0,
          "categories": [
           {
            "name": "http://www.unionjalisco.mx/articulo/2020/06/02/espectaculos/las-influencers-tapatias-que-hacen-temblar-yanet-garcia",
            "count": 1
           },
           {
            "name": "http://www.eluniversal.com.mx/cultura/patrimonio/coronavirus-el-museo-de-auschwitz-pide-ayuda-para-sobrevivir-la-pandemia",
            "count": 1
           },
           {
            "name": "136 others",
            "count": 136
           }
          ]
         }
        },
        {
         "name": "newspaper_uid",
         "dtype": "object",
         "stats": {
          "unique_count": 1,
          "nan_count": 0,
          "categories": [
           {
            "name": "eluniversal",
            "count": 138
           }
          ]
         }
        },
        {
         "name": "host",
         "dtype": "object",
         "stats": {
          "unique_count": 14,
          "nan_count": 0,
          "categories": [
           {
            "name": "www.eluniversal.com.mx",
            "count": 79
           },
           {
            "name": "www.viveusa.mx",
            "count": 14
           },
           {
            "name": "12 others",
            "count": 45
           }
          ]
         }
        },
        {
         "name": "_deepnote_index_column",
         "dtype": "object"
        }
       ],
       "rows_top": [
        {
         "body": "\r\n\r\n\r\n\r\n    googletag.cmd.push(function() {\r\n      googletag.display(\"dfp-ad-top3_content\");\r\n    }…",
         "title": "Las influencers tapatías que hacen temblar a Yanet García",
         "url": "http://www.unionjalisco.mx/articulo/2020/06/02/espectaculos/las-influencers-tapatias-que-hacen-temb…",
         "newspaper_uid": "eluniversal",
         "host": "www.unionjalisco.mx",
         "_deepnote_index_column": "5f60c7cdf92aacf7b90f2e7fae67366f"
        },
        {
         "body": "\r\nEl museo del antiguo campo nazi de la muerte Auschwitz-Birkenau, cerrado desde mediados de marzo …",
         "title": "El museo de Auschwitz pide ayuda para sobrevivir la pandemia",
         "url": "http://www.eluniversal.com.mx/cultura/patrimonio/coronavirus-el-museo-de-auschwitz-pide-ayuda-para-…",
         "newspaper_uid": "eluniversal",
         "host": "www.eluniversal.com.mx",
         "_deepnote_index_column": "864cc985e42c8d5a1c3015f964701b66"
        },
        {
         "body": "\r\nLa Suprema Corte de Justicia de la Nación (SCJN) avaló que funcionarios del Banco de México (Banx…",
         "title": "Corte avala que funcionarios de Banxico, INE e IFT ganen más que AMLO",
         "url": "http://www.eluniversal.com.mx/nacion/corte-avala-que-funcionarios-de-banxico-ine-e-ift-ganen-mas-qu…",
         "newspaper_uid": "eluniversal",
         "host": "www.eluniversal.com.mx",
         "_deepnote_index_column": "9715c9e2a3d4909a4a66f46451119b46"
        },
        {
         "body": "\r\nUn grupo de funcionarios descubrió mosquitos infectados con el virus del Nilo Occidental al sur d…",
         "title": "nan",
         "url": "https://www.viveusa.mx/noticias/mosquitos-con-el-virus-del-nilo-occidental-llegan-california",
         "newspaper_uid": "eluniversal",
         "host": "www.viveusa.mx",
         "_deepnote_index_column": "55c827efc8fa5e3c2d653e243b54d507"
        },
        {
         "body": "\r\nEn 1980, Héctor Suárez y Leticia Perdigón nunca se llamaron por su nombre. Los dos formaban parte…",
         "title": "Héctor Suárez, zurdo y loco hasta el final",
         "url": "https://www.eluniversalqueretaro.mx/portada/hector-suarez-zurdo-y-loco-hasta-el-final-zurdo-y-loco-…",
         "newspaper_uid": "eluniversal",
         "host": "www.eluniversalqueretaro.mx",
         "_deepnote_index_column": "5f044ba246c3103846520f57013bc972"
        },
        {
         "body": "\r\nEl fiscal general Keith Ellison planea elevar los cargos contra Derek Chauvin, el expolicía de Mi…",
         "title": "Fiscal acusará de homicidio en segundo grado a Derek Chauvin; implicará a tres policías más",
         "url": "http://www.eluniversal.com.mx/mundo/george-floyd-fiscal-acusara-de-homicidio-en-segundo-grado-derek…",
         "newspaper_uid": "eluniversal",
         "host": "www.eluniversal.com.mx",
         "_deepnote_index_column": "fa3dd79e5d37aaf14b413e3622e6c969"
        },
        {
         "body": "\r\n\r\n\r\n\r\n    googletag.cmd.push(function() {\r\n      googletag.display(\"dfp-ad-top3_content\");\r\n    }…",
         "title": "Citas para verificar Edomex 2020: Entérate ",
         "url": "http://www.unionedomex.mx/articulo/2020/06/02/gente/citas-para-verificar-edomex-2020-enterate",
         "newspaper_uid": "eluniversal",
         "host": "www.unionedomex.mx",
         "_deepnote_index_column": "9f400463f8000642d8078994d25cfb90"
        },
        {
         "body": "\r\n\r\n\r\n\r\n    googletag.cmd.push(function() {\r\n      googletag.display(\"dfp-ad-top3_content\");\r\n    }…",
         "title": "Cómo consigo una de Beca Benito Juárez de primaria y secundaria",
         "url": "http://www.unionpuebla.mx/articulo/2020/05/26/educacion/como-consigo-una-de-beca-benito-juarez-de-p…",
         "newspaper_uid": "eluniversal",
         "host": "www.unionpuebla.mx",
         "_deepnote_index_column": "602fe4651de5d33fa8b8a896179d2805"
        },
        {
         "body": "\r\n\r\n\r\n\r\n    googletag.cmd.push(function() {\r\n      googletag.display(\"dfp-ad-top3_content\");\r\n    }…",
         "title": "Belinda, edad, estatura y otros datos de la coach de La Voz",
         "url": "http://www.unionyucatan.mx/articulo/2020/06/02/espectaculos/belinda-edad-estatura-y-otros-datos-de-…",
         "newspaper_uid": "eluniversal",
         "host": "www.unionyucatan.mx",
         "_deepnote_index_column": "c6da8f2421c9dbfc6c60f097fd7109f1"
        },
        {
         "body": "Temascaltepec.— Sicarios descargaron más de cien tiros contra un custodio, tras ser emboscado a la …",
         "title": "nan",
         "url": "https://www.elgrafico.mx/la-roja/custodio-de-penal-en-edomex-termina-mas-que-muerto-luego-de-mas-de…",
         "newspaper_uid": "eluniversal",
         "host": "www.elgrafico.mx",
         "_deepnote_index_column": "2c60884ade2a4c6195eb21262b3b3909"
        },
        {
         "body": "\r\nGianna tiene seis años. No sabe cómo murió su padre, George Floyd. Sólo sabe que lo extraña y que…",
         "title": "“Extraño a mi papi. Él cambió el mundo”, dice la hija de George Floyd",
         "url": "http://www.eluniversal.com.mx/mundo/extrano-mi-papi-el-cambio-el-mundo-dice-la-hija-de-george-floyd",
         "newspaper_uid": "eluniversal",
         "host": "www.eluniversal.com.mx",
         "_deepnote_index_column": "f94954f8f9e9f72db8d6fdaeaea26874"
        },
        {
         "body": "\r\nLa Secretaría de Energía (Sener), a través de PTI Infraestructura de Desarrollo, adjudicó los 7 p…",
         "title": "Sener adjudica los contratos para almacenamiento de la nueva refinería de Dos Bocas",
         "url": "http://www.eluniversal.com.mx/cartera/sener-adjudica-los-contratos-para-almacenamiento-de-la-nueva-…",
         "newspaper_uid": "eluniversal",
         "host": "www.eluniversal.com.mx",
         "_deepnote_index_column": "32e8af4beb036237ff3025874a528e35"
        },
        {
         "body": "\r\nCampeche, Después de que ayer el subsecretario de Salud, Hugo López-Gatell, admitiera ante los go…",
         "title": "No nos confiemos, pide AMLO; es una pandemia muy dañina",
         "url": "http://www.eluniversal.com.mx/nacion/no-nos-confiemos-pide-amlo-es-una-pandemia-muy-danina",
         "newspaper_uid": "eluniversal",
         "host": "www.eluniversal.com.mx",
         "_deepnote_index_column": "b8d879c291874461795945cab55433ad"
        },
        {
         "body": "\r\nQuito.- El expresidente ecuatoriano Abdalá Bucaram fue detenido el miércoles en su domicilio dura…",
         "title": "Detienen en Guayaquil a expresidente de Ecuador, acusado de corrupción",
         "url": "http://www.eluniversal.com.mx/mundo/detienen-en-guayaquil-expresidente-de-ecuador-acusado-de-corrup…",
         "newspaper_uid": "eluniversal",
         "host": "www.eluniversal.com.mx",
         "_deepnote_index_column": "114e0d90bf5104bcf4d517c1d8b3e942"
        },
        {
         "body": "\r\n-Doctor, ¿ya está domada la pandemia?- se le pregunta al subsecretario de Salud y vocero del gobi…",
         "title": "Pandemia no está domada en México: López-Gatell",
         "url": "http://www.eluniversal.com.mx/nacion/pandemia-no-esta-domada-en-mexico-lopez-gatell",
         "newspaper_uid": "eluniversal",
         "host": "www.eluniversal.com.mx",
         "_deepnote_index_column": "aeef6fe0a32712466b7f09a2128bdbe7"
        },
        {
         "body": "\r\nEn medio de la pandemia de Covid-19 y con todas las agencias automotrices cerradas, en mayo, la v…",
         "title": "Venta de autos en mayo, mejor que en abril: AMDA",
         "url": "http://www.eluniversal.com.mx/cartera/venta-de-autos-en-mayo-mejor-que-en-abril-amda",
         "newspaper_uid": "eluniversal",
         "host": "www.eluniversal.com.mx",
         "_deepnote_index_column": "fd5521e36700f2f1d7c7e77bf428a797"
        },
        {
         "body": " 0 % PULSO SOCIAL0 El 2020 ya inició y en esta nueva década es común que comencemos a preguntarnos …",
         "title": "nan",
         "url": "https://de10.com.mx/top-10/10-terribles-profecias-de-nostradamus-para-el-2020",
         "newspaper_uid": "eluniversal",
         "host": "de10.com.mx",
         "_deepnote_index_column": "7bbb588ada4605f825b0bb2e20a89812"
        },
        {
         "body": "\r\n\r\n\r\n\r\n    googletag.cmd.push(function() {\r\n      googletag.display(\"dfp-ad-top3_content\");\r\n    }…",
         "title": "Admisión BUAP 2020: Examen de admisión se pospone",
         "url": "http://www.unionpuebla.mx/articulo/2020/06/01/educacion/admision-buap-2020-examen-de-admision-se-po…",
         "newspaper_uid": "eluniversal",
         "host": "www.unionpuebla.mx",
         "_deepnote_index_column": "c0ba63c4f19b6e340080bdb19328e29d"
        },
        {
         "body": "\r\nJuchitán de Zaragoza.— La cortina de acero  está  arriba hasta la mitad en  la entrada a la tiend…",
         "title": "Juchitán regresa a \"nueva normalidad\" pese a riesgo de contagios por Covid-19",
         "url": "https://oaxaca.eluniversal.com.mx/municipios/02-06-2020/juchitan-regresa-nueva-normalidad-pese-ries…",
         "newspaper_uid": "eluniversal",
         "host": "oaxaca.eluniversal.com.mx",
         "_deepnote_index_column": "9317ef5c7a4b48730525875c33276bea"
        },
        {
         "body": "\r\nEste martes estrenó \"La Voz Azteca\" con Belinda, Christian Nodal, María José y Ricardo Montaner c…",
         "title": "Sin público y sin cubrebocas arranca \"La Voz Azteca\"",
         "url": "http://www.eluniversal.com.mx/espectaculos/la-voz-azteca-sin-publico-y-sin-cubrebocas",
         "newspaper_uid": "eluniversal",
         "host": "www.eluniversal.com.mx",
         "_deepnote_index_column": "34862c4f4443a9cdf8a2ae1549afb3e7"
        },
        {
         "body": "\r\nTexto: Yessica Torres\r\nRodeado de mar y por su ubicación geográfica es común que en el territorio…",
         "title": "El plan de emergencia que surgió por el desbordamiento de un río",
         "url": "https://www.eluniversal.com.mx/opinion/mochilazo-en-el-tiempo/el-plan-de-emergencia-que-surgio-por-…",
         "newspaper_uid": "eluniversal",
         "host": "www.eluniversal.com.mx",
         "_deepnote_index_column": "eaa4eff5c9856ea01825f22effe32584"
        },
        {
         "body": "\r\nDisney Springs en Orlando, Florida reabrió el pasado 20 de mayo luego de permanecer cerrado como …",
         "title": "nan",
         "url": "https://www.viveusa.mx/destinos/10-fotos-que-muestran-como-es-visitar-disney-springs-durante-la-pan…",
         "newspaper_uid": "eluniversal",
         "host": "www.viveusa.mx",
         "_deepnote_index_column": "510327c5277fecdc3e0992bae9f7dce9"
        },
        {
         "body": "\r\n\r\nLeón.— La industria del calzado reiniciará sus actividades de producción, a partir de este 1 de…",
         "title": "Industria del calzado de León reanudará actividades con 30% de capacidad",
         "url": "http://www.eluniversal.com.mx/estados/industria-del-calzado-de-leon-reanudara-actividades-con-30-de…",
         "newspaper_uid": "eluniversal",
         "host": "www.eluniversal.com.mx",
         "_deepnote_index_column": "7327a70ea7d5a2c8e7b72c1ec2f97685"
        },
        {
         "body": "\r\nA través de redes sociales, la senadora Lilly Téllez anunció que deja la bancada de Morena “por d…",
         "title": "Lilly Téllez deja bancada de Morena en el Senado “por diferencias de criterio”",
         "url": "http://www.eluniversal.com.mx/nacion/lilly-tellez-deja-bancada-de-morena-por-diferencias-de-criterio",
         "newspaper_uid": "eluniversal",
         "host": "www.eluniversal.com.mx",
         "_deepnote_index_column": "31cbba260d2bb712adc127a8adb73ed4"
        },
        {
         "body": "\r\nJuchitán de Zaragoza. - Un niño de 4 años murió la noche del sábado debido a las graves heridas q…",
         "title": "Perro Pitbull ataca y mata a niño de 4 años en Tehuantepec ",
         "url": "https://oaxaca.eluniversal.com.mx/municipios/01-06-2020/perro-pitbull-ataca-y-mata-nino-de-4-anos-e…",
         "newspaper_uid": "eluniversal",
         "host": "oaxaca.eluniversal.com.mx",
         "_deepnote_index_column": "b59eeaf872cc1fb676dd63f90244ec9a"
        },
        {
         "body": "\r\nTexto: Carlos Villasana y Ruth Gómez.\r\nHabitar y transitar por la Ciudad de México sin música par…",
         "title": "Cuando las canciones se aprendían con Notitas Musicales",
         "url": "https://www.eluniversal.com.mx/opinion/mochilazo-en-el-tiempo/cuando-las-canciones-se-aprendian-con…",
         "newspaper_uid": "eluniversal",
         "host": "www.eluniversal.com.mx",
         "_deepnote_index_column": "87f814362d045d892468d90c875762a8"
        },
        {
         "body": "\r\n\r\n\r\n\r\n    googletag.cmd.push(function() {\r\n      googletag.display(\"dfp-ad-top3_content\");\r\n    }…",
         "title": "María José, edad, estatura y más de la coach de La Voz México",
         "url": "http://www.unionyucatan.mx/articulo/2020/06/02/espectaculos/maria-jose-edad-estatura-y-mas-de-la-co…",
         "newspaper_uid": "eluniversal",
         "host": "www.unionyucatan.mx",
         "_deepnote_index_column": "45314df8192b4e55b7896dcdd58990a5"
        },
        {
         "body": "\r\nEl ayuntamiento de Soledad informó que a partir del 1 de junio iniciará la reactivación escalonad…",
         "title": "Este lunes inicia reapertura escalonada de comercios en Soledad",
         "url": "https://sanluis.eluniversal.com.mx/municipios/29-05-2020/este-lunes-inicia-reapertura-escalonada-de…",
         "newspaper_uid": "eluniversal",
         "host": "sanluis.eluniversal.com.mx",
         "_deepnote_index_column": "d323d9f17cecc7474ca05a6484f10107"
        },
        {
         "body": "\r\nEn la última fotografía de las tres generaciones Suárez, Héctor aparece sonriendo dentro de una …",
         "title": "Suárez Gomís comparte última foto con Héctor Suárez y su hijo ",
         "url": "http://www.eluniversal.com.mx/espectaculos/suarez-gomis-comparte-ultima-foto-con-hector-suarez-y-su…",
         "newspaper_uid": "eluniversal",
         "host": "www.eluniversal.com.mx",
         "_deepnote_index_column": "56b9a4af5baccc38b6fbf3bf99f8ee39"
        },
        {
         "body": " 0 % PULSO SOCIAL0 Hoy en día los filtros y herramientas en redes sociales pueden darles a todos un…",
         "title": "nan",
         "url": "https://de10.com.mx/cultura-digital/insolito-influencers-muestran-su-vida-sin-filtros-ni-retoques",
         "newspaper_uid": "eluniversal",
         "host": "de10.com.mx",
         "_deepnote_index_column": "f99ec3be2df79c8444bf06ef462d8aea"
        },
        {
         "body": "\r\nRodolfo Pizarro fue honesto en una charla extensa con Oswaldo Alanís, excompañero suyo en las Chi…",
         "title": "El 'Negro' Santos es mi juguete: Rodolfo Pizarro",
         "url": "http://www.eluniversal.com.mx/universal-deportes/futbol/rodolfo-pizarro-el-negro-santos-es-mi-jugue…",
         "newspaper_uid": "eluniversal",
         "host": "www.eluniversal.com.mx",
         "_deepnote_index_column": "69443eb67ebb2a61fb68a63f60d76e7a"
        },
        {
         "body": "\r\nEl nuevo estadio de Mazatlán, cuya construcción está por concluir este mes, después de tres años …",
         "title": "Conoce el nuevo estadio del Mazatlán FC",
         "url": "http://www.eluniversal.com.mx/universal-deportes/futbol/liga-mx-conoce-el-nuevo-estadio-del-mazatla…",
         "newspaper_uid": "eluniversal",
         "host": "www.eluniversal.com.mx",
         "_deepnote_index_column": "c3cc0e2da285ed040100d8780ffc3e6b"
        },
        {
         "body": "\r\nEl coordinador del PAN en el Senado, Mauricio Kuri, anunció la adhesión de la senadora Lilly Téll…",
         "title": "Lilly Téllez se suma al PAN en el Senado",
         "url": "http://www.eluniversal.com.mx/nacion/lilly-tellez-se-suma-al-pan-en-el-senado",
         "newspaper_uid": "eluniversal",
         "host": "www.eluniversal.com.mx",
         "_deepnote_index_column": "1560e7cbb62f6626585bb059bba4292b"
        },
        {
         "body": "\r\n\r\nUn grupo de jóvenes de Craiova, una ciudad pequeña, enclavada en una región agrícola de Rumania…",
         "title": " Opera en México banda rumana de robos millonarios en cajeros",
         "url": "http://www.eluniversal.com.mx/nacion/opera-en-mexico-banda-rumana-de-robos-millonarios-en-cajeros",
         "newspaper_uid": "eluniversal",
         "host": "www.eluniversal.com.mx",
         "_deepnote_index_column": "9d69dff642374f51f5478730599b24c3"
        },
        {
         "body": "\r\nEste sábado, concejales de Oaxaca de Juárez aprobaron por unanimidad prolongar hasta el 30 de jun…",
         "title": "La capital amplía al 30 de junio medidas contra Covid-19, ante pico de contagios",
         "url": "https://oaxaca.eluniversal.com.mx/municipios/30-05-2020/la-capital-amplia-al-30-de-junio-medidas-co…",
         "newspaper_uid": "eluniversal",
         "host": "oaxaca.eluniversal.com.mx",
         "_deepnote_index_column": "8a7b93a34e4c8ba00873158179613d0e"
        },
        {
         "body": "\r\nImagina encontrarte con cientos de flamencos en libertad: admirar su vuelo, sus elegantes movimie…",
         "title": "Celestún, el paraíso mexicano donde habita el flamenco rosa ",
         "url": "http://www.eluniversal.com.mx/destinos/celestun-el-paraiso-mexicano-donde-habita-el-flamenco-rosa",
         "newspaper_uid": "eluniversal",
         "host": "www.eluniversal.com.mx",
         "_deepnote_index_column": "725da49333188f83ec98df406f57114c"
        },
        {
         "body": "\r\nLa Fiscalía General del Estado de Oaxaca (FGEO) informó que un juez vinculó a proceso a un sujeto…",
         "title": "Vinculan a sujeto que presuntamente atacó sexualmente a sus dos hijas en Oaxaca",
         "url": "https://oaxaca.eluniversal.com.mx/estatal/28-04-2020/vinculan-sujeto-que-presuntamente-ataco-sexual…",
         "newspaper_uid": "eluniversal",
         "host": "oaxaca.eluniversal.com.mx",
         "_deepnote_index_column": "1e6f4ed28824897fe2c39e7e15643dfc"
        },
        {
         "body": "\r\nTexto: Daniela Jurado Cano\r\n\r\nEn los 80 comenzaron a surgir grupos, sellos discográficos y espaci…",
         "title": "Grupos de rock, cronistas de la CDMX y periferia",
         "url": "https://www.eluniversal.com.mx/opinion/mochilazo-en-el-tiempo/grupos-de-rock-cronistas-de-la-cdmx-y…",
         "newspaper_uid": "eluniversal",
         "host": "www.eluniversal.com.mx",
         "_deepnote_index_column": "856d193b324689dde131fabb23c28520"
        },
        {
         "body": "\r\nTlalnepantla, Méx.— Bernabé Flores Franco, enfermero que libró la batalla contra el Covid-19 lueg…",
         "title": "Libra Covid... pero queda con daño pulmonar; no lo atienden por miedo",
         "url": "http://www.eluniversal.com.mx/metropoli/libra-covid-pero-queda-con-dano-pulmonar-no-lo-atienden-por…",
         "newspaper_uid": "eluniversal",
         "host": "www.eluniversal.com.mx",
         "_deepnote_index_column": "319acec58b80e32353b049c434e9fde7"
        },
        {
         "body": "\r\nEn mayo hubo 864 nuevos casos de Covid-19 en Querétaro y 100 defunciones; esto es cerca de siete …",
         "title": "Mayo fue el mes con más contagios y defunciones por Coronavirus, en Querétaro",
         "url": "https://www.eluniversalqueretaro.mx/portada/mayo-fue-el-mes-con-mas-contagios-y-defunciones",
         "newspaper_uid": "eluniversal",
         "host": "www.eluniversalqueretaro.mx",
         "_deepnote_index_column": "70fafc1a0e3a3b0f2ae2103d664b08ba"
        },
        {
         "body": "\r\nCampeche.- En el banderazo de inicio de obra del Tramo 2 del Tren Maya, el presidente Andrés Manu…",
         "title": "AMLO da banderazo en Campeche al Tramo 2 del Tren Maya",
         "url": "http://www.eluniversal.com.mx/nacion/amlo-da-banderazo-en-campeche-al-tramo-2-del-tren-maya",
         "newspaper_uid": "eluniversal",
         "host": "www.eluniversal.com.mx",
         "_deepnote_index_column": "9d5a963c12bd50a7a47c7ec99d9de980"
        },
        {
         "body": "\r\n\r\n\r\n\r\n    googletag.cmd.push(function() {\r\n      googletag.display(\"dfp-ad-top3_content\");\r\n    }…",
         "title": "Constancia Digital INE: ¿cómo tramitarla y para qué sirve?",
         "url": "http://www.unioncdmx.mx/articulo/2020/05/27/ciudadanos/constancia-digital-ine-como-tramitarla-y-par…",
         "newspaper_uid": "eluniversal",
         "host": "www.unioncdmx.mx",
         "_deepnote_index_column": "9b194782b5dee11531ea6f8ffd2894f9"
        },
        {
         "body": "\r\n\r\nLas manifestaciones por la muerte de George Floyd, un hombre afroestadounidense asesinado por p…",
         "title": "Estados Unidos en llamas",
         "url": "https://www.eluniversal.com.mx/opinion/andrew-selee/estados-unidos-en-llamas",
         "newspaper_uid": "eluniversal",
         "host": "www.eluniversal.com.mx",
         "_deepnote_index_column": "f8fc70204897287cf041566249c741ea"
        },
        {
         "body": " 0 % PULSO SOCIAL0 Charles Chaplin es conocido por su legendario talento cómico, pero su vida perso…",
         "title": "nan",
         "url": "https://de10.com.mx/top-10/las-cuatro-bellas-y-jovenes-esposas-de-charlie-chaplin",
         "newspaper_uid": "eluniversal",
         "host": "de10.com.mx",
         "_deepnote_index_column": "eba6d5612d689ae3ef277927ab743b2f"
        },
        {
         "body": " Toggle navigation  SuscripcionesEl Universal ImpresoEl Universal QuerétaroEl Universal Digital    …",
         "title": "nan",
         "url": "https://www.clubeluniversal.mx/content/suscripciones",
         "newspaper_uid": "eluniversal",
         "host": "www.clubeluniversal.mx",
         "_deepnote_index_column": "3e542ff3beadc7730bbe798190f3cf39"
        },
        {
         "body": "En un robo casi de película, una banda bien organizada obligó a la empleada de una sucursal de Banc…",
         "title": "nan",
         "url": "https://www.elgrafico.mx/la-roja/asi-se-robaron-14-millones-de-pesos-en-un-banco-de-cdmx-con-cintur…",
         "newspaper_uid": "eluniversal",
         "host": "www.elgrafico.mx",
         "_deepnote_index_column": "e627456e0555f08b6a3f93530e5d4ab9"
        },
        {
         "body": "\r\n\r\n\r\n\r\n    googletag.cmd.push(function() {\r\n      googletag.display(\"dfp-ad-top3_content\");\r\n    }…",
         "title": "Christian Nodal, edad y secretos del coach de La Voz México 2020",
         "url": "http://www.unionyucatan.mx/articulo/2020/06/02/espectaculos/christian-nodal-edad-y-secretos-del-coa…",
         "newspaper_uid": "eluniversal",
         "host": "www.unionyucatan.mx",
         "_deepnote_index_column": "283eb15a96262f94562b960bcffe2b18"
        },
        {
         "body": "\r\nMelania Trump no pudo ocultar su incomodidad cuando su esposo, el presidente Donald Trumo, le pid…",
         "title": "nan",
         "url": "https://www.viveusa.mx/noticias/la-sonrisa-forzada-de-melania-trump-un-video-que-se-volvio-viral",
         "newspaper_uid": "eluniversal",
         "host": "www.viveusa.mx",
         "_deepnote_index_column": "3eb5311b45afdb6f6fd2e32437f9acf3"
        },
        {
         "body": "\r\nEn 2004, el rumano Filip Sardaru hizo una emotiva petición a Canadá para que su familia fuera ace…",
         "title": "Cruzando el Río Grande: Cómo unos rumanos entraron ilegalmente a Estados Unidos para robar cajeros …",
         "url": "http://www.eluniversal.com.mx/nacion/cruzando-el-rio-grande-como-unos-rumanos-entraron-ilegalmente-…",
         "newspaper_uid": "eluniversal",
         "host": "www.eluniversal.com.mx",
         "_deepnote_index_column": "dc60837fda118787f74285907bf6de02"
        },
        {
         "body": "\r\nLa actriz Megan Fox salió en compañía de sus tres hijos a una tienda de la ciudad de Calabasas, e…",
         "title": "nan",
         "url": "https://www.viveusa.mx/showbiz/megan-fox-cautiva-con-jeans-ajustados-en-california-tras-separacion",
         "newspaper_uid": "eluniversal",
         "host": "www.viveusa.mx",
         "_deepnote_index_column": "5450b736406fc36d786d240efe967394"
        },
        {
         "body": "\r\nEl reinicio de actividades en el sector industrial se caracterizó por ausencia de trabajadores y …",
         "title": "\"Nueva normalidad\" inicia con ausentismo laboral y sin pruebas para detectar Covid",
         "url": "http://www.eluniversal.com.mx/cartera/negocios/nueva-normalidad-inicia-con-ausentismo-laboral-y-sin…",
         "newspaper_uid": "eluniversal",
         "host": "www.eluniversal.com.mx",
         "_deepnote_index_column": "186d0917cebefd619d90edf20af66f3c"
        },
        {
         "body": "\r\nLa marca mexicana Veoveo lanzó una campaña con causa durante la pandemia por Covid-19. Fabrican c…",
         "title": "nan",
         "url": "https://www.viveusa.mx/compras/fabrican-cubrebocas-para-ayudar-ninos-migrantes-en-mexico",
         "newspaper_uid": "eluniversal",
         "host": "www.viveusa.mx",
         "_deepnote_index_column": "11866efebe26250688b0637447cc8e72"
        },
        {
         "body": "\r\nQuerétaro, Querétaro.-\r\n\r\nLa peluquería de Mario Rodríguez Hernández está vacía. La gente en esto…",
         "title": "Resistencia. Peluquero sobrelleva encierro",
         "url": "https://www.eluniversalqueretaro.mx/portada/resistenciapeluquero-sobrelleva-encierro",
         "newspaper_uid": "eluniversal",
         "host": "www.eluniversalqueretaro.mx",
         "_deepnote_index_column": "337857fd7cd1c5ed60945577f8e973eb"
        },
        {
         "body": "\r\nDemi Rose conquistó las redes sociales con un vestido que se ajustó a sus curvas de infarto y rev…",
         "title": "nan",
         "url": "https://www.viveusa.mx/showbiz/demi-rose-presume-vestido-de-impacto-en-redes-sociales",
         "newspaper_uid": "eluniversal",
         "host": "www.viveusa.mx",
         "_deepnote_index_column": "8a7359f57b239fc20e08a8029705744c"
        },
        {
         "body": "\r\nToluca.- La Secretaría de Educación del Estado de México informó que el 5 de junio concluirá el a…",
         "title": "Estas son las fechas para finalizar clases e iniciar ciclo escolar 2020-2021 en Edomex",
         "url": "http://www.eluniversal.com.mx/metropoli/edomex/estas-son-las-fechas-para-finalizar-clases-e-iniciar…",
         "newspaper_uid": "eluniversal",
         "host": "www.eluniversal.com.mx",
         "_deepnote_index_column": "8edf34e3aee0f894a68c7bf51b35766c"
        },
        {
         "body": "\r\nCon 18 años de edad, Dafne Almazán Anaya se convirtió en la mexicana más joven en graduarse de un…",
         "title": "nan",
         "url": "https://www.viveusa.mx/educacion/dafne-almazan-la-mexicana-mas-joven-en-graduarse-de-una-maestria-e…",
         "newspaper_uid": "eluniversal",
         "host": "www.viveusa.mx",
         "_deepnote_index_column": "e5b1d40a5448e5265368cab3c8884c4d"
        },
        {
         "body": "\r\n\r\nNos comentan que quien piense que la empresa Wal-Mart realizó de buena voluntad un pago por 8 m…",
         "title": "La historia de los 8 mil millones que pagó Wal-Mart",
         "url": "https://www.eluniversal.com.mx/opinion/periodistas-el-universal/la-historia-de-los-8-mil-millones-q…",
         "newspaper_uid": "eluniversal",
         "host": "www.eluniversal.com.mx",
         "_deepnote_index_column": "949368292525758628958d6ac31976f5"
        },
        {
         "body": "\r\n\r\n En Puebla se han registrado 392 muertes y 3 mil 239 casos confirmados de coronavirus al 2 de j…",
         "title": "Coronavirus Puebla: Casos confirmados de Covid-19 al 2 de junio",
         "url": "http://www.eluniversal.com.mx/estados/coronavirus-puebla-casos-confirmados-de-covid-19-al-2-de-junio",
         "newspaper_uid": "eluniversal",
         "host": "www.eluniversal.com.mx",
         "_deepnote_index_column": "f545f665513afbb87cbd7c32d6f490c6"
        },
        {
         "body": "\r\nA medida que los manifestantes ocupaban las avenidas a lo largo y ancho de Estados Unidos para co…",
         "title": "nan",
         "url": "https://www.viveusa.mx/noticias/protestas-en-estados-unidos-podrian-provocar-nuevos-casos-de-corona…",
         "newspaper_uid": "eluniversal",
         "host": "www.viveusa.mx",
         "_deepnote_index_column": "be397604807786a0a4c448b6ece692fb"
        },
        {
         "body": "\r\n\r\n\r\n\r\n    googletag.cmd.push(function() {\r\n      googletag.display(\"dfp-ad-top3_content\");\r\n    }…",
         "title": "‘Enamorándonos’ y su maldición",
         "url": "http://www.unionjalisco.mx/articulo/2020/06/03/espectaculos/enamorandonos-y-su-maldicion",
         "newspaper_uid": "eluniversal",
         "host": "www.unionjalisco.mx",
         "_deepnote_index_column": "4e60033e358b839134037f5936eae85d"
        },
        {
         "body": "\r\nLa secretaria de Salud, Oliva López, consideró que en septiembre el semáforo podría cambiar a nar…",
         "title": "Decesos por Covid se estabilizarán en septiembre en CDMX",
         "url": "http://www.eluniversal.com.mx/metropoli/decesos-por-covid-se-estabilizaran-en-septiembre-en-cdmx",
         "newspaper_uid": "eluniversal",
         "host": "www.eluniversal.com.mx",
         "_deepnote_index_column": "ed19b6bfd4048fe9d9e642110c70e386"
        },
        {
         "body": "\r\nEl gobernador Francisco Domínguez Servién desmintió que el estado de Querétaro haya aceptado util…",
         "title": "Gobernador de Querétaro rechaza integración al semáforo único de Covid-19 ",
         "url": "https://www.eluniversalqueretaro.mx/politica/gobernador-de-queretaro-rechaza-integracion-al-semafor…",
         "newspaper_uid": "eluniversal",
         "host": "www.eluniversalqueretaro.mx",
         "_deepnote_index_column": "736de8188e7624da6c299a6699a86792"
        },
        {
         "body": "\r\nJosé Luis Alomía Zegarra, director general de Epidemiología, informó esta noche que México suma 1…",
         "title": "México tiene nuevo máximo de casos de Covid: 3 mil 891 en un día; suman 97 mil",
         "url": "https://www.eluniversal.com.mx/nacion/sociedad/coronavirus-2-de-junio-suman-10-mil-637-muertes-por-…",
         "newspaper_uid": "eluniversal",
         "host": "www.eluniversal.com.mx",
         "_deepnote_index_column": "22e0c9ee3a1fbf5ee85faeb6b6feef77"
        },
        {
         "body": "\r\n\r\n\r\n\r\n    googletag.cmd.push(function() {\r\n      googletag.display(\"dfp-ad-top3_content\");\r\n    }…",
         "title": "Yo soy Betty, la fea, elenco, personajes y actores antes y después",
         "url": "http://www.unionyucatan.mx/articulo/2020/06/01/espectaculos/yo-soy-betty-la-fea-elenco-personajes-y…",
         "newspaper_uid": "eluniversal",
         "host": "www.unionyucatan.mx",
         "_deepnote_index_column": "8186415a9b64ad383faf77f634d5954d"
        },
        {
         "body": " 0 % PULSO SOCIAL0 Ante las protestas en Estados Unidos por la muerte de George Floyd, un afromeric…",
         "title": "nan",
         "url": "https://de10.com.mx/top-10/10-memes-sobre-las-verdaderas-revelaciones-de-anonymous",
         "newspaper_uid": "eluniversal",
         "host": "de10.com.mx",
         "_deepnote_index_column": "7a50f0ca05a6efe98631b99312ec0e31"
        },
        {
         "body": "\r\nDesde ayer, algunos comentarios en Internet apuntan a que el Presidente, Andrés Manuel López Obra…",
         "title": "¿Es verdad que AMLO quiere cobrar un impuesto por tener mascotas?",
         "url": "http://www.eluniversal.com.mx/nacion/politica/es-verdad-que-amlo-quiere-cobrar-un-impuesto-por-tene…",
         "newspaper_uid": "eluniversal",
         "host": "www.eluniversal.com.mx",
         "_deepnote_index_column": "5ce921de5142b0dfe4d884470f50b690"
        },
        {
         "body": "\r\nLa actriz Gwyneth Paltrow fue captada durante un paseo en la ciudad de Los Ángeles, California, j…",
         "title": "nan",
         "url": "https://www.viveusa.mx/showbiz/gwyneth-paltrow-luce-piernas-tonificadas-con-shorts-blancos-en-la",
         "newspaper_uid": "eluniversal",
         "host": "www.viveusa.mx",
         "_deepnote_index_column": "99162cbf255a01ee3e6a4e02c12a1373"
        },
        {
         "body": "\r\nEiza González fue captada por los paparazzis haciendo alarde de su trabajada figura por calles de…",
         "title": "nan",
         "url": "https://www.viveusa.mx/showbiz/eiza-gonzalez-presume-abs-con-crop-top-en-los-angeles-0",
         "newspaper_uid": "eluniversal",
         "host": "www.viveusa.mx",
         "_deepnote_index_column": "9db570bce53866e2ece28e5f36f95468"
        },
        {
         "body": "\r\n\r\n\r\n\r\n    googletag.cmd.push(function() {\r\n      googletag.display(\"dfp-ad-top3_content\");\r\n    }…",
         "title": "Nuevas fechas para examen COMIPEMS 2020, ¿cuándo son?",
         "url": "http://www.unioncdmx.mx/articulo/2020/06/03/educacion/nuevas-fechas-para-examen-comipems-2020-cuand…",
         "newspaper_uid": "eluniversal",
         "host": "www.unioncdmx.mx",
         "_deepnote_index_column": "5d46615728015b7fd8282292d4d6c7ca"
        },
        {
         "body": "\r\nEl Servicio de Administración Tributaria (SAT) recordó que el año pasado, el Congreso de la Unión…",
         "title": "¿Quiénes pagan el IVA a servicios digitales? El SAT te lo dice",
         "url": "http://www.eluniversal.com.mx/cartera/telecom/quienes-pagan-el-iva-servicios-digitales",
         "newspaper_uid": "eluniversal",
         "host": "www.eluniversal.com.mx",
         "_deepnote_index_column": "6bd9f361829222464cfcebe5d423481d"
        },
        {
         "body": "\r\n El primer ministro canadiense, Justin Trudeau, necesitó este martes 21 segundos de silencio ante…",
         "title": "nan",
         "url": "https://www.viveusa.mx/noticias/la-polemica-respuesta-de-justin-trudeau-sobre-las-protestas-en-eu",
         "newspaper_uid": "eluniversal",
         "host": "www.viveusa.mx",
         "_deepnote_index_column": "cc6ee4046eaecc45acc777073729b355"
        },
        {
         "body": "\r\nSi hay una deliciosa y sencilla receta para preparar es el pan francés, este rico bocadillo que l…",
         "title": "Aprende a preparar pan francés en casa fácil y rápido",
         "url": "http://www.eluniversal.com.mx/menu/receta-de-pan-frances-con-platano",
         "newspaper_uid": "eluniversal",
         "host": "www.eluniversal.com.mx",
         "_deepnote_index_column": "45943b2de008d8ec214cbdce21c8677d"
        },
        {
         "body": "\r\nPara muchos viajeros, una de las motivaciones principales para elegir uno u otro lugar para recor…",
         "title": "Postres, vinos y otras delicias: viaja por Francia a través de su cocina",
         "url": "http://www.eluniversal.com.mx/destinos/postres-vinos-y-mas-delicias-en-un-viaje-por-la-cocina-franc…",
         "newspaper_uid": "eluniversal",
         "host": "www.eluniversal.com.mx",
         "_deepnote_index_column": "8bd8ed3a063f2d0eff961f5d58469da9"
        },
        {
         "body": "\r\nLa aparición del Covid-19 provocó que el personal de salud adoptara la utilización de nuevas herr…",
         "title": "“Es muy difícil, vemos las muertes noche a noche”",
         "url": "https://www.eluniversalqueretaro.mx/portada/es-muy-dificil-vemos-las-muertes-noche-noche",
         "newspaper_uid": "eluniversal",
         "host": "www.eluniversalqueretaro.mx",
         "_deepnote_index_column": "956d5aaaf180c1a24b0f933588aaac55"
        },
        {
         "body": "\r\n¿Todavía habrá quienes piensen que el actual gobierno amenaza la libertad de expresión luego de q…",
         "title": "El choque de dos proyectos de nación",
         "url": "https://www.eluniversal.com.mx/opinion/raul-rodriguez-cortes/el-choque-de-dos-proyectos-de-nacion",
         "newspaper_uid": "eluniversal",
         "host": "www.eluniversal.com.mx",
         "_deepnote_index_column": "505e903e1f3f0a358f59e8c518963e99"
        },
        {
         "body": "\r\n\r\nLa escena es terrible: George Floyd, un hombre afroamericano arrojado en el piso, con la rodill…",
         "title": "Sobre la brutalidad policial",
         "url": "https://www.eluniversal.com.mx/opinion/alejandro-hope/sobre-la-brutalidad-policial",
         "newspaper_uid": "eluniversal",
         "host": "www.eluniversal.com.mx",
         "_deepnote_index_column": "91c7eeb99daa426dc8404cfc84aa409a"
        },
        {
         "body": "\r\nEl perímetro del Centro Histórico se encuentra aún blindado por elementos de la Secretaría de Seg…",
         "title": "Pese a \"nueva normalidad\", mantienen cercado perímetro del Centro Histórico ",
         "url": "http://www.eluniversal.com.mx/metropoli/cdmx/pese-nueva-normalidad-mantienen-cercado-perimetro-del-…",
         "newspaper_uid": "eluniversal",
         "host": "www.eluniversal.com.mx",
         "_deepnote_index_column": "4bc5c7479168fa9896ac670d53a3fd3e"
        },
        {
         "body": "\r\n\r\n\r\n\r\n    googletag.cmd.push(function() {\r\n      googletag.display(\"dfp-ad-top3_content\");\r\n    }…",
         "title": "¿Cuándo es el Día del Padre en México 2020?",
         "url": "http://www.unionguanajuato.mx/articulo/2020/05/25/cultura/cuando-es-el-dia-del-padre-en-mexico-2020",
         "newspaper_uid": "eluniversal",
         "host": "www.unionguanajuato.mx",
         "_deepnote_index_column": "fabe452990187835557e41bc1bd4c9a2"
        },
        {
         "body": "\r\nLeer en español\r\n \r\nThe body of a Mexican congresswoman Francis Anel Bueno Sánchez from the state…",
         "title": "Mexican lawmaker’s body is found inside a mass grave in Colima",
         "url": "https://www.eluniversal.com.mx/english/mexican-lawmakers-body-found-inside-mass-grave-colima",
         "newspaper_uid": "eluniversal",
         "host": "www.eluniversal.com.mx",
         "_deepnote_index_column": "6abe219e133be7106095b68efd573889"
        },
        {
         "body": "\r\nUna nieve ligera caía sobre Craiova, en el sur de Rumanía, cuando Sorin Velcu llamó a su madre pa…",
         "title": "Del cajero al ladrillo: blanqueando el dinero sucio",
         "url": "http://www.eluniversal.com.mx/nacion/del-cajero-al-ladrillo-blanqueando-el-dinero-sucio",
         "newspaper_uid": "eluniversal",
         "host": "www.eluniversal.com.mx",
         "_deepnote_index_column": "471b2343d019baf1808b47422d719b6a"
        },
        {
         "body": "\r\nTexto: Edward Fernando Salinas\r\n \r\n\r\n\"No puedes vencer a alguien que nunca se rinde\"\r\n“Babe” Ruth…",
         "title": "El día que el gran Babe Ruth conectó un jonrón en México",
         "url": "https://www.eluniversal.com.mx/opinion/mochilazo-en-el-tiempo/el-dia-que-el-gran-babe-ruth-conecto-…",
         "newspaper_uid": "eluniversal",
         "host": "www.eluniversal.com.mx",
         "_deepnote_index_column": "01c4df73f5d6c19e683bf1b55534f2c9"
        },
        {
         "body": "\r\n\r\n¿Qué horas son? las que usted diga, señor presidente. Es la respuesta que México ha querido evi…",
         "title": "Los cómplices del presidente",
         "url": "https://www.eluniversal.com.mx/opinion/ana-paula-ordorica/los-complices-del-presidente",
         "newspaper_uid": "eluniversal",
         "host": "www.eluniversal.com.mx",
         "_deepnote_index_column": "d6114f8fbbcfc5cf4fc906163df0c43b"
        },
        {
         "body": "\r\nWashington.- Las tropas en activo trasladadas a la capital estadounidense para ayudar, en caso ne…",
         "title": "Regresan a sus bases tropas desplegadas en Washington para controlar protestas",
         "url": "http://www.eluniversal.com.mx/mundo/regresan-sus-bases-tropas-desplegadas-en-washington-para-contro…",
         "newspaper_uid": "eluniversal",
         "host": "www.eluniversal.com.mx",
         "_deepnote_index_column": "071849f1dae3d0dcf3144c7991ce72ad"
        },
        {
         "body": "\r\nLa posible vuelta del Atlante a la Primera División, a la Liga MX, podría ser parte de un plan ar…",
         "title": "El Atlante a la Liga MX, ¿cómo y de quién es el plan?",
         "url": "http://www.eluniversal.com.mx/universal-deportes/futbol/el-atlante-la-liga-mx-como-y-de-quien-es-el…",
         "newspaper_uid": "eluniversal",
         "host": "www.eluniversal.com.mx",
         "_deepnote_index_column": "e9d8e66242790772729d3957428cff8d"
        },
        {
         "body": "\r\nAlgunos jugadores del América mandaron mensajes en contra del racismo, durante los movimientos en…",
         "title": "Jugadores del América lanzan mensajes contra el racismo",
         "url": "http://www.eluniversal.com.mx/universal-deportes/futbol/america-jugadores-lanzan-mensajes-contra-el…",
         "newspaper_uid": "eluniversal",
         "host": "www.eluniversal.com.mx",
         "_deepnote_index_column": "c9bf8760610d4993ca3af848457d3dcc"
        },
        {
         "body": "\r\nEl cuerpo de Anel Bueno Sánchez, diputada de Colima desaparecida el pasado 29 de abril, fue local…",
         "title": "¿Quién era Anel Bueno, diputada localizada en una fosa clandestina de Colima?",
         "url": "http://www.eluniversal.com.mx/estados/quien-era-anel-bueno-diputada-localizada-en-una-fosa-clandest…",
         "newspaper_uid": "eluniversal",
         "host": "www.eluniversal.com.mx",
         "_deepnote_index_column": "01c86faa69fa2107b8a047faef3f837f"
        },
        {
         "body": "\r\nTexto: Marco Salas\r\nImaginemos que es 1890 y una pareja toma café. Él se llama Karl Wilhem Flügge…",
         "title": "Así nació el cubrebocas",
         "url": "https://www.eluniversal.com.mx/opinion/mochilazo-en-el-tiempo/asi-nacio-el-cubrebocas",
         "newspaper_uid": "eluniversal",
         "host": "www.eluniversal.com.mx",
         "_deepnote_index_column": "59ebaf555087c32ca218f9edf98cdabb"
        },
        {
         "body": "Hubei.– Uno de los médicos que experimentaron un extraño cambio en el color de su piel, tras contra…",
         "title": "nan",
         "url": "https://www.elgrafico.mx/viral/muere-medico-cuya-piel-se-oscurecio-por-tratamiento-contra-el-covid-…",
         "newspaper_uid": "eluniversal",
         "host": "www.elgrafico.mx",
         "_deepnote_index_column": "18338b662d448427d020628f60cd46fc"
        },
        {
         "body": "\r\nLa senadora del PRI, Vanessa Rubio, propuso que personas desahuciadas puedan tener acceso a los r…",
         "title": "Senadora de PRI plantea que desahuciados puedan acceder a recursos de su Afore",
         "url": "https://www.eluniversal.com.mx/cartera/senadora-de-pri-plantea-que-desahuciados-puedan-acceder-recu…",
         "newspaper_uid": "eluniversal",
         "host": "www.eluniversal.com.mx",
         "_deepnote_index_column": "b7966d5da94ce512b0ffa8394a2af753"
        },
        {
         "body": "\r\nUn video viral que circula en redes sociales ha causado revuelo entre los usuarios. Muestra a una…",
         "title": "nan",
         "url": "https://www.viveusa.mx/noticias/posa-para-foto-antes-de-protesta-y-despues-sube-auto-de-lujo",
         "newspaper_uid": "eluniversal",
         "host": "www.viveusa.mx",
         "_deepnote_index_column": "d69d80078eba76f7189b9609e0f96d4c"
        },
        {
         "body": "\r\nEsta mañana trascendió la muerte de un hombre en la avenida principal del Centro Histórico potosi…",
         "title": "Encuentran a hombre colgado en academia de belleza del Centro Histórico de SLP",
         "url": "https://sanluis.eluniversal.com.mx/metropoli/27-05-2020/localizan-hombre-colgado-en-academia-de-bel…",
         "newspaper_uid": "eluniversal",
         "host": "sanluis.eluniversal.com.mx",
         "_deepnote_index_column": "3bfa057ee47efe656e5409db2849b5b6"
        },
        {
         "body": "\r\n\r\n\r\n\r\n    googletag.cmd.push(function() {\r\n      googletag.display(\"dfp-ad-top3_content\");\r\n    }…",
         "title": "Nuevo calendario escolar por coronavirus Covid-19 para imprimir",
         "url": "http://www.unionguanajuato.mx/articulo/2020/06/03/educacion/nuevo-calendario-escolar-por-coronaviru…",
         "newspaper_uid": "eluniversal",
         "host": "www.unionguanajuato.mx",
         "_deepnote_index_column": "91cc9dd472a5e033e754edfcec872597"
        },
        {
         "body": "\r\nLa Fiscalía General de San Luis Potosí informó que el saldo de tres ataques armados ocurridos la …",
         "title": "Ataques armados en Zona Metropolitana de SLP dejan 5 muertos y 3 lesionados",
         "url": "https://sanluis.eluniversal.com.mx/metropoli/27-05-2020/ataques-armados-en-zona-metropolitana-de-sl…",
         "newspaper_uid": "eluniversal",
         "host": "sanluis.eluniversal.com.mx",
         "_deepnote_index_column": "11196915d6c85f6d693b64d467bbabf8"
        },
        {
         "body": "\r\nEl dirigente nacional de Morena, Alfonso Ramírez Cuéllar, pidió justicia para la diputada local F…",
         "title": "Morena pide justicia para diputada asesinada",
         "url": "http://www.eluniversal.com.mx/nacion/morena-pide-justicia-para-diputada-asesinada",
         "newspaper_uid": "eluniversal",
         "host": "www.eluniversal.com.mx",
         "_deepnote_index_column": "3cb0b3abfcf75d61da25ac1838d36b3d"
        },
        {
         "body": "\r\nEl coordinador de Morena en la Cámara de Diputados, Mario Delgado Carrillo, propuso que los traba…",
         "title": "Morena propone retiro de Afore en caso de emergencia sanitaria",
         "url": "http://www.eluniversal.com.mx/nacion/politica/morena-propone-retiro-de-afore-en-caso-de-emergencia-…",
         "newspaper_uid": "eluniversal",
         "host": "www.eluniversal.com.mx",
         "_deepnote_index_column": "62bed4476562a6406d10dd873334375e"
        },
        {
         "body": "Los cuerpos cercenados de dos hombres fueron hallados la mañana de este miércoles en dos diferentes…",
         "title": "nan",
         "url": "https://www.elgrafico.mx/la-roja/miercoles-de-terror-parten-dos-en-cachos-y-riegan-sus-restos-en-va…",
         "newspaper_uid": "eluniversal",
         "host": "www.elgrafico.mx",
         "_deepnote_index_column": "c2e0da43d8084f2ad1fedd09ee2a7ec1"
        },
        {
         "body": "\r\nSi te gusta cocinar, sabrás que un buen platillo depende tanto de la calidad de los alimentos com…",
         "title": "Guía para elegir la mejor batería de cocina",
         "url": "http://www.eluniversal.com.mx/menu/que-tomar-en-cuenta-para-comprar-una-bateria-de-cocina",
         "newspaper_uid": "eluniversal",
         "host": "www.eluniversal.com.mx",
         "_deepnote_index_column": "8063b167a3b73fecfba90fdd284fe6fe"
        },
        {
         "body": " 20 % PULSO SOCIAL6 De acuerdo con la Real Academia de la Lengua, ser ateo significa rechazar la ex…",
         "title": "nan",
         "url": "https://de10.com.mx/top-10/10-personajes-famosos-ateos-y-sus-creencias",
         "newspaper_uid": "eluniversal",
         "host": "de10.com.mx",
         "_deepnote_index_column": "2763d3ba4fc2359ac88e22168eecabf5"
        },
        {
         "body": " 0 % PULSO SOCIAL0 \r\n",
         "title": "nan",
         "url": "https://de10.com.mx/parejas/10-actrices-cuyos-bikinis-en-el-cine-marcaron-tendencia",
         "newspaper_uid": "eluniversal",
         "host": "de10.com.mx",
         "_deepnote_index_column": "87b3673c7208e12fa6ab67c4f1681d9b"
        },
        {
         "body": "\r\nDurante los últimos 12 días de mayo empresas del sector industrial en la entidad potosina se enfo…",
         "title": "240 plantas industriales retomaron actividades este lunes en San Luis Potosí",
         "url": "https://sanluis.eluniversal.com.mx/cartera/01-06-2020/240-plantas-industriales-retomaron-actividade…",
         "newspaper_uid": "eluniversal",
         "host": "sanluis.eluniversal.com.mx",
         "_deepnote_index_column": "f45590a05db0a9dad49074f4ed751bd9"
        },
        {
         "body": "\r\n\r\nTabasco suma 4 mil 609 casos confirmados y 562 fallecimientos por Covid-19 al 2 de junio.\r\n\r\nEn…",
         "title": "Casos de Covid-19 en Yucatán, Quintana Roo y Tabasco al 2 de junio",
         "url": "http://www.eluniversal.com.mx/estados/casos-de-covid-19-en-yucatan-quintana-roo-y-tabasco-al-2-de-j…",
         "newspaper_uid": "eluniversal",
         "host": "www.eluniversal.com.mx",
         "_deepnote_index_column": "fc26e3c43151d2b733810645306ff0c4"
        },
        {
         "body": "\r\nLa vida no ha sido fácil en estos últimos meses. Sin embargo, hay que continuar con el ritmo y ad…",
         "title": "Belinda enamora con su look deportivo para la Voz Azteca",
         "url": "http://www.eluniversal.com.mx/de-ultima/belinda-sorprende-con-look-deportivo-para-la-voz-azteca",
         "newspaper_uid": "eluniversal",
         "host": "www.eluniversal.com.mx",
         "_deepnote_index_column": "06ce47ee219217edec08bb687d647eba"
        },
        {
         "body": " 73 % PULSO SOCIAL22 En la cultura de la antigüedad, no había mejor castigo que la ley del Talión, …",
         "title": "nan",
         "url": "https://de10.com.mx/top-10/impactante-10-formas-antiguas-de-castigo-y-tortura",
         "newspaper_uid": "eluniversal",
         "host": "de10.com.mx",
         "_deepnote_index_column": "e57eefe7548a2a9b209247871f5ab3f3"
        },
        {
         "body": "\r\nEn las protestas desatadas en Estados Unidos en contra de la discriminación racial resaltó la ban…",
         "title": "nan",
         "url": "https://www.viveusa.mx/noticias/la-bandera-de-mexico-ondea-en-las-protestas-por-george-floyd",
         "newspaper_uid": "eluniversal",
         "host": "www.viveusa.mx",
         "_deepnote_index_column": "5be5f05690d89ad5d2167db4606cfead"
        },
        {
         "body": "\r\nJennifer Lopez y Kim Kardashian son de las celebridades más mediáticas en Estados Unidos. Ambas s…",
         "title": "nan",
         "url": "https://www.viveusa.mx/showbiz/las-fotos-ineditas-de-las-sesiones-de-jennifer-lopez-y-kim-kardashian",
         "newspaper_uid": "eluniversal",
         "host": "www.viveusa.mx",
         "_deepnote_index_column": "4f5863ab7deb08db52db6950111e8b37"
        },
        {
         "body": "\r\nTexto: Carlos Villasana y Ruth Gómez\r\nLa ciudad enfrenta una de las etapas más complejas de los ú…",
         "title": "Los mercados porfirianos de la capital",
         "url": "https://www.eluniversal.com.mx/opinion/mochilazo-en-el-tiempo/los-mercados-porfirianos-de-la-capital",
         "newspaper_uid": "eluniversal",
         "host": "www.eluniversal.com.mx",
         "_deepnote_index_column": "c84caebb106ac1713a83606932a257d2"
        },
        {
         "body": "\r\nEl contagio por el coronavirus es más elevado en las grandes áreas urbanas del país; sin embargo,…",
         "title": "Coneval: letalidad del Covid es alta en municipios pobres",
         "url": "http://www.eluniversal.com.mx/cartera/coneval-letalidad-del-covid-es-alta-en-municipios-pobres",
         "newspaper_uid": "eluniversal",
         "host": "www.eluniversal.com.mx",
         "_deepnote_index_column": "5fe67add59ffd6bca8405916e729e3f1"
        },
        {
         "body": "\r\nUn grupo internacional de arqueólogos descubrió en Tabasco la estructura ceremonial más antigua y…",
         "title": "Descubren estructura ceremonial maya más antigua hasta el momento",
         "url": "http://www.eluniversal.com.mx/cultura/arqueologos-descubren-el-monumento-maya-mas-antiguo-hasta-el-…",
         "newspaper_uid": "eluniversal",
         "host": "www.eluniversal.com.mx",
         "_deepnote_index_column": "7f6714acb5c8e2bb0ea7e53d6b8a1e54"
        },
        {
         "body": "\r\nOcho días consecutivos de marchas, vigilias, rezos, llamados a la reconciliación no han sido sufi…",
         "title": "Las protestas...",
         "url": "https://www.eluniversal.com.mx/opinion/gabriel-guerra/las-protestas",
         "newspaper_uid": "eluniversal",
         "host": "www.eluniversal.com.mx",
         "_deepnote_index_column": "110caa50b0aded5b6b56a5215266ea89"
        },
        {
         "body": "\r\n\r\nLa Secretaría de Salud del gobierno federal informó que al 2 de junio hay registro de 10 mil 63…",
         "title": "Casos de coronavirus en México, estado por estado al 2 de junio",
         "url": "http://www.eluniversal.com.mx/estados/casos-de-coronavirus-en-mexico-estado-por-estado-al-2-de-junio",
         "newspaper_uid": "eluniversal",
         "host": "www.eluniversal.com.mx",
         "_deepnote_index_column": "c0ee9fae7942d545a74a2e36be4a0888"
        },
        {
         "body": "\r\nLa válvula potosina desarrollada por investigadores en San Luis Potosí, devuelve la esperanza a p…",
         "title": "Con tecnología 3D, potosinos crean válvula para enfrentar el Covid-19",
         "url": "https://sanluis.eluniversal.com.mx/sociedad/26-05-2020/con-tecnologia-3d-potosinos-crean-valvula-pa…",
         "newspaper_uid": "eluniversal",
         "host": "sanluis.eluniversal.com.mx",
         "_deepnote_index_column": "8966ead10350f7a5357bc92c2a89ff6e"
        },
        {
         "body": " 0 % PULSO SOCIAL0 Imagina que un día tu pareja muere y en medio del duelo, te enteras de que lleva…",
         "title": "nan",
         "url": "https://de10.com.mx/top-10/julio-machado-nos-cuenta-los-secretos-de-la-serie-hard",
         "newspaper_uid": "eluniversal",
         "host": "de10.com.mx",
         "_deepnote_index_column": "aaa9c08b41e86b69afeaa1094fd44876"
        },
        {
         "body": "\r\nLa mayoría de los estados que pertenecen a la Megalópolis, Ciudad de México, Estado de México, Pu…",
         "title": "Van mandatarios del Centro por mismo semáforo para nueva normalidad",
         "url": "http://www.eluniversal.com.mx/metropoli/cdmx/piden-mandatarios-del-centro-un-mismo-semaforo-para-nu…",
         "newspaper_uid": "eluniversal",
         "host": "www.eluniversal.com.mx",
         "_deepnote_index_column": "f658f683aa897f732cb24c8340f20339"
        },
        {
         "body": "\r\nHace unos días, el propietario del Guadalajara, Amaury Vergara, puso sobre la mesa la necesidad d…",
         "title": "A transparentar el futbol mexicano",
         "url": "https://www.eluniversal.com.mx/opinion/gerardo-velazquez-de-leon/transparentar-el-futbol-mexicano",
         "newspaper_uid": "eluniversal",
         "host": "www.eluniversal.com.mx",
         "_deepnote_index_column": "87c6185fc628592d048087aca565caa0"
        },
        {
         "body": "\r\nEl Presidente Andrés Manuel López Obrador informó que encontraron el cuerpo de la legisladora de …",
         "title": "Hallan el cuerpo de la legisladora de Morena Francis Anel Bueno Sánchez",
         "url": "http://www.eluniversal.com.mx/nacion/politica/hallan-el-cuerpo-de-la-legisladora-de-morena-francis-…",
         "newspaper_uid": "eluniversal",
         "host": "www.eluniversal.com.mx",
         "_deepnote_index_column": "a30c4ea9241036476ae70b498bf66c38"
        },
        {
         "body": "\r\nLeer en español\r\nAn international group archeologists discovered in Tabasco the oldest and larges…",
         "title": "Major discovery of oldest and largest Maya structure in Mexico sheds light on the rise of the ancie…",
         "url": "https://www.eluniversal.com.mx/english/major-discovery-oldest-and-largest-maya-structure-mexico-she…",
         "newspaper_uid": "eluniversal",
         "host": "www.eluniversal.com.mx",
         "_deepnote_index_column": "2c07638968264c28cdb8af2f2a293462"
        },
        {
         "body": "\r\n\r\nLa clave fue la diferencia entre lo que transfirieron al extranjero y lo que reportaron en Méxi…",
         "title": "El directivo de Cruz Azul firmó 98 cheques para sí mismo",
         "url": "https://www.eluniversal.com.mx/opinion/carlos-loret-de-mola/el-directivo-de-cruz-azul-firmo-98-cheq…",
         "newspaper_uid": "eluniversal",
         "host": "www.eluniversal.com.mx",
         "_deepnote_index_column": "94c0ebbc9df2d66d2a4a6d2298e892ad"
        },
        {
         "body": "\r\nLos limones, sin duda, no pueden faltar en nuestro refrigerador, pues le dan ese toque especial a…",
         "title": "Cómo mantener los limones frescos hasta 1 mes",
         "url": "http://www.eluniversal.com.mx/menu/como-mantener-los-limones-frescos",
         "newspaper_uid": "eluniversal",
         "host": "www.eluniversal.com.mx",
         "_deepnote_index_column": "8e346f6e7298e03a7b18573fbc3c2afb"
        },
        {
         "body": "\r\nEl Universo de la WWE vivió una semana de nostalgia, ya que se anunció que Rey Mysterio, uno de l…",
         "title": "Retiro de Rey Mysterio, el ‘circo’ de la WWE para el debut de su hijo",
         "url": "http://www.eluniversal.com.mx/universal-deportes/mas-deportes/wwe-retiro-de-rey-mysterio-el-circo-p…",
         "newspaper_uid": "eluniversal",
         "host": "www.eluniversal.com.mx",
         "_deepnote_index_column": "e4daba7b2c0b875c1a75e0119e9b4683"
        },
        {
         "body": "\r\n\r\n\r\n\r\n    googletag.cmd.push(function() {\r\n      googletag.display(\"dfp-ad-top3_content\");\r\n    }…",
         "title": "La bella heredera tapatía del ‘Perro’ Bermúdez",
         "url": "http://www.unionjalisco.mx/articulo/2020/06/01/espectaculos/la-bella-heredera-tapatia-del-perro-ber…",
         "newspaper_uid": "eluniversal",
         "host": "www.unionjalisco.mx",
         "_deepnote_index_column": "8f354ccc785c9630599c170ef0ec78fc"
        },
        {
         "body": "\r\nA partir del sábado serán 30 las personas que podrán disfrutar del \"Guernica\" en el Museo Reina S…",
         "title": "Con oferta y dos Picassos nuevos, el Reina Sofía le pone \"buena cara\" a su reapertura",
         "url": "http://www.eluniversal.com.mx/cultura/artes-visuales/el-reina-sofia-expondra-dos-picassos-ineditos-…",
         "newspaper_uid": "eluniversal",
         "host": "www.eluniversal.com.mx",
         "_deepnote_index_column": "92a88b57ef235ee7aad1aff24b3d019b"
        },
        {
         "body": "\r\nGeorge Clooney ha incendiado las redes sociales tras publicar un artículo en el diario Daily Beas…",
         "title": "George Clooney: \"El racismo es la pandemia de EU\"",
         "url": "http://www.eluniversal.com.mx/espectaculos/farandula/george-clooney-el-racismo-es-la-pandemia-de-eu",
         "newspaper_uid": "eluniversal",
         "host": "www.eluniversal.com.mx",
         "_deepnote_index_column": "8460ff9c3ba47b149a9a2fb9b08deeb5"
        },
        {
         "body": "\r\n\"The Ickabog\", el nuevo libro para niños que la escritora británica JK Rowling ha publicado gratu…",
         "title": "El cuento gratis de J.K. Rowling ya está en español",
         "url": "http://www.eluniversal.com.mx/cultura/el-cuento-gratis-de-jk-rowling-ya-esta-en-espanol",
         "newspaper_uid": "eluniversal",
         "host": "www.eluniversal.com.mx",
         "_deepnote_index_column": "9d3aa20a40033da9cf203badc6db3c69"
        },
        {
         "body": "\r\nLa titular del SAT, Raquel Buenrostro, asegura que los pagos millonarios que han obtenido de gran…",
         "title": "No es terrorismo, los convencemos: Buenrostro",
         "url": "https://www.eluniversal.com.mx/opinion/salvador-garcia-soto/no-es-terrorismo-los-convencemos-buenro…",
         "newspaper_uid": "eluniversal",
         "host": "www.eluniversal.com.mx",
         "_deepnote_index_column": "492a5478c2a2196438a5972bb39924e4"
        },
        {
         "body": "\r\n\r\nLos funcionarios de alto rango del Instituto Nacional de Estadística y Geografía (Inegi) y de l…",
         "title": "En Inegi y Cofece ganarán más que AMLO",
         "url": "http://www.eluniversal.com.mx/nacion/en-inegi-y-cofece-ganaran-mas-que-amlo",
         "newspaper_uid": "eluniversal",
         "host": "www.eluniversal.com.mx",
         "_deepnote_index_column": "5e16ee1681a13cc4a7c74e75224b3085"
        },
        {
         "body": "\r\nCientíficos en todo el mundo estudian el proceso de infección que sufre una persona al entrar en …",
         "title": "El zinc sería clave para tratamiento de Covid-19",
         "url": "http://www.eluniversal.com.mx/ciencia-y-salud/el-zinc-seria-clave-para-un-tratamiento-contra-el-cov…",
         "newspaper_uid": "eluniversal",
         "host": "www.eluniversal.com.mx",
         "_deepnote_index_column": "357c14b8f08219f18d7d8ae504c20888"
        },
        {
         "body": "\r\nCuando el periodista Brian Krebs publicó en uno de los portales más leídos del mundo, The Daily M…",
         "title": "La mafia encontró el paraíso",
         "url": "https://www.eluniversal.com.mx/opinion/hector-de-mauleon/la-mafia-encontro-el-paraiso",
         "newspaper_uid": "eluniversal",
         "host": "www.eluniversal.com.mx",
         "_deepnote_index_column": "12dad999deb7f0a535b058c855ddf481"
        },
        {
         "body": "Una víctima más de la vanidad, y de los fraudulentos personajes que se hacen pasar como especialist…",
         "title": "nan",
         "url": "https://www.elgrafico.mx/espectaculos/la-modelo-jessica-cediel-se-somete-amputacion-de-gluteos-y-co…",
         "newspaper_uid": "eluniversal",
         "host": "www.elgrafico.mx",
         "_deepnote_index_column": "edc4eb8946fa3d5ab11a68185a69033d"
        },
        {
         "body": "\r\nLa 64 Legislatura del Congreso de Oaxaca aprobó aplazar el inicio del proceso electoral ordinario…",
         "title": "Por pandemia, Congreso de Oaxaca aplaza hasta diciembre inicio del proceso electoral intermedio ",
         "url": "https://oaxaca.eluniversal.com.mx/politica/02-06-2020/por-pandemia-congreso-de-oaxaca-aplaza-hasta-…",
         "newspaper_uid": "eluniversal",
         "host": "oaxaca.eluniversal.com.mx",
         "_deepnote_index_column": "464b47e360547108f5a084d053f3e60e"
        },
        {
         "body": "\r\nEl presidente Andrés Manuel López Obrador solicitó a los opositores a Tren Maya respetar la decis…",
         "title": "AMLO pide a opositores a Tren Maya respetar decisión del pueblo",
         "url": "http://www.eluniversal.com.mx/nacion/amlo-pide-opositores-tren-maya-respetar-decision-del-pueblo",
         "newspaper_uid": "eluniversal",
         "host": "www.eluniversal.com.mx",
         "_deepnote_index_column": "65fb9dd92a1018ed5dd784af75291f9b"
        },
        {
         "body": "\r\nTexto: Carlos Villasana y Ruth GómezFotos actuales: Aram Ponce Franco / Cortesía\r\nEl Centro Histó…",
         "title": "El centro de reunión de los caballeros porfirianos",
         "url": "https://www.eluniversal.com.mx/opinion/mochilazo-en-el-tiempo/el-centro-de-reunion-de-los-caballero…",
         "newspaper_uid": "eluniversal",
         "host": "www.eluniversal.com.mx",
         "_deepnote_index_column": "03fc164a43ab05f43041ec67db8d056e"
        },
        {
         "body": "\r\nMarsha P. Johnson was a pioneer, LGBTQ+ activist,  drag queen, and performer. She was a prominent…",
         "title": "Marsha P. Johnson: The black transgender woman who was key in the Stonewall uprising",
         "url": "http://www.eluniversal.com.mx/english/marsha-p-johnson-black-transgender-woman-who-was-key-stonewal…",
         "newspaper_uid": "eluniversal",
         "host": "www.eluniversal.com.mx",
         "_deepnote_index_column": "21d7d9bbea15b925d3a89d1588e863cb"
        },
        {
         "body": "\r\nVaya golpe el que propinó la senadora Lilly Téllez a Morena en el Senado, pues no conforme con sa…",
         "title": "El golpe de la agente Téllez",
         "url": "https://www.eluniversal.com.mx/nacion/bajo-reserva-expres-el-golpe-de-la-agente-tellez",
         "newspaper_uid": "eluniversal",
         "host": "www.eluniversal.com.mx",
         "_deepnote_index_column": "3d32180c742f69ed4ee23ef1489a65a1"
        },
        {
         "body": "\r\n\r\nJalisco tiene 2 mil 25 casos confirmados y 167 muertos por coronavirus, de acuerdo con el repor…",
         "title": "Coronavirus Jalisco: Casos confirmados de Covid-19 al 2 de junio",
         "url": "http://www.eluniversal.com.mx/estados/coronavirus-jalisco-casos-confirmados-de-covid-19-al-2-de-jun…",
         "newspaper_uid": "eluniversal",
         "host": "www.eluniversal.com.mx",
         "_deepnote_index_column": "7b2021ce27a29ff7d1a9a858baa499e2"
        },
        {
         "body": "\r\nLa identidad de Jesús Alfonso Escoboza, mejor conocido como La Parka, fue revelada por su hija me…",
         "title": "Revelan identidad de La Parka en Tik Tok",
         "url": "http://www.eluniversal.com.mx/universal-deportes/mas-deportes/la-parka-revelan-identidad-del-histor…",
         "newspaper_uid": "eluniversal",
         "host": "www.eluniversal.com.mx",
         "_deepnote_index_column": "1e75e37388393589dab0f0233b26512c"
        },
        {
         "body": "\r\n“Fueron días muy duros para mí y mi familia. Cuando acudí al hospital, la angustia me invadió ant…",
         "title": "“La angustia me invadió ante la posibilidad de haberme contagiado de coronavirus\"",
         "url": "https://sanluis.eluniversal.com.mx/sociedad/02-06-2020/la-angustia-me-invadio-ante-la-posibilidad-d…",
         "newspaper_uid": "eluniversal",
         "host": "sanluis.eluniversal.com.mx",
         "_deepnote_index_column": "9081e83bc22fc0df25eef160c203f5a0"
        },
        {
         "body": "\r\nEl 80% de los restaurantes queretanos tiene problemas para cubrir el pago de la renta de los inmu…",
         "title": "El 80% de los restaurantes no tiene para el pago de la renta",
         "url": "https://www.eluniversalqueretaro.mx/portada/sin-recursos-para-la-renta-80-de-los-restaurantes",
         "newspaper_uid": "eluniversal",
         "host": "www.eluniversalqueretaro.mx",
         "_deepnote_index_column": "46518b475d8aef5d7327802ac758f42b"
        },
        {
         "body": "\r\nLa firma surcoreana Hyundai publicó los primeros detalles de lo que será la nueva SUV Santa Fe. L…",
         "title": "Hyundai Santa Fe 2021 se presenta en Europa",
         "url": "http://www.eluniversal.com.mx/autopistas/hyundai-santa-fe-2021-se-presenta-con-diseno-diferente-y-n…",
         "newspaper_uid": "eluniversal",
         "host": "www.eluniversal.com.mx",
         "_deepnote_index_column": "a9c815d5faf19f79c49a4deb417a8d34"
        }
       ],
       "rows_bottom": null
      },
      "text/plain": "                                                                               body  \\\nuid                                                                                   \n5f60c7cdf92aacf7b90f2e7fae67366f  \\r\\n\\r\\n\\r\\n\\r\\n    googletag.cmd.push(functio...   \n864cc985e42c8d5a1c3015f964701b66  \\r\\nEl museo del antiguo campo nazi de la muer...   \n9715c9e2a3d4909a4a66f46451119b46  \\r\\nLa Suprema Corte de Justicia de la Nación ...   \n55c827efc8fa5e3c2d653e243b54d507  \\r\\nUn grupo de funcionarios descubrió mosquit...   \n5f044ba246c3103846520f57013bc972  \\r\\nEn 1980, Héctor Suárez y Leticia Perdigón ...   \n...                                                                             ...   \n7b2021ce27a29ff7d1a9a858baa499e2  \\r\\n\\r\\nJalisco tiene 2 mil 25 casos confirmad...   \n1e75e37388393589dab0f0233b26512c  \\r\\nLa identidad de Jesús Alfonso Escoboza, me...   \n9081e83bc22fc0df25eef160c203f5a0  \\r\\n“Fueron días muy duros para mí y mi famili...   \n46518b475d8aef5d7327802ac758f42b  \\r\\nEl 80% de los restaurantes queretanos tien...   \na9c815d5faf19f79c49a4deb417a8d34  \\r\\nLa firma surcoreana Hyundai publicó los pr...   \n\n                                                                              title  \\\nuid                                                                                   \n5f60c7cdf92aacf7b90f2e7fae67366f  Las influencers tapatías que hacen temblar a Y...   \n864cc985e42c8d5a1c3015f964701b66  El museo de Auschwitz pide ayuda para sobreviv...   \n9715c9e2a3d4909a4a66f46451119b46  Corte avala que funcionarios de Banxico, INE e...   \n55c827efc8fa5e3c2d653e243b54d507                                                NaN   \n5f044ba246c3103846520f57013bc972         Héctor Suárez, zurdo y loco hasta el final   \n...                                                                             ...   \n7b2021ce27a29ff7d1a9a858baa499e2  Coronavirus Jalisco: Casos confirmados de Covi...   \n1e75e37388393589dab0f0233b26512c           Revelan identidad de La Parka en Tik Tok   \n9081e83bc22fc0df25eef160c203f5a0  “La angustia me invadió ante la posibilidad de...   \n46518b475d8aef5d7327802ac758f42b  El 80% de los restaurantes no tiene para el pa...   \na9c815d5faf19f79c49a4deb417a8d34        Hyundai Santa Fe 2021 se presenta en Europa   \n\n                                                                                url  \\\nuid                                                                                   \n5f60c7cdf92aacf7b90f2e7fae67366f  http://www.unionjalisco.mx/articulo/2020/06/02...   \n864cc985e42c8d5a1c3015f964701b66  http://www.eluniversal.com.mx/cultura/patrimon...   \n9715c9e2a3d4909a4a66f46451119b46  http://www.eluniversal.com.mx/nacion/corte-ava...   \n55c827efc8fa5e3c2d653e243b54d507  https://www.viveusa.mx/noticias/mosquitos-con-...   \n5f044ba246c3103846520f57013bc972  https://www.eluniversalqueretaro.mx/portada/he...   \n...                                                                             ...   \n7b2021ce27a29ff7d1a9a858baa499e2  http://www.eluniversal.com.mx/estados/coronavi...   \n1e75e37388393589dab0f0233b26512c  http://www.eluniversal.com.mx/universal-deport...   \n9081e83bc22fc0df25eef160c203f5a0  https://sanluis.eluniversal.com.mx/sociedad/02...   \n46518b475d8aef5d7327802ac758f42b  https://www.eluniversalqueretaro.mx/portada/si...   \na9c815d5faf19f79c49a4deb417a8d34  http://www.eluniversal.com.mx/autopistas/hyund...   \n\n                                 newspaper_uid                         host  \nuid                                                                          \n5f60c7cdf92aacf7b90f2e7fae67366f   eluniversal          www.unionjalisco.mx  \n864cc985e42c8d5a1c3015f964701b66   eluniversal       www.eluniversal.com.mx  \n9715c9e2a3d4909a4a66f46451119b46   eluniversal       www.eluniversal.com.mx  \n55c827efc8fa5e3c2d653e243b54d507   eluniversal               www.viveusa.mx  \n5f044ba246c3103846520f57013bc972   eluniversal  www.eluniversalqueretaro.mx  \n...                                        ...                          ...  \n7b2021ce27a29ff7d1a9a858baa499e2   eluniversal       www.eluniversal.com.mx  \n1e75e37388393589dab0f0233b26512c   eluniversal       www.eluniversal.com.mx  \n9081e83bc22fc0df25eef160c203f5a0   eluniversal   sanluis.eluniversal.com.mx  \n46518b475d8aef5d7327802ac758f42b   eluniversal  www.eluniversalqueretaro.mx  \na9c815d5faf19f79c49a4deb417a8d34   eluniversal       www.eluniversal.com.mx  \n\n[138 rows x 5 columns]",
      "text/html": "<div>\n<style scoped>\n    .dataframe tbody tr th:only-of-type {\n        vertical-align: middle;\n    }\n\n    .dataframe tbody tr th {\n        vertical-align: top;\n    }\n\n    .dataframe thead th {\n        text-align: right;\n    }\n</style>\n<table border=\"1\" class=\"dataframe\">\n  <thead>\n    <tr style=\"text-align: right;\">\n      <th></th>\n      <th>body</th>\n      <th>title</th>\n      <th>url</th>\n      <th>newspaper_uid</th>\n      <th>host</th>\n    </tr>\n    <tr>\n      <th>uid</th>\n      <th></th>\n      <th></th>\n      <th></th>\n      <th></th>\n      <th></th>\n    </tr>\n  </thead>\n  <tbody>\n    <tr>\n      <th>5f60c7cdf92aacf7b90f2e7fae67366f</th>\n      <td>\\r\\n\\r\\n\\r\\n\\r\\n    googletag.cmd.push(functio...</td>\n      <td>Las influencers tapatías que hacen temblar a Y...</td>\n      <td>http://www.unionjalisco.mx/articulo/2020/06/02...</td>\n      <td>eluniversal</td>\n      <td>www.unionjalisco.mx</td>\n    </tr>\n    <tr>\n      <th>864cc985e42c8d5a1c3015f964701b66</th>\n      <td>\\r\\nEl museo del antiguo campo nazi de la muer...</td>\n      <td>El museo de Auschwitz pide ayuda para sobreviv...</td>\n      <td>http://www.eluniversal.com.mx/cultura/patrimon...</td>\n      <td>eluniversal</td>\n      <td>www.eluniversal.com.mx</td>\n    </tr>\n    <tr>\n      <th>9715c9e2a3d4909a4a66f46451119b46</th>\n      <td>\\r\\nLa Suprema Corte de Justicia de la Nación ...</td>\n      <td>Corte avala que funcionarios de Banxico, INE e...</td>\n      <td>http://www.eluniversal.com.mx/nacion/corte-ava...</td>\n      <td>eluniversal</td>\n      <td>www.eluniversal.com.mx</td>\n    </tr>\n    <tr>\n      <th>55c827efc8fa5e3c2d653e243b54d507</th>\n      <td>\\r\\nUn grupo de funcionarios descubrió mosquit...</td>\n      <td>NaN</td>\n      <td>https://www.viveusa.mx/noticias/mosquitos-con-...</td>\n      <td>eluniversal</td>\n      <td>www.viveusa.mx</td>\n    </tr>\n    <tr>\n      <th>5f044ba246c3103846520f57013bc972</th>\n      <td>\\r\\nEn 1980, Héctor Suárez y Leticia Perdigón ...</td>\n      <td>Héctor Suárez, zurdo y loco hasta el final</td>\n      <td>https://www.eluniversalqueretaro.mx/portada/he...</td>\n      <td>eluniversal</td>\n      <td>www.eluniversalqueretaro.mx</td>\n    </tr>\n    <tr>\n      <th>...</th>\n      <td>...</td>\n      <td>...</td>\n      <td>...</td>\n      <td>...</td>\n      <td>...</td>\n    </tr>\n    <tr>\n      <th>7b2021ce27a29ff7d1a9a858baa499e2</th>\n      <td>\\r\\n\\r\\nJalisco tiene 2 mil 25 casos confirmad...</td>\n      <td>Coronavirus Jalisco: Casos confirmados de Covi...</td>\n      <td>http://www.eluniversal.com.mx/estados/coronavi...</td>\n      <td>eluniversal</td>\n      <td>www.eluniversal.com.mx</td>\n    </tr>\n    <tr>\n      <th>1e75e37388393589dab0f0233b26512c</th>\n      <td>\\r\\nLa identidad de Jesús Alfonso Escoboza, me...</td>\n      <td>Revelan identidad de La Parka en Tik Tok</td>\n      <td>http://www.eluniversal.com.mx/universal-deport...</td>\n      <td>eluniversal</td>\n      <td>www.eluniversal.com.mx</td>\n    </tr>\n    <tr>\n      <th>9081e83bc22fc0df25eef160c203f5a0</th>\n      <td>\\r\\n“Fueron días muy duros para mí y mi famili...</td>\n      <td>“La angustia me invadió ante la posibilidad de...</td>\n      <td>https://sanluis.eluniversal.com.mx/sociedad/02...</td>\n      <td>eluniversal</td>\n      <td>sanluis.eluniversal.com.mx</td>\n    </tr>\n    <tr>\n      <th>46518b475d8aef5d7327802ac758f42b</th>\n      <td>\\r\\nEl 80% de los restaurantes queretanos tien...</td>\n      <td>El 80% de los restaurantes no tiene para el pa...</td>\n      <td>https://www.eluniversalqueretaro.mx/portada/si...</td>\n      <td>eluniversal</td>\n      <td>www.eluniversalqueretaro.mx</td>\n    </tr>\n    <tr>\n      <th>a9c815d5faf19f79c49a4deb417a8d34</th>\n      <td>\\r\\nLa firma surcoreana Hyundai publicó los pr...</td>\n      <td>Hyundai Santa Fe 2021 se presenta en Europa</td>\n      <td>http://www.eluniversal.com.mx/autopistas/hyund...</td>\n      <td>eluniversal</td>\n      <td>www.eluniversal.com.mx</td>\n    </tr>\n  </tbody>\n</table>\n<p>138 rows × 5 columns</p>\n</div>"
     },
     "metadata": {}
    }
   ]
  },
  {
   "cell_type": "markdown",
   "source": "### 5. Quitando los espacios en blanco",
   "metadata": {
    "tags": [],
    "cell_id": "00033-d671d4ff-5bb4-4a75-bf1d-f4cc657b0eb4",
    "deepnote_cell_type": "markdown"
   }
  },
  {
   "cell_type": "code",
   "metadata": {
    "tags": [],
    "cell_id": "00034-5ff49a4d-d5f3-4ece-b2e1-0a27723a7e63",
    "deepnote_to_be_reexecuted": false,
    "source_hash": "fcbb949b",
    "execution_start": 1630367541137,
    "execution_millis": 106,
    "deepnote_cell_type": "code"
   },
   "source": "stripped_body = (el_universal\n                     .apply(lambda row: row['body'], axis=1)\n                     .apply(lambda body: list(body))\n                     .apply(lambda letters: list(map(lambda letter: letter.replace('\\n', ' '), letters)))\n                     .apply(lambda letters: list(map(lambda letter: letter.replace('\\r', ' '), letters)))\n                     .apply(lambda letters: ''.join(letters))\n                )\nstripped_body",
   "execution_count": 17,
   "outputs": [
    {
     "output_type": "execute_result",
     "execution_count": 17,
     "data": {
      "text/plain": "uid\n5f60c7cdf92aacf7b90f2e7fae67366f                googletag.cmd.push(function() {   ...\n864cc985e42c8d5a1c3015f964701b66      El museo del antiguo campo nazi de la muerte...\n9715c9e2a3d4909a4a66f46451119b46      La Suprema Corte de Justicia de la Nación (S...\n55c827efc8fa5e3c2d653e243b54d507      Un grupo de funcionarios descubrió mosquitos...\n5f044ba246c3103846520f57013bc972      En 1980, Héctor Suárez y Leticia Perdigón nu...\n                                                          ...                        \n7b2021ce27a29ff7d1a9a858baa499e2        Jalisco tiene 2 mil 25 casos confirmados y...\n1e75e37388393589dab0f0233b26512c      La identidad de Jesús Alfonso Escoboza, mejo...\n9081e83bc22fc0df25eef160c203f5a0      “Fueron días muy duros para mí y mi familia....\n46518b475d8aef5d7327802ac758f42b      El 80% de los restaurantes queretanos tiene ...\na9c815d5faf19f79c49a4deb417a8d34      La firma surcoreana Hyundai publicó los prim...\nLength: 138, dtype: object"
     },
     "metadata": {}
    }
   ]
  },
  {
   "cell_type": "markdown",
   "source": "## Data enrichment",
   "metadata": {
    "tags": [],
    "cell_id": "00035-7db69955-936a-4077-be55-d0b2fea9fa8e",
    "deepnote_cell_type": "markdown"
   }
  },
  {
   "cell_type": "markdown",
   "source": "### 6. Tokenizar el titulo y el body",
   "metadata": {
    "tags": [],
    "cell_id": "00036-8135eaae-2ba1-4ca0-8440-943f84c2790f",
    "deepnote_cell_type": "markdown"
   }
  },
  {
   "cell_type": "code",
   "metadata": {
    "tags": [],
    "cell_id": "00035-7d0284e0-1d59-44e0-96f8-fa1fd48988cc",
    "deepnote_to_be_reexecuted": false,
    "source_hash": "c40bad0b",
    "execution_start": 1630367541245,
    "execution_millis": 2725,
    "deepnote_cell_type": "code"
   },
   "source": "import nltk\nfrom nltk.corpus import stopwords\n# Instalar paquetes que son necesarios\nnltk.download('punkt')\nnltk.download('stopwords')\n\nstop_words = set(stopwords.words('spanish'))\n\ndef tokenize_column(df, column_name):\n    return (df\n               .dropna()\n               .apply(lambda row: nltk.word_tokenize(row[column_name]), axis=1)\n               .apply(lambda tokens: list(filter(lambda token: token.isalpha(), tokens)))\n               .apply(lambda tokens: list(map(lambda token: token.lower(), tokens)))\n               .apply(lambda word_list: list(filter(lambda word: word not in stop_words, word_list)))\n               .apply(lambda valid_word_list: len(valid_word_list))\n           )\n\nel_universal['n_tokens_title'] = tokenize_column(el_universal, 'title')\nel_universal['n_tokens_body'] = tokenize_column(el_universal, 'body')\n\nel_universal",
   "execution_count": 18,
   "outputs": [
    {
     "name": "stderr",
     "text": "[nltk_data] Downloading package punkt to /root/nltk_data...\n[nltk_data]   Package punkt is already up-to-date!\n[nltk_data] Downloading package stopwords to /root/nltk_data...\n[nltk_data]   Package stopwords is already up-to-date!\n",
     "output_type": "stream"
    },
    {
     "output_type": "execute_result",
     "execution_count": 18,
     "data": {
      "application/vnd.deepnote.dataframe.v2+json": {
       "row_count": 138,
       "column_count": 7,
       "columns": [
        {
         "name": "body",
         "dtype": "object",
         "stats": {
          "unique_count": 138,
          "nan_count": 0,
          "categories": [
           {
            "name": "\r\n\r\n\r\n\r\n    googletag.cmd.push(function() {\r\n      googletag.display(\"dfp-ad-top3_content\");\r\n    });\r\n  \r\n\r\n\r\nYanet García se consolidó como una de las consentidas en redes sociales por su labor en la pantalla chica, contrario a estas bellezas tapatías que primero saltaron del Instagram para retar a la famosa chica del clima regiomontana.\r\nSus millones de seguidores presumen que la influencer Yuliett Torres pose mejores curvas que la ex conductora de Hoy y de no ser por estar bloqueada por famosas de la farándula nacional la modelo ya estaría en programas de altos niveles de audiencia.\r\nParece que muy a pesar de Yanet, Yuliett se está abriendo camino en el espectáculo mexicano con intervenciones en videoclips de gruperos y por los patrocinadores que pagan jugosas sumas para ser su imagen.\r\nOtro factor a considerar son los videos subidos de tono que publica en sus redes sociales y que con el tiempo le permite aparecer como portadas en medios nacionales e incluso internacionales.\r\nMary Baltazar, modelo de Instagram con más de 2.8 millones de fans, es sin duda una tapatía que pone a temblar a Yanet García. \r\nAlgunas personas sostienen que la anatomía de la influencer es más natural y por ello debería de ser elegida como la más guapa.\r\nIncluso refieren que las fotos de Mary despiertan la envida de la regiomontana por que siempre luce espectacular y casi no se le hacen retoques.\r\nLa tapatía logró saltar de la comunidad virtual a las pasarelas, donde se mantiene como una de las modelos más solicitadas por anunciantes de nuestro país.\r\nEn las últimas semanas otra que se sumó a la disputa de la corona por la influencer con mejor retaguardia fue Dafne Cosío, ‘La Barbie tapatía’, quien gracias a sus consejos pudo colaborar con el autor de la canción ‘Tusa’.\r\nLa bella escribió el tema ”Requisito\" junto con con Keytin, autor del sonado tema de Karol G y Nicky Minaj.\r\nDafne comenzó a tocar el piano, estudiar solfeo, y durante 12 años se ha preparado para darlo todo en el mundo de la música; así como es bailarina de ballet y tahitiano.\r\nVER: \r\nJugadora de Chivas pone a temblar aYanet  García\r\n",
            "count": 1
           },
           {
            "name": "\r\nEl museo del antiguo campo nazi de la muerte Auschwitz-Birkenau, cerrado desde mediados de marzo por la pandemia de coronavirus, pidió el miércoles ayuda financiera.\r\nEn 2020 se celebró el 75 aniversario de la liberación de Auschwitz-Birkenau, convertido en símbolo de todos los campos de exterminio donde murieron cerca de la mitad de los 6 millones de judíos asesinados durante el Holocausto, así como centenares de miles de personas de otros orígenes.\r\n \r\n\r\n\r\n\r\n \r\n\r\n\r\n \r\n\r\n \r\n\r\n\r\n\r\n \r\n\r\n\r\n\r\n\r\nView this post on Instagram\r\n\r\n\r\n \r\n\r\n\r\n\r\n \r\n\r\n \r\n\r\n \r\n\r\n\r\n\r\n \r\n\r\n \r\n\r\n\r\n\r\n \r\n\r\n \r\n\r\n \r\n\r\n\r\n\r\nThe history of Auschwitz is actually 1,300,000 individual stories of individuals deported. . . --- Photo by @robertofranchiniphoto --- . . #Auschwitz #Birkenau #AuschwitzMemorial #Nazi #Germany #concentrationcamp #extermination #genocide #history #Holocaust #Shoah #Jews #Poles #Roma #people #life #death #humanity #humiliation #dehumanization #remembrance #commemoration #memory #museum #Poland #igerspoland #UNESCO #worldheritage #worldHeritagelist @unesco #photography\r\n\r\nA post shared by  Auschwitz Memorial and Museum (@auschwitzmemorial) on Feb 2, 2020 at 11:10pm PST\r\n\r\n\r\n\r\n\"Pedimos ayuda financiera por parte de todos los que consideran necesario preservar la memoria\", se lee en un comunicado publicado en la web del museo.\r\n\"El presupuesto de 2020 se hundió\", dice el texto, pese al \"apoyo particular\" del ministerio polaco de la Cultura y la Fundación Internacional Auschwitz-Birkenau que permite mantener el empleo y continuar las obras de mantenimiento de los vestigios de este antiguo campo de la muerte.\r\nSin embargo el museo no tiene fondos para sus actividades educativas, editoriales y para sus exposiciones.\r\nEl memorial de Auschwitz-Birkenau está cerrado desde el 12 de marzo y no podrá abrir hasta principios de julio según su web.\r\nfjb\r\n",
            "count": 1
           },
           {
            "name": "136 others",
            "count": 136
           }
          ]
         }
        },
        {
         "name": "title",
         "dtype": "object",
         "stats": {
          "unique_count": 110,
          "nan_count": 28,
          "categories": [
           {
            "name": "Las influencers tapatías que hacen temblar a Yanet García",
            "count": 1
           },
           {
            "name": "109 others",
            "count": 109
           },
           {
            "name": "Missing",
            "count": 28
           }
          ]
         }
        },
        {
         "name": "url",
         "dtype": "object",
         "stats": {
          "unique_count": 138,
          "nan_count": 0,
          "categories": [
           {
            "name": "http://www.unionjalisco.mx/articulo/2020/06/02/espectaculos/las-influencers-tapatias-que-hacen-temblar-yanet-garcia",
            "count": 1
           },
           {
            "name": "http://www.eluniversal.com.mx/cultura/patrimonio/coronavirus-el-museo-de-auschwitz-pide-ayuda-para-sobrevivir-la-pandemia",
            "count": 1
           },
           {
            "name": "136 others",
            "count": 136
           }
          ]
         }
        },
        {
         "name": "newspaper_uid",
         "dtype": "object",
         "stats": {
          "unique_count": 1,
          "nan_count": 0,
          "categories": [
           {
            "name": "eluniversal",
            "count": 138
           }
          ]
         }
        },
        {
         "name": "host",
         "dtype": "object",
         "stats": {
          "unique_count": 14,
          "nan_count": 0,
          "categories": [
           {
            "name": "www.eluniversal.com.mx",
            "count": 79
           },
           {
            "name": "www.viveusa.mx",
            "count": 14
           },
           {
            "name": "12 others",
            "count": 45
           }
          ]
         }
        },
        {
         "name": "n_tokens_title",
         "dtype": "float64",
         "stats": {
          "unique_count": 13,
          "nan_count": 28,
          "min": "1.0",
          "max": "19.0",
          "histogram": [
           {
            "bin_start": 1,
            "bin_end": 2.8,
            "count": 5
           },
           {
            "bin_start": 2.8,
            "bin_end": 4.6,
            "count": 21
           },
           {
            "bin_start": 4.6,
            "bin_end": 6.4,
            "count": 45
           },
           {
            "bin_start": 6.4,
            "bin_end": 8.2,
            "count": 31
           },
           {
            "bin_start": 8.2,
            "bin_end": 10,
            "count": 2
           },
           {
            "bin_start": 10,
            "bin_end": 11.8,
            "count": 4
           },
           {
            "bin_start": 11.8,
            "bin_end": 13.6,
            "count": 1
           },
           {
            "bin_start": 13.6,
            "bin_end": 15.4,
            "count": 0
           },
           {
            "bin_start": 15.4,
            "bin_end": 17.2,
            "count": 0
           },
           {
            "bin_start": 17.2,
            "bin_end": 19,
            "count": 1
           }
          ]
         }
        },
        {
         "name": "n_tokens_body",
         "dtype": "float64",
         "stats": {
          "unique_count": 98,
          "nan_count": 28,
          "min": "50.0",
          "max": "1671.0",
          "histogram": [
           {
            "bin_start": 50,
            "bin_end": 212.1,
            "count": 47
           },
           {
            "bin_start": 212.1,
            "bin_end": 374.2,
            "count": 40
           },
           {
            "bin_start": 374.2,
            "bin_end": 536.3,
            "count": 10
           },
           {
            "bin_start": 536.3,
            "bin_end": 698.4,
            "count": 2
           },
           {
            "bin_start": 698.4,
            "bin_end": 860.5,
            "count": 2
           },
           {
            "bin_start": 860.5,
            "bin_end": 1022.5999999999999,
            "count": 2
           },
           {
            "bin_start": 1022.5999999999999,
            "bin_end": 1184.7,
            "count": 4
           },
           {
            "bin_start": 1184.7,
            "bin_end": 1346.8,
            "count": 2
           },
           {
            "bin_start": 1346.8,
            "bin_end": 1508.8999999999999,
            "count": 0
           },
           {
            "bin_start": 1508.8999999999999,
            "bin_end": 1671,
            "count": 1
           }
          ]
         }
        },
        {
         "name": "_deepnote_index_column",
         "dtype": "object"
        }
       ],
       "rows_top": [
        {
         "body": "\r\n\r\n\r\n\r\n    googletag.cmd.push(function() {\r\n      googletag.display(\"dfp-ad-top3_content\");\r\n    }…",
         "title": "Las influencers tapatías que hacen temblar a Yanet García",
         "url": "http://www.unionjalisco.mx/articulo/2020/06/02/espectaculos/las-influencers-tapatias-que-hacen-temb…",
         "newspaper_uid": "eluniversal",
         "host": "www.unionjalisco.mx",
         "n_tokens_title": 6,
         "n_tokens_body": 176,
         "_deepnote_index_column": "5f60c7cdf92aacf7b90f2e7fae67366f"
        },
        {
         "body": "\r\nEl museo del antiguo campo nazi de la muerte Auschwitz-Birkenau, cerrado desde mediados de marzo …",
         "title": "El museo de Auschwitz pide ayuda para sobrevivir la pandemia",
         "url": "http://www.eluniversal.com.mx/cultura/patrimonio/coronavirus-el-museo-de-auschwitz-pide-ayuda-para-…",
         "newspaper_uid": "eluniversal",
         "host": "www.eluniversal.com.mx",
         "n_tokens_title": 6,
         "n_tokens_body": 147,
         "_deepnote_index_column": "864cc985e42c8d5a1c3015f964701b66"
        },
        {
         "body": "\r\nLa Suprema Corte de Justicia de la Nación (SCJN) avaló que funcionarios del Banco de México (Banx…",
         "title": "Corte avala que funcionarios de Banxico, INE e IFT ganen más que AMLO",
         "url": "http://www.eluniversal.com.mx/nacion/corte-avala-que-funcionarios-de-banxico-ine-e-ift-ganen-mas-qu…",
         "newspaper_uid": "eluniversal",
         "host": "www.eluniversal.com.mx",
         "n_tokens_title": 8,
         "n_tokens_body": 112,
         "_deepnote_index_column": "9715c9e2a3d4909a4a66f46451119b46"
        },
        {
         "body": "\r\nUn grupo de funcionarios descubrió mosquitos infectados con el virus del Nilo Occidental al sur d…",
         "title": "nan",
         "url": "https://www.viveusa.mx/noticias/mosquitos-con-el-virus-del-nilo-occidental-llegan-california",
         "newspaper_uid": "eluniversal",
         "host": "www.viveusa.mx",
         "n_tokens_title": "nan",
         "n_tokens_body": "nan",
         "_deepnote_index_column": "55c827efc8fa5e3c2d653e243b54d507"
        },
        {
         "body": "\r\nEn 1980, Héctor Suárez y Leticia Perdigón nunca se llamaron por su nombre. Los dos formaban parte…",
         "title": "Héctor Suárez, zurdo y loco hasta el final",
         "url": "https://www.eluniversalqueretaro.mx/portada/hector-suarez-zurdo-y-loco-hasta-el-final-zurdo-y-loco-…",
         "newspaper_uid": "eluniversal",
         "host": "www.eluniversalqueretaro.mx",
         "n_tokens_title": 5,
         "n_tokens_body": 115,
         "_deepnote_index_column": "5f044ba246c3103846520f57013bc972"
        },
        {
         "body": "\r\nEl fiscal general Keith Ellison planea elevar los cargos contra Derek Chauvin, el expolicía de Mi…",
         "title": "Fiscal acusará de homicidio en segundo grado a Derek Chauvin; implicará a tres policías más",
         "url": "http://www.eluniversal.com.mx/mundo/george-floyd-fiscal-acusara-de-homicidio-en-segundo-grado-derek…",
         "newspaper_uid": "eluniversal",
         "host": "www.eluniversal.com.mx",
         "n_tokens_title": 10,
         "n_tokens_body": 89,
         "_deepnote_index_column": "fa3dd79e5d37aaf14b413e3622e6c969"
        },
        {
         "body": "\r\n\r\n\r\n\r\n    googletag.cmd.push(function() {\r\n      googletag.display(\"dfp-ad-top3_content\");\r\n    }…",
         "title": "Citas para verificar Edomex 2020: Entérate ",
         "url": "http://www.unionedomex.mx/articulo/2020/06/02/gente/citas-para-verificar-edomex-2020-enterate",
         "newspaper_uid": "eluniversal",
         "host": "www.unionedomex.mx",
         "n_tokens_title": 4,
         "n_tokens_body": 265,
         "_deepnote_index_column": "9f400463f8000642d8078994d25cfb90"
        },
        {
         "body": "\r\n\r\n\r\n\r\n    googletag.cmd.push(function() {\r\n      googletag.display(\"dfp-ad-top3_content\");\r\n    }…",
         "title": "Cómo consigo una de Beca Benito Juárez de primaria y secundaria",
         "url": "http://www.unionpuebla.mx/articulo/2020/05/26/educacion/como-consigo-una-de-beca-benito-juarez-de-p…",
         "newspaper_uid": "eluniversal",
         "host": "www.unionpuebla.mx",
         "n_tokens_title": 7,
         "n_tokens_body": 280,
         "_deepnote_index_column": "602fe4651de5d33fa8b8a896179d2805"
        },
        {
         "body": "\r\n\r\n\r\n\r\n    googletag.cmd.push(function() {\r\n      googletag.display(\"dfp-ad-top3_content\");\r\n    }…",
         "title": "Belinda, edad, estatura y otros datos de la coach de La Voz",
         "url": "http://www.unionyucatan.mx/articulo/2020/06/02/espectaculos/belinda-edad-estatura-y-otros-datos-de-…",
         "newspaper_uid": "eluniversal",
         "host": "www.unionyucatan.mx",
         "n_tokens_title": 6,
         "n_tokens_body": 223,
         "_deepnote_index_column": "c6da8f2421c9dbfc6c60f097fd7109f1"
        },
        {
         "body": "Temascaltepec.— Sicarios descargaron más de cien tiros contra un custodio, tras ser emboscado a la …",
         "title": "nan",
         "url": "https://www.elgrafico.mx/la-roja/custodio-de-penal-en-edomex-termina-mas-que-muerto-luego-de-mas-de…",
         "newspaper_uid": "eluniversal",
         "host": "www.elgrafico.mx",
         "n_tokens_title": "nan",
         "n_tokens_body": "nan",
         "_deepnote_index_column": "2c60884ade2a4c6195eb21262b3b3909"
        },
        {
         "body": "\r\nGianna tiene seis años. No sabe cómo murió su padre, George Floyd. Sólo sabe que lo extraña y que…",
         "title": "“Extraño a mi papi. Él cambió el mundo”, dice la hija de George Floyd",
         "url": "http://www.eluniversal.com.mx/mundo/extrano-mi-papi-el-cambio-el-mundo-dice-la-hija-de-george-floyd",
         "newspaper_uid": "eluniversal",
         "host": "www.eluniversal.com.mx",
         "n_tokens_title": 8,
         "n_tokens_body": 211,
         "_deepnote_index_column": "f94954f8f9e9f72db8d6fdaeaea26874"
        },
        {
         "body": "\r\nLa Secretaría de Energía (Sener), a través de PTI Infraestructura de Desarrollo, adjudicó los 7 p…",
         "title": "Sener adjudica los contratos para almacenamiento de la nueva refinería de Dos Bocas",
         "url": "http://www.eluniversal.com.mx/cartera/sener-adjudica-los-contratos-para-almacenamiento-de-la-nueva-…",
         "newspaper_uid": "eluniversal",
         "host": "www.eluniversal.com.mx",
         "n_tokens_title": 8,
         "n_tokens_body": 225,
         "_deepnote_index_column": "32e8af4beb036237ff3025874a528e35"
        },
        {
         "body": "\r\nCampeche, Después de que ayer el subsecretario de Salud, Hugo López-Gatell, admitiera ante los go…",
         "title": "No nos confiemos, pide AMLO; es una pandemia muy dañina",
         "url": "http://www.eluniversal.com.mx/nacion/no-nos-confiemos-pide-amlo-es-una-pandemia-muy-danina",
         "newspaper_uid": "eluniversal",
         "host": "www.eluniversal.com.mx",
         "n_tokens_title": 5,
         "n_tokens_body": 215,
         "_deepnote_index_column": "b8d879c291874461795945cab55433ad"
        },
        {
         "body": "\r\nQuito.- El expresidente ecuatoriano Abdalá Bucaram fue detenido el miércoles en su domicilio dura…",
         "title": "Detienen en Guayaquil a expresidente de Ecuador, acusado de corrupción",
         "url": "http://www.eluniversal.com.mx/mundo/detienen-en-guayaquil-expresidente-de-ecuador-acusado-de-corrup…",
         "newspaper_uid": "eluniversal",
         "host": "www.eluniversal.com.mx",
         "n_tokens_title": 6,
         "n_tokens_body": 217,
         "_deepnote_index_column": "114e0d90bf5104bcf4d517c1d8b3e942"
        },
        {
         "body": "\r\n-Doctor, ¿ya está domada la pandemia?- se le pregunta al subsecretario de Salud y vocero del gobi…",
         "title": "Pandemia no está domada en México: López-Gatell",
         "url": "http://www.eluniversal.com.mx/nacion/pandemia-no-esta-domada-en-mexico-lopez-gatell",
         "newspaper_uid": "eluniversal",
         "host": "www.eluniversal.com.mx",
         "n_tokens_title": 3,
         "n_tokens_body": 1671,
         "_deepnote_index_column": "aeef6fe0a32712466b7f09a2128bdbe7"
        },
        {
         "body": "\r\nEn medio de la pandemia de Covid-19 y con todas las agencias automotrices cerradas, en mayo, la v…",
         "title": "Venta de autos en mayo, mejor que en abril: AMDA",
         "url": "http://www.eluniversal.com.mx/cartera/venta-de-autos-en-mayo-mejor-que-en-abril-amda",
         "newspaper_uid": "eluniversal",
         "host": "www.eluniversal.com.mx",
         "n_tokens_title": 6,
         "n_tokens_body": 181,
         "_deepnote_index_column": "fd5521e36700f2f1d7c7e77bf428a797"
        },
        {
         "body": " 0 % PULSO SOCIAL0 El 2020 ya inició y en esta nueva década es común que comencemos a preguntarnos …",
         "title": "nan",
         "url": "https://de10.com.mx/top-10/10-terribles-profecias-de-nostradamus-para-el-2020",
         "newspaper_uid": "eluniversal",
         "host": "de10.com.mx",
         "n_tokens_title": "nan",
         "n_tokens_body": "nan",
         "_deepnote_index_column": "7bbb588ada4605f825b0bb2e20a89812"
        },
        {
         "body": "\r\n\r\n\r\n\r\n    googletag.cmd.push(function() {\r\n      googletag.display(\"dfp-ad-top3_content\");\r\n    }…",
         "title": "Admisión BUAP 2020: Examen de admisión se pospone",
         "url": "http://www.unionpuebla.mx/articulo/2020/06/01/educacion/admision-buap-2020-examen-de-admision-se-po…",
         "newspaper_uid": "eluniversal",
         "host": "www.unionpuebla.mx",
         "n_tokens_title": 5,
         "n_tokens_body": 257,
         "_deepnote_index_column": "c0ba63c4f19b6e340080bdb19328e29d"
        },
        {
         "body": "\r\nJuchitán de Zaragoza.— La cortina de acero  está  arriba hasta la mitad en  la entrada a la tiend…",
         "title": "Juchitán regresa a \"nueva normalidad\" pese a riesgo de contagios por Covid-19",
         "url": "https://oaxaca.eluniversal.com.mx/municipios/02-06-2020/juchitan-regresa-nueva-normalidad-pese-ries…",
         "newspaper_uid": "eluniversal",
         "host": "oaxaca.eluniversal.com.mx",
         "n_tokens_title": 7,
         "n_tokens_body": 271,
         "_deepnote_index_column": "9317ef5c7a4b48730525875c33276bea"
        },
        {
         "body": "\r\nEste martes estrenó \"La Voz Azteca\" con Belinda, Christian Nodal, María José y Ricardo Montaner c…",
         "title": "Sin público y sin cubrebocas arranca \"La Voz Azteca\"",
         "url": "http://www.eluniversal.com.mx/espectaculos/la-voz-azteca-sin-publico-y-sin-cubrebocas",
         "newspaper_uid": "eluniversal",
         "host": "www.eluniversal.com.mx",
         "n_tokens_title": 5,
         "n_tokens_body": 169,
         "_deepnote_index_column": "34862c4f4443a9cdf8a2ae1549afb3e7"
        },
        {
         "body": "\r\nTexto: Yessica Torres\r\nRodeado de mar y por su ubicación geográfica es común que en el territorio…",
         "title": "El plan de emergencia que surgió por el desbordamiento de un río",
         "url": "https://www.eluniversal.com.mx/opinion/mochilazo-en-el-tiempo/el-plan-de-emergencia-que-surgio-por-…",
         "newspaper_uid": "eluniversal",
         "host": "www.eluniversal.com.mx",
         "n_tokens_title": 5,
         "n_tokens_body": 1072,
         "_deepnote_index_column": "eaa4eff5c9856ea01825f22effe32584"
        },
        {
         "body": "\r\nDisney Springs en Orlando, Florida reabrió el pasado 20 de mayo luego de permanecer cerrado como …",
         "title": "nan",
         "url": "https://www.viveusa.mx/destinos/10-fotos-que-muestran-como-es-visitar-disney-springs-durante-la-pan…",
         "newspaper_uid": "eluniversal",
         "host": "www.viveusa.mx",
         "n_tokens_title": "nan",
         "n_tokens_body": "nan",
         "_deepnote_index_column": "510327c5277fecdc3e0992bae9f7dce9"
        },
        {
         "body": "\r\n\r\nLeón.— La industria del calzado reiniciará sus actividades de producción, a partir de este 1 de…",
         "title": "Industria del calzado de León reanudará actividades con 30% de capacidad",
         "url": "http://www.eluniversal.com.mx/estados/industria-del-calzado-de-leon-reanudara-actividades-con-30-de…",
         "newspaper_uid": "eluniversal",
         "host": "www.eluniversal.com.mx",
         "n_tokens_title": 6,
         "n_tokens_body": 209,
         "_deepnote_index_column": "7327a70ea7d5a2c8e7b72c1ec2f97685"
        },
        {
         "body": "\r\nA través de redes sociales, la senadora Lilly Téllez anunció que deja la bancada de Morena “por d…",
         "title": "Lilly Téllez deja bancada de Morena en el Senado “por diferencias de criterio”",
         "url": "http://www.eluniversal.com.mx/nacion/lilly-tellez-deja-bancada-de-morena-por-diferencias-de-criterio",
         "newspaper_uid": "eluniversal",
         "host": "www.eluniversal.com.mx",
         "n_tokens_title": 8,
         "n_tokens_body": 202,
         "_deepnote_index_column": "31cbba260d2bb712adc127a8adb73ed4"
        },
        {
         "body": "\r\nJuchitán de Zaragoza. - Un niño de 4 años murió la noche del sábado debido a las graves heridas q…",
         "title": "Perro Pitbull ataca y mata a niño de 4 años en Tehuantepec ",
         "url": "https://oaxaca.eluniversal.com.mx/municipios/01-06-2020/perro-pitbull-ataca-y-mata-nino-de-4-anos-e…",
         "newspaper_uid": "eluniversal",
         "host": "oaxaca.eluniversal.com.mx",
         "n_tokens_title": 7,
         "n_tokens_body": 103,
         "_deepnote_index_column": "b59eeaf872cc1fb676dd63f90244ec9a"
        },
        {
         "body": "\r\nTexto: Carlos Villasana y Ruth Gómez.\r\nHabitar y transitar por la Ciudad de México sin música par…",
         "title": "Cuando las canciones se aprendían con Notitas Musicales",
         "url": "https://www.eluniversal.com.mx/opinion/mochilazo-en-el-tiempo/cuando-las-canciones-se-aprendian-con…",
         "newspaper_uid": "eluniversal",
         "host": "www.eluniversal.com.mx",
         "n_tokens_title": 4,
         "n_tokens_body": 559,
         "_deepnote_index_column": "87f814362d045d892468d90c875762a8"
        },
        {
         "body": "\r\n\r\n\r\n\r\n    googletag.cmd.push(function() {\r\n      googletag.display(\"dfp-ad-top3_content\");\r\n    }…",
         "title": "María José, edad, estatura y más de la coach de La Voz México",
         "url": "http://www.unionyucatan.mx/articulo/2020/06/02/espectaculos/maria-jose-edad-estatura-y-mas-de-la-co…",
         "newspaper_uid": "eluniversal",
         "host": "www.unionyucatan.mx",
         "n_tokens_title": 7,
         "n_tokens_body": 270,
         "_deepnote_index_column": "45314df8192b4e55b7896dcdd58990a5"
        },
        {
         "body": "\r\nEl ayuntamiento de Soledad informó que a partir del 1 de junio iniciará la reactivación escalonad…",
         "title": "Este lunes inicia reapertura escalonada de comercios en Soledad",
         "url": "https://sanluis.eluniversal.com.mx/municipios/29-05-2020/este-lunes-inicia-reapertura-escalonada-de…",
         "newspaper_uid": "eluniversal",
         "host": "sanluis.eluniversal.com.mx",
         "n_tokens_title": 6,
         "n_tokens_body": 125,
         "_deepnote_index_column": "d323d9f17cecc7474ca05a6484f10107"
        },
        {
         "body": "\r\nEn la última fotografía de las tres generaciones Suárez, Héctor aparece sonriendo dentro de una …",
         "title": "Suárez Gomís comparte última foto con Héctor Suárez y su hijo ",
         "url": "http://www.eluniversal.com.mx/espectaculos/suarez-gomis-comparte-ultima-foto-con-hector-suarez-y-su…",
         "newspaper_uid": "eluniversal",
         "host": "www.eluniversal.com.mx",
         "n_tokens_title": 6,
         "n_tokens_body": 249,
         "_deepnote_index_column": "56b9a4af5baccc38b6fbf3bf99f8ee39"
        },
        {
         "body": " 0 % PULSO SOCIAL0 Hoy en día los filtros y herramientas en redes sociales pueden darles a todos un…",
         "title": "nan",
         "url": "https://de10.com.mx/cultura-digital/insolito-influencers-muestran-su-vida-sin-filtros-ni-retoques",
         "newspaper_uid": "eluniversal",
         "host": "de10.com.mx",
         "n_tokens_title": "nan",
         "n_tokens_body": "nan",
         "_deepnote_index_column": "f99ec3be2df79c8444bf06ef462d8aea"
        },
        {
         "body": "\r\nRodolfo Pizarro fue honesto en una charla extensa con Oswaldo Alanís, excompañero suyo en las Chi…",
         "title": "El 'Negro' Santos es mi juguete: Rodolfo Pizarro",
         "url": "http://www.eluniversal.com.mx/universal-deportes/futbol/rodolfo-pizarro-el-negro-santos-es-mi-jugue…",
         "newspaper_uid": "eluniversal",
         "host": "www.eluniversal.com.mx",
         "n_tokens_title": 4,
         "n_tokens_body": 101,
         "_deepnote_index_column": "69443eb67ebb2a61fb68a63f60d76e7a"
        },
        {
         "body": "\r\nEl nuevo estadio de Mazatlán, cuya construcción está por concluir este mes, después de tres años …",
         "title": "Conoce el nuevo estadio del Mazatlán FC",
         "url": "http://www.eluniversal.com.mx/universal-deportes/futbol/liga-mx-conoce-el-nuevo-estadio-del-mazatla…",
         "newspaper_uid": "eluniversal",
         "host": "www.eluniversal.com.mx",
         "n_tokens_title": 5,
         "n_tokens_body": 115,
         "_deepnote_index_column": "c3cc0e2da285ed040100d8780ffc3e6b"
        },
        {
         "body": "\r\nEl coordinador del PAN en el Senado, Mauricio Kuri, anunció la adhesión de la senadora Lilly Téll…",
         "title": "Lilly Téllez se suma al PAN en el Senado",
         "url": "http://www.eluniversal.com.mx/nacion/lilly-tellez-se-suma-al-pan-en-el-senado",
         "newspaper_uid": "eluniversal",
         "host": "www.eluniversal.com.mx",
         "n_tokens_title": 5,
         "n_tokens_body": 146,
         "_deepnote_index_column": "1560e7cbb62f6626585bb059bba4292b"
        },
        {
         "body": "\r\n\r\nUn grupo de jóvenes de Craiova, una ciudad pequeña, enclavada en una región agrícola de Rumania…",
         "title": " Opera en México banda rumana de robos millonarios en cajeros",
         "url": "http://www.eluniversal.com.mx/nacion/opera-en-mexico-banda-rumana-de-robos-millonarios-en-cajeros",
         "newspaper_uid": "eluniversal",
         "host": "www.eluniversal.com.mx",
         "n_tokens_title": 7,
         "n_tokens_body": 1253,
         "_deepnote_index_column": "9d69dff642374f51f5478730599b24c3"
        },
        {
         "body": "\r\nEste sábado, concejales de Oaxaca de Juárez aprobaron por unanimidad prolongar hasta el 30 de jun…",
         "title": "La capital amplía al 30 de junio medidas contra Covid-19, ante pico de contagios",
         "url": "https://oaxaca.eluniversal.com.mx/municipios/30-05-2020/la-capital-amplia-al-30-de-junio-medidas-co…",
         "newspaper_uid": "eluniversal",
         "host": "oaxaca.eluniversal.com.mx",
         "n_tokens_title": 6,
         "n_tokens_body": 454,
         "_deepnote_index_column": "8a7b93a34e4c8ba00873158179613d0e"
        },
        {
         "body": "\r\nImagina encontrarte con cientos de flamencos en libertad: admirar su vuelo, sus elegantes movimie…",
         "title": "Celestún, el paraíso mexicano donde habita el flamenco rosa ",
         "url": "http://www.eluniversal.com.mx/destinos/celestun-el-paraiso-mexicano-donde-habita-el-flamenco-rosa",
         "newspaper_uid": "eluniversal",
         "host": "www.eluniversal.com.mx",
         "n_tokens_title": 6,
         "n_tokens_body": 368,
         "_deepnote_index_column": "725da49333188f83ec98df406f57114c"
        },
        {
         "body": "\r\nLa Fiscalía General del Estado de Oaxaca (FGEO) informó que un juez vinculó a proceso a un sujeto…",
         "title": "Vinculan a sujeto que presuntamente atacó sexualmente a sus dos hijas en Oaxaca",
         "url": "https://oaxaca.eluniversal.com.mx/estatal/28-04-2020/vinculan-sujeto-que-presuntamente-ataco-sexual…",
         "newspaper_uid": "eluniversal",
         "host": "oaxaca.eluniversal.com.mx",
         "n_tokens_title": 8,
         "n_tokens_body": 142,
         "_deepnote_index_column": "1e6f4ed28824897fe2c39e7e15643dfc"
        },
        {
         "body": "\r\nTexto: Daniela Jurado Cano\r\n\r\nEn los 80 comenzaron a surgir grupos, sellos discográficos y espaci…",
         "title": "Grupos de rock, cronistas de la CDMX y periferia",
         "url": "https://www.eluniversal.com.mx/opinion/mochilazo-en-el-tiempo/grupos-de-rock-cronistas-de-la-cdmx-y…",
         "newspaper_uid": "eluniversal",
         "host": "www.eluniversal.com.mx",
         "n_tokens_title": 5,
         "n_tokens_body": 873,
         "_deepnote_index_column": "856d193b324689dde131fabb23c28520"
        },
        {
         "body": "\r\nTlalnepantla, Méx.— Bernabé Flores Franco, enfermero que libró la batalla contra el Covid-19 lueg…",
         "title": "Libra Covid... pero queda con daño pulmonar; no lo atienden por miedo",
         "url": "http://www.eluniversal.com.mx/metropoli/libra-covid-pero-queda-con-dano-pulmonar-no-lo-atienden-por…",
         "newspaper_uid": "eluniversal",
         "host": "www.eluniversal.com.mx",
         "n_tokens_title": 7,
         "n_tokens_body": 186,
         "_deepnote_index_column": "319acec58b80e32353b049c434e9fde7"
        },
        {
         "body": "\r\nEn mayo hubo 864 nuevos casos de Covid-19 en Querétaro y 100 defunciones; esto es cerca de siete …",
         "title": "Mayo fue el mes con más contagios y defunciones por Coronavirus, en Querétaro",
         "url": "https://www.eluniversalqueretaro.mx/portada/mayo-fue-el-mes-con-mas-contagios-y-defunciones",
         "newspaper_uid": "eluniversal",
         "host": "www.eluniversalqueretaro.mx",
         "n_tokens_title": 6,
         "n_tokens_body": 192,
         "_deepnote_index_column": "70fafc1a0e3a3b0f2ae2103d664b08ba"
        },
        {
         "body": "\r\nCampeche.- En el banderazo de inicio de obra del Tramo 2 del Tren Maya, el presidente Andrés Manu…",
         "title": "AMLO da banderazo en Campeche al Tramo 2 del Tren Maya",
         "url": "http://www.eluniversal.com.mx/nacion/amlo-da-banderazo-en-campeche-al-tramo-2-del-tren-maya",
         "newspaper_uid": "eluniversal",
         "host": "www.eluniversal.com.mx",
         "n_tokens_title": 7,
         "n_tokens_body": 134,
         "_deepnote_index_column": "9d5a963c12bd50a7a47c7ec99d9de980"
        },
        {
         "body": "\r\n\r\n\r\n\r\n    googletag.cmd.push(function() {\r\n      googletag.display(\"dfp-ad-top3_content\");\r\n    }…",
         "title": "Constancia Digital INE: ¿cómo tramitarla y para qué sirve?",
         "url": "http://www.unioncdmx.mx/articulo/2020/05/27/ciudadanos/constancia-digital-ine-como-tramitarla-y-par…",
         "newspaper_uid": "eluniversal",
         "host": "www.unioncdmx.mx",
         "n_tokens_title": 5,
         "n_tokens_body": 279,
         "_deepnote_index_column": "9b194782b5dee11531ea6f8ffd2894f9"
        },
        {
         "body": "\r\n\r\nLas manifestaciones por la muerte de George Floyd, un hombre afroestadounidense asesinado por p…",
         "title": "Estados Unidos en llamas",
         "url": "https://www.eluniversal.com.mx/opinion/andrew-selee/estados-unidos-en-llamas",
         "newspaper_uid": "eluniversal",
         "host": "www.eluniversal.com.mx",
         "n_tokens_title": 2,
         "n_tokens_body": 403,
         "_deepnote_index_column": "f8fc70204897287cf041566249c741ea"
        },
        {
         "body": " 0 % PULSO SOCIAL0 Charles Chaplin es conocido por su legendario talento cómico, pero su vida perso…",
         "title": "nan",
         "url": "https://de10.com.mx/top-10/las-cuatro-bellas-y-jovenes-esposas-de-charlie-chaplin",
         "newspaper_uid": "eluniversal",
         "host": "de10.com.mx",
         "n_tokens_title": "nan",
         "n_tokens_body": "nan",
         "_deepnote_index_column": "eba6d5612d689ae3ef277927ab743b2f"
        },
        {
         "body": " Toggle navigation  SuscripcionesEl Universal ImpresoEl Universal QuerétaroEl Universal Digital    …",
         "title": "nan",
         "url": "https://www.clubeluniversal.mx/content/suscripciones",
         "newspaper_uid": "eluniversal",
         "host": "www.clubeluniversal.mx",
         "n_tokens_title": "nan",
         "n_tokens_body": "nan",
         "_deepnote_index_column": "3e542ff3beadc7730bbe798190f3cf39"
        },
        {
         "body": "En un robo casi de película, una banda bien organizada obligó a la empleada de una sucursal de Banc…",
         "title": "nan",
         "url": "https://www.elgrafico.mx/la-roja/asi-se-robaron-14-millones-de-pesos-en-un-banco-de-cdmx-con-cintur…",
         "newspaper_uid": "eluniversal",
         "host": "www.elgrafico.mx",
         "n_tokens_title": "nan",
         "n_tokens_body": "nan",
         "_deepnote_index_column": "e627456e0555f08b6a3f93530e5d4ab9"
        },
        {
         "body": "\r\n\r\n\r\n\r\n    googletag.cmd.push(function() {\r\n      googletag.display(\"dfp-ad-top3_content\");\r\n    }…",
         "title": "Christian Nodal, edad y secretos del coach de La Voz México 2020",
         "url": "http://www.unionyucatan.mx/articulo/2020/06/02/espectaculos/christian-nodal-edad-y-secretos-del-coa…",
         "newspaper_uid": "eluniversal",
         "host": "www.unionyucatan.mx",
         "n_tokens_title": 7,
         "n_tokens_body": 195,
         "_deepnote_index_column": "283eb15a96262f94562b960bcffe2b18"
        },
        {
         "body": "\r\nMelania Trump no pudo ocultar su incomodidad cuando su esposo, el presidente Donald Trumo, le pid…",
         "title": "nan",
         "url": "https://www.viveusa.mx/noticias/la-sonrisa-forzada-de-melania-trump-un-video-que-se-volvio-viral",
         "newspaper_uid": "eluniversal",
         "host": "www.viveusa.mx",
         "n_tokens_title": "nan",
         "n_tokens_body": "nan",
         "_deepnote_index_column": "3eb5311b45afdb6f6fd2e32437f9acf3"
        },
        {
         "body": "\r\nEn 2004, el rumano Filip Sardaru hizo una emotiva petición a Canadá para que su familia fuera ace…",
         "title": "Cruzando el Río Grande: Cómo unos rumanos entraron ilegalmente a Estados Unidos para robar cajeros …",
         "url": "http://www.eluniversal.com.mx/nacion/cruzando-el-rio-grande-como-unos-rumanos-entraron-ilegalmente-…",
         "newspaper_uid": "eluniversal",
         "host": "www.eluniversal.com.mx",
         "n_tokens_title": 11,
         "n_tokens_body": 1133,
         "_deepnote_index_column": "dc60837fda118787f74285907bf6de02"
        },
        {
         "body": "\r\nLa actriz Megan Fox salió en compañía de sus tres hijos a una tienda de la ciudad de Calabasas, e…",
         "title": "nan",
         "url": "https://www.viveusa.mx/showbiz/megan-fox-cautiva-con-jeans-ajustados-en-california-tras-separacion",
         "newspaper_uid": "eluniversal",
         "host": "www.viveusa.mx",
         "n_tokens_title": "nan",
         "n_tokens_body": "nan",
         "_deepnote_index_column": "5450b736406fc36d786d240efe967394"
        },
        {
         "body": "\r\nEl reinicio de actividades en el sector industrial se caracterizó por ausencia de trabajadores y …",
         "title": "\"Nueva normalidad\" inicia con ausentismo laboral y sin pruebas para detectar Covid",
         "url": "http://www.eluniversal.com.mx/cartera/negocios/nueva-normalidad-inicia-con-ausentismo-laboral-y-sin…",
         "newspaper_uid": "eluniversal",
         "host": "www.eluniversal.com.mx",
         "n_tokens_title": 8,
         "n_tokens_body": 149,
         "_deepnote_index_column": "186d0917cebefd619d90edf20af66f3c"
        },
        {
         "body": "\r\nLa marca mexicana Veoveo lanzó una campaña con causa durante la pandemia por Covid-19. Fabrican c…",
         "title": "nan",
         "url": "https://www.viveusa.mx/compras/fabrican-cubrebocas-para-ayudar-ninos-migrantes-en-mexico",
         "newspaper_uid": "eluniversal",
         "host": "www.viveusa.mx",
         "n_tokens_title": "nan",
         "n_tokens_body": "nan",
         "_deepnote_index_column": "11866efebe26250688b0637447cc8e72"
        },
        {
         "body": "\r\nQuerétaro, Querétaro.-\r\n\r\nLa peluquería de Mario Rodríguez Hernández está vacía. La gente en esto…",
         "title": "Resistencia. Peluquero sobrelleva encierro",
         "url": "https://www.eluniversalqueretaro.mx/portada/resistenciapeluquero-sobrelleva-encierro",
         "newspaper_uid": "eluniversal",
         "host": "www.eluniversalqueretaro.mx",
         "n_tokens_title": 4,
         "n_tokens_body": 409,
         "_deepnote_index_column": "337857fd7cd1c5ed60945577f8e973eb"
        },
        {
         "body": "\r\nDemi Rose conquistó las redes sociales con un vestido que se ajustó a sus curvas de infarto y rev…",
         "title": "nan",
         "url": "https://www.viveusa.mx/showbiz/demi-rose-presume-vestido-de-impacto-en-redes-sociales",
         "newspaper_uid": "eluniversal",
         "host": "www.viveusa.mx",
         "n_tokens_title": "nan",
         "n_tokens_body": "nan",
         "_deepnote_index_column": "8a7359f57b239fc20e08a8029705744c"
        },
        {
         "body": "\r\nToluca.- La Secretaría de Educación del Estado de México informó que el 5 de junio concluirá el a…",
         "title": "Estas son las fechas para finalizar clases e iniciar ciclo escolar 2020-2021 en Edomex",
         "url": "http://www.eluniversal.com.mx/metropoli/edomex/estas-son-las-fechas-para-finalizar-clases-e-iniciar…",
         "newspaper_uid": "eluniversal",
         "host": "www.eluniversal.com.mx",
         "n_tokens_title": 7,
         "n_tokens_body": 185,
         "_deepnote_index_column": "8edf34e3aee0f894a68c7bf51b35766c"
        },
        {
         "body": "\r\nCon 18 años de edad, Dafne Almazán Anaya se convirtió en la mexicana más joven en graduarse de un…",
         "title": "nan",
         "url": "https://www.viveusa.mx/educacion/dafne-almazan-la-mexicana-mas-joven-en-graduarse-de-una-maestria-e…",
         "newspaper_uid": "eluniversal",
         "host": "www.viveusa.mx",
         "n_tokens_title": "nan",
         "n_tokens_body": "nan",
         "_deepnote_index_column": "e5b1d40a5448e5265368cab3c8884c4d"
        },
        {
         "body": "\r\n\r\nNos comentan que quien piense que la empresa Wal-Mart realizó de buena voluntad un pago por 8 m…",
         "title": "La historia de los 8 mil millones que pagó Wal-Mart",
         "url": "https://www.eluniversal.com.mx/opinion/periodistas-el-universal/la-historia-de-los-8-mil-millones-q…",
         "newspaper_uid": "eluniversal",
         "host": "www.eluniversal.com.mx",
         "n_tokens_title": 4,
         "n_tokens_body": 312,
         "_deepnote_index_column": "949368292525758628958d6ac31976f5"
        },
        {
         "body": "\r\n\r\n En Puebla se han registrado 392 muertes y 3 mil 239 casos confirmados de coronavirus al 2 de j…",
         "title": "Coronavirus Puebla: Casos confirmados de Covid-19 al 2 de junio",
         "url": "http://www.eluniversal.com.mx/estados/coronavirus-puebla-casos-confirmados-de-covid-19-al-2-de-junio",
         "newspaper_uid": "eluniversal",
         "host": "www.eluniversal.com.mx",
         "n_tokens_title": 5,
         "n_tokens_body": 208,
         "_deepnote_index_column": "f545f665513afbb87cbd7c32d6f490c6"
        },
        {
         "body": "\r\nA medida que los manifestantes ocupaban las avenidas a lo largo y ancho de Estados Unidos para co…",
         "title": "nan",
         "url": "https://www.viveusa.mx/noticias/protestas-en-estados-unidos-podrian-provocar-nuevos-casos-de-corona…",
         "newspaper_uid": "eluniversal",
         "host": "www.viveusa.mx",
         "n_tokens_title": "nan",
         "n_tokens_body": "nan",
         "_deepnote_index_column": "be397604807786a0a4c448b6ece692fb"
        },
        {
         "body": "\r\n\r\n\r\n\r\n    googletag.cmd.push(function() {\r\n      googletag.display(\"dfp-ad-top3_content\");\r\n    }…",
         "title": "‘Enamorándonos’ y su maldición",
         "url": "http://www.unionjalisco.mx/articulo/2020/06/03/espectaculos/enamorandonos-y-su-maldicion",
         "newspaper_uid": "eluniversal",
         "host": "www.unionjalisco.mx",
         "n_tokens_title": 2,
         "n_tokens_body": 109,
         "_deepnote_index_column": "4e60033e358b839134037f5936eae85d"
        },
        {
         "body": "\r\nLa secretaria de Salud, Oliva López, consideró que en septiembre el semáforo podría cambiar a nar…",
         "title": "Decesos por Covid se estabilizarán en septiembre en CDMX",
         "url": "http://www.eluniversal.com.mx/metropoli/decesos-por-covid-se-estabilizaran-en-septiembre-en-cdmx",
         "newspaper_uid": "eluniversal",
         "host": "www.eluniversal.com.mx",
         "n_tokens_title": 5,
         "n_tokens_body": 324,
         "_deepnote_index_column": "ed19b6bfd4048fe9d9e642110c70e386"
        },
        {
         "body": "\r\nEl gobernador Francisco Domínguez Servién desmintió que el estado de Querétaro haya aceptado util…",
         "title": "Gobernador de Querétaro rechaza integración al semáforo único de Covid-19 ",
         "url": "https://www.eluniversalqueretaro.mx/politica/gobernador-de-queretaro-rechaza-integracion-al-semafor…",
         "newspaper_uid": "eluniversal",
         "host": "www.eluniversalqueretaro.mx",
         "n_tokens_title": 6,
         "n_tokens_body": 162,
         "_deepnote_index_column": "736de8188e7624da6c299a6699a86792"
        },
        {
         "body": "\r\nJosé Luis Alomía Zegarra, director general de Epidemiología, informó esta noche que México suma 1…",
         "title": "México tiene nuevo máximo de casos de Covid: 3 mil 891 en un día; suman 97 mil",
         "url": "https://www.eluniversal.com.mx/nacion/sociedad/coronavirus-2-de-junio-suman-10-mil-637-muertes-por-…",
         "newspaper_uid": "eluniversal",
         "host": "www.eluniversal.com.mx",
         "n_tokens_title": 9,
         "n_tokens_body": 218,
         "_deepnote_index_column": "22e0c9ee3a1fbf5ee85faeb6b6feef77"
        },
        {
         "body": "\r\n\r\n\r\n\r\n    googletag.cmd.push(function() {\r\n      googletag.display(\"dfp-ad-top3_content\");\r\n    }…",
         "title": "Yo soy Betty, la fea, elenco, personajes y actores antes y después",
         "url": "http://www.unionyucatan.mx/articulo/2020/06/01/espectaculos/yo-soy-betty-la-fea-elenco-personajes-y…",
         "newspaper_uid": "eluniversal",
         "host": "www.unionyucatan.mx",
         "n_tokens_title": 6,
         "n_tokens_body": 244,
         "_deepnote_index_column": "8186415a9b64ad383faf77f634d5954d"
        },
        {
         "body": " 0 % PULSO SOCIAL0 Ante las protestas en Estados Unidos por la muerte de George Floyd, un afromeric…",
         "title": "nan",
         "url": "https://de10.com.mx/top-10/10-memes-sobre-las-verdaderas-revelaciones-de-anonymous",
         "newspaper_uid": "eluniversal",
         "host": "de10.com.mx",
         "n_tokens_title": "nan",
         "n_tokens_body": "nan",
         "_deepnote_index_column": "7a50f0ca05a6efe98631b99312ec0e31"
        },
        {
         "body": "\r\nDesde ayer, algunos comentarios en Internet apuntan a que el Presidente, Andrés Manuel López Obra…",
         "title": "¿Es verdad que AMLO quiere cobrar un impuesto por tener mascotas?",
         "url": "http://www.eluniversal.com.mx/nacion/politica/es-verdad-que-amlo-quiere-cobrar-un-impuesto-por-tene…",
         "newspaper_uid": "eluniversal",
         "host": "www.eluniversal.com.mx",
         "n_tokens_title": 7,
         "n_tokens_body": 110,
         "_deepnote_index_column": "5ce921de5142b0dfe4d884470f50b690"
        },
        {
         "body": "\r\nLa actriz Gwyneth Paltrow fue captada durante un paseo en la ciudad de Los Ángeles, California, j…",
         "title": "nan",
         "url": "https://www.viveusa.mx/showbiz/gwyneth-paltrow-luce-piernas-tonificadas-con-shorts-blancos-en-la",
         "newspaper_uid": "eluniversal",
         "host": "www.viveusa.mx",
         "n_tokens_title": "nan",
         "n_tokens_body": "nan",
         "_deepnote_index_column": "99162cbf255a01ee3e6a4e02c12a1373"
        },
        {
         "body": "\r\nEiza González fue captada por los paparazzis haciendo alarde de su trabajada figura por calles de…",
         "title": "nan",
         "url": "https://www.viveusa.mx/showbiz/eiza-gonzalez-presume-abs-con-crop-top-en-los-angeles-0",
         "newspaper_uid": "eluniversal",
         "host": "www.viveusa.mx",
         "n_tokens_title": "nan",
         "n_tokens_body": "nan",
         "_deepnote_index_column": "9db570bce53866e2ece28e5f36f95468"
        },
        {
         "body": "\r\n\r\n\r\n\r\n    googletag.cmd.push(function() {\r\n      googletag.display(\"dfp-ad-top3_content\");\r\n    }…",
         "title": "Nuevas fechas para examen COMIPEMS 2020, ¿cuándo son?",
         "url": "http://www.unioncdmx.mx/articulo/2020/06/03/educacion/nuevas-fechas-para-examen-comipems-2020-cuand…",
         "newspaper_uid": "eluniversal",
         "host": "www.unioncdmx.mx",
         "n_tokens_title": 4,
         "n_tokens_body": 269,
         "_deepnote_index_column": "5d46615728015b7fd8282292d4d6c7ca"
        },
        {
         "body": "\r\nEl Servicio de Administración Tributaria (SAT) recordó que el año pasado, el Congreso de la Unión…",
         "title": "¿Quiénes pagan el IVA a servicios digitales? El SAT te lo dice",
         "url": "http://www.eluniversal.com.mx/cartera/telecom/quienes-pagan-el-iva-servicios-digitales",
         "newspaper_uid": "eluniversal",
         "host": "www.eluniversal.com.mx",
         "n_tokens_title": 6,
         "n_tokens_body": 131,
         "_deepnote_index_column": "6bd9f361829222464cfcebe5d423481d"
        },
        {
         "body": "\r\n El primer ministro canadiense, Justin Trudeau, necesitó este martes 21 segundos de silencio ante…",
         "title": "nan",
         "url": "https://www.viveusa.mx/noticias/la-polemica-respuesta-de-justin-trudeau-sobre-las-protestas-en-eu",
         "newspaper_uid": "eluniversal",
         "host": "www.viveusa.mx",
         "n_tokens_title": "nan",
         "n_tokens_body": "nan",
         "_deepnote_index_column": "cc6ee4046eaecc45acc777073729b355"
        },
        {
         "body": "\r\nSi hay una deliciosa y sencilla receta para preparar es el pan francés, este rico bocadillo que l…",
         "title": "Aprende a preparar pan francés en casa fácil y rápido",
         "url": "http://www.eluniversal.com.mx/menu/receta-de-pan-frances-con-platano",
         "newspaper_uid": "eluniversal",
         "host": "www.eluniversal.com.mx",
         "n_tokens_title": 7,
         "n_tokens_body": 169,
         "_deepnote_index_column": "45943b2de008d8ec214cbdce21c8677d"
        },
        {
         "body": "\r\nPara muchos viajeros, una de las motivaciones principales para elegir uno u otro lugar para recor…",
         "title": "Postres, vinos y otras delicias: viaja por Francia a través de su cocina",
         "url": "http://www.eluniversal.com.mx/destinos/postres-vinos-y-mas-delicias-en-un-viaje-por-la-cocina-franc…",
         "newspaper_uid": "eluniversal",
         "host": "www.eluniversal.com.mx",
         "n_tokens_title": 7,
         "n_tokens_body": 765,
         "_deepnote_index_column": "8bd8ed3a063f2d0eff961f5d58469da9"
        },
        {
         "body": "\r\nLa aparición del Covid-19 provocó que el personal de salud adoptara la utilización de nuevas herr…",
         "title": "“Es muy difícil, vemos las muertes noche a noche”",
         "url": "https://www.eluniversalqueretaro.mx/portada/es-muy-dificil-vemos-las-muertes-noche-noche",
         "newspaper_uid": "eluniversal",
         "host": "www.eluniversalqueretaro.mx",
         "n_tokens_title": 5,
         "n_tokens_body": 423,
         "_deepnote_index_column": "956d5aaaf180c1a24b0f933588aaac55"
        },
        {
         "body": "\r\n¿Todavía habrá quienes piensen que el actual gobierno amenaza la libertad de expresión luego de q…",
         "title": "El choque de dos proyectos de nación",
         "url": "https://www.eluniversal.com.mx/opinion/raul-rodriguez-cortes/el-choque-de-dos-proyectos-de-nacion",
         "newspaper_uid": "eluniversal",
         "host": "www.eluniversal.com.mx",
         "n_tokens_title": 4,
         "n_tokens_body": 353,
         "_deepnote_index_column": "505e903e1f3f0a358f59e8c518963e99"
        },
        {
         "body": "\r\n\r\nLa escena es terrible: George Floyd, un hombre afroamericano arrojado en el piso, con la rodill…",
         "title": "Sobre la brutalidad policial",
         "url": "https://www.eluniversal.com.mx/opinion/alejandro-hope/sobre-la-brutalidad-policial",
         "newspaper_uid": "eluniversal",
         "host": "www.eluniversal.com.mx",
         "n_tokens_title": 2,
         "n_tokens_body": 297,
         "_deepnote_index_column": "91c7eeb99daa426dc8404cfc84aa409a"
        },
        {
         "body": "\r\nEl perímetro del Centro Histórico se encuentra aún blindado por elementos de la Secretaría de Seg…",
         "title": "Pese a \"nueva normalidad\", mantienen cercado perímetro del Centro Histórico ",
         "url": "http://www.eluniversal.com.mx/metropoli/cdmx/pese-nueva-normalidad-mantienen-cercado-perimetro-del-…",
         "newspaper_uid": "eluniversal",
         "host": "www.eluniversal.com.mx",
         "n_tokens_title": 8,
         "n_tokens_body": 195,
         "_deepnote_index_column": "4bc5c7479168fa9896ac670d53a3fd3e"
        },
        {
         "body": "\r\n\r\n\r\n\r\n    googletag.cmd.push(function() {\r\n      googletag.display(\"dfp-ad-top3_content\");\r\n    }…",
         "title": "¿Cuándo es el Día del Padre en México 2020?",
         "url": "http://www.unionguanajuato.mx/articulo/2020/05/25/cultura/cuando-es-el-dia-del-padre-en-mexico-2020",
         "newspaper_uid": "eluniversal",
         "host": "www.unionguanajuato.mx",
         "n_tokens_title": 3,
         "n_tokens_body": 337,
         "_deepnote_index_column": "fabe452990187835557e41bc1bd4c9a2"
        },
        {
         "body": "\r\nLeer en español\r\n \r\nThe body of a Mexican congresswoman Francis Anel Bueno Sánchez from the state…",
         "title": "Mexican lawmaker’s body is found inside a mass grave in Colima",
         "url": "https://www.eluniversal.com.mx/english/mexican-lawmakers-body-found-inside-mass-grave-colima",
         "newspaper_uid": "eluniversal",
         "host": "www.eluniversal.com.mx",
         "n_tokens_title": 11,
         "n_tokens_body": 241,
         "_deepnote_index_column": "6abe219e133be7106095b68efd573889"
        },
        {
         "body": "\r\nUna nieve ligera caía sobre Craiova, en el sur de Rumanía, cuando Sorin Velcu llamó a su madre pa…",
         "title": "Del cajero al ladrillo: blanqueando el dinero sucio",
         "url": "http://www.eluniversal.com.mx/nacion/del-cajero-al-ladrillo-blanqueando-el-dinero-sucio",
         "newspaper_uid": "eluniversal",
         "host": "www.eluniversal.com.mx",
         "n_tokens_title": 5,
         "n_tokens_body": 1292,
         "_deepnote_index_column": "471b2343d019baf1808b47422d719b6a"
        },
        {
         "body": "\r\nTexto: Edward Fernando Salinas\r\n \r\n\r\n\"No puedes vencer a alguien que nunca se rinde\"\r\n“Babe” Ruth…",
         "title": "El día que el gran Babe Ruth conectó un jonrón en México",
         "url": "https://www.eluniversal.com.mx/opinion/mochilazo-en-el-tiempo/el-dia-que-el-gran-babe-ruth-conecto-…",
         "newspaper_uid": "eluniversal",
         "host": "www.eluniversal.com.mx",
         "n_tokens_title": 7,
         "n_tokens_body": 1060,
         "_deepnote_index_column": "01c4df73f5d6c19e683bf1b55534f2c9"
        },
        {
         "body": "\r\n\r\n¿Qué horas son? las que usted diga, señor presidente. Es la respuesta que México ha querido evi…",
         "title": "Los cómplices del presidente",
         "url": "https://www.eluniversal.com.mx/opinion/ana-paula-ordorica/los-complices-del-presidente",
         "newspaper_uid": "eluniversal",
         "host": "www.eluniversal.com.mx",
         "n_tokens_title": 2,
         "n_tokens_body": 333,
         "_deepnote_index_column": "d6114f8fbbcfc5cf4fc906163df0c43b"
        },
        {
         "body": "\r\nWashington.- Las tropas en activo trasladadas a la capital estadounidense para ayudar, en caso ne…",
         "title": "Regresan a sus bases tropas desplegadas en Washington para controlar protestas",
         "url": "http://www.eluniversal.com.mx/mundo/regresan-sus-bases-tropas-desplegadas-en-washington-para-contro…",
         "newspaper_uid": "eluniversal",
         "host": "www.eluniversal.com.mx",
         "n_tokens_title": 7,
         "n_tokens_body": 119,
         "_deepnote_index_column": "071849f1dae3d0dcf3144c7991ce72ad"
        },
        {
         "body": "\r\nLa posible vuelta del Atlante a la Primera División, a la Liga MX, podría ser parte de un plan ar…",
         "title": "El Atlante a la Liga MX, ¿cómo y de quién es el plan?",
         "url": "http://www.eluniversal.com.mx/universal-deportes/futbol/el-atlante-la-liga-mx-como-y-de-quien-es-el…",
         "newspaper_uid": "eluniversal",
         "host": "www.eluniversal.com.mx",
         "n_tokens_title": 5,
         "n_tokens_body": 187,
         "_deepnote_index_column": "e9d8e66242790772729d3957428cff8d"
        },
        {
         "body": "\r\nAlgunos jugadores del América mandaron mensajes en contra del racismo, durante los movimientos en…",
         "title": "Jugadores del América lanzan mensajes contra el racismo",
         "url": "http://www.eluniversal.com.mx/universal-deportes/futbol/america-jugadores-lanzan-mensajes-contra-el…",
         "newspaper_uid": "eluniversal",
         "host": "www.eluniversal.com.mx",
         "n_tokens_title": 5,
         "n_tokens_body": 108,
         "_deepnote_index_column": "c9bf8760610d4993ca3af848457d3dcc"
        },
        {
         "body": "\r\nEl cuerpo de Anel Bueno Sánchez, diputada de Colima desaparecida el pasado 29 de abril, fue local…",
         "title": "¿Quién era Anel Bueno, diputada localizada en una fosa clandestina de Colima?",
         "url": "http://www.eluniversal.com.mx/estados/quien-era-anel-bueno-diputada-localizada-en-una-fosa-clandest…",
         "newspaper_uid": "eluniversal",
         "host": "www.eluniversal.com.mx",
         "n_tokens_title": 7,
         "n_tokens_body": 214,
         "_deepnote_index_column": "01c86faa69fa2107b8a047faef3f837f"
        },
        {
         "body": "\r\nTexto: Marco Salas\r\nImaginemos que es 1890 y una pareja toma café. Él se llama Karl Wilhem Flügge…",
         "title": "Así nació el cubrebocas",
         "url": "https://www.eluniversal.com.mx/opinion/mochilazo-en-el-tiempo/asi-nacio-el-cubrebocas",
         "newspaper_uid": "eluniversal",
         "host": "www.eluniversal.com.mx",
         "n_tokens_title": 3,
         "n_tokens_body": 1059,
         "_deepnote_index_column": "59ebaf555087c32ca218f9edf98cdabb"
        },
        {
         "body": "Hubei.– Uno de los médicos que experimentaron un extraño cambio en el color de su piel, tras contra…",
         "title": "nan",
         "url": "https://www.elgrafico.mx/viral/muere-medico-cuya-piel-se-oscurecio-por-tratamiento-contra-el-covid-…",
         "newspaper_uid": "eluniversal",
         "host": "www.elgrafico.mx",
         "n_tokens_title": "nan",
         "n_tokens_body": "nan",
         "_deepnote_index_column": "18338b662d448427d020628f60cd46fc"
        },
        {
         "body": "\r\nLa senadora del PRI, Vanessa Rubio, propuso que personas desahuciadas puedan tener acceso a los r…",
         "title": "Senadora de PRI plantea que desahuciados puedan acceder a recursos de su Afore",
         "url": "https://www.eluniversal.com.mx/cartera/senadora-de-pri-plantea-que-desahuciados-puedan-acceder-recu…",
         "newspaper_uid": "eluniversal",
         "host": "www.eluniversal.com.mx",
         "n_tokens_title": 8,
         "n_tokens_body": 235,
         "_deepnote_index_column": "b7966d5da94ce512b0ffa8394a2af753"
        },
        {
         "body": "\r\nUn video viral que circula en redes sociales ha causado revuelo entre los usuarios. Muestra a una…",
         "title": "nan",
         "url": "https://www.viveusa.mx/noticias/posa-para-foto-antes-de-protesta-y-despues-sube-auto-de-lujo",
         "newspaper_uid": "eluniversal",
         "host": "www.viveusa.mx",
         "n_tokens_title": "nan",
         "n_tokens_body": "nan",
         "_deepnote_index_column": "d69d80078eba76f7189b9609e0f96d4c"
        },
        {
         "body": "\r\nEsta mañana trascendió la muerte de un hombre en la avenida principal del Centro Histórico potosi…",
         "title": "Encuentran a hombre colgado en academia de belleza del Centro Histórico de SLP",
         "url": "https://sanluis.eluniversal.com.mx/metropoli/27-05-2020/localizan-hombre-colgado-en-academia-de-bel…",
         "newspaper_uid": "eluniversal",
         "host": "sanluis.eluniversal.com.mx",
         "n_tokens_title": 8,
         "n_tokens_body": 56,
         "_deepnote_index_column": "3bfa057ee47efe656e5409db2849b5b6"
        },
        {
         "body": "\r\n\r\n\r\n\r\n    googletag.cmd.push(function() {\r\n      googletag.display(\"dfp-ad-top3_content\");\r\n    }…",
         "title": "Nuevo calendario escolar por coronavirus Covid-19 para imprimir",
         "url": "http://www.unionguanajuato.mx/articulo/2020/06/03/educacion/nuevo-calendario-escolar-por-coronaviru…",
         "newspaper_uid": "eluniversal",
         "host": "www.unionguanajuato.mx",
         "n_tokens_title": 5,
         "n_tokens_body": 221,
         "_deepnote_index_column": "91cc9dd472a5e033e754edfcec872597"
        },
        {
         "body": "\r\nLa Fiscalía General de San Luis Potosí informó que el saldo de tres ataques armados ocurridos la …",
         "title": "Ataques armados en Zona Metropolitana de SLP dejan 5 muertos y 3 lesionados",
         "url": "https://sanluis.eluniversal.com.mx/metropoli/27-05-2020/ataques-armados-en-zona-metropolitana-de-sl…",
         "newspaper_uid": "eluniversal",
         "host": "sanluis.eluniversal.com.mx",
         "n_tokens_title": 8,
         "n_tokens_body": 113,
         "_deepnote_index_column": "11196915d6c85f6d693b64d467bbabf8"
        },
        {
         "body": "\r\nEl dirigente nacional de Morena, Alfonso Ramírez Cuéllar, pidió justicia para la diputada local F…",
         "title": "Morena pide justicia para diputada asesinada",
         "url": "http://www.eluniversal.com.mx/nacion/morena-pide-justicia-para-diputada-asesinada",
         "newspaper_uid": "eluniversal",
         "host": "www.eluniversal.com.mx",
         "n_tokens_title": 5,
         "n_tokens_body": 112,
         "_deepnote_index_column": "3cb0b3abfcf75d61da25ac1838d36b3d"
        },
        {
         "body": "\r\nEl coordinador de Morena en la Cámara de Diputados, Mario Delgado Carrillo, propuso que los traba…",
         "title": "Morena propone retiro de Afore en caso de emergencia sanitaria",
         "url": "http://www.eluniversal.com.mx/nacion/politica/morena-propone-retiro-de-afore-en-caso-de-emergencia-…",
         "newspaper_uid": "eluniversal",
         "host": "www.eluniversal.com.mx",
         "n_tokens_title": 7,
         "n_tokens_body": 118,
         "_deepnote_index_column": "62bed4476562a6406d10dd873334375e"
        },
        {
         "body": "Los cuerpos cercenados de dos hombres fueron hallados la mañana de este miércoles en dos diferentes…",
         "title": "nan",
         "url": "https://www.elgrafico.mx/la-roja/miercoles-de-terror-parten-dos-en-cachos-y-riegan-sus-restos-en-va…",
         "newspaper_uid": "eluniversal",
         "host": "www.elgrafico.mx",
         "n_tokens_title": "nan",
         "n_tokens_body": "nan",
         "_deepnote_index_column": "c2e0da43d8084f2ad1fedd09ee2a7ec1"
        },
        {
         "body": "\r\nSi te gusta cocinar, sabrás que un buen platillo depende tanto de la calidad de los alimentos com…",
         "title": "Guía para elegir la mejor batería de cocina",
         "url": "http://www.eluniversal.com.mx/menu/que-tomar-en-cuenta-para-comprar-una-bateria-de-cocina",
         "newspaper_uid": "eluniversal",
         "host": "www.eluniversal.com.mx",
         "n_tokens_title": 5,
         "n_tokens_body": 414,
         "_deepnote_index_column": "8063b167a3b73fecfba90fdd284fe6fe"
        },
        {
         "body": " 20 % PULSO SOCIAL6 De acuerdo con la Real Academia de la Lengua, ser ateo significa rechazar la ex…",
         "title": "nan",
         "url": "https://de10.com.mx/top-10/10-personajes-famosos-ateos-y-sus-creencias",
         "newspaper_uid": "eluniversal",
         "host": "de10.com.mx",
         "n_tokens_title": "nan",
         "n_tokens_body": "nan",
         "_deepnote_index_column": "2763d3ba4fc2359ac88e22168eecabf5"
        },
        {
         "body": " 0 % PULSO SOCIAL0 \r\n",
         "title": "nan",
         "url": "https://de10.com.mx/parejas/10-actrices-cuyos-bikinis-en-el-cine-marcaron-tendencia",
         "newspaper_uid": "eluniversal",
         "host": "de10.com.mx",
         "n_tokens_title": "nan",
         "n_tokens_body": "nan",
         "_deepnote_index_column": "87b3673c7208e12fa6ab67c4f1681d9b"
        },
        {
         "body": "\r\nDurante los últimos 12 días de mayo empresas del sector industrial en la entidad potosina se enfo…",
         "title": "240 plantas industriales retomaron actividades este lunes en San Luis Potosí",
         "url": "https://sanluis.eluniversal.com.mx/cartera/01-06-2020/240-plantas-industriales-retomaron-actividade…",
         "newspaper_uid": "eluniversal",
         "host": "sanluis.eluniversal.com.mx",
         "n_tokens_title": 8,
         "n_tokens_body": 216,
         "_deepnote_index_column": "f45590a05db0a9dad49074f4ed751bd9"
        },
        {
         "body": "\r\n\r\nTabasco suma 4 mil 609 casos confirmados y 562 fallecimientos por Covid-19 al 2 de junio.\r\n\r\nEn…",
         "title": "Casos de Covid-19 en Yucatán, Quintana Roo y Tabasco al 2 de junio",
         "url": "http://www.eluniversal.com.mx/estados/casos-de-covid-19-en-yucatan-quintana-roo-y-tabasco-al-2-de-j…",
         "newspaper_uid": "eluniversal",
         "host": "www.eluniversal.com.mx",
         "n_tokens_title": 6,
         "n_tokens_body": 278,
         "_deepnote_index_column": "fc26e3c43151d2b733810645306ff0c4"
        },
        {
         "body": "\r\nLa vida no ha sido fácil en estos últimos meses. Sin embargo, hay que continuar con el ritmo y ad…",
         "title": "Belinda enamora con su look deportivo para la Voz Azteca",
         "url": "http://www.eluniversal.com.mx/de-ultima/belinda-sorprende-con-look-deportivo-para-la-voz-azteca",
         "newspaper_uid": "eluniversal",
         "host": "www.eluniversal.com.mx",
         "n_tokens_title": 6,
         "n_tokens_body": 174,
         "_deepnote_index_column": "06ce47ee219217edec08bb687d647eba"
        },
        {
         "body": " 73 % PULSO SOCIAL22 En la cultura de la antigüedad, no había mejor castigo que la ley del Talión, …",
         "title": "nan",
         "url": "https://de10.com.mx/top-10/impactante-10-formas-antiguas-de-castigo-y-tortura",
         "newspaper_uid": "eluniversal",
         "host": "de10.com.mx",
         "n_tokens_title": "nan",
         "n_tokens_body": "nan",
         "_deepnote_index_column": "e57eefe7548a2a9b209247871f5ab3f3"
        },
        {
         "body": "\r\nEn las protestas desatadas en Estados Unidos en contra de la discriminación racial resaltó la ban…",
         "title": "nan",
         "url": "https://www.viveusa.mx/noticias/la-bandera-de-mexico-ondea-en-las-protestas-por-george-floyd",
         "newspaper_uid": "eluniversal",
         "host": "www.viveusa.mx",
         "n_tokens_title": "nan",
         "n_tokens_body": "nan",
         "_deepnote_index_column": "5be5f05690d89ad5d2167db4606cfead"
        },
        {
         "body": "\r\nJennifer Lopez y Kim Kardashian son de las celebridades más mediáticas en Estados Unidos. Ambas s…",
         "title": "nan",
         "url": "https://www.viveusa.mx/showbiz/las-fotos-ineditas-de-las-sesiones-de-jennifer-lopez-y-kim-kardashian",
         "newspaper_uid": "eluniversal",
         "host": "www.viveusa.mx",
         "n_tokens_title": "nan",
         "n_tokens_body": "nan",
         "_deepnote_index_column": "4f5863ab7deb08db52db6950111e8b37"
        },
        {
         "body": "\r\nTexto: Carlos Villasana y Ruth Gómez\r\nLa ciudad enfrenta una de las etapas más complejas de los ú…",
         "title": "Los mercados porfirianos de la capital",
         "url": "https://www.eluniversal.com.mx/opinion/mochilazo-en-el-tiempo/los-mercados-porfirianos-de-la-capital",
         "newspaper_uid": "eluniversal",
         "host": "www.eluniversal.com.mx",
         "n_tokens_title": 3,
         "n_tokens_body": 681,
         "_deepnote_index_column": "c84caebb106ac1713a83606932a257d2"
        },
        {
         "body": "\r\nEl contagio por el coronavirus es más elevado en las grandes áreas urbanas del país; sin embargo,…",
         "title": "Coneval: letalidad del Covid es alta en municipios pobres",
         "url": "http://www.eluniversal.com.mx/cartera/coneval-letalidad-del-covid-es-alta-en-municipios-pobres",
         "newspaper_uid": "eluniversal",
         "host": "www.eluniversal.com.mx",
         "n_tokens_title": 6,
         "n_tokens_body": 255,
         "_deepnote_index_column": "5fe67add59ffd6bca8405916e729e3f1"
        },
        {
         "body": "\r\nUn grupo internacional de arqueólogos descubrió en Tabasco la estructura ceremonial más antigua y…",
         "title": "Descubren estructura ceremonial maya más antigua hasta el momento",
         "url": "http://www.eluniversal.com.mx/cultura/arqueologos-descubren-el-monumento-maya-mas-antiguo-hasta-el-…",
         "newspaper_uid": "eluniversal",
         "host": "www.eluniversal.com.mx",
         "n_tokens_title": 6,
         "n_tokens_body": 302,
         "_deepnote_index_column": "7f6714acb5c8e2bb0ea7e53d6b8a1e54"
        },
        {
         "body": "\r\nOcho días consecutivos de marchas, vigilias, rezos, llamados a la reconciliación no han sido sufi…",
         "title": "Las protestas...",
         "url": "https://www.eluniversal.com.mx/opinion/gabriel-guerra/las-protestas",
         "newspaper_uid": "eluniversal",
         "host": "www.eluniversal.com.mx",
         "n_tokens_title": 1,
         "n_tokens_body": 327,
         "_deepnote_index_column": "110caa50b0aded5b6b56a5215266ea89"
        },
        {
         "body": "\r\n\r\nLa Secretaría de Salud del gobierno federal informó que al 2 de junio hay registro de 10 mil 63…",
         "title": "Casos de coronavirus en México, estado por estado al 2 de junio",
         "url": "http://www.eluniversal.com.mx/estados/casos-de-coronavirus-en-mexico-estado-por-estado-al-2-de-junio",
         "newspaper_uid": "eluniversal",
         "host": "www.eluniversal.com.mx",
         "n_tokens_title": 4,
         "n_tokens_body": 997,
         "_deepnote_index_column": "c0ee9fae7942d545a74a2e36be4a0888"
        },
        {
         "body": "\r\nLa válvula potosina desarrollada por investigadores en San Luis Potosí, devuelve la esperanza a p…",
         "title": "Con tecnología 3D, potosinos crean válvula para enfrentar el Covid-19",
         "url": "https://sanluis.eluniversal.com.mx/sociedad/26-05-2020/con-tecnologia-3d-potosinos-crean-valvula-pa…",
         "newspaper_uid": "eluniversal",
         "host": "sanluis.eluniversal.com.mx",
         "n_tokens_title": 5,
         "n_tokens_body": 285,
         "_deepnote_index_column": "8966ead10350f7a5357bc92c2a89ff6e"
        },
        {
         "body": " 0 % PULSO SOCIAL0 Imagina que un día tu pareja muere y en medio del duelo, te enteras de que lleva…",
         "title": "nan",
         "url": "https://de10.com.mx/top-10/julio-machado-nos-cuenta-los-secretos-de-la-serie-hard",
         "newspaper_uid": "eluniversal",
         "host": "de10.com.mx",
         "n_tokens_title": "nan",
         "n_tokens_body": "nan",
         "_deepnote_index_column": "aaa9c08b41e86b69afeaa1094fd44876"
        },
        {
         "body": "\r\nLa mayoría de los estados que pertenecen a la Megalópolis, Ciudad de México, Estado de México, Pu…",
         "title": "Van mandatarios del Centro por mismo semáforo para nueva normalidad",
         "url": "http://www.eluniversal.com.mx/metropoli/cdmx/piden-mandatarios-del-centro-un-mismo-semaforo-para-nu…",
         "newspaper_uid": "eluniversal",
         "host": "www.eluniversal.com.mx",
         "n_tokens_title": 7,
         "n_tokens_body": 192,
         "_deepnote_index_column": "f658f683aa897f732cb24c8340f20339"
        },
        {
         "body": "\r\nHace unos días, el propietario del Guadalajara, Amaury Vergara, puso sobre la mesa la necesidad d…",
         "title": "A transparentar el futbol mexicano",
         "url": "https://www.eluniversal.com.mx/opinion/gerardo-velazquez-de-leon/transparentar-el-futbol-mexicano",
         "newspaper_uid": "eluniversal",
         "host": "www.eluniversal.com.mx",
         "n_tokens_title": 3,
         "n_tokens_body": 267,
         "_deepnote_index_column": "87c6185fc628592d048087aca565caa0"
        },
        {
         "body": "\r\nEl Presidente Andrés Manuel López Obrador informó que encontraron el cuerpo de la legisladora de …",
         "title": "Hallan el cuerpo de la legisladora de Morena Francis Anel Bueno Sánchez",
         "url": "http://www.eluniversal.com.mx/nacion/politica/hallan-el-cuerpo-de-la-legisladora-de-morena-francis-…",
         "newspaper_uid": "eluniversal",
         "host": "www.eluniversal.com.mx",
         "n_tokens_title": 8,
         "n_tokens_body": 118,
         "_deepnote_index_column": "a30c4ea9241036476ae70b498bf66c38"
        },
        {
         "body": "\r\nLeer en español\r\nAn international group archeologists discovered in Tabasco the oldest and larges…",
         "title": "Major discovery of oldest and largest Maya structure in Mexico sheds light on the rise of the ancie…",
         "url": "https://www.eluniversal.com.mx/english/major-discovery-oldest-and-largest-maya-structure-mexico-she…",
         "newspaper_uid": "eluniversal",
         "host": "www.eluniversal.com.mx",
         "n_tokens_title": 19,
         "n_tokens_body": 493,
         "_deepnote_index_column": "2c07638968264c28cdb8af2f2a293462"
        },
        {
         "body": "\r\n\r\nLa clave fue la diferencia entre lo que transfirieron al extranjero y lo que reportaron en Méxi…",
         "title": "El directivo de Cruz Azul firmó 98 cheques para sí mismo",
         "url": "https://www.eluniversal.com.mx/opinion/carlos-loret-de-mola/el-directivo-de-cruz-azul-firmo-98-cheq…",
         "newspaper_uid": "eluniversal",
         "host": "www.eluniversal.com.mx",
         "n_tokens_title": 6,
         "n_tokens_body": 249,
         "_deepnote_index_column": "94c0ebbc9df2d66d2a4a6d2298e892ad"
        },
        {
         "body": "\r\nLos limones, sin duda, no pueden faltar en nuestro refrigerador, pues le dan ese toque especial a…",
         "title": "Cómo mantener los limones frescos hasta 1 mes",
         "url": "http://www.eluniversal.com.mx/menu/como-mantener-los-limones-frescos",
         "newspaper_uid": "eluniversal",
         "host": "www.eluniversal.com.mx",
         "n_tokens_title": 5,
         "n_tokens_body": 189,
         "_deepnote_index_column": "8e346f6e7298e03a7b18573fbc3c2afb"
        },
        {
         "body": "\r\nEl Universo de la WWE vivió una semana de nostalgia, ya que se anunció que Rey Mysterio, uno de l…",
         "title": "Retiro de Rey Mysterio, el ‘circo’ de la WWE para el debut de su hijo",
         "url": "http://www.eluniversal.com.mx/universal-deportes/mas-deportes/wwe-retiro-de-rey-mysterio-el-circo-p…",
         "newspaper_uid": "eluniversal",
         "host": "www.eluniversal.com.mx",
         "n_tokens_title": 7,
         "n_tokens_body": 178,
         "_deepnote_index_column": "e4daba7b2c0b875c1a75e0119e9b4683"
        },
        {
         "body": "\r\n\r\n\r\n\r\n    googletag.cmd.push(function() {\r\n      googletag.display(\"dfp-ad-top3_content\");\r\n    }…",
         "title": "La bella heredera tapatía del ‘Perro’ Bermúdez",
         "url": "http://www.unionjalisco.mx/articulo/2020/06/01/espectaculos/la-bella-heredera-tapatia-del-perro-ber…",
         "newspaper_uid": "eluniversal",
         "host": "www.unionjalisco.mx",
         "n_tokens_title": 5,
         "n_tokens_body": 89,
         "_deepnote_index_column": "8f354ccc785c9630599c170ef0ec78fc"
        },
        {
         "body": "\r\nA partir del sábado serán 30 las personas que podrán disfrutar del \"Guernica\" en el Museo Reina S…",
         "title": "Con oferta y dos Picassos nuevos, el Reina Sofía le pone \"buena cara\" a su reapertura",
         "url": "http://www.eluniversal.com.mx/cultura/artes-visuales/el-reina-sofia-expondra-dos-picassos-ineditos-…",
         "newspaper_uid": "eluniversal",
         "host": "www.eluniversal.com.mx",
         "n_tokens_title": 10,
         "n_tokens_body": 424,
         "_deepnote_index_column": "92a88b57ef235ee7aad1aff24b3d019b"
        },
        {
         "body": "\r\nGeorge Clooney ha incendiado las redes sociales tras publicar un artículo en el diario Daily Beas…",
         "title": "George Clooney: \"El racismo es la pandemia de EU\"",
         "url": "http://www.eluniversal.com.mx/espectaculos/farandula/george-clooney-el-racismo-es-la-pandemia-de-eu",
         "newspaper_uid": "eluniversal",
         "host": "www.eluniversal.com.mx",
         "n_tokens_title": 5,
         "n_tokens_body": 224,
         "_deepnote_index_column": "8460ff9c3ba47b149a9a2fb9b08deeb5"
        },
        {
         "body": "\r\n\"The Ickabog\", el nuevo libro para niños que la escritora británica JK Rowling ha publicado gratu…",
         "title": "El cuento gratis de J.K. Rowling ya está en español",
         "url": "http://www.eluniversal.com.mx/cultura/el-cuento-gratis-de-jk-rowling-ya-esta-en-espanol",
         "newspaper_uid": "eluniversal",
         "host": "www.eluniversal.com.mx",
         "n_tokens_title": 4,
         "n_tokens_body": 244,
         "_deepnote_index_column": "9d3aa20a40033da9cf203badc6db3c69"
        },
        {
         "body": "\r\nLa titular del SAT, Raquel Buenrostro, asegura que los pagos millonarios que han obtenido de gran…",
         "title": "No es terrorismo, los convencemos: Buenrostro",
         "url": "https://www.eluniversal.com.mx/opinion/salvador-garcia-soto/no-es-terrorismo-los-convencemos-buenro…",
         "newspaper_uid": "eluniversal",
         "host": "www.eluniversal.com.mx",
         "n_tokens_title": 3,
         "n_tokens_body": 435,
         "_deepnote_index_column": "492a5478c2a2196438a5972bb39924e4"
        },
        {
         "body": "\r\n\r\nLos funcionarios de alto rango del Instituto Nacional de Estadística y Geografía (Inegi) y de l…",
         "title": "En Inegi y Cofece ganarán más que AMLO",
         "url": "http://www.eluniversal.com.mx/nacion/en-inegi-y-cofece-ganaran-mas-que-amlo",
         "newspaper_uid": "eluniversal",
         "host": "www.eluniversal.com.mx",
         "n_tokens_title": 4,
         "n_tokens_body": 50,
         "_deepnote_index_column": "5e16ee1681a13cc4a7c74e75224b3085"
        },
        {
         "body": "\r\nCientíficos en todo el mundo estudian el proceso de infección que sufre una persona al entrar en …",
         "title": "El zinc sería clave para tratamiento de Covid-19",
         "url": "http://www.eluniversal.com.mx/ciencia-y-salud/el-zinc-seria-clave-para-un-tratamiento-contra-el-cov…",
         "newspaper_uid": "eluniversal",
         "host": "www.eluniversal.com.mx",
         "n_tokens_title": 3,
         "n_tokens_body": 232,
         "_deepnote_index_column": "357c14b8f08219f18d7d8ae504c20888"
        },
        {
         "body": "\r\nCuando el periodista Brian Krebs publicó en uno de los portales más leídos del mundo, The Daily M…",
         "title": "La mafia encontró el paraíso",
         "url": "https://www.eluniversal.com.mx/opinion/hector-de-mauleon/la-mafia-encontro-el-paraiso",
         "newspaper_uid": "eluniversal",
         "host": "www.eluniversal.com.mx",
         "n_tokens_title": 3,
         "n_tokens_body": 462,
         "_deepnote_index_column": "12dad999deb7f0a535b058c855ddf481"
        },
        {
         "body": "Una víctima más de la vanidad, y de los fraudulentos personajes que se hacen pasar como especialist…",
         "title": "nan",
         "url": "https://www.elgrafico.mx/espectaculos/la-modelo-jessica-cediel-se-somete-amputacion-de-gluteos-y-co…",
         "newspaper_uid": "eluniversal",
         "host": "www.elgrafico.mx",
         "n_tokens_title": "nan",
         "n_tokens_body": "nan",
         "_deepnote_index_column": "edc4eb8946fa3d5ab11a68185a69033d"
        },
        {
         "body": "\r\nLa 64 Legislatura del Congreso de Oaxaca aprobó aplazar el inicio del proceso electoral ordinario…",
         "title": "Por pandemia, Congreso de Oaxaca aplaza hasta diciembre inicio del proceso electoral intermedio ",
         "url": "https://oaxaca.eluniversal.com.mx/politica/02-06-2020/por-pandemia-congreso-de-oaxaca-aplaza-hasta-…",
         "newspaper_uid": "eluniversal",
         "host": "oaxaca.eluniversal.com.mx",
         "n_tokens_title": 9,
         "n_tokens_body": 214,
         "_deepnote_index_column": "464b47e360547108f5a084d053f3e60e"
        },
        {
         "body": "\r\nEl presidente Andrés Manuel López Obrador solicitó a los opositores a Tren Maya respetar la decis…",
         "title": "AMLO pide a opositores a Tren Maya respetar decisión del pueblo",
         "url": "http://www.eluniversal.com.mx/nacion/amlo-pide-opositores-tren-maya-respetar-decision-del-pueblo",
         "newspaper_uid": "eluniversal",
         "host": "www.eluniversal.com.mx",
         "n_tokens_title": 8,
         "n_tokens_body": 97,
         "_deepnote_index_column": "65fb9dd92a1018ed5dd784af75291f9b"
        },
        {
         "body": "\r\nTexto: Carlos Villasana y Ruth GómezFotos actuales: Aram Ponce Franco / Cortesía\r\nEl Centro Histó…",
         "title": "El centro de reunión de los caballeros porfirianos",
         "url": "https://www.eluniversal.com.mx/opinion/mochilazo-en-el-tiempo/el-centro-de-reunion-de-los-caballero…",
         "newspaper_uid": "eluniversal",
         "host": "www.eluniversal.com.mx",
         "n_tokens_title": 4,
         "n_tokens_body": 730,
         "_deepnote_index_column": "03fc164a43ab05f43041ec67db8d056e"
        },
        {
         "body": "\r\nMarsha P. Johnson was a pioneer, LGBTQ+ activist,  drag queen, and performer. She was a prominent…",
         "title": "Marsha P. Johnson: The black transgender woman who was key in the Stonewall uprising",
         "url": "http://www.eluniversal.com.mx/english/marsha-p-johnson-black-transgender-woman-who-was-key-stonewal…",
         "newspaper_uid": "eluniversal",
         "host": "www.eluniversal.com.mx",
         "n_tokens_title": 13,
         "n_tokens_body": 423,
         "_deepnote_index_column": "21d7d9bbea15b925d3a89d1588e863cb"
        },
        {
         "body": "\r\nVaya golpe el que propinó la senadora Lilly Téllez a Morena en el Senado, pues no conforme con sa…",
         "title": "El golpe de la agente Téllez",
         "url": "https://www.eluniversal.com.mx/nacion/bajo-reserva-expres-el-golpe-de-la-agente-tellez",
         "newspaper_uid": "eluniversal",
         "host": "www.eluniversal.com.mx",
         "n_tokens_title": 3,
         "n_tokens_body": 81,
         "_deepnote_index_column": "3d32180c742f69ed4ee23ef1489a65a1"
        },
        {
         "body": "\r\n\r\nJalisco tiene 2 mil 25 casos confirmados y 167 muertos por coronavirus, de acuerdo con el repor…",
         "title": "Coronavirus Jalisco: Casos confirmados de Covid-19 al 2 de junio",
         "url": "http://www.eluniversal.com.mx/estados/coronavirus-jalisco-casos-confirmados-de-covid-19-al-2-de-jun…",
         "newspaper_uid": "eluniversal",
         "host": "www.eluniversal.com.mx",
         "n_tokens_title": 5,
         "n_tokens_body": 275,
         "_deepnote_index_column": "7b2021ce27a29ff7d1a9a858baa499e2"
        },
        {
         "body": "\r\nLa identidad de Jesús Alfonso Escoboza, mejor conocido como La Parka, fue revelada por su hija me…",
         "title": "Revelan identidad de La Parka en Tik Tok",
         "url": "http://www.eluniversal.com.mx/universal-deportes/mas-deportes/la-parka-revelan-identidad-del-histor…",
         "newspaper_uid": "eluniversal",
         "host": "www.eluniversal.com.mx",
         "n_tokens_title": 5,
         "n_tokens_body": 105,
         "_deepnote_index_column": "1e75e37388393589dab0f0233b26512c"
        },
        {
         "body": "\r\n“Fueron días muy duros para mí y mi familia. Cuando acudí al hospital, la angustia me invadió ant…",
         "title": "“La angustia me invadió ante la posibilidad de haberme contagiado de coronavirus\"",
         "url": "https://sanluis.eluniversal.com.mx/sociedad/02-06-2020/la-angustia-me-invadio-ante-la-posibilidad-d…",
         "newspaper_uid": "eluniversal",
         "host": "sanluis.eluniversal.com.mx",
         "n_tokens_title": 6,
         "n_tokens_body": 126,
         "_deepnote_index_column": "9081e83bc22fc0df25eef160c203f5a0"
        },
        {
         "body": "\r\nEl 80% de los restaurantes queretanos tiene problemas para cubrir el pago de la renta de los inmu…",
         "title": "El 80% de los restaurantes no tiene para el pago de la renta",
         "url": "https://www.eluniversalqueretaro.mx/portada/sin-recursos-para-la-renta-80-de-los-restaurantes",
         "newspaper_uid": "eluniversal",
         "host": "www.eluniversalqueretaro.mx",
         "n_tokens_title": 3,
         "n_tokens_body": 214,
         "_deepnote_index_column": "46518b475d8aef5d7327802ac758f42b"
        },
        {
         "body": "\r\nLa firma surcoreana Hyundai publicó los primeros detalles de lo que será la nueva SUV Santa Fe. L…",
         "title": "Hyundai Santa Fe 2021 se presenta en Europa",
         "url": "http://www.eluniversal.com.mx/autopistas/hyundai-santa-fe-2021-se-presenta-con-diseno-diferente-y-n…",
         "newspaper_uid": "eluniversal",
         "host": "www.eluniversal.com.mx",
         "n_tokens_title": 5,
         "n_tokens_body": 238,
         "_deepnote_index_column": "a9c815d5faf19f79c49a4deb417a8d34"
        }
       ],
       "rows_bottom": null
      },
      "text/plain": "                                                                               body  \\\nuid                                                                                   \n5f60c7cdf92aacf7b90f2e7fae67366f  \\r\\n\\r\\n\\r\\n\\r\\n    googletag.cmd.push(functio...   \n864cc985e42c8d5a1c3015f964701b66  \\r\\nEl museo del antiguo campo nazi de la muer...   \n9715c9e2a3d4909a4a66f46451119b46  \\r\\nLa Suprema Corte de Justicia de la Nación ...   \n55c827efc8fa5e3c2d653e243b54d507  \\r\\nUn grupo de funcionarios descubrió mosquit...   \n5f044ba246c3103846520f57013bc972  \\r\\nEn 1980, Héctor Suárez y Leticia Perdigón ...   \n...                                                                             ...   \n7b2021ce27a29ff7d1a9a858baa499e2  \\r\\n\\r\\nJalisco tiene 2 mil 25 casos confirmad...   \n1e75e37388393589dab0f0233b26512c  \\r\\nLa identidad de Jesús Alfonso Escoboza, me...   \n9081e83bc22fc0df25eef160c203f5a0  \\r\\n“Fueron días muy duros para mí y mi famili...   \n46518b475d8aef5d7327802ac758f42b  \\r\\nEl 80% de los restaurantes queretanos tien...   \na9c815d5faf19f79c49a4deb417a8d34  \\r\\nLa firma surcoreana Hyundai publicó los pr...   \n\n                                                                              title  \\\nuid                                                                                   \n5f60c7cdf92aacf7b90f2e7fae67366f  Las influencers tapatías que hacen temblar a Y...   \n864cc985e42c8d5a1c3015f964701b66  El museo de Auschwitz pide ayuda para sobreviv...   \n9715c9e2a3d4909a4a66f46451119b46  Corte avala que funcionarios de Banxico, INE e...   \n55c827efc8fa5e3c2d653e243b54d507                                                NaN   \n5f044ba246c3103846520f57013bc972         Héctor Suárez, zurdo y loco hasta el final   \n...                                                                             ...   \n7b2021ce27a29ff7d1a9a858baa499e2  Coronavirus Jalisco: Casos confirmados de Covi...   \n1e75e37388393589dab0f0233b26512c           Revelan identidad de La Parka en Tik Tok   \n9081e83bc22fc0df25eef160c203f5a0  “La angustia me invadió ante la posibilidad de...   \n46518b475d8aef5d7327802ac758f42b  El 80% de los restaurantes no tiene para el pa...   \na9c815d5faf19f79c49a4deb417a8d34        Hyundai Santa Fe 2021 se presenta en Europa   \n\n                                                                                url  \\\nuid                                                                                   \n5f60c7cdf92aacf7b90f2e7fae67366f  http://www.unionjalisco.mx/articulo/2020/06/02...   \n864cc985e42c8d5a1c3015f964701b66  http://www.eluniversal.com.mx/cultura/patrimon...   \n9715c9e2a3d4909a4a66f46451119b46  http://www.eluniversal.com.mx/nacion/corte-ava...   \n55c827efc8fa5e3c2d653e243b54d507  https://www.viveusa.mx/noticias/mosquitos-con-...   \n5f044ba246c3103846520f57013bc972  https://www.eluniversalqueretaro.mx/portada/he...   \n...                                                                             ...   \n7b2021ce27a29ff7d1a9a858baa499e2  http://www.eluniversal.com.mx/estados/coronavi...   \n1e75e37388393589dab0f0233b26512c  http://www.eluniversal.com.mx/universal-deport...   \n9081e83bc22fc0df25eef160c203f5a0  https://sanluis.eluniversal.com.mx/sociedad/02...   \n46518b475d8aef5d7327802ac758f42b  https://www.eluniversalqueretaro.mx/portada/si...   \na9c815d5faf19f79c49a4deb417a8d34  http://www.eluniversal.com.mx/autopistas/hyund...   \n\n                                 newspaper_uid                         host  \\\nuid                                                                           \n5f60c7cdf92aacf7b90f2e7fae67366f   eluniversal          www.unionjalisco.mx   \n864cc985e42c8d5a1c3015f964701b66   eluniversal       www.eluniversal.com.mx   \n9715c9e2a3d4909a4a66f46451119b46   eluniversal       www.eluniversal.com.mx   \n55c827efc8fa5e3c2d653e243b54d507   eluniversal               www.viveusa.mx   \n5f044ba246c3103846520f57013bc972   eluniversal  www.eluniversalqueretaro.mx   \n...                                        ...                          ...   \n7b2021ce27a29ff7d1a9a858baa499e2   eluniversal       www.eluniversal.com.mx   \n1e75e37388393589dab0f0233b26512c   eluniversal       www.eluniversal.com.mx   \n9081e83bc22fc0df25eef160c203f5a0   eluniversal   sanluis.eluniversal.com.mx   \n46518b475d8aef5d7327802ac758f42b   eluniversal  www.eluniversalqueretaro.mx   \na9c815d5faf19f79c49a4deb417a8d34   eluniversal       www.eluniversal.com.mx   \n\n                                  n_tokens_title  n_tokens_body  \nuid                                                              \n5f60c7cdf92aacf7b90f2e7fae67366f             6.0          176.0  \n864cc985e42c8d5a1c3015f964701b66             6.0          147.0  \n9715c9e2a3d4909a4a66f46451119b46             8.0          112.0  \n55c827efc8fa5e3c2d653e243b54d507             NaN            NaN  \n5f044ba246c3103846520f57013bc972             5.0          115.0  \n...                                          ...            ...  \n7b2021ce27a29ff7d1a9a858baa499e2             5.0          275.0  \n1e75e37388393589dab0f0233b26512c             5.0          105.0  \n9081e83bc22fc0df25eef160c203f5a0             6.0          126.0  \n46518b475d8aef5d7327802ac758f42b             3.0          214.0  \na9c815d5faf19f79c49a4deb417a8d34             5.0          238.0  \n\n[138 rows x 7 columns]",
      "text/html": "<div>\n<style scoped>\n    .dataframe tbody tr th:only-of-type {\n        vertical-align: middle;\n    }\n\n    .dataframe tbody tr th {\n        vertical-align: top;\n    }\n\n    .dataframe thead th {\n        text-align: right;\n    }\n</style>\n<table border=\"1\" class=\"dataframe\">\n  <thead>\n    <tr style=\"text-align: right;\">\n      <th></th>\n      <th>body</th>\n      <th>title</th>\n      <th>url</th>\n      <th>newspaper_uid</th>\n      <th>host</th>\n      <th>n_tokens_title</th>\n      <th>n_tokens_body</th>\n    </tr>\n    <tr>\n      <th>uid</th>\n      <th></th>\n      <th></th>\n      <th></th>\n      <th></th>\n      <th></th>\n      <th></th>\n      <th></th>\n    </tr>\n  </thead>\n  <tbody>\n    <tr>\n      <th>5f60c7cdf92aacf7b90f2e7fae67366f</th>\n      <td>\\r\\n\\r\\n\\r\\n\\r\\n    googletag.cmd.push(functio...</td>\n      <td>Las influencers tapatías que hacen temblar a Y...</td>\n      <td>http://www.unionjalisco.mx/articulo/2020/06/02...</td>\n      <td>eluniversal</td>\n      <td>www.unionjalisco.mx</td>\n      <td>6.0</td>\n      <td>176.0</td>\n    </tr>\n    <tr>\n      <th>864cc985e42c8d5a1c3015f964701b66</th>\n      <td>\\r\\nEl museo del antiguo campo nazi de la muer...</td>\n      <td>El museo de Auschwitz pide ayuda para sobreviv...</td>\n      <td>http://www.eluniversal.com.mx/cultura/patrimon...</td>\n      <td>eluniversal</td>\n      <td>www.eluniversal.com.mx</td>\n      <td>6.0</td>\n      <td>147.0</td>\n    </tr>\n    <tr>\n      <th>9715c9e2a3d4909a4a66f46451119b46</th>\n      <td>\\r\\nLa Suprema Corte de Justicia de la Nación ...</td>\n      <td>Corte avala que funcionarios de Banxico, INE e...</td>\n      <td>http://www.eluniversal.com.mx/nacion/corte-ava...</td>\n      <td>eluniversal</td>\n      <td>www.eluniversal.com.mx</td>\n      <td>8.0</td>\n      <td>112.0</td>\n    </tr>\n    <tr>\n      <th>55c827efc8fa5e3c2d653e243b54d507</th>\n      <td>\\r\\nUn grupo de funcionarios descubrió mosquit...</td>\n      <td>NaN</td>\n      <td>https://www.viveusa.mx/noticias/mosquitos-con-...</td>\n      <td>eluniversal</td>\n      <td>www.viveusa.mx</td>\n      <td>NaN</td>\n      <td>NaN</td>\n    </tr>\n    <tr>\n      <th>5f044ba246c3103846520f57013bc972</th>\n      <td>\\r\\nEn 1980, Héctor Suárez y Leticia Perdigón ...</td>\n      <td>Héctor Suárez, zurdo y loco hasta el final</td>\n      <td>https://www.eluniversalqueretaro.mx/portada/he...</td>\n      <td>eluniversal</td>\n      <td>www.eluniversalqueretaro.mx</td>\n      <td>5.0</td>\n      <td>115.0</td>\n    </tr>\n    <tr>\n      <th>...</th>\n      <td>...</td>\n      <td>...</td>\n      <td>...</td>\n      <td>...</td>\n      <td>...</td>\n      <td>...</td>\n      <td>...</td>\n    </tr>\n    <tr>\n      <th>7b2021ce27a29ff7d1a9a858baa499e2</th>\n      <td>\\r\\n\\r\\nJalisco tiene 2 mil 25 casos confirmad...</td>\n      <td>Coronavirus Jalisco: Casos confirmados de Covi...</td>\n      <td>http://www.eluniversal.com.mx/estados/coronavi...</td>\n      <td>eluniversal</td>\n      <td>www.eluniversal.com.mx</td>\n      <td>5.0</td>\n      <td>275.0</td>\n    </tr>\n    <tr>\n      <th>1e75e37388393589dab0f0233b26512c</th>\n      <td>\\r\\nLa identidad de Jesús Alfonso Escoboza, me...</td>\n      <td>Revelan identidad de La Parka en Tik Tok</td>\n      <td>http://www.eluniversal.com.mx/universal-deport...</td>\n      <td>eluniversal</td>\n      <td>www.eluniversal.com.mx</td>\n      <td>5.0</td>\n      <td>105.0</td>\n    </tr>\n    <tr>\n      <th>9081e83bc22fc0df25eef160c203f5a0</th>\n      <td>\\r\\n“Fueron días muy duros para mí y mi famili...</td>\n      <td>“La angustia me invadió ante la posibilidad de...</td>\n      <td>https://sanluis.eluniversal.com.mx/sociedad/02...</td>\n      <td>eluniversal</td>\n      <td>sanluis.eluniversal.com.mx</td>\n      <td>6.0</td>\n      <td>126.0</td>\n    </tr>\n    <tr>\n      <th>46518b475d8aef5d7327802ac758f42b</th>\n      <td>\\r\\nEl 80% de los restaurantes queretanos tien...</td>\n      <td>El 80% de los restaurantes no tiene para el pa...</td>\n      <td>https://www.eluniversalqueretaro.mx/portada/si...</td>\n      <td>eluniversal</td>\n      <td>www.eluniversalqueretaro.mx</td>\n      <td>3.0</td>\n      <td>214.0</td>\n    </tr>\n    <tr>\n      <th>a9c815d5faf19f79c49a4deb417a8d34</th>\n      <td>\\r\\nLa firma surcoreana Hyundai publicó los pr...</td>\n      <td>Hyundai Santa Fe 2021 se presenta en Europa</td>\n      <td>http://www.eluniversal.com.mx/autopistas/hyund...</td>\n      <td>eluniversal</td>\n      <td>www.eluniversal.com.mx</td>\n      <td>5.0</td>\n      <td>238.0</td>\n    </tr>\n  </tbody>\n</table>\n<p>138 rows × 7 columns</p>\n</div>"
     },
     "metadata": {}
    }
   ]
  },
  {
   "cell_type": "code",
   "metadata": {
    "tags": [],
    "cell_id": "00038-d9987590-31ce-4d48-9799-9dac6866003c",
    "deepnote_to_be_reexecuted": false,
    "source_hash": "eeb612a2",
    "execution_start": 1630367549864,
    "execution_millis": 43,
    "deepnote_cell_type": "code"
   },
   "source": "el_universal.loc[missing_title_mask, 'title'] = missing_title.loc[:, 'missing_title']",
   "execution_count": 20,
   "outputs": [
    {
     "output_type": "error",
     "ename": "IndexingError",
     "evalue": "(0      False\n1      False\n2      False\n3       True\n4      False\n       ...  \n133    False\n134    False\n135    False\n136    False\n137    False\nName: title, Length: 138, dtype: bool, 'title')",
     "traceback": [
      "\u001b[0;31m---------------------------------------------------------------------------\u001b[0m",
      "\u001b[0;31mTypeError\u001b[0m                                 Traceback (most recent call last)",
      "\u001b[0;32m/shared-libs/python3.7/py/lib/python3.7/site-packages/pandas/core/indexing.py\u001b[0m in \u001b[0;36m_get_setitem_indexer\u001b[0;34m(self, key)\u001b[0m\n\u001b[1;32m    635\u001b[0m         \u001b[0;32mtry\u001b[0m\u001b[0;34m:\u001b[0m\u001b[0;34m\u001b[0m\u001b[0;34m\u001b[0m\u001b[0m\n\u001b[0;32m--> 636\u001b[0;31m             \u001b[0;32mreturn\u001b[0m \u001b[0mself\u001b[0m\u001b[0;34m.\u001b[0m\u001b[0m_convert_to_indexer\u001b[0m\u001b[0;34m(\u001b[0m\u001b[0mkey\u001b[0m\u001b[0;34m,\u001b[0m \u001b[0maxis\u001b[0m\u001b[0;34m=\u001b[0m\u001b[0;36m0\u001b[0m\u001b[0;34m,\u001b[0m \u001b[0mis_setter\u001b[0m\u001b[0;34m=\u001b[0m\u001b[0;32mTrue\u001b[0m\u001b[0;34m)\u001b[0m\u001b[0;34m\u001b[0m\u001b[0;34m\u001b[0m\u001b[0m\n\u001b[0m\u001b[1;32m    637\u001b[0m         \u001b[0;32mexcept\u001b[0m \u001b[0mTypeError\u001b[0m \u001b[0;32mas\u001b[0m \u001b[0me\u001b[0m\u001b[0;34m:\u001b[0m\u001b[0;34m\u001b[0m\u001b[0;34m\u001b[0m\u001b[0m\n",
      "\u001b[0;32m/shared-libs/python3.7/py/lib/python3.7/site-packages/pandas/core/indexing.py\u001b[0m in \u001b[0;36m_convert_to_indexer\u001b[0;34m(self, key, axis, is_setter)\u001b[0m\n\u001b[1;32m   1211\u001b[0m                 \u001b[0;31m# When setting, missing keys are not allowed, even with .loc:\u001b[0m\u001b[0;34m\u001b[0m\u001b[0;34m\u001b[0m\u001b[0;34m\u001b[0m\u001b[0m\n\u001b[0;32m-> 1212\u001b[0;31m                 \u001b[0;32mreturn\u001b[0m \u001b[0mself\u001b[0m\u001b[0;34m.\u001b[0m\u001b[0m_get_listlike_indexer\u001b[0m\u001b[0;34m(\u001b[0m\u001b[0mkey\u001b[0m\u001b[0;34m,\u001b[0m \u001b[0maxis\u001b[0m\u001b[0;34m,\u001b[0m \u001b[0mraise_missing\u001b[0m\u001b[0;34m=\u001b[0m\u001b[0;32mTrue\u001b[0m\u001b[0;34m)\u001b[0m\u001b[0;34m[\u001b[0m\u001b[0;36m1\u001b[0m\u001b[0;34m]\u001b[0m\u001b[0;34m\u001b[0m\u001b[0;34m\u001b[0m\u001b[0m\n\u001b[0m\u001b[1;32m   1213\u001b[0m         \u001b[0;32melse\u001b[0m\u001b[0;34m:\u001b[0m\u001b[0;34m\u001b[0m\u001b[0;34m\u001b[0m\u001b[0m\n",
      "\u001b[0;32m/shared-libs/python3.7/py/lib/python3.7/site-packages/pandas/core/indexing.py\u001b[0m in \u001b[0;36m_get_listlike_indexer\u001b[0;34m(self, key, axis, raise_missing)\u001b[0m\n\u001b[1;32m   1260\u001b[0m         \u001b[0;32mif\u001b[0m \u001b[0max\u001b[0m\u001b[0;34m.\u001b[0m\u001b[0m_index_as_unique\u001b[0m\u001b[0;34m:\u001b[0m\u001b[0;34m\u001b[0m\u001b[0;34m\u001b[0m\u001b[0m\n\u001b[0;32m-> 1261\u001b[0;31m             \u001b[0mindexer\u001b[0m \u001b[0;34m=\u001b[0m \u001b[0max\u001b[0m\u001b[0;34m.\u001b[0m\u001b[0mget_indexer_for\u001b[0m\u001b[0;34m(\u001b[0m\u001b[0mkeyarr\u001b[0m\u001b[0;34m)\u001b[0m\u001b[0;34m\u001b[0m\u001b[0;34m\u001b[0m\u001b[0m\n\u001b[0m\u001b[1;32m   1262\u001b[0m             \u001b[0mkeyarr\u001b[0m \u001b[0;34m=\u001b[0m \u001b[0max\u001b[0m\u001b[0;34m.\u001b[0m\u001b[0mreindex\u001b[0m\u001b[0;34m(\u001b[0m\u001b[0mkeyarr\u001b[0m\u001b[0;34m)\u001b[0m\u001b[0;34m[\u001b[0m\u001b[0;36m0\u001b[0m\u001b[0;34m]\u001b[0m\u001b[0;34m\u001b[0m\u001b[0;34m\u001b[0m\u001b[0m\n",
      "\u001b[0;32m/shared-libs/python3.7/py/lib/python3.7/site-packages/pandas/core/indexes/base.py\u001b[0m in \u001b[0;36mget_indexer_for\u001b[0;34m(self, target, **kwargs)\u001b[0m\n\u001b[1;32m   4960\u001b[0m         \u001b[0;32mif\u001b[0m \u001b[0mself\u001b[0m\u001b[0;34m.\u001b[0m\u001b[0m_index_as_unique\u001b[0m\u001b[0;34m:\u001b[0m\u001b[0;34m\u001b[0m\u001b[0;34m\u001b[0m\u001b[0m\n\u001b[0;32m-> 4961\u001b[0;31m             \u001b[0;32mreturn\u001b[0m \u001b[0mself\u001b[0m\u001b[0;34m.\u001b[0m\u001b[0mget_indexer\u001b[0m\u001b[0;34m(\u001b[0m\u001b[0mtarget\u001b[0m\u001b[0;34m,\u001b[0m \u001b[0;34m**\u001b[0m\u001b[0mkwargs\u001b[0m\u001b[0;34m)\u001b[0m\u001b[0;34m\u001b[0m\u001b[0;34m\u001b[0m\u001b[0m\n\u001b[0m\u001b[1;32m   4962\u001b[0m         \u001b[0mindexer\u001b[0m\u001b[0;34m,\u001b[0m \u001b[0m_\u001b[0m \u001b[0;34m=\u001b[0m \u001b[0mself\u001b[0m\u001b[0;34m.\u001b[0m\u001b[0mget_indexer_non_unique\u001b[0m\u001b[0;34m(\u001b[0m\u001b[0mtarget\u001b[0m\u001b[0;34m)\u001b[0m\u001b[0;34m\u001b[0m\u001b[0;34m\u001b[0m\u001b[0m\n",
      "\u001b[0;32m/shared-libs/python3.7/py/lib/python3.7/site-packages/pandas/core/indexes/base.py\u001b[0m in \u001b[0;36mget_indexer\u001b[0;34m(self, target, method, limit, tolerance)\u001b[0m\n\u001b[1;32m   3191\u001b[0m \u001b[0;34m\u001b[0m\u001b[0m\n\u001b[0;32m-> 3192\u001b[0;31m             \u001b[0mindexer\u001b[0m \u001b[0;34m=\u001b[0m \u001b[0mself\u001b[0m\u001b[0;34m.\u001b[0m\u001b[0m_engine\u001b[0m\u001b[0;34m.\u001b[0m\u001b[0mget_indexer\u001b[0m\u001b[0;34m(\u001b[0m\u001b[0mtarget\u001b[0m\u001b[0;34m.\u001b[0m\u001b[0m_get_engine_target\u001b[0m\u001b[0;34m(\u001b[0m\u001b[0;34m)\u001b[0m\u001b[0;34m)\u001b[0m\u001b[0;34m\u001b[0m\u001b[0;34m\u001b[0m\u001b[0m\n\u001b[0m\u001b[1;32m   3193\u001b[0m \u001b[0;34m\u001b[0m\u001b[0m\n",
      "\u001b[0;32mpandas/_libs/index.pyx\u001b[0m in \u001b[0;36mpandas._libs.index.IndexEngine.get_indexer\u001b[0;34m()\u001b[0m\n",
      "\u001b[0;32mpandas/_libs/hashtable_class_helper.pxi\u001b[0m in \u001b[0;36mpandas._libs.hashtable.PyObjectHashTable.lookup\u001b[0;34m()\u001b[0m\n",
      "\u001b[0;32m/shared-libs/python3.7/py/lib/python3.7/site-packages/pandas/core/generic.py\u001b[0m in \u001b[0;36m__hash__\u001b[0;34m(self)\u001b[0m\n\u001b[1;32m   1785\u001b[0m         raise TypeError(\n\u001b[0;32m-> 1786\u001b[0;31m             \u001b[0;34mf\"{repr(type(self).__name__)} objects are mutable, \"\u001b[0m\u001b[0;34m\u001b[0m\u001b[0;34m\u001b[0m\u001b[0m\n\u001b[0m\u001b[1;32m   1787\u001b[0m             \u001b[0;34mf\"thus they cannot be hashed\"\u001b[0m\u001b[0;34m\u001b[0m\u001b[0;34m\u001b[0m\u001b[0m\n",
      "\u001b[0;31mTypeError\u001b[0m: 'Series' objects are mutable, thus they cannot be hashed",
      "\nThe above exception was the direct cause of the following exception:\n",
      "\u001b[0;31mIndexingError\u001b[0m                             Traceback (most recent call last)",
      "\u001b[0;32m/tmp/ipykernel_300/137495224.py\u001b[0m in \u001b[0;36m<module>\u001b[0;34m\u001b[0m\n\u001b[0;32m----> 1\u001b[0;31m \u001b[0mel_universal\u001b[0m\u001b[0;34m.\u001b[0m\u001b[0mloc\u001b[0m\u001b[0;34m[\u001b[0m\u001b[0mmissing_title_mask\u001b[0m\u001b[0;34m,\u001b[0m \u001b[0;34m'title'\u001b[0m\u001b[0;34m]\u001b[0m \u001b[0;34m=\u001b[0m \u001b[0mmissing_title\u001b[0m\u001b[0;34m.\u001b[0m\u001b[0mloc\u001b[0m\u001b[0;34m[\u001b[0m\u001b[0;34m:\u001b[0m\u001b[0;34m,\u001b[0m \u001b[0;34m'missing_title'\u001b[0m\u001b[0;34m]\u001b[0m\u001b[0;34m\u001b[0m\u001b[0;34m\u001b[0m\u001b[0m\n\u001b[0m",
      "\u001b[0;32m/shared-libs/python3.7/py/lib/python3.7/site-packages/pandas/core/indexing.py\u001b[0m in \u001b[0;36m__setitem__\u001b[0;34m(self, key, value)\u001b[0m\n\u001b[1;32m    686\u001b[0m         \u001b[0;32melse\u001b[0m\u001b[0;34m:\u001b[0m\u001b[0;34m\u001b[0m\u001b[0;34m\u001b[0m\u001b[0m\n\u001b[1;32m    687\u001b[0m             \u001b[0mkey\u001b[0m \u001b[0;34m=\u001b[0m \u001b[0mcom\u001b[0m\u001b[0;34m.\u001b[0m\u001b[0mapply_if_callable\u001b[0m\u001b[0;34m(\u001b[0m\u001b[0mkey\u001b[0m\u001b[0;34m,\u001b[0m \u001b[0mself\u001b[0m\u001b[0;34m.\u001b[0m\u001b[0mobj\u001b[0m\u001b[0;34m)\u001b[0m\u001b[0;34m\u001b[0m\u001b[0;34m\u001b[0m\u001b[0m\n\u001b[0;32m--> 688\u001b[0;31m         \u001b[0mindexer\u001b[0m \u001b[0;34m=\u001b[0m \u001b[0mself\u001b[0m\u001b[0;34m.\u001b[0m\u001b[0m_get_setitem_indexer\u001b[0m\u001b[0;34m(\u001b[0m\u001b[0mkey\u001b[0m\u001b[0;34m)\u001b[0m\u001b[0;34m\u001b[0m\u001b[0;34m\u001b[0m\u001b[0m\n\u001b[0m\u001b[1;32m    689\u001b[0m         \u001b[0mself\u001b[0m\u001b[0;34m.\u001b[0m\u001b[0m_has_valid_setitem_indexer\u001b[0m\u001b[0;34m(\u001b[0m\u001b[0mkey\u001b[0m\u001b[0;34m)\u001b[0m\u001b[0;34m\u001b[0m\u001b[0;34m\u001b[0m\u001b[0m\n\u001b[1;32m    690\u001b[0m \u001b[0;34m\u001b[0m\u001b[0m\n",
      "\u001b[0;32m/shared-libs/python3.7/py/lib/python3.7/site-packages/pandas/core/indexing.py\u001b[0m in \u001b[0;36m_get_setitem_indexer\u001b[0;34m(self, key)\u001b[0m\n\u001b[1;32m    642\u001b[0m             \u001b[0;32melif\u001b[0m \u001b[0;34m\"unhashable type\"\u001b[0m \u001b[0;32min\u001b[0m \u001b[0mstr\u001b[0m\u001b[0;34m(\u001b[0m\u001b[0me\u001b[0m\u001b[0;34m)\u001b[0m\u001b[0;34m:\u001b[0m\u001b[0;34m\u001b[0m\u001b[0;34m\u001b[0m\u001b[0m\n\u001b[1;32m    643\u001b[0m                 \u001b[0;32mraise\u001b[0m\u001b[0;34m\u001b[0m\u001b[0;34m\u001b[0m\u001b[0m\n\u001b[0;32m--> 644\u001b[0;31m             \u001b[0;32mraise\u001b[0m \u001b[0mIndexingError\u001b[0m\u001b[0;34m(\u001b[0m\u001b[0mkey\u001b[0m\u001b[0;34m)\u001b[0m \u001b[0;32mfrom\u001b[0m \u001b[0me\u001b[0m\u001b[0;34m\u001b[0m\u001b[0;34m\u001b[0m\u001b[0m\n\u001b[0m\u001b[1;32m    645\u001b[0m \u001b[0;34m\u001b[0m\u001b[0m\n\u001b[1;32m    646\u001b[0m     \u001b[0;32mdef\u001b[0m \u001b[0m_ensure_listlike_indexer\u001b[0m\u001b[0;34m(\u001b[0m\u001b[0mself\u001b[0m\u001b[0;34m,\u001b[0m \u001b[0mkey\u001b[0m\u001b[0;34m,\u001b[0m \u001b[0maxis\u001b[0m\u001b[0;34m=\u001b[0m\u001b[0;32mNone\u001b[0m\u001b[0;34m,\u001b[0m \u001b[0mvalue\u001b[0m\u001b[0;34m=\u001b[0m\u001b[0;32mNone\u001b[0m\u001b[0;34m)\u001b[0m\u001b[0;34m:\u001b[0m\u001b[0;34m\u001b[0m\u001b[0;34m\u001b[0m\u001b[0m\n",
      "\u001b[0;31mIndexingError\u001b[0m: (0      False\n1      False\n2      False\n3       True\n4      False\n       ...  \n133    False\n134    False\n135    False\n136    False\n137    False\nName: title, Length: 138, dtype: bool, 'title')"
     ]
    }
   ]
  },
  {
   "cell_type": "markdown",
   "source": "## Duplicate values",
   "metadata": {
    "tags": [],
    "cell_id": "00038-6605f024-82e9-48ef-b9ee-2c703624ed64",
    "deepnote_cell_type": "markdown"
   }
  },
  {
   "cell_type": "markdown",
   "source": "### 7. Eliminar duplicados",
   "metadata": {
    "tags": [],
    "cell_id": "00040-c728620e-783e-43fa-be34-c85d8e50b655",
    "deepnote_cell_type": "markdown"
   }
  },
  {
   "cell_type": "code",
   "metadata": {
    "tags": [],
    "cell_id": "00041-2f7413aa-2600-4cce-a725-005ba15b185d",
    "deepnote_to_be_reexecuted": false,
    "source_hash": "8fed8007",
    "execution_start": 1630367551610,
    "execution_millis": 22,
    "deepnote_cell_type": "code"
   },
   "source": "el_universal['title'].value_counts()\n# el_universal[el_universal['title'] == '10 trucos para convertirte en un master de instagram']",
   "execution_count": 21,
   "outputs": [
    {
     "output_type": "execute_result",
     "execution_count": 21,
     "data": {
      "text/plain": "Citas para verificar Edomex 2020: Entérate                                                     1\nAdmisión BUAP 2020: Examen de admisión se pospone                                              1\nConeval: letalidad del Covid es alta en municipios pobres                                      1\nFiscal acusará de homicidio en segundo grado a Derek Chauvin; implicará a tres policías más    1\nVan mandatarios del Centro por mismo semáforo para nueva normalidad                            1\n                                                                                              ..\nA transparentar el futbol mexicano                                                             1\n¿Quiénes pagan el IVA a servicios digitales? El SAT te lo dice                                 1\nGeorge Clooney: \"El racismo es la pandemia de EU\"                                              1\nEl museo de Auschwitz pide ayuda para sobrevivir la pandemia                                   1\nEstas son las fechas para finalizar clases e iniciar ciclo escolar 2020-2021 en Edomex         1\nName: title, Length: 110, dtype: int64"
     },
     "metadata": {}
    }
   ]
  },
  {
   "cell_type": "code",
   "metadata": {
    "tags": [],
    "cell_id": "00042-ec9d0c78-7f91-4dee-84f5-4c7192558c3e",
    "deepnote_to_be_reexecuted": false,
    "source_hash": "506087a6",
    "execution_start": 1630367552196,
    "execution_millis": 0,
    "deepnote_cell_type": "code"
   },
   "source": "el_universal.drop_duplicates(subset=['title'], keep='first', inplace=True)",
   "execution_count": 22,
   "outputs": []
  },
  {
   "cell_type": "code",
   "metadata": {
    "tags": [],
    "cell_id": "00043-d43adfe7-dd62-4bf8-8cb1-9b738ac471a3",
    "deepnote_to_be_reexecuted": false,
    "source_hash": "683865e0",
    "execution_start": 1630367553758,
    "execution_millis": 46,
    "deepnote_cell_type": "code"
   },
   "source": "el_universal",
   "execution_count": 23,
   "outputs": [
    {
     "output_type": "execute_result",
     "execution_count": 23,
     "data": {
      "application/vnd.deepnote.dataframe.v2+json": {
       "row_count": 111,
       "column_count": 7,
       "columns": [
        {
         "name": "body",
         "dtype": "object",
         "stats": {
          "unique_count": 111,
          "nan_count": 0,
          "categories": [
           {
            "name": "\r\n\r\n\r\n\r\n    googletag.cmd.push(function() {\r\n      googletag.display(\"dfp-ad-top3_content\");\r\n    });\r\n  \r\n\r\n\r\nYanet García se consolidó como una de las consentidas en redes sociales por su labor en la pantalla chica, contrario a estas bellezas tapatías que primero saltaron del Instagram para retar a la famosa chica del clima regiomontana.\r\nSus millones de seguidores presumen que la influencer Yuliett Torres pose mejores curvas que la ex conductora de Hoy y de no ser por estar bloqueada por famosas de la farándula nacional la modelo ya estaría en programas de altos niveles de audiencia.\r\nParece que muy a pesar de Yanet, Yuliett se está abriendo camino en el espectáculo mexicano con intervenciones en videoclips de gruperos y por los patrocinadores que pagan jugosas sumas para ser su imagen.\r\nOtro factor a considerar son los videos subidos de tono que publica en sus redes sociales y que con el tiempo le permite aparecer como portadas en medios nacionales e incluso internacionales.\r\nMary Baltazar, modelo de Instagram con más de 2.8 millones de fans, es sin duda una tapatía que pone a temblar a Yanet García. \r\nAlgunas personas sostienen que la anatomía de la influencer es más natural y por ello debería de ser elegida como la más guapa.\r\nIncluso refieren que las fotos de Mary despiertan la envida de la regiomontana por que siempre luce espectacular y casi no se le hacen retoques.\r\nLa tapatía logró saltar de la comunidad virtual a las pasarelas, donde se mantiene como una de las modelos más solicitadas por anunciantes de nuestro país.\r\nEn las últimas semanas otra que se sumó a la disputa de la corona por la influencer con mejor retaguardia fue Dafne Cosío, ‘La Barbie tapatía’, quien gracias a sus consejos pudo colaborar con el autor de la canción ‘Tusa’.\r\nLa bella escribió el tema ”Requisito\" junto con con Keytin, autor del sonado tema de Karol G y Nicky Minaj.\r\nDafne comenzó a tocar el piano, estudiar solfeo, y durante 12 años se ha preparado para darlo todo en el mundo de la música; así como es bailarina de ballet y tahitiano.\r\nVER: \r\nJugadora de Chivas pone a temblar aYanet  García\r\n",
            "count": 1
           },
           {
            "name": "\r\nEl museo del antiguo campo nazi de la muerte Auschwitz-Birkenau, cerrado desde mediados de marzo por la pandemia de coronavirus, pidió el miércoles ayuda financiera.\r\nEn 2020 se celebró el 75 aniversario de la liberación de Auschwitz-Birkenau, convertido en símbolo de todos los campos de exterminio donde murieron cerca de la mitad de los 6 millones de judíos asesinados durante el Holocausto, así como centenares de miles de personas de otros orígenes.\r\n \r\n\r\n\r\n\r\n \r\n\r\n\r\n \r\n\r\n \r\n\r\n\r\n\r\n \r\n\r\n\r\n\r\n\r\nView this post on Instagram\r\n\r\n\r\n \r\n\r\n\r\n\r\n \r\n\r\n \r\n\r\n \r\n\r\n\r\n\r\n \r\n\r\n \r\n\r\n\r\n\r\n \r\n\r\n \r\n\r\n \r\n\r\n\r\n\r\nThe history of Auschwitz is actually 1,300,000 individual stories of individuals deported. . . --- Photo by @robertofranchiniphoto --- . . #Auschwitz #Birkenau #AuschwitzMemorial #Nazi #Germany #concentrationcamp #extermination #genocide #history #Holocaust #Shoah #Jews #Poles #Roma #people #life #death #humanity #humiliation #dehumanization #remembrance #commemoration #memory #museum #Poland #igerspoland #UNESCO #worldheritage #worldHeritagelist @unesco #photography\r\n\r\nA post shared by  Auschwitz Memorial and Museum (@auschwitzmemorial) on Feb 2, 2020 at 11:10pm PST\r\n\r\n\r\n\r\n\"Pedimos ayuda financiera por parte de todos los que consideran necesario preservar la memoria\", se lee en un comunicado publicado en la web del museo.\r\n\"El presupuesto de 2020 se hundió\", dice el texto, pese al \"apoyo particular\" del ministerio polaco de la Cultura y la Fundación Internacional Auschwitz-Birkenau que permite mantener el empleo y continuar las obras de mantenimiento de los vestigios de este antiguo campo de la muerte.\r\nSin embargo el museo no tiene fondos para sus actividades educativas, editoriales y para sus exposiciones.\r\nEl memorial de Auschwitz-Birkenau está cerrado desde el 12 de marzo y no podrá abrir hasta principios de julio según su web.\r\nfjb\r\n",
            "count": 1
           },
           {
            "name": "109 others",
            "count": 109
           }
          ]
         }
        },
        {
         "name": "title",
         "dtype": "object",
         "stats": {
          "unique_count": 110,
          "nan_count": 1,
          "categories": [
           {
            "name": "Las influencers tapatías que hacen temblar a Yanet García",
            "count": 1
           },
           {
            "name": "109 others",
            "count": 109
           },
           {
            "name": "Missing",
            "count": 1
           }
          ]
         }
        },
        {
         "name": "url",
         "dtype": "object",
         "stats": {
          "unique_count": 111,
          "nan_count": 0,
          "categories": [
           {
            "name": "http://www.unionjalisco.mx/articulo/2020/06/02/espectaculos/las-influencers-tapatias-que-hacen-temblar-yanet-garcia",
            "count": 1
           },
           {
            "name": "http://www.eluniversal.com.mx/cultura/patrimonio/coronavirus-el-museo-de-auschwitz-pide-ayuda-para-sobrevivir-la-pandemia",
            "count": 1
           },
           {
            "name": "109 others",
            "count": 109
           }
          ]
         }
        },
        {
         "name": "newspaper_uid",
         "dtype": "object",
         "stats": {
          "unique_count": 1,
          "nan_count": 0,
          "categories": [
           {
            "name": "eluniversal",
            "count": 111
           }
          ]
         }
        },
        {
         "name": "host",
         "dtype": "object",
         "stats": {
          "unique_count": 11,
          "nan_count": 0,
          "categories": [
           {
            "name": "www.eluniversal.com.mx",
            "count": 79
           },
           {
            "name": "www.eluniversalqueretaro.mx",
            "count": 6
           },
           {
            "name": "9 others",
            "count": 26
           }
          ]
         }
        },
        {
         "name": "n_tokens_title",
         "dtype": "float64",
         "stats": {
          "unique_count": 13,
          "nan_count": 1,
          "min": "1.0",
          "max": "19.0",
          "histogram": [
           {
            "bin_start": 1,
            "bin_end": 2.8,
            "count": 5
           },
           {
            "bin_start": 2.8,
            "bin_end": 4.6,
            "count": 21
           },
           {
            "bin_start": 4.6,
            "bin_end": 6.4,
            "count": 45
           },
           {
            "bin_start": 6.4,
            "bin_end": 8.2,
            "count": 31
           },
           {
            "bin_start": 8.2,
            "bin_end": 10,
            "count": 2
           },
           {
            "bin_start": 10,
            "bin_end": 11.8,
            "count": 4
           },
           {
            "bin_start": 11.8,
            "bin_end": 13.6,
            "count": 1
           },
           {
            "bin_start": 13.6,
            "bin_end": 15.4,
            "count": 0
           },
           {
            "bin_start": 15.4,
            "bin_end": 17.2,
            "count": 0
           },
           {
            "bin_start": 17.2,
            "bin_end": 19,
            "count": 1
           }
          ]
         }
        },
        {
         "name": "n_tokens_body",
         "dtype": "float64",
         "stats": {
          "unique_count": 98,
          "nan_count": 1,
          "min": "50.0",
          "max": "1671.0",
          "histogram": [
           {
            "bin_start": 50,
            "bin_end": 212.1,
            "count": 47
           },
           {
            "bin_start": 212.1,
            "bin_end": 374.2,
            "count": 40
           },
           {
            "bin_start": 374.2,
            "bin_end": 536.3,
            "count": 10
           },
           {
            "bin_start": 536.3,
            "bin_end": 698.4,
            "count": 2
           },
           {
            "bin_start": 698.4,
            "bin_end": 860.5,
            "count": 2
           },
           {
            "bin_start": 860.5,
            "bin_end": 1022.5999999999999,
            "count": 2
           },
           {
            "bin_start": 1022.5999999999999,
            "bin_end": 1184.7,
            "count": 4
           },
           {
            "bin_start": 1184.7,
            "bin_end": 1346.8,
            "count": 2
           },
           {
            "bin_start": 1346.8,
            "bin_end": 1508.8999999999999,
            "count": 0
           },
           {
            "bin_start": 1508.8999999999999,
            "bin_end": 1671,
            "count": 1
           }
          ]
         }
        },
        {
         "name": "_deepnote_index_column",
         "dtype": "object"
        }
       ],
       "rows_top": [
        {
         "body": "\r\n\r\n\r\n\r\n    googletag.cmd.push(function() {\r\n      googletag.display(\"dfp-ad-top3_content\");\r\n    }…",
         "title": "Las influencers tapatías que hacen temblar a Yanet García",
         "url": "http://www.unionjalisco.mx/articulo/2020/06/02/espectaculos/las-influencers-tapatias-que-hacen-temb…",
         "newspaper_uid": "eluniversal",
         "host": "www.unionjalisco.mx",
         "n_tokens_title": 6,
         "n_tokens_body": 176,
         "_deepnote_index_column": "5f60c7cdf92aacf7b90f2e7fae67366f"
        },
        {
         "body": "\r\nEl museo del antiguo campo nazi de la muerte Auschwitz-Birkenau, cerrado desde mediados de marzo …",
         "title": "El museo de Auschwitz pide ayuda para sobrevivir la pandemia",
         "url": "http://www.eluniversal.com.mx/cultura/patrimonio/coronavirus-el-museo-de-auschwitz-pide-ayuda-para-…",
         "newspaper_uid": "eluniversal",
         "host": "www.eluniversal.com.mx",
         "n_tokens_title": 6,
         "n_tokens_body": 147,
         "_deepnote_index_column": "864cc985e42c8d5a1c3015f964701b66"
        },
        {
         "body": "\r\nLa Suprema Corte de Justicia de la Nación (SCJN) avaló que funcionarios del Banco de México (Banx…",
         "title": "Corte avala que funcionarios de Banxico, INE e IFT ganen más que AMLO",
         "url": "http://www.eluniversal.com.mx/nacion/corte-avala-que-funcionarios-de-banxico-ine-e-ift-ganen-mas-qu…",
         "newspaper_uid": "eluniversal",
         "host": "www.eluniversal.com.mx",
         "n_tokens_title": 8,
         "n_tokens_body": 112,
         "_deepnote_index_column": "9715c9e2a3d4909a4a66f46451119b46"
        },
        {
         "body": "\r\nUn grupo de funcionarios descubrió mosquitos infectados con el virus del Nilo Occidental al sur d…",
         "title": "nan",
         "url": "https://www.viveusa.mx/noticias/mosquitos-con-el-virus-del-nilo-occidental-llegan-california",
         "newspaper_uid": "eluniversal",
         "host": "www.viveusa.mx",
         "n_tokens_title": "nan",
         "n_tokens_body": "nan",
         "_deepnote_index_column": "55c827efc8fa5e3c2d653e243b54d507"
        },
        {
         "body": "\r\nEn 1980, Héctor Suárez y Leticia Perdigón nunca se llamaron por su nombre. Los dos formaban parte…",
         "title": "Héctor Suárez, zurdo y loco hasta el final",
         "url": "https://www.eluniversalqueretaro.mx/portada/hector-suarez-zurdo-y-loco-hasta-el-final-zurdo-y-loco-…",
         "newspaper_uid": "eluniversal",
         "host": "www.eluniversalqueretaro.mx",
         "n_tokens_title": 5,
         "n_tokens_body": 115,
         "_deepnote_index_column": "5f044ba246c3103846520f57013bc972"
        },
        {
         "body": "\r\nEl fiscal general Keith Ellison planea elevar los cargos contra Derek Chauvin, el expolicía de Mi…",
         "title": "Fiscal acusará de homicidio en segundo grado a Derek Chauvin; implicará a tres policías más",
         "url": "http://www.eluniversal.com.mx/mundo/george-floyd-fiscal-acusara-de-homicidio-en-segundo-grado-derek…",
         "newspaper_uid": "eluniversal",
         "host": "www.eluniversal.com.mx",
         "n_tokens_title": 10,
         "n_tokens_body": 89,
         "_deepnote_index_column": "fa3dd79e5d37aaf14b413e3622e6c969"
        },
        {
         "body": "\r\n\r\n\r\n\r\n    googletag.cmd.push(function() {\r\n      googletag.display(\"dfp-ad-top3_content\");\r\n    }…",
         "title": "Citas para verificar Edomex 2020: Entérate ",
         "url": "http://www.unionedomex.mx/articulo/2020/06/02/gente/citas-para-verificar-edomex-2020-enterate",
         "newspaper_uid": "eluniversal",
         "host": "www.unionedomex.mx",
         "n_tokens_title": 4,
         "n_tokens_body": 265,
         "_deepnote_index_column": "9f400463f8000642d8078994d25cfb90"
        },
        {
         "body": "\r\n\r\n\r\n\r\n    googletag.cmd.push(function() {\r\n      googletag.display(\"dfp-ad-top3_content\");\r\n    }…",
         "title": "Cómo consigo una de Beca Benito Juárez de primaria y secundaria",
         "url": "http://www.unionpuebla.mx/articulo/2020/05/26/educacion/como-consigo-una-de-beca-benito-juarez-de-p…",
         "newspaper_uid": "eluniversal",
         "host": "www.unionpuebla.mx",
         "n_tokens_title": 7,
         "n_tokens_body": 280,
         "_deepnote_index_column": "602fe4651de5d33fa8b8a896179d2805"
        },
        {
         "body": "\r\n\r\n\r\n\r\n    googletag.cmd.push(function() {\r\n      googletag.display(\"dfp-ad-top3_content\");\r\n    }…",
         "title": "Belinda, edad, estatura y otros datos de la coach de La Voz",
         "url": "http://www.unionyucatan.mx/articulo/2020/06/02/espectaculos/belinda-edad-estatura-y-otros-datos-de-…",
         "newspaper_uid": "eluniversal",
         "host": "www.unionyucatan.mx",
         "n_tokens_title": 6,
         "n_tokens_body": 223,
         "_deepnote_index_column": "c6da8f2421c9dbfc6c60f097fd7109f1"
        },
        {
         "body": "\r\nGianna tiene seis años. No sabe cómo murió su padre, George Floyd. Sólo sabe que lo extraña y que…",
         "title": "“Extraño a mi papi. Él cambió el mundo”, dice la hija de George Floyd",
         "url": "http://www.eluniversal.com.mx/mundo/extrano-mi-papi-el-cambio-el-mundo-dice-la-hija-de-george-floyd",
         "newspaper_uid": "eluniversal",
         "host": "www.eluniversal.com.mx",
         "n_tokens_title": 8,
         "n_tokens_body": 211,
         "_deepnote_index_column": "f94954f8f9e9f72db8d6fdaeaea26874"
        },
        {
         "body": "\r\nLa Secretaría de Energía (Sener), a través de PTI Infraestructura de Desarrollo, adjudicó los 7 p…",
         "title": "Sener adjudica los contratos para almacenamiento de la nueva refinería de Dos Bocas",
         "url": "http://www.eluniversal.com.mx/cartera/sener-adjudica-los-contratos-para-almacenamiento-de-la-nueva-…",
         "newspaper_uid": "eluniversal",
         "host": "www.eluniversal.com.mx",
         "n_tokens_title": 8,
         "n_tokens_body": 225,
         "_deepnote_index_column": "32e8af4beb036237ff3025874a528e35"
        },
        {
         "body": "\r\nCampeche, Después de que ayer el subsecretario de Salud, Hugo López-Gatell, admitiera ante los go…",
         "title": "No nos confiemos, pide AMLO; es una pandemia muy dañina",
         "url": "http://www.eluniversal.com.mx/nacion/no-nos-confiemos-pide-amlo-es-una-pandemia-muy-danina",
         "newspaper_uid": "eluniversal",
         "host": "www.eluniversal.com.mx",
         "n_tokens_title": 5,
         "n_tokens_body": 215,
         "_deepnote_index_column": "b8d879c291874461795945cab55433ad"
        },
        {
         "body": "\r\nQuito.- El expresidente ecuatoriano Abdalá Bucaram fue detenido el miércoles en su domicilio dura…",
         "title": "Detienen en Guayaquil a expresidente de Ecuador, acusado de corrupción",
         "url": "http://www.eluniversal.com.mx/mundo/detienen-en-guayaquil-expresidente-de-ecuador-acusado-de-corrup…",
         "newspaper_uid": "eluniversal",
         "host": "www.eluniversal.com.mx",
         "n_tokens_title": 6,
         "n_tokens_body": 217,
         "_deepnote_index_column": "114e0d90bf5104bcf4d517c1d8b3e942"
        },
        {
         "body": "\r\n-Doctor, ¿ya está domada la pandemia?- se le pregunta al subsecretario de Salud y vocero del gobi…",
         "title": "Pandemia no está domada en México: López-Gatell",
         "url": "http://www.eluniversal.com.mx/nacion/pandemia-no-esta-domada-en-mexico-lopez-gatell",
         "newspaper_uid": "eluniversal",
         "host": "www.eluniversal.com.mx",
         "n_tokens_title": 3,
         "n_tokens_body": 1671,
         "_deepnote_index_column": "aeef6fe0a32712466b7f09a2128bdbe7"
        },
        {
         "body": "\r\nEn medio de la pandemia de Covid-19 y con todas las agencias automotrices cerradas, en mayo, la v…",
         "title": "Venta de autos en mayo, mejor que en abril: AMDA",
         "url": "http://www.eluniversal.com.mx/cartera/venta-de-autos-en-mayo-mejor-que-en-abril-amda",
         "newspaper_uid": "eluniversal",
         "host": "www.eluniversal.com.mx",
         "n_tokens_title": 6,
         "n_tokens_body": 181,
         "_deepnote_index_column": "fd5521e36700f2f1d7c7e77bf428a797"
        },
        {
         "body": "\r\n\r\n\r\n\r\n    googletag.cmd.push(function() {\r\n      googletag.display(\"dfp-ad-top3_content\");\r\n    }…",
         "title": "Admisión BUAP 2020: Examen de admisión se pospone",
         "url": "http://www.unionpuebla.mx/articulo/2020/06/01/educacion/admision-buap-2020-examen-de-admision-se-po…",
         "newspaper_uid": "eluniversal",
         "host": "www.unionpuebla.mx",
         "n_tokens_title": 5,
         "n_tokens_body": 257,
         "_deepnote_index_column": "c0ba63c4f19b6e340080bdb19328e29d"
        },
        {
         "body": "\r\nJuchitán de Zaragoza.— La cortina de acero  está  arriba hasta la mitad en  la entrada a la tiend…",
         "title": "Juchitán regresa a \"nueva normalidad\" pese a riesgo de contagios por Covid-19",
         "url": "https://oaxaca.eluniversal.com.mx/municipios/02-06-2020/juchitan-regresa-nueva-normalidad-pese-ries…",
         "newspaper_uid": "eluniversal",
         "host": "oaxaca.eluniversal.com.mx",
         "n_tokens_title": 7,
         "n_tokens_body": 271,
         "_deepnote_index_column": "9317ef5c7a4b48730525875c33276bea"
        },
        {
         "body": "\r\nEste martes estrenó \"La Voz Azteca\" con Belinda, Christian Nodal, María José y Ricardo Montaner c…",
         "title": "Sin público y sin cubrebocas arranca \"La Voz Azteca\"",
         "url": "http://www.eluniversal.com.mx/espectaculos/la-voz-azteca-sin-publico-y-sin-cubrebocas",
         "newspaper_uid": "eluniversal",
         "host": "www.eluniversal.com.mx",
         "n_tokens_title": 5,
         "n_tokens_body": 169,
         "_deepnote_index_column": "34862c4f4443a9cdf8a2ae1549afb3e7"
        },
        {
         "body": "\r\nTexto: Yessica Torres\r\nRodeado de mar y por su ubicación geográfica es común que en el territorio…",
         "title": "El plan de emergencia que surgió por el desbordamiento de un río",
         "url": "https://www.eluniversal.com.mx/opinion/mochilazo-en-el-tiempo/el-plan-de-emergencia-que-surgio-por-…",
         "newspaper_uid": "eluniversal",
         "host": "www.eluniversal.com.mx",
         "n_tokens_title": 5,
         "n_tokens_body": 1072,
         "_deepnote_index_column": "eaa4eff5c9856ea01825f22effe32584"
        },
        {
         "body": "\r\n\r\nLeón.— La industria del calzado reiniciará sus actividades de producción, a partir de este 1 de…",
         "title": "Industria del calzado de León reanudará actividades con 30% de capacidad",
         "url": "http://www.eluniversal.com.mx/estados/industria-del-calzado-de-leon-reanudara-actividades-con-30-de…",
         "newspaper_uid": "eluniversal",
         "host": "www.eluniversal.com.mx",
         "n_tokens_title": 6,
         "n_tokens_body": 209,
         "_deepnote_index_column": "7327a70ea7d5a2c8e7b72c1ec2f97685"
        },
        {
         "body": "\r\nA través de redes sociales, la senadora Lilly Téllez anunció que deja la bancada de Morena “por d…",
         "title": "Lilly Téllez deja bancada de Morena en el Senado “por diferencias de criterio”",
         "url": "http://www.eluniversal.com.mx/nacion/lilly-tellez-deja-bancada-de-morena-por-diferencias-de-criterio",
         "newspaper_uid": "eluniversal",
         "host": "www.eluniversal.com.mx",
         "n_tokens_title": 8,
         "n_tokens_body": 202,
         "_deepnote_index_column": "31cbba260d2bb712adc127a8adb73ed4"
        },
        {
         "body": "\r\nJuchitán de Zaragoza. - Un niño de 4 años murió la noche del sábado debido a las graves heridas q…",
         "title": "Perro Pitbull ataca y mata a niño de 4 años en Tehuantepec ",
         "url": "https://oaxaca.eluniversal.com.mx/municipios/01-06-2020/perro-pitbull-ataca-y-mata-nino-de-4-anos-e…",
         "newspaper_uid": "eluniversal",
         "host": "oaxaca.eluniversal.com.mx",
         "n_tokens_title": 7,
         "n_tokens_body": 103,
         "_deepnote_index_column": "b59eeaf872cc1fb676dd63f90244ec9a"
        },
        {
         "body": "\r\nTexto: Carlos Villasana y Ruth Gómez.\r\nHabitar y transitar por la Ciudad de México sin música par…",
         "title": "Cuando las canciones se aprendían con Notitas Musicales",
         "url": "https://www.eluniversal.com.mx/opinion/mochilazo-en-el-tiempo/cuando-las-canciones-se-aprendian-con…",
         "newspaper_uid": "eluniversal",
         "host": "www.eluniversal.com.mx",
         "n_tokens_title": 4,
         "n_tokens_body": 559,
         "_deepnote_index_column": "87f814362d045d892468d90c875762a8"
        },
        {
         "body": "\r\n\r\n\r\n\r\n    googletag.cmd.push(function() {\r\n      googletag.display(\"dfp-ad-top3_content\");\r\n    }…",
         "title": "María José, edad, estatura y más de la coach de La Voz México",
         "url": "http://www.unionyucatan.mx/articulo/2020/06/02/espectaculos/maria-jose-edad-estatura-y-mas-de-la-co…",
         "newspaper_uid": "eluniversal",
         "host": "www.unionyucatan.mx",
         "n_tokens_title": 7,
         "n_tokens_body": 270,
         "_deepnote_index_column": "45314df8192b4e55b7896dcdd58990a5"
        },
        {
         "body": "\r\nEl ayuntamiento de Soledad informó que a partir del 1 de junio iniciará la reactivación escalonad…",
         "title": "Este lunes inicia reapertura escalonada de comercios en Soledad",
         "url": "https://sanluis.eluniversal.com.mx/municipios/29-05-2020/este-lunes-inicia-reapertura-escalonada-de…",
         "newspaper_uid": "eluniversal",
         "host": "sanluis.eluniversal.com.mx",
         "n_tokens_title": 6,
         "n_tokens_body": 125,
         "_deepnote_index_column": "d323d9f17cecc7474ca05a6484f10107"
        },
        {
         "body": "\r\nEn la última fotografía de las tres generaciones Suárez, Héctor aparece sonriendo dentro de una …",
         "title": "Suárez Gomís comparte última foto con Héctor Suárez y su hijo ",
         "url": "http://www.eluniversal.com.mx/espectaculos/suarez-gomis-comparte-ultima-foto-con-hector-suarez-y-su…",
         "newspaper_uid": "eluniversal",
         "host": "www.eluniversal.com.mx",
         "n_tokens_title": 6,
         "n_tokens_body": 249,
         "_deepnote_index_column": "56b9a4af5baccc38b6fbf3bf99f8ee39"
        },
        {
         "body": "\r\nRodolfo Pizarro fue honesto en una charla extensa con Oswaldo Alanís, excompañero suyo en las Chi…",
         "title": "El 'Negro' Santos es mi juguete: Rodolfo Pizarro",
         "url": "http://www.eluniversal.com.mx/universal-deportes/futbol/rodolfo-pizarro-el-negro-santos-es-mi-jugue…",
         "newspaper_uid": "eluniversal",
         "host": "www.eluniversal.com.mx",
         "n_tokens_title": 4,
         "n_tokens_body": 101,
         "_deepnote_index_column": "69443eb67ebb2a61fb68a63f60d76e7a"
        },
        {
         "body": "\r\nEl nuevo estadio de Mazatlán, cuya construcción está por concluir este mes, después de tres años …",
         "title": "Conoce el nuevo estadio del Mazatlán FC",
         "url": "http://www.eluniversal.com.mx/universal-deportes/futbol/liga-mx-conoce-el-nuevo-estadio-del-mazatla…",
         "newspaper_uid": "eluniversal",
         "host": "www.eluniversal.com.mx",
         "n_tokens_title": 5,
         "n_tokens_body": 115,
         "_deepnote_index_column": "c3cc0e2da285ed040100d8780ffc3e6b"
        },
        {
         "body": "\r\nEl coordinador del PAN en el Senado, Mauricio Kuri, anunció la adhesión de la senadora Lilly Téll…",
         "title": "Lilly Téllez se suma al PAN en el Senado",
         "url": "http://www.eluniversal.com.mx/nacion/lilly-tellez-se-suma-al-pan-en-el-senado",
         "newspaper_uid": "eluniversal",
         "host": "www.eluniversal.com.mx",
         "n_tokens_title": 5,
         "n_tokens_body": 146,
         "_deepnote_index_column": "1560e7cbb62f6626585bb059bba4292b"
        },
        {
         "body": "\r\n\r\nUn grupo de jóvenes de Craiova, una ciudad pequeña, enclavada en una región agrícola de Rumania…",
         "title": " Opera en México banda rumana de robos millonarios en cajeros",
         "url": "http://www.eluniversal.com.mx/nacion/opera-en-mexico-banda-rumana-de-robos-millonarios-en-cajeros",
         "newspaper_uid": "eluniversal",
         "host": "www.eluniversal.com.mx",
         "n_tokens_title": 7,
         "n_tokens_body": 1253,
         "_deepnote_index_column": "9d69dff642374f51f5478730599b24c3"
        },
        {
         "body": "\r\nEste sábado, concejales de Oaxaca de Juárez aprobaron por unanimidad prolongar hasta el 30 de jun…",
         "title": "La capital amplía al 30 de junio medidas contra Covid-19, ante pico de contagios",
         "url": "https://oaxaca.eluniversal.com.mx/municipios/30-05-2020/la-capital-amplia-al-30-de-junio-medidas-co…",
         "newspaper_uid": "eluniversal",
         "host": "oaxaca.eluniversal.com.mx",
         "n_tokens_title": 6,
         "n_tokens_body": 454,
         "_deepnote_index_column": "8a7b93a34e4c8ba00873158179613d0e"
        },
        {
         "body": "\r\nImagina encontrarte con cientos de flamencos en libertad: admirar su vuelo, sus elegantes movimie…",
         "title": "Celestún, el paraíso mexicano donde habita el flamenco rosa ",
         "url": "http://www.eluniversal.com.mx/destinos/celestun-el-paraiso-mexicano-donde-habita-el-flamenco-rosa",
         "newspaper_uid": "eluniversal",
         "host": "www.eluniversal.com.mx",
         "n_tokens_title": 6,
         "n_tokens_body": 368,
         "_deepnote_index_column": "725da49333188f83ec98df406f57114c"
        },
        {
         "body": "\r\nLa Fiscalía General del Estado de Oaxaca (FGEO) informó que un juez vinculó a proceso a un sujeto…",
         "title": "Vinculan a sujeto que presuntamente atacó sexualmente a sus dos hijas en Oaxaca",
         "url": "https://oaxaca.eluniversal.com.mx/estatal/28-04-2020/vinculan-sujeto-que-presuntamente-ataco-sexual…",
         "newspaper_uid": "eluniversal",
         "host": "oaxaca.eluniversal.com.mx",
         "n_tokens_title": 8,
         "n_tokens_body": 142,
         "_deepnote_index_column": "1e6f4ed28824897fe2c39e7e15643dfc"
        },
        {
         "body": "\r\nTexto: Daniela Jurado Cano\r\n\r\nEn los 80 comenzaron a surgir grupos, sellos discográficos y espaci…",
         "title": "Grupos de rock, cronistas de la CDMX y periferia",
         "url": "https://www.eluniversal.com.mx/opinion/mochilazo-en-el-tiempo/grupos-de-rock-cronistas-de-la-cdmx-y…",
         "newspaper_uid": "eluniversal",
         "host": "www.eluniversal.com.mx",
         "n_tokens_title": 5,
         "n_tokens_body": 873,
         "_deepnote_index_column": "856d193b324689dde131fabb23c28520"
        },
        {
         "body": "\r\nTlalnepantla, Méx.— Bernabé Flores Franco, enfermero que libró la batalla contra el Covid-19 lueg…",
         "title": "Libra Covid... pero queda con daño pulmonar; no lo atienden por miedo",
         "url": "http://www.eluniversal.com.mx/metropoli/libra-covid-pero-queda-con-dano-pulmonar-no-lo-atienden-por…",
         "newspaper_uid": "eluniversal",
         "host": "www.eluniversal.com.mx",
         "n_tokens_title": 7,
         "n_tokens_body": 186,
         "_deepnote_index_column": "319acec58b80e32353b049c434e9fde7"
        },
        {
         "body": "\r\nEn mayo hubo 864 nuevos casos de Covid-19 en Querétaro y 100 defunciones; esto es cerca de siete …",
         "title": "Mayo fue el mes con más contagios y defunciones por Coronavirus, en Querétaro",
         "url": "https://www.eluniversalqueretaro.mx/portada/mayo-fue-el-mes-con-mas-contagios-y-defunciones",
         "newspaper_uid": "eluniversal",
         "host": "www.eluniversalqueretaro.mx",
         "n_tokens_title": 6,
         "n_tokens_body": 192,
         "_deepnote_index_column": "70fafc1a0e3a3b0f2ae2103d664b08ba"
        },
        {
         "body": "\r\nCampeche.- En el banderazo de inicio de obra del Tramo 2 del Tren Maya, el presidente Andrés Manu…",
         "title": "AMLO da banderazo en Campeche al Tramo 2 del Tren Maya",
         "url": "http://www.eluniversal.com.mx/nacion/amlo-da-banderazo-en-campeche-al-tramo-2-del-tren-maya",
         "newspaper_uid": "eluniversal",
         "host": "www.eluniversal.com.mx",
         "n_tokens_title": 7,
         "n_tokens_body": 134,
         "_deepnote_index_column": "9d5a963c12bd50a7a47c7ec99d9de980"
        },
        {
         "body": "\r\n\r\n\r\n\r\n    googletag.cmd.push(function() {\r\n      googletag.display(\"dfp-ad-top3_content\");\r\n    }…",
         "title": "Constancia Digital INE: ¿cómo tramitarla y para qué sirve?",
         "url": "http://www.unioncdmx.mx/articulo/2020/05/27/ciudadanos/constancia-digital-ine-como-tramitarla-y-par…",
         "newspaper_uid": "eluniversal",
         "host": "www.unioncdmx.mx",
         "n_tokens_title": 5,
         "n_tokens_body": 279,
         "_deepnote_index_column": "9b194782b5dee11531ea6f8ffd2894f9"
        },
        {
         "body": "\r\n\r\nLas manifestaciones por la muerte de George Floyd, un hombre afroestadounidense asesinado por p…",
         "title": "Estados Unidos en llamas",
         "url": "https://www.eluniversal.com.mx/opinion/andrew-selee/estados-unidos-en-llamas",
         "newspaper_uid": "eluniversal",
         "host": "www.eluniversal.com.mx",
         "n_tokens_title": 2,
         "n_tokens_body": 403,
         "_deepnote_index_column": "f8fc70204897287cf041566249c741ea"
        },
        {
         "body": "\r\n\r\n\r\n\r\n    googletag.cmd.push(function() {\r\n      googletag.display(\"dfp-ad-top3_content\");\r\n    }…",
         "title": "Christian Nodal, edad y secretos del coach de La Voz México 2020",
         "url": "http://www.unionyucatan.mx/articulo/2020/06/02/espectaculos/christian-nodal-edad-y-secretos-del-coa…",
         "newspaper_uid": "eluniversal",
         "host": "www.unionyucatan.mx",
         "n_tokens_title": 7,
         "n_tokens_body": 195,
         "_deepnote_index_column": "283eb15a96262f94562b960bcffe2b18"
        },
        {
         "body": "\r\nEn 2004, el rumano Filip Sardaru hizo una emotiva petición a Canadá para que su familia fuera ace…",
         "title": "Cruzando el Río Grande: Cómo unos rumanos entraron ilegalmente a Estados Unidos para robar cajeros …",
         "url": "http://www.eluniversal.com.mx/nacion/cruzando-el-rio-grande-como-unos-rumanos-entraron-ilegalmente-…",
         "newspaper_uid": "eluniversal",
         "host": "www.eluniversal.com.mx",
         "n_tokens_title": 11,
         "n_tokens_body": 1133,
         "_deepnote_index_column": "dc60837fda118787f74285907bf6de02"
        },
        {
         "body": "\r\nEl reinicio de actividades en el sector industrial se caracterizó por ausencia de trabajadores y …",
         "title": "\"Nueva normalidad\" inicia con ausentismo laboral y sin pruebas para detectar Covid",
         "url": "http://www.eluniversal.com.mx/cartera/negocios/nueva-normalidad-inicia-con-ausentismo-laboral-y-sin…",
         "newspaper_uid": "eluniversal",
         "host": "www.eluniversal.com.mx",
         "n_tokens_title": 8,
         "n_tokens_body": 149,
         "_deepnote_index_column": "186d0917cebefd619d90edf20af66f3c"
        },
        {
         "body": "\r\nQuerétaro, Querétaro.-\r\n\r\nLa peluquería de Mario Rodríguez Hernández está vacía. La gente en esto…",
         "title": "Resistencia. Peluquero sobrelleva encierro",
         "url": "https://www.eluniversalqueretaro.mx/portada/resistenciapeluquero-sobrelleva-encierro",
         "newspaper_uid": "eluniversal",
         "host": "www.eluniversalqueretaro.mx",
         "n_tokens_title": 4,
         "n_tokens_body": 409,
         "_deepnote_index_column": "337857fd7cd1c5ed60945577f8e973eb"
        },
        {
         "body": "\r\nToluca.- La Secretaría de Educación del Estado de México informó que el 5 de junio concluirá el a…",
         "title": "Estas son las fechas para finalizar clases e iniciar ciclo escolar 2020-2021 en Edomex",
         "url": "http://www.eluniversal.com.mx/metropoli/edomex/estas-son-las-fechas-para-finalizar-clases-e-iniciar…",
         "newspaper_uid": "eluniversal",
         "host": "www.eluniversal.com.mx",
         "n_tokens_title": 7,
         "n_tokens_body": 185,
         "_deepnote_index_column": "8edf34e3aee0f894a68c7bf51b35766c"
        },
        {
         "body": "\r\n\r\nNos comentan que quien piense que la empresa Wal-Mart realizó de buena voluntad un pago por 8 m…",
         "title": "La historia de los 8 mil millones que pagó Wal-Mart",
         "url": "https://www.eluniversal.com.mx/opinion/periodistas-el-universal/la-historia-de-los-8-mil-millones-q…",
         "newspaper_uid": "eluniversal",
         "host": "www.eluniversal.com.mx",
         "n_tokens_title": 4,
         "n_tokens_body": 312,
         "_deepnote_index_column": "949368292525758628958d6ac31976f5"
        },
        {
         "body": "\r\n\r\n En Puebla se han registrado 392 muertes y 3 mil 239 casos confirmados de coronavirus al 2 de j…",
         "title": "Coronavirus Puebla: Casos confirmados de Covid-19 al 2 de junio",
         "url": "http://www.eluniversal.com.mx/estados/coronavirus-puebla-casos-confirmados-de-covid-19-al-2-de-junio",
         "newspaper_uid": "eluniversal",
         "host": "www.eluniversal.com.mx",
         "n_tokens_title": 5,
         "n_tokens_body": 208,
         "_deepnote_index_column": "f545f665513afbb87cbd7c32d6f490c6"
        },
        {
         "body": "\r\n\r\n\r\n\r\n    googletag.cmd.push(function() {\r\n      googletag.display(\"dfp-ad-top3_content\");\r\n    }…",
         "title": "‘Enamorándonos’ y su maldición",
         "url": "http://www.unionjalisco.mx/articulo/2020/06/03/espectaculos/enamorandonos-y-su-maldicion",
         "newspaper_uid": "eluniversal",
         "host": "www.unionjalisco.mx",
         "n_tokens_title": 2,
         "n_tokens_body": 109,
         "_deepnote_index_column": "4e60033e358b839134037f5936eae85d"
        },
        {
         "body": "\r\nLa secretaria de Salud, Oliva López, consideró que en septiembre el semáforo podría cambiar a nar…",
         "title": "Decesos por Covid se estabilizarán en septiembre en CDMX",
         "url": "http://www.eluniversal.com.mx/metropoli/decesos-por-covid-se-estabilizaran-en-septiembre-en-cdmx",
         "newspaper_uid": "eluniversal",
         "host": "www.eluniversal.com.mx",
         "n_tokens_title": 5,
         "n_tokens_body": 324,
         "_deepnote_index_column": "ed19b6bfd4048fe9d9e642110c70e386"
        },
        {
         "body": "\r\nEl gobernador Francisco Domínguez Servién desmintió que el estado de Querétaro haya aceptado util…",
         "title": "Gobernador de Querétaro rechaza integración al semáforo único de Covid-19 ",
         "url": "https://www.eluniversalqueretaro.mx/politica/gobernador-de-queretaro-rechaza-integracion-al-semafor…",
         "newspaper_uid": "eluniversal",
         "host": "www.eluniversalqueretaro.mx",
         "n_tokens_title": 6,
         "n_tokens_body": 162,
         "_deepnote_index_column": "736de8188e7624da6c299a6699a86792"
        },
        {
         "body": "\r\nJosé Luis Alomía Zegarra, director general de Epidemiología, informó esta noche que México suma 1…",
         "title": "México tiene nuevo máximo de casos de Covid: 3 mil 891 en un día; suman 97 mil",
         "url": "https://www.eluniversal.com.mx/nacion/sociedad/coronavirus-2-de-junio-suman-10-mil-637-muertes-por-…",
         "newspaper_uid": "eluniversal",
         "host": "www.eluniversal.com.mx",
         "n_tokens_title": 9,
         "n_tokens_body": 218,
         "_deepnote_index_column": "22e0c9ee3a1fbf5ee85faeb6b6feef77"
        },
        {
         "body": "\r\n\r\n\r\n\r\n    googletag.cmd.push(function() {\r\n      googletag.display(\"dfp-ad-top3_content\");\r\n    }…",
         "title": "Yo soy Betty, la fea, elenco, personajes y actores antes y después",
         "url": "http://www.unionyucatan.mx/articulo/2020/06/01/espectaculos/yo-soy-betty-la-fea-elenco-personajes-y…",
         "newspaper_uid": "eluniversal",
         "host": "www.unionyucatan.mx",
         "n_tokens_title": 6,
         "n_tokens_body": 244,
         "_deepnote_index_column": "8186415a9b64ad383faf77f634d5954d"
        },
        {
         "body": "\r\nDesde ayer, algunos comentarios en Internet apuntan a que el Presidente, Andrés Manuel López Obra…",
         "title": "¿Es verdad que AMLO quiere cobrar un impuesto por tener mascotas?",
         "url": "http://www.eluniversal.com.mx/nacion/politica/es-verdad-que-amlo-quiere-cobrar-un-impuesto-por-tene…",
         "newspaper_uid": "eluniversal",
         "host": "www.eluniversal.com.mx",
         "n_tokens_title": 7,
         "n_tokens_body": 110,
         "_deepnote_index_column": "5ce921de5142b0dfe4d884470f50b690"
        },
        {
         "body": "\r\n\r\n\r\n\r\n    googletag.cmd.push(function() {\r\n      googletag.display(\"dfp-ad-top3_content\");\r\n    }…",
         "title": "Nuevas fechas para examen COMIPEMS 2020, ¿cuándo son?",
         "url": "http://www.unioncdmx.mx/articulo/2020/06/03/educacion/nuevas-fechas-para-examen-comipems-2020-cuand…",
         "newspaper_uid": "eluniversal",
         "host": "www.unioncdmx.mx",
         "n_tokens_title": 4,
         "n_tokens_body": 269,
         "_deepnote_index_column": "5d46615728015b7fd8282292d4d6c7ca"
        },
        {
         "body": "\r\nEl Servicio de Administración Tributaria (SAT) recordó que el año pasado, el Congreso de la Unión…",
         "title": "¿Quiénes pagan el IVA a servicios digitales? El SAT te lo dice",
         "url": "http://www.eluniversal.com.mx/cartera/telecom/quienes-pagan-el-iva-servicios-digitales",
         "newspaper_uid": "eluniversal",
         "host": "www.eluniversal.com.mx",
         "n_tokens_title": 6,
         "n_tokens_body": 131,
         "_deepnote_index_column": "6bd9f361829222464cfcebe5d423481d"
        },
        {
         "body": "\r\nSi hay una deliciosa y sencilla receta para preparar es el pan francés, este rico bocadillo que l…",
         "title": "Aprende a preparar pan francés en casa fácil y rápido",
         "url": "http://www.eluniversal.com.mx/menu/receta-de-pan-frances-con-platano",
         "newspaper_uid": "eluniversal",
         "host": "www.eluniversal.com.mx",
         "n_tokens_title": 7,
         "n_tokens_body": 169,
         "_deepnote_index_column": "45943b2de008d8ec214cbdce21c8677d"
        },
        {
         "body": "\r\nPara muchos viajeros, una de las motivaciones principales para elegir uno u otro lugar para recor…",
         "title": "Postres, vinos y otras delicias: viaja por Francia a través de su cocina",
         "url": "http://www.eluniversal.com.mx/destinos/postres-vinos-y-mas-delicias-en-un-viaje-por-la-cocina-franc…",
         "newspaper_uid": "eluniversal",
         "host": "www.eluniversal.com.mx",
         "n_tokens_title": 7,
         "n_tokens_body": 765,
         "_deepnote_index_column": "8bd8ed3a063f2d0eff961f5d58469da9"
        },
        {
         "body": "\r\nLa aparición del Covid-19 provocó que el personal de salud adoptara la utilización de nuevas herr…",
         "title": "“Es muy difícil, vemos las muertes noche a noche”",
         "url": "https://www.eluniversalqueretaro.mx/portada/es-muy-dificil-vemos-las-muertes-noche-noche",
         "newspaper_uid": "eluniversal",
         "host": "www.eluniversalqueretaro.mx",
         "n_tokens_title": 5,
         "n_tokens_body": 423,
         "_deepnote_index_column": "956d5aaaf180c1a24b0f933588aaac55"
        },
        {
         "body": "\r\n¿Todavía habrá quienes piensen que el actual gobierno amenaza la libertad de expresión luego de q…",
         "title": "El choque de dos proyectos de nación",
         "url": "https://www.eluniversal.com.mx/opinion/raul-rodriguez-cortes/el-choque-de-dos-proyectos-de-nacion",
         "newspaper_uid": "eluniversal",
         "host": "www.eluniversal.com.mx",
         "n_tokens_title": 4,
         "n_tokens_body": 353,
         "_deepnote_index_column": "505e903e1f3f0a358f59e8c518963e99"
        },
        {
         "body": "\r\n\r\nLa escena es terrible: George Floyd, un hombre afroamericano arrojado en el piso, con la rodill…",
         "title": "Sobre la brutalidad policial",
         "url": "https://www.eluniversal.com.mx/opinion/alejandro-hope/sobre-la-brutalidad-policial",
         "newspaper_uid": "eluniversal",
         "host": "www.eluniversal.com.mx",
         "n_tokens_title": 2,
         "n_tokens_body": 297,
         "_deepnote_index_column": "91c7eeb99daa426dc8404cfc84aa409a"
        },
        {
         "body": "\r\nEl perímetro del Centro Histórico se encuentra aún blindado por elementos de la Secretaría de Seg…",
         "title": "Pese a \"nueva normalidad\", mantienen cercado perímetro del Centro Histórico ",
         "url": "http://www.eluniversal.com.mx/metropoli/cdmx/pese-nueva-normalidad-mantienen-cercado-perimetro-del-…",
         "newspaper_uid": "eluniversal",
         "host": "www.eluniversal.com.mx",
         "n_tokens_title": 8,
         "n_tokens_body": 195,
         "_deepnote_index_column": "4bc5c7479168fa9896ac670d53a3fd3e"
        },
        {
         "body": "\r\n\r\n\r\n\r\n    googletag.cmd.push(function() {\r\n      googletag.display(\"dfp-ad-top3_content\");\r\n    }…",
         "title": "¿Cuándo es el Día del Padre en México 2020?",
         "url": "http://www.unionguanajuato.mx/articulo/2020/05/25/cultura/cuando-es-el-dia-del-padre-en-mexico-2020",
         "newspaper_uid": "eluniversal",
         "host": "www.unionguanajuato.mx",
         "n_tokens_title": 3,
         "n_tokens_body": 337,
         "_deepnote_index_column": "fabe452990187835557e41bc1bd4c9a2"
        },
        {
         "body": "\r\nLeer en español\r\n \r\nThe body of a Mexican congresswoman Francis Anel Bueno Sánchez from the state…",
         "title": "Mexican lawmaker’s body is found inside a mass grave in Colima",
         "url": "https://www.eluniversal.com.mx/english/mexican-lawmakers-body-found-inside-mass-grave-colima",
         "newspaper_uid": "eluniversal",
         "host": "www.eluniversal.com.mx",
         "n_tokens_title": 11,
         "n_tokens_body": 241,
         "_deepnote_index_column": "6abe219e133be7106095b68efd573889"
        },
        {
         "body": "\r\nUna nieve ligera caía sobre Craiova, en el sur de Rumanía, cuando Sorin Velcu llamó a su madre pa…",
         "title": "Del cajero al ladrillo: blanqueando el dinero sucio",
         "url": "http://www.eluniversal.com.mx/nacion/del-cajero-al-ladrillo-blanqueando-el-dinero-sucio",
         "newspaper_uid": "eluniversal",
         "host": "www.eluniversal.com.mx",
         "n_tokens_title": 5,
         "n_tokens_body": 1292,
         "_deepnote_index_column": "471b2343d019baf1808b47422d719b6a"
        },
        {
         "body": "\r\nTexto: Edward Fernando Salinas\r\n \r\n\r\n\"No puedes vencer a alguien que nunca se rinde\"\r\n“Babe” Ruth…",
         "title": "El día que el gran Babe Ruth conectó un jonrón en México",
         "url": "https://www.eluniversal.com.mx/opinion/mochilazo-en-el-tiempo/el-dia-que-el-gran-babe-ruth-conecto-…",
         "newspaper_uid": "eluniversal",
         "host": "www.eluniversal.com.mx",
         "n_tokens_title": 7,
         "n_tokens_body": 1060,
         "_deepnote_index_column": "01c4df73f5d6c19e683bf1b55534f2c9"
        },
        {
         "body": "\r\n\r\n¿Qué horas son? las que usted diga, señor presidente. Es la respuesta que México ha querido evi…",
         "title": "Los cómplices del presidente",
         "url": "https://www.eluniversal.com.mx/opinion/ana-paula-ordorica/los-complices-del-presidente",
         "newspaper_uid": "eluniversal",
         "host": "www.eluniversal.com.mx",
         "n_tokens_title": 2,
         "n_tokens_body": 333,
         "_deepnote_index_column": "d6114f8fbbcfc5cf4fc906163df0c43b"
        },
        {
         "body": "\r\nWashington.- Las tropas en activo trasladadas a la capital estadounidense para ayudar, en caso ne…",
         "title": "Regresan a sus bases tropas desplegadas en Washington para controlar protestas",
         "url": "http://www.eluniversal.com.mx/mundo/regresan-sus-bases-tropas-desplegadas-en-washington-para-contro…",
         "newspaper_uid": "eluniversal",
         "host": "www.eluniversal.com.mx",
         "n_tokens_title": 7,
         "n_tokens_body": 119,
         "_deepnote_index_column": "071849f1dae3d0dcf3144c7991ce72ad"
        },
        {
         "body": "\r\nLa posible vuelta del Atlante a la Primera División, a la Liga MX, podría ser parte de un plan ar…",
         "title": "El Atlante a la Liga MX, ¿cómo y de quién es el plan?",
         "url": "http://www.eluniversal.com.mx/universal-deportes/futbol/el-atlante-la-liga-mx-como-y-de-quien-es-el…",
         "newspaper_uid": "eluniversal",
         "host": "www.eluniversal.com.mx",
         "n_tokens_title": 5,
         "n_tokens_body": 187,
         "_deepnote_index_column": "e9d8e66242790772729d3957428cff8d"
        },
        {
         "body": "\r\nAlgunos jugadores del América mandaron mensajes en contra del racismo, durante los movimientos en…",
         "title": "Jugadores del América lanzan mensajes contra el racismo",
         "url": "http://www.eluniversal.com.mx/universal-deportes/futbol/america-jugadores-lanzan-mensajes-contra-el…",
         "newspaper_uid": "eluniversal",
         "host": "www.eluniversal.com.mx",
         "n_tokens_title": 5,
         "n_tokens_body": 108,
         "_deepnote_index_column": "c9bf8760610d4993ca3af848457d3dcc"
        },
        {
         "body": "\r\nEl cuerpo de Anel Bueno Sánchez, diputada de Colima desaparecida el pasado 29 de abril, fue local…",
         "title": "¿Quién era Anel Bueno, diputada localizada en una fosa clandestina de Colima?",
         "url": "http://www.eluniversal.com.mx/estados/quien-era-anel-bueno-diputada-localizada-en-una-fosa-clandest…",
         "newspaper_uid": "eluniversal",
         "host": "www.eluniversal.com.mx",
         "n_tokens_title": 7,
         "n_tokens_body": 214,
         "_deepnote_index_column": "01c86faa69fa2107b8a047faef3f837f"
        },
        {
         "body": "\r\nTexto: Marco Salas\r\nImaginemos que es 1890 y una pareja toma café. Él se llama Karl Wilhem Flügge…",
         "title": "Así nació el cubrebocas",
         "url": "https://www.eluniversal.com.mx/opinion/mochilazo-en-el-tiempo/asi-nacio-el-cubrebocas",
         "newspaper_uid": "eluniversal",
         "host": "www.eluniversal.com.mx",
         "n_tokens_title": 3,
         "n_tokens_body": 1059,
         "_deepnote_index_column": "59ebaf555087c32ca218f9edf98cdabb"
        },
        {
         "body": "\r\nLa senadora del PRI, Vanessa Rubio, propuso que personas desahuciadas puedan tener acceso a los r…",
         "title": "Senadora de PRI plantea que desahuciados puedan acceder a recursos de su Afore",
         "url": "https://www.eluniversal.com.mx/cartera/senadora-de-pri-plantea-que-desahuciados-puedan-acceder-recu…",
         "newspaper_uid": "eluniversal",
         "host": "www.eluniversal.com.mx",
         "n_tokens_title": 8,
         "n_tokens_body": 235,
         "_deepnote_index_column": "b7966d5da94ce512b0ffa8394a2af753"
        },
        {
         "body": "\r\nEsta mañana trascendió la muerte de un hombre en la avenida principal del Centro Histórico potosi…",
         "title": "Encuentran a hombre colgado en academia de belleza del Centro Histórico de SLP",
         "url": "https://sanluis.eluniversal.com.mx/metropoli/27-05-2020/localizan-hombre-colgado-en-academia-de-bel…",
         "newspaper_uid": "eluniversal",
         "host": "sanluis.eluniversal.com.mx",
         "n_tokens_title": 8,
         "n_tokens_body": 56,
         "_deepnote_index_column": "3bfa057ee47efe656e5409db2849b5b6"
        },
        {
         "body": "\r\n\r\n\r\n\r\n    googletag.cmd.push(function() {\r\n      googletag.display(\"dfp-ad-top3_content\");\r\n    }…",
         "title": "Nuevo calendario escolar por coronavirus Covid-19 para imprimir",
         "url": "http://www.unionguanajuato.mx/articulo/2020/06/03/educacion/nuevo-calendario-escolar-por-coronaviru…",
         "newspaper_uid": "eluniversal",
         "host": "www.unionguanajuato.mx",
         "n_tokens_title": 5,
         "n_tokens_body": 221,
         "_deepnote_index_column": "91cc9dd472a5e033e754edfcec872597"
        },
        {
         "body": "\r\nLa Fiscalía General de San Luis Potosí informó que el saldo de tres ataques armados ocurridos la …",
         "title": "Ataques armados en Zona Metropolitana de SLP dejan 5 muertos y 3 lesionados",
         "url": "https://sanluis.eluniversal.com.mx/metropoli/27-05-2020/ataques-armados-en-zona-metropolitana-de-sl…",
         "newspaper_uid": "eluniversal",
         "host": "sanluis.eluniversal.com.mx",
         "n_tokens_title": 8,
         "n_tokens_body": 113,
         "_deepnote_index_column": "11196915d6c85f6d693b64d467bbabf8"
        },
        {
         "body": "\r\nEl dirigente nacional de Morena, Alfonso Ramírez Cuéllar, pidió justicia para la diputada local F…",
         "title": "Morena pide justicia para diputada asesinada",
         "url": "http://www.eluniversal.com.mx/nacion/morena-pide-justicia-para-diputada-asesinada",
         "newspaper_uid": "eluniversal",
         "host": "www.eluniversal.com.mx",
         "n_tokens_title": 5,
         "n_tokens_body": 112,
         "_deepnote_index_column": "3cb0b3abfcf75d61da25ac1838d36b3d"
        },
        {
         "body": "\r\nEl coordinador de Morena en la Cámara de Diputados, Mario Delgado Carrillo, propuso que los traba…",
         "title": "Morena propone retiro de Afore en caso de emergencia sanitaria",
         "url": "http://www.eluniversal.com.mx/nacion/politica/morena-propone-retiro-de-afore-en-caso-de-emergencia-…",
         "newspaper_uid": "eluniversal",
         "host": "www.eluniversal.com.mx",
         "n_tokens_title": 7,
         "n_tokens_body": 118,
         "_deepnote_index_column": "62bed4476562a6406d10dd873334375e"
        },
        {
         "body": "\r\nSi te gusta cocinar, sabrás que un buen platillo depende tanto de la calidad de los alimentos com…",
         "title": "Guía para elegir la mejor batería de cocina",
         "url": "http://www.eluniversal.com.mx/menu/que-tomar-en-cuenta-para-comprar-una-bateria-de-cocina",
         "newspaper_uid": "eluniversal",
         "host": "www.eluniversal.com.mx",
         "n_tokens_title": 5,
         "n_tokens_body": 414,
         "_deepnote_index_column": "8063b167a3b73fecfba90fdd284fe6fe"
        },
        {
         "body": "\r\nDurante los últimos 12 días de mayo empresas del sector industrial en la entidad potosina se enfo…",
         "title": "240 plantas industriales retomaron actividades este lunes en San Luis Potosí",
         "url": "https://sanluis.eluniversal.com.mx/cartera/01-06-2020/240-plantas-industriales-retomaron-actividade…",
         "newspaper_uid": "eluniversal",
         "host": "sanluis.eluniversal.com.mx",
         "n_tokens_title": 8,
         "n_tokens_body": 216,
         "_deepnote_index_column": "f45590a05db0a9dad49074f4ed751bd9"
        },
        {
         "body": "\r\n\r\nTabasco suma 4 mil 609 casos confirmados y 562 fallecimientos por Covid-19 al 2 de junio.\r\n\r\nEn…",
         "title": "Casos de Covid-19 en Yucatán, Quintana Roo y Tabasco al 2 de junio",
         "url": "http://www.eluniversal.com.mx/estados/casos-de-covid-19-en-yucatan-quintana-roo-y-tabasco-al-2-de-j…",
         "newspaper_uid": "eluniversal",
         "host": "www.eluniversal.com.mx",
         "n_tokens_title": 6,
         "n_tokens_body": 278,
         "_deepnote_index_column": "fc26e3c43151d2b733810645306ff0c4"
        },
        {
         "body": "\r\nLa vida no ha sido fácil en estos últimos meses. Sin embargo, hay que continuar con el ritmo y ad…",
         "title": "Belinda enamora con su look deportivo para la Voz Azteca",
         "url": "http://www.eluniversal.com.mx/de-ultima/belinda-sorprende-con-look-deportivo-para-la-voz-azteca",
         "newspaper_uid": "eluniversal",
         "host": "www.eluniversal.com.mx",
         "n_tokens_title": 6,
         "n_tokens_body": 174,
         "_deepnote_index_column": "06ce47ee219217edec08bb687d647eba"
        },
        {
         "body": "\r\nTexto: Carlos Villasana y Ruth Gómez\r\nLa ciudad enfrenta una de las etapas más complejas de los ú…",
         "title": "Los mercados porfirianos de la capital",
         "url": "https://www.eluniversal.com.mx/opinion/mochilazo-en-el-tiempo/los-mercados-porfirianos-de-la-capital",
         "newspaper_uid": "eluniversal",
         "host": "www.eluniversal.com.mx",
         "n_tokens_title": 3,
         "n_tokens_body": 681,
         "_deepnote_index_column": "c84caebb106ac1713a83606932a257d2"
        },
        {
         "body": "\r\nEl contagio por el coronavirus es más elevado en las grandes áreas urbanas del país; sin embargo,…",
         "title": "Coneval: letalidad del Covid es alta en municipios pobres",
         "url": "http://www.eluniversal.com.mx/cartera/coneval-letalidad-del-covid-es-alta-en-municipios-pobres",
         "newspaper_uid": "eluniversal",
         "host": "www.eluniversal.com.mx",
         "n_tokens_title": 6,
         "n_tokens_body": 255,
         "_deepnote_index_column": "5fe67add59ffd6bca8405916e729e3f1"
        },
        {
         "body": "\r\nUn grupo internacional de arqueólogos descubrió en Tabasco la estructura ceremonial más antigua y…",
         "title": "Descubren estructura ceremonial maya más antigua hasta el momento",
         "url": "http://www.eluniversal.com.mx/cultura/arqueologos-descubren-el-monumento-maya-mas-antiguo-hasta-el-…",
         "newspaper_uid": "eluniversal",
         "host": "www.eluniversal.com.mx",
         "n_tokens_title": 6,
         "n_tokens_body": 302,
         "_deepnote_index_column": "7f6714acb5c8e2bb0ea7e53d6b8a1e54"
        },
        {
         "body": "\r\nOcho días consecutivos de marchas, vigilias, rezos, llamados a la reconciliación no han sido sufi…",
         "title": "Las protestas...",
         "url": "https://www.eluniversal.com.mx/opinion/gabriel-guerra/las-protestas",
         "newspaper_uid": "eluniversal",
         "host": "www.eluniversal.com.mx",
         "n_tokens_title": 1,
         "n_tokens_body": 327,
         "_deepnote_index_column": "110caa50b0aded5b6b56a5215266ea89"
        },
        {
         "body": "\r\n\r\nLa Secretaría de Salud del gobierno federal informó que al 2 de junio hay registro de 10 mil 63…",
         "title": "Casos de coronavirus en México, estado por estado al 2 de junio",
         "url": "http://www.eluniversal.com.mx/estados/casos-de-coronavirus-en-mexico-estado-por-estado-al-2-de-junio",
         "newspaper_uid": "eluniversal",
         "host": "www.eluniversal.com.mx",
         "n_tokens_title": 4,
         "n_tokens_body": 997,
         "_deepnote_index_column": "c0ee9fae7942d545a74a2e36be4a0888"
        },
        {
         "body": "\r\nLa válvula potosina desarrollada por investigadores en San Luis Potosí, devuelve la esperanza a p…",
         "title": "Con tecnología 3D, potosinos crean válvula para enfrentar el Covid-19",
         "url": "https://sanluis.eluniversal.com.mx/sociedad/26-05-2020/con-tecnologia-3d-potosinos-crean-valvula-pa…",
         "newspaper_uid": "eluniversal",
         "host": "sanluis.eluniversal.com.mx",
         "n_tokens_title": 5,
         "n_tokens_body": 285,
         "_deepnote_index_column": "8966ead10350f7a5357bc92c2a89ff6e"
        },
        {
         "body": "\r\nLa mayoría de los estados que pertenecen a la Megalópolis, Ciudad de México, Estado de México, Pu…",
         "title": "Van mandatarios del Centro por mismo semáforo para nueva normalidad",
         "url": "http://www.eluniversal.com.mx/metropoli/cdmx/piden-mandatarios-del-centro-un-mismo-semaforo-para-nu…",
         "newspaper_uid": "eluniversal",
         "host": "www.eluniversal.com.mx",
         "n_tokens_title": 7,
         "n_tokens_body": 192,
         "_deepnote_index_column": "f658f683aa897f732cb24c8340f20339"
        },
        {
         "body": "\r\nHace unos días, el propietario del Guadalajara, Amaury Vergara, puso sobre la mesa la necesidad d…",
         "title": "A transparentar el futbol mexicano",
         "url": "https://www.eluniversal.com.mx/opinion/gerardo-velazquez-de-leon/transparentar-el-futbol-mexicano",
         "newspaper_uid": "eluniversal",
         "host": "www.eluniversal.com.mx",
         "n_tokens_title": 3,
         "n_tokens_body": 267,
         "_deepnote_index_column": "87c6185fc628592d048087aca565caa0"
        },
        {
         "body": "\r\nEl Presidente Andrés Manuel López Obrador informó que encontraron el cuerpo de la legisladora de …",
         "title": "Hallan el cuerpo de la legisladora de Morena Francis Anel Bueno Sánchez",
         "url": "http://www.eluniversal.com.mx/nacion/politica/hallan-el-cuerpo-de-la-legisladora-de-morena-francis-…",
         "newspaper_uid": "eluniversal",
         "host": "www.eluniversal.com.mx",
         "n_tokens_title": 8,
         "n_tokens_body": 118,
         "_deepnote_index_column": "a30c4ea9241036476ae70b498bf66c38"
        },
        {
         "body": "\r\nLeer en español\r\nAn international group archeologists discovered in Tabasco the oldest and larges…",
         "title": "Major discovery of oldest and largest Maya structure in Mexico sheds light on the rise of the ancie…",
         "url": "https://www.eluniversal.com.mx/english/major-discovery-oldest-and-largest-maya-structure-mexico-she…",
         "newspaper_uid": "eluniversal",
         "host": "www.eluniversal.com.mx",
         "n_tokens_title": 19,
         "n_tokens_body": 493,
         "_deepnote_index_column": "2c07638968264c28cdb8af2f2a293462"
        },
        {
         "body": "\r\n\r\nLa clave fue la diferencia entre lo que transfirieron al extranjero y lo que reportaron en Méxi…",
         "title": "El directivo de Cruz Azul firmó 98 cheques para sí mismo",
         "url": "https://www.eluniversal.com.mx/opinion/carlos-loret-de-mola/el-directivo-de-cruz-azul-firmo-98-cheq…",
         "newspaper_uid": "eluniversal",
         "host": "www.eluniversal.com.mx",
         "n_tokens_title": 6,
         "n_tokens_body": 249,
         "_deepnote_index_column": "94c0ebbc9df2d66d2a4a6d2298e892ad"
        },
        {
         "body": "\r\nLos limones, sin duda, no pueden faltar en nuestro refrigerador, pues le dan ese toque especial a…",
         "title": "Cómo mantener los limones frescos hasta 1 mes",
         "url": "http://www.eluniversal.com.mx/menu/como-mantener-los-limones-frescos",
         "newspaper_uid": "eluniversal",
         "host": "www.eluniversal.com.mx",
         "n_tokens_title": 5,
         "n_tokens_body": 189,
         "_deepnote_index_column": "8e346f6e7298e03a7b18573fbc3c2afb"
        },
        {
         "body": "\r\nEl Universo de la WWE vivió una semana de nostalgia, ya que se anunció que Rey Mysterio, uno de l…",
         "title": "Retiro de Rey Mysterio, el ‘circo’ de la WWE para el debut de su hijo",
         "url": "http://www.eluniversal.com.mx/universal-deportes/mas-deportes/wwe-retiro-de-rey-mysterio-el-circo-p…",
         "newspaper_uid": "eluniversal",
         "host": "www.eluniversal.com.mx",
         "n_tokens_title": 7,
         "n_tokens_body": 178,
         "_deepnote_index_column": "e4daba7b2c0b875c1a75e0119e9b4683"
        },
        {
         "body": "\r\n\r\n\r\n\r\n    googletag.cmd.push(function() {\r\n      googletag.display(\"dfp-ad-top3_content\");\r\n    }…",
         "title": "La bella heredera tapatía del ‘Perro’ Bermúdez",
         "url": "http://www.unionjalisco.mx/articulo/2020/06/01/espectaculos/la-bella-heredera-tapatia-del-perro-ber…",
         "newspaper_uid": "eluniversal",
         "host": "www.unionjalisco.mx",
         "n_tokens_title": 5,
         "n_tokens_body": 89,
         "_deepnote_index_column": "8f354ccc785c9630599c170ef0ec78fc"
        },
        {
         "body": "\r\nA partir del sábado serán 30 las personas que podrán disfrutar del \"Guernica\" en el Museo Reina S…",
         "title": "Con oferta y dos Picassos nuevos, el Reina Sofía le pone \"buena cara\" a su reapertura",
         "url": "http://www.eluniversal.com.mx/cultura/artes-visuales/el-reina-sofia-expondra-dos-picassos-ineditos-…",
         "newspaper_uid": "eluniversal",
         "host": "www.eluniversal.com.mx",
         "n_tokens_title": 10,
         "n_tokens_body": 424,
         "_deepnote_index_column": "92a88b57ef235ee7aad1aff24b3d019b"
        },
        {
         "body": "\r\nGeorge Clooney ha incendiado las redes sociales tras publicar un artículo en el diario Daily Beas…",
         "title": "George Clooney: \"El racismo es la pandemia de EU\"",
         "url": "http://www.eluniversal.com.mx/espectaculos/farandula/george-clooney-el-racismo-es-la-pandemia-de-eu",
         "newspaper_uid": "eluniversal",
         "host": "www.eluniversal.com.mx",
         "n_tokens_title": 5,
         "n_tokens_body": 224,
         "_deepnote_index_column": "8460ff9c3ba47b149a9a2fb9b08deeb5"
        },
        {
         "body": "\r\n\"The Ickabog\", el nuevo libro para niños que la escritora británica JK Rowling ha publicado gratu…",
         "title": "El cuento gratis de J.K. Rowling ya está en español",
         "url": "http://www.eluniversal.com.mx/cultura/el-cuento-gratis-de-jk-rowling-ya-esta-en-espanol",
         "newspaper_uid": "eluniversal",
         "host": "www.eluniversal.com.mx",
         "n_tokens_title": 4,
         "n_tokens_body": 244,
         "_deepnote_index_column": "9d3aa20a40033da9cf203badc6db3c69"
        },
        {
         "body": "\r\nLa titular del SAT, Raquel Buenrostro, asegura que los pagos millonarios que han obtenido de gran…",
         "title": "No es terrorismo, los convencemos: Buenrostro",
         "url": "https://www.eluniversal.com.mx/opinion/salvador-garcia-soto/no-es-terrorismo-los-convencemos-buenro…",
         "newspaper_uid": "eluniversal",
         "host": "www.eluniversal.com.mx",
         "n_tokens_title": 3,
         "n_tokens_body": 435,
         "_deepnote_index_column": "492a5478c2a2196438a5972bb39924e4"
        },
        {
         "body": "\r\n\r\nLos funcionarios de alto rango del Instituto Nacional de Estadística y Geografía (Inegi) y de l…",
         "title": "En Inegi y Cofece ganarán más que AMLO",
         "url": "http://www.eluniversal.com.mx/nacion/en-inegi-y-cofece-ganaran-mas-que-amlo",
         "newspaper_uid": "eluniversal",
         "host": "www.eluniversal.com.mx",
         "n_tokens_title": 4,
         "n_tokens_body": 50,
         "_deepnote_index_column": "5e16ee1681a13cc4a7c74e75224b3085"
        },
        {
         "body": "\r\nCientíficos en todo el mundo estudian el proceso de infección que sufre una persona al entrar en …",
         "title": "El zinc sería clave para tratamiento de Covid-19",
         "url": "http://www.eluniversal.com.mx/ciencia-y-salud/el-zinc-seria-clave-para-un-tratamiento-contra-el-cov…",
         "newspaper_uid": "eluniversal",
         "host": "www.eluniversal.com.mx",
         "n_tokens_title": 3,
         "n_tokens_body": 232,
         "_deepnote_index_column": "357c14b8f08219f18d7d8ae504c20888"
        },
        {
         "body": "\r\nCuando el periodista Brian Krebs publicó en uno de los portales más leídos del mundo, The Daily M…",
         "title": "La mafia encontró el paraíso",
         "url": "https://www.eluniversal.com.mx/opinion/hector-de-mauleon/la-mafia-encontro-el-paraiso",
         "newspaper_uid": "eluniversal",
         "host": "www.eluniversal.com.mx",
         "n_tokens_title": 3,
         "n_tokens_body": 462,
         "_deepnote_index_column": "12dad999deb7f0a535b058c855ddf481"
        },
        {
         "body": "\r\nLa 64 Legislatura del Congreso de Oaxaca aprobó aplazar el inicio del proceso electoral ordinario…",
         "title": "Por pandemia, Congreso de Oaxaca aplaza hasta diciembre inicio del proceso electoral intermedio ",
         "url": "https://oaxaca.eluniversal.com.mx/politica/02-06-2020/por-pandemia-congreso-de-oaxaca-aplaza-hasta-…",
         "newspaper_uid": "eluniversal",
         "host": "oaxaca.eluniversal.com.mx",
         "n_tokens_title": 9,
         "n_tokens_body": 214,
         "_deepnote_index_column": "464b47e360547108f5a084d053f3e60e"
        },
        {
         "body": "\r\nEl presidente Andrés Manuel López Obrador solicitó a los opositores a Tren Maya respetar la decis…",
         "title": "AMLO pide a opositores a Tren Maya respetar decisión del pueblo",
         "url": "http://www.eluniversal.com.mx/nacion/amlo-pide-opositores-tren-maya-respetar-decision-del-pueblo",
         "newspaper_uid": "eluniversal",
         "host": "www.eluniversal.com.mx",
         "n_tokens_title": 8,
         "n_tokens_body": 97,
         "_deepnote_index_column": "65fb9dd92a1018ed5dd784af75291f9b"
        },
        {
         "body": "\r\nTexto: Carlos Villasana y Ruth GómezFotos actuales: Aram Ponce Franco / Cortesía\r\nEl Centro Histó…",
         "title": "El centro de reunión de los caballeros porfirianos",
         "url": "https://www.eluniversal.com.mx/opinion/mochilazo-en-el-tiempo/el-centro-de-reunion-de-los-caballero…",
         "newspaper_uid": "eluniversal",
         "host": "www.eluniversal.com.mx",
         "n_tokens_title": 4,
         "n_tokens_body": 730,
         "_deepnote_index_column": "03fc164a43ab05f43041ec67db8d056e"
        },
        {
         "body": "\r\nMarsha P. Johnson was a pioneer, LGBTQ+ activist,  drag queen, and performer. She was a prominent…",
         "title": "Marsha P. Johnson: The black transgender woman who was key in the Stonewall uprising",
         "url": "http://www.eluniversal.com.mx/english/marsha-p-johnson-black-transgender-woman-who-was-key-stonewal…",
         "newspaper_uid": "eluniversal",
         "host": "www.eluniversal.com.mx",
         "n_tokens_title": 13,
         "n_tokens_body": 423,
         "_deepnote_index_column": "21d7d9bbea15b925d3a89d1588e863cb"
        },
        {
         "body": "\r\nVaya golpe el que propinó la senadora Lilly Téllez a Morena en el Senado, pues no conforme con sa…",
         "title": "El golpe de la agente Téllez",
         "url": "https://www.eluniversal.com.mx/nacion/bajo-reserva-expres-el-golpe-de-la-agente-tellez",
         "newspaper_uid": "eluniversal",
         "host": "www.eluniversal.com.mx",
         "n_tokens_title": 3,
         "n_tokens_body": 81,
         "_deepnote_index_column": "3d32180c742f69ed4ee23ef1489a65a1"
        },
        {
         "body": "\r\n\r\nJalisco tiene 2 mil 25 casos confirmados y 167 muertos por coronavirus, de acuerdo con el repor…",
         "title": "Coronavirus Jalisco: Casos confirmados de Covid-19 al 2 de junio",
         "url": "http://www.eluniversal.com.mx/estados/coronavirus-jalisco-casos-confirmados-de-covid-19-al-2-de-jun…",
         "newspaper_uid": "eluniversal",
         "host": "www.eluniversal.com.mx",
         "n_tokens_title": 5,
         "n_tokens_body": 275,
         "_deepnote_index_column": "7b2021ce27a29ff7d1a9a858baa499e2"
        },
        {
         "body": "\r\nLa identidad de Jesús Alfonso Escoboza, mejor conocido como La Parka, fue revelada por su hija me…",
         "title": "Revelan identidad de La Parka en Tik Tok",
         "url": "http://www.eluniversal.com.mx/universal-deportes/mas-deportes/la-parka-revelan-identidad-del-histor…",
         "newspaper_uid": "eluniversal",
         "host": "www.eluniversal.com.mx",
         "n_tokens_title": 5,
         "n_tokens_body": 105,
         "_deepnote_index_column": "1e75e37388393589dab0f0233b26512c"
        },
        {
         "body": "\r\n“Fueron días muy duros para mí y mi familia. Cuando acudí al hospital, la angustia me invadió ant…",
         "title": "“La angustia me invadió ante la posibilidad de haberme contagiado de coronavirus\"",
         "url": "https://sanluis.eluniversal.com.mx/sociedad/02-06-2020/la-angustia-me-invadio-ante-la-posibilidad-d…",
         "newspaper_uid": "eluniversal",
         "host": "sanluis.eluniversal.com.mx",
         "n_tokens_title": 6,
         "n_tokens_body": 126,
         "_deepnote_index_column": "9081e83bc22fc0df25eef160c203f5a0"
        },
        {
         "body": "\r\nEl 80% de los restaurantes queretanos tiene problemas para cubrir el pago de la renta de los inmu…",
         "title": "El 80% de los restaurantes no tiene para el pago de la renta",
         "url": "https://www.eluniversalqueretaro.mx/portada/sin-recursos-para-la-renta-80-de-los-restaurantes",
         "newspaper_uid": "eluniversal",
         "host": "www.eluniversalqueretaro.mx",
         "n_tokens_title": 3,
         "n_tokens_body": 214,
         "_deepnote_index_column": "46518b475d8aef5d7327802ac758f42b"
        },
        {
         "body": "\r\nLa firma surcoreana Hyundai publicó los primeros detalles de lo que será la nueva SUV Santa Fe. L…",
         "title": "Hyundai Santa Fe 2021 se presenta en Europa",
         "url": "http://www.eluniversal.com.mx/autopistas/hyundai-santa-fe-2021-se-presenta-con-diseno-diferente-y-n…",
         "newspaper_uid": "eluniversal",
         "host": "www.eluniversal.com.mx",
         "n_tokens_title": 5,
         "n_tokens_body": 238,
         "_deepnote_index_column": "a9c815d5faf19f79c49a4deb417a8d34"
        }
       ],
       "rows_bottom": null
      },
      "text/plain": "                                                                               body  \\\nuid                                                                                   \n5f60c7cdf92aacf7b90f2e7fae67366f  \\r\\n\\r\\n\\r\\n\\r\\n    googletag.cmd.push(functio...   \n864cc985e42c8d5a1c3015f964701b66  \\r\\nEl museo del antiguo campo nazi de la muer...   \n9715c9e2a3d4909a4a66f46451119b46  \\r\\nLa Suprema Corte de Justicia de la Nación ...   \n55c827efc8fa5e3c2d653e243b54d507  \\r\\nUn grupo de funcionarios descubrió mosquit...   \n5f044ba246c3103846520f57013bc972  \\r\\nEn 1980, Héctor Suárez y Leticia Perdigón ...   \n...                                                                             ...   \n7b2021ce27a29ff7d1a9a858baa499e2  \\r\\n\\r\\nJalisco tiene 2 mil 25 casos confirmad...   \n1e75e37388393589dab0f0233b26512c  \\r\\nLa identidad de Jesús Alfonso Escoboza, me...   \n9081e83bc22fc0df25eef160c203f5a0  \\r\\n“Fueron días muy duros para mí y mi famili...   \n46518b475d8aef5d7327802ac758f42b  \\r\\nEl 80% de los restaurantes queretanos tien...   \na9c815d5faf19f79c49a4deb417a8d34  \\r\\nLa firma surcoreana Hyundai publicó los pr...   \n\n                                                                              title  \\\nuid                                                                                   \n5f60c7cdf92aacf7b90f2e7fae67366f  Las influencers tapatías que hacen temblar a Y...   \n864cc985e42c8d5a1c3015f964701b66  El museo de Auschwitz pide ayuda para sobreviv...   \n9715c9e2a3d4909a4a66f46451119b46  Corte avala que funcionarios de Banxico, INE e...   \n55c827efc8fa5e3c2d653e243b54d507                                                NaN   \n5f044ba246c3103846520f57013bc972         Héctor Suárez, zurdo y loco hasta el final   \n...                                                                             ...   \n7b2021ce27a29ff7d1a9a858baa499e2  Coronavirus Jalisco: Casos confirmados de Covi...   \n1e75e37388393589dab0f0233b26512c           Revelan identidad de La Parka en Tik Tok   \n9081e83bc22fc0df25eef160c203f5a0  “La angustia me invadió ante la posibilidad de...   \n46518b475d8aef5d7327802ac758f42b  El 80% de los restaurantes no tiene para el pa...   \na9c815d5faf19f79c49a4deb417a8d34        Hyundai Santa Fe 2021 se presenta en Europa   \n\n                                                                                url  \\\nuid                                                                                   \n5f60c7cdf92aacf7b90f2e7fae67366f  http://www.unionjalisco.mx/articulo/2020/06/02...   \n864cc985e42c8d5a1c3015f964701b66  http://www.eluniversal.com.mx/cultura/patrimon...   \n9715c9e2a3d4909a4a66f46451119b46  http://www.eluniversal.com.mx/nacion/corte-ava...   \n55c827efc8fa5e3c2d653e243b54d507  https://www.viveusa.mx/noticias/mosquitos-con-...   \n5f044ba246c3103846520f57013bc972  https://www.eluniversalqueretaro.mx/portada/he...   \n...                                                                             ...   \n7b2021ce27a29ff7d1a9a858baa499e2  http://www.eluniversal.com.mx/estados/coronavi...   \n1e75e37388393589dab0f0233b26512c  http://www.eluniversal.com.mx/universal-deport...   \n9081e83bc22fc0df25eef160c203f5a0  https://sanluis.eluniversal.com.mx/sociedad/02...   \n46518b475d8aef5d7327802ac758f42b  https://www.eluniversalqueretaro.mx/portada/si...   \na9c815d5faf19f79c49a4deb417a8d34  http://www.eluniversal.com.mx/autopistas/hyund...   \n\n                                 newspaper_uid                         host  \\\nuid                                                                           \n5f60c7cdf92aacf7b90f2e7fae67366f   eluniversal          www.unionjalisco.mx   \n864cc985e42c8d5a1c3015f964701b66   eluniversal       www.eluniversal.com.mx   \n9715c9e2a3d4909a4a66f46451119b46   eluniversal       www.eluniversal.com.mx   \n55c827efc8fa5e3c2d653e243b54d507   eluniversal               www.viveusa.mx   \n5f044ba246c3103846520f57013bc972   eluniversal  www.eluniversalqueretaro.mx   \n...                                        ...                          ...   \n7b2021ce27a29ff7d1a9a858baa499e2   eluniversal       www.eluniversal.com.mx   \n1e75e37388393589dab0f0233b26512c   eluniversal       www.eluniversal.com.mx   \n9081e83bc22fc0df25eef160c203f5a0   eluniversal   sanluis.eluniversal.com.mx   \n46518b475d8aef5d7327802ac758f42b   eluniversal  www.eluniversalqueretaro.mx   \na9c815d5faf19f79c49a4deb417a8d34   eluniversal       www.eluniversal.com.mx   \n\n                                  n_tokens_title  n_tokens_body  \nuid                                                              \n5f60c7cdf92aacf7b90f2e7fae67366f             6.0          176.0  \n864cc985e42c8d5a1c3015f964701b66             6.0          147.0  \n9715c9e2a3d4909a4a66f46451119b46             8.0          112.0  \n55c827efc8fa5e3c2d653e243b54d507             NaN            NaN  \n5f044ba246c3103846520f57013bc972             5.0          115.0  \n...                                          ...            ...  \n7b2021ce27a29ff7d1a9a858baa499e2             5.0          275.0  \n1e75e37388393589dab0f0233b26512c             5.0          105.0  \n9081e83bc22fc0df25eef160c203f5a0             6.0          126.0  \n46518b475d8aef5d7327802ac758f42b             3.0          214.0  \na9c815d5faf19f79c49a4deb417a8d34             5.0          238.0  \n\n[111 rows x 7 columns]",
      "text/html": "<div>\n<style scoped>\n    .dataframe tbody tr th:only-of-type {\n        vertical-align: middle;\n    }\n\n    .dataframe tbody tr th {\n        vertical-align: top;\n    }\n\n    .dataframe thead th {\n        text-align: right;\n    }\n</style>\n<table border=\"1\" class=\"dataframe\">\n  <thead>\n    <tr style=\"text-align: right;\">\n      <th></th>\n      <th>body</th>\n      <th>title</th>\n      <th>url</th>\n      <th>newspaper_uid</th>\n      <th>host</th>\n      <th>n_tokens_title</th>\n      <th>n_tokens_body</th>\n    </tr>\n    <tr>\n      <th>uid</th>\n      <th></th>\n      <th></th>\n      <th></th>\n      <th></th>\n      <th></th>\n      <th></th>\n      <th></th>\n    </tr>\n  </thead>\n  <tbody>\n    <tr>\n      <th>5f60c7cdf92aacf7b90f2e7fae67366f</th>\n      <td>\\r\\n\\r\\n\\r\\n\\r\\n    googletag.cmd.push(functio...</td>\n      <td>Las influencers tapatías que hacen temblar a Y...</td>\n      <td>http://www.unionjalisco.mx/articulo/2020/06/02...</td>\n      <td>eluniversal</td>\n      <td>www.unionjalisco.mx</td>\n      <td>6.0</td>\n      <td>176.0</td>\n    </tr>\n    <tr>\n      <th>864cc985e42c8d5a1c3015f964701b66</th>\n      <td>\\r\\nEl museo del antiguo campo nazi de la muer...</td>\n      <td>El museo de Auschwitz pide ayuda para sobreviv...</td>\n      <td>http://www.eluniversal.com.mx/cultura/patrimon...</td>\n      <td>eluniversal</td>\n      <td>www.eluniversal.com.mx</td>\n      <td>6.0</td>\n      <td>147.0</td>\n    </tr>\n    <tr>\n      <th>9715c9e2a3d4909a4a66f46451119b46</th>\n      <td>\\r\\nLa Suprema Corte de Justicia de la Nación ...</td>\n      <td>Corte avala que funcionarios de Banxico, INE e...</td>\n      <td>http://www.eluniversal.com.mx/nacion/corte-ava...</td>\n      <td>eluniversal</td>\n      <td>www.eluniversal.com.mx</td>\n      <td>8.0</td>\n      <td>112.0</td>\n    </tr>\n    <tr>\n      <th>55c827efc8fa5e3c2d653e243b54d507</th>\n      <td>\\r\\nUn grupo de funcionarios descubrió mosquit...</td>\n      <td>NaN</td>\n      <td>https://www.viveusa.mx/noticias/mosquitos-con-...</td>\n      <td>eluniversal</td>\n      <td>www.viveusa.mx</td>\n      <td>NaN</td>\n      <td>NaN</td>\n    </tr>\n    <tr>\n      <th>5f044ba246c3103846520f57013bc972</th>\n      <td>\\r\\nEn 1980, Héctor Suárez y Leticia Perdigón ...</td>\n      <td>Héctor Suárez, zurdo y loco hasta el final</td>\n      <td>https://www.eluniversalqueretaro.mx/portada/he...</td>\n      <td>eluniversal</td>\n      <td>www.eluniversalqueretaro.mx</td>\n      <td>5.0</td>\n      <td>115.0</td>\n    </tr>\n    <tr>\n      <th>...</th>\n      <td>...</td>\n      <td>...</td>\n      <td>...</td>\n      <td>...</td>\n      <td>...</td>\n      <td>...</td>\n      <td>...</td>\n    </tr>\n    <tr>\n      <th>7b2021ce27a29ff7d1a9a858baa499e2</th>\n      <td>\\r\\n\\r\\nJalisco tiene 2 mil 25 casos confirmad...</td>\n      <td>Coronavirus Jalisco: Casos confirmados de Covi...</td>\n      <td>http://www.eluniversal.com.mx/estados/coronavi...</td>\n      <td>eluniversal</td>\n      <td>www.eluniversal.com.mx</td>\n      <td>5.0</td>\n      <td>275.0</td>\n    </tr>\n    <tr>\n      <th>1e75e37388393589dab0f0233b26512c</th>\n      <td>\\r\\nLa identidad de Jesús Alfonso Escoboza, me...</td>\n      <td>Revelan identidad de La Parka en Tik Tok</td>\n      <td>http://www.eluniversal.com.mx/universal-deport...</td>\n      <td>eluniversal</td>\n      <td>www.eluniversal.com.mx</td>\n      <td>5.0</td>\n      <td>105.0</td>\n    </tr>\n    <tr>\n      <th>9081e83bc22fc0df25eef160c203f5a0</th>\n      <td>\\r\\n“Fueron días muy duros para mí y mi famili...</td>\n      <td>“La angustia me invadió ante la posibilidad de...</td>\n      <td>https://sanluis.eluniversal.com.mx/sociedad/02...</td>\n      <td>eluniversal</td>\n      <td>sanluis.eluniversal.com.mx</td>\n      <td>6.0</td>\n      <td>126.0</td>\n    </tr>\n    <tr>\n      <th>46518b475d8aef5d7327802ac758f42b</th>\n      <td>\\r\\nEl 80% de los restaurantes queretanos tien...</td>\n      <td>El 80% de los restaurantes no tiene para el pa...</td>\n      <td>https://www.eluniversalqueretaro.mx/portada/si...</td>\n      <td>eluniversal</td>\n      <td>www.eluniversalqueretaro.mx</td>\n      <td>3.0</td>\n      <td>214.0</td>\n    </tr>\n    <tr>\n      <th>a9c815d5faf19f79c49a4deb417a8d34</th>\n      <td>\\r\\nLa firma surcoreana Hyundai publicó los pr...</td>\n      <td>Hyundai Santa Fe 2021 se presenta en Europa</td>\n      <td>http://www.eluniversal.com.mx/autopistas/hyund...</td>\n      <td>eluniversal</td>\n      <td>www.eluniversal.com.mx</td>\n      <td>5.0</td>\n      <td>238.0</td>\n    </tr>\n  </tbody>\n</table>\n<p>111 rows × 7 columns</p>\n</div>"
     },
     "metadata": {}
    }
   ]
  },
  {
   "cell_type": "markdown",
   "source": "## Descriptive analysis",
   "metadata": {
    "tags": [],
    "cell_id": "00044-6fef79d4-7049-47af-a3f8-e04347b048cc",
    "deepnote_cell_type": "markdown"
   }
  },
  {
   "cell_type": "code",
   "source": "clean_el_universal = pd.read_csv('news/eluniversal_2020_06_03_articles_clean.csv')\nclean_el_pais = pd.read_csv('news/elpais_2021_08_26_articles_clean.csv')",
   "metadata": {
    "tags": [],
    "cell_id": "00045-40b8baef-d455-442c-837e-90352d25572d",
    "deepnote_to_be_reexecuted": false,
    "source_hash": "cb2788a3",
    "execution_start": 1630367602821,
    "execution_millis": 14,
    "deepnote_cell_type": "code"
   },
   "outputs": [],
   "execution_count": 24
  },
  {
   "cell_type": "code",
   "source": "clean_el_universal.describe()",
   "metadata": {
    "tags": [],
    "cell_id": "00046-da224637-5453-4494-aba6-421b19dbcd58",
    "deepnote_to_be_reexecuted": false,
    "source_hash": "4d4c099d",
    "execution_start": 1630367686625,
    "execution_millis": 48,
    "deepnote_cell_type": "code"
   },
   "outputs": [
    {
     "output_type": "execute_result",
     "execution_count": 26,
     "data": {
      "application/vnd.deepnote.dataframe.v2+json": {
       "row_count": 8,
       "column_count": 2,
       "columns": [
        {
         "name": "n_tokens_title",
         "dtype": "float64",
         "stats": {
          "unique_count": 8,
          "nan_count": 0,
          "min": "1.0",
          "max": "138.0",
          "histogram": [
           {
            "bin_start": 1,
            "bin_end": 14.7,
            "count": 6
           },
           {
            "bin_start": 14.7,
            "bin_end": 28.4,
            "count": 1
           },
           {
            "bin_start": 28.4,
            "bin_end": 42.099999999999994,
            "count": 0
           },
           {
            "bin_start": 42.099999999999994,
            "bin_end": 55.8,
            "count": 0
           },
           {
            "bin_start": 55.8,
            "bin_end": 69.5,
            "count": 0
           },
           {
            "bin_start": 69.5,
            "bin_end": 83.19999999999999,
            "count": 0
           },
           {
            "bin_start": 83.19999999999999,
            "bin_end": 96.89999999999999,
            "count": 0
           },
           {
            "bin_start": 96.89999999999999,
            "bin_end": 110.6,
            "count": 0
           },
           {
            "bin_start": 110.6,
            "bin_end": 124.3,
            "count": 0
           },
           {
            "bin_start": 124.3,
            "bin_end": 138,
            "count": 1
           }
          ]
         }
        },
        {
         "name": "n_tokens_body",
         "dtype": "float64",
         "stats": {
          "unique_count": 8,
          "nan_count": 0,
          "min": "1.0",
          "max": "1671.0",
          "histogram": [
           {
            "bin_start": 1,
            "bin_end": 168,
            "count": 3
           },
           {
            "bin_start": 168,
            "bin_end": 335,
            "count": 4
           },
           {
            "bin_start": 335,
            "bin_end": 502,
            "count": 0
           },
           {
            "bin_start": 502,
            "bin_end": 669,
            "count": 0
           },
           {
            "bin_start": 669,
            "bin_end": 836,
            "count": 0
           },
           {
            "bin_start": 836,
            "bin_end": 1003,
            "count": 0
           },
           {
            "bin_start": 1003,
            "bin_end": 1170,
            "count": 0
           },
           {
            "bin_start": 1170,
            "bin_end": 1337,
            "count": 0
           },
           {
            "bin_start": 1337,
            "bin_end": 1504,
            "count": 0
           },
           {
            "bin_start": 1504,
            "bin_end": 1671,
            "count": 1
           }
          ]
         }
        },
        {
         "name": "_deepnote_index_column",
         "dtype": "object"
        }
       ],
       "rows_top": [
        {
         "n_tokens_title": 138,
         "n_tokens_body": 138,
         "_deepnote_index_column": "count"
        },
        {
         "n_tokens_title": 6.0144927536231885,
         "n_tokens_body": 296.30434782608694,
         "_deepnote_index_column": "mean"
        },
        {
         "n_tokens_title": 2.32091571170153,
         "n_tokens_body": 267.0924443887763,
         "_deepnote_index_column": "std"
        },
        {
         "n_tokens_title": 1,
         "n_tokens_body": 1,
         "_deepnote_index_column": "min"
        },
        {
         "n_tokens_title": 5,
         "n_tokens_body": 147.5,
         "_deepnote_index_column": "25%"
        },
        {
         "n_tokens_title": 6,
         "n_tokens_body": 219.5,
         "_deepnote_index_column": "50%"
        },
        {
         "n_tokens_title": 7,
         "n_tokens_body": 318.75,
         "_deepnote_index_column": "75%"
        },
        {
         "n_tokens_title": 19,
         "n_tokens_body": 1671,
         "_deepnote_index_column": "max"
        }
       ],
       "rows_bottom": null
      },
      "text/plain": "       n_tokens_title  n_tokens_body\ncount      138.000000     138.000000\nmean         6.014493     296.304348\nstd          2.320916     267.092444\nmin          1.000000       1.000000\n25%          5.000000     147.500000\n50%          6.000000     219.500000\n75%          7.000000     318.750000\nmax         19.000000    1671.000000",
      "text/html": "<div>\n<style scoped>\n    .dataframe tbody tr th:only-of-type {\n        vertical-align: middle;\n    }\n\n    .dataframe tbody tr th {\n        vertical-align: top;\n    }\n\n    .dataframe thead th {\n        text-align: right;\n    }\n</style>\n<table border=\"1\" class=\"dataframe\">\n  <thead>\n    <tr style=\"text-align: right;\">\n      <th></th>\n      <th>n_tokens_title</th>\n      <th>n_tokens_body</th>\n    </tr>\n  </thead>\n  <tbody>\n    <tr>\n      <th>count</th>\n      <td>138.000000</td>\n      <td>138.000000</td>\n    </tr>\n    <tr>\n      <th>mean</th>\n      <td>6.014493</td>\n      <td>296.304348</td>\n    </tr>\n    <tr>\n      <th>std</th>\n      <td>2.320916</td>\n      <td>267.092444</td>\n    </tr>\n    <tr>\n      <th>min</th>\n      <td>1.000000</td>\n      <td>1.000000</td>\n    </tr>\n    <tr>\n      <th>25%</th>\n      <td>5.000000</td>\n      <td>147.500000</td>\n    </tr>\n    <tr>\n      <th>50%</th>\n      <td>6.000000</td>\n      <td>219.500000</td>\n    </tr>\n    <tr>\n      <th>75%</th>\n      <td>7.000000</td>\n      <td>318.750000</td>\n    </tr>\n    <tr>\n      <th>max</th>\n      <td>19.000000</td>\n      <td>1671.000000</td>\n    </tr>\n  </tbody>\n</table>\n</div>"
     },
     "metadata": {}
    }
   ],
   "execution_count": 26
  },
  {
   "cell_type": "code",
   "source": "clean_el_pais.describe()",
   "metadata": {
    "tags": [],
    "cell_id": "00046-691400e1-3ffb-4655-9035-af5380286b4d",
    "deepnote_to_be_reexecuted": false,
    "source_hash": "f3246892",
    "execution_start": 1630367640808,
    "execution_millis": 26,
    "deepnote_cell_type": "code"
   },
   "outputs": [
    {
     "output_type": "execute_result",
     "execution_count": 25,
     "data": {
      "application/vnd.deepnote.dataframe.v2+json": {
       "row_count": 8,
       "column_count": 2,
       "columns": [
        {
         "name": "n_tokens_title",
         "dtype": "float64",
         "stats": {
          "unique_count": 8,
          "nan_count": 0,
          "min": "1.0",
          "max": "79.0",
          "histogram": [
           {
            "bin_start": 1,
            "bin_end": 8.8,
            "count": 6
           },
           {
            "bin_start": 8.8,
            "bin_end": 16.6,
            "count": 1
           },
           {
            "bin_start": 16.6,
            "bin_end": 24.4,
            "count": 0
           },
           {
            "bin_start": 24.4,
            "bin_end": 32.2,
            "count": 0
           },
           {
            "bin_start": 32.2,
            "bin_end": 40,
            "count": 0
           },
           {
            "bin_start": 40,
            "bin_end": 47.8,
            "count": 0
           },
           {
            "bin_start": 47.8,
            "bin_end": 55.6,
            "count": 0
           },
           {
            "bin_start": 55.6,
            "bin_end": 63.4,
            "count": 0
           },
           {
            "bin_start": 63.4,
            "bin_end": 71.2,
            "count": 0
           },
           {
            "bin_start": 71.2,
            "bin_end": 79,
            "count": 1
           }
          ]
         }
        },
        {
         "name": "n_tokens_body",
         "dtype": "float64",
         "stats": {
          "unique_count": 8,
          "nan_count": 0,
          "min": "7.0",
          "max": "171.0",
          "histogram": [
           {
            "bin_start": 7,
            "bin_end": 23.4,
            "count": 1
           },
           {
            "bin_start": 23.4,
            "bin_end": 39.8,
            "count": 2
           },
           {
            "bin_start": 39.8,
            "bin_end": 56.199999999999996,
            "count": 1
           },
           {
            "bin_start": 56.199999999999996,
            "bin_end": 72.6,
            "count": 1
           },
           {
            "bin_start": 72.6,
            "bin_end": 89,
            "count": 2
           },
           {
            "bin_start": 89,
            "bin_end": 105.39999999999999,
            "count": 0
           },
           {
            "bin_start": 105.39999999999999,
            "bin_end": 121.79999999999998,
            "count": 0
           },
           {
            "bin_start": 121.79999999999998,
            "bin_end": 138.2,
            "count": 0
           },
           {
            "bin_start": 138.2,
            "bin_end": 154.6,
            "count": 0
           },
           {
            "bin_start": 154.6,
            "bin_end": 171,
            "count": 1
           }
          ]
         }
        },
        {
         "name": "_deepnote_index_column",
         "dtype": "object"
        }
       ],
       "rows_top": [
        {
         "n_tokens_title": 79,
         "n_tokens_body": 79,
         "_deepnote_index_column": "count"
        },
        {
         "n_tokens_title": 6.582278481012659,
         "n_tokens_body": 57.87341772151899,
         "_deepnote_index_column": "mean"
        },
        {
         "n_tokens_title": 2.7108878048869602,
         "n_tokens_body": 26.61952584322537,
         "_deepnote_index_column": "std"
        },
        {
         "n_tokens_title": 1,
         "n_tokens_body": 7,
         "_deepnote_index_column": "min"
        },
        {
         "n_tokens_title": 4,
         "n_tokens_body": 37.5,
         "_deepnote_index_column": "25%"
        },
        {
         "n_tokens_title": 7,
         "n_tokens_body": 55,
         "_deepnote_index_column": "50%"
        },
        {
         "n_tokens_title": 8,
         "n_tokens_body": 73,
         "_deepnote_index_column": "75%"
        },
        {
         "n_tokens_title": 12,
         "n_tokens_body": 171,
         "_deepnote_index_column": "max"
        }
       ],
       "rows_bottom": null
      },
      "text/plain": "       n_tokens_title  n_tokens_body\ncount       79.000000      79.000000\nmean         6.582278      57.873418\nstd          2.710888      26.619526\nmin          1.000000       7.000000\n25%          4.000000      37.500000\n50%          7.000000      55.000000\n75%          8.000000      73.000000\nmax         12.000000     171.000000",
      "text/html": "<div>\n<style scoped>\n    .dataframe tbody tr th:only-of-type {\n        vertical-align: middle;\n    }\n\n    .dataframe tbody tr th {\n        vertical-align: top;\n    }\n\n    .dataframe thead th {\n        text-align: right;\n    }\n</style>\n<table border=\"1\" class=\"dataframe\">\n  <thead>\n    <tr style=\"text-align: right;\">\n      <th></th>\n      <th>n_tokens_title</th>\n      <th>n_tokens_body</th>\n    </tr>\n  </thead>\n  <tbody>\n    <tr>\n      <th>count</th>\n      <td>79.000000</td>\n      <td>79.000000</td>\n    </tr>\n    <tr>\n      <th>mean</th>\n      <td>6.582278</td>\n      <td>57.873418</td>\n    </tr>\n    <tr>\n      <th>std</th>\n      <td>2.710888</td>\n      <td>26.619526</td>\n    </tr>\n    <tr>\n      <th>min</th>\n      <td>1.000000</td>\n      <td>7.000000</td>\n    </tr>\n    <tr>\n      <th>25%</th>\n      <td>4.000000</td>\n      <td>37.500000</td>\n    </tr>\n    <tr>\n      <th>50%</th>\n      <td>7.000000</td>\n      <td>55.000000</td>\n    </tr>\n    <tr>\n      <th>75%</th>\n      <td>8.000000</td>\n      <td>73.000000</td>\n    </tr>\n    <tr>\n      <th>max</th>\n      <td>12.000000</td>\n      <td>171.000000</td>\n    </tr>\n  </tbody>\n</table>\n</div>"
     },
     "metadata": {}
    }
   ],
   "execution_count": 25
  },
  {
   "cell_type": "code",
   "source": "clean_el_pais['n_tokens_title'].plot(style='k.')\nclean_el_universal['n_tokens_title'].plot(style='r.')",
   "metadata": {
    "tags": [],
    "cell_id": "00048-c0334495-8558-45b3-a2b0-dab73888c365",
    "deepnote_to_be_reexecuted": false,
    "source_hash": "e7d3d63d",
    "execution_start": 1630367797113,
    "execution_millis": 204,
    "deepnote_cell_type": "code"
   },
   "outputs": [
    {
     "output_type": "execute_result",
     "execution_count": 27,
     "data": {
      "text/plain": "<AxesSubplot:>"
     },
     "metadata": {}
    },
    {
     "data": {
      "text/plain": "<Figure size 432x288 with 1 Axes>",
      "image/png": "[encoded data removed]"
     },
     "metadata": {
      "needs_background": "light",
      "image/png": {
       "width": 379,
       "height": 248
      }
     },
     "output_type": "display_data"
    }
   ],
   "execution_count": 27
  },
  {
   "cell_type": "code",
   "source": "clean_el_pais['n_tokens_body'].plot(style='k.')\nclean_el_universal['n_tokens_body'].plot(style='r.')",
   "metadata": {
    "tags": [],
    "cell_id": "00049-6dd1e92c-b986-4ce7-8567-1cfa64b7c09f",
    "deepnote_to_be_reexecuted": false,
    "source_hash": "cfbf17f4",
    "execution_start": 1630367868105,
    "execution_millis": 138,
    "deepnote_cell_type": "code"
   },
   "outputs": [
    {
     "output_type": "execute_result",
     "execution_count": 28,
     "data": {
      "text/plain": "<AxesSubplot:>"
     },
     "metadata": {}
    },
    {
     "data": {
      "text/plain": "<Figure size 432x288 with 1 Axes>",
      "image/png": "[encoded data removed]"
     },
     "metadata": {
      "needs_background": "light",
      "image/png": {
       "width": 382,
       "height": 252
      }
     },
     "output_type": "display_data"
    }
   ],
   "execution_count": 28
  },
  {
   "cell_type": "code",
   "source": "all_newspapers = pd.concat([clean_el_pais,clean_el_universal])\ngrouped = all_newspapers.groupby('newspaper_uid')\ngrouped.hist()",
   "metadata": {
    "tags": [],
    "cell_id": "00050-86b02872-5700-4b7f-8c09-4823c1525476",
    "deepnote_to_be_reexecuted": false,
    "source_hash": "f89c7e5a",
    "execution_start": 1630368032092,
    "execution_millis": 549,
    "deepnote_cell_type": "code"
   },
   "outputs": [
    {
     "output_type": "execute_result",
     "execution_count": 32,
     "data": {
      "text/plain": "newspaper_uid\nnews/elpais         [[AxesSubplot(0.125,0.125;0.336957x0.755), Axe...\nnews/eluniversal    [[AxesSubplot(0.125,0.125;0.336957x0.755), Axe...\ndtype: object"
     },
     "metadata": {}
    },
    {
     "data": {
      "text/plain": "<Figure size 432x288 with 2 Axes>",
      "image/png": "[encoded data removed]"
     },
     "metadata": {
      "needs_background": "light",
      "image/png": {
       "width": 368,
       "height": 264
      }
     },
     "output_type": "display_data"
    },
    {
     "data": {
      "text/plain": "<Figure size 432x288 with 2 Axes>",
      "image/png": "[encoded data removed]"
     },
     "metadata": {
      "needs_background": "light",
      "image/png": {
       "width": 368,
       "height": 264
      }
     },
     "output_type": "display_data"
    }
   ],
   "execution_count": 32
  },
  {
   "cell_type": "code",
   "source": "grouped['n_tokens_body'].agg(['min','mean','max'])",
   "metadata": {
    "tags": [],
    "cell_id": "00051-ebdc75a3-c73c-4024-a75e-19147c4fe618",
    "deepnote_to_be_reexecuted": false,
    "source_hash": "ff772a9e",
    "execution_start": 1630368100162,
    "execution_millis": 4,
    "deepnote_cell_type": "code"
   },
   "outputs": [
    {
     "output_type": "execute_result",
     "execution_count": 33,
     "data": {
      "application/vnd.deepnote.dataframe.v2+json": {
       "row_count": 2,
       "column_count": 3,
       "columns": [
        {
         "name": "min",
         "dtype": "int64",
         "stats": {
          "unique_count": 2,
          "nan_count": 0,
          "min": "1",
          "max": "7",
          "histogram": [
           {
            "bin_start": 1,
            "bin_end": 1.6,
            "count": 1
           },
           {
            "bin_start": 1.6,
            "bin_end": 2.2,
            "count": 0
           },
           {
            "bin_start": 2.2,
            "bin_end": 2.8,
            "count": 0
           },
           {
            "bin_start": 2.8,
            "bin_end": 3.4,
            "count": 0
           },
           {
            "bin_start": 3.4,
            "bin_end": 4,
            "count": 0
           },
           {
            "bin_start": 4,
            "bin_end": 4.6,
            "count": 0
           },
           {
            "bin_start": 4.6,
            "bin_end": 5.2,
            "count": 0
           },
           {
            "bin_start": 5.2,
            "bin_end": 5.8,
            "count": 0
           },
           {
            "bin_start": 5.8,
            "bin_end": 6.3999999999999995,
            "count": 0
           },
           {
            "bin_start": 6.3999999999999995,
            "bin_end": 7,
            "count": 1
           }
          ]
         }
        },
        {
         "name": "mean",
         "dtype": "float64",
         "stats": {
          "unique_count": 2,
          "nan_count": 0,
          "min": "57.87341772151899",
          "max": "296.30434782608694",
          "histogram": [
           {
            "bin_start": 57.87341772151899,
            "bin_end": 81.71651073197579,
            "count": 1
           },
           {
            "bin_start": 81.71651073197579,
            "bin_end": 105.55960374243259,
            "count": 0
           },
           {
            "bin_start": 105.55960374243259,
            "bin_end": 129.40269675288937,
            "count": 0
           },
           {
            "bin_start": 129.40269675288937,
            "bin_end": 153.24578976334618,
            "count": 0
           },
           {
            "bin_start": 153.24578976334618,
            "bin_end": 177.08888277380296,
            "count": 0
           },
           {
            "bin_start": 177.08888277380296,
            "bin_end": 200.93197578425975,
            "count": 0
           },
           {
            "bin_start": 200.93197578425975,
            "bin_end": 224.77506879471656,
            "count": 0
           },
           {
            "bin_start": 224.77506879471656,
            "bin_end": 248.61816180517334,
            "count": 0
           },
           {
            "bin_start": 248.61816180517334,
            "bin_end": 272.4612548156301,
            "count": 0
           },
           {
            "bin_start": 272.4612548156301,
            "bin_end": 296.30434782608694,
            "count": 1
           }
          ]
         }
        },
        {
         "name": "max",
         "dtype": "int64",
         "stats": {
          "unique_count": 2,
          "nan_count": 0,
          "min": "171",
          "max": "1671",
          "histogram": [
           {
            "bin_start": 171,
            "bin_end": 321,
            "count": 1
           },
           {
            "bin_start": 321,
            "bin_end": 471,
            "count": 0
           },
           {
            "bin_start": 471,
            "bin_end": 621,
            "count": 0
           },
           {
            "bin_start": 621,
            "bin_end": 771,
            "count": 0
           },
           {
            "bin_start": 771,
            "bin_end": 921,
            "count": 0
           },
           {
            "bin_start": 921,
            "bin_end": 1071,
            "count": 0
           },
           {
            "bin_start": 1071,
            "bin_end": 1221,
            "count": 0
           },
           {
            "bin_start": 1221,
            "bin_end": 1371,
            "count": 0
           },
           {
            "bin_start": 1371,
            "bin_end": 1521,
            "count": 0
           },
           {
            "bin_start": 1521,
            "bin_end": 1671,
            "count": 1
           }
          ]
         }
        },
        {
         "name": "_deepnote_index_column",
         "dtype": "object"
        }
       ],
       "rows_top": [
        {
         "min": 7,
         "mean": 57.87341772151899,
         "max": 171,
         "_deepnote_index_column": "news/elpais"
        },
        {
         "min": 1,
         "mean": 296.30434782608694,
         "max": 1671,
         "_deepnote_index_column": "news/eluniversal"
        }
       ],
       "rows_bottom": null
      },
      "text/plain": "                  min        mean   max\nnewspaper_uid                          \nnews/elpais         7   57.873418   171\nnews/eluniversal    1  296.304348  1671",
      "text/html": "<div>\n<style scoped>\n    .dataframe tbody tr th:only-of-type {\n        vertical-align: middle;\n    }\n\n    .dataframe tbody tr th {\n        vertical-align: top;\n    }\n\n    .dataframe thead th {\n        text-align: right;\n    }\n</style>\n<table border=\"1\" class=\"dataframe\">\n  <thead>\n    <tr style=\"text-align: right;\">\n      <th></th>\n      <th>min</th>\n      <th>mean</th>\n      <th>max</th>\n    </tr>\n    <tr>\n      <th>newspaper_uid</th>\n      <th></th>\n      <th></th>\n      <th></th>\n    </tr>\n  </thead>\n  <tbody>\n    <tr>\n      <th>news/elpais</th>\n      <td>7</td>\n      <td>57.873418</td>\n      <td>171</td>\n    </tr>\n    <tr>\n      <th>news/eluniversal</th>\n      <td>1</td>\n      <td>296.304348</td>\n      <td>1671</td>\n    </tr>\n  </tbody>\n</table>\n</div>"
     },
     "metadata": {}
    }
   ],
   "execution_count": 33
  },
  {
   "cell_type": "code",
   "source": "grouped.plot()",
   "metadata": {
    "tags": [],
    "cell_id": "00052-b54d270e-43ca-44d8-9257-14e40d0c5ff0",
    "deepnote_to_be_reexecuted": false,
    "source_hash": "abe8e75d",
    "execution_start": 1630368118066,
    "execution_millis": 438,
    "deepnote_cell_type": "code"
   },
   "outputs": [
    {
     "output_type": "execute_result",
     "execution_count": 34,
     "data": {
      "text/plain": "newspaper_uid\nnews/elpais         AxesSubplot(0.125,0.125;0.775x0.755)\nnews/eluniversal    AxesSubplot(0.125,0.125;0.775x0.755)\ndtype: object"
     },
     "metadata": {}
    },
    {
     "data": {
      "text/plain": "<Figure size 432x288 with 1 Axes>",
      "image/png": "[encoded data removed]"
     },
     "metadata": {
      "needs_background": "light",
      "image/png": {
       "width": 375,
       "height": 248
      }
     },
     "output_type": "display_data"
    },
    {
     "data": {
      "text/plain": "<Figure size 432x288 with 1 Axes>",
      "image/png": "[encoded data removed]"
     },
     "metadata": {
      "needs_background": "light",
      "image/png": {
       "width": 382,
       "height": 252
      }
     },
     "output_type": "display_data"
    }
   ],
   "execution_count": 34
  },
  {
   "cell_type": "markdown",
   "source": "<a style='text-decoration:none;line-height:16px;display:flex;color:#5B5B62;padding:10px;justify-content:end;' href='https://deepnote.com?utm_source=created-in-deepnote-cell&projectId=f316d070-7577-4574-9433-84366e14acae' target=\"_blank\">\n<img alt='Created in deepnote.com' style='display:inline;max-height:16px;margin:0px;margin-right:7.5px;' src='data:image/svg+xml;base64,PD94bWwgdmVyc2lvbj0iMS4wIiBlbmNvZGluZz0iVVRGLTgiPz4KPHN2ZyB3aWR0aD0iODBweCIgaGVpZ2h0PSI4MHB4IiB2aWV3Qm94PSIwIDAgODAgODAiIHZlcnNpb249IjEuMSIgeG1sbnM9Imh0dHA6Ly93d3cudzMub3JnLzIwMDAvc3ZnIiB4bWxuczp4bGluaz0iaHR0cDovL3d3dy53My5vcmcvMTk5OS94bGluayI+CiAgICA8IS0tIEdlbmVyYXRvcjogU2tldGNoIDU0LjEgKDc2NDkwKSAtIGh0dHBzOi8vc2tldGNoYXBwLmNvbSAtLT4KICAgIDx0aXRsZT5Hcm91cCAzPC90aXRsZT4KICAgIDxkZXNjPkNyZWF0ZWQgd2l0aCBTa2V0Y2guPC9kZXNjPgogICAgPGcgaWQ9IkxhbmRpbmciIHN0cm9rZT0ibm9uZSIgc3Ryb2tlLXdpZHRoPSIxIiBmaWxsPSJub25lIiBmaWxsLXJ1bGU9ImV2ZW5vZGQiPgogICAgICAgIDxnIGlkPSJBcnRib2FyZCIgdHJhbnNmb3JtPSJ0cmFuc2xhdGUoLTEyMzUuMDAwMDAwLCAtNzkuMDAwMDAwKSI+CiAgICAgICAgICAgIDxnIGlkPSJHcm91cC0zIiB0cmFuc2Zvcm09InRyYW5zbGF0ZSgxMjM1LjAwMDAwMCwgNzkuMDAwMDAwKSI+CiAgICAgICAgICAgICAgICA8cG9seWdvbiBpZD0iUGF0aC0yMCIgZmlsbD0iIzAyNjVCNCIgcG9pbnRzPSIyLjM3NjIzNzYyIDgwIDM4LjA0NzY2NjcgODAgNTcuODIxNzgyMiA3My44MDU3NTkyIDU3LjgyMTc4MjIgMzIuNzU5MjczOSAzOS4xNDAyMjc4IDMxLjY4MzE2ODMiPjwvcG9seWdvbj4KICAgICAgICAgICAgICAgIDxwYXRoIGQ9Ik0zNS4wMDc3MTgsODAgQzQyLjkwNjIwMDcsNzYuNDU0OTM1OCA0Ny41NjQ5MTY3LDcxLjU0MjI2NzEgNDguOTgzODY2LDY1LjI2MTk5MzkgQzUxLjExMjI4OTksNTUuODQxNTg0MiA0MS42NzcxNzk1LDQ5LjIxMjIyODQgMjUuNjIzOTg0Niw0OS4yMTIyMjg0IEMyNS40ODQ5Mjg5LDQ5LjEyNjg0NDggMjkuODI2MTI5Niw0My4yODM4MjQ4IDM4LjY0NzU4NjksMzEuNjgzMTY4MyBMNzIuODcxMjg3MSwzMi41NTQ0MjUgTDY1LjI4MDk3Myw2Ny42NzYzNDIxIEw1MS4xMTIyODk5LDc3LjM3NjE0NCBMMzUuMDA3NzE4LDgwIFoiIGlkPSJQYXRoLTIyIiBmaWxsPSIjMDAyODY4Ij48L3BhdGg+CiAgICAgICAgICAgICAgICA8cGF0aCBkPSJNMCwzNy43MzA0NDA1IEwyNy4xMTQ1MzcsMC4yNTcxMTE0MzYgQzYyLjM3MTUxMjMsLTEuOTkwNzE3MDEgODAsMTAuNTAwMzkyNyA4MCwzNy43MzA0NDA1IEM4MCw2NC45NjA0ODgyIDY0Ljc3NjUwMzgsNzkuMDUwMzQxNCAzNC4zMjk1MTEzLDgwIEM0Ny4wNTUzNDg5LDc3LjU2NzA4MDggNTMuNDE4MjY3Nyw3MC4zMTM2MTAzIDUzLjQxODI2NzcsNTguMjM5NTg4NSBDNTMuNDE4MjY3Nyw0MC4xMjg1NTU3IDM2LjMwMzk1NDQsMzcuNzMwNDQwNSAyNS4yMjc0MTcsMzcuNzMwNDQwNSBDMTcuODQzMDU4NiwzNy43MzA0NDA1IDkuNDMzOTE5NjYsMzcuNzMwNDQwNSAwLDM3LjczMDQ0MDUgWiIgaWQ9IlBhdGgtMTkiIGZpbGw9IiMzNzkzRUYiPjwvcGF0aD4KICAgICAgICAgICAgPC9nPgogICAgICAgIDwvZz4KICAgIDwvZz4KPC9zdmc+' > </img>\nCreated in <span style='font-weight:600;margin-left:4px;'>Deepnote</span></a>",
   "metadata": {
    "tags": [],
    "created_in_deepnote_cell": true,
    "deepnote_cell_type": "markdown"
   }
  }
 ],
 "nbformat": 4,
 "nbformat_minor": 2,
 "metadata": {
  "orig_nbformat": 2,
  "deepnote": {
   "is_reactive": false
  },
  "deepnote_notebook_id": "b3bfb77a-e67e-41bf-beee-8f927913fcb4",
  "deepnote_execution_queue": []
 }
}