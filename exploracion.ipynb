{
 "cells": [
  {
   "cell_type": "markdown",
   "source": "# Pandas",
   "metadata": {
    "tags": [],
    "cell_id": "00000-dda62453-07bc-498f-99ec-4d0a0db8e0d4",
    "deepnote_cell_type": "markdown"
   }
  },
  {
   "cell_type": "markdown",
   "source": "## Series",
   "metadata": {
    "tags": [],
    "cell_id": "00001-01634210-5cd8-4044-80fc-b6b9b8c3cf05",
    "deepnote_cell_type": "markdown"
   }
  },
  {
   "cell_type": "code",
   "metadata": {
    "tags": [],
    "cell_id": "00000-33415882-ec5d-482f-8a9c-52c18b150dc9",
    "deepnote_to_be_reexecuted": false,
    "source_hash": "e7a677f4",
    "execution_start": 1629936979646,
    "execution_millis": 4,
    "deepnote_cell_type": "code"
   },
   "source": "import pandas as pd\nseries_test = pd.Series([100,200,300])\nseries_test",
   "execution_count": 1,
   "outputs": [
    {
     "output_type": "execute_result",
     "execution_count": 1,
     "data": {
      "text/plain": "0    100\n1    200\n2    300\ndtype: int64"
     },
     "metadata": {}
    }
   ]
  },
  {
   "cell_type": "code",
   "metadata": {
    "tags": [],
    "cell_id": "00003-0f7b2626-5611-4080-9196-7383959002bf",
    "deepnote_to_be_reexecuted": false,
    "source_hash": "c046c517",
    "execution_start": 1629936979686,
    "execution_millis": 6,
    "deepnote_cell_type": "code"
   },
   "source": "series_test2 = pd.Series({1999:47,2000:65,2001:99})\nseries_test2",
   "execution_count": 2,
   "outputs": [
    {
     "output_type": "execute_result",
     "execution_count": 2,
     "data": {
      "text/plain": "1999    47\n2000    65\n2001    99\ndtype: int64"
     },
     "metadata": {}
    }
   ]
  },
  {
   "cell_type": "markdown",
   "source": "## DataFrames",
   "metadata": {
    "tags": [],
    "cell_id": "00004-28216a03-da03-4625-a5ac-d29f0d1273ae",
    "deepnote_cell_type": "markdown"
   }
  },
  {
   "cell_type": "code",
   "metadata": {
    "tags": [],
    "cell_id": "00005-4ea23ef5-a1ef-4ab4-8401-aa513b21fb6a",
    "deepnote_to_be_reexecuted": false,
    "source_hash": "8dc6d692",
    "execution_start": 1629936979687,
    "execution_millis": 5,
    "deepnote_cell_type": "code"
   },
   "source": "frame_test = pd.DataFrame({\n    1999:[34,66,88],\n    2000:[11,222,44],\n    2001:[66,88,11]\n})\nframe_test",
   "execution_count": 3,
   "outputs": [
    {
     "output_type": "execute_result",
     "execution_count": 3,
     "data": {
      "application/vnd.deepnote.dataframe.v2+json": {
       "row_count": 3,
       "column_count": 3,
       "columns": [
        {
         "name": 1999,
         "dtype": "int64",
         "stats": {
          "unique_count": 3,
          "nan_count": 0,
          "min": "34",
          "max": "88",
          "histogram": [
           {
            "bin_start": 34,
            "bin_end": 39.4,
            "count": 1
           },
           {
            "bin_start": 39.4,
            "bin_end": 44.8,
            "count": 0
           },
           {
            "bin_start": 44.8,
            "bin_end": 50.2,
            "count": 0
           },
           {
            "bin_start": 50.2,
            "bin_end": 55.6,
            "count": 0
           },
           {
            "bin_start": 55.6,
            "bin_end": 61,
            "count": 0
           },
           {
            "bin_start": 61,
            "bin_end": 66.4,
            "count": 1
           },
           {
            "bin_start": 66.4,
            "bin_end": 71.80000000000001,
            "count": 0
           },
           {
            "bin_start": 71.80000000000001,
            "bin_end": 77.2,
            "count": 0
           },
           {
            "bin_start": 77.2,
            "bin_end": 82.6,
            "count": 0
           },
           {
            "bin_start": 82.6,
            "bin_end": 88,
            "count": 1
           }
          ]
         }
        },
        {
         "name": 2000,
         "dtype": "int64",
         "stats": {
          "unique_count": 3,
          "nan_count": 0,
          "min": "11",
          "max": "222",
          "histogram": [
           {
            "bin_start": 11,
            "bin_end": 32.1,
            "count": 1
           },
           {
            "bin_start": 32.1,
            "bin_end": 53.2,
            "count": 1
           },
           {
            "bin_start": 53.2,
            "bin_end": 74.30000000000001,
            "count": 0
           },
           {
            "bin_start": 74.30000000000001,
            "bin_end": 95.4,
            "count": 0
           },
           {
            "bin_start": 95.4,
            "bin_end": 116.5,
            "count": 0
           },
           {
            "bin_start": 116.5,
            "bin_end": 137.60000000000002,
            "count": 0
           },
           {
            "bin_start": 137.60000000000002,
            "bin_end": 158.70000000000002,
            "count": 0
           },
           {
            "bin_start": 158.70000000000002,
            "bin_end": 179.8,
            "count": 0
           },
           {
            "bin_start": 179.8,
            "bin_end": 200.9,
            "count": 0
           },
           {
            "bin_start": 200.9,
            "bin_end": 222,
            "count": 1
           }
          ]
         }
        },
        {
         "name": 2001,
         "dtype": "int64",
         "stats": {
          "unique_count": 3,
          "nan_count": 0,
          "min": "11",
          "max": "88",
          "histogram": [
           {
            "bin_start": 11,
            "bin_end": 18.7,
            "count": 1
           },
           {
            "bin_start": 18.7,
            "bin_end": 26.4,
            "count": 0
           },
           {
            "bin_start": 26.4,
            "bin_end": 34.1,
            "count": 0
           },
           {
            "bin_start": 34.1,
            "bin_end": 41.8,
            "count": 0
           },
           {
            "bin_start": 41.8,
            "bin_end": 49.5,
            "count": 0
           },
           {
            "bin_start": 49.5,
            "bin_end": 57.2,
            "count": 0
           },
           {
            "bin_start": 57.2,
            "bin_end": 64.9,
            "count": 0
           },
           {
            "bin_start": 64.9,
            "bin_end": 72.6,
            "count": 1
           },
           {
            "bin_start": 72.6,
            "bin_end": 80.3,
            "count": 0
           },
           {
            "bin_start": 80.3,
            "bin_end": 88,
            "count": 1
           }
          ]
         }
        },
        {
         "name": "_deepnote_index_column",
         "dtype": "int64"
        }
       ],
       "rows_top": [
        {
         "1999": 34,
         "2000": 11,
         "2001": 66,
         "_deepnote_index_column": 0
        },
        {
         "1999": 66,
         "2000": 222,
         "2001": 88,
         "_deepnote_index_column": 1
        },
        {
         "1999": 88,
         "2000": 44,
         "2001": 11,
         "_deepnote_index_column": 2
        }
       ],
       "rows_bottom": null
      },
      "text/plain": "   1999  2000  2001\n0    34    11    66\n1    66   222    88\n2    88    44    11",
      "text/html": "<div>\n<style scoped>\n    .dataframe tbody tr th:only-of-type {\n        vertical-align: middle;\n    }\n\n    .dataframe tbody tr th {\n        vertical-align: top;\n    }\n\n    .dataframe thead th {\n        text-align: right;\n    }\n</style>\n<table border=\"1\" class=\"dataframe\">\n  <thead>\n    <tr style=\"text-align: right;\">\n      <th></th>\n      <th>1999</th>\n      <th>2000</th>\n      <th>2001</th>\n    </tr>\n  </thead>\n  <tbody>\n    <tr>\n      <th>0</th>\n      <td>34</td>\n      <td>11</td>\n      <td>66</td>\n    </tr>\n    <tr>\n      <th>1</th>\n      <td>66</td>\n      <td>222</td>\n      <td>88</td>\n    </tr>\n    <tr>\n      <th>2</th>\n      <td>88</td>\n      <td>44</td>\n      <td>11</td>\n    </tr>\n  </tbody>\n</table>\n</div>"
     },
     "metadata": {}
    }
   ]
  },
  {
   "cell_type": "code",
   "metadata": {
    "tags": [],
    "cell_id": "00006-99b0cc61-496b-4eac-ae92-40eb09defd74",
    "deepnote_to_be_reexecuted": false,
    "source_hash": "ef720c08",
    "execution_start": 1629936979714,
    "execution_millis": 4,
    "deepnote_cell_type": "code"
   },
   "source": "frame_test2 = pd.DataFrame([\n    [34,66,88],[11,222,44],[66,88,11]],\n    columns=[199,2000,2001]\n)\nframe_test2",
   "execution_count": 4,
   "outputs": [
    {
     "output_type": "execute_result",
     "execution_count": 4,
     "data": {
      "application/vnd.deepnote.dataframe.v2+json": {
       "row_count": 3,
       "column_count": 3,
       "columns": [
        {
         "name": 199,
         "dtype": "int64",
         "stats": {
          "unique_count": 3,
          "nan_count": 0,
          "min": "11",
          "max": "66",
          "histogram": [
           {
            "bin_start": 11,
            "bin_end": 16.5,
            "count": 1
           },
           {
            "bin_start": 16.5,
            "bin_end": 22,
            "count": 0
           },
           {
            "bin_start": 22,
            "bin_end": 27.5,
            "count": 0
           },
           {
            "bin_start": 27.5,
            "bin_end": 33,
            "count": 0
           },
           {
            "bin_start": 33,
            "bin_end": 38.5,
            "count": 1
           },
           {
            "bin_start": 38.5,
            "bin_end": 44,
            "count": 0
           },
           {
            "bin_start": 44,
            "bin_end": 49.5,
            "count": 0
           },
           {
            "bin_start": 49.5,
            "bin_end": 55,
            "count": 0
           },
           {
            "bin_start": 55,
            "bin_end": 60.5,
            "count": 0
           },
           {
            "bin_start": 60.5,
            "bin_end": 66,
            "count": 1
           }
          ]
         }
        },
        {
         "name": 2000,
         "dtype": "int64",
         "stats": {
          "unique_count": 3,
          "nan_count": 0,
          "min": "66",
          "max": "222",
          "histogram": [
           {
            "bin_start": 66,
            "bin_end": 81.6,
            "count": 1
           },
           {
            "bin_start": 81.6,
            "bin_end": 97.2,
            "count": 1
           },
           {
            "bin_start": 97.2,
            "bin_end": 112.8,
            "count": 0
           },
           {
            "bin_start": 112.8,
            "bin_end": 128.4,
            "count": 0
           },
           {
            "bin_start": 128.4,
            "bin_end": 144,
            "count": 0
           },
           {
            "bin_start": 144,
            "bin_end": 159.6,
            "count": 0
           },
           {
            "bin_start": 159.6,
            "bin_end": 175.2,
            "count": 0
           },
           {
            "bin_start": 175.2,
            "bin_end": 190.8,
            "count": 0
           },
           {
            "bin_start": 190.8,
            "bin_end": 206.4,
            "count": 0
           },
           {
            "bin_start": 206.4,
            "bin_end": 222,
            "count": 1
           }
          ]
         }
        },
        {
         "name": 2001,
         "dtype": "int64",
         "stats": {
          "unique_count": 3,
          "nan_count": 0,
          "min": "11",
          "max": "88",
          "histogram": [
           {
            "bin_start": 11,
            "bin_end": 18.7,
            "count": 1
           },
           {
            "bin_start": 18.7,
            "bin_end": 26.4,
            "count": 0
           },
           {
            "bin_start": 26.4,
            "bin_end": 34.1,
            "count": 0
           },
           {
            "bin_start": 34.1,
            "bin_end": 41.8,
            "count": 0
           },
           {
            "bin_start": 41.8,
            "bin_end": 49.5,
            "count": 1
           },
           {
            "bin_start": 49.5,
            "bin_end": 57.2,
            "count": 0
           },
           {
            "bin_start": 57.2,
            "bin_end": 64.9,
            "count": 0
           },
           {
            "bin_start": 64.9,
            "bin_end": 72.6,
            "count": 0
           },
           {
            "bin_start": 72.6,
            "bin_end": 80.3,
            "count": 0
           },
           {
            "bin_start": 80.3,
            "bin_end": 88,
            "count": 1
           }
          ]
         }
        },
        {
         "name": "_deepnote_index_column",
         "dtype": "int64"
        }
       ],
       "rows_top": [
        {
         "199": 34,
         "2000": 66,
         "2001": 88,
         "_deepnote_index_column": 0
        },
        {
         "199": 11,
         "2000": 222,
         "2001": 44,
         "_deepnote_index_column": 1
        },
        {
         "199": 66,
         "2000": 88,
         "2001": 11,
         "_deepnote_index_column": 2
        }
       ],
       "rows_bottom": null
      },
      "text/plain": "   199   2000  2001\n0    34    66    88\n1    11   222    44\n2    66    88    11",
      "text/html": "<div>\n<style scoped>\n    .dataframe tbody tr th:only-of-type {\n        vertical-align: middle;\n    }\n\n    .dataframe tbody tr th {\n        vertical-align: top;\n    }\n\n    .dataframe thead th {\n        text-align: right;\n    }\n</style>\n<table border=\"1\" class=\"dataframe\">\n  <thead>\n    <tr style=\"text-align: right;\">\n      <th></th>\n      <th>199</th>\n      <th>2000</th>\n      <th>2001</th>\n    </tr>\n  </thead>\n  <tbody>\n    <tr>\n      <th>0</th>\n      <td>34</td>\n      <td>66</td>\n      <td>88</td>\n    </tr>\n    <tr>\n      <th>1</th>\n      <td>11</td>\n      <td>222</td>\n      <td>44</td>\n    </tr>\n    <tr>\n      <th>2</th>\n      <td>66</td>\n      <td>88</td>\n      <td>11</td>\n    </tr>\n  </tbody>\n</table>\n</div>"
     },
     "metadata": {}
    }
   ]
  },
  {
   "cell_type": "markdown",
   "source": "## Read Data",
   "metadata": {
    "tags": [],
    "cell_id": "00007-a0d09f0f-295d-4d6c-9078-3be6bc75b79e",
    "deepnote_cell_type": "markdown"
   }
  },
  {
   "cell_type": "code",
   "metadata": {
    "tags": [],
    "cell_id": "00008-60e91ea1-af7d-40d0-9a1f-f109297cd917",
    "deepnote_to_be_reexecuted": false,
    "source_hash": "c438efd5",
    "execution_start": 1629936979774,
    "execution_millis": 6,
    "deepnote_cell_type": "code"
   },
   "source": "el_pais = pd.read_csv('./news/elpais_2021_08_25_articles.csv')\nel_universal = pd.read_csv('./news/eluniversal_2020_06_03_articles.csv')\nel_pais.head(4)",
   "execution_count": 5,
   "outputs": [
    {
     "output_type": "execute_result",
     "execution_count": 5,
     "data": {
      "application/vnd.deepnote.dataframe.v2+json": {
       "row_count": 4,
       "column_count": 2,
       "columns": [
        {
         "name": "body",
         "dtype": "object",
         "stats": {
          "unique_count": 4,
          "nan_count": 0,
          "categories": [
           {
            "name": "El exdictador chadiano Hissène Habré ha fallecido este martes a los 79 años en un hospital de Dakar, la capital senegalesa, tras contraer la covid-19. El anciano dirigente cumplía una condena a perpetuidad en este país por crímenes contra la humanidad, violación, torturas y otros delitos cometidos entre 1982 y 1990, el tiempo que estuvo en el poder. Hace una semana se puso enfermo debido al coronavirus y fue trasladado a un centro hospitalario. Apodado el Pinochet africano por su crueldad, se calcula que durante su régimen fueron asesinadas unas 40.000 personas.",
            "count": 1
           },
           {
            "name": "El consejo de administración de EL PAÍS ha ratificado este lunes por unanimidad el nombramiento de Pepa Bueno como directora del periódico, en sustitución de Javier Moreno. El relevo en la dirección del diario se hará efectivo el martes. De acuerdo con el Estatuto de la Redacción de EL PAÍS, la designación fue sometida a una votación consultiva de la plantilla, que respaldó de forma mayoritaria el nombramiento.",
            "count": 1
           },
           {
            "name": "2 others",
            "count": 2
           }
          ]
         }
        },
        {
         "name": "title",
         "dtype": "object",
         "stats": {
          "unique_count": 4,
          "nan_count": 0,
          "categories": [
           {
            "name": "El exdictador chadiano Hissene Habré muere en Dakar de covid",
            "count": 1
           },
           {
            "name": "El consejo de administración de EL PAÍS ratifica el nombramiento de Pepa Bueno como directora",
            "count": 1
           },
           {
            "name": "2 others",
            "count": 2
           }
          ]
         }
        },
        {
         "name": "_deepnote_index_column",
         "dtype": "int64"
        }
       ],
       "rows_top": [
        {
         "body": "El exdictador chadiano Hissène Habré ha fallecido este martes a los 79 años en un hospital de Dakar…",
         "title": "El exdictador chadiano Hissene Habré muere en Dakar de covid",
         "_deepnote_index_column": 0
        },
        {
         "body": "El consejo de administración de EL PAÍS ha ratificado este lunes por unanimidad el nombramiento de …",
         "title": "El consejo de administración de EL PAÍS ratifica el nombramiento de Pepa Bueno como directora",
         "_deepnote_index_column": 1
        },
        {
         "body": "Cuando Dorothy Kosinski, directora de la Phillips Collection, se puso a trabajar en la conmemoració…",
         "title": "El museo que nació hace 100 años del duelo de otra pandemia",
         "_deepnote_index_column": 2
        },
        {
         "body": "Aquello que nos acerca a lo que amamos suele estar en el lugar más inesperado. Hace una semana, jus…",
         "title": "Andrea Stefanoni: “Quizás desaparezca antes el tabaco que los libros”.",
         "_deepnote_index_column": 3
        }
       ],
       "rows_bottom": null
      },
      "text/plain": "                                                body  \\\n0  El exdictador chadiano Hissène Habré ha fallec...   \n1  El consejo de administración de EL PAÍS ha rat...   \n2  Cuando Dorothy Kosinski, directora de la Phill...   \n3  Aquello que nos acerca a lo que amamos suele e...   \n\n                                               title  \n0  El exdictador chadiano Hissene Habré muere en ...  \n1  El consejo de administración de EL PAÍS ratifi...  \n2  El museo que nació hace 100 años del duelo de ...  \n3  Andrea Stefanoni: “Quizás desaparezca antes el...  ",
      "text/html": "<div>\n<style scoped>\n    .dataframe tbody tr th:only-of-type {\n        vertical-align: middle;\n    }\n\n    .dataframe tbody tr th {\n        vertical-align: top;\n    }\n\n    .dataframe thead th {\n        text-align: right;\n    }\n</style>\n<table border=\"1\" class=\"dataframe\">\n  <thead>\n    <tr style=\"text-align: right;\">\n      <th></th>\n      <th>body</th>\n      <th>title</th>\n    </tr>\n  </thead>\n  <tbody>\n    <tr>\n      <th>0</th>\n      <td>El exdictador chadiano Hissène Habré ha fallec...</td>\n      <td>El exdictador chadiano Hissene Habré muere en ...</td>\n    </tr>\n    <tr>\n      <th>1</th>\n      <td>El consejo de administración de EL PAÍS ha rat...</td>\n      <td>El consejo de administración de EL PAÍS ratifi...</td>\n    </tr>\n    <tr>\n      <th>2</th>\n      <td>Cuando Dorothy Kosinski, directora de la Phill...</td>\n      <td>El museo que nació hace 100 años del duelo de ...</td>\n    </tr>\n    <tr>\n      <th>3</th>\n      <td>Aquello que nos acerca a lo que amamos suele e...</td>\n      <td>Andrea Stefanoni: “Quizás desaparezca antes el...</td>\n    </tr>\n  </tbody>\n</table>\n</div>"
     },
     "metadata": {}
    }
   ]
  },
  {
   "cell_type": "markdown",
   "source": "## Index and Selection",
   "metadata": {
    "tags": [],
    "cell_id": "00009-e2649058-fba5-428a-a4ff-1a04fd85a4e4",
    "deepnote_cell_type": "markdown"
   }
  },
  {
   "cell_type": "markdown",
   "source": "### Dictionary Like",
   "metadata": {
    "tags": [],
    "cell_id": "00010-c0183508-006e-4786-8aa3-8e19edaa7905",
    "deepnote_cell_type": "markdown"
   }
  },
  {
   "cell_type": "code",
   "metadata": {
    "tags": [],
    "cell_id": "00009-265296ba-ad2f-443e-9713-0277e322c8c6",
    "deepnote_to_be_reexecuted": false,
    "source_hash": "799b3723",
    "execution_start": 1629936979809,
    "execution_millis": 5,
    "deepnote_cell_type": "code"
   },
   "source": "el_pais['title']",
   "execution_count": 6,
   "outputs": [
    {
     "output_type": "execute_result",
     "execution_count": 6,
     "data": {
      "text/plain": "0     El exdictador chadiano Hissene Habré muere en ...\n1     El consejo de administración de EL PAÍS ratifi...\n2     El museo que nació hace 100 años del duelo de ...\n3     Andrea Stefanoni: “Quizás desaparezca antes el...\n4     La actriz Marion Cotillard, premio Donostia de...\n                            ...                        \n74    Una residencia de mayores echa a la calle a un...\n75    Roglic se concede un capricho en la Vuelta y s...\n76    El fiscal de Menores de Ceuta sobre las devolu...\n77         El dilema Vinicius y la doble vía del Madrid\n78    When did humans start experimenting with alcoh...\nName: title, Length: 79, dtype: object"
     },
     "metadata": {}
    }
   ]
  },
  {
   "cell_type": "code",
   "metadata": {
    "tags": [],
    "cell_id": "00012-c4f93749-370c-484d-8611-7bb3c0d0d450",
    "deepnote_to_be_reexecuted": false,
    "source_hash": "fe826aa6",
    "execution_start": 1629936979810,
    "execution_millis": 12,
    "deepnote_cell_type": "code"
   },
   "source": "el_pais[['title','body']]",
   "execution_count": 7,
   "outputs": [
    {
     "output_type": "execute_result",
     "execution_count": 7,
     "data": {
      "application/vnd.deepnote.dataframe.v2+json": {
       "row_count": 79,
       "column_count": 2,
       "columns": [
        {
         "name": "title",
         "dtype": "object",
         "stats": {
          "unique_count": 79,
          "nan_count": 0,
          "categories": [
           {
            "name": "El exdictador chadiano Hissene Habré muere en Dakar de covid",
            "count": 1
           },
           {
            "name": "El consejo de administración de EL PAÍS ratifica el nombramiento de Pepa Bueno como directora",
            "count": 1
           },
           {
            "name": "77 others",
            "count": 77
           }
          ]
         }
        },
        {
         "name": "body",
         "dtype": "object",
         "stats": {
          "unique_count": 77,
          "nan_count": 0,
          "categories": [
           {
            "name": "Nota a los lectores: EL PAÍS ofrece en abierto todo el contenido de la sección Planeta Futuro por su aportación informativa diaria y global sobre la Agenda 2030. Si quieres apoyar nuestro periodismo, suscríbete aquí.",
            "count": 3
           },
           {
            "name": "El exdictador chadiano Hissène Habré ha fallecido este martes a los 79 años en un hospital de Dakar, la capital senegalesa, tras contraer la covid-19. El anciano dirigente cumplía una condena a perpetuidad en este país por crímenes contra la humanidad, violación, torturas y otros delitos cometidos entre 1982 y 1990, el tiempo que estuvo en el poder. Hace una semana se puso enfermo debido al coronavirus y fue trasladado a un centro hospitalario. Apodado el Pinochet africano por su crueldad, se calcula que durante su régimen fueron asesinadas unas 40.000 personas.",
            "count": 1
           },
           {
            "name": "75 others",
            "count": 75
           }
          ]
         }
        },
        {
         "name": "_deepnote_index_column",
         "dtype": "int64"
        }
       ],
       "rows_top": [
        {
         "title": "El exdictador chadiano Hissene Habré muere en Dakar de covid",
         "body": "El exdictador chadiano Hissène Habré ha fallecido este martes a los 79 años en un hospital de Dakar…",
         "_deepnote_index_column": 0
        },
        {
         "title": "El consejo de administración de EL PAÍS ratifica el nombramiento de Pepa Bueno como directora",
         "body": "El consejo de administración de EL PAÍS ha ratificado este lunes por unanimidad el nombramiento de …",
         "_deepnote_index_column": 1
        },
        {
         "title": "El museo que nació hace 100 años del duelo de otra pandemia",
         "body": "Cuando Dorothy Kosinski, directora de la Phillips Collection, se puso a trabajar en la conmemoració…",
         "_deepnote_index_column": 2
        },
        {
         "title": "Andrea Stefanoni: “Quizás desaparezca antes el tabaco que los libros”.",
         "body": "Aquello que nos acerca a lo que amamos suele estar en el lugar más inesperado. Hace una semana, jus…",
         "_deepnote_index_column": 3
        },
        {
         "title": "La actriz Marion Cotillard, premio Donostia del festival de San Sebastián",
         "body": "La actriz francesa Marion Cotillard recibirá el premio Donostia del 69 Festival de Cine de San Seba…",
         "_deepnote_index_column": 4
        },
        {
         "title": "El enigma de los tiburones que aparecen ‘apuñalados’ por peces espada",
         "body": "La pasada semana, la presencia de un ejemplar de tintorera obligó a desalojar una playa en Benidorm…",
         "_deepnote_index_column": 5
        },
        {
         "title": "Costa Careyes, el rincón de Jalisco donde se rescatan tortugas y se hacen fiestas en mansiones sobr…",
         "body": "Desde la carretera que conecta Manzanillo (Colima) con Puerto Vallarta, cerca del kilómetro 52 se o…",
         "_deepnote_index_column": 6
        },
        {
         "title": "“Tienen miedo, los zurdos tienen miedo”: el grito de guerra de los “libertarios” argentinos",
         "body": "Javier Milei (Buenos Aires, 50 años) lleva el pelo negro ensortijado. Dice que para secarlo después…",
         "_deepnote_index_column": 7
        },
        {
         "title": "En el nombre del padre",
         "body": "Monseñor Vicente, fray Lorrane, padre Júlio, fray José Hélio, padre Lino, padre Leonardo. No pueden…",
         "_deepnote_index_column": 8
        },
        {
         "title": "Melody: “Me siento superorgullosa de lo que ha conseguido ‘El baile del gorila”",
         "body": "Hace 20 años España se movía al ritmo de El baile del gorila. También lo hacía Latinoamérica porque…",
         "_deepnote_index_column": 9
        },
        {
         "title": "Superordenadores, robots sexuales, turismo espacial: muchos de los inventos que definirán el futuro…",
         "body": "Ver la tierra desde el espacio, hacer cálculos matemáticos que normalmente llevarían cientos de año…",
         "_deepnote_index_column": 10
        },
        {
         "title": "La batalla por la supervivencia del mercado latino de Londres",
         "body": "“La felicidad es enorme. Si me tocara la lotería sería poco comparado con lo que siento en este mom…",
         "_deepnote_index_column": 11
        },
        {
         "title": "Vídeo | “¡España, España!”: así identifican los militares españoles a los colaboradores afganos y l…",
         "body": "“¡España, España!”, grita un niño afgano al pie de un muro en el aeropuerto de Kabul, la capital de…",
         "_deepnote_index_column": 12
        },
        {
         "title": "Mexican cartel ‘boss of bosses’ denies any criminal past",
         "body": "After 32 years behind bars, the man who was once the first boss of all narco bosses in the history …",
         "_deepnote_index_column": 13
        },
        {
         "title": "El director de la CIA se reunió el lunes con el líder político de los talibanes en Kabul",
         "body": "El director de la CIA, William J. Burns, mantuvo el lunes una reunión secreta en Kabul con el líder…",
         "_deepnote_index_column": 14
        },
        {
         "title": "El regreso a clases en México se topa con grandes reticencias entre maestros y familias",
         "body": "En toda la historia no ha habido, probablemente, un retorno a la escuela más complicado que el que …",
         "_deepnote_index_column": 15
        },
        {
         "title": "Duelo por el desastre del mar Menor: “¿Cómo han podido dejar que esta laguna tan bella acabe así?”",
         "body": "El mar Menor se muere. Es el sentir de residentes y veraneantes que no pueden creer que estén conte…",
         "_deepnote_index_column": 16
        },
        {
         "title": "Detenido en Portugal el padre de los niños desaparecidos en Tenerife por secuestro de sus hijos",
         "body": "El padre que había desaparecido con sus dos hijos alemanes y se buscaba en la isla de Tenerife en l…",
         "_deepnote_index_column": 17
        },
        {
         "title": "La derecha recibe con recelo la salida de México de Ricardo Anaya",
         "body": "En el anuncio sobre su salida de México, Ricardo Anaya, de 43 años, ha recibido la mofa de los opos…",
         "_deepnote_index_column": 18
        },
        {
         "title": "El Real Madrid presenta una oferta al PSG por Mbappé",
         "body": "El Real Madrid presentó una oferta por el jugador del PSG Kylian Mbappé, confirmaron este martes a …",
         "_deepnote_index_column": 19
        },
        {
         "title": "James Rodríguez no sabe contra quién juega",
         "body": "Ya poco o nada queda de aquel James Rodríguez que fascinó al mundo en Brasil 2014 para aterrizar en…",
         "_deepnote_index_column": 20
        },
        {
         "title": "Cuomo se despide de Nueva York acusando a jueces, políticos y periodistas de su caída en desgracia …",
         "body": "El gobernador en funciones de Nueva York, Andrew Cuomo, se ha despedido este lunes de la vida públi…",
         "_deepnote_index_column": 21
        },
        {
         "title": "Jordi Gracia, subdirector de Opinión de EL PAÍS",
         "body": "La directora de EL PAÍS, Pepa Bueno, ha nombrado a Jordi Gracia subdirector de Opinión. Gracia (Bar…",
         "_deepnote_index_column": 22
        },
        {
         "title": "Vender un riñón para sobrevivir en Líbano",
         "body": "Nota a los lectores: EL PAÍS ofrece en abierto todo el contenido de la sección Planeta Futuro por s…",
         "_deepnote_index_column": 23
        },
        {
         "title": "La UE exige a los talibanes que abran corredores humanitarios hacia los países vecinos",
         "body": "Los principales dirigentes comunitarios han anunciado este martes que la UE supeditará su relación …",
         "_deepnote_index_column": 24
        },
        {
         "title": "Temporada de mangos",
         "body": "Hace menos de una década, cuando las calles de Caracas se cubrían de mangos durante los primeros dí…",
         "_deepnote_index_column": 25
        },
        {
         "title": "Un meteorito llamado Anne Boyer",
         "body": "Leo el libro en la cama, en el living, en mi estudio, en una plaza de Buenos Aires hasta que una ho…",
         "_deepnote_index_column": 26
        },
        {
         "title": "The conquest of Mexico under question, 500 years on",
         "body": "In his iconic 1995 book on the Haitian revolution, Silencing the Past, historian Michel-Rolph Troui…",
         "_deepnote_index_column": 27
        },
        {
         "title": "Los empresarios británicos quieren contratar presos para paliar la crisis de mano de obra ",
         "body": "Productores de carne procesada en el Reino Unido están contratando a presos como jornaleros para cu…",
         "_deepnote_index_column": 28
        },
        {
         "title": "Cuando un mensaje de ayuda en redes salva 322 vidas",
         "body": "El mundo se pregunta dónde terminarán los afganos que están consiguiendo huir de su país tras la ll…",
         "_deepnote_index_column": 29
        },
        {
         "title": "El bajo costo de cerrar la brecha digital en América Latina",
         "body": "Tener una conexión de internet estable y continua se puede considerar ahora como algo de vida o mue…",
         "_deepnote_index_column": 30
        },
        {
         "title": "México reinstaura la visa de entrada para ecuatorianos ante una nueva oleada migratoria",
         "body": "Solo uno de cada tres ecuatorianos que vuela hasta México aduciendo que viaja por turismo vuelve a …",
         "_deepnote_index_column": 31
        },
        {
         "title": "Pedir la cola",
         "body": "En el español de Venezuela, “pedir la cola” equivale a pedir un aventón.",
         "_deepnote_index_column": 32
        },
        {
         "title": "Qué hacer con los cadáveres en el Himalaya",
         "body": "Desaparecidos desde el pasado 5 de febrero en la zona somital del K2 (8.611 m), en pleno invierno d…",
         "_deepnote_index_column": 33
        },
        {
         "title": "EE UU entrega al narcotraficante Eduardo Arellano Félix a las autoridades mexicanas",
         "body": "Estados Unidos ha entregado este lunes al narcotraficante Eduardo Arellano Félix a las autoridades …",
         "_deepnote_index_column": 34
        },
        {
         "title": "Los vecinos salvaron las casas del infierno de Ávila",
         "body": "Un coche recalentado en una carretera comarcal de Ávila causó el peor incendio forestal del año en …",
         "_deepnote_index_column": 35
        },
        {
         "title": "El presidente de Túnez prolonga indefinidamente sus plenos poderes",
         "body": "Con nocturnidad y alevosía, el presidente de Túnez, Kais Said, decretó anoche la prolongación por u…",
         "_deepnote_index_column": 36
        },
        {
         "title": "Un probable caso del ‘síndrome de La Habana’ retrasa la gira de Kamala Harris por el sudeste asiáti…",
         "body": "El viaje de Kamala Harris por el sudeste asiático ha sufrido un retraso de horas este martes por lo…",
         "_deepnote_index_column": 37
        },
        {
         "title": "Beyoncé y Jay-Z toman el relevo de Audrey Hepburn para renovar la imagen de la legendaria Tiffany &…",
         "body": "Beyoncé y Jay-Z, quizá la pareja más poderosa de la industria del entretenimiento, son los flamante…",
         "_deepnote_index_column": 38
        },
        {
         "title": "Muere Charlie Watts, batería y corazón rítmico de los Rolling Stones, a los 80 años",
         "body": "No había nadie que no adorara a Charlie Watts. Era imposible no hacerlo. Siempre elegante, discreto…",
         "_deepnote_index_column": 39
        },
        {
         "title": "El luto infinito de las mujeres de Saqlauia",
         "body": "Nota a los lectores: EL PAÍS ofrece en abierto todo el contenido de la sección Planeta Futuro por s…",
         "_deepnote_index_column": 40
        },
        {
         "title": "Una investigación arroja nuevas pruebas de la negociación de Bukele con las pandillas de El Salvador",
         "body": "El histórico desplome en las ejecuciones violentas que vive El Salvador se debe a un pacto secreto …",
         "_deepnote_index_column": 41
        },
        {
         "title": "La Premier decide no liberar jugadores internacionales que tengan que viajar a países de alto riesgo",
         "body": "Los clubes de la Premier League han decidido este martes por unanimidad no liberar jugadores intern…",
         "_deepnote_index_column": 42
        },
        {
         "title": "Alto Volta, un país con forma de nube",
         "body": "Es difícil imaginarse a Franz Kafka feliz y, sin embargo, creo que lo fue. O, al menos, me gusta pe…",
         "_deepnote_index_column": 43
        },
        {
         "title": "Kiwi.com contraataca a Ryanair: sus clientes pueden volar si imprimen la tarjeta de embarque",
         "body": "El operador de viajes Kiwi.com no ha tardado en reaccionar a la amenaza que la pasada semana le lan…",
         "_deepnote_index_column": 44
        },
        {
         "title": "El ‘caso Odebrecht’ golpea a Anaya y sigue pendiente de Lozoya tras un año de acusaciones ",
         "body": "La salida de México de Ricardo Anaya después de ser citado por la Fiscalía por presuntos actos de c…",
         "_deepnote_index_column": 45
        },
        {
         "title": "La caída fulminante a los infiernos de Ryan Adams",
         "body": "Los mensajes de Instagram ya están borrados, pero incluso eso ilustra el nivel de desesperación: Ry…",
         "_deepnote_index_column": 46
        },
        {
         "title": "María Clemente, primera diputada trans en el Congreso mexicano: “Acabamos de romper un techo de cri…",
         "body": "María Clemente (Ciudad de México, 1985) llega con unos tacones y es altísima, morena, de risa fácil…",
         "_deepnote_index_column": 47
        },
        {
         "title": "Las minas españolas resucitan",
         "body": "Los ingredientes que dan vida a las grandes revoluciones tecnológicas, en ocasiones, están a la vue…",
         "_deepnote_index_column": 48
        },
        {
         "title": "La economía de la nostalgia",
         "body": "“Ayer vivimos un momento muy especial como migrantes”, escribió esta semana la periodista venezolan…",
         "_deepnote_index_column": 49
        },
        {
         "title": "El súbito abandono de una estrella de la Iglesia",
         "body": "Para bien o para mal, Xavier Novell es una de aquellas personas que no dejan indiferente a nadie. E…",
         "_deepnote_index_column": 50
        },
        {
         "title": "El explosivo legado ruso de Merkel     ",
         "body": "Durante sus más de tres lustros como canciller de Alemania, Angela Merkel ha sido una de las dirige…",
         "_deepnote_index_column": 51
        },
        {
         "title": "La izquierda se divide en la capital: “Es triste que Más Madrid acabe de esta forma”",
         "body": "No hay descanso. Agosto era el mes de vacaciones en el Ayuntamiento de Madrid y en 2021 está siendo…",
         "_deepnote_index_column": 52
        },
        {
         "title": "Dollar Selmouni: la historia de un caso perdido que resucitó como talento de la música española",
         "body": "Esta historia comienza en la cárcel. En la de Soto del Real, Madrid. Allí nació hace 24 años Jamel …",
         "_deepnote_index_column": 53
        },
        {
         "title": "El bitcoin vuelve a romper la barrera de los 50.000 dólares aupado por PayPal",
         "body": "La montaña rusa emocional en que viven los inversores en bitcoins pasa ahora por un momento agradab…",
         "_deepnote_index_column": 54
        },
        {
         "title": "‘¿Me oyes?’, tres guerreras que no claudican en el lado desfavorecido del paraíso canadiense",
         "body": "Algunas series canadienses, como Schitt’s Creek, Workin’ Moms y Heartland, han tenido éxito en dive…",
         "_deepnote_index_column": 55
        },
        {
         "title": "La ONU afirma que el tratamiento de los talibanes a mujeres y niñas será una “línea roja” en Afgani…",
         "body": "La alta comisionada de las Naciones Unidas para los derechos humanos, Michelle Bachelet, ha afirmad…",
         "_deepnote_index_column": 56
        },
        {
         "title": "Jan Martínez Ahrens: “El periódico tiene la nacionalidad de sus lectores”",
         "body": "“Nos interesa América porque nos consideramos un periódico americano”, expresa rotundo el director …",
         "_deepnote_index_column": 57
        },
        {
         "title": "Este sol invita a enamorarse, pero de quién",
         "body": "Tengo que marcharme de Madrid, a la búsqueda de árboles, pájaros, senderos, bosques, ríos, montañas.",
         "_deepnote_index_column": 58
        },
        {
         "title": "Mercedes Milá: “A mí me ha matado mucho el tono en la vida. Tengo un pronto peligroso”",
         "body": "Llega en bici al centro de Mahón, la capital de Menorca, donde no solo pasa el verano, sino tempora…",
         "_deepnote_index_column": 59
        },
        {
         "title": "No se entiende tanta tolerancia",
         "body": "Como es ya costumbre, estalló un nuevo escándalo de corrupción en Colombia. Esta vez, estarían a pu…",
         "_deepnote_index_column": 60
        },
        {
         "title": "Los saqueos y los problemas de distribución lastran la llegada de ayuda humanitaria a Haití",
         "body": "Un camión con ayuda humanitaria de la organización irlandesa Concern está parado a la orilla de un …",
         "_deepnote_index_column": 61
        },
        {
         "title": "Empezar la casa afgana por el tejado",
         "body": "El fracaso de la estrategia occidental en Afganistán se resume en una frase: Afganistán no necesita…",
         "_deepnote_index_column": 62
        },
        {
         "title": "La industria de los videojuegos emprende su gran partida contra el machismo",
         "body": "Abusos sexuales. Acoso laboral. Discriminación salarial. Humillaciones en público. Chistes sobre vi…",
         "_deepnote_index_column": 63
        },
        {
         "title": "El Gobierno despliega la agenda social en el inicio del curso",
         "body": "El Gobierno arranca el curso político priorizando la agenda social. El primer Consejo de Ministros …",
         "_deepnote_index_column": 64
        },
        {
         "title": "Los talibanes prohíben el acceso de los afganos al aeropuerto de Kabul",
         "body": "Los talibanes han prohibido este martes el acceso de los afganos al aeropuerto de Kabul. La medida …",
         "_deepnote_index_column": 65
        },
        {
         "title": "El complejo del salvador blanco y la discriminación en las inversiones tecnológicas en África",
         "body": "Nota a los lectores: EL PAÍS ofrece en abierto todo el contenido de la sección Planeta Futuro por s…",
         "_deepnote_index_column": 66
        },
        {
         "title": "El G7 fracasa en su intento de arrancar a Biden una ampliación del plazo de evacuación de Afganistán",
         "body": "La reunión extraordinaria que este martes ha mantenido el G7 ha sido un intento desesperado de salv…",
         "_deepnote_index_column": 67
        },
        {
         "title": "Por qué la caída de Kabul supone el mayor revés geopolítico del siglo  ",
         "body": "Los talibanes tenían razón. Ashraf Ghani presidía un régimen títere, organizado y dirigido por los …",
         "_deepnote_index_column": 68
        },
        {
         "title": "La historia de la espectacular pulsera que la princesa Margarita usó en uno de sus retratos oficial…",
         "body": "Tenía acceso a las joyas reales, pero la princesa Margarita, haciendo gala de su carácter independi…",
         "_deepnote_index_column": 69
        },
        {
         "title": "La Cámara de Representantes aprueba el plan de 3,5 billones de dólares para reforzar la agenda soci…",
         "body": "La Cámara de Representantes de Estados Unidos ha aprobado este martes un paso clave para sacar adel…",
         "_deepnote_index_column": 70
        },
        {
         "title": "“¿Otra vez una pared de ladrillo?”: Las imágenes que más de 200 fotógrafos no querrían ver nunca más",
         "body": "No le resultó fácil a Jason Fulford conseguir que los más de 200 fotógrafos que aparecen en su libr…",
         "_deepnote_index_column": 71
        },
        {
         "title": "El karma de Jon Rahm",
         "body": "Después de un parón obligado al perderse los Juegos Olímpicos por un positivo por covid, Jon Rahm h…",
         "_deepnote_index_column": 72
        },
        {
         "title": "El diario de Fernando Fernán Gómez: soledad y Campari en Cinecittà",
         "body": "Recibo un telegrama de Cifesa en el que me dicen que me presente inmediatamente a la Cines. Es la p…",
         "_deepnote_index_column": 73
        },
        {
         "title": "Una residencia de mayores echa a la calle a una mujer por resultar conflictiva",
         "body": "Una residencia de mayores de Madrid puso el viernes en la calle a una mujer de 69 años que llevaba …",
         "_deepnote_index_column": 74
        },
        {
         "title": "Roglic se concede un capricho en la Vuelta y se cae",
         "body": "Por el camino de Almáchar a los montes de la Axarquía, algarrobos y bandoleros, llega el pelotón en…",
         "_deepnote_index_column": 75
        },
        {
         "title": "El fiscal de Menores de Ceuta sobre las devoluciones a Marruecos: “Estudiamos recurrir si la jueza …",
         "body": "José Luis Puerta (57 años), fiscal de Menores de Ceuta, no es ajeno al embrollo legal que supone el…",
         "_deepnote_index_column": 76
        },
        {
         "title": "El dilema Vinicius y la doble vía del Madrid",
         "body": "Vinicius trascendió contra el Levante por motivos más que futbolísticos. Varios jóvenes adiestrados…",
         "_deepnote_index_column": 77
        },
        {
         "title": "When did humans start experimenting with alcohol and drugs?",
         "body": "Humans constantly alter the world. We fire fields, turn forests into farms and breed plants and ani…",
         "_deepnote_index_column": 78
        }
       ],
       "rows_bottom": null
      },
      "text/plain": "                                                title  \\\n0   El exdictador chadiano Hissene Habré muere en ...   \n1   El consejo de administración de EL PAÍS ratifi...   \n2   El museo que nació hace 100 años del duelo de ...   \n3   Andrea Stefanoni: “Quizás desaparezca antes el...   \n4   La actriz Marion Cotillard, premio Donostia de...   \n..                                                ...   \n74  Una residencia de mayores echa a la calle a un...   \n75  Roglic se concede un capricho en la Vuelta y s...   \n76  El fiscal de Menores de Ceuta sobre las devolu...   \n77       El dilema Vinicius y la doble vía del Madrid   \n78  When did humans start experimenting with alcoh...   \n\n                                                 body  \n0   El exdictador chadiano Hissène Habré ha fallec...  \n1   El consejo de administración de EL PAÍS ha rat...  \n2   Cuando Dorothy Kosinski, directora de la Phill...  \n3   Aquello que nos acerca a lo que amamos suele e...  \n4   La actriz francesa Marion Cotillard recibirá e...  \n..                                                ...  \n74  Una residencia de mayores de Madrid puso el vi...  \n75  Por el camino de Almáchar a los montes de la A...  \n76  José Luis Puerta (57 años), fiscal de Menores ...  \n77  Vinicius trascendió contra el Levante por moti...  \n78  Humans constantly alter the world. We fire fie...  \n\n[79 rows x 2 columns]",
      "text/html": "<div>\n<style scoped>\n    .dataframe tbody tr th:only-of-type {\n        vertical-align: middle;\n    }\n\n    .dataframe tbody tr th {\n        vertical-align: top;\n    }\n\n    .dataframe thead th {\n        text-align: right;\n    }\n</style>\n<table border=\"1\" class=\"dataframe\">\n  <thead>\n    <tr style=\"text-align: right;\">\n      <th></th>\n      <th>title</th>\n      <th>body</th>\n    </tr>\n  </thead>\n  <tbody>\n    <tr>\n      <th>0</th>\n      <td>El exdictador chadiano Hissene Habré muere en ...</td>\n      <td>El exdictador chadiano Hissène Habré ha fallec...</td>\n    </tr>\n    <tr>\n      <th>1</th>\n      <td>El consejo de administración de EL PAÍS ratifi...</td>\n      <td>El consejo de administración de EL PAÍS ha rat...</td>\n    </tr>\n    <tr>\n      <th>2</th>\n      <td>El museo que nació hace 100 años del duelo de ...</td>\n      <td>Cuando Dorothy Kosinski, directora de la Phill...</td>\n    </tr>\n    <tr>\n      <th>3</th>\n      <td>Andrea Stefanoni: “Quizás desaparezca antes el...</td>\n      <td>Aquello que nos acerca a lo que amamos suele e...</td>\n    </tr>\n    <tr>\n      <th>4</th>\n      <td>La actriz Marion Cotillard, premio Donostia de...</td>\n      <td>La actriz francesa Marion Cotillard recibirá e...</td>\n    </tr>\n    <tr>\n      <th>...</th>\n      <td>...</td>\n      <td>...</td>\n    </tr>\n    <tr>\n      <th>74</th>\n      <td>Una residencia de mayores echa a la calle a un...</td>\n      <td>Una residencia de mayores de Madrid puso el vi...</td>\n    </tr>\n    <tr>\n      <th>75</th>\n      <td>Roglic se concede un capricho en la Vuelta y s...</td>\n      <td>Por el camino de Almáchar a los montes de la A...</td>\n    </tr>\n    <tr>\n      <th>76</th>\n      <td>El fiscal de Menores de Ceuta sobre las devolu...</td>\n      <td>José Luis Puerta (57 años), fiscal de Menores ...</td>\n    </tr>\n    <tr>\n      <th>77</th>\n      <td>El dilema Vinicius y la doble vía del Madrid</td>\n      <td>Vinicius trascendió contra el Levante por moti...</td>\n    </tr>\n    <tr>\n      <th>78</th>\n      <td>When did humans start experimenting with alcoh...</td>\n      <td>Humans constantly alter the world. We fire fie...</td>\n    </tr>\n  </tbody>\n</table>\n<p>79 rows × 2 columns</p>\n</div>"
     },
     "metadata": {}
    }
   ]
  },
  {
   "cell_type": "markdown",
   "source": "### Numpy Like",
   "metadata": {
    "tags": [],
    "cell_id": "00013-9936eed1-d413-4003-9a59-3fbccd8731f9",
    "deepnote_cell_type": "markdown"
   }
  },
  {
   "cell_type": "code",
   "metadata": {
    "tags": [],
    "cell_id": "00013-ca6c79e3-7677-47ff-a129-e89e2ca00f25",
    "deepnote_to_be_reexecuted": false,
    "source_hash": "98806ad0",
    "execution_start": 1629936979823,
    "execution_millis": 10,
    "deepnote_cell_type": "code"
   },
   "source": "el_pais.iloc[10:14]",
   "execution_count": 8,
   "outputs": [
    {
     "output_type": "execute_result",
     "execution_count": 8,
     "data": {
      "application/vnd.deepnote.dataframe.v2+json": {
       "row_count": 4,
       "column_count": 2,
       "columns": [
        {
         "name": "body",
         "dtype": "object",
         "stats": {
          "unique_count": 4,
          "nan_count": 0,
          "categories": [
           {
            "name": "Ver la tierra desde el espacio, hacer cálculos matemáticos que normalmente llevarían cientos de años, tener una cita romántica con un robot, o conducir un coche volador son situaciones que aún relacionamos a una película de ciencia ficción, sin embargo, esta tecnología podría afectar nuestra vida a mediano y largo plazo.",
            "count": 1
           },
           {
            "name": "“La felicidad es enorme. Si me tocara la lotería sería poco comparado con lo que siento en este momento. Ha ganado la comunidad y todos estos años de resistencia no han sido en vano”. La colombiana Vicky Álvarez lleva más de quince años peleando para salvar de la demolición el mercado latinoamericano que ella misma ayudó a levantar en el noreste de Londres. El Latin Market, el Pueblito Paisa o, según su título oficial, el Mercado de Seven Sisters ocupa la planta baja de un histórico solar de Haringey, distrito multiétnico, de rentas bajas y esporádicos focos populares, como el estadio de fútbol del Tottenham Hotspur.",
            "count": 1
           },
           {
            "name": "2 others",
            "count": 2
           }
          ]
         }
        },
        {
         "name": "title",
         "dtype": "object",
         "stats": {
          "unique_count": 4,
          "nan_count": 0,
          "categories": [
           {
            "name": "Superordenadores, robots sexuales, turismo espacial: muchos de los inventos que definirán el futuro están hoy con nosotros",
            "count": 1
           },
           {
            "name": "La batalla por la supervivencia del mercado latino de Londres",
            "count": 1
           },
           {
            "name": "2 others",
            "count": 2
           }
          ]
         }
        },
        {
         "name": "_deepnote_index_column",
         "dtype": "int64"
        }
       ],
       "rows_top": [
        {
         "body": "Ver la tierra desde el espacio, hacer cálculos matemáticos que normalmente llevarían cientos de año…",
         "title": "Superordenadores, robots sexuales, turismo espacial: muchos de los inventos que definirán el futuro…",
         "_deepnote_index_column": 10
        },
        {
         "body": "“La felicidad es enorme. Si me tocara la lotería sería poco comparado con lo que siento en este mom…",
         "title": "La batalla por la supervivencia del mercado latino de Londres",
         "_deepnote_index_column": 11
        },
        {
         "body": "“¡España, España!”, grita un niño afgano al pie de un muro en el aeropuerto de Kabul, la capital de…",
         "title": "Vídeo | “¡España, España!”: así identifican los militares españoles a los colaboradores afganos y l…",
         "_deepnote_index_column": 12
        },
        {
         "body": "After 32 years behind bars, the man who was once the first boss of all narco bosses in the history …",
         "title": "Mexican cartel ‘boss of bosses’ denies any criminal past",
         "_deepnote_index_column": 13
        }
       ],
       "rows_bottom": null
      },
      "text/plain": "                                                 body  \\\n10  Ver la tierra desde el espacio, hacer cálculos...   \n11  “La felicidad es enorme. Si me tocara la loter...   \n12  “¡España, España!”, grita un niño afgano al pi...   \n13  After 32 years behind bars, the man who was on...   \n\n                                                title  \n10  Superordenadores, robots sexuales, turismo esp...  \n11  La batalla por la supervivencia del mercado la...  \n12  Vídeo | “¡España, España!”: así identifican lo...  \n13  Mexican cartel ‘boss of bosses’ denies any cri...  ",
      "text/html": "<div>\n<style scoped>\n    .dataframe tbody tr th:only-of-type {\n        vertical-align: middle;\n    }\n\n    .dataframe tbody tr th {\n        vertical-align: top;\n    }\n\n    .dataframe thead th {\n        text-align: right;\n    }\n</style>\n<table border=\"1\" class=\"dataframe\">\n  <thead>\n    <tr style=\"text-align: right;\">\n      <th></th>\n      <th>body</th>\n      <th>title</th>\n    </tr>\n  </thead>\n  <tbody>\n    <tr>\n      <th>10</th>\n      <td>Ver la tierra desde el espacio, hacer cálculos...</td>\n      <td>Superordenadores, robots sexuales, turismo esp...</td>\n    </tr>\n    <tr>\n      <th>11</th>\n      <td>“La felicidad es enorme. Si me tocara la loter...</td>\n      <td>La batalla por la supervivencia del mercado la...</td>\n    </tr>\n    <tr>\n      <th>12</th>\n      <td>“¡España, España!”, grita un niño afgano al pi...</td>\n      <td>Vídeo | “¡España, España!”: así identifican lo...</td>\n    </tr>\n    <tr>\n      <th>13</th>\n      <td>After 32 years behind bars, the man who was on...</td>\n      <td>Mexican cartel ‘boss of bosses’ denies any cri...</td>\n    </tr>\n  </tbody>\n</table>\n</div>"
     },
     "metadata": {}
    }
   ]
  },
  {
   "cell_type": "code",
   "metadata": {
    "tags": [],
    "cell_id": "00015-64fa3adc-dca9-4396-b110-27c27102d0f5",
    "deepnote_to_be_reexecuted": false,
    "source_hash": "305a9f32",
    "execution_start": 1629936979874,
    "execution_millis": 8,
    "deepnote_cell_type": "code"
   },
   "source": "el_pais.iloc[55]['title']",
   "execution_count": 9,
   "outputs": [
    {
     "output_type": "execute_result",
     "execution_count": 9,
     "data": {
      "text/plain": "'‘¿Me oyes?’, tres guerreras que no claudican en el lado desfavorecido del paraíso canadiense'"
     },
     "metadata": {}
    }
   ]
  },
  {
   "cell_type": "code",
   "metadata": {
    "tags": [],
    "cell_id": "00016-f8432025-8acc-4f72-8a14-5e384b581e75",
    "deepnote_to_be_reexecuted": false,
    "source_hash": "bcf05aef",
    "execution_start": 1629936979875,
    "execution_millis": 0,
    "deepnote_cell_type": "code"
   },
   "source": "el_pais.iloc[:5,0]",
   "execution_count": 10,
   "outputs": [
    {
     "output_type": "execute_result",
     "execution_count": 10,
     "data": {
      "text/plain": "0    El exdictador chadiano Hissène Habré ha fallec...\n1    El consejo de administración de EL PAÍS ha rat...\n2    Cuando Dorothy Kosinski, directora de la Phill...\n3    Aquello que nos acerca a lo que amamos suele e...\n4    La actriz francesa Marion Cotillard recibirá e...\nName: body, dtype: object"
     },
     "metadata": {}
    }
   ]
  },
  {
   "cell_type": "markdown",
   "source": "### Label Based",
   "metadata": {
    "tags": [],
    "cell_id": "00016-08efc554-7786-4ea1-9386-da5db52b4324",
    "deepnote_cell_type": "markdown"
   }
  },
  {
   "cell_type": "code",
   "metadata": {
    "tags": [],
    "cell_id": "00018-377f33ed-bafc-47ee-8b30-77746e7c6db8",
    "deepnote_to_be_reexecuted": false,
    "source_hash": "4d3fbf20",
    "execution_start": 1629936979876,
    "execution_millis": 8,
    "deepnote_cell_type": "code"
   },
   "source": "el_pais.loc[:,'body':'title']",
   "execution_count": 11,
   "outputs": [
    {
     "output_type": "execute_result",
     "execution_count": 11,
     "data": {
      "application/vnd.deepnote.dataframe.v2+json": {
       "row_count": 79,
       "column_count": 2,
       "columns": [
        {
         "name": "body",
         "dtype": "object",
         "stats": {
          "unique_count": 77,
          "nan_count": 0,
          "categories": [
           {
            "name": "Nota a los lectores: EL PAÍS ofrece en abierto todo el contenido de la sección Planeta Futuro por su aportación informativa diaria y global sobre la Agenda 2030. Si quieres apoyar nuestro periodismo, suscríbete aquí.",
            "count": 3
           },
           {
            "name": "El exdictador chadiano Hissène Habré ha fallecido este martes a los 79 años en un hospital de Dakar, la capital senegalesa, tras contraer la covid-19. El anciano dirigente cumplía una condena a perpetuidad en este país por crímenes contra la humanidad, violación, torturas y otros delitos cometidos entre 1982 y 1990, el tiempo que estuvo en el poder. Hace una semana se puso enfermo debido al coronavirus y fue trasladado a un centro hospitalario. Apodado el Pinochet africano por su crueldad, se calcula que durante su régimen fueron asesinadas unas 40.000 personas.",
            "count": 1
           },
           {
            "name": "75 others",
            "count": 75
           }
          ]
         }
        },
        {
         "name": "title",
         "dtype": "object",
         "stats": {
          "unique_count": 79,
          "nan_count": 0,
          "categories": [
           {
            "name": "El exdictador chadiano Hissene Habré muere en Dakar de covid",
            "count": 1
           },
           {
            "name": "El consejo de administración de EL PAÍS ratifica el nombramiento de Pepa Bueno como directora",
            "count": 1
           },
           {
            "name": "77 others",
            "count": 77
           }
          ]
         }
        },
        {
         "name": "_deepnote_index_column",
         "dtype": "int64"
        }
       ],
       "rows_top": [
        {
         "body": "El exdictador chadiano Hissène Habré ha fallecido este martes a los 79 años en un hospital de Dakar…",
         "title": "El exdictador chadiano Hissene Habré muere en Dakar de covid",
         "_deepnote_index_column": 0
        },
        {
         "body": "El consejo de administración de EL PAÍS ha ratificado este lunes por unanimidad el nombramiento de …",
         "title": "El consejo de administración de EL PAÍS ratifica el nombramiento de Pepa Bueno como directora",
         "_deepnote_index_column": 1
        },
        {
         "body": "Cuando Dorothy Kosinski, directora de la Phillips Collection, se puso a trabajar en la conmemoració…",
         "title": "El museo que nació hace 100 años del duelo de otra pandemia",
         "_deepnote_index_column": 2
        },
        {
         "body": "Aquello que nos acerca a lo que amamos suele estar en el lugar más inesperado. Hace una semana, jus…",
         "title": "Andrea Stefanoni: “Quizás desaparezca antes el tabaco que los libros”.",
         "_deepnote_index_column": 3
        },
        {
         "body": "La actriz francesa Marion Cotillard recibirá el premio Donostia del 69 Festival de Cine de San Seba…",
         "title": "La actriz Marion Cotillard, premio Donostia del festival de San Sebastián",
         "_deepnote_index_column": 4
        },
        {
         "body": "La pasada semana, la presencia de un ejemplar de tintorera obligó a desalojar una playa en Benidorm…",
         "title": "El enigma de los tiburones que aparecen ‘apuñalados’ por peces espada",
         "_deepnote_index_column": 5
        },
        {
         "body": "Desde la carretera que conecta Manzanillo (Colima) con Puerto Vallarta, cerca del kilómetro 52 se o…",
         "title": "Costa Careyes, el rincón de Jalisco donde se rescatan tortugas y se hacen fiestas en mansiones sobr…",
         "_deepnote_index_column": 6
        },
        {
         "body": "Javier Milei (Buenos Aires, 50 años) lleva el pelo negro ensortijado. Dice que para secarlo después…",
         "title": "“Tienen miedo, los zurdos tienen miedo”: el grito de guerra de los “libertarios” argentinos",
         "_deepnote_index_column": 7
        },
        {
         "body": "Monseñor Vicente, fray Lorrane, padre Júlio, fray José Hélio, padre Lino, padre Leonardo. No pueden…",
         "title": "En el nombre del padre",
         "_deepnote_index_column": 8
        },
        {
         "body": "Hace 20 años España se movía al ritmo de El baile del gorila. También lo hacía Latinoamérica porque…",
         "title": "Melody: “Me siento superorgullosa de lo que ha conseguido ‘El baile del gorila”",
         "_deepnote_index_column": 9
        },
        {
         "body": "Ver la tierra desde el espacio, hacer cálculos matemáticos que normalmente llevarían cientos de año…",
         "title": "Superordenadores, robots sexuales, turismo espacial: muchos de los inventos que definirán el futuro…",
         "_deepnote_index_column": 10
        },
        {
         "body": "“La felicidad es enorme. Si me tocara la lotería sería poco comparado con lo que siento en este mom…",
         "title": "La batalla por la supervivencia del mercado latino de Londres",
         "_deepnote_index_column": 11
        },
        {
         "body": "“¡España, España!”, grita un niño afgano al pie de un muro en el aeropuerto de Kabul, la capital de…",
         "title": "Vídeo | “¡España, España!”: así identifican los militares españoles a los colaboradores afganos y l…",
         "_deepnote_index_column": 12
        },
        {
         "body": "After 32 years behind bars, the man who was once the first boss of all narco bosses in the history …",
         "title": "Mexican cartel ‘boss of bosses’ denies any criminal past",
         "_deepnote_index_column": 13
        },
        {
         "body": "El director de la CIA, William J. Burns, mantuvo el lunes una reunión secreta en Kabul con el líder…",
         "title": "El director de la CIA se reunió el lunes con el líder político de los talibanes en Kabul",
         "_deepnote_index_column": 14
        },
        {
         "body": "En toda la historia no ha habido, probablemente, un retorno a la escuela más complicado que el que …",
         "title": "El regreso a clases en México se topa con grandes reticencias entre maestros y familias",
         "_deepnote_index_column": 15
        },
        {
         "body": "El mar Menor se muere. Es el sentir de residentes y veraneantes que no pueden creer que estén conte…",
         "title": "Duelo por el desastre del mar Menor: “¿Cómo han podido dejar que esta laguna tan bella acabe así?”",
         "_deepnote_index_column": 16
        },
        {
         "body": "El padre que había desaparecido con sus dos hijos alemanes y se buscaba en la isla de Tenerife en l…",
         "title": "Detenido en Portugal el padre de los niños desaparecidos en Tenerife por secuestro de sus hijos",
         "_deepnote_index_column": 17
        },
        {
         "body": "En el anuncio sobre su salida de México, Ricardo Anaya, de 43 años, ha recibido la mofa de los opos…",
         "title": "La derecha recibe con recelo la salida de México de Ricardo Anaya",
         "_deepnote_index_column": 18
        },
        {
         "body": "El Real Madrid presentó una oferta por el jugador del PSG Kylian Mbappé, confirmaron este martes a …",
         "title": "El Real Madrid presenta una oferta al PSG por Mbappé",
         "_deepnote_index_column": 19
        },
        {
         "body": "Ya poco o nada queda de aquel James Rodríguez que fascinó al mundo en Brasil 2014 para aterrizar en…",
         "title": "James Rodríguez no sabe contra quién juega",
         "_deepnote_index_column": 20
        },
        {
         "body": "El gobernador en funciones de Nueva York, Andrew Cuomo, se ha despedido este lunes de la vida públi…",
         "title": "Cuomo se despide de Nueva York acusando a jueces, políticos y periodistas de su caída en desgracia …",
         "_deepnote_index_column": 21
        },
        {
         "body": "La directora de EL PAÍS, Pepa Bueno, ha nombrado a Jordi Gracia subdirector de Opinión. Gracia (Bar…",
         "title": "Jordi Gracia, subdirector de Opinión de EL PAÍS",
         "_deepnote_index_column": 22
        },
        {
         "body": "Nota a los lectores: EL PAÍS ofrece en abierto todo el contenido de la sección Planeta Futuro por s…",
         "title": "Vender un riñón para sobrevivir en Líbano",
         "_deepnote_index_column": 23
        },
        {
         "body": "Los principales dirigentes comunitarios han anunciado este martes que la UE supeditará su relación …",
         "title": "La UE exige a los talibanes que abran corredores humanitarios hacia los países vecinos",
         "_deepnote_index_column": 24
        },
        {
         "body": "Hace menos de una década, cuando las calles de Caracas se cubrían de mangos durante los primeros dí…",
         "title": "Temporada de mangos",
         "_deepnote_index_column": 25
        },
        {
         "body": "Leo el libro en la cama, en el living, en mi estudio, en una plaza de Buenos Aires hasta que una ho…",
         "title": "Un meteorito llamado Anne Boyer",
         "_deepnote_index_column": 26
        },
        {
         "body": "In his iconic 1995 book on the Haitian revolution, Silencing the Past, historian Michel-Rolph Troui…",
         "title": "The conquest of Mexico under question, 500 years on",
         "_deepnote_index_column": 27
        },
        {
         "body": "Productores de carne procesada en el Reino Unido están contratando a presos como jornaleros para cu…",
         "title": "Los empresarios británicos quieren contratar presos para paliar la crisis de mano de obra ",
         "_deepnote_index_column": 28
        },
        {
         "body": "El mundo se pregunta dónde terminarán los afganos que están consiguiendo huir de su país tras la ll…",
         "title": "Cuando un mensaje de ayuda en redes salva 322 vidas",
         "_deepnote_index_column": 29
        },
        {
         "body": "Tener una conexión de internet estable y continua se puede considerar ahora como algo de vida o mue…",
         "title": "El bajo costo de cerrar la brecha digital en América Latina",
         "_deepnote_index_column": 30
        },
        {
         "body": "Solo uno de cada tres ecuatorianos que vuela hasta México aduciendo que viaja por turismo vuelve a …",
         "title": "México reinstaura la visa de entrada para ecuatorianos ante una nueva oleada migratoria",
         "_deepnote_index_column": 31
        },
        {
         "body": "En el español de Venezuela, “pedir la cola” equivale a pedir un aventón.",
         "title": "Pedir la cola",
         "_deepnote_index_column": 32
        },
        {
         "body": "Desaparecidos desde el pasado 5 de febrero en la zona somital del K2 (8.611 m), en pleno invierno d…",
         "title": "Qué hacer con los cadáveres en el Himalaya",
         "_deepnote_index_column": 33
        },
        {
         "body": "Estados Unidos ha entregado este lunes al narcotraficante Eduardo Arellano Félix a las autoridades …",
         "title": "EE UU entrega al narcotraficante Eduardo Arellano Félix a las autoridades mexicanas",
         "_deepnote_index_column": 34
        },
        {
         "body": "Un coche recalentado en una carretera comarcal de Ávila causó el peor incendio forestal del año en …",
         "title": "Los vecinos salvaron las casas del infierno de Ávila",
         "_deepnote_index_column": 35
        },
        {
         "body": "Con nocturnidad y alevosía, el presidente de Túnez, Kais Said, decretó anoche la prolongación por u…",
         "title": "El presidente de Túnez prolonga indefinidamente sus plenos poderes",
         "_deepnote_index_column": 36
        },
        {
         "body": "El viaje de Kamala Harris por el sudeste asiático ha sufrido un retraso de horas este martes por lo…",
         "title": "Un probable caso del ‘síndrome de La Habana’ retrasa la gira de Kamala Harris por el sudeste asiáti…",
         "_deepnote_index_column": 37
        },
        {
         "body": "Beyoncé y Jay-Z, quizá la pareja más poderosa de la industria del entretenimiento, son los flamante…",
         "title": "Beyoncé y Jay-Z toman el relevo de Audrey Hepburn para renovar la imagen de la legendaria Tiffany &…",
         "_deepnote_index_column": 38
        },
        {
         "body": "No había nadie que no adorara a Charlie Watts. Era imposible no hacerlo. Siempre elegante, discreto…",
         "title": "Muere Charlie Watts, batería y corazón rítmico de los Rolling Stones, a los 80 años",
         "_deepnote_index_column": 39
        },
        {
         "body": "Nota a los lectores: EL PAÍS ofrece en abierto todo el contenido de la sección Planeta Futuro por s…",
         "title": "El luto infinito de las mujeres de Saqlauia",
         "_deepnote_index_column": 40
        },
        {
         "body": "El histórico desplome en las ejecuciones violentas que vive El Salvador se debe a un pacto secreto …",
         "title": "Una investigación arroja nuevas pruebas de la negociación de Bukele con las pandillas de El Salvador",
         "_deepnote_index_column": 41
        },
        {
         "body": "Los clubes de la Premier League han decidido este martes por unanimidad no liberar jugadores intern…",
         "title": "La Premier decide no liberar jugadores internacionales que tengan que viajar a países de alto riesgo",
         "_deepnote_index_column": 42
        },
        {
         "body": "Es difícil imaginarse a Franz Kafka feliz y, sin embargo, creo que lo fue. O, al menos, me gusta pe…",
         "title": "Alto Volta, un país con forma de nube",
         "_deepnote_index_column": 43
        },
        {
         "body": "El operador de viajes Kiwi.com no ha tardado en reaccionar a la amenaza que la pasada semana le lan…",
         "title": "Kiwi.com contraataca a Ryanair: sus clientes pueden volar si imprimen la tarjeta de embarque",
         "_deepnote_index_column": 44
        },
        {
         "body": "La salida de México de Ricardo Anaya después de ser citado por la Fiscalía por presuntos actos de c…",
         "title": "El ‘caso Odebrecht’ golpea a Anaya y sigue pendiente de Lozoya tras un año de acusaciones ",
         "_deepnote_index_column": 45
        },
        {
         "body": "Los mensajes de Instagram ya están borrados, pero incluso eso ilustra el nivel de desesperación: Ry…",
         "title": "La caída fulminante a los infiernos de Ryan Adams",
         "_deepnote_index_column": 46
        },
        {
         "body": "María Clemente (Ciudad de México, 1985) llega con unos tacones y es altísima, morena, de risa fácil…",
         "title": "María Clemente, primera diputada trans en el Congreso mexicano: “Acabamos de romper un techo de cri…",
         "_deepnote_index_column": 47
        },
        {
         "body": "Los ingredientes que dan vida a las grandes revoluciones tecnológicas, en ocasiones, están a la vue…",
         "title": "Las minas españolas resucitan",
         "_deepnote_index_column": 48
        },
        {
         "body": "“Ayer vivimos un momento muy especial como migrantes”, escribió esta semana la periodista venezolan…",
         "title": "La economía de la nostalgia",
         "_deepnote_index_column": 49
        },
        {
         "body": "Para bien o para mal, Xavier Novell es una de aquellas personas que no dejan indiferente a nadie. E…",
         "title": "El súbito abandono de una estrella de la Iglesia",
         "_deepnote_index_column": 50
        },
        {
         "body": "Durante sus más de tres lustros como canciller de Alemania, Angela Merkel ha sido una de las dirige…",
         "title": "El explosivo legado ruso de Merkel     ",
         "_deepnote_index_column": 51
        },
        {
         "body": "No hay descanso. Agosto era el mes de vacaciones en el Ayuntamiento de Madrid y en 2021 está siendo…",
         "title": "La izquierda se divide en la capital: “Es triste que Más Madrid acabe de esta forma”",
         "_deepnote_index_column": 52
        },
        {
         "body": "Esta historia comienza en la cárcel. En la de Soto del Real, Madrid. Allí nació hace 24 años Jamel …",
         "title": "Dollar Selmouni: la historia de un caso perdido que resucitó como talento de la música española",
         "_deepnote_index_column": 53
        },
        {
         "body": "La montaña rusa emocional en que viven los inversores en bitcoins pasa ahora por un momento agradab…",
         "title": "El bitcoin vuelve a romper la barrera de los 50.000 dólares aupado por PayPal",
         "_deepnote_index_column": 54
        },
        {
         "body": "Algunas series canadienses, como Schitt’s Creek, Workin’ Moms y Heartland, han tenido éxito en dive…",
         "title": "‘¿Me oyes?’, tres guerreras que no claudican en el lado desfavorecido del paraíso canadiense",
         "_deepnote_index_column": 55
        },
        {
         "body": "La alta comisionada de las Naciones Unidas para los derechos humanos, Michelle Bachelet, ha afirmad…",
         "title": "La ONU afirma que el tratamiento de los talibanes a mujeres y niñas será una “línea roja” en Afgani…",
         "_deepnote_index_column": 56
        },
        {
         "body": "“Nos interesa América porque nos consideramos un periódico americano”, expresa rotundo el director …",
         "title": "Jan Martínez Ahrens: “El periódico tiene la nacionalidad de sus lectores”",
         "_deepnote_index_column": 57
        },
        {
         "body": "Tengo que marcharme de Madrid, a la búsqueda de árboles, pájaros, senderos, bosques, ríos, montañas.",
         "title": "Este sol invita a enamorarse, pero de quién",
         "_deepnote_index_column": 58
        },
        {
         "body": "Llega en bici al centro de Mahón, la capital de Menorca, donde no solo pasa el verano, sino tempora…",
         "title": "Mercedes Milá: “A mí me ha matado mucho el tono en la vida. Tengo un pronto peligroso”",
         "_deepnote_index_column": 59
        },
        {
         "body": "Como es ya costumbre, estalló un nuevo escándalo de corrupción en Colombia. Esta vez, estarían a pu…",
         "title": "No se entiende tanta tolerancia",
         "_deepnote_index_column": 60
        },
        {
         "body": "Un camión con ayuda humanitaria de la organización irlandesa Concern está parado a la orilla de un …",
         "title": "Los saqueos y los problemas de distribución lastran la llegada de ayuda humanitaria a Haití",
         "_deepnote_index_column": 61
        },
        {
         "body": "El fracaso de la estrategia occidental en Afganistán se resume en una frase: Afganistán no necesita…",
         "title": "Empezar la casa afgana por el tejado",
         "_deepnote_index_column": 62
        },
        {
         "body": "Abusos sexuales. Acoso laboral. Discriminación salarial. Humillaciones en público. Chistes sobre vi…",
         "title": "La industria de los videojuegos emprende su gran partida contra el machismo",
         "_deepnote_index_column": 63
        },
        {
         "body": "El Gobierno arranca el curso político priorizando la agenda social. El primer Consejo de Ministros …",
         "title": "El Gobierno despliega la agenda social en el inicio del curso",
         "_deepnote_index_column": 64
        },
        {
         "body": "Los talibanes han prohibido este martes el acceso de los afganos al aeropuerto de Kabul. La medida …",
         "title": "Los talibanes prohíben el acceso de los afganos al aeropuerto de Kabul",
         "_deepnote_index_column": 65
        },
        {
         "body": "Nota a los lectores: EL PAÍS ofrece en abierto todo el contenido de la sección Planeta Futuro por s…",
         "title": "El complejo del salvador blanco y la discriminación en las inversiones tecnológicas en África",
         "_deepnote_index_column": 66
        },
        {
         "body": "La reunión extraordinaria que este martes ha mantenido el G7 ha sido un intento desesperado de salv…",
         "title": "El G7 fracasa en su intento de arrancar a Biden una ampliación del plazo de evacuación de Afganistán",
         "_deepnote_index_column": 67
        },
        {
         "body": "Los talibanes tenían razón. Ashraf Ghani presidía un régimen títere, organizado y dirigido por los …",
         "title": "Por qué la caída de Kabul supone el mayor revés geopolítico del siglo  ",
         "_deepnote_index_column": 68
        },
        {
         "body": "Tenía acceso a las joyas reales, pero la princesa Margarita, haciendo gala de su carácter independi…",
         "title": "La historia de la espectacular pulsera que la princesa Margarita usó en uno de sus retratos oficial…",
         "_deepnote_index_column": 69
        },
        {
         "body": "La Cámara de Representantes de Estados Unidos ha aprobado este martes un paso clave para sacar adel…",
         "title": "La Cámara de Representantes aprueba el plan de 3,5 billones de dólares para reforzar la agenda soci…",
         "_deepnote_index_column": 70
        },
        {
         "body": "No le resultó fácil a Jason Fulford conseguir que los más de 200 fotógrafos que aparecen en su libr…",
         "title": "“¿Otra vez una pared de ladrillo?”: Las imágenes que más de 200 fotógrafos no querrían ver nunca más",
         "_deepnote_index_column": 71
        },
        {
         "body": "Después de un parón obligado al perderse los Juegos Olímpicos por un positivo por covid, Jon Rahm h…",
         "title": "El karma de Jon Rahm",
         "_deepnote_index_column": 72
        },
        {
         "body": "Recibo un telegrama de Cifesa en el que me dicen que me presente inmediatamente a la Cines. Es la p…",
         "title": "El diario de Fernando Fernán Gómez: soledad y Campari en Cinecittà",
         "_deepnote_index_column": 73
        },
        {
         "body": "Una residencia de mayores de Madrid puso el viernes en la calle a una mujer de 69 años que llevaba …",
         "title": "Una residencia de mayores echa a la calle a una mujer por resultar conflictiva",
         "_deepnote_index_column": 74
        },
        {
         "body": "Por el camino de Almáchar a los montes de la Axarquía, algarrobos y bandoleros, llega el pelotón en…",
         "title": "Roglic se concede un capricho en la Vuelta y se cae",
         "_deepnote_index_column": 75
        },
        {
         "body": "José Luis Puerta (57 años), fiscal de Menores de Ceuta, no es ajeno al embrollo legal que supone el…",
         "title": "El fiscal de Menores de Ceuta sobre las devoluciones a Marruecos: “Estudiamos recurrir si la jueza …",
         "_deepnote_index_column": 76
        },
        {
         "body": "Vinicius trascendió contra el Levante por motivos más que futbolísticos. Varios jóvenes adiestrados…",
         "title": "El dilema Vinicius y la doble vía del Madrid",
         "_deepnote_index_column": 77
        },
        {
         "body": "Humans constantly alter the world. We fire fields, turn forests into farms and breed plants and ani…",
         "title": "When did humans start experimenting with alcohol and drugs?",
         "_deepnote_index_column": 78
        }
       ],
       "rows_bottom": null
      },
      "text/plain": "                                                 body  \\\n0   El exdictador chadiano Hissène Habré ha fallec...   \n1   El consejo de administración de EL PAÍS ha rat...   \n2   Cuando Dorothy Kosinski, directora de la Phill...   \n3   Aquello que nos acerca a lo que amamos suele e...   \n4   La actriz francesa Marion Cotillard recibirá e...   \n..                                                ...   \n74  Una residencia de mayores de Madrid puso el vi...   \n75  Por el camino de Almáchar a los montes de la A...   \n76  José Luis Puerta (57 años), fiscal de Menores ...   \n77  Vinicius trascendió contra el Levante por moti...   \n78  Humans constantly alter the world. We fire fie...   \n\n                                                title  \n0   El exdictador chadiano Hissene Habré muere en ...  \n1   El consejo de administración de EL PAÍS ratifi...  \n2   El museo que nació hace 100 años del duelo de ...  \n3   Andrea Stefanoni: “Quizás desaparezca antes el...  \n4   La actriz Marion Cotillard, premio Donostia de...  \n..                                                ...  \n74  Una residencia de mayores echa a la calle a un...  \n75  Roglic se concede un capricho en la Vuelta y s...  \n76  El fiscal de Menores de Ceuta sobre las devolu...  \n77       El dilema Vinicius y la doble vía del Madrid  \n78  When did humans start experimenting with alcoh...  \n\n[79 rows x 2 columns]",
      "text/html": "<div>\n<style scoped>\n    .dataframe tbody tr th:only-of-type {\n        vertical-align: middle;\n    }\n\n    .dataframe tbody tr th {\n        vertical-align: top;\n    }\n\n    .dataframe thead th {\n        text-align: right;\n    }\n</style>\n<table border=\"1\" class=\"dataframe\">\n  <thead>\n    <tr style=\"text-align: right;\">\n      <th></th>\n      <th>body</th>\n      <th>title</th>\n    </tr>\n  </thead>\n  <tbody>\n    <tr>\n      <th>0</th>\n      <td>El exdictador chadiano Hissène Habré ha fallec...</td>\n      <td>El exdictador chadiano Hissene Habré muere en ...</td>\n    </tr>\n    <tr>\n      <th>1</th>\n      <td>El consejo de administración de EL PAÍS ha rat...</td>\n      <td>El consejo de administración de EL PAÍS ratifi...</td>\n    </tr>\n    <tr>\n      <th>2</th>\n      <td>Cuando Dorothy Kosinski, directora de la Phill...</td>\n      <td>El museo que nació hace 100 años del duelo de ...</td>\n    </tr>\n    <tr>\n      <th>3</th>\n      <td>Aquello que nos acerca a lo que amamos suele e...</td>\n      <td>Andrea Stefanoni: “Quizás desaparezca antes el...</td>\n    </tr>\n    <tr>\n      <th>4</th>\n      <td>La actriz francesa Marion Cotillard recibirá e...</td>\n      <td>La actriz Marion Cotillard, premio Donostia de...</td>\n    </tr>\n    <tr>\n      <th>...</th>\n      <td>...</td>\n      <td>...</td>\n    </tr>\n    <tr>\n      <th>74</th>\n      <td>Una residencia de mayores de Madrid puso el vi...</td>\n      <td>Una residencia de mayores echa a la calle a un...</td>\n    </tr>\n    <tr>\n      <th>75</th>\n      <td>Por el camino de Almáchar a los montes de la A...</td>\n      <td>Roglic se concede un capricho en la Vuelta y s...</td>\n    </tr>\n    <tr>\n      <th>76</th>\n      <td>José Luis Puerta (57 años), fiscal de Menores ...</td>\n      <td>El fiscal de Menores de Ceuta sobre las devolu...</td>\n    </tr>\n    <tr>\n      <th>77</th>\n      <td>Vinicius trascendió contra el Levante por moti...</td>\n      <td>El dilema Vinicius y la doble vía del Madrid</td>\n    </tr>\n    <tr>\n      <th>78</th>\n      <td>Humans constantly alter the world. We fire fie...</td>\n      <td>When did humans start experimenting with alcoh...</td>\n    </tr>\n  </tbody>\n</table>\n<p>79 rows × 2 columns</p>\n</div>"
     },
     "metadata": {}
    }
   ]
  },
  {
   "cell_type": "markdown",
   "source": "## Data wrangling",
   "metadata": {
    "tags": [],
    "cell_id": "00019-a728dc5d-acc3-4389-a6e3-7035208b3e20",
    "deepnote_cell_type": "markdown"
   }
  },
  {
   "cell_type": "markdown",
   "source": "Es una de las actividades más importantes de todos los profesionales de datos. Simplemente es limpiar, transformar y enriquecer el dataset para objetivos posteriores.\n\nPandas es una de las herramientas más poderosas para realizar este ““domado”” de datos. Recordemos que Pandas trae muchas de sus abstracciones del lenguaje R, pero nos otorga lo mejor de ambos mundos, por eso es tan popular.\n\nNos permite:\n- generar transformaciones con gran facilidad.\n- trabajar rápidamente con datasets grandes\n- detectar y reemplazar faltantes\n- agrupar y resumir nuestros datos\n- visualizar nuestros resultados.",
   "metadata": {
    "tags": [],
    "cell_id": "00020-9b83c134-fdf4-435f-b17e-6196b8e7e755",
    "deepnote_cell_type": "markdown"
   }
  },
  {
   "cell_type": "code",
   "source": "# Añadir newspaper_uid al DataFrame\nel_universal['newspaper_uid'] = 'elpais'\nel_universal",
   "metadata": {
    "tags": [],
    "cell_id": "00021-b2bd1e14-3b61-41ab-aa37-1487af9475c7",
    "deepnote_to_be_reexecuted": false,
    "source_hash": "caae4d23",
    "execution_start": 1629937035531,
    "execution_millis": 36,
    "deepnote_cell_type": "code"
   },
   "outputs": [
    {
     "output_type": "execute_result",
     "execution_count": 13,
     "data": {
      "application/vnd.deepnote.dataframe.v2+json": {
       "row_count": 138,
       "column_count": 4,
       "columns": [
        {
         "name": "body",
         "dtype": "object",
         "stats": {
          "unique_count": 138,
          "nan_count": 0,
          "categories": [
           {
            "name": "\r\n\r\n\r\n\r\n    googletag.cmd.push(function() {\r\n      googletag.display(\"dfp-ad-top3_content\");\r\n    });\r\n  \r\n\r\n\r\nYanet García se consolidó como una de las consentidas en redes sociales por su labor en la pantalla chica, contrario a estas bellezas tapatías que primero saltaron del Instagram para retar a la famosa chica del clima regiomontana.\r\nSus millones de seguidores presumen que la influencer Yuliett Torres pose mejores curvas que la ex conductora de Hoy y de no ser por estar bloqueada por famosas de la farándula nacional la modelo ya estaría en programas de altos niveles de audiencia.\r\nParece que muy a pesar de Yanet, Yuliett se está abriendo camino en el espectáculo mexicano con intervenciones en videoclips de gruperos y por los patrocinadores que pagan jugosas sumas para ser su imagen.\r\nOtro factor a considerar son los videos subidos de tono que publica en sus redes sociales y que con el tiempo le permite aparecer como portadas en medios nacionales e incluso internacionales.\r\nMary Baltazar, modelo de Instagram con más de 2.8 millones de fans, es sin duda una tapatía que pone a temblar a Yanet García. \r\nAlgunas personas sostienen que la anatomía de la influencer es más natural y por ello debería de ser elegida como la más guapa.\r\nIncluso refieren que las fotos de Mary despiertan la envida de la regiomontana por que siempre luce espectacular y casi no se le hacen retoques.\r\nLa tapatía logró saltar de la comunidad virtual a las pasarelas, donde se mantiene como una de las modelos más solicitadas por anunciantes de nuestro país.\r\nEn las últimas semanas otra que se sumó a la disputa de la corona por la influencer con mejor retaguardia fue Dafne Cosío, ‘La Barbie tapatía’, quien gracias a sus consejos pudo colaborar con el autor de la canción ‘Tusa’.\r\nLa bella escribió el tema ”Requisito\" junto con con Keytin, autor del sonado tema de Karol G y Nicky Minaj.\r\nDafne comenzó a tocar el piano, estudiar solfeo, y durante 12 años se ha preparado para darlo todo en el mundo de la música; así como es bailarina de ballet y tahitiano.\r\nVER: \r\nJugadora de Chivas pone a temblar aYanet  García\r\n",
            "count": 1
           },
           {
            "name": "\r\nEl museo del antiguo campo nazi de la muerte Auschwitz-Birkenau, cerrado desde mediados de marzo por la pandemia de coronavirus, pidió el miércoles ayuda financiera.\r\nEn 2020 se celebró el 75 aniversario de la liberación de Auschwitz-Birkenau, convertido en símbolo de todos los campos de exterminio donde murieron cerca de la mitad de los 6 millones de judíos asesinados durante el Holocausto, así como centenares de miles de personas de otros orígenes.\r\n \r\n\r\n\r\n\r\n \r\n\r\n\r\n \r\n\r\n \r\n\r\n\r\n\r\n \r\n\r\n\r\n\r\n\r\nView this post on Instagram\r\n\r\n\r\n \r\n\r\n\r\n\r\n \r\n\r\n \r\n\r\n \r\n\r\n\r\n\r\n \r\n\r\n \r\n\r\n\r\n\r\n \r\n\r\n \r\n\r\n \r\n\r\n\r\n\r\nThe history of Auschwitz is actually 1,300,000 individual stories of individuals deported. . . --- Photo by @robertofranchiniphoto --- . . #Auschwitz #Birkenau #AuschwitzMemorial #Nazi #Germany #concentrationcamp #extermination #genocide #history #Holocaust #Shoah #Jews #Poles #Roma #people #life #death #humanity #humiliation #dehumanization #remembrance #commemoration #memory #museum #Poland #igerspoland #UNESCO #worldheritage #worldHeritagelist @unesco #photography\r\n\r\nA post shared by  Auschwitz Memorial and Museum (@auschwitzmemorial) on Feb 2, 2020 at 11:10pm PST\r\n\r\n\r\n\r\n\"Pedimos ayuda financiera por parte de todos los que consideran necesario preservar la memoria\", se lee en un comunicado publicado en la web del museo.\r\n\"El presupuesto de 2020 se hundió\", dice el texto, pese al \"apoyo particular\" del ministerio polaco de la Cultura y la Fundación Internacional Auschwitz-Birkenau que permite mantener el empleo y continuar las obras de mantenimiento de los vestigios de este antiguo campo de la muerte.\r\nSin embargo el museo no tiene fondos para sus actividades educativas, editoriales y para sus exposiciones.\r\nEl memorial de Auschwitz-Birkenau está cerrado desde el 12 de marzo y no podrá abrir hasta principios de julio según su web.\r\nfjb\r\n",
            "count": 1
           },
           {
            "name": "136 others",
            "count": 136
           }
          ]
         }
        },
        {
         "name": "title",
         "dtype": "object",
         "stats": {
          "unique_count": 110,
          "nan_count": 28,
          "categories": [
           {
            "name": "Las influencers tapatías que hacen temblar a Yanet García",
            "count": 1
           },
           {
            "name": "109 others",
            "count": 109
           },
           {
            "name": "Missing",
            "count": 28
           }
          ]
         }
        },
        {
         "name": "url",
         "dtype": "object",
         "stats": {
          "unique_count": 138,
          "nan_count": 0,
          "categories": [
           {
            "name": "http://www.unionjalisco.mx/articulo/2020/06/02/espectaculos/las-influencers-tapatias-que-hacen-temblar-yanet-garcia",
            "count": 1
           },
           {
            "name": "http://www.eluniversal.com.mx/cultura/patrimonio/coronavirus-el-museo-de-auschwitz-pide-ayuda-para-sobrevivir-la-pandemia",
            "count": 1
           },
           {
            "name": "136 others",
            "count": 136
           }
          ]
         }
        },
        {
         "name": "newspaper_uid",
         "dtype": "object",
         "stats": {
          "unique_count": 1,
          "nan_count": 0,
          "categories": [
           {
            "name": "elpais",
            "count": 138
           }
          ]
         }
        },
        {
         "name": "_deepnote_index_column",
         "dtype": "int64"
        }
       ],
       "rows_top": [
        {
         "body": "\r\n\r\n\r\n\r\n    googletag.cmd.push(function() {\r\n      googletag.display(\"dfp-ad-top3_content\");\r\n    }…",
         "title": "Las influencers tapatías que hacen temblar a Yanet García",
         "url": "http://www.unionjalisco.mx/articulo/2020/06/02/espectaculos/las-influencers-tapatias-que-hacen-temb…",
         "newspaper_uid": "elpais",
         "_deepnote_index_column": 0
        },
        {
         "body": "\r\nEl museo del antiguo campo nazi de la muerte Auschwitz-Birkenau, cerrado desde mediados de marzo …",
         "title": "El museo de Auschwitz pide ayuda para sobrevivir la pandemia",
         "url": "http://www.eluniversal.com.mx/cultura/patrimonio/coronavirus-el-museo-de-auschwitz-pide-ayuda-para-…",
         "newspaper_uid": "elpais",
         "_deepnote_index_column": 1
        },
        {
         "body": "\r\nLa Suprema Corte de Justicia de la Nación (SCJN) avaló que funcionarios del Banco de México (Banx…",
         "title": "Corte avala que funcionarios de Banxico, INE e IFT ganen más que AMLO",
         "url": "http://www.eluniversal.com.mx/nacion/corte-avala-que-funcionarios-de-banxico-ine-e-ift-ganen-mas-qu…",
         "newspaper_uid": "elpais",
         "_deepnote_index_column": 2
        },
        {
         "body": "\r\nUn grupo de funcionarios descubrió mosquitos infectados con el virus del Nilo Occidental al sur d…",
         "title": "nan",
         "url": "https://www.viveusa.mx/noticias/mosquitos-con-el-virus-del-nilo-occidental-llegan-california",
         "newspaper_uid": "elpais",
         "_deepnote_index_column": 3
        },
        {
         "body": "\r\nEn 1980, Héctor Suárez y Leticia Perdigón nunca se llamaron por su nombre. Los dos formaban parte…",
         "title": "Héctor Suárez, zurdo y loco hasta el final",
         "url": "https://www.eluniversalqueretaro.mx/portada/hector-suarez-zurdo-y-loco-hasta-el-final-zurdo-y-loco-…",
         "newspaper_uid": "elpais",
         "_deepnote_index_column": 4
        },
        {
         "body": "\r\nEl fiscal general Keith Ellison planea elevar los cargos contra Derek Chauvin, el expolicía de Mi…",
         "title": "Fiscal acusará de homicidio en segundo grado a Derek Chauvin; implicará a tres policías más",
         "url": "http://www.eluniversal.com.mx/mundo/george-floyd-fiscal-acusara-de-homicidio-en-segundo-grado-derek…",
         "newspaper_uid": "elpais",
         "_deepnote_index_column": 5
        },
        {
         "body": "\r\n\r\n\r\n\r\n    googletag.cmd.push(function() {\r\n      googletag.display(\"dfp-ad-top3_content\");\r\n    }…",
         "title": "Citas para verificar Edomex 2020: Entérate ",
         "url": "http://www.unionedomex.mx/articulo/2020/06/02/gente/citas-para-verificar-edomex-2020-enterate",
         "newspaper_uid": "elpais",
         "_deepnote_index_column": 6
        },
        {
         "body": "\r\n\r\n\r\n\r\n    googletag.cmd.push(function() {\r\n      googletag.display(\"dfp-ad-top3_content\");\r\n    }…",
         "title": "Cómo consigo una de Beca Benito Juárez de primaria y secundaria",
         "url": "http://www.unionpuebla.mx/articulo/2020/05/26/educacion/como-consigo-una-de-beca-benito-juarez-de-p…",
         "newspaper_uid": "elpais",
         "_deepnote_index_column": 7
        },
        {
         "body": "\r\n\r\n\r\n\r\n    googletag.cmd.push(function() {\r\n      googletag.display(\"dfp-ad-top3_content\");\r\n    }…",
         "title": "Belinda, edad, estatura y otros datos de la coach de La Voz",
         "url": "http://www.unionyucatan.mx/articulo/2020/06/02/espectaculos/belinda-edad-estatura-y-otros-datos-de-…",
         "newspaper_uid": "elpais",
         "_deepnote_index_column": 8
        },
        {
         "body": "Temascaltepec.— Sicarios descargaron más de cien tiros contra un custodio, tras ser emboscado a la …",
         "title": "nan",
         "url": "https://www.elgrafico.mx/la-roja/custodio-de-penal-en-edomex-termina-mas-que-muerto-luego-de-mas-de…",
         "newspaper_uid": "elpais",
         "_deepnote_index_column": 9
        },
        {
         "body": "\r\nGianna tiene seis años. No sabe cómo murió su padre, George Floyd. Sólo sabe que lo extraña y que…",
         "title": "“Extraño a mi papi. Él cambió el mundo”, dice la hija de George Floyd",
         "url": "http://www.eluniversal.com.mx/mundo/extrano-mi-papi-el-cambio-el-mundo-dice-la-hija-de-george-floyd",
         "newspaper_uid": "elpais",
         "_deepnote_index_column": 10
        },
        {
         "body": "\r\nLa Secretaría de Energía (Sener), a través de PTI Infraestructura de Desarrollo, adjudicó los 7 p…",
         "title": "Sener adjudica los contratos para almacenamiento de la nueva refinería de Dos Bocas",
         "url": "http://www.eluniversal.com.mx/cartera/sener-adjudica-los-contratos-para-almacenamiento-de-la-nueva-…",
         "newspaper_uid": "elpais",
         "_deepnote_index_column": 11
        },
        {
         "body": "\r\nCampeche, Después de que ayer el subsecretario de Salud, Hugo López-Gatell, admitiera ante los go…",
         "title": "No nos confiemos, pide AMLO; es una pandemia muy dañina",
         "url": "http://www.eluniversal.com.mx/nacion/no-nos-confiemos-pide-amlo-es-una-pandemia-muy-danina",
         "newspaper_uid": "elpais",
         "_deepnote_index_column": 12
        },
        {
         "body": "\r\nQuito.- El expresidente ecuatoriano Abdalá Bucaram fue detenido el miércoles en su domicilio dura…",
         "title": "Detienen en Guayaquil a expresidente de Ecuador, acusado de corrupción",
         "url": "http://www.eluniversal.com.mx/mundo/detienen-en-guayaquil-expresidente-de-ecuador-acusado-de-corrup…",
         "newspaper_uid": "elpais",
         "_deepnote_index_column": 13
        },
        {
         "body": "\r\n-Doctor, ¿ya está domada la pandemia?- se le pregunta al subsecretario de Salud y vocero del gobi…",
         "title": "Pandemia no está domada en México: López-Gatell",
         "url": "http://www.eluniversal.com.mx/nacion/pandemia-no-esta-domada-en-mexico-lopez-gatell",
         "newspaper_uid": "elpais",
         "_deepnote_index_column": 14
        },
        {
         "body": "\r\nEn medio de la pandemia de Covid-19 y con todas las agencias automotrices cerradas, en mayo, la v…",
         "title": "Venta de autos en mayo, mejor que en abril: AMDA",
         "url": "http://www.eluniversal.com.mx/cartera/venta-de-autos-en-mayo-mejor-que-en-abril-amda",
         "newspaper_uid": "elpais",
         "_deepnote_index_column": 15
        },
        {
         "body": " 0 % PULSO SOCIAL0 El 2020 ya inició y en esta nueva década es común que comencemos a preguntarnos …",
         "title": "nan",
         "url": "https://de10.com.mx/top-10/10-terribles-profecias-de-nostradamus-para-el-2020",
         "newspaper_uid": "elpais",
         "_deepnote_index_column": 16
        },
        {
         "body": "\r\n\r\n\r\n\r\n    googletag.cmd.push(function() {\r\n      googletag.display(\"dfp-ad-top3_content\");\r\n    }…",
         "title": "Admisión BUAP 2020: Examen de admisión se pospone",
         "url": "http://www.unionpuebla.mx/articulo/2020/06/01/educacion/admision-buap-2020-examen-de-admision-se-po…",
         "newspaper_uid": "elpais",
         "_deepnote_index_column": 17
        },
        {
         "body": "\r\nJuchitán de Zaragoza.— La cortina de acero  está  arriba hasta la mitad en  la entrada a la tiend…",
         "title": "Juchitán regresa a \"nueva normalidad\" pese a riesgo de contagios por Covid-19",
         "url": "https://oaxaca.eluniversal.com.mx/municipios/02-06-2020/juchitan-regresa-nueva-normalidad-pese-ries…",
         "newspaper_uid": "elpais",
         "_deepnote_index_column": 18
        },
        {
         "body": "\r\nEste martes estrenó \"La Voz Azteca\" con Belinda, Christian Nodal, María José y Ricardo Montaner c…",
         "title": "Sin público y sin cubrebocas arranca \"La Voz Azteca\"",
         "url": "http://www.eluniversal.com.mx/espectaculos/la-voz-azteca-sin-publico-y-sin-cubrebocas",
         "newspaper_uid": "elpais",
         "_deepnote_index_column": 19
        },
        {
         "body": "\r\nTexto: Yessica Torres\r\nRodeado de mar y por su ubicación geográfica es común que en el territorio…",
         "title": "El plan de emergencia que surgió por el desbordamiento de un río",
         "url": "https://www.eluniversal.com.mx/opinion/mochilazo-en-el-tiempo/el-plan-de-emergencia-que-surgio-por-…",
         "newspaper_uid": "elpais",
         "_deepnote_index_column": 20
        },
        {
         "body": "\r\nDisney Springs en Orlando, Florida reabrió el pasado 20 de mayo luego de permanecer cerrado como …",
         "title": "nan",
         "url": "https://www.viveusa.mx/destinos/10-fotos-que-muestran-como-es-visitar-disney-springs-durante-la-pan…",
         "newspaper_uid": "elpais",
         "_deepnote_index_column": 21
        },
        {
         "body": "\r\n\r\nLeón.— La industria del calzado reiniciará sus actividades de producción, a partir de este 1 de…",
         "title": "Industria del calzado de León reanudará actividades con 30% de capacidad",
         "url": "http://www.eluniversal.com.mx/estados/industria-del-calzado-de-leon-reanudara-actividades-con-30-de…",
         "newspaper_uid": "elpais",
         "_deepnote_index_column": 22
        },
        {
         "body": "\r\nA través de redes sociales, la senadora Lilly Téllez anunció que deja la bancada de Morena “por d…",
         "title": "Lilly Téllez deja bancada de Morena en el Senado “por diferencias de criterio”",
         "url": "http://www.eluniversal.com.mx/nacion/lilly-tellez-deja-bancada-de-morena-por-diferencias-de-criterio",
         "newspaper_uid": "elpais",
         "_deepnote_index_column": 23
        },
        {
         "body": "\r\nJuchitán de Zaragoza. - Un niño de 4 años murió la noche del sábado debido a las graves heridas q…",
         "title": "Perro Pitbull ataca y mata a niño de 4 años en Tehuantepec ",
         "url": "https://oaxaca.eluniversal.com.mx/municipios/01-06-2020/perro-pitbull-ataca-y-mata-nino-de-4-anos-e…",
         "newspaper_uid": "elpais",
         "_deepnote_index_column": 24
        },
        {
         "body": "\r\nTexto: Carlos Villasana y Ruth Gómez.\r\nHabitar y transitar por la Ciudad de México sin música par…",
         "title": "Cuando las canciones se aprendían con Notitas Musicales",
         "url": "https://www.eluniversal.com.mx/opinion/mochilazo-en-el-tiempo/cuando-las-canciones-se-aprendian-con…",
         "newspaper_uid": "elpais",
         "_deepnote_index_column": 25
        },
        {
         "body": "\r\n\r\n\r\n\r\n    googletag.cmd.push(function() {\r\n      googletag.display(\"dfp-ad-top3_content\");\r\n    }…",
         "title": "María José, edad, estatura y más de la coach de La Voz México",
         "url": "http://www.unionyucatan.mx/articulo/2020/06/02/espectaculos/maria-jose-edad-estatura-y-mas-de-la-co…",
         "newspaper_uid": "elpais",
         "_deepnote_index_column": 26
        },
        {
         "body": "\r\nEl ayuntamiento de Soledad informó que a partir del 1 de junio iniciará la reactivación escalonad…",
         "title": "Este lunes inicia reapertura escalonada de comercios en Soledad",
         "url": "https://sanluis.eluniversal.com.mx/municipios/29-05-2020/este-lunes-inicia-reapertura-escalonada-de…",
         "newspaper_uid": "elpais",
         "_deepnote_index_column": 27
        },
        {
         "body": "\r\nEn la última fotografía de las tres generaciones Suárez, Héctor aparece sonriendo dentro de una …",
         "title": "Suárez Gomís comparte última foto con Héctor Suárez y su hijo ",
         "url": "http://www.eluniversal.com.mx/espectaculos/suarez-gomis-comparte-ultima-foto-con-hector-suarez-y-su…",
         "newspaper_uid": "elpais",
         "_deepnote_index_column": 28
        },
        {
         "body": " 0 % PULSO SOCIAL0 Hoy en día los filtros y herramientas en redes sociales pueden darles a todos un…",
         "title": "nan",
         "url": "https://de10.com.mx/cultura-digital/insolito-influencers-muestran-su-vida-sin-filtros-ni-retoques",
         "newspaper_uid": "elpais",
         "_deepnote_index_column": 29
        },
        {
         "body": "\r\nRodolfo Pizarro fue honesto en una charla extensa con Oswaldo Alanís, excompañero suyo en las Chi…",
         "title": "El 'Negro' Santos es mi juguete: Rodolfo Pizarro",
         "url": "http://www.eluniversal.com.mx/universal-deportes/futbol/rodolfo-pizarro-el-negro-santos-es-mi-jugue…",
         "newspaper_uid": "elpais",
         "_deepnote_index_column": 30
        },
        {
         "body": "\r\nEl nuevo estadio de Mazatlán, cuya construcción está por concluir este mes, después de tres años …",
         "title": "Conoce el nuevo estadio del Mazatlán FC",
         "url": "http://www.eluniversal.com.mx/universal-deportes/futbol/liga-mx-conoce-el-nuevo-estadio-del-mazatla…",
         "newspaper_uid": "elpais",
         "_deepnote_index_column": 31
        },
        {
         "body": "\r\nEl coordinador del PAN en el Senado, Mauricio Kuri, anunció la adhesión de la senadora Lilly Téll…",
         "title": "Lilly Téllez se suma al PAN en el Senado",
         "url": "http://www.eluniversal.com.mx/nacion/lilly-tellez-se-suma-al-pan-en-el-senado",
         "newspaper_uid": "elpais",
         "_deepnote_index_column": 32
        },
        {
         "body": "\r\n\r\nUn grupo de jóvenes de Craiova, una ciudad pequeña, enclavada en una región agrícola de Rumania…",
         "title": " Opera en México banda rumana de robos millonarios en cajeros",
         "url": "http://www.eluniversal.com.mx/nacion/opera-en-mexico-banda-rumana-de-robos-millonarios-en-cajeros",
         "newspaper_uid": "elpais",
         "_deepnote_index_column": 33
        },
        {
         "body": "\r\nEste sábado, concejales de Oaxaca de Juárez aprobaron por unanimidad prolongar hasta el 30 de jun…",
         "title": "La capital amplía al 30 de junio medidas contra Covid-19, ante pico de contagios",
         "url": "https://oaxaca.eluniversal.com.mx/municipios/30-05-2020/la-capital-amplia-al-30-de-junio-medidas-co…",
         "newspaper_uid": "elpais",
         "_deepnote_index_column": 34
        },
        {
         "body": "\r\nImagina encontrarte con cientos de flamencos en libertad: admirar su vuelo, sus elegantes movimie…",
         "title": "Celestún, el paraíso mexicano donde habita el flamenco rosa ",
         "url": "http://www.eluniversal.com.mx/destinos/celestun-el-paraiso-mexicano-donde-habita-el-flamenco-rosa",
         "newspaper_uid": "elpais",
         "_deepnote_index_column": 35
        },
        {
         "body": "\r\nLa Fiscalía General del Estado de Oaxaca (FGEO) informó que un juez vinculó a proceso a un sujeto…",
         "title": "Vinculan a sujeto que presuntamente atacó sexualmente a sus dos hijas en Oaxaca",
         "url": "https://oaxaca.eluniversal.com.mx/estatal/28-04-2020/vinculan-sujeto-que-presuntamente-ataco-sexual…",
         "newspaper_uid": "elpais",
         "_deepnote_index_column": 36
        },
        {
         "body": "\r\nTexto: Daniela Jurado Cano\r\n\r\nEn los 80 comenzaron a surgir grupos, sellos discográficos y espaci…",
         "title": "Grupos de rock, cronistas de la CDMX y periferia",
         "url": "https://www.eluniversal.com.mx/opinion/mochilazo-en-el-tiempo/grupos-de-rock-cronistas-de-la-cdmx-y…",
         "newspaper_uid": "elpais",
         "_deepnote_index_column": 37
        },
        {
         "body": "\r\nTlalnepantla, Méx.— Bernabé Flores Franco, enfermero que libró la batalla contra el Covid-19 lueg…",
         "title": "Libra Covid... pero queda con daño pulmonar; no lo atienden por miedo",
         "url": "http://www.eluniversal.com.mx/metropoli/libra-covid-pero-queda-con-dano-pulmonar-no-lo-atienden-por…",
         "newspaper_uid": "elpais",
         "_deepnote_index_column": 38
        },
        {
         "body": "\r\nEn mayo hubo 864 nuevos casos de Covid-19 en Querétaro y 100 defunciones; esto es cerca de siete …",
         "title": "Mayo fue el mes con más contagios y defunciones por Coronavirus, en Querétaro",
         "url": "https://www.eluniversalqueretaro.mx/portada/mayo-fue-el-mes-con-mas-contagios-y-defunciones",
         "newspaper_uid": "elpais",
         "_deepnote_index_column": 39
        },
        {
         "body": "\r\nCampeche.- En el banderazo de inicio de obra del Tramo 2 del Tren Maya, el presidente Andrés Manu…",
         "title": "AMLO da banderazo en Campeche al Tramo 2 del Tren Maya",
         "url": "http://www.eluniversal.com.mx/nacion/amlo-da-banderazo-en-campeche-al-tramo-2-del-tren-maya",
         "newspaper_uid": "elpais",
         "_deepnote_index_column": 40
        },
        {
         "body": "\r\n\r\n\r\n\r\n    googletag.cmd.push(function() {\r\n      googletag.display(\"dfp-ad-top3_content\");\r\n    }…",
         "title": "Constancia Digital INE: ¿cómo tramitarla y para qué sirve?",
         "url": "http://www.unioncdmx.mx/articulo/2020/05/27/ciudadanos/constancia-digital-ine-como-tramitarla-y-par…",
         "newspaper_uid": "elpais",
         "_deepnote_index_column": 41
        },
        {
         "body": "\r\n\r\nLas manifestaciones por la muerte de George Floyd, un hombre afroestadounidense asesinado por p…",
         "title": "Estados Unidos en llamas",
         "url": "https://www.eluniversal.com.mx/opinion/andrew-selee/estados-unidos-en-llamas",
         "newspaper_uid": "elpais",
         "_deepnote_index_column": 42
        },
        {
         "body": " 0 % PULSO SOCIAL0 Charles Chaplin es conocido por su legendario talento cómico, pero su vida perso…",
         "title": "nan",
         "url": "https://de10.com.mx/top-10/las-cuatro-bellas-y-jovenes-esposas-de-charlie-chaplin",
         "newspaper_uid": "elpais",
         "_deepnote_index_column": 43
        },
        {
         "body": " Toggle navigation  SuscripcionesEl Universal ImpresoEl Universal QuerétaroEl Universal Digital    …",
         "title": "nan",
         "url": "https://www.clubeluniversal.mx/content/suscripciones",
         "newspaper_uid": "elpais",
         "_deepnote_index_column": 44
        },
        {
         "body": "En un robo casi de película, una banda bien organizada obligó a la empleada de una sucursal de Banc…",
         "title": "nan",
         "url": "https://www.elgrafico.mx/la-roja/asi-se-robaron-14-millones-de-pesos-en-un-banco-de-cdmx-con-cintur…",
         "newspaper_uid": "elpais",
         "_deepnote_index_column": 45
        },
        {
         "body": "\r\n\r\n\r\n\r\n    googletag.cmd.push(function() {\r\n      googletag.display(\"dfp-ad-top3_content\");\r\n    }…",
         "title": "Christian Nodal, edad y secretos del coach de La Voz México 2020",
         "url": "http://www.unionyucatan.mx/articulo/2020/06/02/espectaculos/christian-nodal-edad-y-secretos-del-coa…",
         "newspaper_uid": "elpais",
         "_deepnote_index_column": 46
        },
        {
         "body": "\r\nMelania Trump no pudo ocultar su incomodidad cuando su esposo, el presidente Donald Trumo, le pid…",
         "title": "nan",
         "url": "https://www.viveusa.mx/noticias/la-sonrisa-forzada-de-melania-trump-un-video-que-se-volvio-viral",
         "newspaper_uid": "elpais",
         "_deepnote_index_column": 47
        },
        {
         "body": "\r\nEn 2004, el rumano Filip Sardaru hizo una emotiva petición a Canadá para que su familia fuera ace…",
         "title": "Cruzando el Río Grande: Cómo unos rumanos entraron ilegalmente a Estados Unidos para robar cajeros …",
         "url": "http://www.eluniversal.com.mx/nacion/cruzando-el-rio-grande-como-unos-rumanos-entraron-ilegalmente-…",
         "newspaper_uid": "elpais",
         "_deepnote_index_column": 48
        },
        {
         "body": "\r\nLa actriz Megan Fox salió en compañía de sus tres hijos a una tienda de la ciudad de Calabasas, e…",
         "title": "nan",
         "url": "https://www.viveusa.mx/showbiz/megan-fox-cautiva-con-jeans-ajustados-en-california-tras-separacion",
         "newspaper_uid": "elpais",
         "_deepnote_index_column": 49
        },
        {
         "body": "\r\nEl reinicio de actividades en el sector industrial se caracterizó por ausencia de trabajadores y …",
         "title": "\"Nueva normalidad\" inicia con ausentismo laboral y sin pruebas para detectar Covid",
         "url": "http://www.eluniversal.com.mx/cartera/negocios/nueva-normalidad-inicia-con-ausentismo-laboral-y-sin…",
         "newspaper_uid": "elpais",
         "_deepnote_index_column": 50
        },
        {
         "body": "\r\nLa marca mexicana Veoveo lanzó una campaña con causa durante la pandemia por Covid-19. Fabrican c…",
         "title": "nan",
         "url": "https://www.viveusa.mx/compras/fabrican-cubrebocas-para-ayudar-ninos-migrantes-en-mexico",
         "newspaper_uid": "elpais",
         "_deepnote_index_column": 51
        },
        {
         "body": "\r\nQuerétaro, Querétaro.-\r\n\r\nLa peluquería de Mario Rodríguez Hernández está vacía. La gente en esto…",
         "title": "Resistencia. Peluquero sobrelleva encierro",
         "url": "https://www.eluniversalqueretaro.mx/portada/resistenciapeluquero-sobrelleva-encierro",
         "newspaper_uid": "elpais",
         "_deepnote_index_column": 52
        },
        {
         "body": "\r\nDemi Rose conquistó las redes sociales con un vestido que se ajustó a sus curvas de infarto y rev…",
         "title": "nan",
         "url": "https://www.viveusa.mx/showbiz/demi-rose-presume-vestido-de-impacto-en-redes-sociales",
         "newspaper_uid": "elpais",
         "_deepnote_index_column": 53
        },
        {
         "body": "\r\nToluca.- La Secretaría de Educación del Estado de México informó que el 5 de junio concluirá el a…",
         "title": "Estas son las fechas para finalizar clases e iniciar ciclo escolar 2020-2021 en Edomex",
         "url": "http://www.eluniversal.com.mx/metropoli/edomex/estas-son-las-fechas-para-finalizar-clases-e-iniciar…",
         "newspaper_uid": "elpais",
         "_deepnote_index_column": 54
        },
        {
         "body": "\r\nCon 18 años de edad, Dafne Almazán Anaya se convirtió en la mexicana más joven en graduarse de un…",
         "title": "nan",
         "url": "https://www.viveusa.mx/educacion/dafne-almazan-la-mexicana-mas-joven-en-graduarse-de-una-maestria-e…",
         "newspaper_uid": "elpais",
         "_deepnote_index_column": 55
        },
        {
         "body": "\r\n\r\nNos comentan que quien piense que la empresa Wal-Mart realizó de buena voluntad un pago por 8 m…",
         "title": "La historia de los 8 mil millones que pagó Wal-Mart",
         "url": "https://www.eluniversal.com.mx/opinion/periodistas-el-universal/la-historia-de-los-8-mil-millones-q…",
         "newspaper_uid": "elpais",
         "_deepnote_index_column": 56
        },
        {
         "body": "\r\n\r\n En Puebla se han registrado 392 muertes y 3 mil 239 casos confirmados de coronavirus al 2 de j…",
         "title": "Coronavirus Puebla: Casos confirmados de Covid-19 al 2 de junio",
         "url": "http://www.eluniversal.com.mx/estados/coronavirus-puebla-casos-confirmados-de-covid-19-al-2-de-junio",
         "newspaper_uid": "elpais",
         "_deepnote_index_column": 57
        },
        {
         "body": "\r\nA medida que los manifestantes ocupaban las avenidas a lo largo y ancho de Estados Unidos para co…",
         "title": "nan",
         "url": "https://www.viveusa.mx/noticias/protestas-en-estados-unidos-podrian-provocar-nuevos-casos-de-corona…",
         "newspaper_uid": "elpais",
         "_deepnote_index_column": 58
        },
        {
         "body": "\r\n\r\n\r\n\r\n    googletag.cmd.push(function() {\r\n      googletag.display(\"dfp-ad-top3_content\");\r\n    }…",
         "title": "‘Enamorándonos’ y su maldición",
         "url": "http://www.unionjalisco.mx/articulo/2020/06/03/espectaculos/enamorandonos-y-su-maldicion",
         "newspaper_uid": "elpais",
         "_deepnote_index_column": 59
        },
        {
         "body": "\r\nLa secretaria de Salud, Oliva López, consideró que en septiembre el semáforo podría cambiar a nar…",
         "title": "Decesos por Covid se estabilizarán en septiembre en CDMX",
         "url": "http://www.eluniversal.com.mx/metropoli/decesos-por-covid-se-estabilizaran-en-septiembre-en-cdmx",
         "newspaper_uid": "elpais",
         "_deepnote_index_column": 60
        },
        {
         "body": "\r\nEl gobernador Francisco Domínguez Servién desmintió que el estado de Querétaro haya aceptado util…",
         "title": "Gobernador de Querétaro rechaza integración al semáforo único de Covid-19 ",
         "url": "https://www.eluniversalqueretaro.mx/politica/gobernador-de-queretaro-rechaza-integracion-al-semafor…",
         "newspaper_uid": "elpais",
         "_deepnote_index_column": 61
        },
        {
         "body": "\r\nJosé Luis Alomía Zegarra, director general de Epidemiología, informó esta noche que México suma 1…",
         "title": "México tiene nuevo máximo de casos de Covid: 3 mil 891 en un día; suman 97 mil",
         "url": "https://www.eluniversal.com.mx/nacion/sociedad/coronavirus-2-de-junio-suman-10-mil-637-muertes-por-…",
         "newspaper_uid": "elpais",
         "_deepnote_index_column": 62
        },
        {
         "body": "\r\n\r\n\r\n\r\n    googletag.cmd.push(function() {\r\n      googletag.display(\"dfp-ad-top3_content\");\r\n    }…",
         "title": "Yo soy Betty, la fea, elenco, personajes y actores antes y después",
         "url": "http://www.unionyucatan.mx/articulo/2020/06/01/espectaculos/yo-soy-betty-la-fea-elenco-personajes-y…",
         "newspaper_uid": "elpais",
         "_deepnote_index_column": 63
        },
        {
         "body": " 0 % PULSO SOCIAL0 Ante las protestas en Estados Unidos por la muerte de George Floyd, un afromeric…",
         "title": "nan",
         "url": "https://de10.com.mx/top-10/10-memes-sobre-las-verdaderas-revelaciones-de-anonymous",
         "newspaper_uid": "elpais",
         "_deepnote_index_column": 64
        },
        {
         "body": "\r\nDesde ayer, algunos comentarios en Internet apuntan a que el Presidente, Andrés Manuel López Obra…",
         "title": "¿Es verdad que AMLO quiere cobrar un impuesto por tener mascotas?",
         "url": "http://www.eluniversal.com.mx/nacion/politica/es-verdad-que-amlo-quiere-cobrar-un-impuesto-por-tene…",
         "newspaper_uid": "elpais",
         "_deepnote_index_column": 65
        },
        {
         "body": "\r\nLa actriz Gwyneth Paltrow fue captada durante un paseo en la ciudad de Los Ángeles, California, j…",
         "title": "nan",
         "url": "https://www.viveusa.mx/showbiz/gwyneth-paltrow-luce-piernas-tonificadas-con-shorts-blancos-en-la",
         "newspaper_uid": "elpais",
         "_deepnote_index_column": 66
        },
        {
         "body": "\r\nEiza González fue captada por los paparazzis haciendo alarde de su trabajada figura por calles de…",
         "title": "nan",
         "url": "https://www.viveusa.mx/showbiz/eiza-gonzalez-presume-abs-con-crop-top-en-los-angeles-0",
         "newspaper_uid": "elpais",
         "_deepnote_index_column": 67
        },
        {
         "body": "\r\n\r\n\r\n\r\n    googletag.cmd.push(function() {\r\n      googletag.display(\"dfp-ad-top3_content\");\r\n    }…",
         "title": "Nuevas fechas para examen COMIPEMS 2020, ¿cuándo son?",
         "url": "http://www.unioncdmx.mx/articulo/2020/06/03/educacion/nuevas-fechas-para-examen-comipems-2020-cuand…",
         "newspaper_uid": "elpais",
         "_deepnote_index_column": 68
        },
        {
         "body": "\r\nEl Servicio de Administración Tributaria (SAT) recordó que el año pasado, el Congreso de la Unión…",
         "title": "¿Quiénes pagan el IVA a servicios digitales? El SAT te lo dice",
         "url": "http://www.eluniversal.com.mx/cartera/telecom/quienes-pagan-el-iva-servicios-digitales",
         "newspaper_uid": "elpais",
         "_deepnote_index_column": 69
        },
        {
         "body": "\r\n El primer ministro canadiense, Justin Trudeau, necesitó este martes 21 segundos de silencio ante…",
         "title": "nan",
         "url": "https://www.viveusa.mx/noticias/la-polemica-respuesta-de-justin-trudeau-sobre-las-protestas-en-eu",
         "newspaper_uid": "elpais",
         "_deepnote_index_column": 70
        },
        {
         "body": "\r\nSi hay una deliciosa y sencilla receta para preparar es el pan francés, este rico bocadillo que l…",
         "title": "Aprende a preparar pan francés en casa fácil y rápido",
         "url": "http://www.eluniversal.com.mx/menu/receta-de-pan-frances-con-platano",
         "newspaper_uid": "elpais",
         "_deepnote_index_column": 71
        },
        {
         "body": "\r\nPara muchos viajeros, una de las motivaciones principales para elegir uno u otro lugar para recor…",
         "title": "Postres, vinos y otras delicias: viaja por Francia a través de su cocina",
         "url": "http://www.eluniversal.com.mx/destinos/postres-vinos-y-mas-delicias-en-un-viaje-por-la-cocina-franc…",
         "newspaper_uid": "elpais",
         "_deepnote_index_column": 72
        },
        {
         "body": "\r\nLa aparición del Covid-19 provocó que el personal de salud adoptara la utilización de nuevas herr…",
         "title": "“Es muy difícil, vemos las muertes noche a noche”",
         "url": "https://www.eluniversalqueretaro.mx/portada/es-muy-dificil-vemos-las-muertes-noche-noche",
         "newspaper_uid": "elpais",
         "_deepnote_index_column": 73
        },
        {
         "body": "\r\n¿Todavía habrá quienes piensen que el actual gobierno amenaza la libertad de expresión luego de q…",
         "title": "El choque de dos proyectos de nación",
         "url": "https://www.eluniversal.com.mx/opinion/raul-rodriguez-cortes/el-choque-de-dos-proyectos-de-nacion",
         "newspaper_uid": "elpais",
         "_deepnote_index_column": 74
        },
        {
         "body": "\r\n\r\nLa escena es terrible: George Floyd, un hombre afroamericano arrojado en el piso, con la rodill…",
         "title": "Sobre la brutalidad policial",
         "url": "https://www.eluniversal.com.mx/opinion/alejandro-hope/sobre-la-brutalidad-policial",
         "newspaper_uid": "elpais",
         "_deepnote_index_column": 75
        },
        {
         "body": "\r\nEl perímetro del Centro Histórico se encuentra aún blindado por elementos de la Secretaría de Seg…",
         "title": "Pese a \"nueva normalidad\", mantienen cercado perímetro del Centro Histórico ",
         "url": "http://www.eluniversal.com.mx/metropoli/cdmx/pese-nueva-normalidad-mantienen-cercado-perimetro-del-…",
         "newspaper_uid": "elpais",
         "_deepnote_index_column": 76
        },
        {
         "body": "\r\n\r\n\r\n\r\n    googletag.cmd.push(function() {\r\n      googletag.display(\"dfp-ad-top3_content\");\r\n    }…",
         "title": "¿Cuándo es el Día del Padre en México 2020?",
         "url": "http://www.unionguanajuato.mx/articulo/2020/05/25/cultura/cuando-es-el-dia-del-padre-en-mexico-2020",
         "newspaper_uid": "elpais",
         "_deepnote_index_column": 77
        },
        {
         "body": "\r\nLeer en español\r\n \r\nThe body of a Mexican congresswoman Francis Anel Bueno Sánchez from the state…",
         "title": "Mexican lawmaker’s body is found inside a mass grave in Colima",
         "url": "https://www.eluniversal.com.mx/english/mexican-lawmakers-body-found-inside-mass-grave-colima",
         "newspaper_uid": "elpais",
         "_deepnote_index_column": 78
        },
        {
         "body": "\r\nUna nieve ligera caía sobre Craiova, en el sur de Rumanía, cuando Sorin Velcu llamó a su madre pa…",
         "title": "Del cajero al ladrillo: blanqueando el dinero sucio",
         "url": "http://www.eluniversal.com.mx/nacion/del-cajero-al-ladrillo-blanqueando-el-dinero-sucio",
         "newspaper_uid": "elpais",
         "_deepnote_index_column": 79
        },
        {
         "body": "\r\nTexto: Edward Fernando Salinas\r\n \r\n\r\n\"No puedes vencer a alguien que nunca se rinde\"\r\n“Babe” Ruth…",
         "title": "El día que el gran Babe Ruth conectó un jonrón en México",
         "url": "https://www.eluniversal.com.mx/opinion/mochilazo-en-el-tiempo/el-dia-que-el-gran-babe-ruth-conecto-…",
         "newspaper_uid": "elpais",
         "_deepnote_index_column": 80
        },
        {
         "body": "\r\n\r\n¿Qué horas son? las que usted diga, señor presidente. Es la respuesta que México ha querido evi…",
         "title": "Los cómplices del presidente",
         "url": "https://www.eluniversal.com.mx/opinion/ana-paula-ordorica/los-complices-del-presidente",
         "newspaper_uid": "elpais",
         "_deepnote_index_column": 81
        },
        {
         "body": "\r\nWashington.- Las tropas en activo trasladadas a la capital estadounidense para ayudar, en caso ne…",
         "title": "Regresan a sus bases tropas desplegadas en Washington para controlar protestas",
         "url": "http://www.eluniversal.com.mx/mundo/regresan-sus-bases-tropas-desplegadas-en-washington-para-contro…",
         "newspaper_uid": "elpais",
         "_deepnote_index_column": 82
        },
        {
         "body": "\r\nLa posible vuelta del Atlante a la Primera División, a la Liga MX, podría ser parte de un plan ar…",
         "title": "El Atlante a la Liga MX, ¿cómo y de quién es el plan?",
         "url": "http://www.eluniversal.com.mx/universal-deportes/futbol/el-atlante-la-liga-mx-como-y-de-quien-es-el…",
         "newspaper_uid": "elpais",
         "_deepnote_index_column": 83
        },
        {
         "body": "\r\nAlgunos jugadores del América mandaron mensajes en contra del racismo, durante los movimientos en…",
         "title": "Jugadores del América lanzan mensajes contra el racismo",
         "url": "http://www.eluniversal.com.mx/universal-deportes/futbol/america-jugadores-lanzan-mensajes-contra-el…",
         "newspaper_uid": "elpais",
         "_deepnote_index_column": 84
        },
        {
         "body": "\r\nEl cuerpo de Anel Bueno Sánchez, diputada de Colima desaparecida el pasado 29 de abril, fue local…",
         "title": "¿Quién era Anel Bueno, diputada localizada en una fosa clandestina de Colima?",
         "url": "http://www.eluniversal.com.mx/estados/quien-era-anel-bueno-diputada-localizada-en-una-fosa-clandest…",
         "newspaper_uid": "elpais",
         "_deepnote_index_column": 85
        },
        {
         "body": "\r\nTexto: Marco Salas\r\nImaginemos que es 1890 y una pareja toma café. Él se llama Karl Wilhem Flügge…",
         "title": "Así nació el cubrebocas",
         "url": "https://www.eluniversal.com.mx/opinion/mochilazo-en-el-tiempo/asi-nacio-el-cubrebocas",
         "newspaper_uid": "elpais",
         "_deepnote_index_column": 86
        },
        {
         "body": "Hubei.– Uno de los médicos que experimentaron un extraño cambio en el color de su piel, tras contra…",
         "title": "nan",
         "url": "https://www.elgrafico.mx/viral/muere-medico-cuya-piel-se-oscurecio-por-tratamiento-contra-el-covid-…",
         "newspaper_uid": "elpais",
         "_deepnote_index_column": 87
        },
        {
         "body": "\r\nLa senadora del PRI, Vanessa Rubio, propuso que personas desahuciadas puedan tener acceso a los r…",
         "title": "Senadora de PRI plantea que desahuciados puedan acceder a recursos de su Afore",
         "url": "https://www.eluniversal.com.mx/cartera/senadora-de-pri-plantea-que-desahuciados-puedan-acceder-recu…",
         "newspaper_uid": "elpais",
         "_deepnote_index_column": 88
        },
        {
         "body": "\r\nUn video viral que circula en redes sociales ha causado revuelo entre los usuarios. Muestra a una…",
         "title": "nan",
         "url": "https://www.viveusa.mx/noticias/posa-para-foto-antes-de-protesta-y-despues-sube-auto-de-lujo",
         "newspaper_uid": "elpais",
         "_deepnote_index_column": 89
        },
        {
         "body": "\r\nEsta mañana trascendió la muerte de un hombre en la avenida principal del Centro Histórico potosi…",
         "title": "Encuentran a hombre colgado en academia de belleza del Centro Histórico de SLP",
         "url": "https://sanluis.eluniversal.com.mx/metropoli/27-05-2020/localizan-hombre-colgado-en-academia-de-bel…",
         "newspaper_uid": "elpais",
         "_deepnote_index_column": 90
        },
        {
         "body": "\r\n\r\n\r\n\r\n    googletag.cmd.push(function() {\r\n      googletag.display(\"dfp-ad-top3_content\");\r\n    }…",
         "title": "Nuevo calendario escolar por coronavirus Covid-19 para imprimir",
         "url": "http://www.unionguanajuato.mx/articulo/2020/06/03/educacion/nuevo-calendario-escolar-por-coronaviru…",
         "newspaper_uid": "elpais",
         "_deepnote_index_column": 91
        },
        {
         "body": "\r\nLa Fiscalía General de San Luis Potosí informó que el saldo de tres ataques armados ocurridos la …",
         "title": "Ataques armados en Zona Metropolitana de SLP dejan 5 muertos y 3 lesionados",
         "url": "https://sanluis.eluniversal.com.mx/metropoli/27-05-2020/ataques-armados-en-zona-metropolitana-de-sl…",
         "newspaper_uid": "elpais",
         "_deepnote_index_column": 92
        },
        {
         "body": "\r\nEl dirigente nacional de Morena, Alfonso Ramírez Cuéllar, pidió justicia para la diputada local F…",
         "title": "Morena pide justicia para diputada asesinada",
         "url": "http://www.eluniversal.com.mx/nacion/morena-pide-justicia-para-diputada-asesinada",
         "newspaper_uid": "elpais",
         "_deepnote_index_column": 93
        },
        {
         "body": "\r\nEl coordinador de Morena en la Cámara de Diputados, Mario Delgado Carrillo, propuso que los traba…",
         "title": "Morena propone retiro de Afore en caso de emergencia sanitaria",
         "url": "http://www.eluniversal.com.mx/nacion/politica/morena-propone-retiro-de-afore-en-caso-de-emergencia-…",
         "newspaper_uid": "elpais",
         "_deepnote_index_column": 94
        },
        {
         "body": "Los cuerpos cercenados de dos hombres fueron hallados la mañana de este miércoles en dos diferentes…",
         "title": "nan",
         "url": "https://www.elgrafico.mx/la-roja/miercoles-de-terror-parten-dos-en-cachos-y-riegan-sus-restos-en-va…",
         "newspaper_uid": "elpais",
         "_deepnote_index_column": 95
        },
        {
         "body": "\r\nSi te gusta cocinar, sabrás que un buen platillo depende tanto de la calidad de los alimentos com…",
         "title": "Guía para elegir la mejor batería de cocina",
         "url": "http://www.eluniversal.com.mx/menu/que-tomar-en-cuenta-para-comprar-una-bateria-de-cocina",
         "newspaper_uid": "elpais",
         "_deepnote_index_column": 96
        },
        {
         "body": " 20 % PULSO SOCIAL6 De acuerdo con la Real Academia de la Lengua, ser ateo significa rechazar la ex…",
         "title": "nan",
         "url": "https://de10.com.mx/top-10/10-personajes-famosos-ateos-y-sus-creencias",
         "newspaper_uid": "elpais",
         "_deepnote_index_column": 97
        },
        {
         "body": " 0 % PULSO SOCIAL0 \r\n",
         "title": "nan",
         "url": "https://de10.com.mx/parejas/10-actrices-cuyos-bikinis-en-el-cine-marcaron-tendencia",
         "newspaper_uid": "elpais",
         "_deepnote_index_column": 98
        },
        {
         "body": "\r\nDurante los últimos 12 días de mayo empresas del sector industrial en la entidad potosina se enfo…",
         "title": "240 plantas industriales retomaron actividades este lunes en San Luis Potosí",
         "url": "https://sanluis.eluniversal.com.mx/cartera/01-06-2020/240-plantas-industriales-retomaron-actividade…",
         "newspaper_uid": "elpais",
         "_deepnote_index_column": 99
        },
        {
         "body": "\r\n\r\nTabasco suma 4 mil 609 casos confirmados y 562 fallecimientos por Covid-19 al 2 de junio.\r\n\r\nEn…",
         "title": "Casos de Covid-19 en Yucatán, Quintana Roo y Tabasco al 2 de junio",
         "url": "http://www.eluniversal.com.mx/estados/casos-de-covid-19-en-yucatan-quintana-roo-y-tabasco-al-2-de-j…",
         "newspaper_uid": "elpais",
         "_deepnote_index_column": 100
        },
        {
         "body": "\r\nLa vida no ha sido fácil en estos últimos meses. Sin embargo, hay que continuar con el ritmo y ad…",
         "title": "Belinda enamora con su look deportivo para la Voz Azteca",
         "url": "http://www.eluniversal.com.mx/de-ultima/belinda-sorprende-con-look-deportivo-para-la-voz-azteca",
         "newspaper_uid": "elpais",
         "_deepnote_index_column": 101
        },
        {
         "body": " 73 % PULSO SOCIAL22 En la cultura de la antigüedad, no había mejor castigo que la ley del Talión, …",
         "title": "nan",
         "url": "https://de10.com.mx/top-10/impactante-10-formas-antiguas-de-castigo-y-tortura",
         "newspaper_uid": "elpais",
         "_deepnote_index_column": 102
        },
        {
         "body": "\r\nEn las protestas desatadas en Estados Unidos en contra de la discriminación racial resaltó la ban…",
         "title": "nan",
         "url": "https://www.viveusa.mx/noticias/la-bandera-de-mexico-ondea-en-las-protestas-por-george-floyd",
         "newspaper_uid": "elpais",
         "_deepnote_index_column": 103
        },
        {
         "body": "\r\nJennifer Lopez y Kim Kardashian son de las celebridades más mediáticas en Estados Unidos. Ambas s…",
         "title": "nan",
         "url": "https://www.viveusa.mx/showbiz/las-fotos-ineditas-de-las-sesiones-de-jennifer-lopez-y-kim-kardashian",
         "newspaper_uid": "elpais",
         "_deepnote_index_column": 104
        },
        {
         "body": "\r\nTexto: Carlos Villasana y Ruth Gómez\r\nLa ciudad enfrenta una de las etapas más complejas de los ú…",
         "title": "Los mercados porfirianos de la capital",
         "url": "https://www.eluniversal.com.mx/opinion/mochilazo-en-el-tiempo/los-mercados-porfirianos-de-la-capital",
         "newspaper_uid": "elpais",
         "_deepnote_index_column": 105
        },
        {
         "body": "\r\nEl contagio por el coronavirus es más elevado en las grandes áreas urbanas del país; sin embargo,…",
         "title": "Coneval: letalidad del Covid es alta en municipios pobres",
         "url": "http://www.eluniversal.com.mx/cartera/coneval-letalidad-del-covid-es-alta-en-municipios-pobres",
         "newspaper_uid": "elpais",
         "_deepnote_index_column": 106
        },
        {
         "body": "\r\nUn grupo internacional de arqueólogos descubrió en Tabasco la estructura ceremonial más antigua y…",
         "title": "Descubren estructura ceremonial maya más antigua hasta el momento",
         "url": "http://www.eluniversal.com.mx/cultura/arqueologos-descubren-el-monumento-maya-mas-antiguo-hasta-el-…",
         "newspaper_uid": "elpais",
         "_deepnote_index_column": 107
        },
        {
         "body": "\r\nOcho días consecutivos de marchas, vigilias, rezos, llamados a la reconciliación no han sido sufi…",
         "title": "Las protestas...",
         "url": "https://www.eluniversal.com.mx/opinion/gabriel-guerra/las-protestas",
         "newspaper_uid": "elpais",
         "_deepnote_index_column": 108
        },
        {
         "body": "\r\n\r\nLa Secretaría de Salud del gobierno federal informó que al 2 de junio hay registro de 10 mil 63…",
         "title": "Casos de coronavirus en México, estado por estado al 2 de junio",
         "url": "http://www.eluniversal.com.mx/estados/casos-de-coronavirus-en-mexico-estado-por-estado-al-2-de-junio",
         "newspaper_uid": "elpais",
         "_deepnote_index_column": 109
        },
        {
         "body": "\r\nLa válvula potosina desarrollada por investigadores en San Luis Potosí, devuelve la esperanza a p…",
         "title": "Con tecnología 3D, potosinos crean válvula para enfrentar el Covid-19",
         "url": "https://sanluis.eluniversal.com.mx/sociedad/26-05-2020/con-tecnologia-3d-potosinos-crean-valvula-pa…",
         "newspaper_uid": "elpais",
         "_deepnote_index_column": 110
        },
        {
         "body": " 0 % PULSO SOCIAL0 Imagina que un día tu pareja muere y en medio del duelo, te enteras de que lleva…",
         "title": "nan",
         "url": "https://de10.com.mx/top-10/julio-machado-nos-cuenta-los-secretos-de-la-serie-hard",
         "newspaper_uid": "elpais",
         "_deepnote_index_column": 111
        },
        {
         "body": "\r\nLa mayoría de los estados que pertenecen a la Megalópolis, Ciudad de México, Estado de México, Pu…",
         "title": "Van mandatarios del Centro por mismo semáforo para nueva normalidad",
         "url": "http://www.eluniversal.com.mx/metropoli/cdmx/piden-mandatarios-del-centro-un-mismo-semaforo-para-nu…",
         "newspaper_uid": "elpais",
         "_deepnote_index_column": 112
        },
        {
         "body": "\r\nHace unos días, el propietario del Guadalajara, Amaury Vergara, puso sobre la mesa la necesidad d…",
         "title": "A transparentar el futbol mexicano",
         "url": "https://www.eluniversal.com.mx/opinion/gerardo-velazquez-de-leon/transparentar-el-futbol-mexicano",
         "newspaper_uid": "elpais",
         "_deepnote_index_column": 113
        },
        {
         "body": "\r\nEl Presidente Andrés Manuel López Obrador informó que encontraron el cuerpo de la legisladora de …",
         "title": "Hallan el cuerpo de la legisladora de Morena Francis Anel Bueno Sánchez",
         "url": "http://www.eluniversal.com.mx/nacion/politica/hallan-el-cuerpo-de-la-legisladora-de-morena-francis-…",
         "newspaper_uid": "elpais",
         "_deepnote_index_column": 114
        },
        {
         "body": "\r\nLeer en español\r\nAn international group archeologists discovered in Tabasco the oldest and larges…",
         "title": "Major discovery of oldest and largest Maya structure in Mexico sheds light on the rise of the ancie…",
         "url": "https://www.eluniversal.com.mx/english/major-discovery-oldest-and-largest-maya-structure-mexico-she…",
         "newspaper_uid": "elpais",
         "_deepnote_index_column": 115
        },
        {
         "body": "\r\n\r\nLa clave fue la diferencia entre lo que transfirieron al extranjero y lo que reportaron en Méxi…",
         "title": "El directivo de Cruz Azul firmó 98 cheques para sí mismo",
         "url": "https://www.eluniversal.com.mx/opinion/carlos-loret-de-mola/el-directivo-de-cruz-azul-firmo-98-cheq…",
         "newspaper_uid": "elpais",
         "_deepnote_index_column": 116
        },
        {
         "body": "\r\nLos limones, sin duda, no pueden faltar en nuestro refrigerador, pues le dan ese toque especial a…",
         "title": "Cómo mantener los limones frescos hasta 1 mes",
         "url": "http://www.eluniversal.com.mx/menu/como-mantener-los-limones-frescos",
         "newspaper_uid": "elpais",
         "_deepnote_index_column": 117
        },
        {
         "body": "\r\nEl Universo de la WWE vivió una semana de nostalgia, ya que se anunció que Rey Mysterio, uno de l…",
         "title": "Retiro de Rey Mysterio, el ‘circo’ de la WWE para el debut de su hijo",
         "url": "http://www.eluniversal.com.mx/universal-deportes/mas-deportes/wwe-retiro-de-rey-mysterio-el-circo-p…",
         "newspaper_uid": "elpais",
         "_deepnote_index_column": 118
        },
        {
         "body": "\r\n\r\n\r\n\r\n    googletag.cmd.push(function() {\r\n      googletag.display(\"dfp-ad-top3_content\");\r\n    }…",
         "title": "La bella heredera tapatía del ‘Perro’ Bermúdez",
         "url": "http://www.unionjalisco.mx/articulo/2020/06/01/espectaculos/la-bella-heredera-tapatia-del-perro-ber…",
         "newspaper_uid": "elpais",
         "_deepnote_index_column": 119
        },
        {
         "body": "\r\nA partir del sábado serán 30 las personas que podrán disfrutar del \"Guernica\" en el Museo Reina S…",
         "title": "Con oferta y dos Picassos nuevos, el Reina Sofía le pone \"buena cara\" a su reapertura",
         "url": "http://www.eluniversal.com.mx/cultura/artes-visuales/el-reina-sofia-expondra-dos-picassos-ineditos-…",
         "newspaper_uid": "elpais",
         "_deepnote_index_column": 120
        },
        {
         "body": "\r\nGeorge Clooney ha incendiado las redes sociales tras publicar un artículo en el diario Daily Beas…",
         "title": "George Clooney: \"El racismo es la pandemia de EU\"",
         "url": "http://www.eluniversal.com.mx/espectaculos/farandula/george-clooney-el-racismo-es-la-pandemia-de-eu",
         "newspaper_uid": "elpais",
         "_deepnote_index_column": 121
        },
        {
         "body": "\r\n\"The Ickabog\", el nuevo libro para niños que la escritora británica JK Rowling ha publicado gratu…",
         "title": "El cuento gratis de J.K. Rowling ya está en español",
         "url": "http://www.eluniversal.com.mx/cultura/el-cuento-gratis-de-jk-rowling-ya-esta-en-espanol",
         "newspaper_uid": "elpais",
         "_deepnote_index_column": 122
        },
        {
         "body": "\r\nLa titular del SAT, Raquel Buenrostro, asegura que los pagos millonarios que han obtenido de gran…",
         "title": "No es terrorismo, los convencemos: Buenrostro",
         "url": "https://www.eluniversal.com.mx/opinion/salvador-garcia-soto/no-es-terrorismo-los-convencemos-buenro…",
         "newspaper_uid": "elpais",
         "_deepnote_index_column": 123
        },
        {
         "body": "\r\n\r\nLos funcionarios de alto rango del Instituto Nacional de Estadística y Geografía (Inegi) y de l…",
         "title": "En Inegi y Cofece ganarán más que AMLO",
         "url": "http://www.eluniversal.com.mx/nacion/en-inegi-y-cofece-ganaran-mas-que-amlo",
         "newspaper_uid": "elpais",
         "_deepnote_index_column": 124
        },
        {
         "body": "\r\nCientíficos en todo el mundo estudian el proceso de infección que sufre una persona al entrar en …",
         "title": "El zinc sería clave para tratamiento de Covid-19",
         "url": "http://www.eluniversal.com.mx/ciencia-y-salud/el-zinc-seria-clave-para-un-tratamiento-contra-el-cov…",
         "newspaper_uid": "elpais",
         "_deepnote_index_column": 125
        },
        {
         "body": "\r\nCuando el periodista Brian Krebs publicó en uno de los portales más leídos del mundo, The Daily M…",
         "title": "La mafia encontró el paraíso",
         "url": "https://www.eluniversal.com.mx/opinion/hector-de-mauleon/la-mafia-encontro-el-paraiso",
         "newspaper_uid": "elpais",
         "_deepnote_index_column": 126
        },
        {
         "body": "Una víctima más de la vanidad, y de los fraudulentos personajes que se hacen pasar como especialist…",
         "title": "nan",
         "url": "https://www.elgrafico.mx/espectaculos/la-modelo-jessica-cediel-se-somete-amputacion-de-gluteos-y-co…",
         "newspaper_uid": "elpais",
         "_deepnote_index_column": 127
        },
        {
         "body": "\r\nLa 64 Legislatura del Congreso de Oaxaca aprobó aplazar el inicio del proceso electoral ordinario…",
         "title": "Por pandemia, Congreso de Oaxaca aplaza hasta diciembre inicio del proceso electoral intermedio ",
         "url": "https://oaxaca.eluniversal.com.mx/politica/02-06-2020/por-pandemia-congreso-de-oaxaca-aplaza-hasta-…",
         "newspaper_uid": "elpais",
         "_deepnote_index_column": 128
        },
        {
         "body": "\r\nEl presidente Andrés Manuel López Obrador solicitó a los opositores a Tren Maya respetar la decis…",
         "title": "AMLO pide a opositores a Tren Maya respetar decisión del pueblo",
         "url": "http://www.eluniversal.com.mx/nacion/amlo-pide-opositores-tren-maya-respetar-decision-del-pueblo",
         "newspaper_uid": "elpais",
         "_deepnote_index_column": 129
        },
        {
         "body": "\r\nTexto: Carlos Villasana y Ruth GómezFotos actuales: Aram Ponce Franco / Cortesía\r\nEl Centro Histó…",
         "title": "El centro de reunión de los caballeros porfirianos",
         "url": "https://www.eluniversal.com.mx/opinion/mochilazo-en-el-tiempo/el-centro-de-reunion-de-los-caballero…",
         "newspaper_uid": "elpais",
         "_deepnote_index_column": 130
        },
        {
         "body": "\r\nMarsha P. Johnson was a pioneer, LGBTQ+ activist,  drag queen, and performer. She was a prominent…",
         "title": "Marsha P. Johnson: The black transgender woman who was key in the Stonewall uprising",
         "url": "http://www.eluniversal.com.mx/english/marsha-p-johnson-black-transgender-woman-who-was-key-stonewal…",
         "newspaper_uid": "elpais",
         "_deepnote_index_column": 131
        },
        {
         "body": "\r\nVaya golpe el que propinó la senadora Lilly Téllez a Morena en el Senado, pues no conforme con sa…",
         "title": "El golpe de la agente Téllez",
         "url": "https://www.eluniversal.com.mx/nacion/bajo-reserva-expres-el-golpe-de-la-agente-tellez",
         "newspaper_uid": "elpais",
         "_deepnote_index_column": 132
        },
        {
         "body": "\r\n\r\nJalisco tiene 2 mil 25 casos confirmados y 167 muertos por coronavirus, de acuerdo con el repor…",
         "title": "Coronavirus Jalisco: Casos confirmados de Covid-19 al 2 de junio",
         "url": "http://www.eluniversal.com.mx/estados/coronavirus-jalisco-casos-confirmados-de-covid-19-al-2-de-jun…",
         "newspaper_uid": "elpais",
         "_deepnote_index_column": 133
        },
        {
         "body": "\r\nLa identidad de Jesús Alfonso Escoboza, mejor conocido como La Parka, fue revelada por su hija me…",
         "title": "Revelan identidad de La Parka en Tik Tok",
         "url": "http://www.eluniversal.com.mx/universal-deportes/mas-deportes/la-parka-revelan-identidad-del-histor…",
         "newspaper_uid": "elpais",
         "_deepnote_index_column": 134
        },
        {
         "body": "\r\n“Fueron días muy duros para mí y mi familia. Cuando acudí al hospital, la angustia me invadió ant…",
         "title": "“La angustia me invadió ante la posibilidad de haberme contagiado de coronavirus\"",
         "url": "https://sanluis.eluniversal.com.mx/sociedad/02-06-2020/la-angustia-me-invadio-ante-la-posibilidad-d…",
         "newspaper_uid": "elpais",
         "_deepnote_index_column": 135
        },
        {
         "body": "\r\nEl 80% de los restaurantes queretanos tiene problemas para cubrir el pago de la renta de los inmu…",
         "title": "El 80% de los restaurantes no tiene para el pago de la renta",
         "url": "https://www.eluniversalqueretaro.mx/portada/sin-recursos-para-la-renta-80-de-los-restaurantes",
         "newspaper_uid": "elpais",
         "_deepnote_index_column": 136
        },
        {
         "body": "\r\nLa firma surcoreana Hyundai publicó los primeros detalles de lo que será la nueva SUV Santa Fe. L…",
         "title": "Hyundai Santa Fe 2021 se presenta en Europa",
         "url": "http://www.eluniversal.com.mx/autopistas/hyundai-santa-fe-2021-se-presenta-con-diseno-diferente-y-n…",
         "newspaper_uid": "elpais",
         "_deepnote_index_column": 137
        }
       ],
       "rows_bottom": null
      },
      "text/plain": "                                                  body  \\\n0    \\r\\n\\r\\n\\r\\n\\r\\n    googletag.cmd.push(functio...   \n1    \\r\\nEl museo del antiguo campo nazi de la muer...   \n2    \\r\\nLa Suprema Corte de Justicia de la Nación ...   \n3    \\r\\nUn grupo de funcionarios descubrió mosquit...   \n4    \\r\\nEn 1980, Héctor Suárez y Leticia Perdigón ...   \n..                                                 ...   \n133  \\r\\n\\r\\nJalisco tiene 2 mil 25 casos confirmad...   \n134  \\r\\nLa identidad de Jesús Alfonso Escoboza, me...   \n135  \\r\\n“Fueron días muy duros para mí y mi famili...   \n136  \\r\\nEl 80% de los restaurantes queretanos tien...   \n137  \\r\\nLa firma surcoreana Hyundai publicó los pr...   \n\n                                                 title  \\\n0    Las influencers tapatías que hacen temblar a Y...   \n1    El museo de Auschwitz pide ayuda para sobreviv...   \n2    Corte avala que funcionarios de Banxico, INE e...   \n3                                                  NaN   \n4           Héctor Suárez, zurdo y loco hasta el final   \n..                                                 ...   \n133  Coronavirus Jalisco: Casos confirmados de Covi...   \n134           Revelan identidad de La Parka en Tik Tok   \n135  “La angustia me invadió ante la posibilidad de...   \n136  El 80% de los restaurantes no tiene para el pa...   \n137        Hyundai Santa Fe 2021 se presenta en Europa   \n\n                                                   url newspaper_uid  \n0    http://www.unionjalisco.mx/articulo/2020/06/02...        elpais  \n1    http://www.eluniversal.com.mx/cultura/patrimon...        elpais  \n2    http://www.eluniversal.com.mx/nacion/corte-ava...        elpais  \n3    https://www.viveusa.mx/noticias/mosquitos-con-...        elpais  \n4    https://www.eluniversalqueretaro.mx/portada/he...        elpais  \n..                                                 ...           ...  \n133  http://www.eluniversal.com.mx/estados/coronavi...        elpais  \n134  http://www.eluniversal.com.mx/universal-deport...        elpais  \n135  https://sanluis.eluniversal.com.mx/sociedad/02...        elpais  \n136  https://www.eluniversalqueretaro.mx/portada/si...        elpais  \n137  http://www.eluniversal.com.mx/autopistas/hyund...        elpais  \n\n[138 rows x 4 columns]",
      "text/html": "<div>\n<style scoped>\n    .dataframe tbody tr th:only-of-type {\n        vertical-align: middle;\n    }\n\n    .dataframe tbody tr th {\n        vertical-align: top;\n    }\n\n    .dataframe thead th {\n        text-align: right;\n    }\n</style>\n<table border=\"1\" class=\"dataframe\">\n  <thead>\n    <tr style=\"text-align: right;\">\n      <th></th>\n      <th>body</th>\n      <th>title</th>\n      <th>url</th>\n      <th>newspaper_uid</th>\n    </tr>\n  </thead>\n  <tbody>\n    <tr>\n      <th>0</th>\n      <td>\\r\\n\\r\\n\\r\\n\\r\\n    googletag.cmd.push(functio...</td>\n      <td>Las influencers tapatías que hacen temblar a Y...</td>\n      <td>http://www.unionjalisco.mx/articulo/2020/06/02...</td>\n      <td>elpais</td>\n    </tr>\n    <tr>\n      <th>1</th>\n      <td>\\r\\nEl museo del antiguo campo nazi de la muer...</td>\n      <td>El museo de Auschwitz pide ayuda para sobreviv...</td>\n      <td>http://www.eluniversal.com.mx/cultura/patrimon...</td>\n      <td>elpais</td>\n    </tr>\n    <tr>\n      <th>2</th>\n      <td>\\r\\nLa Suprema Corte de Justicia de la Nación ...</td>\n      <td>Corte avala que funcionarios de Banxico, INE e...</td>\n      <td>http://www.eluniversal.com.mx/nacion/corte-ava...</td>\n      <td>elpais</td>\n    </tr>\n    <tr>\n      <th>3</th>\n      <td>\\r\\nUn grupo de funcionarios descubrió mosquit...</td>\n      <td>NaN</td>\n      <td>https://www.viveusa.mx/noticias/mosquitos-con-...</td>\n      <td>elpais</td>\n    </tr>\n    <tr>\n      <th>4</th>\n      <td>\\r\\nEn 1980, Héctor Suárez y Leticia Perdigón ...</td>\n      <td>Héctor Suárez, zurdo y loco hasta el final</td>\n      <td>https://www.eluniversalqueretaro.mx/portada/he...</td>\n      <td>elpais</td>\n    </tr>\n    <tr>\n      <th>...</th>\n      <td>...</td>\n      <td>...</td>\n      <td>...</td>\n      <td>...</td>\n    </tr>\n    <tr>\n      <th>133</th>\n      <td>\\r\\n\\r\\nJalisco tiene 2 mil 25 casos confirmad...</td>\n      <td>Coronavirus Jalisco: Casos confirmados de Covi...</td>\n      <td>http://www.eluniversal.com.mx/estados/coronavi...</td>\n      <td>elpais</td>\n    </tr>\n    <tr>\n      <th>134</th>\n      <td>\\r\\nLa identidad de Jesús Alfonso Escoboza, me...</td>\n      <td>Revelan identidad de La Parka en Tik Tok</td>\n      <td>http://www.eluniversal.com.mx/universal-deport...</td>\n      <td>elpais</td>\n    </tr>\n    <tr>\n      <th>135</th>\n      <td>\\r\\n“Fueron días muy duros para mí y mi famili...</td>\n      <td>“La angustia me invadió ante la posibilidad de...</td>\n      <td>https://sanluis.eluniversal.com.mx/sociedad/02...</td>\n      <td>elpais</td>\n    </tr>\n    <tr>\n      <th>136</th>\n      <td>\\r\\nEl 80% de los restaurantes queretanos tien...</td>\n      <td>El 80% de los restaurantes no tiene para el pa...</td>\n      <td>https://www.eluniversalqueretaro.mx/portada/si...</td>\n      <td>elpais</td>\n    </tr>\n    <tr>\n      <th>137</th>\n      <td>\\r\\nLa firma surcoreana Hyundai publicó los pr...</td>\n      <td>Hyundai Santa Fe 2021 se presenta en Europa</td>\n      <td>http://www.eluniversal.com.mx/autopistas/hyund...</td>\n      <td>elpais</td>\n    </tr>\n  </tbody>\n</table>\n<p>138 rows × 4 columns</p>\n</div>"
     },
     "metadata": {}
    }
   ],
   "execution_count": 13
  },
  {
   "cell_type": "code",
   "source": "# 2. Obtener el Host\nfrom urllib.parse import urlparse\nel_universal['host'] = el_universal['url'].apply(lambda url: urlparse(url).netloc)\n\nel_universal",
   "metadata": {
    "tags": [],
    "cell_id": "00022-f4474980-77bf-491e-a2c6-1281a30d0a33",
    "deepnote_to_be_reexecuted": false,
    "source_hash": "3d572b06",
    "execution_start": 1629937196723,
    "execution_millis": 30,
    "deepnote_cell_type": "code"
   },
   "outputs": [
    {
     "output_type": "execute_result",
     "execution_count": 14,
     "data": {
      "application/vnd.deepnote.dataframe.v2+json": {
       "row_count": 138,
       "column_count": 5,
       "columns": [
        {
         "name": "body",
         "dtype": "object",
         "stats": {
          "unique_count": 138,
          "nan_count": 0,
          "categories": [
           {
            "name": "\r\n\r\n\r\n\r\n    googletag.cmd.push(function() {\r\n      googletag.display(\"dfp-ad-top3_content\");\r\n    });\r\n  \r\n\r\n\r\nYanet García se consolidó como una de las consentidas en redes sociales por su labor en la pantalla chica, contrario a estas bellezas tapatías que primero saltaron del Instagram para retar a la famosa chica del clima regiomontana.\r\nSus millones de seguidores presumen que la influencer Yuliett Torres pose mejores curvas que la ex conductora de Hoy y de no ser por estar bloqueada por famosas de la farándula nacional la modelo ya estaría en programas de altos niveles de audiencia.\r\nParece que muy a pesar de Yanet, Yuliett se está abriendo camino en el espectáculo mexicano con intervenciones en videoclips de gruperos y por los patrocinadores que pagan jugosas sumas para ser su imagen.\r\nOtro factor a considerar son los videos subidos de tono que publica en sus redes sociales y que con el tiempo le permite aparecer como portadas en medios nacionales e incluso internacionales.\r\nMary Baltazar, modelo de Instagram con más de 2.8 millones de fans, es sin duda una tapatía que pone a temblar a Yanet García. \r\nAlgunas personas sostienen que la anatomía de la influencer es más natural y por ello debería de ser elegida como la más guapa.\r\nIncluso refieren que las fotos de Mary despiertan la envida de la regiomontana por que siempre luce espectacular y casi no se le hacen retoques.\r\nLa tapatía logró saltar de la comunidad virtual a las pasarelas, donde se mantiene como una de las modelos más solicitadas por anunciantes de nuestro país.\r\nEn las últimas semanas otra que se sumó a la disputa de la corona por la influencer con mejor retaguardia fue Dafne Cosío, ‘La Barbie tapatía’, quien gracias a sus consejos pudo colaborar con el autor de la canción ‘Tusa’.\r\nLa bella escribió el tema ”Requisito\" junto con con Keytin, autor del sonado tema de Karol G y Nicky Minaj.\r\nDafne comenzó a tocar el piano, estudiar solfeo, y durante 12 años se ha preparado para darlo todo en el mundo de la música; así como es bailarina de ballet y tahitiano.\r\nVER: \r\nJugadora de Chivas pone a temblar aYanet  García\r\n",
            "count": 1
           },
           {
            "name": "\r\nEl museo del antiguo campo nazi de la muerte Auschwitz-Birkenau, cerrado desde mediados de marzo por la pandemia de coronavirus, pidió el miércoles ayuda financiera.\r\nEn 2020 se celebró el 75 aniversario de la liberación de Auschwitz-Birkenau, convertido en símbolo de todos los campos de exterminio donde murieron cerca de la mitad de los 6 millones de judíos asesinados durante el Holocausto, así como centenares de miles de personas de otros orígenes.\r\n \r\n\r\n\r\n\r\n \r\n\r\n\r\n \r\n\r\n \r\n\r\n\r\n\r\n \r\n\r\n\r\n\r\n\r\nView this post on Instagram\r\n\r\n\r\n \r\n\r\n\r\n\r\n \r\n\r\n \r\n\r\n \r\n\r\n\r\n\r\n \r\n\r\n \r\n\r\n\r\n\r\n \r\n\r\n \r\n\r\n \r\n\r\n\r\n\r\nThe history of Auschwitz is actually 1,300,000 individual stories of individuals deported. . . --- Photo by @robertofranchiniphoto --- . . #Auschwitz #Birkenau #AuschwitzMemorial #Nazi #Germany #concentrationcamp #extermination #genocide #history #Holocaust #Shoah #Jews #Poles #Roma #people #life #death #humanity #humiliation #dehumanization #remembrance #commemoration #memory #museum #Poland #igerspoland #UNESCO #worldheritage #worldHeritagelist @unesco #photography\r\n\r\nA post shared by  Auschwitz Memorial and Museum (@auschwitzmemorial) on Feb 2, 2020 at 11:10pm PST\r\n\r\n\r\n\r\n\"Pedimos ayuda financiera por parte de todos los que consideran necesario preservar la memoria\", se lee en un comunicado publicado en la web del museo.\r\n\"El presupuesto de 2020 se hundió\", dice el texto, pese al \"apoyo particular\" del ministerio polaco de la Cultura y la Fundación Internacional Auschwitz-Birkenau que permite mantener el empleo y continuar las obras de mantenimiento de los vestigios de este antiguo campo de la muerte.\r\nSin embargo el museo no tiene fondos para sus actividades educativas, editoriales y para sus exposiciones.\r\nEl memorial de Auschwitz-Birkenau está cerrado desde el 12 de marzo y no podrá abrir hasta principios de julio según su web.\r\nfjb\r\n",
            "count": 1
           },
           {
            "name": "136 others",
            "count": 136
           }
          ]
         }
        },
        {
         "name": "title",
         "dtype": "object",
         "stats": {
          "unique_count": 110,
          "nan_count": 28,
          "categories": [
           {
            "name": "Las influencers tapatías que hacen temblar a Yanet García",
            "count": 1
           },
           {
            "name": "109 others",
            "count": 109
           },
           {
            "name": "Missing",
            "count": 28
           }
          ]
         }
        },
        {
         "name": "url",
         "dtype": "object",
         "stats": {
          "unique_count": 138,
          "nan_count": 0,
          "categories": [
           {
            "name": "http://www.unionjalisco.mx/articulo/2020/06/02/espectaculos/las-influencers-tapatias-que-hacen-temblar-yanet-garcia",
            "count": 1
           },
           {
            "name": "http://www.eluniversal.com.mx/cultura/patrimonio/coronavirus-el-museo-de-auschwitz-pide-ayuda-para-sobrevivir-la-pandemia",
            "count": 1
           },
           {
            "name": "136 others",
            "count": 136
           }
          ]
         }
        },
        {
         "name": "newspaper_uid",
         "dtype": "object",
         "stats": {
          "unique_count": 1,
          "nan_count": 0,
          "categories": [
           {
            "name": "elpais",
            "count": 138
           }
          ]
         }
        },
        {
         "name": "host",
         "dtype": "object",
         "stats": {
          "unique_count": 14,
          "nan_count": 0,
          "categories": [
           {
            "name": "www.eluniversal.com.mx",
            "count": 79
           },
           {
            "name": "www.viveusa.mx",
            "count": 14
           },
           {
            "name": "12 others",
            "count": 45
           }
          ]
         }
        },
        {
         "name": "_deepnote_index_column",
         "dtype": "int64"
        }
       ],
       "rows_top": [
        {
         "body": "\r\n\r\n\r\n\r\n    googletag.cmd.push(function() {\r\n      googletag.display(\"dfp-ad-top3_content\");\r\n    }…",
         "title": "Las influencers tapatías que hacen temblar a Yanet García",
         "url": "http://www.unionjalisco.mx/articulo/2020/06/02/espectaculos/las-influencers-tapatias-que-hacen-temb…",
         "newspaper_uid": "elpais",
         "host": "www.unionjalisco.mx",
         "_deepnote_index_column": 0
        },
        {
         "body": "\r\nEl museo del antiguo campo nazi de la muerte Auschwitz-Birkenau, cerrado desde mediados de marzo …",
         "title": "El museo de Auschwitz pide ayuda para sobrevivir la pandemia",
         "url": "http://www.eluniversal.com.mx/cultura/patrimonio/coronavirus-el-museo-de-auschwitz-pide-ayuda-para-…",
         "newspaper_uid": "elpais",
         "host": "www.eluniversal.com.mx",
         "_deepnote_index_column": 1
        },
        {
         "body": "\r\nLa Suprema Corte de Justicia de la Nación (SCJN) avaló que funcionarios del Banco de México (Banx…",
         "title": "Corte avala que funcionarios de Banxico, INE e IFT ganen más que AMLO",
         "url": "http://www.eluniversal.com.mx/nacion/corte-avala-que-funcionarios-de-banxico-ine-e-ift-ganen-mas-qu…",
         "newspaper_uid": "elpais",
         "host": "www.eluniversal.com.mx",
         "_deepnote_index_column": 2
        },
        {
         "body": "\r\nUn grupo de funcionarios descubrió mosquitos infectados con el virus del Nilo Occidental al sur d…",
         "title": "nan",
         "url": "https://www.viveusa.mx/noticias/mosquitos-con-el-virus-del-nilo-occidental-llegan-california",
         "newspaper_uid": "elpais",
         "host": "www.viveusa.mx",
         "_deepnote_index_column": 3
        },
        {
         "body": "\r\nEn 1980, Héctor Suárez y Leticia Perdigón nunca se llamaron por su nombre. Los dos formaban parte…",
         "title": "Héctor Suárez, zurdo y loco hasta el final",
         "url": "https://www.eluniversalqueretaro.mx/portada/hector-suarez-zurdo-y-loco-hasta-el-final-zurdo-y-loco-…",
         "newspaper_uid": "elpais",
         "host": "www.eluniversalqueretaro.mx",
         "_deepnote_index_column": 4
        },
        {
         "body": "\r\nEl fiscal general Keith Ellison planea elevar los cargos contra Derek Chauvin, el expolicía de Mi…",
         "title": "Fiscal acusará de homicidio en segundo grado a Derek Chauvin; implicará a tres policías más",
         "url": "http://www.eluniversal.com.mx/mundo/george-floyd-fiscal-acusara-de-homicidio-en-segundo-grado-derek…",
         "newspaper_uid": "elpais",
         "host": "www.eluniversal.com.mx",
         "_deepnote_index_column": 5
        },
        {
         "body": "\r\n\r\n\r\n\r\n    googletag.cmd.push(function() {\r\n      googletag.display(\"dfp-ad-top3_content\");\r\n    }…",
         "title": "Citas para verificar Edomex 2020: Entérate ",
         "url": "http://www.unionedomex.mx/articulo/2020/06/02/gente/citas-para-verificar-edomex-2020-enterate",
         "newspaper_uid": "elpais",
         "host": "www.unionedomex.mx",
         "_deepnote_index_column": 6
        },
        {
         "body": "\r\n\r\n\r\n\r\n    googletag.cmd.push(function() {\r\n      googletag.display(\"dfp-ad-top3_content\");\r\n    }…",
         "title": "Cómo consigo una de Beca Benito Juárez de primaria y secundaria",
         "url": "http://www.unionpuebla.mx/articulo/2020/05/26/educacion/como-consigo-una-de-beca-benito-juarez-de-p…",
         "newspaper_uid": "elpais",
         "host": "www.unionpuebla.mx",
         "_deepnote_index_column": 7
        },
        {
         "body": "\r\n\r\n\r\n\r\n    googletag.cmd.push(function() {\r\n      googletag.display(\"dfp-ad-top3_content\");\r\n    }…",
         "title": "Belinda, edad, estatura y otros datos de la coach de La Voz",
         "url": "http://www.unionyucatan.mx/articulo/2020/06/02/espectaculos/belinda-edad-estatura-y-otros-datos-de-…",
         "newspaper_uid": "elpais",
         "host": "www.unionyucatan.mx",
         "_deepnote_index_column": 8
        },
        {
         "body": "Temascaltepec.— Sicarios descargaron más de cien tiros contra un custodio, tras ser emboscado a la …",
         "title": "nan",
         "url": "https://www.elgrafico.mx/la-roja/custodio-de-penal-en-edomex-termina-mas-que-muerto-luego-de-mas-de…",
         "newspaper_uid": "elpais",
         "host": "www.elgrafico.mx",
         "_deepnote_index_column": 9
        },
        {
         "body": "\r\nGianna tiene seis años. No sabe cómo murió su padre, George Floyd. Sólo sabe que lo extraña y que…",
         "title": "“Extraño a mi papi. Él cambió el mundo”, dice la hija de George Floyd",
         "url": "http://www.eluniversal.com.mx/mundo/extrano-mi-papi-el-cambio-el-mundo-dice-la-hija-de-george-floyd",
         "newspaper_uid": "elpais",
         "host": "www.eluniversal.com.mx",
         "_deepnote_index_column": 10
        },
        {
         "body": "\r\nLa Secretaría de Energía (Sener), a través de PTI Infraestructura de Desarrollo, adjudicó los 7 p…",
         "title": "Sener adjudica los contratos para almacenamiento de la nueva refinería de Dos Bocas",
         "url": "http://www.eluniversal.com.mx/cartera/sener-adjudica-los-contratos-para-almacenamiento-de-la-nueva-…",
         "newspaper_uid": "elpais",
         "host": "www.eluniversal.com.mx",
         "_deepnote_index_column": 11
        },
        {
         "body": "\r\nCampeche, Después de que ayer el subsecretario de Salud, Hugo López-Gatell, admitiera ante los go…",
         "title": "No nos confiemos, pide AMLO; es una pandemia muy dañina",
         "url": "http://www.eluniversal.com.mx/nacion/no-nos-confiemos-pide-amlo-es-una-pandemia-muy-danina",
         "newspaper_uid": "elpais",
         "host": "www.eluniversal.com.mx",
         "_deepnote_index_column": 12
        },
        {
         "body": "\r\nQuito.- El expresidente ecuatoriano Abdalá Bucaram fue detenido el miércoles en su domicilio dura…",
         "title": "Detienen en Guayaquil a expresidente de Ecuador, acusado de corrupción",
         "url": "http://www.eluniversal.com.mx/mundo/detienen-en-guayaquil-expresidente-de-ecuador-acusado-de-corrup…",
         "newspaper_uid": "elpais",
         "host": "www.eluniversal.com.mx",
         "_deepnote_index_column": 13
        },
        {
         "body": "\r\n-Doctor, ¿ya está domada la pandemia?- se le pregunta al subsecretario de Salud y vocero del gobi…",
         "title": "Pandemia no está domada en México: López-Gatell",
         "url": "http://www.eluniversal.com.mx/nacion/pandemia-no-esta-domada-en-mexico-lopez-gatell",
         "newspaper_uid": "elpais",
         "host": "www.eluniversal.com.mx",
         "_deepnote_index_column": 14
        },
        {
         "body": "\r\nEn medio de la pandemia de Covid-19 y con todas las agencias automotrices cerradas, en mayo, la v…",
         "title": "Venta de autos en mayo, mejor que en abril: AMDA",
         "url": "http://www.eluniversal.com.mx/cartera/venta-de-autos-en-mayo-mejor-que-en-abril-amda",
         "newspaper_uid": "elpais",
         "host": "www.eluniversal.com.mx",
         "_deepnote_index_column": 15
        },
        {
         "body": " 0 % PULSO SOCIAL0 El 2020 ya inició y en esta nueva década es común que comencemos a preguntarnos …",
         "title": "nan",
         "url": "https://de10.com.mx/top-10/10-terribles-profecias-de-nostradamus-para-el-2020",
         "newspaper_uid": "elpais",
         "host": "de10.com.mx",
         "_deepnote_index_column": 16
        },
        {
         "body": "\r\n\r\n\r\n\r\n    googletag.cmd.push(function() {\r\n      googletag.display(\"dfp-ad-top3_content\");\r\n    }…",
         "title": "Admisión BUAP 2020: Examen de admisión se pospone",
         "url": "http://www.unionpuebla.mx/articulo/2020/06/01/educacion/admision-buap-2020-examen-de-admision-se-po…",
         "newspaper_uid": "elpais",
         "host": "www.unionpuebla.mx",
         "_deepnote_index_column": 17
        },
        {
         "body": "\r\nJuchitán de Zaragoza.— La cortina de acero  está  arriba hasta la mitad en  la entrada a la tiend…",
         "title": "Juchitán regresa a \"nueva normalidad\" pese a riesgo de contagios por Covid-19",
         "url": "https://oaxaca.eluniversal.com.mx/municipios/02-06-2020/juchitan-regresa-nueva-normalidad-pese-ries…",
         "newspaper_uid": "elpais",
         "host": "oaxaca.eluniversal.com.mx",
         "_deepnote_index_column": 18
        },
        {
         "body": "\r\nEste martes estrenó \"La Voz Azteca\" con Belinda, Christian Nodal, María José y Ricardo Montaner c…",
         "title": "Sin público y sin cubrebocas arranca \"La Voz Azteca\"",
         "url": "http://www.eluniversal.com.mx/espectaculos/la-voz-azteca-sin-publico-y-sin-cubrebocas",
         "newspaper_uid": "elpais",
         "host": "www.eluniversal.com.mx",
         "_deepnote_index_column": 19
        },
        {
         "body": "\r\nTexto: Yessica Torres\r\nRodeado de mar y por su ubicación geográfica es común que en el territorio…",
         "title": "El plan de emergencia que surgió por el desbordamiento de un río",
         "url": "https://www.eluniversal.com.mx/opinion/mochilazo-en-el-tiempo/el-plan-de-emergencia-que-surgio-por-…",
         "newspaper_uid": "elpais",
         "host": "www.eluniversal.com.mx",
         "_deepnote_index_column": 20
        },
        {
         "body": "\r\nDisney Springs en Orlando, Florida reabrió el pasado 20 de mayo luego de permanecer cerrado como …",
         "title": "nan",
         "url": "https://www.viveusa.mx/destinos/10-fotos-que-muestran-como-es-visitar-disney-springs-durante-la-pan…",
         "newspaper_uid": "elpais",
         "host": "www.viveusa.mx",
         "_deepnote_index_column": 21
        },
        {
         "body": "\r\n\r\nLeón.— La industria del calzado reiniciará sus actividades de producción, a partir de este 1 de…",
         "title": "Industria del calzado de León reanudará actividades con 30% de capacidad",
         "url": "http://www.eluniversal.com.mx/estados/industria-del-calzado-de-leon-reanudara-actividades-con-30-de…",
         "newspaper_uid": "elpais",
         "host": "www.eluniversal.com.mx",
         "_deepnote_index_column": 22
        },
        {
         "body": "\r\nA través de redes sociales, la senadora Lilly Téllez anunció que deja la bancada de Morena “por d…",
         "title": "Lilly Téllez deja bancada de Morena en el Senado “por diferencias de criterio”",
         "url": "http://www.eluniversal.com.mx/nacion/lilly-tellez-deja-bancada-de-morena-por-diferencias-de-criterio",
         "newspaper_uid": "elpais",
         "host": "www.eluniversal.com.mx",
         "_deepnote_index_column": 23
        },
        {
         "body": "\r\nJuchitán de Zaragoza. - Un niño de 4 años murió la noche del sábado debido a las graves heridas q…",
         "title": "Perro Pitbull ataca y mata a niño de 4 años en Tehuantepec ",
         "url": "https://oaxaca.eluniversal.com.mx/municipios/01-06-2020/perro-pitbull-ataca-y-mata-nino-de-4-anos-e…",
         "newspaper_uid": "elpais",
         "host": "oaxaca.eluniversal.com.mx",
         "_deepnote_index_column": 24
        },
        {
         "body": "\r\nTexto: Carlos Villasana y Ruth Gómez.\r\nHabitar y transitar por la Ciudad de México sin música par…",
         "title": "Cuando las canciones se aprendían con Notitas Musicales",
         "url": "https://www.eluniversal.com.mx/opinion/mochilazo-en-el-tiempo/cuando-las-canciones-se-aprendian-con…",
         "newspaper_uid": "elpais",
         "host": "www.eluniversal.com.mx",
         "_deepnote_index_column": 25
        },
        {
         "body": "\r\n\r\n\r\n\r\n    googletag.cmd.push(function() {\r\n      googletag.display(\"dfp-ad-top3_content\");\r\n    }…",
         "title": "María José, edad, estatura y más de la coach de La Voz México",
         "url": "http://www.unionyucatan.mx/articulo/2020/06/02/espectaculos/maria-jose-edad-estatura-y-mas-de-la-co…",
         "newspaper_uid": "elpais",
         "host": "www.unionyucatan.mx",
         "_deepnote_index_column": 26
        },
        {
         "body": "\r\nEl ayuntamiento de Soledad informó que a partir del 1 de junio iniciará la reactivación escalonad…",
         "title": "Este lunes inicia reapertura escalonada de comercios en Soledad",
         "url": "https://sanluis.eluniversal.com.mx/municipios/29-05-2020/este-lunes-inicia-reapertura-escalonada-de…",
         "newspaper_uid": "elpais",
         "host": "sanluis.eluniversal.com.mx",
         "_deepnote_index_column": 27
        },
        {
         "body": "\r\nEn la última fotografía de las tres generaciones Suárez, Héctor aparece sonriendo dentro de una …",
         "title": "Suárez Gomís comparte última foto con Héctor Suárez y su hijo ",
         "url": "http://www.eluniversal.com.mx/espectaculos/suarez-gomis-comparte-ultima-foto-con-hector-suarez-y-su…",
         "newspaper_uid": "elpais",
         "host": "www.eluniversal.com.mx",
         "_deepnote_index_column": 28
        },
        {
         "body": " 0 % PULSO SOCIAL0 Hoy en día los filtros y herramientas en redes sociales pueden darles a todos un…",
         "title": "nan",
         "url": "https://de10.com.mx/cultura-digital/insolito-influencers-muestran-su-vida-sin-filtros-ni-retoques",
         "newspaper_uid": "elpais",
         "host": "de10.com.mx",
         "_deepnote_index_column": 29
        },
        {
         "body": "\r\nRodolfo Pizarro fue honesto en una charla extensa con Oswaldo Alanís, excompañero suyo en las Chi…",
         "title": "El 'Negro' Santos es mi juguete: Rodolfo Pizarro",
         "url": "http://www.eluniversal.com.mx/universal-deportes/futbol/rodolfo-pizarro-el-negro-santos-es-mi-jugue…",
         "newspaper_uid": "elpais",
         "host": "www.eluniversal.com.mx",
         "_deepnote_index_column": 30
        },
        {
         "body": "\r\nEl nuevo estadio de Mazatlán, cuya construcción está por concluir este mes, después de tres años …",
         "title": "Conoce el nuevo estadio del Mazatlán FC",
         "url": "http://www.eluniversal.com.mx/universal-deportes/futbol/liga-mx-conoce-el-nuevo-estadio-del-mazatla…",
         "newspaper_uid": "elpais",
         "host": "www.eluniversal.com.mx",
         "_deepnote_index_column": 31
        },
        {
         "body": "\r\nEl coordinador del PAN en el Senado, Mauricio Kuri, anunció la adhesión de la senadora Lilly Téll…",
         "title": "Lilly Téllez se suma al PAN en el Senado",
         "url": "http://www.eluniversal.com.mx/nacion/lilly-tellez-se-suma-al-pan-en-el-senado",
         "newspaper_uid": "elpais",
         "host": "www.eluniversal.com.mx",
         "_deepnote_index_column": 32
        },
        {
         "body": "\r\n\r\nUn grupo de jóvenes de Craiova, una ciudad pequeña, enclavada en una región agrícola de Rumania…",
         "title": " Opera en México banda rumana de robos millonarios en cajeros",
         "url": "http://www.eluniversal.com.mx/nacion/opera-en-mexico-banda-rumana-de-robos-millonarios-en-cajeros",
         "newspaper_uid": "elpais",
         "host": "www.eluniversal.com.mx",
         "_deepnote_index_column": 33
        },
        {
         "body": "\r\nEste sábado, concejales de Oaxaca de Juárez aprobaron por unanimidad prolongar hasta el 30 de jun…",
         "title": "La capital amplía al 30 de junio medidas contra Covid-19, ante pico de contagios",
         "url": "https://oaxaca.eluniversal.com.mx/municipios/30-05-2020/la-capital-amplia-al-30-de-junio-medidas-co…",
         "newspaper_uid": "elpais",
         "host": "oaxaca.eluniversal.com.mx",
         "_deepnote_index_column": 34
        },
        {
         "body": "\r\nImagina encontrarte con cientos de flamencos en libertad: admirar su vuelo, sus elegantes movimie…",
         "title": "Celestún, el paraíso mexicano donde habita el flamenco rosa ",
         "url": "http://www.eluniversal.com.mx/destinos/celestun-el-paraiso-mexicano-donde-habita-el-flamenco-rosa",
         "newspaper_uid": "elpais",
         "host": "www.eluniversal.com.mx",
         "_deepnote_index_column": 35
        },
        {
         "body": "\r\nLa Fiscalía General del Estado de Oaxaca (FGEO) informó que un juez vinculó a proceso a un sujeto…",
         "title": "Vinculan a sujeto que presuntamente atacó sexualmente a sus dos hijas en Oaxaca",
         "url": "https://oaxaca.eluniversal.com.mx/estatal/28-04-2020/vinculan-sujeto-que-presuntamente-ataco-sexual…",
         "newspaper_uid": "elpais",
         "host": "oaxaca.eluniversal.com.mx",
         "_deepnote_index_column": 36
        },
        {
         "body": "\r\nTexto: Daniela Jurado Cano\r\n\r\nEn los 80 comenzaron a surgir grupos, sellos discográficos y espaci…",
         "title": "Grupos de rock, cronistas de la CDMX y periferia",
         "url": "https://www.eluniversal.com.mx/opinion/mochilazo-en-el-tiempo/grupos-de-rock-cronistas-de-la-cdmx-y…",
         "newspaper_uid": "elpais",
         "host": "www.eluniversal.com.mx",
         "_deepnote_index_column": 37
        },
        {
         "body": "\r\nTlalnepantla, Méx.— Bernabé Flores Franco, enfermero que libró la batalla contra el Covid-19 lueg…",
         "title": "Libra Covid... pero queda con daño pulmonar; no lo atienden por miedo",
         "url": "http://www.eluniversal.com.mx/metropoli/libra-covid-pero-queda-con-dano-pulmonar-no-lo-atienden-por…",
         "newspaper_uid": "elpais",
         "host": "www.eluniversal.com.mx",
         "_deepnote_index_column": 38
        },
        {
         "body": "\r\nEn mayo hubo 864 nuevos casos de Covid-19 en Querétaro y 100 defunciones; esto es cerca de siete …",
         "title": "Mayo fue el mes con más contagios y defunciones por Coronavirus, en Querétaro",
         "url": "https://www.eluniversalqueretaro.mx/portada/mayo-fue-el-mes-con-mas-contagios-y-defunciones",
         "newspaper_uid": "elpais",
         "host": "www.eluniversalqueretaro.mx",
         "_deepnote_index_column": 39
        },
        {
         "body": "\r\nCampeche.- En el banderazo de inicio de obra del Tramo 2 del Tren Maya, el presidente Andrés Manu…",
         "title": "AMLO da banderazo en Campeche al Tramo 2 del Tren Maya",
         "url": "http://www.eluniversal.com.mx/nacion/amlo-da-banderazo-en-campeche-al-tramo-2-del-tren-maya",
         "newspaper_uid": "elpais",
         "host": "www.eluniversal.com.mx",
         "_deepnote_index_column": 40
        },
        {
         "body": "\r\n\r\n\r\n\r\n    googletag.cmd.push(function() {\r\n      googletag.display(\"dfp-ad-top3_content\");\r\n    }…",
         "title": "Constancia Digital INE: ¿cómo tramitarla y para qué sirve?",
         "url": "http://www.unioncdmx.mx/articulo/2020/05/27/ciudadanos/constancia-digital-ine-como-tramitarla-y-par…",
         "newspaper_uid": "elpais",
         "host": "www.unioncdmx.mx",
         "_deepnote_index_column": 41
        },
        {
         "body": "\r\n\r\nLas manifestaciones por la muerte de George Floyd, un hombre afroestadounidense asesinado por p…",
         "title": "Estados Unidos en llamas",
         "url": "https://www.eluniversal.com.mx/opinion/andrew-selee/estados-unidos-en-llamas",
         "newspaper_uid": "elpais",
         "host": "www.eluniversal.com.mx",
         "_deepnote_index_column": 42
        },
        {
         "body": " 0 % PULSO SOCIAL0 Charles Chaplin es conocido por su legendario talento cómico, pero su vida perso…",
         "title": "nan",
         "url": "https://de10.com.mx/top-10/las-cuatro-bellas-y-jovenes-esposas-de-charlie-chaplin",
         "newspaper_uid": "elpais",
         "host": "de10.com.mx",
         "_deepnote_index_column": 43
        },
        {
         "body": " Toggle navigation  SuscripcionesEl Universal ImpresoEl Universal QuerétaroEl Universal Digital    …",
         "title": "nan",
         "url": "https://www.clubeluniversal.mx/content/suscripciones",
         "newspaper_uid": "elpais",
         "host": "www.clubeluniversal.mx",
         "_deepnote_index_column": 44
        },
        {
         "body": "En un robo casi de película, una banda bien organizada obligó a la empleada de una sucursal de Banc…",
         "title": "nan",
         "url": "https://www.elgrafico.mx/la-roja/asi-se-robaron-14-millones-de-pesos-en-un-banco-de-cdmx-con-cintur…",
         "newspaper_uid": "elpais",
         "host": "www.elgrafico.mx",
         "_deepnote_index_column": 45
        },
        {
         "body": "\r\n\r\n\r\n\r\n    googletag.cmd.push(function() {\r\n      googletag.display(\"dfp-ad-top3_content\");\r\n    }…",
         "title": "Christian Nodal, edad y secretos del coach de La Voz México 2020",
         "url": "http://www.unionyucatan.mx/articulo/2020/06/02/espectaculos/christian-nodal-edad-y-secretos-del-coa…",
         "newspaper_uid": "elpais",
         "host": "www.unionyucatan.mx",
         "_deepnote_index_column": 46
        },
        {
         "body": "\r\nMelania Trump no pudo ocultar su incomodidad cuando su esposo, el presidente Donald Trumo, le pid…",
         "title": "nan",
         "url": "https://www.viveusa.mx/noticias/la-sonrisa-forzada-de-melania-trump-un-video-que-se-volvio-viral",
         "newspaper_uid": "elpais",
         "host": "www.viveusa.mx",
         "_deepnote_index_column": 47
        },
        {
         "body": "\r\nEn 2004, el rumano Filip Sardaru hizo una emotiva petición a Canadá para que su familia fuera ace…",
         "title": "Cruzando el Río Grande: Cómo unos rumanos entraron ilegalmente a Estados Unidos para robar cajeros …",
         "url": "http://www.eluniversal.com.mx/nacion/cruzando-el-rio-grande-como-unos-rumanos-entraron-ilegalmente-…",
         "newspaper_uid": "elpais",
         "host": "www.eluniversal.com.mx",
         "_deepnote_index_column": 48
        },
        {
         "body": "\r\nLa actriz Megan Fox salió en compañía de sus tres hijos a una tienda de la ciudad de Calabasas, e…",
         "title": "nan",
         "url": "https://www.viveusa.mx/showbiz/megan-fox-cautiva-con-jeans-ajustados-en-california-tras-separacion",
         "newspaper_uid": "elpais",
         "host": "www.viveusa.mx",
         "_deepnote_index_column": 49
        },
        {
         "body": "\r\nEl reinicio de actividades en el sector industrial se caracterizó por ausencia de trabajadores y …",
         "title": "\"Nueva normalidad\" inicia con ausentismo laboral y sin pruebas para detectar Covid",
         "url": "http://www.eluniversal.com.mx/cartera/negocios/nueva-normalidad-inicia-con-ausentismo-laboral-y-sin…",
         "newspaper_uid": "elpais",
         "host": "www.eluniversal.com.mx",
         "_deepnote_index_column": 50
        },
        {
         "body": "\r\nLa marca mexicana Veoveo lanzó una campaña con causa durante la pandemia por Covid-19. Fabrican c…",
         "title": "nan",
         "url": "https://www.viveusa.mx/compras/fabrican-cubrebocas-para-ayudar-ninos-migrantes-en-mexico",
         "newspaper_uid": "elpais",
         "host": "www.viveusa.mx",
         "_deepnote_index_column": 51
        },
        {
         "body": "\r\nQuerétaro, Querétaro.-\r\n\r\nLa peluquería de Mario Rodríguez Hernández está vacía. La gente en esto…",
         "title": "Resistencia. Peluquero sobrelleva encierro",
         "url": "https://www.eluniversalqueretaro.mx/portada/resistenciapeluquero-sobrelleva-encierro",
         "newspaper_uid": "elpais",
         "host": "www.eluniversalqueretaro.mx",
         "_deepnote_index_column": 52
        },
        {
         "body": "\r\nDemi Rose conquistó las redes sociales con un vestido que se ajustó a sus curvas de infarto y rev…",
         "title": "nan",
         "url": "https://www.viveusa.mx/showbiz/demi-rose-presume-vestido-de-impacto-en-redes-sociales",
         "newspaper_uid": "elpais",
         "host": "www.viveusa.mx",
         "_deepnote_index_column": 53
        },
        {
         "body": "\r\nToluca.- La Secretaría de Educación del Estado de México informó que el 5 de junio concluirá el a…",
         "title": "Estas son las fechas para finalizar clases e iniciar ciclo escolar 2020-2021 en Edomex",
         "url": "http://www.eluniversal.com.mx/metropoli/edomex/estas-son-las-fechas-para-finalizar-clases-e-iniciar…",
         "newspaper_uid": "elpais",
         "host": "www.eluniversal.com.mx",
         "_deepnote_index_column": 54
        },
        {
         "body": "\r\nCon 18 años de edad, Dafne Almazán Anaya se convirtió en la mexicana más joven en graduarse de un…",
         "title": "nan",
         "url": "https://www.viveusa.mx/educacion/dafne-almazan-la-mexicana-mas-joven-en-graduarse-de-una-maestria-e…",
         "newspaper_uid": "elpais",
         "host": "www.viveusa.mx",
         "_deepnote_index_column": 55
        },
        {
         "body": "\r\n\r\nNos comentan que quien piense que la empresa Wal-Mart realizó de buena voluntad un pago por 8 m…",
         "title": "La historia de los 8 mil millones que pagó Wal-Mart",
         "url": "https://www.eluniversal.com.mx/opinion/periodistas-el-universal/la-historia-de-los-8-mil-millones-q…",
         "newspaper_uid": "elpais",
         "host": "www.eluniversal.com.mx",
         "_deepnote_index_column": 56
        },
        {
         "body": "\r\n\r\n En Puebla se han registrado 392 muertes y 3 mil 239 casos confirmados de coronavirus al 2 de j…",
         "title": "Coronavirus Puebla: Casos confirmados de Covid-19 al 2 de junio",
         "url": "http://www.eluniversal.com.mx/estados/coronavirus-puebla-casos-confirmados-de-covid-19-al-2-de-junio",
         "newspaper_uid": "elpais",
         "host": "www.eluniversal.com.mx",
         "_deepnote_index_column": 57
        },
        {
         "body": "\r\nA medida que los manifestantes ocupaban las avenidas a lo largo y ancho de Estados Unidos para co…",
         "title": "nan",
         "url": "https://www.viveusa.mx/noticias/protestas-en-estados-unidos-podrian-provocar-nuevos-casos-de-corona…",
         "newspaper_uid": "elpais",
         "host": "www.viveusa.mx",
         "_deepnote_index_column": 58
        },
        {
         "body": "\r\n\r\n\r\n\r\n    googletag.cmd.push(function() {\r\n      googletag.display(\"dfp-ad-top3_content\");\r\n    }…",
         "title": "‘Enamorándonos’ y su maldición",
         "url": "http://www.unionjalisco.mx/articulo/2020/06/03/espectaculos/enamorandonos-y-su-maldicion",
         "newspaper_uid": "elpais",
         "host": "www.unionjalisco.mx",
         "_deepnote_index_column": 59
        },
        {
         "body": "\r\nLa secretaria de Salud, Oliva López, consideró que en septiembre el semáforo podría cambiar a nar…",
         "title": "Decesos por Covid se estabilizarán en septiembre en CDMX",
         "url": "http://www.eluniversal.com.mx/metropoli/decesos-por-covid-se-estabilizaran-en-septiembre-en-cdmx",
         "newspaper_uid": "elpais",
         "host": "www.eluniversal.com.mx",
         "_deepnote_index_column": 60
        },
        {
         "body": "\r\nEl gobernador Francisco Domínguez Servién desmintió que el estado de Querétaro haya aceptado util…",
         "title": "Gobernador de Querétaro rechaza integración al semáforo único de Covid-19 ",
         "url": "https://www.eluniversalqueretaro.mx/politica/gobernador-de-queretaro-rechaza-integracion-al-semafor…",
         "newspaper_uid": "elpais",
         "host": "www.eluniversalqueretaro.mx",
         "_deepnote_index_column": 61
        },
        {
         "body": "\r\nJosé Luis Alomía Zegarra, director general de Epidemiología, informó esta noche que México suma 1…",
         "title": "México tiene nuevo máximo de casos de Covid: 3 mil 891 en un día; suman 97 mil",
         "url": "https://www.eluniversal.com.mx/nacion/sociedad/coronavirus-2-de-junio-suman-10-mil-637-muertes-por-…",
         "newspaper_uid": "elpais",
         "host": "www.eluniversal.com.mx",
         "_deepnote_index_column": 62
        },
        {
         "body": "\r\n\r\n\r\n\r\n    googletag.cmd.push(function() {\r\n      googletag.display(\"dfp-ad-top3_content\");\r\n    }…",
         "title": "Yo soy Betty, la fea, elenco, personajes y actores antes y después",
         "url": "http://www.unionyucatan.mx/articulo/2020/06/01/espectaculos/yo-soy-betty-la-fea-elenco-personajes-y…",
         "newspaper_uid": "elpais",
         "host": "www.unionyucatan.mx",
         "_deepnote_index_column": 63
        },
        {
         "body": " 0 % PULSO SOCIAL0 Ante las protestas en Estados Unidos por la muerte de George Floyd, un afromeric…",
         "title": "nan",
         "url": "https://de10.com.mx/top-10/10-memes-sobre-las-verdaderas-revelaciones-de-anonymous",
         "newspaper_uid": "elpais",
         "host": "de10.com.mx",
         "_deepnote_index_column": 64
        },
        {
         "body": "\r\nDesde ayer, algunos comentarios en Internet apuntan a que el Presidente, Andrés Manuel López Obra…",
         "title": "¿Es verdad que AMLO quiere cobrar un impuesto por tener mascotas?",
         "url": "http://www.eluniversal.com.mx/nacion/politica/es-verdad-que-amlo-quiere-cobrar-un-impuesto-por-tene…",
         "newspaper_uid": "elpais",
         "host": "www.eluniversal.com.mx",
         "_deepnote_index_column": 65
        },
        {
         "body": "\r\nLa actriz Gwyneth Paltrow fue captada durante un paseo en la ciudad de Los Ángeles, California, j…",
         "title": "nan",
         "url": "https://www.viveusa.mx/showbiz/gwyneth-paltrow-luce-piernas-tonificadas-con-shorts-blancos-en-la",
         "newspaper_uid": "elpais",
         "host": "www.viveusa.mx",
         "_deepnote_index_column": 66
        },
        {
         "body": "\r\nEiza González fue captada por los paparazzis haciendo alarde de su trabajada figura por calles de…",
         "title": "nan",
         "url": "https://www.viveusa.mx/showbiz/eiza-gonzalez-presume-abs-con-crop-top-en-los-angeles-0",
         "newspaper_uid": "elpais",
         "host": "www.viveusa.mx",
         "_deepnote_index_column": 67
        },
        {
         "body": "\r\n\r\n\r\n\r\n    googletag.cmd.push(function() {\r\n      googletag.display(\"dfp-ad-top3_content\");\r\n    }…",
         "title": "Nuevas fechas para examen COMIPEMS 2020, ¿cuándo son?",
         "url": "http://www.unioncdmx.mx/articulo/2020/06/03/educacion/nuevas-fechas-para-examen-comipems-2020-cuand…",
         "newspaper_uid": "elpais",
         "host": "www.unioncdmx.mx",
         "_deepnote_index_column": 68
        },
        {
         "body": "\r\nEl Servicio de Administración Tributaria (SAT) recordó que el año pasado, el Congreso de la Unión…",
         "title": "¿Quiénes pagan el IVA a servicios digitales? El SAT te lo dice",
         "url": "http://www.eluniversal.com.mx/cartera/telecom/quienes-pagan-el-iva-servicios-digitales",
         "newspaper_uid": "elpais",
         "host": "www.eluniversal.com.mx",
         "_deepnote_index_column": 69
        },
        {
         "body": "\r\n El primer ministro canadiense, Justin Trudeau, necesitó este martes 21 segundos de silencio ante…",
         "title": "nan",
         "url": "https://www.viveusa.mx/noticias/la-polemica-respuesta-de-justin-trudeau-sobre-las-protestas-en-eu",
         "newspaper_uid": "elpais",
         "host": "www.viveusa.mx",
         "_deepnote_index_column": 70
        },
        {
         "body": "\r\nSi hay una deliciosa y sencilla receta para preparar es el pan francés, este rico bocadillo que l…",
         "title": "Aprende a preparar pan francés en casa fácil y rápido",
         "url": "http://www.eluniversal.com.mx/menu/receta-de-pan-frances-con-platano",
         "newspaper_uid": "elpais",
         "host": "www.eluniversal.com.mx",
         "_deepnote_index_column": 71
        },
        {
         "body": "\r\nPara muchos viajeros, una de las motivaciones principales para elegir uno u otro lugar para recor…",
         "title": "Postres, vinos y otras delicias: viaja por Francia a través de su cocina",
         "url": "http://www.eluniversal.com.mx/destinos/postres-vinos-y-mas-delicias-en-un-viaje-por-la-cocina-franc…",
         "newspaper_uid": "elpais",
         "host": "www.eluniversal.com.mx",
         "_deepnote_index_column": 72
        },
        {
         "body": "\r\nLa aparición del Covid-19 provocó que el personal de salud adoptara la utilización de nuevas herr…",
         "title": "“Es muy difícil, vemos las muertes noche a noche”",
         "url": "https://www.eluniversalqueretaro.mx/portada/es-muy-dificil-vemos-las-muertes-noche-noche",
         "newspaper_uid": "elpais",
         "host": "www.eluniversalqueretaro.mx",
         "_deepnote_index_column": 73
        },
        {
         "body": "\r\n¿Todavía habrá quienes piensen que el actual gobierno amenaza la libertad de expresión luego de q…",
         "title": "El choque de dos proyectos de nación",
         "url": "https://www.eluniversal.com.mx/opinion/raul-rodriguez-cortes/el-choque-de-dos-proyectos-de-nacion",
         "newspaper_uid": "elpais",
         "host": "www.eluniversal.com.mx",
         "_deepnote_index_column": 74
        },
        {
         "body": "\r\n\r\nLa escena es terrible: George Floyd, un hombre afroamericano arrojado en el piso, con la rodill…",
         "title": "Sobre la brutalidad policial",
         "url": "https://www.eluniversal.com.mx/opinion/alejandro-hope/sobre-la-brutalidad-policial",
         "newspaper_uid": "elpais",
         "host": "www.eluniversal.com.mx",
         "_deepnote_index_column": 75
        },
        {
         "body": "\r\nEl perímetro del Centro Histórico se encuentra aún blindado por elementos de la Secretaría de Seg…",
         "title": "Pese a \"nueva normalidad\", mantienen cercado perímetro del Centro Histórico ",
         "url": "http://www.eluniversal.com.mx/metropoli/cdmx/pese-nueva-normalidad-mantienen-cercado-perimetro-del-…",
         "newspaper_uid": "elpais",
         "host": "www.eluniversal.com.mx",
         "_deepnote_index_column": 76
        },
        {
         "body": "\r\n\r\n\r\n\r\n    googletag.cmd.push(function() {\r\n      googletag.display(\"dfp-ad-top3_content\");\r\n    }…",
         "title": "¿Cuándo es el Día del Padre en México 2020?",
         "url": "http://www.unionguanajuato.mx/articulo/2020/05/25/cultura/cuando-es-el-dia-del-padre-en-mexico-2020",
         "newspaper_uid": "elpais",
         "host": "www.unionguanajuato.mx",
         "_deepnote_index_column": 77
        },
        {
         "body": "\r\nLeer en español\r\n \r\nThe body of a Mexican congresswoman Francis Anel Bueno Sánchez from the state…",
         "title": "Mexican lawmaker’s body is found inside a mass grave in Colima",
         "url": "https://www.eluniversal.com.mx/english/mexican-lawmakers-body-found-inside-mass-grave-colima",
         "newspaper_uid": "elpais",
         "host": "www.eluniversal.com.mx",
         "_deepnote_index_column": 78
        },
        {
         "body": "\r\nUna nieve ligera caía sobre Craiova, en el sur de Rumanía, cuando Sorin Velcu llamó a su madre pa…",
         "title": "Del cajero al ladrillo: blanqueando el dinero sucio",
         "url": "http://www.eluniversal.com.mx/nacion/del-cajero-al-ladrillo-blanqueando-el-dinero-sucio",
         "newspaper_uid": "elpais",
         "host": "www.eluniversal.com.mx",
         "_deepnote_index_column": 79
        },
        {
         "body": "\r\nTexto: Edward Fernando Salinas\r\n \r\n\r\n\"No puedes vencer a alguien que nunca se rinde\"\r\n“Babe” Ruth…",
         "title": "El día que el gran Babe Ruth conectó un jonrón en México",
         "url": "https://www.eluniversal.com.mx/opinion/mochilazo-en-el-tiempo/el-dia-que-el-gran-babe-ruth-conecto-…",
         "newspaper_uid": "elpais",
         "host": "www.eluniversal.com.mx",
         "_deepnote_index_column": 80
        },
        {
         "body": "\r\n\r\n¿Qué horas son? las que usted diga, señor presidente. Es la respuesta que México ha querido evi…",
         "title": "Los cómplices del presidente",
         "url": "https://www.eluniversal.com.mx/opinion/ana-paula-ordorica/los-complices-del-presidente",
         "newspaper_uid": "elpais",
         "host": "www.eluniversal.com.mx",
         "_deepnote_index_column": 81
        },
        {
         "body": "\r\nWashington.- Las tropas en activo trasladadas a la capital estadounidense para ayudar, en caso ne…",
         "title": "Regresan a sus bases tropas desplegadas en Washington para controlar protestas",
         "url": "http://www.eluniversal.com.mx/mundo/regresan-sus-bases-tropas-desplegadas-en-washington-para-contro…",
         "newspaper_uid": "elpais",
         "host": "www.eluniversal.com.mx",
         "_deepnote_index_column": 82
        },
        {
         "body": "\r\nLa posible vuelta del Atlante a la Primera División, a la Liga MX, podría ser parte de un plan ar…",
         "title": "El Atlante a la Liga MX, ¿cómo y de quién es el plan?",
         "url": "http://www.eluniversal.com.mx/universal-deportes/futbol/el-atlante-la-liga-mx-como-y-de-quien-es-el…",
         "newspaper_uid": "elpais",
         "host": "www.eluniversal.com.mx",
         "_deepnote_index_column": 83
        },
        {
         "body": "\r\nAlgunos jugadores del América mandaron mensajes en contra del racismo, durante los movimientos en…",
         "title": "Jugadores del América lanzan mensajes contra el racismo",
         "url": "http://www.eluniversal.com.mx/universal-deportes/futbol/america-jugadores-lanzan-mensajes-contra-el…",
         "newspaper_uid": "elpais",
         "host": "www.eluniversal.com.mx",
         "_deepnote_index_column": 84
        },
        {
         "body": "\r\nEl cuerpo de Anel Bueno Sánchez, diputada de Colima desaparecida el pasado 29 de abril, fue local…",
         "title": "¿Quién era Anel Bueno, diputada localizada en una fosa clandestina de Colima?",
         "url": "http://www.eluniversal.com.mx/estados/quien-era-anel-bueno-diputada-localizada-en-una-fosa-clandest…",
         "newspaper_uid": "elpais",
         "host": "www.eluniversal.com.mx",
         "_deepnote_index_column": 85
        },
        {
         "body": "\r\nTexto: Marco Salas\r\nImaginemos que es 1890 y una pareja toma café. Él se llama Karl Wilhem Flügge…",
         "title": "Así nació el cubrebocas",
         "url": "https://www.eluniversal.com.mx/opinion/mochilazo-en-el-tiempo/asi-nacio-el-cubrebocas",
         "newspaper_uid": "elpais",
         "host": "www.eluniversal.com.mx",
         "_deepnote_index_column": 86
        },
        {
         "body": "Hubei.– Uno de los médicos que experimentaron un extraño cambio en el color de su piel, tras contra…",
         "title": "nan",
         "url": "https://www.elgrafico.mx/viral/muere-medico-cuya-piel-se-oscurecio-por-tratamiento-contra-el-covid-…",
         "newspaper_uid": "elpais",
         "host": "www.elgrafico.mx",
         "_deepnote_index_column": 87
        },
        {
         "body": "\r\nLa senadora del PRI, Vanessa Rubio, propuso que personas desahuciadas puedan tener acceso a los r…",
         "title": "Senadora de PRI plantea que desahuciados puedan acceder a recursos de su Afore",
         "url": "https://www.eluniversal.com.mx/cartera/senadora-de-pri-plantea-que-desahuciados-puedan-acceder-recu…",
         "newspaper_uid": "elpais",
         "host": "www.eluniversal.com.mx",
         "_deepnote_index_column": 88
        },
        {
         "body": "\r\nUn video viral que circula en redes sociales ha causado revuelo entre los usuarios. Muestra a una…",
         "title": "nan",
         "url": "https://www.viveusa.mx/noticias/posa-para-foto-antes-de-protesta-y-despues-sube-auto-de-lujo",
         "newspaper_uid": "elpais",
         "host": "www.viveusa.mx",
         "_deepnote_index_column": 89
        },
        {
         "body": "\r\nEsta mañana trascendió la muerte de un hombre en la avenida principal del Centro Histórico potosi…",
         "title": "Encuentran a hombre colgado en academia de belleza del Centro Histórico de SLP",
         "url": "https://sanluis.eluniversal.com.mx/metropoli/27-05-2020/localizan-hombre-colgado-en-academia-de-bel…",
         "newspaper_uid": "elpais",
         "host": "sanluis.eluniversal.com.mx",
         "_deepnote_index_column": 90
        },
        {
         "body": "\r\n\r\n\r\n\r\n    googletag.cmd.push(function() {\r\n      googletag.display(\"dfp-ad-top3_content\");\r\n    }…",
         "title": "Nuevo calendario escolar por coronavirus Covid-19 para imprimir",
         "url": "http://www.unionguanajuato.mx/articulo/2020/06/03/educacion/nuevo-calendario-escolar-por-coronaviru…",
         "newspaper_uid": "elpais",
         "host": "www.unionguanajuato.mx",
         "_deepnote_index_column": 91
        },
        {
         "body": "\r\nLa Fiscalía General de San Luis Potosí informó que el saldo de tres ataques armados ocurridos la …",
         "title": "Ataques armados en Zona Metropolitana de SLP dejan 5 muertos y 3 lesionados",
         "url": "https://sanluis.eluniversal.com.mx/metropoli/27-05-2020/ataques-armados-en-zona-metropolitana-de-sl…",
         "newspaper_uid": "elpais",
         "host": "sanluis.eluniversal.com.mx",
         "_deepnote_index_column": 92
        },
        {
         "body": "\r\nEl dirigente nacional de Morena, Alfonso Ramírez Cuéllar, pidió justicia para la diputada local F…",
         "title": "Morena pide justicia para diputada asesinada",
         "url": "http://www.eluniversal.com.mx/nacion/morena-pide-justicia-para-diputada-asesinada",
         "newspaper_uid": "elpais",
         "host": "www.eluniversal.com.mx",
         "_deepnote_index_column": 93
        },
        {
         "body": "\r\nEl coordinador de Morena en la Cámara de Diputados, Mario Delgado Carrillo, propuso que los traba…",
         "title": "Morena propone retiro de Afore en caso de emergencia sanitaria",
         "url": "http://www.eluniversal.com.mx/nacion/politica/morena-propone-retiro-de-afore-en-caso-de-emergencia-…",
         "newspaper_uid": "elpais",
         "host": "www.eluniversal.com.mx",
         "_deepnote_index_column": 94
        },
        {
         "body": "Los cuerpos cercenados de dos hombres fueron hallados la mañana de este miércoles en dos diferentes…",
         "title": "nan",
         "url": "https://www.elgrafico.mx/la-roja/miercoles-de-terror-parten-dos-en-cachos-y-riegan-sus-restos-en-va…",
         "newspaper_uid": "elpais",
         "host": "www.elgrafico.mx",
         "_deepnote_index_column": 95
        },
        {
         "body": "\r\nSi te gusta cocinar, sabrás que un buen platillo depende tanto de la calidad de los alimentos com…",
         "title": "Guía para elegir la mejor batería de cocina",
         "url": "http://www.eluniversal.com.mx/menu/que-tomar-en-cuenta-para-comprar-una-bateria-de-cocina",
         "newspaper_uid": "elpais",
         "host": "www.eluniversal.com.mx",
         "_deepnote_index_column": 96
        },
        {
         "body": " 20 % PULSO SOCIAL6 De acuerdo con la Real Academia de la Lengua, ser ateo significa rechazar la ex…",
         "title": "nan",
         "url": "https://de10.com.mx/top-10/10-personajes-famosos-ateos-y-sus-creencias",
         "newspaper_uid": "elpais",
         "host": "de10.com.mx",
         "_deepnote_index_column": 97
        },
        {
         "body": " 0 % PULSO SOCIAL0 \r\n",
         "title": "nan",
         "url": "https://de10.com.mx/parejas/10-actrices-cuyos-bikinis-en-el-cine-marcaron-tendencia",
         "newspaper_uid": "elpais",
         "host": "de10.com.mx",
         "_deepnote_index_column": 98
        },
        {
         "body": "\r\nDurante los últimos 12 días de mayo empresas del sector industrial en la entidad potosina se enfo…",
         "title": "240 plantas industriales retomaron actividades este lunes en San Luis Potosí",
         "url": "https://sanluis.eluniversal.com.mx/cartera/01-06-2020/240-plantas-industriales-retomaron-actividade…",
         "newspaper_uid": "elpais",
         "host": "sanluis.eluniversal.com.mx",
         "_deepnote_index_column": 99
        },
        {
         "body": "\r\n\r\nTabasco suma 4 mil 609 casos confirmados y 562 fallecimientos por Covid-19 al 2 de junio.\r\n\r\nEn…",
         "title": "Casos de Covid-19 en Yucatán, Quintana Roo y Tabasco al 2 de junio",
         "url": "http://www.eluniversal.com.mx/estados/casos-de-covid-19-en-yucatan-quintana-roo-y-tabasco-al-2-de-j…",
         "newspaper_uid": "elpais",
         "host": "www.eluniversal.com.mx",
         "_deepnote_index_column": 100
        },
        {
         "body": "\r\nLa vida no ha sido fácil en estos últimos meses. Sin embargo, hay que continuar con el ritmo y ad…",
         "title": "Belinda enamora con su look deportivo para la Voz Azteca",
         "url": "http://www.eluniversal.com.mx/de-ultima/belinda-sorprende-con-look-deportivo-para-la-voz-azteca",
         "newspaper_uid": "elpais",
         "host": "www.eluniversal.com.mx",
         "_deepnote_index_column": 101
        },
        {
         "body": " 73 % PULSO SOCIAL22 En la cultura de la antigüedad, no había mejor castigo que la ley del Talión, …",
         "title": "nan",
         "url": "https://de10.com.mx/top-10/impactante-10-formas-antiguas-de-castigo-y-tortura",
         "newspaper_uid": "elpais",
         "host": "de10.com.mx",
         "_deepnote_index_column": 102
        },
        {
         "body": "\r\nEn las protestas desatadas en Estados Unidos en contra de la discriminación racial resaltó la ban…",
         "title": "nan",
         "url": "https://www.viveusa.mx/noticias/la-bandera-de-mexico-ondea-en-las-protestas-por-george-floyd",
         "newspaper_uid": "elpais",
         "host": "www.viveusa.mx",
         "_deepnote_index_column": 103
        },
        {
         "body": "\r\nJennifer Lopez y Kim Kardashian son de las celebridades más mediáticas en Estados Unidos. Ambas s…",
         "title": "nan",
         "url": "https://www.viveusa.mx/showbiz/las-fotos-ineditas-de-las-sesiones-de-jennifer-lopez-y-kim-kardashian",
         "newspaper_uid": "elpais",
         "host": "www.viveusa.mx",
         "_deepnote_index_column": 104
        },
        {
         "body": "\r\nTexto: Carlos Villasana y Ruth Gómez\r\nLa ciudad enfrenta una de las etapas más complejas de los ú…",
         "title": "Los mercados porfirianos de la capital",
         "url": "https://www.eluniversal.com.mx/opinion/mochilazo-en-el-tiempo/los-mercados-porfirianos-de-la-capital",
         "newspaper_uid": "elpais",
         "host": "www.eluniversal.com.mx",
         "_deepnote_index_column": 105
        },
        {
         "body": "\r\nEl contagio por el coronavirus es más elevado en las grandes áreas urbanas del país; sin embargo,…",
         "title": "Coneval: letalidad del Covid es alta en municipios pobres",
         "url": "http://www.eluniversal.com.mx/cartera/coneval-letalidad-del-covid-es-alta-en-municipios-pobres",
         "newspaper_uid": "elpais",
         "host": "www.eluniversal.com.mx",
         "_deepnote_index_column": 106
        },
        {
         "body": "\r\nUn grupo internacional de arqueólogos descubrió en Tabasco la estructura ceremonial más antigua y…",
         "title": "Descubren estructura ceremonial maya más antigua hasta el momento",
         "url": "http://www.eluniversal.com.mx/cultura/arqueologos-descubren-el-monumento-maya-mas-antiguo-hasta-el-…",
         "newspaper_uid": "elpais",
         "host": "www.eluniversal.com.mx",
         "_deepnote_index_column": 107
        },
        {
         "body": "\r\nOcho días consecutivos de marchas, vigilias, rezos, llamados a la reconciliación no han sido sufi…",
         "title": "Las protestas...",
         "url": "https://www.eluniversal.com.mx/opinion/gabriel-guerra/las-protestas",
         "newspaper_uid": "elpais",
         "host": "www.eluniversal.com.mx",
         "_deepnote_index_column": 108
        },
        {
         "body": "\r\n\r\nLa Secretaría de Salud del gobierno federal informó que al 2 de junio hay registro de 10 mil 63…",
         "title": "Casos de coronavirus en México, estado por estado al 2 de junio",
         "url": "http://www.eluniversal.com.mx/estados/casos-de-coronavirus-en-mexico-estado-por-estado-al-2-de-junio",
         "newspaper_uid": "elpais",
         "host": "www.eluniversal.com.mx",
         "_deepnote_index_column": 109
        },
        {
         "body": "\r\nLa válvula potosina desarrollada por investigadores en San Luis Potosí, devuelve la esperanza a p…",
         "title": "Con tecnología 3D, potosinos crean válvula para enfrentar el Covid-19",
         "url": "https://sanluis.eluniversal.com.mx/sociedad/26-05-2020/con-tecnologia-3d-potosinos-crean-valvula-pa…",
         "newspaper_uid": "elpais",
         "host": "sanluis.eluniversal.com.mx",
         "_deepnote_index_column": 110
        },
        {
         "body": " 0 % PULSO SOCIAL0 Imagina que un día tu pareja muere y en medio del duelo, te enteras de que lleva…",
         "title": "nan",
         "url": "https://de10.com.mx/top-10/julio-machado-nos-cuenta-los-secretos-de-la-serie-hard",
         "newspaper_uid": "elpais",
         "host": "de10.com.mx",
         "_deepnote_index_column": 111
        },
        {
         "body": "\r\nLa mayoría de los estados que pertenecen a la Megalópolis, Ciudad de México, Estado de México, Pu…",
         "title": "Van mandatarios del Centro por mismo semáforo para nueva normalidad",
         "url": "http://www.eluniversal.com.mx/metropoli/cdmx/piden-mandatarios-del-centro-un-mismo-semaforo-para-nu…",
         "newspaper_uid": "elpais",
         "host": "www.eluniversal.com.mx",
         "_deepnote_index_column": 112
        },
        {
         "body": "\r\nHace unos días, el propietario del Guadalajara, Amaury Vergara, puso sobre la mesa la necesidad d…",
         "title": "A transparentar el futbol mexicano",
         "url": "https://www.eluniversal.com.mx/opinion/gerardo-velazquez-de-leon/transparentar-el-futbol-mexicano",
         "newspaper_uid": "elpais",
         "host": "www.eluniversal.com.mx",
         "_deepnote_index_column": 113
        },
        {
         "body": "\r\nEl Presidente Andrés Manuel López Obrador informó que encontraron el cuerpo de la legisladora de …",
         "title": "Hallan el cuerpo de la legisladora de Morena Francis Anel Bueno Sánchez",
         "url": "http://www.eluniversal.com.mx/nacion/politica/hallan-el-cuerpo-de-la-legisladora-de-morena-francis-…",
         "newspaper_uid": "elpais",
         "host": "www.eluniversal.com.mx",
         "_deepnote_index_column": 114
        },
        {
         "body": "\r\nLeer en español\r\nAn international group archeologists discovered in Tabasco the oldest and larges…",
         "title": "Major discovery of oldest and largest Maya structure in Mexico sheds light on the rise of the ancie…",
         "url": "https://www.eluniversal.com.mx/english/major-discovery-oldest-and-largest-maya-structure-mexico-she…",
         "newspaper_uid": "elpais",
         "host": "www.eluniversal.com.mx",
         "_deepnote_index_column": 115
        },
        {
         "body": "\r\n\r\nLa clave fue la diferencia entre lo que transfirieron al extranjero y lo que reportaron en Méxi…",
         "title": "El directivo de Cruz Azul firmó 98 cheques para sí mismo",
         "url": "https://www.eluniversal.com.mx/opinion/carlos-loret-de-mola/el-directivo-de-cruz-azul-firmo-98-cheq…",
         "newspaper_uid": "elpais",
         "host": "www.eluniversal.com.mx",
         "_deepnote_index_column": 116
        },
        {
         "body": "\r\nLos limones, sin duda, no pueden faltar en nuestro refrigerador, pues le dan ese toque especial a…",
         "title": "Cómo mantener los limones frescos hasta 1 mes",
         "url": "http://www.eluniversal.com.mx/menu/como-mantener-los-limones-frescos",
         "newspaper_uid": "elpais",
         "host": "www.eluniversal.com.mx",
         "_deepnote_index_column": 117
        },
        {
         "body": "\r\nEl Universo de la WWE vivió una semana de nostalgia, ya que se anunció que Rey Mysterio, uno de l…",
         "title": "Retiro de Rey Mysterio, el ‘circo’ de la WWE para el debut de su hijo",
         "url": "http://www.eluniversal.com.mx/universal-deportes/mas-deportes/wwe-retiro-de-rey-mysterio-el-circo-p…",
         "newspaper_uid": "elpais",
         "host": "www.eluniversal.com.mx",
         "_deepnote_index_column": 118
        },
        {
         "body": "\r\n\r\n\r\n\r\n    googletag.cmd.push(function() {\r\n      googletag.display(\"dfp-ad-top3_content\");\r\n    }…",
         "title": "La bella heredera tapatía del ‘Perro’ Bermúdez",
         "url": "http://www.unionjalisco.mx/articulo/2020/06/01/espectaculos/la-bella-heredera-tapatia-del-perro-ber…",
         "newspaper_uid": "elpais",
         "host": "www.unionjalisco.mx",
         "_deepnote_index_column": 119
        },
        {
         "body": "\r\nA partir del sábado serán 30 las personas que podrán disfrutar del \"Guernica\" en el Museo Reina S…",
         "title": "Con oferta y dos Picassos nuevos, el Reina Sofía le pone \"buena cara\" a su reapertura",
         "url": "http://www.eluniversal.com.mx/cultura/artes-visuales/el-reina-sofia-expondra-dos-picassos-ineditos-…",
         "newspaper_uid": "elpais",
         "host": "www.eluniversal.com.mx",
         "_deepnote_index_column": 120
        },
        {
         "body": "\r\nGeorge Clooney ha incendiado las redes sociales tras publicar un artículo en el diario Daily Beas…",
         "title": "George Clooney: \"El racismo es la pandemia de EU\"",
         "url": "http://www.eluniversal.com.mx/espectaculos/farandula/george-clooney-el-racismo-es-la-pandemia-de-eu",
         "newspaper_uid": "elpais",
         "host": "www.eluniversal.com.mx",
         "_deepnote_index_column": 121
        },
        {
         "body": "\r\n\"The Ickabog\", el nuevo libro para niños que la escritora británica JK Rowling ha publicado gratu…",
         "title": "El cuento gratis de J.K. Rowling ya está en español",
         "url": "http://www.eluniversal.com.mx/cultura/el-cuento-gratis-de-jk-rowling-ya-esta-en-espanol",
         "newspaper_uid": "elpais",
         "host": "www.eluniversal.com.mx",
         "_deepnote_index_column": 122
        },
        {
         "body": "\r\nLa titular del SAT, Raquel Buenrostro, asegura que los pagos millonarios que han obtenido de gran…",
         "title": "No es terrorismo, los convencemos: Buenrostro",
         "url": "https://www.eluniversal.com.mx/opinion/salvador-garcia-soto/no-es-terrorismo-los-convencemos-buenro…",
         "newspaper_uid": "elpais",
         "host": "www.eluniversal.com.mx",
         "_deepnote_index_column": 123
        },
        {
         "body": "\r\n\r\nLos funcionarios de alto rango del Instituto Nacional de Estadística y Geografía (Inegi) y de l…",
         "title": "En Inegi y Cofece ganarán más que AMLO",
         "url": "http://www.eluniversal.com.mx/nacion/en-inegi-y-cofece-ganaran-mas-que-amlo",
         "newspaper_uid": "elpais",
         "host": "www.eluniversal.com.mx",
         "_deepnote_index_column": 124
        },
        {
         "body": "\r\nCientíficos en todo el mundo estudian el proceso de infección que sufre una persona al entrar en …",
         "title": "El zinc sería clave para tratamiento de Covid-19",
         "url": "http://www.eluniversal.com.mx/ciencia-y-salud/el-zinc-seria-clave-para-un-tratamiento-contra-el-cov…",
         "newspaper_uid": "elpais",
         "host": "www.eluniversal.com.mx",
         "_deepnote_index_column": 125
        },
        {
         "body": "\r\nCuando el periodista Brian Krebs publicó en uno de los portales más leídos del mundo, The Daily M…",
         "title": "La mafia encontró el paraíso",
         "url": "https://www.eluniversal.com.mx/opinion/hector-de-mauleon/la-mafia-encontro-el-paraiso",
         "newspaper_uid": "elpais",
         "host": "www.eluniversal.com.mx",
         "_deepnote_index_column": 126
        },
        {
         "body": "Una víctima más de la vanidad, y de los fraudulentos personajes que se hacen pasar como especialist…",
         "title": "nan",
         "url": "https://www.elgrafico.mx/espectaculos/la-modelo-jessica-cediel-se-somete-amputacion-de-gluteos-y-co…",
         "newspaper_uid": "elpais",
         "host": "www.elgrafico.mx",
         "_deepnote_index_column": 127
        },
        {
         "body": "\r\nLa 64 Legislatura del Congreso de Oaxaca aprobó aplazar el inicio del proceso electoral ordinario…",
         "title": "Por pandemia, Congreso de Oaxaca aplaza hasta diciembre inicio del proceso electoral intermedio ",
         "url": "https://oaxaca.eluniversal.com.mx/politica/02-06-2020/por-pandemia-congreso-de-oaxaca-aplaza-hasta-…",
         "newspaper_uid": "elpais",
         "host": "oaxaca.eluniversal.com.mx",
         "_deepnote_index_column": 128
        },
        {
         "body": "\r\nEl presidente Andrés Manuel López Obrador solicitó a los opositores a Tren Maya respetar la decis…",
         "title": "AMLO pide a opositores a Tren Maya respetar decisión del pueblo",
         "url": "http://www.eluniversal.com.mx/nacion/amlo-pide-opositores-tren-maya-respetar-decision-del-pueblo",
         "newspaper_uid": "elpais",
         "host": "www.eluniversal.com.mx",
         "_deepnote_index_column": 129
        },
        {
         "body": "\r\nTexto: Carlos Villasana y Ruth GómezFotos actuales: Aram Ponce Franco / Cortesía\r\nEl Centro Histó…",
         "title": "El centro de reunión de los caballeros porfirianos",
         "url": "https://www.eluniversal.com.mx/opinion/mochilazo-en-el-tiempo/el-centro-de-reunion-de-los-caballero…",
         "newspaper_uid": "elpais",
         "host": "www.eluniversal.com.mx",
         "_deepnote_index_column": 130
        },
        {
         "body": "\r\nMarsha P. Johnson was a pioneer, LGBTQ+ activist,  drag queen, and performer. She was a prominent…",
         "title": "Marsha P. Johnson: The black transgender woman who was key in the Stonewall uprising",
         "url": "http://www.eluniversal.com.mx/english/marsha-p-johnson-black-transgender-woman-who-was-key-stonewal…",
         "newspaper_uid": "elpais",
         "host": "www.eluniversal.com.mx",
         "_deepnote_index_column": 131
        },
        {
         "body": "\r\nVaya golpe el que propinó la senadora Lilly Téllez a Morena en el Senado, pues no conforme con sa…",
         "title": "El golpe de la agente Téllez",
         "url": "https://www.eluniversal.com.mx/nacion/bajo-reserva-expres-el-golpe-de-la-agente-tellez",
         "newspaper_uid": "elpais",
         "host": "www.eluniversal.com.mx",
         "_deepnote_index_column": 132
        },
        {
         "body": "\r\n\r\nJalisco tiene 2 mil 25 casos confirmados y 167 muertos por coronavirus, de acuerdo con el repor…",
         "title": "Coronavirus Jalisco: Casos confirmados de Covid-19 al 2 de junio",
         "url": "http://www.eluniversal.com.mx/estados/coronavirus-jalisco-casos-confirmados-de-covid-19-al-2-de-jun…",
         "newspaper_uid": "elpais",
         "host": "www.eluniversal.com.mx",
         "_deepnote_index_column": 133
        },
        {
         "body": "\r\nLa identidad de Jesús Alfonso Escoboza, mejor conocido como La Parka, fue revelada por su hija me…",
         "title": "Revelan identidad de La Parka en Tik Tok",
         "url": "http://www.eluniversal.com.mx/universal-deportes/mas-deportes/la-parka-revelan-identidad-del-histor…",
         "newspaper_uid": "elpais",
         "host": "www.eluniversal.com.mx",
         "_deepnote_index_column": 134
        },
        {
         "body": "\r\n“Fueron días muy duros para mí y mi familia. Cuando acudí al hospital, la angustia me invadió ant…",
         "title": "“La angustia me invadió ante la posibilidad de haberme contagiado de coronavirus\"",
         "url": "https://sanluis.eluniversal.com.mx/sociedad/02-06-2020/la-angustia-me-invadio-ante-la-posibilidad-d…",
         "newspaper_uid": "elpais",
         "host": "sanluis.eluniversal.com.mx",
         "_deepnote_index_column": 135
        },
        {
         "body": "\r\nEl 80% de los restaurantes queretanos tiene problemas para cubrir el pago de la renta de los inmu…",
         "title": "El 80% de los restaurantes no tiene para el pago de la renta",
         "url": "https://www.eluniversalqueretaro.mx/portada/sin-recursos-para-la-renta-80-de-los-restaurantes",
         "newspaper_uid": "elpais",
         "host": "www.eluniversalqueretaro.mx",
         "_deepnote_index_column": 136
        },
        {
         "body": "\r\nLa firma surcoreana Hyundai publicó los primeros detalles de lo que será la nueva SUV Santa Fe. L…",
         "title": "Hyundai Santa Fe 2021 se presenta en Europa",
         "url": "http://www.eluniversal.com.mx/autopistas/hyundai-santa-fe-2021-se-presenta-con-diseno-diferente-y-n…",
         "newspaper_uid": "elpais",
         "host": "www.eluniversal.com.mx",
         "_deepnote_index_column": 137
        }
       ],
       "rows_bottom": null
      },
      "text/plain": "                                                  body  \\\n0    \\r\\n\\r\\n\\r\\n\\r\\n    googletag.cmd.push(functio...   \n1    \\r\\nEl museo del antiguo campo nazi de la muer...   \n2    \\r\\nLa Suprema Corte de Justicia de la Nación ...   \n3    \\r\\nUn grupo de funcionarios descubrió mosquit...   \n4    \\r\\nEn 1980, Héctor Suárez y Leticia Perdigón ...   \n..                                                 ...   \n133  \\r\\n\\r\\nJalisco tiene 2 mil 25 casos confirmad...   \n134  \\r\\nLa identidad de Jesús Alfonso Escoboza, me...   \n135  \\r\\n“Fueron días muy duros para mí y mi famili...   \n136  \\r\\nEl 80% de los restaurantes queretanos tien...   \n137  \\r\\nLa firma surcoreana Hyundai publicó los pr...   \n\n                                                 title  \\\n0    Las influencers tapatías que hacen temblar a Y...   \n1    El museo de Auschwitz pide ayuda para sobreviv...   \n2    Corte avala que funcionarios de Banxico, INE e...   \n3                                                  NaN   \n4           Héctor Suárez, zurdo y loco hasta el final   \n..                                                 ...   \n133  Coronavirus Jalisco: Casos confirmados de Covi...   \n134           Revelan identidad de La Parka en Tik Tok   \n135  “La angustia me invadió ante la posibilidad de...   \n136  El 80% de los restaurantes no tiene para el pa...   \n137        Hyundai Santa Fe 2021 se presenta en Europa   \n\n                                                   url newspaper_uid  \\\n0    http://www.unionjalisco.mx/articulo/2020/06/02...        elpais   \n1    http://www.eluniversal.com.mx/cultura/patrimon...        elpais   \n2    http://www.eluniversal.com.mx/nacion/corte-ava...        elpais   \n3    https://www.viveusa.mx/noticias/mosquitos-con-...        elpais   \n4    https://www.eluniversalqueretaro.mx/portada/he...        elpais   \n..                                                 ...           ...   \n133  http://www.eluniversal.com.mx/estados/coronavi...        elpais   \n134  http://www.eluniversal.com.mx/universal-deport...        elpais   \n135  https://sanluis.eluniversal.com.mx/sociedad/02...        elpais   \n136  https://www.eluniversalqueretaro.mx/portada/si...        elpais   \n137  http://www.eluniversal.com.mx/autopistas/hyund...        elpais   \n\n                            host  \n0            www.unionjalisco.mx  \n1         www.eluniversal.com.mx  \n2         www.eluniversal.com.mx  \n3                 www.viveusa.mx  \n4    www.eluniversalqueretaro.mx  \n..                           ...  \n133       www.eluniversal.com.mx  \n134       www.eluniversal.com.mx  \n135   sanluis.eluniversal.com.mx  \n136  www.eluniversalqueretaro.mx  \n137       www.eluniversal.com.mx  \n\n[138 rows x 5 columns]",
      "text/html": "<div>\n<style scoped>\n    .dataframe tbody tr th:only-of-type {\n        vertical-align: middle;\n    }\n\n    .dataframe tbody tr th {\n        vertical-align: top;\n    }\n\n    .dataframe thead th {\n        text-align: right;\n    }\n</style>\n<table border=\"1\" class=\"dataframe\">\n  <thead>\n    <tr style=\"text-align: right;\">\n      <th></th>\n      <th>body</th>\n      <th>title</th>\n      <th>url</th>\n      <th>newspaper_uid</th>\n      <th>host</th>\n    </tr>\n  </thead>\n  <tbody>\n    <tr>\n      <th>0</th>\n      <td>\\r\\n\\r\\n\\r\\n\\r\\n    googletag.cmd.push(functio...</td>\n      <td>Las influencers tapatías que hacen temblar a Y...</td>\n      <td>http://www.unionjalisco.mx/articulo/2020/06/02...</td>\n      <td>elpais</td>\n      <td>www.unionjalisco.mx</td>\n    </tr>\n    <tr>\n      <th>1</th>\n      <td>\\r\\nEl museo del antiguo campo nazi de la muer...</td>\n      <td>El museo de Auschwitz pide ayuda para sobreviv...</td>\n      <td>http://www.eluniversal.com.mx/cultura/patrimon...</td>\n      <td>elpais</td>\n      <td>www.eluniversal.com.mx</td>\n    </tr>\n    <tr>\n      <th>2</th>\n      <td>\\r\\nLa Suprema Corte de Justicia de la Nación ...</td>\n      <td>Corte avala que funcionarios de Banxico, INE e...</td>\n      <td>http://www.eluniversal.com.mx/nacion/corte-ava...</td>\n      <td>elpais</td>\n      <td>www.eluniversal.com.mx</td>\n    </tr>\n    <tr>\n      <th>3</th>\n      <td>\\r\\nUn grupo de funcionarios descubrió mosquit...</td>\n      <td>NaN</td>\n      <td>https://www.viveusa.mx/noticias/mosquitos-con-...</td>\n      <td>elpais</td>\n      <td>www.viveusa.mx</td>\n    </tr>\n    <tr>\n      <th>4</th>\n      <td>\\r\\nEn 1980, Héctor Suárez y Leticia Perdigón ...</td>\n      <td>Héctor Suárez, zurdo y loco hasta el final</td>\n      <td>https://www.eluniversalqueretaro.mx/portada/he...</td>\n      <td>elpais</td>\n      <td>www.eluniversalqueretaro.mx</td>\n    </tr>\n    <tr>\n      <th>...</th>\n      <td>...</td>\n      <td>...</td>\n      <td>...</td>\n      <td>...</td>\n      <td>...</td>\n    </tr>\n    <tr>\n      <th>133</th>\n      <td>\\r\\n\\r\\nJalisco tiene 2 mil 25 casos confirmad...</td>\n      <td>Coronavirus Jalisco: Casos confirmados de Covi...</td>\n      <td>http://www.eluniversal.com.mx/estados/coronavi...</td>\n      <td>elpais</td>\n      <td>www.eluniversal.com.mx</td>\n    </tr>\n    <tr>\n      <th>134</th>\n      <td>\\r\\nLa identidad de Jesús Alfonso Escoboza, me...</td>\n      <td>Revelan identidad de La Parka en Tik Tok</td>\n      <td>http://www.eluniversal.com.mx/universal-deport...</td>\n      <td>elpais</td>\n      <td>www.eluniversal.com.mx</td>\n    </tr>\n    <tr>\n      <th>135</th>\n      <td>\\r\\n“Fueron días muy duros para mí y mi famili...</td>\n      <td>“La angustia me invadió ante la posibilidad de...</td>\n      <td>https://sanluis.eluniversal.com.mx/sociedad/02...</td>\n      <td>elpais</td>\n      <td>sanluis.eluniversal.com.mx</td>\n    </tr>\n    <tr>\n      <th>136</th>\n      <td>\\r\\nEl 80% de los restaurantes queretanos tien...</td>\n      <td>El 80% de los restaurantes no tiene para el pa...</td>\n      <td>https://www.eluniversalqueretaro.mx/portada/si...</td>\n      <td>elpais</td>\n      <td>www.eluniversalqueretaro.mx</td>\n    </tr>\n    <tr>\n      <th>137</th>\n      <td>\\r\\nLa firma surcoreana Hyundai publicó los pr...</td>\n      <td>Hyundai Santa Fe 2021 se presenta en Europa</td>\n      <td>http://www.eluniversal.com.mx/autopistas/hyund...</td>\n      <td>elpais</td>\n      <td>www.eluniversal.com.mx</td>\n    </tr>\n  </tbody>\n</table>\n<p>138 rows × 5 columns</p>\n</div>"
     },
     "metadata": {}
    }
   ],
   "execution_count": 14
  },
  {
   "cell_type": "code",
   "source": "el_universal['host'].value_counts()",
   "metadata": {
    "tags": [],
    "cell_id": "00023-11209c70-32d4-4d43-b5e0-208b21c408ed",
    "deepnote_to_be_reexecuted": false,
    "source_hash": "cfcdb2d7",
    "execution_start": 1629937235501,
    "execution_millis": 6,
    "deepnote_cell_type": "code"
   },
   "outputs": [
    {
     "output_type": "execute_result",
     "execution_count": 16,
     "data": {
      "text/plain": "www.eluniversal.com.mx         79\nwww.viveusa.mx                 14\nde10.com.mx                     8\nsanluis.eluniversal.com.mx      6\nwww.eluniversalqueretaro.mx     6\nwww.elgrafico.mx                5\noaxaca.eluniversal.com.mx       5\nwww.unionyucatan.mx             4\nwww.unionjalisco.mx             3\nwww.unionpuebla.mx              2\nwww.unioncdmx.mx                2\nwww.unionguanajuato.mx          2\nwww.clubeluniversal.mx          1\nwww.unionedomex.mx              1\nName: host, dtype: int64"
     },
     "metadata": {}
    }
   ],
   "execution_count": 16
  },
  {
   "cell_type": "markdown",
   "source": "<a style='text-decoration:none;line-height:16px;display:flex;color:#5B5B62;padding:10px;justify-content:end;' href='https://deepnote.com?utm_source=created-in-deepnote-cell&projectId=f316d070-7577-4574-9433-84366e14acae' target=\"_blank\">\n<img alt='Created in deepnote.com' style='display:inline;max-height:16px;margin:0px;margin-right:7.5px;' src='data:image/svg+xml;base64,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' > </img>\nCreated in <span style='font-weight:600;margin-left:4px;'>Deepnote</span></a>",
   "metadata": {
    "tags": [],
    "created_in_deepnote_cell": true,
    "deepnote_cell_type": "markdown"
   }
  }
 ],
 "nbformat": 4,
 "nbformat_minor": 2,
 "metadata": {
  "orig_nbformat": 2,
  "deepnote": {
   "is_reactive": false
  },
  "deepnote_notebook_id": "b3bfb77a-e67e-41bf-beee-8f927913fcb4",
  "deepnote_execution_queue": []
 }
}